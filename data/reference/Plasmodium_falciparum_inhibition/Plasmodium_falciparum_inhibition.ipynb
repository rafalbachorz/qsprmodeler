{
 "cells": [
  {
   "cell_type": "markdown",
   "metadata": {},
   "source": [
    "# Data source: https://pubchem.ncbi.nlm.nih.gov/bioassay/449704"
   ]
  },
  {
   "cell_type": "code",
   "execution_count": 1,
   "metadata": {},
   "outputs": [],
   "source": [
    "import pandas as pd"
   ]
  },
  {
   "cell_type": "code",
   "execution_count": 2,
   "metadata": {},
   "outputs": [],
   "source": [
    "data = pd.read_excel('initials_from_PUBCHEM.xlsx', header=None)"
   ]
  },
  {
   "cell_type": "code",
   "execution_count": 3,
   "metadata": {},
   "outputs": [
    {
     "data": {
      "text/html": [
       "<div>\n",
       "<style scoped>\n",
       "    .dataframe tbody tr th:only-of-type {\n",
       "        vertical-align: middle;\n",
       "    }\n",
       "\n",
       "    .dataframe tbody tr th {\n",
       "        vertical-align: top;\n",
       "    }\n",
       "\n",
       "    .dataframe thead th {\n",
       "        text-align: right;\n",
       "    }\n",
       "</style>\n",
       "<table border=\"1\" class=\"dataframe\">\n",
       "  <thead>\n",
       "    <tr style=\"text-align: right;\">\n",
       "      <th></th>\n",
       "      <th>0</th>\n",
       "      <th>1</th>\n",
       "      <th>2</th>\n",
       "      <th>3</th>\n",
       "      <th>4</th>\n",
       "      <th>5</th>\n",
       "      <th>6</th>\n",
       "      <th>7</th>\n",
       "      <th>8</th>\n",
       "      <th>9</th>\n",
       "      <th>10</th>\n",
       "      <th>11</th>\n",
       "    </tr>\n",
       "  </thead>\n",
       "  <tbody>\n",
       "    <tr>\n",
       "      <th>0</th>\n",
       "      <td>1</td>\n",
       "      <td>103163899</td>\n",
       "      <td>2807642.0</td>\n",
       "      <td>Active</td>\n",
       "      <td>NaN</td>\n",
       "      <td>NaN</td>\n",
       "      <td>NaN</td>\n",
       "      <td>0.54000</td>\n",
       "      <td>EC50</td>\n",
       "      <td>=</td>\n",
       "      <td>540.00</td>\n",
       "      <td>nM</td>\n",
       "    </tr>\n",
       "    <tr>\n",
       "      <th>1</th>\n",
       "      <td>2</td>\n",
       "      <td>103164645</td>\n",
       "      <td>3239884.0</td>\n",
       "      <td>Unspecified</td>\n",
       "      <td>NaN</td>\n",
       "      <td>NaN</td>\n",
       "      <td>NaN</td>\n",
       "      <td>1.25000</td>\n",
       "      <td>EC50</td>\n",
       "      <td>&gt;</td>\n",
       "      <td>1250.00</td>\n",
       "      <td>nM</td>\n",
       "    </tr>\n",
       "    <tr>\n",
       "      <th>2</th>\n",
       "      <td>3</td>\n",
       "      <td>103164647</td>\n",
       "      <td>98652.0</td>\n",
       "      <td>Active</td>\n",
       "      <td>NaN</td>\n",
       "      <td>NaN</td>\n",
       "      <td>NaN</td>\n",
       "      <td>1.70900</td>\n",
       "      <td>EC50</td>\n",
       "      <td>=</td>\n",
       "      <td>1709.00</td>\n",
       "      <td>nM</td>\n",
       "    </tr>\n",
       "    <tr>\n",
       "      <th>3</th>\n",
       "      <td>4</td>\n",
       "      <td>103164913</td>\n",
       "      <td>198062.0</td>\n",
       "      <td>Unspecified</td>\n",
       "      <td>NaN</td>\n",
       "      <td>NaN</td>\n",
       "      <td>NaN</td>\n",
       "      <td>1.25000</td>\n",
       "      <td>EC50</td>\n",
       "      <td>&gt;</td>\n",
       "      <td>1250.00</td>\n",
       "      <td>nM</td>\n",
       "    </tr>\n",
       "    <tr>\n",
       "      <th>4</th>\n",
       "      <td>5</td>\n",
       "      <td>103165594</td>\n",
       "      <td>4993.0</td>\n",
       "      <td>Active</td>\n",
       "      <td>NaN</td>\n",
       "      <td>NaN</td>\n",
       "      <td>NaN</td>\n",
       "      <td>0.01456</td>\n",
       "      <td>EC50</td>\n",
       "      <td>=</td>\n",
       "      <td>14.56</td>\n",
       "      <td>nM</td>\n",
       "    </tr>\n",
       "  </tbody>\n",
       "</table>\n",
       "</div>"
      ],
      "text/plain": [
       "   0          1          2            3   4   5    6        7     8  9   \\\n",
       "0   1  103163899  2807642.0       Active NaN NaN  NaN  0.54000  EC50  =   \n",
       "1   2  103164645  3239884.0  Unspecified NaN NaN  NaN  1.25000  EC50  >   \n",
       "2   3  103164647    98652.0       Active NaN NaN  NaN  1.70900  EC50  =   \n",
       "3   4  103164913   198062.0  Unspecified NaN NaN  NaN  1.25000  EC50  >   \n",
       "4   5  103165594     4993.0       Active NaN NaN  NaN  0.01456  EC50  =   \n",
       "\n",
       "        10  11  \n",
       "0   540.00  nM  \n",
       "1  1250.00  nM  \n",
       "2  1709.00  nM  \n",
       "3  1250.00  nM  \n",
       "4    14.56  nM  "
      ]
     },
     "execution_count": 3,
     "metadata": {},
     "output_type": "execute_result"
    }
   ],
   "source": [
    "data.head()"
   ]
  },
  {
   "cell_type": "code",
   "execution_count": 4,
   "metadata": {},
   "outputs": [],
   "source": [
    "rename = {1: 'PUBCHEM_SID', 2: 'PUBCHEM_CID', 3:'PUBCHEM_ACTIVITY_OUTCOME', 7:'PubChem Standard Value', 8:'Standard Type',\n",
    "         9: 'Standard Relation', 10: 'Standard Value', 11: 'Standard Units'}"
   ]
  },
  {
   "cell_type": "code",
   "execution_count": 5,
   "metadata": {},
   "outputs": [
    {
     "data": {
      "text/html": [
       "<div>\n",
       "<style scoped>\n",
       "    .dataframe tbody tr th:only-of-type {\n",
       "        vertical-align: middle;\n",
       "    }\n",
       "\n",
       "    .dataframe tbody tr th {\n",
       "        vertical-align: top;\n",
       "    }\n",
       "\n",
       "    .dataframe thead th {\n",
       "        text-align: right;\n",
       "    }\n",
       "</style>\n",
       "<table border=\"1\" class=\"dataframe\">\n",
       "  <thead>\n",
       "    <tr style=\"text-align: right;\">\n",
       "      <th></th>\n",
       "      <th>0</th>\n",
       "      <th>PUBCHEM_SID</th>\n",
       "      <th>PUBCHEM_CID</th>\n",
       "      <th>PUBCHEM_ACTIVITY_OUTCOME</th>\n",
       "      <th>4</th>\n",
       "      <th>5</th>\n",
       "      <th>6</th>\n",
       "      <th>PubChem Standard Value</th>\n",
       "      <th>Standard Type</th>\n",
       "      <th>Standard Relation</th>\n",
       "      <th>Standard Value</th>\n",
       "      <th>Standard Units</th>\n",
       "    </tr>\n",
       "  </thead>\n",
       "  <tbody>\n",
       "    <tr>\n",
       "      <th>0</th>\n",
       "      <td>1</td>\n",
       "      <td>103163899</td>\n",
       "      <td>2807642.0</td>\n",
       "      <td>Active</td>\n",
       "      <td>NaN</td>\n",
       "      <td>NaN</td>\n",
       "      <td>NaN</td>\n",
       "      <td>0.54000</td>\n",
       "      <td>EC50</td>\n",
       "      <td>=</td>\n",
       "      <td>540.00</td>\n",
       "      <td>nM</td>\n",
       "    </tr>\n",
       "    <tr>\n",
       "      <th>1</th>\n",
       "      <td>2</td>\n",
       "      <td>103164645</td>\n",
       "      <td>3239884.0</td>\n",
       "      <td>Unspecified</td>\n",
       "      <td>NaN</td>\n",
       "      <td>NaN</td>\n",
       "      <td>NaN</td>\n",
       "      <td>1.25000</td>\n",
       "      <td>EC50</td>\n",
       "      <td>&gt;</td>\n",
       "      <td>1250.00</td>\n",
       "      <td>nM</td>\n",
       "    </tr>\n",
       "    <tr>\n",
       "      <th>2</th>\n",
       "      <td>3</td>\n",
       "      <td>103164647</td>\n",
       "      <td>98652.0</td>\n",
       "      <td>Active</td>\n",
       "      <td>NaN</td>\n",
       "      <td>NaN</td>\n",
       "      <td>NaN</td>\n",
       "      <td>1.70900</td>\n",
       "      <td>EC50</td>\n",
       "      <td>=</td>\n",
       "      <td>1709.00</td>\n",
       "      <td>nM</td>\n",
       "    </tr>\n",
       "    <tr>\n",
       "      <th>3</th>\n",
       "      <td>4</td>\n",
       "      <td>103164913</td>\n",
       "      <td>198062.0</td>\n",
       "      <td>Unspecified</td>\n",
       "      <td>NaN</td>\n",
       "      <td>NaN</td>\n",
       "      <td>NaN</td>\n",
       "      <td>1.25000</td>\n",
       "      <td>EC50</td>\n",
       "      <td>&gt;</td>\n",
       "      <td>1250.00</td>\n",
       "      <td>nM</td>\n",
       "    </tr>\n",
       "    <tr>\n",
       "      <th>4</th>\n",
       "      <td>5</td>\n",
       "      <td>103165594</td>\n",
       "      <td>4993.0</td>\n",
       "      <td>Active</td>\n",
       "      <td>NaN</td>\n",
       "      <td>NaN</td>\n",
       "      <td>NaN</td>\n",
       "      <td>0.01456</td>\n",
       "      <td>EC50</td>\n",
       "      <td>=</td>\n",
       "      <td>14.56</td>\n",
       "      <td>nM</td>\n",
       "    </tr>\n",
       "  </tbody>\n",
       "</table>\n",
       "</div>"
      ],
      "text/plain": [
       "   0  PUBCHEM_SID  PUBCHEM_CID PUBCHEM_ACTIVITY_OUTCOME   4   5    6  \\\n",
       "0  1    103163899    2807642.0                   Active NaN NaN  NaN   \n",
       "1  2    103164645    3239884.0              Unspecified NaN NaN  NaN   \n",
       "2  3    103164647      98652.0                   Active NaN NaN  NaN   \n",
       "3  4    103164913     198062.0              Unspecified NaN NaN  NaN   \n",
       "4  5    103165594       4993.0                   Active NaN NaN  NaN   \n",
       "\n",
       "   PubChem Standard Value Standard Type Standard Relation  Standard Value  \\\n",
       "0                 0.54000          EC50                 =          540.00   \n",
       "1                 1.25000          EC50                 >         1250.00   \n",
       "2                 1.70900          EC50                 =         1709.00   \n",
       "3                 1.25000          EC50                 >         1250.00   \n",
       "4                 0.01456          EC50                 =           14.56   \n",
       "\n",
       "  Standard Units  \n",
       "0             nM  \n",
       "1             nM  \n",
       "2             nM  \n",
       "3             nM  \n",
       "4             nM  "
      ]
     },
     "execution_count": 5,
     "metadata": {},
     "output_type": "execute_result"
    }
   ],
   "source": [
    "data = data.rename(columns=rename)\n",
    "data.head()"
   ]
  },
  {
   "cell_type": "code",
   "execution_count": 6,
   "metadata": {},
   "outputs": [
    {
     "data": {
      "text/plain": [
       "array(['Active', 'Unspecified', 'Inconclusive'], dtype=object)"
      ]
     },
     "execution_count": 6,
     "metadata": {},
     "output_type": "execute_result"
    }
   ],
   "source": [
    "data['PUBCHEM_ACTIVITY_OUTCOME'].unique()"
   ]
  },
  {
   "cell_type": "code",
   "execution_count": 7,
   "metadata": {},
   "outputs": [
    {
     "data": {
      "text/plain": [
       "array(['nM', nan], dtype=object)"
      ]
     },
     "execution_count": 7,
     "metadata": {},
     "output_type": "execute_result"
    }
   ],
   "source": [
    "data['Standard Units'].unique()"
   ]
  },
  {
   "cell_type": "code",
   "execution_count": 8,
   "metadata": {},
   "outputs": [],
   "source": [
    "check_nan = data[data['Standard Units'] != 'nM']"
   ]
  },
  {
   "cell_type": "code",
   "execution_count": 9,
   "metadata": {},
   "outputs": [
    {
     "data": {
      "text/plain": [
       "(13, 12)"
      ]
     },
     "execution_count": 9,
     "metadata": {},
     "output_type": "execute_result"
    }
   ],
   "source": [
    "check_nan.shape #to be removed"
   ]
  },
  {
   "cell_type": "code",
   "execution_count": 10,
   "metadata": {},
   "outputs": [],
   "source": [
    "to_be_used = data[data['Standard Units'] == 'nM']"
   ]
  },
  {
   "cell_type": "code",
   "execution_count": 11,
   "metadata": {},
   "outputs": [
    {
     "data": {
      "text/plain": [
       "(5684, 12)"
      ]
     },
     "execution_count": 11,
     "metadata": {},
     "output_type": "execute_result"
    }
   ],
   "source": [
    "to_be_used.shape"
   ]
  },
  {
   "cell_type": "code",
   "execution_count": 12,
   "metadata": {},
   "outputs": [],
   "source": [
    "to_be_used = to_be_used.reset_index()"
   ]
  },
  {
   "cell_type": "code",
   "execution_count": 13,
   "metadata": {},
   "outputs": [
    {
     "data": {
      "text/html": [
       "<div>\n",
       "<style scoped>\n",
       "    .dataframe tbody tr th:only-of-type {\n",
       "        vertical-align: middle;\n",
       "    }\n",
       "\n",
       "    .dataframe tbody tr th {\n",
       "        vertical-align: top;\n",
       "    }\n",
       "\n",
       "    .dataframe thead th {\n",
       "        text-align: right;\n",
       "    }\n",
       "</style>\n",
       "<table border=\"1\" class=\"dataframe\">\n",
       "  <thead>\n",
       "    <tr style=\"text-align: right;\">\n",
       "      <th></th>\n",
       "      <th>index</th>\n",
       "      <th>0</th>\n",
       "      <th>PUBCHEM_SID</th>\n",
       "      <th>PUBCHEM_CID</th>\n",
       "      <th>PUBCHEM_ACTIVITY_OUTCOME</th>\n",
       "      <th>4</th>\n",
       "      <th>5</th>\n",
       "      <th>6</th>\n",
       "      <th>PubChem Standard Value</th>\n",
       "      <th>Standard Type</th>\n",
       "      <th>Standard Relation</th>\n",
       "      <th>Standard Value</th>\n",
       "      <th>Standard Units</th>\n",
       "    </tr>\n",
       "  </thead>\n",
       "  <tbody>\n",
       "    <tr>\n",
       "      <th>0</th>\n",
       "      <td>0</td>\n",
       "      <td>1</td>\n",
       "      <td>103163899</td>\n",
       "      <td>2807642.0</td>\n",
       "      <td>Active</td>\n",
       "      <td>NaN</td>\n",
       "      <td>NaN</td>\n",
       "      <td>NaN</td>\n",
       "      <td>0.54000</td>\n",
       "      <td>EC50</td>\n",
       "      <td>=</td>\n",
       "      <td>540.00</td>\n",
       "      <td>nM</td>\n",
       "    </tr>\n",
       "    <tr>\n",
       "      <th>1</th>\n",
       "      <td>1</td>\n",
       "      <td>2</td>\n",
       "      <td>103164645</td>\n",
       "      <td>3239884.0</td>\n",
       "      <td>Unspecified</td>\n",
       "      <td>NaN</td>\n",
       "      <td>NaN</td>\n",
       "      <td>NaN</td>\n",
       "      <td>1.25000</td>\n",
       "      <td>EC50</td>\n",
       "      <td>&gt;</td>\n",
       "      <td>1250.00</td>\n",
       "      <td>nM</td>\n",
       "    </tr>\n",
       "    <tr>\n",
       "      <th>2</th>\n",
       "      <td>2</td>\n",
       "      <td>3</td>\n",
       "      <td>103164647</td>\n",
       "      <td>98652.0</td>\n",
       "      <td>Active</td>\n",
       "      <td>NaN</td>\n",
       "      <td>NaN</td>\n",
       "      <td>NaN</td>\n",
       "      <td>1.70900</td>\n",
       "      <td>EC50</td>\n",
       "      <td>=</td>\n",
       "      <td>1709.00</td>\n",
       "      <td>nM</td>\n",
       "    </tr>\n",
       "    <tr>\n",
       "      <th>3</th>\n",
       "      <td>3</td>\n",
       "      <td>4</td>\n",
       "      <td>103164913</td>\n",
       "      <td>198062.0</td>\n",
       "      <td>Unspecified</td>\n",
       "      <td>NaN</td>\n",
       "      <td>NaN</td>\n",
       "      <td>NaN</td>\n",
       "      <td>1.25000</td>\n",
       "      <td>EC50</td>\n",
       "      <td>&gt;</td>\n",
       "      <td>1250.00</td>\n",
       "      <td>nM</td>\n",
       "    </tr>\n",
       "    <tr>\n",
       "      <th>4</th>\n",
       "      <td>4</td>\n",
       "      <td>5</td>\n",
       "      <td>103165594</td>\n",
       "      <td>4993.0</td>\n",
       "      <td>Active</td>\n",
       "      <td>NaN</td>\n",
       "      <td>NaN</td>\n",
       "      <td>NaN</td>\n",
       "      <td>0.01456</td>\n",
       "      <td>EC50</td>\n",
       "      <td>=</td>\n",
       "      <td>14.56</td>\n",
       "      <td>nM</td>\n",
       "    </tr>\n",
       "  </tbody>\n",
       "</table>\n",
       "</div>"
      ],
      "text/plain": [
       "   index  0  PUBCHEM_SID  PUBCHEM_CID PUBCHEM_ACTIVITY_OUTCOME   4   5    6  \\\n",
       "0      0  1    103163899    2807642.0                   Active NaN NaN  NaN   \n",
       "1      1  2    103164645    3239884.0              Unspecified NaN NaN  NaN   \n",
       "2      2  3    103164647      98652.0                   Active NaN NaN  NaN   \n",
       "3      3  4    103164913     198062.0              Unspecified NaN NaN  NaN   \n",
       "4      4  5    103165594       4993.0                   Active NaN NaN  NaN   \n",
       "\n",
       "   PubChem Standard Value Standard Type Standard Relation  Standard Value  \\\n",
       "0                 0.54000          EC50                 =          540.00   \n",
       "1                 1.25000          EC50                 >         1250.00   \n",
       "2                 1.70900          EC50                 =         1709.00   \n",
       "3                 1.25000          EC50                 >         1250.00   \n",
       "4                 0.01456          EC50                 =           14.56   \n",
       "\n",
       "  Standard Units  \n",
       "0             nM  \n",
       "1             nM  \n",
       "2             nM  \n",
       "3             nM  \n",
       "4             nM  "
      ]
     },
     "execution_count": 13,
     "metadata": {},
     "output_type": "execute_result"
    }
   ],
   "source": [
    "to_be_used.head()"
   ]
  },
  {
   "cell_type": "code",
   "execution_count": 14,
   "metadata": {},
   "outputs": [],
   "source": [
    "to_be_used = to_be_used.drop(columns=['index'])"
   ]
  },
  {
   "cell_type": "code",
   "execution_count": 15,
   "metadata": {},
   "outputs": [
    {
     "data": {
      "text/plain": [
       "0                                  4058\n",
       "PUBCHEM_SID                   103713097\n",
       "PUBCHEM_CID                 2.85869e+06\n",
       "PUBCHEM_ACTIVITY_OUTCOME         Active\n",
       "4                                   NaN\n",
       "5                                   NaN\n",
       "6                                   NaN\n",
       "PubChem Standard Value           0.1899\n",
       "Standard Type                      EC50\n",
       "Standard Relation                     =\n",
       "Standard Value                    189.9\n",
       "Standard Units                       nM\n",
       "Name: 4045, dtype: object"
      ]
     },
     "execution_count": 15,
     "metadata": {},
     "output_type": "execute_result"
    }
   ],
   "source": [
    "to_be_used.iloc[4045]"
   ]
  },
  {
   "cell_type": "code",
   "execution_count": 16,
   "metadata": {},
   "outputs": [
    {
     "name": "stdout",
     "output_type": "stream",
     "text": [
      "Not found CID: nan\n",
      "Not found SID: 103709517\n",
      "Not found CID: nan\n",
      "Not found SID: 103711967\n",
      "Not found CID: nan\n",
      "Not found SID: 103714144\n"
     ]
    },
    {
     "data": {
      "text/plain": [
       "[Compound(2807642),\n",
       " Compound(3239884),\n",
       " Compound(98652),\n",
       " Compound(198062),\n",
       " Compound(4993)]"
      ]
     },
     "execution_count": 16,
     "metadata": {},
     "output_type": "execute_result"
    }
   ],
   "source": [
    "import pubchempy as pcp\n",
    "compounds_l = []\n",
    "for x in range(len(to_be_used)):\n",
    "    try:\n",
    "        if to_be_used['PUBCHEM_CID'][x] > 1:\n",
    "            \n",
    "            compound = pcp.Compound.from_cid(int(to_be_used['PUBCHEM_CID'][x]))\n",
    "            compounds_l.append(compound)\n",
    "        else:\n",
    "            compound = pcp.Substance.from_sid(int(to_be_used['PUBCHEM_SID'][x]))\n",
    "            compound = compound.standardized_compound\n",
    "            compounds_l.append(compound)\n",
    "    except:\n",
    "        print(\"Not found CID: \"+str(to_be_used['PUBCHEM_CID'][x])) #CID\n",
    "        print(\"Not found SID: \"+str(to_be_used['PUBCHEM_SID'][x])) #CID\n",
    "compounds_l[0:5]"
   ]
  },
  {
   "cell_type": "code",
   "execution_count": 17,
   "metadata": {},
   "outputs": [],
   "source": [
    "### maybe this lines can be inserted above (so we can know where we actually are)\n",
    "#print(to_be_used['PUBCHEM_CID'][x])\n",
    "#print(to_be_used['PUBCHEM_SID'][x])"
   ]
  },
  {
   "cell_type": "markdown",
   "metadata": {},
   "source": [
    "## The structures with SID 103709517, 103711967 and 103714144 are not available"
   ]
  },
  {
   "cell_type": "code",
   "execution_count": 18,
   "metadata": {},
   "outputs": [
    {
     "data": {
      "text/plain": [
       "5681"
      ]
     },
     "execution_count": 18,
     "metadata": {},
     "output_type": "execute_result"
    }
   ],
   "source": [
    "len(compounds_l)"
   ]
  },
  {
   "cell_type": "code",
   "execution_count": 19,
   "metadata": {},
   "outputs": [],
   "source": [
    "to_be_used = to_be_used[to_be_used['PUBCHEM_SID'] != 103709517]\n",
    "to_be_used = to_be_used[to_be_used['PUBCHEM_SID'] != 103711967]\n",
    "to_be_used = to_be_used[to_be_used['PUBCHEM_SID'] != 103714144]"
   ]
  },
  {
   "cell_type": "code",
   "execution_count": 20,
   "metadata": {},
   "outputs": [
    {
     "data": {
      "text/plain": [
       "5681"
      ]
     },
     "execution_count": 20,
     "metadata": {},
     "output_type": "execute_result"
    }
   ],
   "source": [
    "len(to_be_used)"
   ]
  },
  {
   "cell_type": "code",
   "execution_count": 28,
   "metadata": {},
   "outputs": [
    {
     "data": {
      "text/html": [
       "<div>\n",
       "<style scoped>\n",
       "    .dataframe tbody tr th:only-of-type {\n",
       "        vertical-align: middle;\n",
       "    }\n",
       "\n",
       "    .dataframe tbody tr th {\n",
       "        vertical-align: top;\n",
       "    }\n",
       "\n",
       "    .dataframe thead th {\n",
       "        text-align: right;\n",
       "    }\n",
       "</style>\n",
       "<table border=\"1\" class=\"dataframe\">\n",
       "  <thead>\n",
       "    <tr style=\"text-align: right;\">\n",
       "      <th></th>\n",
       "      <th>0</th>\n",
       "      <th>PUBCHEM_SID</th>\n",
       "      <th>PUBCHEM_CID</th>\n",
       "      <th>PUBCHEM_ACTIVITY_OUTCOME</th>\n",
       "      <th>4</th>\n",
       "      <th>5</th>\n",
       "      <th>6</th>\n",
       "      <th>PubChem Standard Value</th>\n",
       "      <th>Standard Type</th>\n",
       "      <th>Standard Relation</th>\n",
       "      <th>Standard Value</th>\n",
       "      <th>Standard Units</th>\n",
       "      <th>CID</th>\n",
       "    </tr>\n",
       "  </thead>\n",
       "  <tbody>\n",
       "    <tr>\n",
       "      <th>0</th>\n",
       "      <td>1</td>\n",
       "      <td>103163899</td>\n",
       "      <td>2807642.0</td>\n",
       "      <td>Active</td>\n",
       "      <td>NaN</td>\n",
       "      <td>NaN</td>\n",
       "      <td>NaN</td>\n",
       "      <td>0.54000</td>\n",
       "      <td>EC50</td>\n",
       "      <td>=</td>\n",
       "      <td>540.00</td>\n",
       "      <td>nM</td>\n",
       "      <td>2807642</td>\n",
       "    </tr>\n",
       "    <tr>\n",
       "      <th>1</th>\n",
       "      <td>2</td>\n",
       "      <td>103164645</td>\n",
       "      <td>3239884.0</td>\n",
       "      <td>Unspecified</td>\n",
       "      <td>NaN</td>\n",
       "      <td>NaN</td>\n",
       "      <td>NaN</td>\n",
       "      <td>1.25000</td>\n",
       "      <td>EC50</td>\n",
       "      <td>&gt;</td>\n",
       "      <td>1250.00</td>\n",
       "      <td>nM</td>\n",
       "      <td>3239884</td>\n",
       "    </tr>\n",
       "    <tr>\n",
       "      <th>2</th>\n",
       "      <td>3</td>\n",
       "      <td>103164647</td>\n",
       "      <td>98652.0</td>\n",
       "      <td>Active</td>\n",
       "      <td>NaN</td>\n",
       "      <td>NaN</td>\n",
       "      <td>NaN</td>\n",
       "      <td>1.70900</td>\n",
       "      <td>EC50</td>\n",
       "      <td>=</td>\n",
       "      <td>1709.00</td>\n",
       "      <td>nM</td>\n",
       "      <td>98652</td>\n",
       "    </tr>\n",
       "    <tr>\n",
       "      <th>3</th>\n",
       "      <td>4</td>\n",
       "      <td>103164913</td>\n",
       "      <td>198062.0</td>\n",
       "      <td>Unspecified</td>\n",
       "      <td>NaN</td>\n",
       "      <td>NaN</td>\n",
       "      <td>NaN</td>\n",
       "      <td>1.25000</td>\n",
       "      <td>EC50</td>\n",
       "      <td>&gt;</td>\n",
       "      <td>1250.00</td>\n",
       "      <td>nM</td>\n",
       "      <td>198062</td>\n",
       "    </tr>\n",
       "    <tr>\n",
       "      <th>4</th>\n",
       "      <td>5</td>\n",
       "      <td>103165594</td>\n",
       "      <td>4993.0</td>\n",
       "      <td>Active</td>\n",
       "      <td>NaN</td>\n",
       "      <td>NaN</td>\n",
       "      <td>NaN</td>\n",
       "      <td>0.01456</td>\n",
       "      <td>EC50</td>\n",
       "      <td>=</td>\n",
       "      <td>14.56</td>\n",
       "      <td>nM</td>\n",
       "      <td>4993</td>\n",
       "    </tr>\n",
       "    <tr>\n",
       "      <th>...</th>\n",
       "      <td>...</td>\n",
       "      <td>...</td>\n",
       "      <td>...</td>\n",
       "      <td>...</td>\n",
       "      <td>...</td>\n",
       "      <td>...</td>\n",
       "      <td>...</td>\n",
       "      <td>...</td>\n",
       "      <td>...</td>\n",
       "      <td>...</td>\n",
       "      <td>...</td>\n",
       "      <td>...</td>\n",
       "      <td>...</td>\n",
       "    </tr>\n",
       "    <tr>\n",
       "      <th>5679</th>\n",
       "      <td>5693</td>\n",
       "      <td>242584336</td>\n",
       "      <td>135843364.0</td>\n",
       "      <td>Active</td>\n",
       "      <td>NaN</td>\n",
       "      <td>NaN</td>\n",
       "      <td>NaN</td>\n",
       "      <td>0.75200</td>\n",
       "      <td>EC50</td>\n",
       "      <td>=</td>\n",
       "      <td>752.00</td>\n",
       "      <td>nM</td>\n",
       "      <td>242584336</td>\n",
       "    </tr>\n",
       "    <tr>\n",
       "      <th>5680</th>\n",
       "      <td>5694</td>\n",
       "      <td>242584337</td>\n",
       "      <td>45488392.0</td>\n",
       "      <td>Unspecified</td>\n",
       "      <td>NaN</td>\n",
       "      <td>NaN</td>\n",
       "      <td>NaN</td>\n",
       "      <td>1.25000</td>\n",
       "      <td>EC50</td>\n",
       "      <td>&gt;</td>\n",
       "      <td>1250.00</td>\n",
       "      <td>nM</td>\n",
       "      <td>242584337</td>\n",
       "    </tr>\n",
       "    <tr>\n",
       "      <th>5681</th>\n",
       "      <td>5695</td>\n",
       "      <td>242611572</td>\n",
       "      <td>80467.0</td>\n",
       "      <td>Active</td>\n",
       "      <td>NaN</td>\n",
       "      <td>NaN</td>\n",
       "      <td>NaN</td>\n",
       "      <td>0.05950</td>\n",
       "      <td>EC50</td>\n",
       "      <td>=</td>\n",
       "      <td>59.50</td>\n",
       "      <td>nM</td>\n",
       "      <td>242611572</td>\n",
       "    </tr>\n",
       "    <tr>\n",
       "      <th>5682</th>\n",
       "      <td>5696</td>\n",
       "      <td>242611800</td>\n",
       "      <td>12302978.0</td>\n",
       "      <td>Active</td>\n",
       "      <td>NaN</td>\n",
       "      <td>NaN</td>\n",
       "      <td>NaN</td>\n",
       "      <td>0.41800</td>\n",
       "      <td>EC50</td>\n",
       "      <td>=</td>\n",
       "      <td>418.00</td>\n",
       "      <td>nM</td>\n",
       "      <td>242611800</td>\n",
       "    </tr>\n",
       "    <tr>\n",
       "      <th>5683</th>\n",
       "      <td>5697</td>\n",
       "      <td>404719310</td>\n",
       "      <td>3090732.0</td>\n",
       "      <td>Active</td>\n",
       "      <td>NaN</td>\n",
       "      <td>NaN</td>\n",
       "      <td>NaN</td>\n",
       "      <td>0.39400</td>\n",
       "      <td>EC50</td>\n",
       "      <td>=</td>\n",
       "      <td>394.00</td>\n",
       "      <td>nM</td>\n",
       "      <td>404719310</td>\n",
       "    </tr>\n",
       "  </tbody>\n",
       "</table>\n",
       "<p>5681 rows × 13 columns</p>\n",
       "</div>"
      ],
      "text/plain": [
       "         0  PUBCHEM_SID  PUBCHEM_CID PUBCHEM_ACTIVITY_OUTCOME   4   5    6  \\\n",
       "0        1    103163899    2807642.0                   Active NaN NaN  NaN   \n",
       "1        2    103164645    3239884.0              Unspecified NaN NaN  NaN   \n",
       "2        3    103164647      98652.0                   Active NaN NaN  NaN   \n",
       "3        4    103164913     198062.0              Unspecified NaN NaN  NaN   \n",
       "4        5    103165594       4993.0                   Active NaN NaN  NaN   \n",
       "...    ...          ...          ...                      ...  ..  ..  ...   \n",
       "5679  5693    242584336  135843364.0                   Active NaN NaN  NaN   \n",
       "5680  5694    242584337   45488392.0              Unspecified NaN NaN  NaN   \n",
       "5681  5695    242611572      80467.0                   Active NaN NaN  NaN   \n",
       "5682  5696    242611800   12302978.0                   Active NaN NaN  NaN   \n",
       "5683  5697    404719310    3090732.0                   Active NaN NaN  NaN   \n",
       "\n",
       "      PubChem Standard Value Standard Type Standard Relation  Standard Value  \\\n",
       "0                    0.54000          EC50                 =          540.00   \n",
       "1                    1.25000          EC50                 >         1250.00   \n",
       "2                    1.70900          EC50                 =         1709.00   \n",
       "3                    1.25000          EC50                 >         1250.00   \n",
       "4                    0.01456          EC50                 =           14.56   \n",
       "...                      ...           ...               ...             ...   \n",
       "5679                 0.75200          EC50                 =          752.00   \n",
       "5680                 1.25000          EC50                 >         1250.00   \n",
       "5681                 0.05950          EC50                 =           59.50   \n",
       "5682                 0.41800          EC50                 =          418.00   \n",
       "5683                 0.39400          EC50                 =          394.00   \n",
       "\n",
       "     Standard Units        CID  \n",
       "0                nM    2807642  \n",
       "1                nM    3239884  \n",
       "2                nM      98652  \n",
       "3                nM     198062  \n",
       "4                nM       4993  \n",
       "...             ...        ...  \n",
       "5679             nM  242584336  \n",
       "5680             nM  242584337  \n",
       "5681             nM  242611572  \n",
       "5682             nM  242611800  \n",
       "5683             nM  404719310  \n",
       "\n",
       "[5681 rows x 13 columns]"
      ]
     },
     "execution_count": 28,
     "metadata": {},
     "output_type": "execute_result"
    }
   ],
   "source": [
    "to_be_used"
   ]
  },
  {
   "cell_type": "code",
   "execution_count": 29,
   "metadata": {},
   "outputs": [
    {
     "data": {
      "text/plain": [
       "['CCC1=CC2=C(S1)N=CN=C2SC3=NN=C(S3)N',\n",
       " 'CCOC(=O)C1=CC(=CC=C1)N2C(=NC(=NC2(C)C)N)N',\n",
       " 'C1=CC=C2C=C(C=CC2=C1)S(=O)(=O)C3=CC4=C(C=C3)N=C(N=C4N)N',\n",
       " 'CC1=C2C(=CC=C1)N=C(N=C2N)N',\n",
       " 'CCC1=C(C(=NC(=N1)N)N)C2=CC=C(C=C2)Cl']"
      ]
     },
     "execution_count": 29,
     "metadata": {},
     "output_type": "execute_result"
    }
   ],
   "source": [
    "isomeric_smiles = []\n",
    "for compound in compounds_l:\n",
    "    try:\n",
    "        \n",
    "        isomeric_smiles.append(compound.isomeric_smiles)\n",
    "    except:\n",
    "        isomeric_smiles.append('ERROR')\n",
    "isomeric_smiles[0:5]"
   ]
  },
  {
   "cell_type": "code",
   "execution_count": 30,
   "metadata": {},
   "outputs": [
    {
     "data": {
      "text/plain": [
       "5681"
      ]
     },
     "execution_count": 30,
     "metadata": {},
     "output_type": "execute_result"
    }
   ],
   "source": [
    "len(isomeric_smiles)"
   ]
  },
  {
   "cell_type": "code",
   "execution_count": 33,
   "metadata": {},
   "outputs": [
    {
     "name": "stderr",
     "output_type": "stream",
     "text": [
      "<ipython-input-33-8a02a6a13ac6>:9: SettingWithCopyWarning: \n",
      "A value is trying to be set on a copy of a slice from a DataFrame\n",
      "\n",
      "See the caveats in the documentation: https://pandas.pydata.org/pandas-docs/stable/user_guide/indexing.html#returning-a-view-versus-a-copy\n",
      "  to_be_used['CID'][x] = res\n"
     ]
    }
   ],
   "source": [
    "to_be_used['CID'] = to_be_used['PUBCHEM_SID']\n",
    "for x, string in enumerate(compounds_l):\n",
    "    newstring = ''.join((char if char in '0123456789.-e' else ' ') for char in str(string))\n",
    "    Number = [int(i) for i in newstring.split()]\n",
    "    num = Number[0]\n",
    "    if int(num) > 1:\n",
    "        \n",
    "        res = int(num)\n",
    "        to_be_used['CID'][x] = res\n",
    "    else:\n",
    "        pass"
   ]
  },
  {
   "cell_type": "code",
   "execution_count": 34,
   "metadata": {},
   "outputs": [
    {
     "data": {
      "text/plain": [
       "5684"
      ]
     },
     "execution_count": 34,
     "metadata": {},
     "output_type": "execute_result"
    }
   ],
   "source": [
    "len(to_be_used['CID'])"
   ]
  },
  {
   "cell_type": "code",
   "execution_count": 35,
   "metadata": {},
   "outputs": [
    {
     "data": {
      "text/plain": [
       "5598"
      ]
     },
     "execution_count": 35,
     "metadata": {},
     "output_type": "execute_result"
    }
   ],
   "source": [
    "len(to_be_used['CID'].unique())"
   ]
  },
  {
   "cell_type": "code",
   "execution_count": 39,
   "metadata": {},
   "outputs": [
    {
     "data": {
      "text/plain": [
       "0         2807642\n",
       "1         3239884\n",
       "2           98652\n",
       "3          198062\n",
       "4            4993\n",
       "          ...    \n",
       "5682    242611800\n",
       "5683    404719310\n",
       "516        827981\n",
       "2934      3636648\n",
       "5093       692374\n",
       "Name: CID, Length: 5684, dtype: int64"
      ]
     },
     "execution_count": 39,
     "metadata": {},
     "output_type": "execute_result"
    }
   ],
   "source": [
    "to_be_used['CID']"
   ]
  },
  {
   "cell_type": "code",
   "execution_count": 40,
   "metadata": {},
   "outputs": [
    {
     "data": {
      "text/plain": [
       "0       103163899\n",
       "1       103164645\n",
       "2       103164647\n",
       "3       103164913\n",
       "4       103165594\n",
       "          ...    \n",
       "5679    242584336\n",
       "5680    242584337\n",
       "5681    242611572\n",
       "5682    242611800\n",
       "5683    404719310\n",
       "Name: PUBCHEM_SID, Length: 5681, dtype: int64"
      ]
     },
     "execution_count": 40,
     "metadata": {},
     "output_type": "execute_result"
    }
   ],
   "source": [
    "to_be_used['PUBCHEM_SID']"
   ]
  },
  {
   "cell_type": "code",
   "execution_count": 42,
   "metadata": {},
   "outputs": [],
   "source": [
    "to_be_used['CID'] = to_be_used['CID'][:-3] ## some error"
   ]
  },
  {
   "cell_type": "code",
   "execution_count": 43,
   "metadata": {},
   "outputs": [],
   "source": [
    "final_df = pd.DataFrame(to_be_used['CID'], columns=['CID'])\n",
    "final_df['SMILES'] = isomeric_smiles\n",
    "final_df['target'] = to_be_used['Standard Value']"
   ]
  },
  {
   "cell_type": "code",
   "execution_count": 44,
   "metadata": {},
   "outputs": [
    {
     "data": {
      "text/html": [
       "<div>\n",
       "<style scoped>\n",
       "    .dataframe tbody tr th:only-of-type {\n",
       "        vertical-align: middle;\n",
       "    }\n",
       "\n",
       "    .dataframe tbody tr th {\n",
       "        vertical-align: top;\n",
       "    }\n",
       "\n",
       "    .dataframe thead th {\n",
       "        text-align: right;\n",
       "    }\n",
       "</style>\n",
       "<table border=\"1\" class=\"dataframe\">\n",
       "  <thead>\n",
       "    <tr style=\"text-align: right;\">\n",
       "      <th></th>\n",
       "      <th>CID</th>\n",
       "      <th>SMILES</th>\n",
       "      <th>target</th>\n",
       "    </tr>\n",
       "  </thead>\n",
       "  <tbody>\n",
       "    <tr>\n",
       "      <th>0</th>\n",
       "      <td>2807642</td>\n",
       "      <td>CCC1=CC2=C(S1)N=CN=C2SC3=NN=C(S3)N</td>\n",
       "      <td>540.00</td>\n",
       "    </tr>\n",
       "    <tr>\n",
       "      <th>1</th>\n",
       "      <td>3239884</td>\n",
       "      <td>CCOC(=O)C1=CC(=CC=C1)N2C(=NC(=NC2(C)C)N)N</td>\n",
       "      <td>1250.00</td>\n",
       "    </tr>\n",
       "    <tr>\n",
       "      <th>2</th>\n",
       "      <td>98652</td>\n",
       "      <td>C1=CC=C2C=C(C=CC2=C1)S(=O)(=O)C3=CC4=C(C=C3)N=...</td>\n",
       "      <td>1709.00</td>\n",
       "    </tr>\n",
       "    <tr>\n",
       "      <th>3</th>\n",
       "      <td>198062</td>\n",
       "      <td>CC1=C2C(=CC=C1)N=C(N=C2N)N</td>\n",
       "      <td>1250.00</td>\n",
       "    </tr>\n",
       "    <tr>\n",
       "      <th>4</th>\n",
       "      <td>4993</td>\n",
       "      <td>CCC1=C(C(=NC(=N1)N)N)C2=CC=C(C=C2)Cl</td>\n",
       "      <td>14.56</td>\n",
       "    </tr>\n",
       "  </tbody>\n",
       "</table>\n",
       "</div>"
      ],
      "text/plain": [
       "       CID                                             SMILES   target\n",
       "0  2807642                 CCC1=CC2=C(S1)N=CN=C2SC3=NN=C(S3)N   540.00\n",
       "1  3239884          CCOC(=O)C1=CC(=CC=C1)N2C(=NC(=NC2(C)C)N)N  1250.00\n",
       "2    98652  C1=CC=C2C=C(C=CC2=C1)S(=O)(=O)C3=CC4=C(C=C3)N=...  1709.00\n",
       "3   198062                         CC1=C2C(=CC=C1)N=C(N=C2N)N  1250.00\n",
       "4     4993               CCC1=C(C(=NC(=N1)N)N)C2=CC=C(C=C2)Cl    14.56"
      ]
     },
     "execution_count": 44,
     "metadata": {},
     "output_type": "execute_result"
    }
   ],
   "source": [
    "final_df.head()"
   ]
  },
  {
   "cell_type": "code",
   "execution_count": 45,
   "metadata": {},
   "outputs": [
    {
     "data": {
      "text/html": [
       "<div>\n",
       "<style scoped>\n",
       "    .dataframe tbody tr th:only-of-type {\n",
       "        vertical-align: middle;\n",
       "    }\n",
       "\n",
       "    .dataframe tbody tr th {\n",
       "        vertical-align: top;\n",
       "    }\n",
       "\n",
       "    .dataframe thead th {\n",
       "        text-align: right;\n",
       "    }\n",
       "</style>\n",
       "<table border=\"1\" class=\"dataframe\">\n",
       "  <thead>\n",
       "    <tr style=\"text-align: right;\">\n",
       "      <th></th>\n",
       "      <th>CID</th>\n",
       "      <th>SMILES</th>\n",
       "      <th>target</th>\n",
       "    </tr>\n",
       "  </thead>\n",
       "  <tbody>\n",
       "    <tr>\n",
       "      <th>0</th>\n",
       "      <td>2807642</td>\n",
       "      <td>CCC1=CC2=C(S1)N=CN=C2SC3=NN=C(S3)N</td>\n",
       "      <td>540.00</td>\n",
       "    </tr>\n",
       "    <tr>\n",
       "      <th>1</th>\n",
       "      <td>3239884</td>\n",
       "      <td>CCOC(=O)C1=CC(=CC=C1)N2C(=NC(=NC2(C)C)N)N</td>\n",
       "      <td>1250.00</td>\n",
       "    </tr>\n",
       "    <tr>\n",
       "      <th>2</th>\n",
       "      <td>98652</td>\n",
       "      <td>C1=CC=C2C=C(C=CC2=C1)S(=O)(=O)C3=CC4=C(C=C3)N=...</td>\n",
       "      <td>1709.00</td>\n",
       "    </tr>\n",
       "    <tr>\n",
       "      <th>3</th>\n",
       "      <td>198062</td>\n",
       "      <td>CC1=C2C(=CC=C1)N=C(N=C2N)N</td>\n",
       "      <td>1250.00</td>\n",
       "    </tr>\n",
       "    <tr>\n",
       "      <th>4</th>\n",
       "      <td>4993</td>\n",
       "      <td>CCC1=C(C(=NC(=N1)N)N)C2=CC=C(C=C2)Cl</td>\n",
       "      <td>14.56</td>\n",
       "    </tr>\n",
       "    <tr>\n",
       "      <th>...</th>\n",
       "      <td>...</td>\n",
       "      <td>...</td>\n",
       "      <td>...</td>\n",
       "    </tr>\n",
       "    <tr>\n",
       "      <th>5679</th>\n",
       "      <td>12302978</td>\n",
       "      <td>CC1=CC(=O)N(N1)C2=NC(=NC3=CC=CC=C32)C4=CC=CC=C4O</td>\n",
       "      <td>752.00</td>\n",
       "    </tr>\n",
       "    <tr>\n",
       "      <th>5680</th>\n",
       "      <td>3090732</td>\n",
       "      <td>CC1=C(C(=O)N(N1)C2=CC=CC=C2)C(=O)CN(C(C)C)C(=O...</td>\n",
       "      <td>1250.00</td>\n",
       "    </tr>\n",
       "    <tr>\n",
       "      <th>5681</th>\n",
       "      <td>242611572</td>\n",
       "      <td>C1=CC(=CC=C1C(=N)N)OCCCOC2=CC=C(C=C2)C(=N)N.Cl.Cl</td>\n",
       "      <td>59.50</td>\n",
       "    </tr>\n",
       "    <tr>\n",
       "      <th>5682</th>\n",
       "      <td>242611800</td>\n",
       "      <td>CC(CCCNC1=C2C(=CC(=C1)OC)C=CC=N2)N.Cl.Cl</td>\n",
       "      <td>418.00</td>\n",
       "    </tr>\n",
       "    <tr>\n",
       "      <th>5683</th>\n",
       "      <td>404719310</td>\n",
       "      <td>C1C(CC(OC1C2=CC=CC=C2)C3=CC=CC=C3)C4CC(OC(C4)C...</td>\n",
       "      <td>394.00</td>\n",
       "    </tr>\n",
       "  </tbody>\n",
       "</table>\n",
       "<p>5681 rows × 3 columns</p>\n",
       "</div>"
      ],
      "text/plain": [
       "            CID                                             SMILES   target\n",
       "0       2807642                 CCC1=CC2=C(S1)N=CN=C2SC3=NN=C(S3)N   540.00\n",
       "1       3239884          CCOC(=O)C1=CC(=CC=C1)N2C(=NC(=NC2(C)C)N)N  1250.00\n",
       "2         98652  C1=CC=C2C=C(C=CC2=C1)S(=O)(=O)C3=CC4=C(C=C3)N=...  1709.00\n",
       "3        198062                         CC1=C2C(=CC=C1)N=C(N=C2N)N  1250.00\n",
       "4          4993               CCC1=C(C(=NC(=N1)N)N)C2=CC=C(C=C2)Cl    14.56\n",
       "...         ...                                                ...      ...\n",
       "5679   12302978   CC1=CC(=O)N(N1)C2=NC(=NC3=CC=CC=C32)C4=CC=CC=C4O   752.00\n",
       "5680    3090732  CC1=C(C(=O)N(N1)C2=CC=CC=C2)C(=O)CN(C(C)C)C(=O...  1250.00\n",
       "5681  242611572  C1=CC(=CC=C1C(=N)N)OCCCOC2=CC=C(C=C2)C(=N)N.Cl.Cl    59.50\n",
       "5682  242611800           CC(CCCNC1=C2C(=CC(=C1)OC)C=CC=N2)N.Cl.Cl   418.00\n",
       "5683  404719310  C1C(CC(OC1C2=CC=CC=C2)C3=CC=CC=C3)C4CC(OC(C4)C...   394.00\n",
       "\n",
       "[5681 rows x 3 columns]"
      ]
     },
     "execution_count": 45,
     "metadata": {},
     "output_type": "execute_result"
    }
   ],
   "source": [
    "final_df"
   ]
  },
  {
   "cell_type": "code",
   "execution_count": 46,
   "metadata": {},
   "outputs": [],
   "source": [
    "final_df.to_csv('data_no_agg.csv')"
   ]
  },
  {
   "cell_type": "code",
   "execution_count": null,
   "metadata": {},
   "outputs": [],
   "source": []
  },
  {
   "cell_type": "code",
   "execution_count": null,
   "metadata": {},
   "outputs": [],
   "source": []
  },
  {
   "cell_type": "code",
   "execution_count": 47,
   "metadata": {},
   "outputs": [],
   "source": [
    "df_add = pd.DataFrame(compounds_l, columns=['COMPOUND'])"
   ]
  },
  {
   "cell_type": "code",
   "execution_count": 48,
   "metadata": {},
   "outputs": [],
   "source": [
    "df_add.to_csv('found_data.csv')"
   ]
  },
  {
   "cell_type": "code",
   "execution_count": null,
   "metadata": {},
   "outputs": [],
   "source": []
  },
  {
   "cell_type": "code",
   "execution_count": null,
   "metadata": {},
   "outputs": [],
   "source": []
  },
  {
   "cell_type": "markdown",
   "metadata": {},
   "source": [
    "# AGG"
   ]
  },
  {
   "cell_type": "code",
   "execution_count": 1,
   "metadata": {},
   "outputs": [
    {
     "data": {
      "text/html": [
       "<div>\n",
       "<style scoped>\n",
       "    .dataframe tbody tr th:only-of-type {\n",
       "        vertical-align: middle;\n",
       "    }\n",
       "\n",
       "    .dataframe tbody tr th {\n",
       "        vertical-align: top;\n",
       "    }\n",
       "\n",
       "    .dataframe thead th {\n",
       "        text-align: right;\n",
       "    }\n",
       "</style>\n",
       "<table border=\"1\" class=\"dataframe\">\n",
       "  <thead>\n",
       "    <tr style=\"text-align: right;\">\n",
       "      <th></th>\n",
       "      <th>Unnamed: 0</th>\n",
       "      <th>CID</th>\n",
       "      <th>SMILES</th>\n",
       "      <th>target</th>\n",
       "    </tr>\n",
       "  </thead>\n",
       "  <tbody>\n",
       "    <tr>\n",
       "      <th>0</th>\n",
       "      <td>0</td>\n",
       "      <td>2807642</td>\n",
       "      <td>CCC1=CC2=C(S1)N=CN=C2SC3=NN=C(S3)N</td>\n",
       "      <td>540.00</td>\n",
       "    </tr>\n",
       "    <tr>\n",
       "      <th>1</th>\n",
       "      <td>1</td>\n",
       "      <td>3239884</td>\n",
       "      <td>CCOC(=O)C1=CC(=CC=C1)N2C(=NC(=NC2(C)C)N)N</td>\n",
       "      <td>1250.00</td>\n",
       "    </tr>\n",
       "    <tr>\n",
       "      <th>2</th>\n",
       "      <td>2</td>\n",
       "      <td>98652</td>\n",
       "      <td>C1=CC=C2C=C(C=CC2=C1)S(=O)(=O)C3=CC4=C(C=C3)N=...</td>\n",
       "      <td>1709.00</td>\n",
       "    </tr>\n",
       "    <tr>\n",
       "      <th>3</th>\n",
       "      <td>3</td>\n",
       "      <td>198062</td>\n",
       "      <td>CC1=C2C(=CC=C1)N=C(N=C2N)N</td>\n",
       "      <td>1250.00</td>\n",
       "    </tr>\n",
       "    <tr>\n",
       "      <th>4</th>\n",
       "      <td>4</td>\n",
       "      <td>4993</td>\n",
       "      <td>CCC1=C(C(=NC(=N1)N)N)C2=CC=C(C=C2)Cl</td>\n",
       "      <td>14.56</td>\n",
       "    </tr>\n",
       "  </tbody>\n",
       "</table>\n",
       "</div>"
      ],
      "text/plain": [
       "   Unnamed: 0      CID                                             SMILES  \\\n",
       "0           0  2807642                 CCC1=CC2=C(S1)N=CN=C2SC3=NN=C(S3)N   \n",
       "1           1  3239884          CCOC(=O)C1=CC(=CC=C1)N2C(=NC(=NC2(C)C)N)N   \n",
       "2           2    98652  C1=CC=C2C=C(C=CC2=C1)S(=O)(=O)C3=CC4=C(C=C3)N=...   \n",
       "3           3   198062                         CC1=C2C(=CC=C1)N=C(N=C2N)N   \n",
       "4           4     4993               CCC1=C(C(=NC(=N1)N)N)C2=CC=C(C=C2)Cl   \n",
       "\n",
       "    target  \n",
       "0   540.00  \n",
       "1  1250.00  \n",
       "2  1709.00  \n",
       "3  1250.00  \n",
       "4    14.56  "
      ]
     },
     "execution_count": 1,
     "metadata": {},
     "output_type": "execute_result"
    }
   ],
   "source": [
    "import pandas as pd\n",
    "import numpy as np\n",
    "data_ = pd.read_csv('data_no_agg.csv')\n",
    "data_.head()"
   ]
  },
  {
   "cell_type": "code",
   "execution_count": 2,
   "metadata": {},
   "outputs": [
    {
     "data": {
      "text/plain": [
       "count                                           5681\n",
       "unique                                          5595\n",
       "top       CC[N+]1=CC=CC=C1C=CC2=CC=C(C=C2)N(C)C.[I-]\n",
       "freq                                               3\n",
       "Name: SMILES, dtype: object"
      ]
     },
     "execution_count": 2,
     "metadata": {},
     "output_type": "execute_result"
    }
   ],
   "source": [
    "data_['SMILES'].describe()"
   ]
  },
  {
   "cell_type": "code",
   "execution_count": 3,
   "metadata": {},
   "outputs": [],
   "source": [
    "data_grouped = data_.groupby('SMILES')"
   ]
  },
  {
   "cell_type": "code",
   "execution_count": 4,
   "metadata": {},
   "outputs": [],
   "source": [
    "## Helping functions\n",
    "def get_levels(x):\n",
    "    y = x.dropna()\n",
    "    if y.empty:\n",
    "        return np.nan\n",
    "    else:\n",
    "        levs = list(set(y.tolist()))\n",
    "        if len(levs) == 1:\n",
    "            return levs[0]\n",
    "        else:\n",
    "            return 'mix'\n",
    "\n",
    "def get_all_levels(x):\n",
    "    y = x.dropna()\n",
    "    if y.empty:\n",
    "        return np.nan\n",
    "    else:\n",
    "        return sorted(list(set(y.tolist())))\n",
    "                \n",
    "def get_mean(x):\n",
    "    y = x.dropna()\n",
    "    if y.empty:\n",
    "        return np.nan\n",
    "    else:\n",
    "        return np.mean(y)\n",
    "    \n",
    "def expand_activity(x):\n",
    "    expanded = [None for iii in range(max_level_activity)]\n",
    "    n_act = len(x)\n",
    "    expanded[:n_act] = x[:n_act]\n",
    "    return np.array(expanded)"
   ]
  },
  {
   "cell_type": "code",
   "execution_count": 5,
   "metadata": {},
   "outputs": [
    {
     "data": {
      "text/html": [
       "<div>\n",
       "<style scoped>\n",
       "    .dataframe tbody tr th:only-of-type {\n",
       "        vertical-align: middle;\n",
       "    }\n",
       "\n",
       "    .dataframe tbody tr th {\n",
       "        vertical-align: top;\n",
       "    }\n",
       "\n",
       "    .dataframe thead th {\n",
       "        text-align: right;\n",
       "    }\n",
       "</style>\n",
       "<table border=\"1\" class=\"dataframe\">\n",
       "  <thead>\n",
       "    <tr style=\"text-align: right;\">\n",
       "      <th></th>\n",
       "      <th>target_min</th>\n",
       "      <th>target_max</th>\n",
       "      <th>target_get_all_levels</th>\n",
       "      <th>target_get_mean</th>\n",
       "      <th>SMILES_get_levels</th>\n",
       "      <th>target_0</th>\n",
       "      <th>target_1</th>\n",
       "      <th>target_2</th>\n",
       "    </tr>\n",
       "    <tr>\n",
       "      <th>SMILES</th>\n",
       "      <th></th>\n",
       "      <th></th>\n",
       "      <th></th>\n",
       "      <th></th>\n",
       "      <th></th>\n",
       "      <th></th>\n",
       "      <th></th>\n",
       "      <th></th>\n",
       "    </tr>\n",
       "  </thead>\n",
       "  <tbody>\n",
       "    <tr>\n",
       "      <th>C#CCN1C2=CC=CC=C2SC3=C1N=CC=C3</th>\n",
       "      <td>321.00</td>\n",
       "      <td>321.00</td>\n",
       "      <td>[321.0]</td>\n",
       "      <td>321.00</td>\n",
       "      <td>C#CCN1C2=CC=CC=C2SC3=C1N=CC=C3</td>\n",
       "      <td>321.00</td>\n",
       "      <td>NaN</td>\n",
       "      <td>NaN</td>\n",
       "    </tr>\n",
       "    <tr>\n",
       "      <th>C#CCNC(=O)C1=CC(=C(C=C1)OC2CCN(CC2)CC3CCCCC3)Cl</th>\n",
       "      <td>396.00</td>\n",
       "      <td>396.00</td>\n",
       "      <td>[396.0]</td>\n",
       "      <td>396.00</td>\n",
       "      <td>C#CCNC(=O)C1=CC(=C(C=C1)OC2CCN(CC2)CC3CCCCC3)Cl</td>\n",
       "      <td>396.00</td>\n",
       "      <td>NaN</td>\n",
       "      <td>NaN</td>\n",
       "    </tr>\n",
       "    <tr>\n",
       "      <th>C#CC[N+]1(CCCCC1)CC#CC2=CC=CC3=CC=CC=C32.[Br-]</th>\n",
       "      <td>484.00</td>\n",
       "      <td>484.00</td>\n",
       "      <td>[484.0]</td>\n",
       "      <td>484.00</td>\n",
       "      <td>C#CC[N+]1(CCCCC1)CC#CC2=CC=CC3=CC=CC=C32.[Br-]</td>\n",
       "      <td>484.00</td>\n",
       "      <td>NaN</td>\n",
       "      <td>NaN</td>\n",
       "    </tr>\n",
       "    <tr>\n",
       "      <th>C([C@@H](C(=O)O)N)OP(=O)(O)O</th>\n",
       "      <td>1065.00</td>\n",
       "      <td>1065.00</td>\n",
       "      <td>[1065.0]</td>\n",
       "      <td>1065.00</td>\n",
       "      <td>C([C@@H](C(=O)O)N)OP(=O)(O)O</td>\n",
       "      <td>1065.00</td>\n",
       "      <td>NaN</td>\n",
       "      <td>NaN</td>\n",
       "    </tr>\n",
       "    <tr>\n",
       "      <th>C/C(=C(\\C(=O)C)/N=NC1=CC(=CC(=C1)C(F)(F)F)C(F)(F)F)/O</th>\n",
       "      <td>26.73</td>\n",
       "      <td>26.73</td>\n",
       "      <td>[26.73]</td>\n",
       "      <td>26.73</td>\n",
       "      <td>C/C(=C(\\C(=O)C)/N=NC1=CC(=CC(=C1)C(F)(F)F)C(F)...</td>\n",
       "      <td>26.73</td>\n",
       "      <td>NaN</td>\n",
       "      <td>NaN</td>\n",
       "    </tr>\n",
       "    <tr>\n",
       "      <th>...</th>\n",
       "      <td>...</td>\n",
       "      <td>...</td>\n",
       "      <td>...</td>\n",
       "      <td>...</td>\n",
       "      <td>...</td>\n",
       "      <td>...</td>\n",
       "      <td>...</td>\n",
       "      <td>...</td>\n",
       "    </tr>\n",
       "    <tr>\n",
       "      <th>C[N+]1=CN(C=C1)C2=CC=C(C=C2)C(=O)C3=CC=C(C=C3)N4C=C[N+](=C4)C.[I-].[I-]</th>\n",
       "      <td>29.41</td>\n",
       "      <td>29.41</td>\n",
       "      <td>[29.41]</td>\n",
       "      <td>29.41</td>\n",
       "      <td>C[N+]1=CN(C=C1)C2=CC=C(C=C2)C(=O)C3=CC=C(C=C3)...</td>\n",
       "      <td>29.41</td>\n",
       "      <td>NaN</td>\n",
       "      <td>NaN</td>\n",
       "    </tr>\n",
       "    <tr>\n",
       "      <th>N1=P(N=P(N=P(N=P1(O)O)(O)O)(O)O)(O)O</th>\n",
       "      <td>1250.00</td>\n",
       "      <td>1250.00</td>\n",
       "      <td>[1250.0]</td>\n",
       "      <td>1250.00</td>\n",
       "      <td>N1=P(N=P(N=P(N=P1(O)O)(O)O)(O)O)(O)O</td>\n",
       "      <td>1250.00</td>\n",
       "      <td>NaN</td>\n",
       "      <td>NaN</td>\n",
       "    </tr>\n",
       "    <tr>\n",
       "      <th>[B-](C1=CC=CC=C1)(C2=CC=CC=C2)(C3=CC=CC=C3)C4=CC=CC=C4</th>\n",
       "      <td>44.80</td>\n",
       "      <td>44.80</td>\n",
       "      <td>[44.8]</td>\n",
       "      <td>44.80</td>\n",
       "      <td>[B-](C1=CC=CC=C1)(C2=CC=CC=C2)(C3=CC=CC=C3)C4=...</td>\n",
       "      <td>44.80</td>\n",
       "      <td>NaN</td>\n",
       "      <td>NaN</td>\n",
       "    </tr>\n",
       "    <tr>\n",
       "      <th>[B-](F)(F)(F)F.CCCC[N+]1=C(C=C(C=C1C2=CC=CC=C2)C3=CC=CC=C3)C4=CC=CC=C4</th>\n",
       "      <td>467.00</td>\n",
       "      <td>467.00</td>\n",
       "      <td>[467.0]</td>\n",
       "      <td>467.00</td>\n",
       "      <td>[B-](F)(F)(F)F.CCCC[N+]1=C(C=C(C=C1C2=CC=CC=C2...</td>\n",
       "      <td>467.00</td>\n",
       "      <td>NaN</td>\n",
       "      <td>NaN</td>\n",
       "    </tr>\n",
       "    <tr>\n",
       "      <th>[B-](F)(F)(F)F.C[N+]1=C(C=C(C=C1C2=CC=CC=C2)C3=CC=CC=C3)C4=CC=CC=C4</th>\n",
       "      <td>590.00</td>\n",
       "      <td>590.00</td>\n",
       "      <td>[590.0]</td>\n",
       "      <td>590.00</td>\n",
       "      <td>[B-](F)(F)(F)F.C[N+]1=C(C=C(C=C1C2=CC=CC=C2)C3...</td>\n",
       "      <td>590.00</td>\n",
       "      <td>NaN</td>\n",
       "      <td>NaN</td>\n",
       "    </tr>\n",
       "  </tbody>\n",
       "</table>\n",
       "<p>5595 rows × 8 columns</p>\n",
       "</div>"
      ],
      "text/plain": [
       "                                                    target_min  target_max  \\\n",
       "SMILES                                                                       \n",
       "C#CCN1C2=CC=CC=C2SC3=C1N=CC=C3                          321.00      321.00   \n",
       "C#CCNC(=O)C1=CC(=C(C=C1)OC2CCN(CC2)CC3CCCCC3)Cl         396.00      396.00   \n",
       "C#CC[N+]1(CCCCC1)CC#CC2=CC=CC3=CC=CC=C32.[Br-]          484.00      484.00   \n",
       "C([C@@H](C(=O)O)N)OP(=O)(O)O                           1065.00     1065.00   \n",
       "C/C(=C(\\C(=O)C)/N=NC1=CC(=CC(=C1)C(F)(F)F)C(F)(...       26.73       26.73   \n",
       "...                                                        ...         ...   \n",
       "C[N+]1=CN(C=C1)C2=CC=C(C=C2)C(=O)C3=CC=C(C=C3)N...       29.41       29.41   \n",
       "N1=P(N=P(N=P(N=P1(O)O)(O)O)(O)O)(O)O                   1250.00     1250.00   \n",
       "[B-](C1=CC=CC=C1)(C2=CC=CC=C2)(C3=CC=CC=C3)C4=C...       44.80       44.80   \n",
       "[B-](F)(F)(F)F.CCCC[N+]1=C(C=C(C=C1C2=CC=CC=C2)...      467.00      467.00   \n",
       "[B-](F)(F)(F)F.C[N+]1=C(C=C(C=C1C2=CC=CC=C2)C3=...      590.00      590.00   \n",
       "\n",
       "                                                   target_get_all_levels  \\\n",
       "SMILES                                                                     \n",
       "C#CCN1C2=CC=CC=C2SC3=C1N=CC=C3                                   [321.0]   \n",
       "C#CCNC(=O)C1=CC(=C(C=C1)OC2CCN(CC2)CC3CCCCC3)Cl                  [396.0]   \n",
       "C#CC[N+]1(CCCCC1)CC#CC2=CC=CC3=CC=CC=C32.[Br-]                   [484.0]   \n",
       "C([C@@H](C(=O)O)N)OP(=O)(O)O                                    [1065.0]   \n",
       "C/C(=C(\\C(=O)C)/N=NC1=CC(=CC(=C1)C(F)(F)F)C(F)(...               [26.73]   \n",
       "...                                                                  ...   \n",
       "C[N+]1=CN(C=C1)C2=CC=C(C=C2)C(=O)C3=CC=C(C=C3)N...               [29.41]   \n",
       "N1=P(N=P(N=P(N=P1(O)O)(O)O)(O)O)(O)O                            [1250.0]   \n",
       "[B-](C1=CC=CC=C1)(C2=CC=CC=C2)(C3=CC=CC=C3)C4=C...                [44.8]   \n",
       "[B-](F)(F)(F)F.CCCC[N+]1=C(C=C(C=C1C2=CC=CC=C2)...               [467.0]   \n",
       "[B-](F)(F)(F)F.C[N+]1=C(C=C(C=C1C2=CC=CC=C2)C3=...               [590.0]   \n",
       "\n",
       "                                                    target_get_mean  \\\n",
       "SMILES                                                                \n",
       "C#CCN1C2=CC=CC=C2SC3=C1N=CC=C3                               321.00   \n",
       "C#CCNC(=O)C1=CC(=C(C=C1)OC2CCN(CC2)CC3CCCCC3)Cl              396.00   \n",
       "C#CC[N+]1(CCCCC1)CC#CC2=CC=CC3=CC=CC=C32.[Br-]               484.00   \n",
       "C([C@@H](C(=O)O)N)OP(=O)(O)O                                1065.00   \n",
       "C/C(=C(\\C(=O)C)/N=NC1=CC(=CC(=C1)C(F)(F)F)C(F)(...            26.73   \n",
       "...                                                             ...   \n",
       "C[N+]1=CN(C=C1)C2=CC=C(C=C2)C(=O)C3=CC=C(C=C3)N...            29.41   \n",
       "N1=P(N=P(N=P(N=P1(O)O)(O)O)(O)O)(O)O                        1250.00   \n",
       "[B-](C1=CC=CC=C1)(C2=CC=CC=C2)(C3=CC=CC=C3)C4=C...            44.80   \n",
       "[B-](F)(F)(F)F.CCCC[N+]1=C(C=C(C=C1C2=CC=CC=C2)...           467.00   \n",
       "[B-](F)(F)(F)F.C[N+]1=C(C=C(C=C1C2=CC=CC=C2)C3=...           590.00   \n",
       "\n",
       "                                                                                    SMILES_get_levels  \\\n",
       "SMILES                                                                                                  \n",
       "C#CCN1C2=CC=CC=C2SC3=C1N=CC=C3                                         C#CCN1C2=CC=CC=C2SC3=C1N=CC=C3   \n",
       "C#CCNC(=O)C1=CC(=C(C=C1)OC2CCN(CC2)CC3CCCCC3)Cl       C#CCNC(=O)C1=CC(=C(C=C1)OC2CCN(CC2)CC3CCCCC3)Cl   \n",
       "C#CC[N+]1(CCCCC1)CC#CC2=CC=CC3=CC=CC=C32.[Br-]         C#CC[N+]1(CCCCC1)CC#CC2=CC=CC3=CC=CC=C32.[Br-]   \n",
       "C([C@@H](C(=O)O)N)OP(=O)(O)O                                             C([C@@H](C(=O)O)N)OP(=O)(O)O   \n",
       "C/C(=C(\\C(=O)C)/N=NC1=CC(=CC(=C1)C(F)(F)F)C(F)(...  C/C(=C(\\C(=O)C)/N=NC1=CC(=CC(=C1)C(F)(F)F)C(F)...   \n",
       "...                                                                                               ...   \n",
       "C[N+]1=CN(C=C1)C2=CC=C(C=C2)C(=O)C3=CC=C(C=C3)N...  C[N+]1=CN(C=C1)C2=CC=C(C=C2)C(=O)C3=CC=C(C=C3)...   \n",
       "N1=P(N=P(N=P(N=P1(O)O)(O)O)(O)O)(O)O                             N1=P(N=P(N=P(N=P1(O)O)(O)O)(O)O)(O)O   \n",
       "[B-](C1=CC=CC=C1)(C2=CC=CC=C2)(C3=CC=CC=C3)C4=C...  [B-](C1=CC=CC=C1)(C2=CC=CC=C2)(C3=CC=CC=C3)C4=...   \n",
       "[B-](F)(F)(F)F.CCCC[N+]1=C(C=C(C=C1C2=CC=CC=C2)...  [B-](F)(F)(F)F.CCCC[N+]1=C(C=C(C=C1C2=CC=CC=C2...   \n",
       "[B-](F)(F)(F)F.C[N+]1=C(C=C(C=C1C2=CC=CC=C2)C3=...  [B-](F)(F)(F)F.C[N+]1=C(C=C(C=C1C2=CC=CC=C2)C3...   \n",
       "\n",
       "                                                    target_0  target_1  \\\n",
       "SMILES                                                                   \n",
       "C#CCN1C2=CC=CC=C2SC3=C1N=CC=C3                        321.00       NaN   \n",
       "C#CCNC(=O)C1=CC(=C(C=C1)OC2CCN(CC2)CC3CCCCC3)Cl       396.00       NaN   \n",
       "C#CC[N+]1(CCCCC1)CC#CC2=CC=CC3=CC=CC=C32.[Br-]        484.00       NaN   \n",
       "C([C@@H](C(=O)O)N)OP(=O)(O)O                         1065.00       NaN   \n",
       "C/C(=C(\\C(=O)C)/N=NC1=CC(=CC(=C1)C(F)(F)F)C(F)(...     26.73       NaN   \n",
       "...                                                      ...       ...   \n",
       "C[N+]1=CN(C=C1)C2=CC=C(C=C2)C(=O)C3=CC=C(C=C3)N...     29.41       NaN   \n",
       "N1=P(N=P(N=P(N=P1(O)O)(O)O)(O)O)(O)O                 1250.00       NaN   \n",
       "[B-](C1=CC=CC=C1)(C2=CC=CC=C2)(C3=CC=CC=C3)C4=C...     44.80       NaN   \n",
       "[B-](F)(F)(F)F.CCCC[N+]1=C(C=C(C=C1C2=CC=CC=C2)...    467.00       NaN   \n",
       "[B-](F)(F)(F)F.C[N+]1=C(C=C(C=C1C2=CC=CC=C2)C3=...    590.00       NaN   \n",
       "\n",
       "                                                    target_2  \n",
       "SMILES                                                        \n",
       "C#CCN1C2=CC=CC=C2SC3=C1N=CC=C3                           NaN  \n",
       "C#CCNC(=O)C1=CC(=C(C=C1)OC2CCN(CC2)CC3CCCCC3)Cl          NaN  \n",
       "C#CC[N+]1(CCCCC1)CC#CC2=CC=CC3=CC=CC=C32.[Br-]           NaN  \n",
       "C([C@@H](C(=O)O)N)OP(=O)(O)O                             NaN  \n",
       "C/C(=C(\\C(=O)C)/N=NC1=CC(=CC(=C1)C(F)(F)F)C(F)(...       NaN  \n",
       "...                                                      ...  \n",
       "C[N+]1=CN(C=C1)C2=CC=C(C=C2)C(=O)C3=CC=C(C=C3)N...       NaN  \n",
       "N1=P(N=P(N=P(N=P1(O)O)(O)O)(O)O)(O)O                     NaN  \n",
       "[B-](C1=CC=CC=C1)(C2=CC=CC=C2)(C3=CC=CC=C3)C4=C...       NaN  \n",
       "[B-](F)(F)(F)F.CCCC[N+]1=C(C=C(C=C1C2=CC=CC=C2)...       NaN  \n",
       "[B-](F)(F)(F)F.C[N+]1=C(C=C(C=C1C2=CC=CC=C2)C3=...       NaN  \n",
       "\n",
       "[5595 rows x 8 columns]"
      ]
     },
     "execution_count": 5,
     "metadata": {},
     "output_type": "execute_result"
    }
   ],
   "source": [
    "aggFunctions = {\n",
    "    'target': ['min', 'max', get_all_levels, get_mean],\n",
    "    'SMILES': get_levels\n",
    "}\n",
    "data_aggregated = data_grouped.agg(aggFunctions)\n",
    "max_level_activity = max(data_aggregated[(\"target\", \"get_all_levels\")].apply(lambda x: len(x)))\n",
    "data_aggregated.columns = [str(item[0])+\"_\"+str(item[1]) for item in data_aggregated.columns.to_flat_index().to_list()]\n",
    "all_activities = data_aggregated[(\"target_get_all_levels\")].apply(lambda x: expand_activity(x))\n",
    "all_activities = pd.DataFrame(all_activities.to_list(), columns=[\"target_\"+str(iii) for iii in range(max_level_activity)])\n",
    "all_activities = all_activities.set_index(data_aggregated.index)\n",
    "data_aggregated = pd.concat([data_aggregated, all_activities], axis=1)\n",
    "data_aggregated"
   ]
  },
  {
   "cell_type": "code",
   "execution_count": 6,
   "metadata": {},
   "outputs": [
    {
     "data": {
      "text/plain": [
       "['target_min',\n",
       " 'target_max',\n",
       " 'target_get_all_levels',\n",
       " 'target_get_mean',\n",
       " 'SMILES_get_levels',\n",
       " 'target_0',\n",
       " 'target_1',\n",
       " 'target_2']"
      ]
     },
     "execution_count": 6,
     "metadata": {},
     "output_type": "execute_result"
    }
   ],
   "source": [
    "data_aggregated.columns.to_list()"
   ]
  },
  {
   "cell_type": "code",
   "execution_count": 7,
   "metadata": {},
   "outputs": [],
   "source": [
    "to_be_saved_ = data_aggregated.columns.to_list()[5:]"
   ]
  },
  {
   "cell_type": "code",
   "execution_count": 8,
   "metadata": {},
   "outputs": [],
   "source": [
    "to_save = data_aggregated[to_be_saved_]"
   ]
  },
  {
   "cell_type": "code",
   "execution_count": 9,
   "metadata": {},
   "outputs": [
    {
     "data": {
      "text/html": [
       "<div>\n",
       "<style scoped>\n",
       "    .dataframe tbody tr th:only-of-type {\n",
       "        vertical-align: middle;\n",
       "    }\n",
       "\n",
       "    .dataframe tbody tr th {\n",
       "        vertical-align: top;\n",
       "    }\n",
       "\n",
       "    .dataframe thead th {\n",
       "        text-align: right;\n",
       "    }\n",
       "</style>\n",
       "<table border=\"1\" class=\"dataframe\">\n",
       "  <thead>\n",
       "    <tr style=\"text-align: right;\">\n",
       "      <th></th>\n",
       "      <th>SMILES</th>\n",
       "      <th>target_0</th>\n",
       "      <th>target_1</th>\n",
       "      <th>target_2</th>\n",
       "    </tr>\n",
       "  </thead>\n",
       "  <tbody>\n",
       "    <tr>\n",
       "      <th>0</th>\n",
       "      <td>C#CCN1C2=CC=CC=C2SC3=C1N=CC=C3</td>\n",
       "      <td>321.00</td>\n",
       "      <td>NaN</td>\n",
       "      <td>NaN</td>\n",
       "    </tr>\n",
       "    <tr>\n",
       "      <th>1</th>\n",
       "      <td>C#CCNC(=O)C1=CC(=C(C=C1)OC2CCN(CC2)CC3CCCCC3)Cl</td>\n",
       "      <td>396.00</td>\n",
       "      <td>NaN</td>\n",
       "      <td>NaN</td>\n",
       "    </tr>\n",
       "    <tr>\n",
       "      <th>2</th>\n",
       "      <td>C#CC[N+]1(CCCCC1)CC#CC2=CC=CC3=CC=CC=C32.[Br-]</td>\n",
       "      <td>484.00</td>\n",
       "      <td>NaN</td>\n",
       "      <td>NaN</td>\n",
       "    </tr>\n",
       "    <tr>\n",
       "      <th>3</th>\n",
       "      <td>C([C@@H](C(=O)O)N)OP(=O)(O)O</td>\n",
       "      <td>1065.00</td>\n",
       "      <td>NaN</td>\n",
       "      <td>NaN</td>\n",
       "    </tr>\n",
       "    <tr>\n",
       "      <th>4</th>\n",
       "      <td>C/C(=C(\\C(=O)C)/N=NC1=CC(=CC(=C1)C(F)(F)F)C(F)...</td>\n",
       "      <td>26.73</td>\n",
       "      <td>NaN</td>\n",
       "      <td>NaN</td>\n",
       "    </tr>\n",
       "    <tr>\n",
       "      <th>...</th>\n",
       "      <td>...</td>\n",
       "      <td>...</td>\n",
       "      <td>...</td>\n",
       "      <td>...</td>\n",
       "    </tr>\n",
       "    <tr>\n",
       "      <th>5590</th>\n",
       "      <td>C[N+]1=CN(C=C1)C2=CC=C(C=C2)C(=O)C3=CC=C(C=C3)...</td>\n",
       "      <td>29.41</td>\n",
       "      <td>NaN</td>\n",
       "      <td>NaN</td>\n",
       "    </tr>\n",
       "    <tr>\n",
       "      <th>5591</th>\n",
       "      <td>N1=P(N=P(N=P(N=P1(O)O)(O)O)(O)O)(O)O</td>\n",
       "      <td>1250.00</td>\n",
       "      <td>NaN</td>\n",
       "      <td>NaN</td>\n",
       "    </tr>\n",
       "    <tr>\n",
       "      <th>5592</th>\n",
       "      <td>[B-](C1=CC=CC=C1)(C2=CC=CC=C2)(C3=CC=CC=C3)C4=...</td>\n",
       "      <td>44.80</td>\n",
       "      <td>NaN</td>\n",
       "      <td>NaN</td>\n",
       "    </tr>\n",
       "    <tr>\n",
       "      <th>5593</th>\n",
       "      <td>[B-](F)(F)(F)F.CCCC[N+]1=C(C=C(C=C1C2=CC=CC=C2...</td>\n",
       "      <td>467.00</td>\n",
       "      <td>NaN</td>\n",
       "      <td>NaN</td>\n",
       "    </tr>\n",
       "    <tr>\n",
       "      <th>5594</th>\n",
       "      <td>[B-](F)(F)(F)F.C[N+]1=C(C=C(C=C1C2=CC=CC=C2)C3...</td>\n",
       "      <td>590.00</td>\n",
       "      <td>NaN</td>\n",
       "      <td>NaN</td>\n",
       "    </tr>\n",
       "  </tbody>\n",
       "</table>\n",
       "<p>5595 rows × 4 columns</p>\n",
       "</div>"
      ],
      "text/plain": [
       "                                                 SMILES  target_0  target_1  \\\n",
       "0                        C#CCN1C2=CC=CC=C2SC3=C1N=CC=C3    321.00       NaN   \n",
       "1       C#CCNC(=O)C1=CC(=C(C=C1)OC2CCN(CC2)CC3CCCCC3)Cl    396.00       NaN   \n",
       "2        C#CC[N+]1(CCCCC1)CC#CC2=CC=CC3=CC=CC=C32.[Br-]    484.00       NaN   \n",
       "3                          C([C@@H](C(=O)O)N)OP(=O)(O)O   1065.00       NaN   \n",
       "4     C/C(=C(\\C(=O)C)/N=NC1=CC(=CC(=C1)C(F)(F)F)C(F)...     26.73       NaN   \n",
       "...                                                 ...       ...       ...   \n",
       "5590  C[N+]1=CN(C=C1)C2=CC=C(C=C2)C(=O)C3=CC=C(C=C3)...     29.41       NaN   \n",
       "5591               N1=P(N=P(N=P(N=P1(O)O)(O)O)(O)O)(O)O   1250.00       NaN   \n",
       "5592  [B-](C1=CC=CC=C1)(C2=CC=CC=C2)(C3=CC=CC=C3)C4=...     44.80       NaN   \n",
       "5593  [B-](F)(F)(F)F.CCCC[N+]1=C(C=C(C=C1C2=CC=CC=C2...    467.00       NaN   \n",
       "5594  [B-](F)(F)(F)F.C[N+]1=C(C=C(C=C1C2=CC=CC=C2)C3...    590.00       NaN   \n",
       "\n",
       "      target_2  \n",
       "0          NaN  \n",
       "1          NaN  \n",
       "2          NaN  \n",
       "3          NaN  \n",
       "4          NaN  \n",
       "...        ...  \n",
       "5590       NaN  \n",
       "5591       NaN  \n",
       "5592       NaN  \n",
       "5593       NaN  \n",
       "5594       NaN  \n",
       "\n",
       "[5595 rows x 4 columns]"
      ]
     },
     "execution_count": 9,
     "metadata": {},
     "output_type": "execute_result"
    }
   ],
   "source": [
    "to_save.reset_index()"
   ]
  },
  {
   "cell_type": "code",
   "execution_count": 10,
   "metadata": {},
   "outputs": [],
   "source": [
    "to_save.to_csv('data.csv')"
   ]
  }
 ],
 "metadata": {
  "kernelspec": {
   "display_name": "Python 3",
   "language": "python",
   "name": "python3"
  },
  "language_info": {
   "codemirror_mode": {
    "name": "ipython",
    "version": 3
   },
   "file_extension": ".py",
   "mimetype": "text/x-python",
   "name": "python",
   "nbconvert_exporter": "python",
   "pygments_lexer": "ipython3",
   "version": "3.8.5"
  }
 },
 "nbformat": 4,
 "nbformat_minor": 4
}
