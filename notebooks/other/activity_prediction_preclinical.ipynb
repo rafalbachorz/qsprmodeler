{
 "cells": [
  {
   "cell_type": "code",
   "execution_count": 24,
   "id": "2c1e93a8",
   "metadata": {},
   "outputs": [],
   "source": [
    "import constants as co\n",
    "from analyzers import analyze_classifier, analyze_regressor, get_model_predictions\n",
    "from auxiliary import loggers\n",
    "\n",
    "from rdkit import Chem\n",
    "\n",
    "from pathlib import Path\n",
    "import sys\n",
    "\n",
    "import pandas as pd\n",
    "pd.options.display.max_rows = 5000\n",
    "pd.set_option(\"display.max_colwidth\", 200)\n",
    "import numpy as np\n",
    "import os\n",
    "\n",
    "import pickle\n",
    "import json\n",
    "import re\n",
    "\n",
    "import matplotlib.pyplot as plt\n",
    "%matplotlib inline\n",
    "import seaborn as sns\n",
    "\n",
    "pd.set_option('display.max_columns', None)\n",
    "random_seed = 42\n",
    "\n",
    "%config Completer.use_jedi = False\n",
    "\n",
    "l = loggers.get_logger(logger_name=\"logger\")\n",
    "\n",
    "METHOD_PREFIX = \"rf\"\n",
    "RESULT_FILE_REGRESSOR = \"result_regressor_rf.csv\"\n",
    "RESULT_FILE_CLASSIFIER = \"result_classifier_rf.csv\"\n",
    "\n",
    "DATA_DIR = Path(\"../data\")"
   ]
  },
  {
   "cell_type": "code",
   "execution_count": 2,
   "id": "2b7b9429",
   "metadata": {},
   "outputs": [
    {
     "name": "stderr",
     "output_type": "stream",
     "text": [
      "2023-03-02 23:39:02,050 - logger - INFO - rorgammaqsar\n"
     ]
    }
   ],
   "source": [
    "l.info(os.environ['CONDA_DEFAULT_ENV'])"
   ]
  },
  {
   "cell_type": "code",
   "execution_count": 3,
   "id": "419be532",
   "metadata": {},
   "outputs": [
    {
     "name": "stderr",
     "output_type": "stream",
     "text": [
      "[23:39:08] Explicit valence for atom # 8 N, 4, is greater than permitted\n",
      "[23:39:08] ERROR: Could not sanitize molecule ending on line 14047\n",
      "[23:39:08] ERROR: Explicit valence for atom # 8 N, 4, is greater than permitted\n",
      "[23:39:09] Warning: conflicting stereochemistry at atom 3 ignored. by rule 2a.\n",
      "[23:39:09] Warning: conflicting stereochemistry at atom 31 ignored. by rule 2b.\n",
      "[23:39:09] Explicit valence for atom # 0 N, 4, is greater than permitted\n",
      "[23:39:09] ERROR: Could not sanitize molecule ending on line 246280\n",
      "[23:39:09] ERROR: Explicit valence for atom # 0 N, 4, is greater than permitted\n",
      "[23:39:09] Explicit valence for atom # 2 N, 4, is greater than permitted\n",
      "[23:39:09] ERROR: Could not sanitize molecule ending on line 255995\n",
      "[23:39:09] ERROR: Explicit valence for atom # 2 N, 4, is greater than permitted\n",
      "[23:39:09] Explicit valence for atom # 1 N, 4, is greater than permitted\n",
      "[23:39:09] ERROR: Could not sanitize molecule ending on line 292152\n",
      "[23:39:09] ERROR: Explicit valence for atom # 1 N, 4, is greater than permitted\n",
      "[23:39:09] ERROR: Cannot convert '>  ' to unsigned int on line 317087\n",
      "[23:39:09] ERROR: moving to the beginning of the next molecule\n",
      "[23:39:09] ERROR: Cannot convert '>  ' to unsigned int on line 317460\n",
      "[23:39:09] ERROR: moving to the beginning of the next molecule\n"
     ]
    }
   ],
   "source": [
    "candidate_file = Path(DATA_DIR/\"candidates\"/\"20230131-L3900-Preclinical-Clinical-Compound-Library_cleaned.SDF\")\n",
    "mols = list(Chem.SDMolSupplier(candidate_file.as_posix()))"
   ]
  },
  {
   "cell_type": "code",
   "execution_count": 8,
   "id": "f175a56e",
   "metadata": {},
   "outputs": [
    {
     "data": {
      "text/plain": [
       "3395"
      ]
     },
     "execution_count": 8,
     "metadata": {},
     "output_type": "execute_result"
    }
   ],
   "source": [
    "len(external_smiles)"
   ]
  },
  {
   "cell_type": "code",
   "execution_count": 9,
   "id": "5cad3b74",
   "metadata": {},
   "outputs": [
    {
     "data": {
      "text/plain": [
       "3395"
      ]
     },
     "execution_count": 9,
     "metadata": {},
     "output_type": "execute_result"
    }
   ],
   "source": [
    "len(names)"
   ]
  },
  {
   "cell_type": "code",
   "execution_count": 11,
   "id": "f6cde82c",
   "metadata": {},
   "outputs": [
    {
     "name": "stdout",
     "output_type": "stream",
     "text": [
      "Python argument types in\n",
      "    rdkit.Chem.rdmolfiles.MolToSmiles(NoneType)\n",
      "did not match C++ signature:\n",
      "    MolToSmiles(RDKit::ROMol mol, bool isomericSmiles=True, bool kekuleSmiles=False, int rootedAtAtom=-1, bool canonical=True, bool allBondsExplicit=False, bool allHsExplicit=False, bool doRandom=False)\n",
      "    MolToSmiles(RDKit::ROMol mol, RDKit::SmilesWriteParams params)\n",
      "'utf-8' codec can't decode byte 0xa6 in position 18: invalid start byte\n",
      "Python argument types in\n",
      "    rdkit.Chem.rdmolfiles.MolToSmiles(NoneType)\n",
      "did not match C++ signature:\n",
      "    MolToSmiles(RDKit::ROMol mol, bool isomericSmiles=True, bool kekuleSmiles=False, int rootedAtAtom=-1, bool canonical=True, bool allBondsExplicit=False, bool allHsExplicit=False, bool doRandom=False)\n",
      "    MolToSmiles(RDKit::ROMol mol, RDKit::SmilesWriteParams params)\n",
      "Python argument types in\n",
      "    rdkit.Chem.rdmolfiles.MolToSmiles(NoneType)\n",
      "did not match C++ signature:\n",
      "    MolToSmiles(RDKit::ROMol mol, bool isomericSmiles=True, bool kekuleSmiles=False, int rootedAtAtom=-1, bool canonical=True, bool allBondsExplicit=False, bool allHsExplicit=False, bool doRandom=False)\n",
      "    MolToSmiles(RDKit::ROMol mol, RDKit::SmilesWriteParams params)\n",
      "Python argument types in\n",
      "    rdkit.Chem.rdmolfiles.MolToSmiles(NoneType)\n",
      "did not match C++ signature:\n",
      "    MolToSmiles(RDKit::ROMol mol, bool isomericSmiles=True, bool kekuleSmiles=False, int rootedAtAtom=-1, bool canonical=True, bool allBondsExplicit=False, bool allHsExplicit=False, bool doRandom=False)\n",
      "    MolToSmiles(RDKit::ROMol mol, RDKit::SmilesWriteParams params)\n",
      "Python argument types in\n",
      "    rdkit.Chem.rdmolfiles.MolToSmiles(NoneType)\n",
      "did not match C++ signature:\n",
      "    MolToSmiles(RDKit::ROMol mol, bool isomericSmiles=True, bool kekuleSmiles=False, int rootedAtAtom=-1, bool canonical=True, bool allBondsExplicit=False, bool allHsExplicit=False, bool doRandom=False)\n",
      "    MolToSmiles(RDKit::ROMol mol, RDKit::SmilesWriteParams params)\n",
      "Python argument types in\n",
      "    rdkit.Chem.rdmolfiles.MolToSmiles(NoneType)\n",
      "did not match C++ signature:\n",
      "    MolToSmiles(RDKit::ROMol mol, bool isomericSmiles=True, bool kekuleSmiles=False, int rootedAtAtom=-1, bool canonical=True, bool allBondsExplicit=False, bool allHsExplicit=False, bool doRandom=False)\n",
      "    MolToSmiles(RDKit::ROMol mol, RDKit::SmilesWriteParams params)\n"
     ]
    }
   ],
   "source": [
    "external_smiles = []\n",
    "names = []\n",
    "for mol in mols:\n",
    "    try:\n",
    "        sms = Chem.MolToSmiles(mol)\n",
    "        props = mol.GetPropsAsDict()\n",
    "        name = props[\"Name\"]\n",
    "        external_smiles.append(sms)\n",
    "        names.append(name)\n",
    "    except KeyError:\n",
    "        pass\n",
    "    except Exception as e:\n",
    "        print(e)\n",
    "        \n",
    "external_smiles = pd.DataFrame({\"external_smiles\": external_smiles, \"names\": names})"
   ]
  },
  {
   "cell_type": "code",
   "execution_count": 12,
   "id": "ed7b5c75",
   "metadata": {},
   "outputs": [
    {
     "data": {
      "text/html": [
       "<div>\n",
       "<style scoped>\n",
       "    .dataframe tbody tr th:only-of-type {\n",
       "        vertical-align: middle;\n",
       "    }\n",
       "\n",
       "    .dataframe tbody tr th {\n",
       "        vertical-align: top;\n",
       "    }\n",
       "\n",
       "    .dataframe thead th {\n",
       "        text-align: right;\n",
       "    }\n",
       "</style>\n",
       "<table border=\"1\" class=\"dataframe\">\n",
       "  <thead>\n",
       "    <tr style=\"text-align: right;\">\n",
       "      <th></th>\n",
       "      <th>external_smiles</th>\n",
       "      <th>names</th>\n",
       "    </tr>\n",
       "  </thead>\n",
       "  <tbody>\n",
       "    <tr>\n",
       "      <th>0</th>\n",
       "      <td>CN(C)CC[C@H](CSc1ccccc1)Nc1ccc(S(=O)(=O)NC(=O)c2ccc(N3CCN(Cc4ccccc4-c4ccc(Cl)cc4)CC3)cc2)cc1[N+](=O)[O-]</td>\n",
       "      <td>ABT-737</td>\n",
       "    </tr>\n",
       "    <tr>\n",
       "      <th>1</th>\n",
       "      <td>Cc1ccc(F)c(NC(=O)Nc2ccc(-c3cccc4[nH]nc(N)c34)cc2)c1</td>\n",
       "      <td>Linifanib (ABT-869)</td>\n",
       "    </tr>\n",
       "    <tr>\n",
       "      <th>2</th>\n",
       "      <td>C[C@]1(c2nc3c(C(N)=O)cccc3[nH]2)CCCN1</td>\n",
       "      <td>ABT-888 (Veliparib)</td>\n",
       "    </tr>\n",
       "    <tr>\n",
       "      <th>3</th>\n",
       "      <td>CNC(=O)c1ccccc1Sc1ccc2c(/C=C/c3ccccn3)n[nH]c2c1</td>\n",
       "      <td>Axitinib</td>\n",
       "    </tr>\n",
       "    <tr>\n",
       "      <th>4</th>\n",
       "      <td>CN1CCN(CCOc2cc(OC3CCOCC3)c3c(Nc4c(Cl)ccc5c4OCO5)ncnc3c2)CC1</td>\n",
       "      <td>Saracatinib (AZD0530)</td>\n",
       "    </tr>\n",
       "    <tr>\n",
       "      <th>...</th>\n",
       "      <td>...</td>\n",
       "      <td>...</td>\n",
       "    </tr>\n",
       "    <tr>\n",
       "      <th>3390</th>\n",
       "      <td>CS(=O)(=O)N1CCC(NC(=O)c2n[nH]cc2NC(=O)c2c(Cl)cccc2Cl)CC1</td>\n",
       "      <td>NVP-LCQ195</td>\n",
       "    </tr>\n",
       "    <tr>\n",
       "      <th>3391</th>\n",
       "      <td>O=C1N=C(Nc2c(Cl)cccc2Cl)S/C1=C\\c1ccc2nccnc2c1</td>\n",
       "      <td>GSK626616</td>\n",
       "    </tr>\n",
       "    <tr>\n",
       "      <th>3392</th>\n",
       "      <td>N=C(N)NCCC(=O)O</td>\n",
       "      <td>RGX-202</td>\n",
       "    </tr>\n",
       "    <tr>\n",
       "      <th>3393</th>\n",
       "      <td>COc1ccc(-c2c(Nc3ccccn3)[nH]c3c(C4=CCCCC4)c(-c4ccccc4)nn3c2=O)cc1</td>\n",
       "      <td>AG-270</td>\n",
       "    </tr>\n",
       "    <tr>\n",
       "      <th>3394</th>\n",
       "      <td>CS(=O)(=O)O.N#CC1(c2ccc(NC(=O)c3cccnc3NCc3ccncc3)cc2)CCCC1</td>\n",
       "      <td>Apatinib (YN968D1)?mesylate</td>\n",
       "    </tr>\n",
       "  </tbody>\n",
       "</table>\n",
       "<p>3395 rows × 2 columns</p>\n",
       "</div>"
      ],
      "text/plain": [
       "                                                                                               external_smiles  \\\n",
       "0     CN(C)CC[C@H](CSc1ccccc1)Nc1ccc(S(=O)(=O)NC(=O)c2ccc(N3CCN(Cc4ccccc4-c4ccc(Cl)cc4)CC3)cc2)cc1[N+](=O)[O-]   \n",
       "1                                                          Cc1ccc(F)c(NC(=O)Nc2ccc(-c3cccc4[nH]nc(N)c34)cc2)c1   \n",
       "2                                                                        C[C@]1(c2nc3c(C(N)=O)cccc3[nH]2)CCCN1   \n",
       "3                                                              CNC(=O)c1ccccc1Sc1ccc2c(/C=C/c3ccccn3)n[nH]c2c1   \n",
       "4                                                  CN1CCN(CCOc2cc(OC3CCOCC3)c3c(Nc4c(Cl)ccc5c4OCO5)ncnc3c2)CC1   \n",
       "...                                                                                                        ...   \n",
       "3390                                                  CS(=O)(=O)N1CCC(NC(=O)c2n[nH]cc2NC(=O)c2c(Cl)cccc2Cl)CC1   \n",
       "3391                                                             O=C1N=C(Nc2c(Cl)cccc2Cl)S/C1=C\\c1ccc2nccnc2c1   \n",
       "3392                                                                                           N=C(N)NCCC(=O)O   \n",
       "3393                                          COc1ccc(-c2c(Nc3ccccn3)[nH]c3c(C4=CCCCC4)c(-c4ccccc4)nn3c2=O)cc1   \n",
       "3394                                                CS(=O)(=O)O.N#CC1(c2ccc(NC(=O)c3cccnc3NCc3ccncc3)cc2)CCCC1   \n",
       "\n",
       "                            names  \n",
       "0                         ABT-737  \n",
       "1             Linifanib (ABT-869)  \n",
       "2             ABT-888 (Veliparib)  \n",
       "3                        Axitinib  \n",
       "4           Saracatinib (AZD0530)  \n",
       "...                           ...  \n",
       "3390                   NVP-LCQ195  \n",
       "3391                    GSK626616  \n",
       "3392                      RGX-202  \n",
       "3393                       AG-270  \n",
       "3394  Apatinib (YN968D1)?mesylate  \n",
       "\n",
       "[3395 rows x 2 columns]"
      ]
     },
     "execution_count": 12,
     "metadata": {},
     "output_type": "execute_result"
    }
   ],
   "source": [
    "external_smiles"
   ]
  },
  {
   "cell_type": "code",
   "execution_count": 14,
   "id": "7bedadd7",
   "metadata": {},
   "outputs": [
    {
     "name": "stderr",
     "output_type": "stream",
     "text": [
      "2023-03-02 23:42:43,032 - logger - INFO - Scaler constructor...\n",
      "2023-03-02 23:42:43,032 - logger - INFO - PCA constructor...\n",
      "2023-03-02 23:42:43,038 - logger - INFO - Scaler constructor...\n",
      "2023-03-02 23:42:43,039 - logger - INFO - PCA constructor...\n",
      "2023-03-02 23:42:43,039 - logger - INFO - Optimal hyperparameters:, {'C': 2.4825430099517085, 'cache_size': 200, 'coef0': 0.0, 'degree': 3, 'gamma': 'scale', 'kernel': 'rbf', 'max_iter': -1, 'epsilon': 0.1311194468831029, 'shrinking': False, 'tol': 0.001, 'verbose': False}\n",
      "2023-03-02 23:42:43,040 - logger - INFO - CreateFPS fit...\n",
      "2023-03-02 23:42:43,040 - logger - INFO - CreateFPS transform...\n",
      "100%|██████████| 2005/2005 [00:04<00:00, 415.86it/s]\n",
      "2023-03-02 23:42:51,317 - logger - INFO - Scaler fit...\n",
      "2023-03-02 23:42:51,324 - logger - INFO - Scaler transform...\n",
      "2023-03-02 23:42:51,334 - logger - INFO - Scaler fit...\n",
      "2023-03-02 23:42:51,544 - logger - INFO - CreateFPS fit...\n",
      "2023-03-02 23:42:51,544 - logger - INFO - CreateFPS transform...\n",
      "100%|██████████| 223/223 [00:00<00:00, 425.72it/s]\n",
      "2023-03-02 23:42:52,466 - logger - INFO - Scaler transform...\n",
      "2023-03-02 23:42:52,471 - logger - INFO - PCA transform...\n",
      "2023-03-02 23:42:52,531 - logger - INFO - CreateFPS fit...\n",
      "2023-03-02 23:42:52,531 - logger - INFO - CreateFPS transform...\n",
      "100%|██████████| 2005/2005 [00:04<00:00, 417.24it/s]\n",
      "2023-03-02 23:43:00,800 - logger - INFO - Scaler transform...\n",
      "2023-03-02 23:43:00,815 - logger - INFO - PCA transform...\n",
      "2023-03-02 23:43:01,270 - logger - INFO - CreateFPS fit...\n",
      "2023-03-02 23:43:01,270 - logger - INFO - CreateFPS transform...\n",
      "100%|██████████| 3395/3395 [00:07<00:00, 455.86it/s]\n",
      "2023-03-02 23:43:14,149 - logger - INFO - Scaler transform...\n",
      "2023-03-02 23:43:14,170 - logger - INFO - PCA transform...\n"
     ]
    },
    {
     "data": {
      "text/plain": [
       "0    6.436377\n",
       "1    4.616777\n",
       "2    4.273401\n",
       "3    4.212092\n",
       "4    5.170238\n",
       "Name: pred_reg, dtype: float64"
      ]
     },
     "execution_count": 14,
     "metadata": {},
     "output_type": "execute_result"
    }
   ],
   "source": [
    "X_val, y_train_val, y_train_val_pred, X_train, y_train, y_train_pred, X_ext, y_reg = get_model_predictions(co.TRAINING_CONF_DIR/\"median_100\"/\"svm_regression_Morgan_1024_pca_128_QED.json\", smiles_codes_ext=external_smiles[\"external_smiles\"])\n",
    "y_reg.name = \"pred_reg\"\n",
    "y_reg.head()"
   ]
  },
  {
   "cell_type": "code",
   "execution_count": 15,
   "id": "ad43d76f",
   "metadata": {},
   "outputs": [
    {
     "data": {
      "text/plain": [
       "Text(0.5, 1.0, 'Distribution of pIC50 values')"
      ]
     },
     "execution_count": 15,
     "metadata": {},
     "output_type": "execute_result"
    },
    {
     "data": {
      "image/png": "[encoded data removed]",
      "text/plain": [
       "<Figure size 432x288 with 1 Axes>"
      ]
     },
     "metadata": {
      "needs_background": "light"
     },
     "output_type": "display_data"
    }
   ],
   "source": [
    "y_train.hist(bins=30)\n",
    "plt.title(\"Distribution of pIC50 values\")"
   ]
  },
  {
   "cell_type": "code",
   "execution_count": 16,
   "id": "7130ce44",
   "metadata": {},
   "outputs": [
    {
     "name": "stderr",
     "output_type": "stream",
     "text": [
      "2023-03-02 23:43:32,373 - logger - INFO - Optimal hyperparameters:, {'n_estimators': 207, 'max_depth': 11, 'min_child_weight': 4.0, 'eta': 0.0981512863074986, 'subsample': 0.8489134735056307, 'colsample_bytree': 0.9991597152608629, 'gamma': 0.09722750628904986, 'reg_alpha': 0.43598619904511926, 'reg_lambda': 0.9494079510404132, 'objective': 'reg:logistic'}\n",
      "2023-03-02 23:43:32,374 - logger - INFO - CreateFPS fit...\n",
      "2023-03-02 23:43:32,374 - logger - INFO - CreateFPS fit...\n",
      "2023-03-02 23:43:32,375 - logger - INFO - CreateFPS transform...\n",
      "2023-03-02 23:43:32,888 - logger - INFO - CreateFPS fit...\n",
      "2023-03-02 23:43:32,889 - logger - INFO - CreateFPS transform...\n",
      "2023-03-02 23:43:34,005 - logger - INFO - CreateFPS fit...\n",
      "2023-03-02 23:43:34,005 - logger - INFO - CreateFPS transform...\n"
     ]
    },
    {
     "data": {
      "text/plain": [
       "0    0.710623\n",
       "1    0.019010\n",
       "2    0.038438\n",
       "3    0.012845\n",
       "4    0.276346\n",
       "Name: pred_cla, dtype: float32"
      ]
     },
     "execution_count": 16,
     "metadata": {},
     "output_type": "execute_result"
    }
   ],
   "source": [
    "X_val, y_train_val, y_train_val_pred, X_train, y_train, y_train_pred, X_ext, y_cla = get_model_predictions(co.TRAINING_CONF_DIR/\"median_100\"/\"xgboost_classification_Morgan_1024.json\", smiles_codes_ext=external_smiles[\"external_smiles\"])\n",
    "y_cla.name = \"pred_cla\"\n",
    "y_cla.head()"
   ]
  },
  {
   "cell_type": "code",
   "execution_count": 17,
   "id": "ba9afd18",
   "metadata": {},
   "outputs": [
    {
     "data": {
      "text/plain": [
       "Text(0.5, 1.0, 'Distribution of binarized values')"
      ]
     },
     "execution_count": 17,
     "metadata": {},
     "output_type": "execute_result"
    },
    {
     "data": {
      "image/png": "[encoded data removed]",
      "text/plain": [
       "<Figure size 432x288 with 1 Axes>"
      ]
     },
     "metadata": {
      "needs_background": "light"
     },
     "output_type": "display_data"
    }
   ],
   "source": [
    "y_train.astype(int).hist()\n",
    "plt.title(\"Distribution of binarized values\")"
   ]
  },
  {
   "cell_type": "code",
   "execution_count": 18,
   "id": "59051acf",
   "metadata": {},
   "outputs": [],
   "source": [
    "external_data_with_preds = pd.concat([external_smiles, y_cla, y_reg], axis=1)\n",
    "external_data_with_preds[\"pred_reg_IC50\"] = external_data_with_preds[\"pred_reg\"].apply(lambda x: np.power(10, -x) * 10e9)\n",
    "external_data_with_preds = external_data_with_preds.sort_values(\"pred_cla\", ascending=False)"
   ]
  },
  {
   "cell_type": "code",
   "execution_count": 19,
   "id": "51fc5794",
   "metadata": {},
   "outputs": [
    {
     "data": {
      "image/png": "[encoded data removed]",
      "text/plain": [
       "<Figure size 432x288 with 1 Axes>"
      ]
     },
     "metadata": {
      "needs_background": "light"
     },
     "output_type": "display_data"
    }
   ],
   "source": [
    "external_data_with_preds[\"pred_cla\"].hist(bins=30)\n",
    "plt.title(\"Distribution of classifier probability for ZINC20 candidates\")\n",
    "plt.xlabel(\"Classifier probability\")\n",
    "plt.ylabel(\"Count\")\n",
    "plt.savefig(fname=\"zinc20_classifier_distribution.pdf\", format=\"pdf\", dpi=200, bbox_inches='tight')"
   ]
  },
  {
   "cell_type": "code",
   "execution_count": 20,
   "id": "d57d18c1",
   "metadata": {},
   "outputs": [
    {
     "data": {
      "image/png": "[encoded data removed]",
      "text/plain": [
       "<Figure size 432x288 with 1 Axes>"
      ]
     },
     "metadata": {
      "needs_background": "light"
     },
     "output_type": "display_data"
    }
   ],
   "source": [
    "external_data_with_preds[\"pred_reg\"].hist(bins=30)\n",
    "plt.title(\"Distribution of pIC50 values for ZINC20 candidates\")\n",
    "plt.xlabel(\"pIC50\")\n",
    "plt.ylabel(\"Count\")\n",
    "plt.savefig(fname=\"zinc20_regressor_distribution.pdf\", format=\"pdf\", dpi=200, bbox_inches='tight')\n"
   ]
  },
  {
   "cell_type": "code",
   "execution_count": 26,
   "id": "212b90b2",
   "metadata": {},
   "outputs": [],
   "source": [
    "# external_data_with_preds"
   ]
  },
  {
   "cell_type": "code",
   "execution_count": 23,
   "id": "e7c2f2c9",
   "metadata": {},
   "outputs": [],
   "source": [
    "external_data_with_preds.to_csv(DATA_DIR/\"candidates\"/\"20230131-L3900-Preclinical-Clinical-Compound-Library_preds.csv\", index=False, sep=\"\\t\")"
   ]
  },
  {
   "cell_type": "code",
   "execution_count": 32,
   "id": "3e41d02d",
   "metadata": {},
   "outputs": [
    {
     "data": {
      "image/png": "[encoded data removed]",
      "text/plain": [
       "<Figure size 432x288 with 1 Axes>"
      ]
     },
     "metadata": {
      "needs_background": "light"
     },
     "output_type": "display_data"
    }
   ],
   "source": [
    "relevant_subset = external_data_with_preds[external_data_with_preds[\"pred_cla\"] > 0.9]\n",
    "relevant_subset[relevant_subset[\"pred_reg_IC50\"]< 30000][\"pred_reg_IC50\"].hist(bins=30)\n",
    "plt.title(\"Distribution of pIC50 values for ZINC20 subset\")\n",
    "plt.xlabel(\"IC50 [nM]\")\n",
    "plt.ylabel(\"Count\")\n",
    "plt.savefig(fname=\"zinc20_classifier_distribution_subset.pdf\", format=\"pdf\", dpi=200, bbox_inches='tight')"
   ]
  },
  {
   "cell_type": "code",
   "execution_count": 38,
   "id": "3c32c4bc",
   "metadata": {},
   "outputs": [
    {
     "name": "stdout",
     "output_type": "stream",
     "text": [
      "0.8018433179723502\n"
     ]
    }
   ],
   "source": [
    "print(relevant_subset[relevant_subset[\"pred_reg_IC50\"]< 5000][\"pred_reg_IC50\"].shape[0]/relevant_subset[relevant_subset[\"pred_reg_IC50\"]< 30000][\"pred_reg_IC50\"].shape[0])"
   ]
  },
  {
   "cell_type": "code",
   "execution_count": 34,
   "id": "e8edec14",
   "metadata": {},
   "outputs": [
    {
     "name": "stdout",
     "output_type": "stream",
     "text": [
      "36.682449290874565\n",
      "16556.51976260363\n"
     ]
    }
   ],
   "source": [
    "print(relevant_subset[relevant_subset[\"pred_reg_IC50\"]< 30000][\"pred_reg_IC50\"].min())\n",
    "print(relevant_subset[relevant_subset[\"pred_reg_IC50\"]< 30000][\"pred_reg_IC50\"].max())"
   ]
  },
  {
   "cell_type": "code",
   "execution_count": null,
   "id": "2ea5a464",
   "metadata": {},
   "outputs": [],
   "source": [
    "external_data_with_preds.sort_values(\"pred_reg_IC50\")"
   ]
  },
  {
   "cell_type": "code",
   "execution_count": null,
   "id": "b3d5d071",
   "metadata": {},
   "outputs": [],
   "source": [
    "external_data_with_preds.sort_values(\"pred_reg_IC50\")"
   ]
  },
  {
   "cell_type": "code",
   "execution_count": null,
   "id": "cf4c9409",
   "metadata": {},
   "outputs": [],
   "source": [
    "external_data_with_preds.to_csv(co.DATA_DIR_CANDIDATES/\"search_space_ror_gamma_all_active_predictions_with_chembl.csv\", index=False)"
   ]
  },
  {
   "cell_type": "code",
   "execution_count": null,
   "id": "ef864863",
   "metadata": {},
   "outputs": [],
   "source": []
  }
 ],
 "metadata": {
  "kernelspec": {
   "display_name": "Python 3.8.13 ('rorgammaqsar')",
   "language": "python",
   "name": "python3"
  },
  "language_info": {
   "codemirror_mode": {
    "name": "ipython",
    "version": 3
   },
   "file_extension": ".py",
   "mimetype": "text/x-python",
   "name": "python",
   "nbconvert_exporter": "python",
   "pygments_lexer": "ipython3",
   "version": "3.8.13"
  },
  "vscode": {
   "interpreter": {
    "hash": "acfffd18c244b8f5a510cc01b749d984390c6dc8073ed7353ae0aaf37db191b1"
   }
  }
 },
 "nbformat": 4,
 "nbformat_minor": 5
}
