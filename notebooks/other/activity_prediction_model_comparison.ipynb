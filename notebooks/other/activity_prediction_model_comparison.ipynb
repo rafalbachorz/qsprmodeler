{
 "cells": [
  {
   "cell_type": "code",
   "execution_count": 1,
   "id": "2c1e93a8",
   "metadata": {},
   "outputs": [],
   "source": [
    "import constants as co\n",
    "from analyzers import analyze_classifier, analyze_regressor, get_model_predictions\n",
    "from auxiliary import loggers\n",
    "\n",
    "from pathlib import Path\n",
    "import sys\n",
    "\n",
    "import pandas as pd\n",
    "import numpy as np\n",
    "import os\n",
    "\n",
    "import pickle\n",
    "import json\n",
    "import re\n",
    "\n",
    "%matplotlib inline\n",
    "import seaborn as sns\n",
    "\n",
    "pd.set_option('display.max_columns', None)\n",
    "random_seed = 42\n",
    "\n",
    "%config Completer.use_jedi = False\n",
    "\n",
    "l = loggers.get_logger(logger_name=\"logger\")\n",
    "\n",
    "METHOD_PREFIX = \"rf\"\n",
    "RESULT_FILE_REGRESSOR = \"result_regressor_rf.csv\"\n",
    "RESULT_FILE_CLASSIFIER = \"result_classifier_rf.csv\""
   ]
  },
  {
   "cell_type": "code",
   "execution_count": 2,
   "id": "2b7b9429",
   "metadata": {},
   "outputs": [
    {
     "name": "stderr",
     "output_type": "stream",
     "text": [
      "2023-01-22 16:06:01,600 - logger - INFO - rorgammaqsar\n"
     ]
    }
   ],
   "source": [
    "l.info(os.environ['CONDA_DEFAULT_ENV'])"
   ]
  },
  {
   "cell_type": "code",
   "execution_count": 3,
   "id": "9f67483f",
   "metadata": {},
   "outputs": [],
   "source": [
    "def parse_results_classifier(file_name, n_rows, n_dec=4):\n",
    "    results = pd.read_csv(file_name, header=None)\n",
    "    results.columns = [\"use case\", \"precision\", \"recall\", \"accuracy\", \"f1\", \"rocauc\", \"ap\", \"mcc\"]\n",
    "    results_test = results.loc[list(range(0, n_rows, 2)), :]\n",
    "    results_train = results.loc[list(range(1, n_rows, 2)), :]\n",
    "    results_test.iloc[:, 1:] = results_test.iloc[:, 1:].apply(lambda x: np.round(x, n_dec))\n",
    "    results_train.iloc[:, 1:] = results_train.iloc[:, 1:].apply(lambda x: np.round(x, n_dec))\n",
    "    return results_test, results_train\n",
    "\n",
    "def parse_results_regressor(file_name, n_rows, n_dec=4):\n",
    "    results = pd.read_csv(file_name, header=None)\n",
    "    results.columns = [\"use case\", \"r2\", \"mse\", \"msle\", \"mae\", \"mape\"]\n",
    "    results_test = results.loc[list(range(0, n_rows, 2)), :]\n",
    "    results_train = results.loc[list(range(1, n_rows, 2)), :]\n",
    "    results_test.iloc[:, 1:] = results_test.iloc[:, 1:].apply(lambda x: np.round(x, n_dec))\n",
    "    results_train.iloc[:, 1:] = results_train.iloc[:, 1:].apply(lambda x: np.round(x, n_dec))\n",
    "    return results_test, results_train\n",
    "\n",
    "def prepare_methodology_naming(series, methodology_in=\"M_RandomForest\", methodology_out=\"RF\"):\n",
    "    return series.apply(lambda x: re.sub(methodology_in, methodology_out, x)).apply(lambda x: re.sub(\"_NoScaling\", \"\", x)).apply(lambda x: re.sub(\"median_100\", \"median100\", x)).apply(lambda x: re.sub(\"mean_100_\", \"mean100_\", x))\\\n",
    "    .apply(lambda x: re.sub(\"mean_1000000\", \"meanNoLim\", x)).apply(lambda x: re.sub(\"FP_MD\", \"FPMD\", x)).apply(lambda x: re.sub(\"PCA_128\", \"PCA128\", x)).apply(lambda x: re.sub(\"PCA_256\", \"PCA256\", x))\\\n",
    "    .apply(lambda x: re.sub(\"PCA_512\", \"PCA512\", x)).apply(lambda x: re.sub(\"PCA_1024\", \"PCA1024\", x)).apply(lambda x: re.sub(\"_\", \",\", x))"
   ]
  },
  {
   "cell_type": "code",
   "execution_count": 4,
   "id": "11c347a4",
   "metadata": {},
   "outputs": [],
   "source": [
    "best_classifiers = pd.DataFrame()\n",
    "best_regressors = pd.DataFrame()"
   ]
  },
  {
   "cell_type": "markdown",
   "id": "ba8241b8",
   "metadata": {},
   "source": [
    "# Random forest"
   ]
  },
  {
   "cell_type": "code",
   "execution_count": 5,
   "id": "eb126f4d",
   "metadata": {},
   "outputs": [
    {
     "data": {
      "text/html": [
       "<div>\n",
       "<style scoped>\n",
       "    .dataframe tbody tr th:only-of-type {\n",
       "        vertical-align: middle;\n",
       "    }\n",
       "\n",
       "    .dataframe tbody tr th {\n",
       "        vertical-align: top;\n",
       "    }\n",
       "\n",
       "    .dataframe thead th {\n",
       "        text-align: right;\n",
       "    }\n",
       "</style>\n",
       "<table border=\"1\" class=\"dataframe\">\n",
       "  <thead>\n",
       "    <tr style=\"text-align: right;\">\n",
       "      <th></th>\n",
       "      <th>use case</th>\n",
       "      <th>precision</th>\n",
       "      <th>recall</th>\n",
       "      <th>accuracy</th>\n",
       "      <th>f1</th>\n",
       "      <th>rocauc</th>\n",
       "      <th>ap</th>\n",
       "      <th>mcc</th>\n",
       "    </tr>\n",
       "  </thead>\n",
       "  <tbody>\n",
       "    <tr>\n",
       "      <th>6</th>\n",
       "      <td>RF,FP,NoPCA,median100,test</td>\n",
       "      <td>0.8931</td>\n",
       "      <td>0.966</td>\n",
       "      <td>0.9013</td>\n",
       "      <td>0.9281</td>\n",
       "      <td>0.8712</td>\n",
       "      <td>0.8851</td>\n",
       "      <td>0.7778</td>\n",
       "    </tr>\n",
       "  </tbody>\n",
       "</table>\n",
       "</div>"
      ],
      "text/plain": [
       "                     use case  precision  recall  accuracy      f1  rocauc  \\\n",
       "6  RF,FP,NoPCA,median100,test     0.8931   0.966    0.9013  0.9281  0.8712   \n",
       "\n",
       "       ap     mcc  \n",
       "6  0.8851  0.7778  "
      ]
     },
     "execution_count": 5,
     "metadata": {},
     "output_type": "execute_result"
    }
   ],
   "source": [
    "results_test, results_train = parse_results_classifier(file_name=\"result_classifier_rf.csv\", n_rows=36)\n",
    "results_test[\"use case\"] = prepare_methodology_naming(results_test[\"use case\"], methodology_in = \"M_RandomForest\", methodology_out = \"RF\")\n",
    "results_train[\"use case\"] = prepare_methodology_naming(results_train[\"use case\"], methodology_in = \"M_RandomForest\", methodology_out = \"RF\")\n",
    "best_classifiers = pd.concat([best_classifiers, results_test.sort_values(\"accuracy\", ascending=False).iloc[[0],:]])\n",
    "best_classifiers"
   ]
  },
  {
   "cell_type": "code",
   "execution_count": 6,
   "id": "6ecd9240",
   "metadata": {},
   "outputs": [
    {
     "name": "stderr",
     "output_type": "stream",
     "text": [
      "/tmp/ipykernel_31177/34622521.py:1: FutureWarning: Dropping of nuisance columns in DataFrame reductions (with 'numeric_only=None') is deprecated; in a future version this will raise TypeError.  Select only valid columns before calling the reduction.\n",
      "  results_test.mean()\n"
     ]
    },
    {
     "data": {
      "text/plain": [
       "precision    0.873356\n",
       "recall       0.939139\n",
       "accuracy     0.864456\n",
       "f1           0.904383\n",
       "rocauc       0.817578\n",
       "ap           0.861683\n",
       "mcc          0.674456\n",
       "dtype: float64"
      ]
     },
     "execution_count": 6,
     "metadata": {},
     "output_type": "execute_result"
    }
   ],
   "source": [
    "results_test.mean()"
   ]
  },
  {
   "cell_type": "code",
   "execution_count": 7,
   "id": "9a942221",
   "metadata": {},
   "outputs": [
    {
     "name": "stdout",
     "output_type": "stream",
     "text": [
      "\\begin{tabular}{lrrrrrrr}\n",
      "use case & precision & recall & accuracy & f1 & rocauc & ap & mcc \\\\\n",
      "RF,MD,NoPCA,median100,test & 0.8688 & 0.9456 & 0.8700 & 0.9055 & 0.8346 & 0.8573 & 0.7046 \\\\\n",
      "RF,MD,NoPCA,mean100,test & 0.8688 & 0.9456 & 0.8700 & 0.9055 & 0.8346 & 0.8573 & 0.7046 \\\\\n",
      "RF,MD,NoPCA,meanNoLim,test & 0.8667 & 0.9235 & 0.8387 & 0.8942 & 0.7617 & 0.8568 & 0.5616 \\\\\n",
      "RF,FP,NoPCA,median100,test & 0.8931 & 0.9660 & 0.9013 & 0.9281 & 0.8712 & 0.8851 & 0.7778 \\\\\n",
      "RF,FP,NoPCA,mean100,test & 0.8931 & 0.9660 & 0.9013 & 0.9281 & 0.8712 & 0.8851 & 0.7778 \\\\\n",
      "RF,FP,NoPCA,meanNoLim,test & 0.8889 & 0.9180 & 0.8548 & 0.9032 & 0.7975 & 0.8765 & 0.6145 \\\\\n",
      "RF,FPMD,PCA128,median100,test & 0.8563 & 0.9728 & 0.8744 & 0.9108 & 0.8285 & 0.8509 & 0.7181 \\\\\n",
      "RF,FPMD,PCA128,mean100,test & 0.8563 & 0.9728 & 0.8744 & 0.9108 & 0.8285 & 0.8509 & 0.7181 \\\\\n",
      "RF,FPMD,PCA128,meanNoLim,test & 0.8776 & 0.9399 & 0.8589 & 0.9077 & 0.7853 & 0.8692 & 0.6165 \\\\\n",
      "RF,FPMD,PCA256,median100,test & 0.8606 & 0.9660 & 0.8744 & 0.9103 & 0.8317 & 0.8538 & 0.7167 \\\\\n",
      "RF,FPMD,PCA256,mean100,test & 0.8606 & 0.9660 & 0.8744 & 0.9103 & 0.8317 & 0.8538 & 0.7167 \\\\\n",
      "RF,FPMD,PCA256,meanNoLim,test & 0.8719 & 0.9672 & 0.8710 & 0.9171 & 0.7836 & 0.8675 & 0.6473 \\\\\n",
      "RF,FPMD,PCA512,median100,test & 0.8650 & 0.9592 & 0.8744 & 0.9097 & 0.8349 & 0.8566 & 0.7158 \\\\\n",
      "RF,FPMD,PCA512,mean100,test & 0.8650 & 0.9592 & 0.8744 & 0.9097 & 0.8349 & 0.8566 & 0.7158 \\\\\n",
      "RF,FPMD,PCA512,meanNoLim,test & 0.8627 & 0.9617 & 0.8589 & 0.9096 & 0.7655 & 0.8580 & 0.6112 \\\\\n",
      "RF,FPMD,PCA1024,median100,test & 0.8913 & 0.8367 & 0.8251 & 0.8632 & 0.8197 & 0.8534 & 0.6240 \\\\\n",
      "RF,FPMD,PCA1024,mean100,test & 0.8913 & 0.8367 & 0.8251 & 0.8632 & 0.8197 & 0.8534 & 0.6240 \\\\\n",
      "RF,FPMD,PCA1024,meanNoLim,test & 0.8824 & 0.9016 & 0.8387 & 0.8919 & 0.7816 & 0.8681 & 0.5751 \\\\\n",
      "\\end{tabular}\n",
      "\n"
     ]
    }
   ],
   "source": [
    "print(results_test.style.format({\"precision\": '{:.4f}', \"recall\": '{:.4f}', \"accuracy\": '{:.4f}', \"f1\": '{:.4f}', \"rocauc\": '{:.4f}', \"ap\": '{:.4f}', \"mcc\": '{:.4f}'}, precision=4).hide(axis=0).to_latex())"
   ]
  },
  {
   "cell_type": "code",
   "execution_count": 8,
   "id": "738be5d6",
   "metadata": {},
   "outputs": [
    {
     "name": "stdout",
     "output_type": "stream",
     "text": [
      "\\begin{tabular}{lrrrrrrr}\n",
      "use case & precision & recall & accuracy & f1 & rocauc & ap & mcc \\\\\n",
      "RF,MD,NoPCA,median100,training & 0.9769 & 0.9922 & 0.9781 & 0.9845 & 0.9685 & 0.9748 & 0.9473 \\\\\n",
      "RF,MD,NoPCA,mean100,training & 0.9769 & 0.9922 & 0.9781 & 0.9845 & 0.9685 & 0.9748 & 0.9473 \\\\\n",
      "RF,MD,NoPCA,meanNoLim,training & 0.9758 & 0.9933 & 0.9789 & 0.9845 & 0.9710 & 0.9738 & 0.9517 \\\\\n",
      "RF,FP,NoPCA,median100,training & 0.9915 & 0.9972 & 0.9920 & 0.9943 & 0.9885 & 0.9907 & 0.9809 \\\\\n",
      "RF,FP,NoPCA,mean100,training & 0.9915 & 0.9972 & 0.9920 & 0.9943 & 0.9885 & 0.9907 & 0.9809 \\\\\n",
      "RF,FP,NoPCA,meanNoLim,training & 0.9875 & 0.9973 & 0.9897 & 0.9924 & 0.9855 & 0.9867 & 0.9764 \\\\\n",
      "RF,FPMD,PCA128,median100,training & 0.9929 & 0.9957 & 0.9920 & 0.9943 & 0.9895 & 0.9917 & 0.9809 \\\\\n",
      "RF,FPMD,PCA128,mean100,training & 0.9929 & 0.9957 & 0.9920 & 0.9943 & 0.9895 & 0.9917 & 0.9809 \\\\\n",
      "RF,FPMD,PCA128,meanNoLim,training & 0.9901 & 0.9993 & 0.9928 & 0.9947 & 0.9893 & 0.9899 & 0.9836 \\\\\n",
      "RF,FPMD,PCA256,median100,training & 0.9929 & 0.9957 & 0.9920 & 0.9943 & 0.9895 & 0.9917 & 0.9809 \\\\\n",
      "RF,FPMD,PCA256,mean100,training & 0.9929 & 0.9957 & 0.9920 & 0.9943 & 0.9895 & 0.9917 & 0.9809 \\\\\n",
      "RF,FPMD,PCA256,meanNoLim,training & 0.9901 & 0.9993 & 0.9928 & 0.9947 & 0.9893 & 0.9899 & 0.9836 \\\\\n",
      "RF,FPMD,PCA512,median100,training & 0.9922 & 0.9964 & 0.9920 & 0.9943 & 0.9890 & 0.9912 & 0.9809 \\\\\n",
      "RF,FPMD,PCA512,mean100,training & 0.9922 & 0.9964 & 0.9920 & 0.9943 & 0.9890 & 0.9912 & 0.9809 \\\\\n",
      "RF,FPMD,PCA512,meanNoLim,training & 0.9901 & 0.9993 & 0.9928 & 0.9947 & 0.9893 & 0.9899 & 0.9836 \\\\\n",
      "RF,FPMD,PCA1024,median100,training & 0.9908 & 0.9979 & 0.9920 & 0.9943 & 0.9880 & 0.9902 & 0.9809 \\\\\n",
      "RF,FPMD,PCA1024,mean100,training & 0.9908 & 0.9979 & 0.9920 & 0.9943 & 0.9880 & 0.9902 & 0.9809 \\\\\n",
      "RF,FPMD,PCA1024,meanNoLim,training & 0.9901 & 0.9993 & 0.9928 & 0.9947 & 0.9893 & 0.9899 & 0.9836 \\\\\n",
      "\\end{tabular}\n",
      "\n"
     ]
    }
   ],
   "source": [
    "print(results_train.style.format({\"precision\": '{:.4f}', \"recall\": '{:.4f}', \"accuracy\": '{:.4f}', \"f1\": '{:.4f}', \"rocauc\": '{:.4f}', \"ap\": '{:.4f}', \"mcc\": '{:.4f}'}, precision=4).hide(axis=0).to_latex())"
   ]
  },
  {
   "cell_type": "code",
   "execution_count": 9,
   "id": "0d6e4cfa",
   "metadata": {},
   "outputs": [
    {
     "data": {
      "text/html": [
       "<div>\n",
       "<style scoped>\n",
       "    .dataframe tbody tr th:only-of-type {\n",
       "        vertical-align: middle;\n",
       "    }\n",
       "\n",
       "    .dataframe tbody tr th {\n",
       "        vertical-align: top;\n",
       "    }\n",
       "\n",
       "    .dataframe thead th {\n",
       "        text-align: right;\n",
       "    }\n",
       "</style>\n",
       "<table border=\"1\" class=\"dataframe\">\n",
       "  <thead>\n",
       "    <tr style=\"text-align: right;\">\n",
       "      <th></th>\n",
       "      <th>use case</th>\n",
       "      <th>r2</th>\n",
       "      <th>mse</th>\n",
       "      <th>msle</th>\n",
       "      <th>mae</th>\n",
       "      <th>mape</th>\n",
       "    </tr>\n",
       "  </thead>\n",
       "  <tbody>\n",
       "    <tr>\n",
       "      <th>6</th>\n",
       "      <td>RF,FP,NoPCA,median100,test</td>\n",
       "      <td>0.7423</td>\n",
       "      <td>0.3767</td>\n",
       "      <td>0.0075</td>\n",
       "      <td>0.4605</td>\n",
       "      <td>0.0776</td>\n",
       "    </tr>\n",
       "  </tbody>\n",
       "</table>\n",
       "</div>"
      ],
      "text/plain": [
       "                     use case      r2     mse    msle     mae    mape\n",
       "6  RF,FP,NoPCA,median100,test  0.7423  0.3767  0.0075  0.4605  0.0776"
      ]
     },
     "execution_count": 9,
     "metadata": {},
     "output_type": "execute_result"
    }
   ],
   "source": [
    "results_test, results_train = parse_results_regressor(file_name=\"result_regressor_rf.csv\", n_rows=36)\n",
    "results_test[\"use case\"] = prepare_methodology_naming(results_test[\"use case\"], methodology_in = \"M_RandomForest\", methodology_out = \"RF\")\n",
    "results_train[\"use case\"] = prepare_methodology_naming(results_train[\"use case\"], methodology_in = \"M_RandomForest\", methodology_out = \"RF\")\n",
    "best_regressors = pd.concat([best_regressors, results_test.sort_values(\"mse\", ascending=True).iloc[[0],:]])\n",
    "best_regressors"
   ]
  },
  {
   "cell_type": "code",
   "execution_count": 10,
   "id": "25e2e623",
   "metadata": {},
   "outputs": [
    {
     "name": "stderr",
     "output_type": "stream",
     "text": [
      "/tmp/ipykernel_31177/34622521.py:1: FutureWarning: Dropping of nuisance columns in DataFrame reductions (with 'numeric_only=None') is deprecated; in a future version this will raise TypeError.  Select only valid columns before calling the reduction.\n",
      "  results_test.mean()\n"
     ]
    },
    {
     "data": {
      "text/plain": [
       "r2      0.643733\n",
       "mse     0.462739\n",
       "msle    0.009300\n",
       "mae     0.511328\n",
       "mape    0.085822\n",
       "dtype: float64"
      ]
     },
     "execution_count": 10,
     "metadata": {},
     "output_type": "execute_result"
    }
   ],
   "source": [
    "results_test.mean()"
   ]
  },
  {
   "cell_type": "code",
   "execution_count": 11,
   "id": "84e76917",
   "metadata": {},
   "outputs": [
    {
     "name": "stdout",
     "output_type": "stream",
     "text": [
      "\\begin{tabular}{lrrrrr}\n",
      "use case & r2 & mse & msle & mae & mape \\\\\n",
      "RF,MD,NoPCA,median100,test & 0.7312 & 0.3929 & 0.0081 & 0.4511 & 0.0770 \\\\\n",
      "RF,MD,NoPCA,mean100,test & 0.6575 & 0.4961 & 0.0101 & 0.5176 & 0.0879 \\\\\n",
      "RF,MD,NoPCA,meanNoLim,test & 0.5485 & 0.4807 & 0.0088 & 0.5342 & 0.0847 \\\\\n",
      "RF,FP,NoPCA,median100,test & 0.7423 & 0.3767 & 0.0075 & 0.4605 & 0.0776 \\\\\n",
      "RF,FP,NoPCA,mean100,test & 0.7289 & 0.3927 & 0.0078 & 0.4651 & 0.0785 \\\\\n",
      "RF,FP,NoPCA,meanNoLim,test & 0.6195 & 0.4051 & 0.0075 & 0.4669 & 0.0744 \\\\\n",
      "RF,FPMD,PCA128,median100,test & 0.6822 & 0.4646 & 0.0096 & 0.5033 & 0.0863 \\\\\n",
      "RF,FPMD,PCA128,mean100,test & 0.6737 & 0.4726 & 0.0099 & 0.5087 & 0.0878 \\\\\n",
      "RF,FPMD,PCA128,meanNoLim,test & 0.5884 & 0.4383 & 0.0082 & 0.5043 & 0.0810 \\\\\n",
      "RF,FPMD,PCA256,median100,test & 0.6628 & 0.4930 & 0.0103 & 0.5212 & 0.0898 \\\\\n",
      "RF,FPMD,PCA256,mean100,test & 0.6618 & 0.4898 & 0.0102 & 0.5219 & 0.0900 \\\\\n",
      "RF,FPMD,PCA256,meanNoLim,test & 0.5798 & 0.4474 & 0.0085 & 0.5094 & 0.0821 \\\\\n",
      "RF,FPMD,PCA512,median100,test & 0.6613 & 0.4951 & 0.0103 & 0.5294 & 0.0911 \\\\\n",
      "RF,FPMD,PCA512,mean100,test & 0.6680 & 0.4809 & 0.0102 & 0.5190 & 0.0900 \\\\\n",
      "RF,FPMD,PCA512,meanNoLim,test & 0.5623 & 0.4661 & 0.0089 & 0.5225 & 0.0845 \\\\\n",
      "RF,FPMD,PCA1024,median100,test & 0.6356 & 0.5327 & 0.0113 & 0.5654 & 0.0978 \\\\\n",
      "RF,FPMD,PCA1024,mean100,test & 0.6479 & 0.5100 & 0.0109 & 0.5558 & 0.0964 \\\\\n",
      "RF,FPMD,PCA1024,meanNoLim,test & 0.5355 & 0.4946 & 0.0093 & 0.5476 & 0.0879 \\\\\n",
      "\\end{tabular}\n",
      "\n"
     ]
    }
   ],
   "source": [
    "print(results_test.style.format({\"r2\": '{:.4f}', \"mse\": '{:.4f}', \"msle\": '{:.4f}', \"mae\": '{:.4f}', \"mape\": '{:.4f}'}, precision=4).hide(axis=0).to_latex())"
   ]
  },
  {
   "cell_type": "code",
   "execution_count": 12,
   "id": "e2c27201",
   "metadata": {},
   "outputs": [
    {
     "name": "stdout",
     "output_type": "stream",
     "text": [
      "\\begin{tabular}{lrrrrr}\n",
      "use case & r2 & mse & msle & mae & mape \\\\\n",
      "RF,MD,NoPCA,median100,test & 0.9373 & 0.0815 & 0.0017 & 0.2135 & 0.0349 \\\\\n",
      "RF,MD,NoPCA,mean100,test & 0.9206 & 0.1027 & 0.0021 & 0.2381 & 0.0390 \\\\\n",
      "RF,MD,NoPCA,meanNoLim,test & 0.9144 & 0.1094 & 0.0022 & 0.2455 & 0.0405 \\\\\n",
      "RF,FP,NoPCA,median100,test & 0.9381 & 0.0805 & 0.0016 & 0.2147 & 0.0352 \\\\\n",
      "RF,FP,NoPCA,mean100,test & 0.9349 & 0.0842 & 0.0017 & 0.2195 & 0.0360 \\\\\n",
      "RF,FP,NoPCA,meanNoLim,test & 0.9317 & 0.0873 & 0.0017 & 0.2260 & 0.0371 \\\\\n",
      "RF,FPMD,PCA128,median100,test & 0.9426 & 0.0746 & 0.0015 & 0.2064 & 0.0340 \\\\\n",
      "RF,FPMD,PCA128,mean100,test & 0.9421 & 0.0749 & 0.0016 & 0.2047 & 0.0337 \\\\\n",
      "RF,FPMD,PCA128,meanNoLim,test & 0.9408 & 0.0756 & 0.0016 & 0.2079 & 0.0344 \\\\\n",
      "RF,FPMD,PCA256,median100,test & 0.9381 & 0.0804 & 0.0017 & 0.2138 & 0.0353 \\\\\n",
      "RF,FPMD,PCA256,mean100,test & 0.9404 & 0.0771 & 0.0016 & 0.2099 & 0.0347 \\\\\n",
      "RF,FPMD,PCA256,meanNoLim,test & 0.9334 & 0.0851 & 0.0018 & 0.2244 & 0.0371 \\\\\n",
      "RF,FPMD,PCA512,median100,test & 0.9379 & 0.0806 & 0.0017 & 0.2131 & 0.0354 \\\\\n",
      "RF,FPMD,PCA512,mean100,test & 0.9315 & 0.0886 & 0.0018 & 0.2296 & 0.0378 \\\\\n",
      "RF,FPMD,PCA512,meanNoLim,test & 0.9346 & 0.0835 & 0.0017 & 0.2225 & 0.0369 \\\\\n",
      "RF,FPMD,PCA1024,median100,test & 0.9264 & 0.0956 & 0.0019 & 0.2414 & 0.0395 \\\\\n",
      "RF,FPMD,PCA1024,mean100,test & 0.9361 & 0.0827 & 0.0017 & 0.2187 & 0.0363 \\\\\n",
      "RF,FPMD,PCA1024,meanNoLim,test & 0.9342 & 0.0841 & 0.0018 & 0.2217 & 0.0369 \\\\\n",
      "\\end{tabular}\n",
      "\n"
     ]
    }
   ],
   "source": [
    "print(results_train.style.format({\"r2\": '{:.4f}', \"mse\": '{:.4f}', \"msle\": '{:.4f}', \"mae\": '{:.4f}', \"mape\": '{:.4f}'}, precision=4).hide(axis=0).to_latex())"
   ]
  },
  {
   "cell_type": "markdown",
   "id": "848dea78",
   "metadata": {},
   "source": [
    "# Suppot vector machines"
   ]
  },
  {
   "cell_type": "code",
   "execution_count": 13,
   "id": "c5072a68",
   "metadata": {},
   "outputs": [
    {
     "data": {
      "text/html": [
       "<div>\n",
       "<style scoped>\n",
       "    .dataframe tbody tr th:only-of-type {\n",
       "        vertical-align: middle;\n",
       "    }\n",
       "\n",
       "    .dataframe tbody tr th {\n",
       "        vertical-align: top;\n",
       "    }\n",
       "\n",
       "    .dataframe thead th {\n",
       "        text-align: right;\n",
       "    }\n",
       "</style>\n",
       "<table border=\"1\" class=\"dataframe\">\n",
       "  <thead>\n",
       "    <tr style=\"text-align: right;\">\n",
       "      <th></th>\n",
       "      <th>use case</th>\n",
       "      <th>precision</th>\n",
       "      <th>recall</th>\n",
       "      <th>accuracy</th>\n",
       "      <th>f1</th>\n",
       "      <th>rocauc</th>\n",
       "      <th>ap</th>\n",
       "      <th>mcc</th>\n",
       "    </tr>\n",
       "  </thead>\n",
       "  <tbody>\n",
       "    <tr>\n",
       "      <th>6</th>\n",
       "      <td>RF,FP,NoPCA,median100,test</td>\n",
       "      <td>0.8931</td>\n",
       "      <td>0.9660</td>\n",
       "      <td>0.9013</td>\n",
       "      <td>0.9281</td>\n",
       "      <td>0.8712</td>\n",
       "      <td>0.8851</td>\n",
       "      <td>0.7778</td>\n",
       "    </tr>\n",
       "    <tr>\n",
       "      <th>32</th>\n",
       "      <td>SVM,FPMD,Scaling,PCA1024,mean100,test</td>\n",
       "      <td>0.9211</td>\n",
       "      <td>0.9524</td>\n",
       "      <td>0.9148</td>\n",
       "      <td>0.9365</td>\n",
       "      <td>0.8972</td>\n",
       "      <td>0.9086</td>\n",
       "      <td>0.8084</td>\n",
       "    </tr>\n",
       "  </tbody>\n",
       "</table>\n",
       "</div>"
      ],
      "text/plain": [
       "                                 use case  precision  recall  accuracy  \\\n",
       "6              RF,FP,NoPCA,median100,test     0.8931  0.9660    0.9013   \n",
       "32  SVM,FPMD,Scaling,PCA1024,mean100,test     0.9211  0.9524    0.9148   \n",
       "\n",
       "        f1  rocauc      ap     mcc  \n",
       "6   0.9281  0.8712  0.8851  0.7778  \n",
       "32  0.9365  0.8972  0.9086  0.8084  "
      ]
     },
     "execution_count": 13,
     "metadata": {},
     "output_type": "execute_result"
    }
   ],
   "source": [
    "results_test, results_train = parse_results_classifier(file_name=\"result_classifier_svm.csv\", n_rows=36)\n",
    "results_test[\"use case\"] = prepare_methodology_naming(results_test[\"use case\"], methodology_in=\"M_SVM\", methodology_out = \"SVM\")\n",
    "results_train[\"use case\"] = prepare_methodology_naming(results_train[\"use case\"], methodology_in=\"M_SVM\", methodology_out = \"SVM\")\n",
    "best_classifiers = pd.concat([best_classifiers, results_test.sort_values(\"accuracy\", ascending=False).iloc[[0],:]])\n",
    "best_classifiers"
   ]
  },
  {
   "cell_type": "code",
   "execution_count": 14,
   "id": "d8305346",
   "metadata": {},
   "outputs": [
    {
     "name": "stderr",
     "output_type": "stream",
     "text": [
      "/tmp/ipykernel_31177/34622521.py:1: FutureWarning: Dropping of nuisance columns in DataFrame reductions (with 'numeric_only=None') is deprecated; in a future version this will raise TypeError.  Select only valid columns before calling the reduction.\n",
      "  results_test.mean()\n"
     ]
    },
    {
     "data": {
      "text/plain": [
       "precision    0.896478\n",
       "recall       0.946572\n",
       "accuracy     0.887483\n",
       "f1           0.920689\n",
       "rocauc       0.848522\n",
       "ap           0.885311\n",
       "mcc          0.725661\n",
       "dtype: float64"
      ]
     },
     "execution_count": 14,
     "metadata": {},
     "output_type": "execute_result"
    }
   ],
   "source": [
    "results_test.mean()"
   ]
  },
  {
   "cell_type": "code",
   "execution_count": 15,
   "id": "cb2e193d",
   "metadata": {},
   "outputs": [
    {
     "name": "stdout",
     "output_type": "stream",
     "text": [
      "\\begin{tabular}{lrrrrrrr}\n",
      "use case & precision & recall & accuracy & f1 & rocauc & ap & mcc \\\\\n",
      "SVM,MD,Scaling,NoPCA,median100,test & 0.8589 & 0.9524 & 0.8655 & 0.9032 & 0.8249 & 0.8494 & 0.6945 \\\\\n",
      "SVM,MD,Scaling,NoPCA,mean100,test & 0.8589 & 0.9524 & 0.8655 & 0.9032 & 0.8249 & 0.8494 & 0.6945 \\\\\n",
      "SVM,MD,Scaling,NoPCA,meanNoLim,test & 0.8537 & 0.9563 & 0.8468 & 0.9021 & 0.7474 & 0.8486 & 0.5747 \\\\\n",
      "SVM,FP,NoPCA,median100,test & 0.9020 & 0.9388 & 0.8924 & 0.9200 & 0.8707 & 0.8871 & 0.7572 \\\\\n",
      "SVM,FP,NoPCA,mean100,test & 0.9020 & 0.9388 & 0.8924 & 0.9200 & 0.8707 & 0.8871 & 0.7572 \\\\\n",
      "SVM,FP,NoPCA,meanNoLim,test & 0.8953 & 0.9344 & 0.8710 & 0.9144 & 0.8134 & 0.8850 & 0.6551 \\\\\n",
      "SVM,FPMD,Scaling,PCA128,median100,test & 0.9085 & 0.9456 & 0.9013 & 0.9267 & 0.8807 & 0.8949 & 0.7776 \\\\\n",
      "SVM,FPMD,Scaling,PCA128,mean100,test & 0.9085 & 0.9456 & 0.9013 & 0.9267 & 0.8807 & 0.8949 & 0.7776 \\\\\n",
      "SVM,FPMD,Scaling,PCA128,meanNoLim,test & 0.8832 & 0.9508 & 0.8710 & 0.9158 & 0.7985 & 0.8761 & 0.6496 \\\\\n",
      "SVM,FPMD,Scaling,PCA256,median100,test & 0.9150 & 0.9524 & 0.9103 & 0.9333 & 0.8907 & 0.9028 & 0.7980 \\\\\n",
      "SVM,FPMD,Scaling,PCA256,mean100,test & 0.9150 & 0.9524 & 0.9103 & 0.9333 & 0.8907 & 0.9028 & 0.7980 \\\\\n",
      "SVM,FPMD,Scaling,PCA256,meanNoLim,test & 0.8866 & 0.9399 & 0.8669 & 0.9125 & 0.8007 & 0.8777 & 0.6409 \\\\\n",
      "SVM,FPMD,Scaling,PCA512,median100,test & 0.9150 & 0.9524 & 0.9103 & 0.9333 & 0.8907 & 0.9028 & 0.7980 \\\\\n",
      "SVM,FPMD,Scaling,PCA512,mean100,test & 0.9150 & 0.9524 & 0.9103 & 0.9333 & 0.8907 & 0.9028 & 0.7980 \\\\\n",
      "SVM,FPMD,Scaling,PCA512,meanNoLim,test & 0.8947 & 0.9290 & 0.8669 & 0.9115 & 0.8106 & 0.8836 & 0.6455 \\\\\n",
      "SVM,FPMD,Scaling,PCA1024,median100,test & 0.9211 & 0.9524 & 0.9148 & 0.9365 & 0.8972 & 0.9086 & 0.8084 \\\\\n",
      "SVM,FPMD,Scaling,PCA1024,mean100,test & 0.9211 & 0.9524 & 0.9148 & 0.9365 & 0.8972 & 0.9086 & 0.8084 \\\\\n",
      "SVM,FPMD,Scaling,PCA1024,meanNoLim,test & 0.8821 & 0.9399 & 0.8629 & 0.9101 & 0.7930 & 0.8734 & 0.6287 \\\\\n",
      "\\end{tabular}\n",
      "\n"
     ]
    }
   ],
   "source": [
    "print(results_test.style.format({\"precision\": '{:.4f}', \"recall\": '{:.4f}', \"accuracy\": '{:.4f}', \"f1\": '{:.4f}', \"rocauc\": '{:.4f}', \"ap\": '{:.4f}', \"mcc\": '{:.4f}'}, precision=4).hide(axis=0).to_latex())"
   ]
  },
  {
   "cell_type": "code",
   "execution_count": 16,
   "id": "8e68a5a8",
   "metadata": {},
   "outputs": [
    {
     "name": "stdout",
     "output_type": "stream",
     "text": [
      "\\begin{tabular}{lrrrrrrr}\n",
      "use case & precision & recall & accuracy & f1 & rocauc & ap & mcc \\\\\n",
      "SVM,MD,Scaling,NoPCA,median100,training & 0.8591 & 0.9524 & 0.8569 & 0.9033 & 0.7920 & 0.8516 & 0.6430 \\\\\n",
      "SVM,MD,Scaling,NoPCA,mean100,training & 0.8591 & 0.9524 & 0.8569 & 0.9033 & 0.7920 & 0.8516 & 0.6430 \\\\\n",
      "SVM,MD,Scaling,NoPCA,meanNoLim,training & 0.8419 & 0.9388 & 0.8395 & 0.8877 & 0.7856 & 0.8317 & 0.6205 \\\\\n",
      "SVM,FP,NoPCA,median100,training & 0.9499 & 0.9822 & 0.9511 & 0.9658 & 0.9300 & 0.9455 & 0.8819 \\\\\n",
      "SVM,FP,NoPCA,mean100,training & 0.9499 & 0.9822 & 0.9511 & 0.9658 & 0.9300 & 0.9455 & 0.8819 \\\\\n",
      "SVM,FP,NoPCA,meanNoLim,training & 0.9536 & 0.9840 & 0.9568 & 0.9686 & 0.9421 & 0.9491 & 0.9009 \\\\\n",
      "SVM,FPMD,Scaling,PCA128,median100,training & 0.9319 & 0.9815 & 0.9367 & 0.9561 & 0.9062 & 0.9277 & 0.8465 \\\\\n",
      "SVM,FPMD,Scaling,PCA128,mean100,training & 0.9319 & 0.9815 & 0.9367 & 0.9561 & 0.9062 & 0.9277 & 0.8465 \\\\\n",
      "SVM,FPMD,Scaling,PCA128,meanNoLim,training & 0.9268 & 0.9767 & 0.9321 & 0.9511 & 0.9079 & 0.9209 & 0.8435 \\\\\n",
      "SVM,FPMD,Scaling,PCA256,median100,training & 0.9384 & 0.9851 & 0.9441 & 0.9612 & 0.9163 & 0.9349 & 0.8650 \\\\\n",
      "SVM,FPMD,Scaling,PCA256,mean100,training & 0.9384 & 0.9851 & 0.9441 & 0.9612 & 0.9163 & 0.9349 & 0.8650 \\\\\n",
      "SVM,FPMD,Scaling,PCA256,meanNoLim,training & 0.9389 & 0.9820 & 0.9447 & 0.9600 & 0.9244 & 0.9342 & 0.8729 \\\\\n",
      "SVM,FPMD,Scaling,PCA512,median100,training & 0.9481 & 0.9858 & 0.9521 & 0.9666 & 0.9292 & 0.9446 & 0.8844 \\\\\n",
      "SVM,FPMD,Scaling,PCA512,mean100,training & 0.9481 & 0.9858 & 0.9521 & 0.9666 & 0.9292 & 0.9446 & 0.8844 \\\\\n",
      "SVM,FPMD,Scaling,PCA512,meanNoLim,training & 0.9494 & 0.9860 & 0.9550 & 0.9674 & 0.9382 & 0.9456 & 0.8969 \\\\\n",
      "SVM,FPMD,Scaling,PCA1024,median100,training & 0.9507 & 0.9865 & 0.9546 & 0.9683 & 0.9330 & 0.9474 & 0.8905 \\\\\n",
      "SVM,FPMD,Scaling,PCA1024,mean100,training & 0.9507 & 0.9865 & 0.9546 & 0.9683 & 0.9330 & 0.9474 & 0.8905 \\\\\n",
      "SVM,FPMD,Scaling,PCA1024,meanNoLim,training & 0.9474 & 0.9834 & 0.9519 & 0.9651 & 0.9348 & 0.9429 & 0.8895 \\\\\n",
      "\\end{tabular}\n",
      "\n"
     ]
    }
   ],
   "source": [
    "print(results_train.style.format({\"precision\": '{:.4f}', \"recall\": '{:.4f}', \"accuracy\": '{:.4f}', \"f1\": '{:.4f}', \"rocauc\": '{:.4f}', \"ap\": '{:.4f}', \"mcc\": '{:.4f}'}, precision=4).hide(axis=0).to_latex())"
   ]
  },
  {
   "cell_type": "code",
   "execution_count": 17,
   "id": "53a46d5d",
   "metadata": {},
   "outputs": [
    {
     "data": {
      "text/html": [
       "<div>\n",
       "<style scoped>\n",
       "    .dataframe tbody tr th:only-of-type {\n",
       "        vertical-align: middle;\n",
       "    }\n",
       "\n",
       "    .dataframe tbody tr th {\n",
       "        vertical-align: top;\n",
       "    }\n",
       "\n",
       "    .dataframe thead th {\n",
       "        text-align: right;\n",
       "    }\n",
       "</style>\n",
       "<table border=\"1\" class=\"dataframe\">\n",
       "  <thead>\n",
       "    <tr style=\"text-align: right;\">\n",
       "      <th></th>\n",
       "      <th>use case</th>\n",
       "      <th>r2</th>\n",
       "      <th>mse</th>\n",
       "      <th>msle</th>\n",
       "      <th>mae</th>\n",
       "      <th>mape</th>\n",
       "    </tr>\n",
       "  </thead>\n",
       "  <tbody>\n",
       "    <tr>\n",
       "      <th>6</th>\n",
       "      <td>RF,FP,NoPCA,median100,test</td>\n",
       "      <td>0.7423</td>\n",
       "      <td>0.3767</td>\n",
       "      <td>0.0075</td>\n",
       "      <td>0.4605</td>\n",
       "      <td>0.0776</td>\n",
       "    </tr>\n",
       "    <tr>\n",
       "      <th>14</th>\n",
       "      <td>SVM,FPMD,Scaling,PCA128,mean100,test</td>\n",
       "      <td>0.7865</td>\n",
       "      <td>0.3093</td>\n",
       "      <td>0.0060</td>\n",
       "      <td>0.4162</td>\n",
       "      <td>0.0680</td>\n",
       "    </tr>\n",
       "  </tbody>\n",
       "</table>\n",
       "</div>"
      ],
      "text/plain": [
       "                                use case      r2     mse    msle     mae  \\\n",
       "6             RF,FP,NoPCA,median100,test  0.7423  0.3767  0.0075  0.4605   \n",
       "14  SVM,FPMD,Scaling,PCA128,mean100,test  0.7865  0.3093  0.0060  0.4162   \n",
       "\n",
       "      mape  \n",
       "6   0.0776  \n",
       "14  0.0680  "
      ]
     },
     "execution_count": 17,
     "metadata": {},
     "output_type": "execute_result"
    }
   ],
   "source": [
    "results_test, results_train = parse_results_regressor(file_name=\"result_regressor_svm.csv\", n_rows=36)\n",
    "results_test[\"use case\"] = prepare_methodology_naming(results_test[\"use case\"], methodology_in=\"M_SVM\", methodology_out = \"SVM\")\n",
    "results_train[\"use case\"] = prepare_methodology_naming(results_train[\"use case\"], methodology_in=\"M_SVM\", methodology_out = \"SVM\")\n",
    "best_regressors = pd.concat([best_regressors, results_test.sort_values(\"mse\", ascending=True).iloc[[0],:]])\n",
    "best_regressors"
   ]
  },
  {
   "cell_type": "code",
   "execution_count": 18,
   "id": "3253e360",
   "metadata": {},
   "outputs": [
    {
     "name": "stderr",
     "output_type": "stream",
     "text": [
      "/tmp/ipykernel_31177/34622521.py:1: FutureWarning: Dropping of nuisance columns in DataFrame reductions (with 'numeric_only=None') is deprecated; in a future version this will raise TypeError.  Select only valid columns before calling the reduction.\n",
      "  results_test.mean()\n"
     ]
    },
    {
     "data": {
      "text/plain": [
       "r2      0.701756\n",
       "mse     0.384289\n",
       "msle    0.007439\n",
       "mae     0.457028\n",
       "mape    0.075061\n",
       "dtype: float64"
      ]
     },
     "execution_count": 18,
     "metadata": {},
     "output_type": "execute_result"
    }
   ],
   "source": [
    "results_test.mean()"
   ]
  },
  {
   "cell_type": "code",
   "execution_count": 19,
   "id": "030e521c",
   "metadata": {},
   "outputs": [
    {
     "name": "stdout",
     "output_type": "stream",
     "text": [
      "\\begin{tabular}{lrrrrr}\n",
      "use case & r2 & mse & msle & mae & mape \\\\\n",
      "SVM,MD,Scaling,NoPCA,median100,test & 0.6198 & 0.5558 & 0.0116 & 0.5652 & 0.0969 \\\\\n",
      "SVM,MD,Scaling,NoPCA,mean100,test & 0.6209 & 0.5491 & 0.0115 & 0.5596 & 0.0961 \\\\\n",
      "SVM,MD,Scaling,NoPCA,meanNoLim,test & 0.5190 & 0.5122 & 0.0095 & 0.5746 & 0.0915 \\\\\n",
      "SVM,FP,NoPCA,median100,test & 0.7549 & 0.3583 & 0.0070 & 0.4558 & 0.0760 \\\\\n",
      "SVM,FP,NoPCA,mean100,test & 0.7579 & 0.3507 & 0.0069 & 0.4492 & 0.0751 \\\\\n",
      "SVM,FP,NoPCA,meanNoLim,test & 0.5960 & 0.4301 & 0.0078 & 0.4584 & 0.0728 \\\\\n",
      "SVM,FPMD,Scaling,PCA128,median100,test & 0.7866 & 0.3119 & 0.0060 & 0.4203 & 0.0685 \\\\\n",
      "SVM,FPMD,Scaling,PCA128,mean100,test & 0.7865 & 0.3093 & 0.0060 & 0.4162 & 0.0680 \\\\\n",
      "SVM,FPMD,Scaling,PCA128,meanNoLim,test & 0.6455 & 0.3774 & 0.0069 & 0.4285 & 0.0676 \\\\\n",
      "SVM,FPMD,Scaling,PCA256,median100,test & 0.7730 & 0.3319 & 0.0064 & 0.4300 & 0.0703 \\\\\n",
      "SVM,FPMD,Scaling,PCA256,mean100,test & 0.7760 & 0.3244 & 0.0063 & 0.4231 & 0.0694 \\\\\n",
      "SVM,FPMD,Scaling,PCA256,meanNoLim,test & 0.6489 & 0.3738 & 0.0069 & 0.4241 & 0.0675 \\\\\n",
      "SVM,FPMD,Scaling,PCA512,median100,test & 0.7635 & 0.3458 & 0.0068 & 0.4415 & 0.0733 \\\\\n",
      "SVM,FPMD,Scaling,PCA512,mean100,test & 0.7653 & 0.3400 & 0.0067 & 0.4367 & 0.0727 \\\\\n",
      "SVM,FPMD,Scaling,PCA512,meanNoLim,test & 0.6500 & 0.3727 & 0.0068 & 0.4246 & 0.0677 \\\\\n",
      "SVM,FPMD,Scaling,PCA1024,median100,test & 0.7593 & 0.3518 & 0.0070 & 0.4469 & 0.0750 \\\\\n",
      "SVM,FPMD,Scaling,PCA1024,mean100,test & 0.7598 & 0.3479 & 0.0070 & 0.4431 & 0.0745 \\\\\n",
      "SVM,FPMD,Scaling,PCA1024,meanNoLim,test & 0.6487 & 0.3741 & 0.0068 & 0.4287 & 0.0682 \\\\\n",
      "\\end{tabular}\n",
      "\n"
     ]
    }
   ],
   "source": [
    "print(results_test.style.format({\"r2\": '{:.4f}', \"mse\": '{:.4f}', \"msle\": '{:.4f}', \"mae\": '{:.4f}', \"mape\": '{:.4f}'}, precision=4).hide(axis=0).to_latex())"
   ]
  },
  {
   "cell_type": "code",
   "execution_count": 20,
   "id": "41797bae",
   "metadata": {},
   "outputs": [
    {
     "name": "stdout",
     "output_type": "stream",
     "text": [
      "\\begin{tabular}{lrrrrr}\n",
      "use case & r2 & mse & msle & mae & mape \\\\\n",
      "SVM,MD,Scaling,NoPCA,median100,test & 0.6814 & 0.4139 & 0.0081 & 0.4902 & 0.0803 \\\\\n",
      "SVM,MD,Scaling,NoPCA,mean100,test & 0.6833 & 0.4096 & 0.0080 & 0.4849 & 0.0796 \\\\\n",
      "SVM,MD,Scaling,NoPCA,meanNoLim,test & 0.6385 & 0.4619 & 0.0091 & 0.5316 & 0.0879 \\\\\n",
      "SVM,FP,NoPCA,median100,test & 0.9223 & 0.1010 & 0.0020 & 0.1757 & 0.0287 \\\\\n",
      "SVM,FP,NoPCA,mean100,test & 0.9197 & 0.1038 & 0.0020 & 0.1662 & 0.0272 \\\\\n",
      "SVM,FP,NoPCA,meanNoLim,test & 0.9279 & 0.0921 & 0.0018 & 0.1634 & 0.0268 \\\\\n",
      "SVM,FPMD,Scaling,PCA128,median100,test & 0.9026 & 0.1266 & 0.0024 & 0.2251 & 0.0364 \\\\\n",
      "SVM,FPMD,Scaling,PCA128,mean100,test & 0.8978 & 0.1321 & 0.0025 & 0.2338 & 0.0379 \\\\\n",
      "SVM,FPMD,Scaling,PCA128,meanNoLim,test & 0.8859 & 0.1457 & 0.0028 & 0.2736 & 0.0445 \\\\\n",
      "SVM,FPMD,Scaling,PCA256,median100,test & 0.9225 & 0.1008 & 0.0020 & 0.2069 & 0.0336 \\\\\n",
      "SVM,FPMD,Scaling,PCA256,mean100,test & 0.9114 & 0.1146 & 0.0022 & 0.2188 & 0.0356 \\\\\n",
      "SVM,FPMD,Scaling,PCA256,meanNoLim,test & 0.8960 & 0.1328 & 0.0026 & 0.2320 & 0.0378 \\\\\n",
      "SVM,FPMD,Scaling,PCA512,median100,test & 0.9232 & 0.0998 & 0.0020 & 0.1855 & 0.0302 \\\\\n",
      "SVM,FPMD,Scaling,PCA512,mean100,test & 0.9283 & 0.0927 & 0.0018 & 0.1719 & 0.0281 \\\\\n",
      "SVM,FPMD,Scaling,PCA512,meanNoLim,test & 0.9037 & 0.1231 & 0.0024 & 0.2056 & 0.0337 \\\\\n",
      "SVM,FPMD,Scaling,PCA1024,median100,test & 0.9300 & 0.0910 & 0.0018 & 0.1667 & 0.0272 \\\\\n",
      "SVM,FPMD,Scaling,PCA1024,mean100,test & 0.9301 & 0.0904 & 0.0018 & 0.1658 & 0.0271 \\\\\n",
      "SVM,FPMD,Scaling,PCA1024,meanNoLim,test & 0.9229 & 0.0985 & 0.0019 & 0.1602 & 0.0263 \\\\\n",
      "\\end{tabular}\n",
      "\n"
     ]
    }
   ],
   "source": [
    "print(results_train.style.format({\"r2\": '{:.4f}', \"mse\": '{:.4f}', \"msle\": '{:.4f}', \"mae\": '{:.4f}', \"mape\": '{:.4f}'}, precision=4).hide(axis=0).to_latex())"
   ]
  },
  {
   "cell_type": "markdown",
   "id": "5fe5744b",
   "metadata": {},
   "source": [
    "# XGBoost"
   ]
  },
  {
   "cell_type": "code",
   "execution_count": 21,
   "id": "fede9da7",
   "metadata": {},
   "outputs": [
    {
     "data": {
      "text/html": [
       "<div>\n",
       "<style scoped>\n",
       "    .dataframe tbody tr th:only-of-type {\n",
       "        vertical-align: middle;\n",
       "    }\n",
       "\n",
       "    .dataframe tbody tr th {\n",
       "        vertical-align: top;\n",
       "    }\n",
       "\n",
       "    .dataframe thead th {\n",
       "        text-align: right;\n",
       "    }\n",
       "</style>\n",
       "<table border=\"1\" class=\"dataframe\">\n",
       "  <thead>\n",
       "    <tr style=\"text-align: right;\">\n",
       "      <th></th>\n",
       "      <th>use case</th>\n",
       "      <th>precision</th>\n",
       "      <th>recall</th>\n",
       "      <th>accuracy</th>\n",
       "      <th>f1</th>\n",
       "      <th>rocauc</th>\n",
       "      <th>ap</th>\n",
       "      <th>mcc</th>\n",
       "    </tr>\n",
       "  </thead>\n",
       "  <tbody>\n",
       "    <tr>\n",
       "      <th>6</th>\n",
       "      <td>RF,FP,NoPCA,median100,test</td>\n",
       "      <td>0.8931</td>\n",
       "      <td>0.9660</td>\n",
       "      <td>0.9013</td>\n",
       "      <td>0.9281</td>\n",
       "      <td>0.8712</td>\n",
       "      <td>0.8851</td>\n",
       "      <td>0.7778</td>\n",
       "    </tr>\n",
       "    <tr>\n",
       "      <th>32</th>\n",
       "      <td>SVM,FPMD,Scaling,PCA1024,mean100,test</td>\n",
       "      <td>0.9211</td>\n",
       "      <td>0.9524</td>\n",
       "      <td>0.9148</td>\n",
       "      <td>0.9365</td>\n",
       "      <td>0.8972</td>\n",
       "      <td>0.9086</td>\n",
       "      <td>0.8084</td>\n",
       "    </tr>\n",
       "    <tr>\n",
       "      <th>6</th>\n",
       "      <td>XGBoost,FP,NoPCA,median100,test</td>\n",
       "      <td>0.9267</td>\n",
       "      <td>0.9456</td>\n",
       "      <td>0.9148</td>\n",
       "      <td>0.9360</td>\n",
       "      <td>0.9004</td>\n",
       "      <td>0.9121</td>\n",
       "      <td>0.8089</td>\n",
       "    </tr>\n",
       "  </tbody>\n",
       "</table>\n",
       "</div>"
      ],
      "text/plain": [
       "                                 use case  precision  recall  accuracy  \\\n",
       "6              RF,FP,NoPCA,median100,test     0.8931  0.9660    0.9013   \n",
       "32  SVM,FPMD,Scaling,PCA1024,mean100,test     0.9211  0.9524    0.9148   \n",
       "6         XGBoost,FP,NoPCA,median100,test     0.9267  0.9456    0.9148   \n",
       "\n",
       "        f1  rocauc      ap     mcc  \n",
       "6   0.9281  0.8712  0.8851  0.7778  \n",
       "32  0.9365  0.8972  0.9086  0.8084  \n",
       "6   0.9360  0.9004  0.9121  0.8089  "
      ]
     },
     "execution_count": 21,
     "metadata": {},
     "output_type": "execute_result"
    }
   ],
   "source": [
    "results_test, results_train = parse_results_classifier(file_name=\"result_classifier_xgboost.csv\", n_rows=36)\n",
    "results_test[\"use case\"] = prepare_methodology_naming(results_test[\"use case\"], methodology_in=\"M_XGBoost\", methodology_out = \"XGBoost\")\n",
    "results_train[\"use case\"] = prepare_methodology_naming(results_train[\"use case\"], methodology_in=\"M_XGBoost\", methodology_out = \"XGBoost\")\n",
    "best_classifiers = pd.concat([best_classifiers, results_test.sort_values(\"accuracy\", ascending=False).iloc[[0],:]])\n",
    "best_classifiers"
   ]
  },
  {
   "cell_type": "code",
   "execution_count": 22,
   "id": "947eb20d",
   "metadata": {},
   "outputs": [
    {
     "name": "stderr",
     "output_type": "stream",
     "text": [
      "/tmp/ipykernel_31177/34622521.py:1: FutureWarning: Dropping of nuisance columns in DataFrame reductions (with 'numeric_only=None') is deprecated; in a future version this will raise TypeError.  Select only valid columns before calling the reduction.\n",
      "  results_test.mean()\n"
     ]
    },
    {
     "data": {
      "text/plain": [
       "precision    0.876228\n",
       "recall       0.933561\n",
       "accuracy     0.863739\n",
       "f1           0.903778\n",
       "rocauc       0.819822\n",
       "ap           0.863811\n",
       "mcc          0.670483\n",
       "dtype: float64"
      ]
     },
     "execution_count": 22,
     "metadata": {},
     "output_type": "execute_result"
    }
   ],
   "source": [
    "results_test.mean()"
   ]
  },
  {
   "cell_type": "code",
   "execution_count": 23,
   "id": "99e54f52",
   "metadata": {},
   "outputs": [
    {
     "name": "stdout",
     "output_type": "stream",
     "text": [
      "\\begin{tabular}{lrrrrrrr}\n",
      "use case & precision & recall & accuracy & f1 & rocauc & ap & mcc \\\\\n",
      "XGBoost,MD,NoPCA,median100,test & 0.8562 & 0.8912 & 0.8296 & 0.8733 & 0.8008 & 0.8348 & 0.6145 \\\\\n",
      "XGBoost,MD,NoPCA,mean100,test & 0.8562 & 0.8912 & 0.8296 & 0.8733 & 0.8008 & 0.8348 & 0.6145 \\\\\n",
      "XGBoost,MD,NoPCA,meanNoLim,test & 0.8601 & 0.9071 & 0.8226 & 0.8830 & 0.7459 & 0.8488 & 0.5205 \\\\\n",
      "XGBoost,FP,NoPCA,median100,test & 0.9267 & 0.9456 & 0.9148 & 0.9360 & 0.9004 & 0.9121 & 0.8089 \\\\\n",
      "XGBoost,FP,NoPCA,mean100,test & 0.9267 & 0.9456 & 0.9148 & 0.9360 & 0.9004 & 0.9121 & 0.8089 \\\\\n",
      "XGBoost,FP,NoPCA,meanNoLim,test & 0.9011 & 0.8962 & 0.8508 & 0.8986 & 0.8096 & 0.8842 & 0.6162 \\\\\n",
      "XGBoost,FPMD,PCA128,median100,test & 0.8812 & 0.9592 & 0.8879 & 0.9186 & 0.8546 & 0.8722 & 0.7466 \\\\\n",
      "XGBoost,FPMD,PCA128,mean100,test & 0.8812 & 0.9592 & 0.8879 & 0.9186 & 0.8546 & 0.8722 & 0.7466 \\\\\n",
      "XGBoost,FPMD,PCA128,meanNoLim0,test & 0.8838 & 0.9563 & 0.8750 & 0.9186 & 0.8012 & 0.8775 & 0.6604 \\\\\n",
      "XGBoost,FPMD,PCA256,median100,test & 0.8696 & 0.9524 & 0.8744 & 0.9091 & 0.8380 & 0.8595 & 0.7152 \\\\\n",
      "XGBoost,FPMD,PCA256,mean100,test & 0.8696 & 0.9524 & 0.8744 & 0.9091 & 0.8380 & 0.8595 & 0.7152 \\\\\n",
      "XGBoost,FPMD,PCA256,meanNoLim0,test & 0.8844 & 0.9617 & 0.8790 & 0.9215 & 0.8040 & 0.8788 & 0.6714 \\\\\n",
      "XGBoost,FPMD,PCA512,median100,test & 0.8519 & 0.9388 & 0.8520 & 0.8932 & 0.8115 & 0.8401 & 0.6624 \\\\\n",
      "XGBoost,FPMD,PCA512,mean100,test & 0.8519 & 0.9388 & 0.8520 & 0.8932 & 0.8115 & 0.8401 & 0.6624 \\\\\n",
      "XGBoost,FPMD,PCA512,meanNoLim0,test & 0.8693 & 0.9454 & 0.8548 & 0.9058 & 0.7727 & 0.8622 & 0.6023 \\\\\n",
      "XGBoost,FPMD,PCA1024,median100,test & 0.8662 & 0.9252 & 0.8565 & 0.8947 & 0.8244 & 0.8507 & 0.6737 \\\\\n",
      "XGBoost,FPMD,PCA1024,mean100,test & 0.8662 & 0.9252 & 0.8565 & 0.8947 & 0.8244 & 0.8507 & 0.6737 \\\\\n",
      "XGBoost,FPMD,PCA1024,meanNoLim,test & 0.8698 & 0.9126 & 0.8347 & 0.8907 & 0.7640 & 0.8583 & 0.5553 \\\\\n",
      "\\end{tabular}\n",
      "\n"
     ]
    }
   ],
   "source": [
    "print(results_test.style.format({\"precision\": '{:.4f}', \"recall\": '{:.4f}', \"accuracy\": '{:.4f}', \"f1\": '{:.4f}', \"rocauc\": '{:.4f}', \"ap\": '{:.4f}', \"mcc\": '{:.4f}'}, precision=4).hide(axis=0).to_latex())"
   ]
  },
  {
   "cell_type": "code",
   "execution_count": 24,
   "id": "b94e3e93",
   "metadata": {},
   "outputs": [
    {
     "name": "stdout",
     "output_type": "stream",
     "text": [
      "\\begin{tabular}{lrrrrrrr}\n",
      "use case & precision & recall & accuracy & f1 & rocauc & ap & mcc \\\\\n",
      "XGBoost,MD,NoPCA,median100,training & 0.9536 & 0.9773 & 0.9506 & 0.9653 & 0.9325 & 0.9479 & 0.8807 \\\\\n",
      "XGBoost,MD,NoPCA,mean100,training & 0.9536 & 0.9773 & 0.9506 & 0.9653 & 0.9325 & 0.9479 & 0.8807 \\\\\n",
      "XGBoost,MD,NoPCA,meanNoLim,training & 0.9696 & 0.9774 & 0.9640 & 0.9735 & 0.9568 & 0.9630 & 0.9176 \\\\\n",
      "XGBoost,FP,NoPCA,median100,training & 0.9493 & 0.9844 & 0.9521 & 0.9665 & 0.9302 & 0.9455 & 0.8844 \\\\\n",
      "XGBoost,FP,NoPCA,mean100,training & 0.9493 & 0.9844 & 0.9521 & 0.9665 & 0.9302 & 0.9455 & 0.8844 \\\\\n",
      "XGBoost,FP,NoPCA,meanNoLim,training & 0.9449 & 0.9807 & 0.9483 & 0.9625 & 0.9307 & 0.9397 & 0.8811 \\\\\n",
      "XGBoost,FPMD,PCA128,median100,training & 0.9831 & 0.9893 & 0.9805 & 0.9862 & 0.9746 & 0.9801 & 0.9533 \\\\\n",
      "XGBoost,FPMD,PCA128,mean100,training & 0.9831 & 0.9893 & 0.9805 & 0.9862 & 0.9746 & 0.9801 & 0.9533 \\\\\n",
      "XGBoost,FPMD,PCA128,meanNoLim0,training & 0.9822 & 0.9900 & 0.9811 & 0.9861 & 0.9763 & 0.9791 & 0.9568 \\\\\n",
      "XGBoost,FPMD,PCA256,median100,training & 0.9838 & 0.9901 & 0.9815 & 0.9869 & 0.9758 & 0.9810 & 0.9557 \\\\\n",
      "XGBoost,FPMD,PCA256,mean100,training & 0.9838 & 0.9901 & 0.9815 & 0.9869 & 0.9758 & 0.9810 & 0.9557 \\\\\n",
      "XGBoost,FPMD,PCA256,meanNoLim0,training & 0.9808 & 0.9880 & 0.9789 & 0.9844 & 0.9739 & 0.9772 & 0.9516 \\\\\n",
      "XGBoost,FPMD,PCA512,median100,training & 0.9782 & 0.9893 & 0.9771 & 0.9838 & 0.9687 & 0.9753 & 0.9449 \\\\\n",
      "XGBoost,FPMD,PCA512,mean100,training & 0.9782 & 0.9893 & 0.9771 & 0.9838 & 0.9687 & 0.9753 & 0.9449 \\\\\n",
      "XGBoost,FPMD,PCA512,meanNoLim0,training & 0.9796 & 0.9914 & 0.9802 & 0.9854 & 0.9742 & 0.9770 & 0.9547 \\\\\n",
      "XGBoost,FPMD,PCA1024,median100,training & 0.9756 & 0.9936 & 0.9781 & 0.9845 & 0.9675 & 0.9738 & 0.9473 \\\\\n",
      "XGBoost,FPMD,PCA1024,mean100,training & 0.9756 & 0.9936 & 0.9781 & 0.9845 & 0.9675 & 0.9738 & 0.9473 \\\\\n",
      "XGBoost,FPMD,PCA1024,meanNoLim,training & 0.9802 & 0.9887 & 0.9789 & 0.9844 & 0.9735 & 0.9768 & 0.9516 \\\\\n",
      "\\end{tabular}\n",
      "\n"
     ]
    }
   ],
   "source": [
    "print(results_train.style.format({\"precision\": '{:.4f}', \"recall\": '{:.4f}', \"accuracy\": '{:.4f}', \"f1\": '{:.4f}', \"rocauc\": '{:.4f}', \"ap\": '{:.4f}', \"mcc\": '{:.4f}'}, precision=4).hide(axis=0).to_latex())"
   ]
  },
  {
   "cell_type": "code",
   "execution_count": 25,
   "id": "840119bb",
   "metadata": {},
   "outputs": [
    {
     "data": {
      "text/html": [
       "<div>\n",
       "<style scoped>\n",
       "    .dataframe tbody tr th:only-of-type {\n",
       "        vertical-align: middle;\n",
       "    }\n",
       "\n",
       "    .dataframe tbody tr th {\n",
       "        vertical-align: top;\n",
       "    }\n",
       "\n",
       "    .dataframe thead th {\n",
       "        text-align: right;\n",
       "    }\n",
       "</style>\n",
       "<table border=\"1\" class=\"dataframe\">\n",
       "  <thead>\n",
       "    <tr style=\"text-align: right;\">\n",
       "      <th></th>\n",
       "      <th>use case</th>\n",
       "      <th>r2</th>\n",
       "      <th>mse</th>\n",
       "      <th>msle</th>\n",
       "      <th>mae</th>\n",
       "      <th>mape</th>\n",
       "    </tr>\n",
       "  </thead>\n",
       "  <tbody>\n",
       "    <tr>\n",
       "      <th>6</th>\n",
       "      <td>RF,FP,NoPCA,median100,test</td>\n",
       "      <td>0.7423</td>\n",
       "      <td>0.3767</td>\n",
       "      <td>0.0075</td>\n",
       "      <td>0.4605</td>\n",
       "      <td>0.0776</td>\n",
       "    </tr>\n",
       "    <tr>\n",
       "      <th>14</th>\n",
       "      <td>SVM,FPMD,Scaling,PCA128,mean100,test</td>\n",
       "      <td>0.7865</td>\n",
       "      <td>0.3093</td>\n",
       "      <td>0.0060</td>\n",
       "      <td>0.4162</td>\n",
       "      <td>0.0680</td>\n",
       "    </tr>\n",
       "    <tr>\n",
       "      <th>8</th>\n",
       "      <td>XGBoost,FP,NoPCA,mean100,test</td>\n",
       "      <td>0.7429</td>\n",
       "      <td>0.3724</td>\n",
       "      <td>0.0072</td>\n",
       "      <td>0.4663</td>\n",
       "      <td>0.0767</td>\n",
       "    </tr>\n",
       "  </tbody>\n",
       "</table>\n",
       "</div>"
      ],
      "text/plain": [
       "                                use case      r2     mse    msle     mae  \\\n",
       "6             RF,FP,NoPCA,median100,test  0.7423  0.3767  0.0075  0.4605   \n",
       "14  SVM,FPMD,Scaling,PCA128,mean100,test  0.7865  0.3093  0.0060  0.4162   \n",
       "8          XGBoost,FP,NoPCA,mean100,test  0.7429  0.3724  0.0072  0.4663   \n",
       "\n",
       "      mape  \n",
       "6   0.0776  \n",
       "14  0.0680  \n",
       "8   0.0767  "
      ]
     },
     "execution_count": 25,
     "metadata": {},
     "output_type": "execute_result"
    }
   ],
   "source": [
    "results_test, results_train = parse_results_regressor(file_name=\"result_regressor_xgboost.csv\", n_rows=36)\n",
    "results_test[\"use case\"] = prepare_methodology_naming(results_test[\"use case\"], methodology_in=\"M_XGBoost\", methodology_out = \"XGBoost\")\n",
    "results_train[\"use case\"] = prepare_methodology_naming(results_train[\"use case\"], methodology_in=\"M_XGBoost\", methodology_out = \"XGBoost\")\n",
    "best_regressors = pd.concat([best_regressors, results_test.sort_values(\"mse\", ascending=True).iloc[[0],:]])\n",
    "best_regressors"
   ]
  },
  {
   "cell_type": "code",
   "execution_count": 26,
   "id": "a6b82f06",
   "metadata": {},
   "outputs": [
    {
     "name": "stderr",
     "output_type": "stream",
     "text": [
      "/tmp/ipykernel_31177/34622521.py:1: FutureWarning: Dropping of nuisance columns in DataFrame reductions (with 'numeric_only=None') is deprecated; in a future version this will raise TypeError.  Select only valid columns before calling the reduction.\n",
      "  results_test.mean()\n"
     ]
    },
    {
     "data": {
      "text/plain": [
       "r2      0.647928\n",
       "mse     0.456911\n",
       "msle    0.009056\n",
       "mae     0.509072\n",
       "mape    0.084700\n",
       "dtype: float64"
      ]
     },
     "execution_count": 26,
     "metadata": {},
     "output_type": "execute_result"
    }
   ],
   "source": [
    "results_test.mean()"
   ]
  },
  {
   "cell_type": "code",
   "execution_count": 27,
   "id": "1753d745",
   "metadata": {},
   "outputs": [
    {
     "name": "stdout",
     "output_type": "stream",
     "text": [
      "\\begin{tabular}{lrrrrr}\n",
      "use case & r2 & mse & msle & mae & mape \\\\\n",
      "XGBoost,MD,NoPCA,median100,test & 0.6520 & 0.5087 & 0.0105 & 0.5271 & 0.0902 \\\\\n",
      "XGBoost,MD,NoPCA,mean100,test & 0.6407 & 0.5205 & 0.0109 & 0.5270 & 0.0905 \\\\\n",
      "XGBoost,MD,NoPCA,meanNoLim,test & 0.5250 & 0.5058 & 0.0092 & 0.5467 & 0.0866 \\\\\n",
      "XGBoost,FP,NoPCA,median100,test & 0.7307 & 0.3936 & 0.0076 & 0.4821 & 0.0795 \\\\\n",
      "XGBoost,FP,NoPCA,mean100,test & 0.7429 & 0.3724 & 0.0072 & 0.4663 & 0.0767 \\\\\n",
      "XGBoost,FP,NoPCA,meanNoLim,test & 0.5772 & 0.4502 & 0.0082 & 0.4928 & 0.0776 \\\\\n",
      "XGBoost,FPMD,PCA128,median100,test & 0.6784 & 0.4701 & 0.0097 & 0.5238 & 0.0898 \\\\\n",
      "XGBoost,FPMD,PCA128,mean100,test & 0.7136 & 0.4148 & 0.0086 & 0.4845 & 0.0831 \\\\\n",
      "XGBoost,FPMD,PCA128,meanNoLim,test & 0.5705 & 0.4574 & 0.0086 & 0.5080 & 0.0817 \\\\\n",
      "XGBoost,FPMD,PCA256,median100,test & 0.6802 & 0.4675 & 0.0097 & 0.5204 & 0.0890 \\\\\n",
      "XGBoost,FPMD,PCA256,mean100,test & 0.6897 & 0.4495 & 0.0094 & 0.5060 & 0.0871 \\\\\n",
      "XGBoost,FPMD,PCA256,meanNoLim,test & 0.5998 & 0.4261 & 0.0080 & 0.4897 & 0.0789 \\\\\n",
      "XGBoost,FPMD,PCA512,median100,test & 0.6746 & 0.4757 & 0.0098 & 0.5032 & 0.0856 \\\\\n",
      "XGBoost,FPMD,PCA512,mean100,test & 0.6816 & 0.4613 & 0.0095 & 0.5095 & 0.0869 \\\\\n",
      "XGBoost,FPMD,PCA512,meanNoLim,test & 0.5919 & 0.4345 & 0.0082 & 0.5036 & 0.0810 \\\\\n",
      "XGBoost,FPMD,PCA1024,median100,test & 0.6527 & 0.5077 & 0.0103 & 0.5462 & 0.0921 \\\\\n",
      "XGBoost,FPMD,PCA1024,mean100,test & 0.6823 & 0.4602 & 0.0094 & 0.5100 & 0.0862 \\\\\n",
      "XGBoost,FPMD,PCA1024,meanNoLim,test & 0.5789 & 0.4484 & 0.0082 & 0.5164 & 0.0821 \\\\\n",
      "\\end{tabular}\n",
      "\n"
     ]
    }
   ],
   "source": [
    "print(results_test.style.format({\"r2\": '{:.4f}', \"mse\": '{:.4f}', \"msle\": '{:.4f}', \"mae\": '{:.4f}', \"mape\": '{:.4f}'}, precision=4).hide(axis=0).to_latex())"
   ]
  },
  {
   "cell_type": "code",
   "execution_count": 28,
   "id": "eecfcf1a",
   "metadata": {},
   "outputs": [
    {
     "name": "stdout",
     "output_type": "stream",
     "text": [
      "\\begin{tabular}{lrrrrr}\n",
      "use case & r2 & mse & msle & mae & mape \\\\\n",
      "XGBoost,MD,NoPCA,median100,test & 0.7967 & 0.2642 & 0.0052 & 0.3922 & 0.0638 \\\\\n",
      "XGBoost,MD,NoPCA,mean100,test & 0.8688 & 0.1697 & 0.0033 & 0.2996 & 0.0485 \\\\\n",
      "XGBoost,MD,NoPCA,meanNoLim,test & 0.8187 & 0.2316 & 0.0046 & 0.3574 & 0.0588 \\\\\n",
      "XGBoost,FP,NoPCA,median100,test & 0.8465 & 0.1995 & 0.0039 & 0.3329 & 0.0539 \\\\\n",
      "XGBoost,FP,NoPCA,mean100,test & 0.8755 & 0.1610 & 0.0032 & 0.3009 & 0.0486 \\\\\n",
      "XGBoost,FP,NoPCA,meanNoLim,test & 0.8243 & 0.2245 & 0.0044 & 0.3581 & 0.0582 \\\\\n",
      "XGBoost,FPMD,PCA128,median100,test & 0.8487 & 0.1966 & 0.0039 & 0.3338 & 0.0541 \\\\\n",
      "XGBoost,FPMD,PCA128,mean100,test & 0.9285 & 0.0924 & 0.0018 & 0.1987 & 0.0320 \\\\\n",
      "XGBoost,FPMD,PCA128,meanNoLim,test & 0.9329 & 0.0857 & 0.0016 & 0.1783 & 0.0287 \\\\\n",
      "XGBoost,FPMD,PCA256,median100,test & 0.8863 & 0.1478 & 0.0029 & 0.2821 & 0.0456 \\\\\n",
      "XGBoost,FPMD,PCA256,mean100,test & 0.9159 & 0.1088 & 0.0021 & 0.2230 & 0.0359 \\\\\n",
      "XGBoost,FPMD,PCA256,meanNoLim,test & 0.9458 & 0.0693 & 0.0013 & 0.1240 & 0.0199 \\\\\n",
      "XGBoost,FPMD,PCA512,median100,test & 0.9350 & 0.0844 & 0.0017 & 0.1683 & 0.0272 \\\\\n",
      "XGBoost,FPMD,PCA512,mean100,test & 0.9284 & 0.0926 & 0.0018 & 0.1915 & 0.0307 \\\\\n",
      "XGBoost,FPMD,PCA512,meanNoLim,test & 0.8977 & 0.1307 & 0.0025 & 0.2584 & 0.0417 \\\\\n",
      "XGBoost,FPMD,PCA1024,median100,test & 0.8644 & 0.1762 & 0.0035 & 0.3077 & 0.0500 \\\\\n",
      "XGBoost,FPMD,PCA1024,mean100,test & 0.8964 & 0.1340 & 0.0026 & 0.2603 & 0.0422 \\\\\n",
      "XGBoost,FPMD,PCA1024,meanNoLim,test & 0.9253 & 0.0955 & 0.0018 & 0.1896 & 0.0306 \\\\\n",
      "\\end{tabular}\n",
      "\n"
     ]
    }
   ],
   "source": [
    "print(results_train.style.format({\"r2\": '{:.4f}', \"mse\": '{:.4f}', \"msle\": '{:.4f}', \"mae\": '{:.4f}', \"mape\": '{:.4f}'}, precision=4).hide(axis=0).to_latex())"
   ]
  },
  {
   "cell_type": "markdown",
   "id": "99a20281",
   "metadata": {},
   "source": [
    "# Ridge"
   ]
  },
  {
   "cell_type": "code",
   "execution_count": 29,
   "id": "37b151a2",
   "metadata": {},
   "outputs": [
    {
     "data": {
      "text/html": [
       "<div>\n",
       "<style scoped>\n",
       "    .dataframe tbody tr th:only-of-type {\n",
       "        vertical-align: middle;\n",
       "    }\n",
       "\n",
       "    .dataframe tbody tr th {\n",
       "        vertical-align: top;\n",
       "    }\n",
       "\n",
       "    .dataframe thead th {\n",
       "        text-align: right;\n",
       "    }\n",
       "</style>\n",
       "<table border=\"1\" class=\"dataframe\">\n",
       "  <thead>\n",
       "    <tr style=\"text-align: right;\">\n",
       "      <th></th>\n",
       "      <th>use case</th>\n",
       "      <th>precision</th>\n",
       "      <th>recall</th>\n",
       "      <th>accuracy</th>\n",
       "      <th>f1</th>\n",
       "      <th>rocauc</th>\n",
       "      <th>ap</th>\n",
       "      <th>mcc</th>\n",
       "    </tr>\n",
       "  </thead>\n",
       "  <tbody>\n",
       "    <tr>\n",
       "      <th>6</th>\n",
       "      <td>RF,FP,NoPCA,median100,test</td>\n",
       "      <td>0.8931</td>\n",
       "      <td>0.9660</td>\n",
       "      <td>0.9013</td>\n",
       "      <td>0.9281</td>\n",
       "      <td>0.8712</td>\n",
       "      <td>0.8851</td>\n",
       "      <td>0.7778</td>\n",
       "    </tr>\n",
       "    <tr>\n",
       "      <th>32</th>\n",
       "      <td>SVM,FPMD,Scaling,PCA1024,mean100,test</td>\n",
       "      <td>0.9211</td>\n",
       "      <td>0.9524</td>\n",
       "      <td>0.9148</td>\n",
       "      <td>0.9365</td>\n",
       "      <td>0.8972</td>\n",
       "      <td>0.9086</td>\n",
       "      <td>0.8084</td>\n",
       "    </tr>\n",
       "    <tr>\n",
       "      <th>6</th>\n",
       "      <td>XGBoost,FP,NoPCA,median100,test</td>\n",
       "      <td>0.9267</td>\n",
       "      <td>0.9456</td>\n",
       "      <td>0.9148</td>\n",
       "      <td>0.9360</td>\n",
       "      <td>0.9004</td>\n",
       "      <td>0.9121</td>\n",
       "      <td>0.8089</td>\n",
       "    </tr>\n",
       "    <tr>\n",
       "      <th>24</th>\n",
       "      <td>Ridge,FPMD,Scaling,PCA512,median100,test</td>\n",
       "      <td>0.8947</td>\n",
       "      <td>0.9252</td>\n",
       "      <td>0.8789</td>\n",
       "      <td>0.9097</td>\n",
       "      <td>0.8573</td>\n",
       "      <td>0.8771</td>\n",
       "      <td>0.7271</td>\n",
       "    </tr>\n",
       "  </tbody>\n",
       "</table>\n",
       "</div>"
      ],
      "text/plain": [
       "                                    use case  precision  recall  accuracy  \\\n",
       "6                 RF,FP,NoPCA,median100,test     0.8931  0.9660    0.9013   \n",
       "32     SVM,FPMD,Scaling,PCA1024,mean100,test     0.9211  0.9524    0.9148   \n",
       "6            XGBoost,FP,NoPCA,median100,test     0.9267  0.9456    0.9148   \n",
       "24  Ridge,FPMD,Scaling,PCA512,median100,test     0.8947  0.9252    0.8789   \n",
       "\n",
       "        f1  rocauc      ap     mcc  \n",
       "6   0.9281  0.8712  0.8851  0.7778  \n",
       "32  0.9365  0.8972  0.9086  0.8084  \n",
       "6   0.9360  0.9004  0.9121  0.8089  \n",
       "24  0.9097  0.8573  0.8771  0.7271  "
      ]
     },
     "execution_count": 29,
     "metadata": {},
     "output_type": "execute_result"
    }
   ],
   "source": [
    "results_test, results_train = parse_results_classifier(file_name=\"result_classifier_ridge.csv\", n_rows=36)\n",
    "results_test[\"use case\"] = prepare_methodology_naming(results_test[\"use case\"], methodology_in=\"M_Ridge\", methodology_out = \"Ridge\")\n",
    "results_train[\"use case\"] = prepare_methodology_naming(results_train[\"use case\"], methodology_in=\"M_Ridge\", methodology_out = \"Ridge\")\n",
    "best_classifiers = pd.concat([best_classifiers, results_test.sort_values(\"accuracy\", ascending=False).iloc[[0],:]])\n",
    "best_classifiers"
   ]
  },
  {
   "cell_type": "code",
   "execution_count": 30,
   "id": "a4ecb77a",
   "metadata": {},
   "outputs": [
    {
     "name": "stderr",
     "output_type": "stream",
     "text": [
      "/tmp/ipykernel_31177/34622521.py:1: FutureWarning: Dropping of nuisance columns in DataFrame reductions (with 'numeric_only=None') is deprecated; in a future version this will raise TypeError.  Select only valid columns before calling the reduction.\n",
      "  results_test.mean()\n"
     ]
    },
    {
     "data": {
      "text/plain": [
       "precision    0.872583\n",
       "recall       0.923278\n",
       "accuracy     0.854722\n",
       "f1           0.896972\n",
       "rocauc       0.812128\n",
       "ap           0.858072\n",
       "mcc          0.649472\n",
       "dtype: float64"
      ]
     },
     "execution_count": 30,
     "metadata": {},
     "output_type": "execute_result"
    }
   ],
   "source": [
    "results_test.mean()"
   ]
  },
  {
   "cell_type": "code",
   "execution_count": 31,
   "id": "760b28d9",
   "metadata": {},
   "outputs": [
    {
     "name": "stdout",
     "output_type": "stream",
     "text": [
      "\\begin{tabular}{lrrrrrrr}\n",
      "use case & precision & recall & accuracy & f1 & rocauc & ap & mcc \\\\\n",
      "Ridge,MD,Scaling,NoPCA,median100,test & 0.8193 & 0.9252 & 0.8161 & 0.8690 & 0.7652 & 0.8073 & 0.5764 \\\\\n",
      "Ridge,MD,Scaling,NoPCA,mean100,test & 0.8193 & 0.9252 & 0.8161 & 0.8690 & 0.7652 & 0.8073 & 0.5764 \\\\\n",
      "Ridge,MD,Scaling,NoPCA,meanNoLim,test & 0.8301 & 0.9344 & 0.8105 & 0.8792 & 0.6980 & 0.8241 & 0.4643 \\\\\n",
      "Ridge,FP,NoPCA,median100,test & 0.8750 & 0.9048 & 0.8520 & 0.8896 & 0.8274 & 0.8544 & 0.6662 \\\\\n",
      "Ridge,FP,NoPCA,mean100,test & 0.8750 & 0.9048 & 0.8520 & 0.8896 & 0.8274 & 0.8544 & 0.6662 \\\\\n",
      "Ridge,FP,NoPCA,meanNoLim,test & 0.8989 & 0.9235 & 0.8669 & 0.9111 & 0.8156 & 0.8866 & 0.6482 \\\\\n",
      "Ridge,FPMD,Scaling,PCA128,median100,test & 0.8671 & 0.9320 & 0.8610 & 0.8984 & 0.8278 & 0.8529 & 0.6838 \\\\\n",
      "Ridge,FPMD,Scaling,PCA128,mean100,test & 0.8671 & 0.9320 & 0.8610 & 0.8984 & 0.8278 & 0.8529 & 0.6838 \\\\\n",
      "Ridge,FPMD,Scaling,PCA128,meanNoLim,test & 0.8912 & 0.9399 & 0.8710 & 0.9149 & 0.8084 & 0.8820 & 0.6529 \\\\\n",
      "Ridge,FPMD,Scaling,PCA256,median100,test & 0.8671 & 0.9320 & 0.8610 & 0.8984 & 0.8278 & 0.8529 & 0.6838 \\\\\n",
      "Ridge,FPMD,Scaling,PCA256,mean100,test & 0.8671 & 0.9320 & 0.8610 & 0.8984 & 0.8278 & 0.8529 & 0.6838 \\\\\n",
      "Ridge,FPMD,Scaling,PCA256,meanNoLim,test & 0.8895 & 0.9235 & 0.8589 & 0.9062 & 0.8002 & 0.8779 & 0.6238 \\\\\n",
      "Ridge,FPMD,Scaling,PCA512,median100,test & 0.8947 & 0.9252 & 0.8789 & 0.9097 & 0.8573 & 0.8771 & 0.7271 \\\\\n",
      "Ridge,FPMD,Scaling,PCA512,mean100,test & 0.8947 & 0.9252 & 0.8789 & 0.9097 & 0.8573 & 0.8771 & 0.7271 \\\\\n",
      "Ridge,FPMD,Scaling,PCA512,meanNoLim,test & 0.8942 & 0.9235 & 0.8629 & 0.9086 & 0.8079 & 0.8822 & 0.6360 \\\\\n",
      "Ridge,FPMD,Scaling,PCA1024,median100,test & 0.8816 & 0.9116 & 0.8610 & 0.8963 & 0.8374 & 0.8619 & 0.6865 \\\\\n",
      "Ridge,FPMD,Scaling,PCA1024,mean100,test & 0.8816 & 0.9116 & 0.8610 & 0.8963 & 0.8374 & 0.8619 & 0.6865 \\\\\n",
      "Ridge,FPMD,Scaling,PCA1024,meanNoLim,test & 0.8930 & 0.9126 & 0.8548 & 0.9027 & 0.8024 & 0.8795 & 0.6177 \\\\\n",
      "\\end{tabular}\n",
      "\n"
     ]
    }
   ],
   "source": [
    "print(results_test.style.format({\"precision\": '{:.4f}', \"recall\": '{:.4f}', \"accuracy\": '{:.4f}', \"f1\": '{:.4f}', \"rocauc\": '{:.4f}', \"ap\": '{:.4f}', \"mcc\": '{:.4f}'}, precision=4).hide(axis=0).to_latex())"
   ]
  },
  {
   "cell_type": "code",
   "execution_count": 32,
   "id": "f236f792",
   "metadata": {},
   "outputs": [
    {
     "name": "stdout",
     "output_type": "stream",
     "text": [
      "\\begin{tabular}{lrrrrrrr}\n",
      "use case & precision & recall & accuracy & f1 & rocauc & ap & mcc \\\\\n",
      "Ridge,MD,Scaling,NoPCA,median100,training & 0.8108 & 0.9254 & 0.7960 & 0.8643 & 0.7081 & 0.8027 & 0.4772 \\\\\n",
      "Ridge,MD,Scaling,NoPCA,mean100,training & 0.8108 & 0.9254 & 0.7960 & 0.8643 & 0.7081 & 0.8027 & 0.4772 \\\\\n",
      "Ridge,MD,Scaling,NoPCA,meanNoLim,training & 0.7880 & 0.8929 & 0.7653 & 0.8372 & 0.6961 & 0.7760 & 0.4334 \\\\\n",
      "Ridge,FP,NoPCA,median100,training & 0.9339 & 0.9830 & 0.9392 & 0.9578 & 0.9094 & 0.9299 & 0.8527 \\\\\n",
      "Ridge,FP,NoPCA,mean100,training & 0.9339 & 0.9830 & 0.9392 & 0.9578 & 0.9094 & 0.9299 & 0.8527 \\\\\n",
      "Ridge,FP,NoPCA,meanNoLim,training & 0.9179 & 0.9667 & 0.9191 & 0.9417 & 0.8932 & 0.9098 & 0.8127 \\\\\n",
      "Ridge,FPMD,Scaling,PCA128,median100,training & 0.8793 & 0.9524 & 0.8748 & 0.9144 & 0.8221 & 0.8709 & 0.6903 \\\\\n",
      "Ridge,FPMD,Scaling,PCA128,mean100,training & 0.8793 & 0.9524 & 0.8748 & 0.9144 & 0.8221 & 0.8709 & 0.6903 \\\\\n",
      "Ridge,FPMD,Scaling,PCA128,meanNoLim,training & 0.8661 & 0.9428 & 0.8629 & 0.9028 & 0.8195 & 0.8552 & 0.6783 \\\\\n",
      "Ridge,FPMD,Scaling,PCA256,median100,training & 0.9003 & 0.9560 & 0.8948 & 0.9273 & 0.8532 & 0.8916 & 0.7417 \\\\\n",
      "Ridge,FPMD,Scaling,PCA256,mean100,training & 0.9003 & 0.9560 & 0.8948 & 0.9273 & 0.8532 & 0.8916 & 0.7417 \\\\\n",
      "Ridge,FPMD,Scaling,PCA256,meanNoLim,training & 0.8899 & 0.9468 & 0.8849 & 0.9175 & 0.8513 & 0.8785 & 0.7317 \\\\\n",
      "Ridge,FPMD,Scaling,PCA512,median100,training & 0.9169 & 0.9716 & 0.9182 & 0.9434 & 0.8819 & 0.9108 & 0.8005 \\\\\n",
      "Ridge,FPMD,Scaling,PCA512,mean100,training & 0.9169 & 0.9716 & 0.9182 & 0.9434 & 0.8819 & 0.9108 & 0.8005 \\\\\n",
      "Ridge,FPMD,Scaling,PCA512,meanNoLim,training & 0.9025 & 0.9607 & 0.9033 & 0.9307 & 0.8722 & 0.8936 & 0.7755 \\\\\n",
      "Ridge,FPMD,Scaling,PCA1024,median100,training & 0.9344 & 0.9815 & 0.9387 & 0.9574 & 0.9095 & 0.9301 & 0.8514 \\\\\n",
      "Ridge,FPMD,Scaling,PCA1024,mean100,training & 0.9344 & 0.9815 & 0.9387 & 0.9574 & 0.9095 & 0.9301 & 0.8514 \\\\\n",
      "Ridge,FPMD,Scaling,PCA1024,meanNoLim,training & 0.9209 & 0.9687 & 0.9227 & 0.9442 & 0.8977 & 0.9133 & 0.8212 \\\\\n",
      "\\end{tabular}\n",
      "\n"
     ]
    }
   ],
   "source": [
    "print(results_train.style.format({\"precision\": '{:.4f}', \"recall\": '{:.4f}', \"accuracy\": '{:.4f}', \"f1\": '{:.4f}', \"rocauc\": '{:.4f}', \"ap\": '{:.4f}', \"mcc\": '{:.4f}'}, precision=4).hide(axis=0).to_latex())"
   ]
  },
  {
   "cell_type": "code",
   "execution_count": 33,
   "id": "a5913c25",
   "metadata": {},
   "outputs": [
    {
     "data": {
      "text/html": [
       "<div>\n",
       "<style scoped>\n",
       "    .dataframe tbody tr th:only-of-type {\n",
       "        vertical-align: middle;\n",
       "    }\n",
       "\n",
       "    .dataframe tbody tr th {\n",
       "        vertical-align: top;\n",
       "    }\n",
       "\n",
       "    .dataframe thead th {\n",
       "        text-align: right;\n",
       "    }\n",
       "</style>\n",
       "<table border=\"1\" class=\"dataframe\">\n",
       "  <thead>\n",
       "    <tr style=\"text-align: right;\">\n",
       "      <th></th>\n",
       "      <th>use case</th>\n",
       "      <th>r2</th>\n",
       "      <th>mse</th>\n",
       "      <th>msle</th>\n",
       "      <th>mae</th>\n",
       "      <th>mape</th>\n",
       "    </tr>\n",
       "  </thead>\n",
       "  <tbody>\n",
       "    <tr>\n",
       "      <th>6</th>\n",
       "      <td>RF,FP,NoPCA,median100,test</td>\n",
       "      <td>0.7423</td>\n",
       "      <td>0.3767</td>\n",
       "      <td>0.0075</td>\n",
       "      <td>0.4605</td>\n",
       "      <td>0.0776</td>\n",
       "    </tr>\n",
       "    <tr>\n",
       "      <th>14</th>\n",
       "      <td>SVM,FPMD,Scaling,PCA128,mean100,test</td>\n",
       "      <td>0.7865</td>\n",
       "      <td>0.3093</td>\n",
       "      <td>0.0060</td>\n",
       "      <td>0.4162</td>\n",
       "      <td>0.0680</td>\n",
       "    </tr>\n",
       "    <tr>\n",
       "      <th>8</th>\n",
       "      <td>XGBoost,FP,NoPCA,mean100,test</td>\n",
       "      <td>0.7429</td>\n",
       "      <td>0.3724</td>\n",
       "      <td>0.0072</td>\n",
       "      <td>0.4663</td>\n",
       "      <td>0.0767</td>\n",
       "    </tr>\n",
       "    <tr>\n",
       "      <th>20</th>\n",
       "      <td>Ridge,FPMD,Scaling,PCA256,mean100,test</td>\n",
       "      <td>0.7268</td>\n",
       "      <td>0.3958</td>\n",
       "      <td>0.0079</td>\n",
       "      <td>0.5096</td>\n",
       "      <td>0.0844</td>\n",
       "    </tr>\n",
       "  </tbody>\n",
       "</table>\n",
       "</div>"
      ],
      "text/plain": [
       "                                  use case      r2     mse    msle     mae  \\\n",
       "6               RF,FP,NoPCA,median100,test  0.7423  0.3767  0.0075  0.4605   \n",
       "14    SVM,FPMD,Scaling,PCA128,mean100,test  0.7865  0.3093  0.0060  0.4162   \n",
       "8            XGBoost,FP,NoPCA,mean100,test  0.7429  0.3724  0.0072  0.4663   \n",
       "20  Ridge,FPMD,Scaling,PCA256,mean100,test  0.7268  0.3958  0.0079  0.5096   \n",
       "\n",
       "      mape  \n",
       "6   0.0776  \n",
       "14  0.0680  \n",
       "8   0.0767  \n",
       "20  0.0844  "
      ]
     },
     "execution_count": 33,
     "metadata": {},
     "output_type": "execute_result"
    }
   ],
   "source": [
    "results_test, results_train = parse_results_regressor(file_name=\"result_regressor_ridge.csv\", n_rows=36)\n",
    "results_test[\"use case\"] = prepare_methodology_naming(results_test[\"use case\"], methodology_in=\"M_Ridge\", methodology_out = \"Ridge\")\n",
    "results_train[\"use case\"] = prepare_methodology_naming(results_train[\"use case\"], methodology_in=\"M_Ridge\", methodology_out = \"Ridge\")\n",
    "best_regressors = pd.concat([best_regressors, results_test.sort_values(\"mse\", ascending=True).iloc[[0],:]])\n",
    "best_regressors"
   ]
  },
  {
   "cell_type": "code",
   "execution_count": 34,
   "id": "4115317f",
   "metadata": {},
   "outputs": [
    {
     "name": "stderr",
     "output_type": "stream",
     "text": [
      "/tmp/ipykernel_31177/34622521.py:1: FutureWarning: Dropping of nuisance columns in DataFrame reductions (with 'numeric_only=None') is deprecated; in a future version this will raise TypeError.  Select only valid columns before calling the reduction.\n",
      "  results_test.mean()\n"
     ]
    },
    {
     "data": {
      "text/plain": [
       "r2      0.641967\n",
       "mse     0.460617\n",
       "msle    0.009022\n",
       "mae     0.530800\n",
       "mape    0.086889\n",
       "dtype: float64"
      ]
     },
     "execution_count": 34,
     "metadata": {},
     "output_type": "execute_result"
    }
   ],
   "source": [
    "results_test.mean()"
   ]
  },
  {
   "cell_type": "code",
   "execution_count": 35,
   "id": "c7bb23c7",
   "metadata": {},
   "outputs": [
    {
     "name": "stdout",
     "output_type": "stream",
     "text": [
      "\\begin{tabular}{lrrrrr}\n",
      "use case & r2 & mse & msle & mae & mape \\\\\n",
      "Ridge,FPMD,Scaling,NoPCA,median100,test & 0.6839 & 0.4621 & 0.0094 & 0.5342 & 0.0891 \\\\\n",
      "Ridge,FPMD,Scaling,NoPCA,mean100,test & 0.6840 & 0.4577 & 0.0093 & 0.5292 & 0.0884 \\\\\n",
      "Ridge,FPMD,Scaling,NoPCA,meanNoLim,test & 0.5415 & 0.4882 & 0.0091 & 0.5335 & 0.0848 \\\\\n",
      "Ridge,FP,NoPCA,median100,test & 0.6673 & 0.4864 & 0.0100 & 0.5454 & 0.0909 \\\\\n",
      "Ridge,FP,NoPCA,mean100,test & 0.6682 & 0.4806 & 0.0099 & 0.5392 & 0.0900 \\\\\n",
      "Ridge,FP,NoPCA,meanNoLim,test & 0.5199 & 0.5112 & 0.0095 & 0.5409 & 0.0860 \\\\\n",
      "Ridge,FPMD,Scaling,PCA128,median100,test & 0.7079 & 0.4269 & 0.0085 & 0.5224 & 0.0866 \\\\\n",
      "Ridge,FPMD,Scaling,PCA128,mean100,test & 0.7110 & 0.4187 & 0.0084 & 0.5175 & 0.0860 \\\\\n",
      "Ridge,FPMD,Scaling,PCA128,meanNoLim,test & 0.4960 & 0.5366 & 0.0099 & 0.5705 & 0.0906 \\\\\n",
      "Ridge,FPMD,Scaling,PCA256,median100,test & 0.7244 & 0.4029 & 0.0080 & 0.5143 & 0.0850 \\\\\n",
      "Ridge,FPMD,Scaling,PCA256,mean100,test & 0.7268 & 0.3958 & 0.0079 & 0.5096 & 0.0844 \\\\\n",
      "Ridge,FPMD,Scaling,PCA256,meanNoLim,test & 0.5563 & 0.4725 & 0.0088 & 0.5443 & 0.0865 \\\\\n",
      "Ridge,FPMD,Scaling,PCA512,median100,test & 0.6996 & 0.4392 & 0.0087 & 0.5156 & 0.0852 \\\\\n",
      "Ridge,FPMD,Scaling,PCA512,mean100,test & 0.7001 & 0.4344 & 0.0086 & 0.5110 & 0.0846 \\\\\n",
      "Ridge,FPMD,Scaling,PCA512,meanNoLim,test & 0.5609 & 0.4676 & 0.0086 & 0.5287 & 0.0835 \\\\\n",
      "Ridge,FPMD,Scaling,PCA1024,median100,test & 0.6833 & 0.4630 & 0.0094 & 0.5347 & 0.0892 \\\\\n",
      "Ridge,FPMD,Scaling,PCA1024,mean100,test & 0.6836 & 0.4583 & 0.0093 & 0.5295 & 0.0884 \\\\\n",
      "Ridge,FPMD,Scaling,PCA1024,meanNoLim,test & 0.5407 & 0.4890 & 0.0091 & 0.5339 & 0.0848 \\\\\n",
      "\\end{tabular}\n",
      "\n"
     ]
    }
   ],
   "source": [
    "print(results_test.style.format({\"r2\": '{:.4f}', \"mse\": '{:.4f}', \"msle\": '{:.4f}', \"mae\": '{:.4f}', \"mape\": '{:.4f}'}, precision=4).hide(axis=0).to_latex())"
   ]
  },
  {
   "cell_type": "code",
   "execution_count": 36,
   "id": "6323da7a",
   "metadata": {},
   "outputs": [
    {
     "name": "stdout",
     "output_type": "stream",
     "text": [
      "\\begin{tabular}{lrrrrr}\n",
      "use case & r2 & mse & msle & mae & mape \\\\\n",
      "Ridge,FPMD,Scaling,NoPCA,median100,test & 0.8268 & 0.2250 & 0.0044 & 0.3638 & 0.0587 \\\\\n",
      "Ridge,FPMD,Scaling,NoPCA,mean100,test & 0.8277 & 0.2229 & 0.0043 & 0.3616 & 0.0584 \\\\\n",
      "Ridge,FPMD,Scaling,NoPCA,meanNoLim,test & 0.8069 & 0.2467 & 0.0048 & 0.3841 & 0.0624 \\\\\n",
      "Ridge,FP,NoPCA,median100,test & 0.8233 & 0.2296 & 0.0045 & 0.3684 & 0.0595 \\\\\n",
      "Ridge,FP,NoPCA,mean100,test & 0.8233 & 0.2286 & 0.0045 & 0.3674 & 0.0594 \\\\\n",
      "Ridge,FP,NoPCA,meanNoLim,test & 0.8018 & 0.2533 & 0.0049 & 0.3899 & 0.0634 \\\\\n",
      "Ridge,FPMD,Scaling,PCA128,median100,test & 0.6410 & 0.4664 & 0.0091 & 0.5311 & 0.0867 \\\\\n",
      "Ridge,FPMD,Scaling,PCA128,mean100,test & 0.6421 & 0.4629 & 0.0090 & 0.5289 & 0.0864 \\\\\n",
      "Ridge,FPMD,Scaling,PCA128,meanNoLim,test & 0.6332 & 0.4687 & 0.0092 & 0.5332 & 0.0876 \\\\\n",
      "Ridge,FPMD,Scaling,PCA256,median100,test & 0.7063 & 0.3816 & 0.0074 & 0.4809 & 0.0783 \\\\\n",
      "Ridge,FPMD,Scaling,PCA256,mean100,test & 0.7076 & 0.3781 & 0.0074 & 0.4787 & 0.0780 \\\\\n",
      "Ridge,FPMD,Scaling,PCA256,meanNoLim,test & 0.6952 & 0.3894 & 0.0076 & 0.4879 & 0.0798 \\\\\n",
      "Ridge,FPMD,Scaling,PCA512,median100,test & 0.7769 & 0.2899 & 0.0056 & 0.4147 & 0.0671 \\\\\n",
      "Ridge,FPMD,Scaling,PCA512,mean100,test & 0.7780 & 0.2871 & 0.0056 & 0.4125 & 0.0668 \\\\\n",
      "Ridge,FPMD,Scaling,PCA512,meanNoLim,test & 0.7534 & 0.3150 & 0.0062 & 0.4354 & 0.0710 \\\\\n",
      "Ridge,FPMD,Scaling,PCA1024,median100,test & 0.8273 & 0.2244 & 0.0044 & 0.3633 & 0.0586 \\\\\n",
      "Ridge,FPMD,Scaling,PCA1024,mean100,test & 0.8281 & 0.2223 & 0.0043 & 0.3612 & 0.0583 \\\\\n",
      "Ridge,FPMD,Scaling,PCA1024,meanNoLim,test & 0.8075 & 0.2460 & 0.0048 & 0.3835 & 0.0623 \\\\\n",
      "\\end{tabular}\n",
      "\n"
     ]
    }
   ],
   "source": [
    "print(results_train.style.format({\"r2\": '{:.4f}', \"mse\": '{:.4f}', \"msle\": '{:.4f}', \"mae\": '{:.4f}', \"mape\": '{:.4f}'}, precision=4).hide(axis=0).to_latex())"
   ]
  },
  {
   "cell_type": "markdown",
   "id": "5359ebf8",
   "metadata": {},
   "source": [
    "# MLP"
   ]
  },
  {
   "cell_type": "code",
   "execution_count": 37,
   "id": "3f653581",
   "metadata": {},
   "outputs": [
    {
     "data": {
      "text/html": [
       "<div>\n",
       "<style scoped>\n",
       "    .dataframe tbody tr th:only-of-type {\n",
       "        vertical-align: middle;\n",
       "    }\n",
       "\n",
       "    .dataframe tbody tr th {\n",
       "        vertical-align: top;\n",
       "    }\n",
       "\n",
       "    .dataframe thead th {\n",
       "        text-align: right;\n",
       "    }\n",
       "</style>\n",
       "<table border=\"1\" class=\"dataframe\">\n",
       "  <thead>\n",
       "    <tr style=\"text-align: right;\">\n",
       "      <th></th>\n",
       "      <th>use case</th>\n",
       "      <th>precision</th>\n",
       "      <th>recall</th>\n",
       "      <th>accuracy</th>\n",
       "      <th>f1</th>\n",
       "      <th>rocauc</th>\n",
       "      <th>ap</th>\n",
       "      <th>mcc</th>\n",
       "    </tr>\n",
       "  </thead>\n",
       "  <tbody>\n",
       "    <tr>\n",
       "      <th>6</th>\n",
       "      <td>RF,FP,NoPCA,median100,test</td>\n",
       "      <td>0.8931</td>\n",
       "      <td>0.9660</td>\n",
       "      <td>0.9013</td>\n",
       "      <td>0.9281</td>\n",
       "      <td>0.8712</td>\n",
       "      <td>0.8851</td>\n",
       "      <td>0.7778</td>\n",
       "    </tr>\n",
       "    <tr>\n",
       "      <th>32</th>\n",
       "      <td>SVM,FPMD,Scaling,PCA1024,mean100,test</td>\n",
       "      <td>0.9211</td>\n",
       "      <td>0.9524</td>\n",
       "      <td>0.9148</td>\n",
       "      <td>0.9365</td>\n",
       "      <td>0.8972</td>\n",
       "      <td>0.9086</td>\n",
       "      <td>0.8084</td>\n",
       "    </tr>\n",
       "    <tr>\n",
       "      <th>6</th>\n",
       "      <td>XGBoost,FP,NoPCA,median100,test</td>\n",
       "      <td>0.9267</td>\n",
       "      <td>0.9456</td>\n",
       "      <td>0.9148</td>\n",
       "      <td>0.9360</td>\n",
       "      <td>0.9004</td>\n",
       "      <td>0.9121</td>\n",
       "      <td>0.8089</td>\n",
       "    </tr>\n",
       "    <tr>\n",
       "      <th>24</th>\n",
       "      <td>Ridge,FPMD,Scaling,PCA512,median100,test</td>\n",
       "      <td>0.8947</td>\n",
       "      <td>0.9252</td>\n",
       "      <td>0.8789</td>\n",
       "      <td>0.9097</td>\n",
       "      <td>0.8573</td>\n",
       "      <td>0.8771</td>\n",
       "      <td>0.7271</td>\n",
       "    </tr>\n",
       "    <tr>\n",
       "      <th>8</th>\n",
       "      <td>MLP,FPMD,Scaling,PCA128,mean100,test</td>\n",
       "      <td>0.9020</td>\n",
       "      <td>0.9388</td>\n",
       "      <td>0.8924</td>\n",
       "      <td>0.9200</td>\n",
       "      <td>0.8707</td>\n",
       "      <td>0.8871</td>\n",
       "      <td>0.7572</td>\n",
       "    </tr>\n",
       "  </tbody>\n",
       "</table>\n",
       "</div>"
      ],
      "text/plain": [
       "                                    use case  precision  recall  accuracy  \\\n",
       "6                 RF,FP,NoPCA,median100,test     0.8931  0.9660    0.9013   \n",
       "32     SVM,FPMD,Scaling,PCA1024,mean100,test     0.9211  0.9524    0.9148   \n",
       "6            XGBoost,FP,NoPCA,median100,test     0.9267  0.9456    0.9148   \n",
       "24  Ridge,FPMD,Scaling,PCA512,median100,test     0.8947  0.9252    0.8789   \n",
       "8       MLP,FPMD,Scaling,PCA128,mean100,test     0.9020  0.9388    0.8924   \n",
       "\n",
       "        f1  rocauc      ap     mcc  \n",
       "6   0.9281  0.8712  0.8851  0.7778  \n",
       "32  0.9365  0.8972  0.9086  0.8084  \n",
       "6   0.9360  0.9004  0.9121  0.8089  \n",
       "24  0.9097  0.8573  0.8771  0.7271  \n",
       "8   0.9200  0.8707  0.8871  0.7572  "
      ]
     },
     "execution_count": 37,
     "metadata": {},
     "output_type": "execute_result"
    }
   ],
   "source": [
    "results_test, results_train = parse_results_classifier(file_name=\"result_classifier_mlp.csv\", n_rows=30)\n",
    "results_test[\"use case\"] = prepare_methodology_naming(results_test[\"use case\"], methodology_in=\"M_MLP\", methodology_out = \"MLP\")\n",
    "results_train[\"use case\"] = prepare_methodology_naming(results_train[\"use case\"], methodology_in=\"M_MLP\", methodology_out = \"MLP\")\n",
    "best_classifiers = pd.concat([best_classifiers, results_test.sort_values(\"accuracy\", ascending=False).iloc[[0],:]])\n",
    "best_classifiers"
   ]
  },
  {
   "cell_type": "code",
   "execution_count": 38,
   "id": "64597271",
   "metadata": {},
   "outputs": [
    {
     "name": "stderr",
     "output_type": "stream",
     "text": [
      "/tmp/ipykernel_31177/34622521.py:1: FutureWarning: Dropping of nuisance columns in DataFrame reductions (with 'numeric_only=None') is deprecated; in a future version this will raise TypeError.  Select only valid columns before calling the reduction.\n",
      "  results_test.mean()\n"
     ]
    },
    {
     "data": {
      "text/plain": [
       "precision    0.887900\n",
       "recall       0.908287\n",
       "accuracy     0.857887\n",
       "f1           0.897700\n",
       "rocauc       0.824920\n",
       "ap           0.869293\n",
       "mcc          0.660493\n",
       "dtype: float64"
      ]
     },
     "execution_count": 38,
     "metadata": {},
     "output_type": "execute_result"
    }
   ],
   "source": [
    "results_test.mean()"
   ]
  },
  {
   "cell_type": "code",
   "execution_count": 39,
   "id": "d7d256e5",
   "metadata": {},
   "outputs": [
    {
     "name": "stdout",
     "output_type": "stream",
     "text": [
      "\\begin{tabular}{lrrrrrrr}\n",
      "use case & precision & recall & accuracy & f1 & rocauc & ap & mcc \\\\\n",
      "MLP,MD,Scaling,NoPCA,median100,test & 0.8516 & 0.8980 & 0.8296 & 0.8742 & 0.7977 & 0.8320 & 0.6129 \\\\\n",
      "MLP,MD,Scaling,NoPCA,mean100,test & 0.8509 & 0.9320 & 0.8475 & 0.8896 & 0.8081 & 0.8379 & 0.6519 \\\\\n",
      "MLP,MD,Scaling,NoPCA,meanNoLim,test & 0.8469 & 0.9071 & 0.8105 & 0.8760 & 0.7228 & 0.8368 & 0.4814 \\\\\n",
      "MLP,FPMD,Scaling,PCA128,median100,test & 0.9110 & 0.9048 & 0.8789 & 0.9078 & 0.8669 & 0.8870 & 0.7314 \\\\\n",
      "MLP,FPMD,Scaling,PCA128,mean100,test & 0.9020 & 0.9388 & 0.8924 & 0.9200 & 0.8707 & 0.8871 & 0.7572 \\\\\n",
      "MLP,FPMD,Scaling,PCA128,meanNoLim,test & 0.8817 & 0.8962 & 0.8347 & 0.8889 & 0.7789 & 0.8668 & 0.5664 \\\\\n",
      "MLP,FPMD,Scaling,PCA256,median100,test & 0.8993 & 0.9116 & 0.8744 & 0.9054 & 0.8571 & 0.8781 & 0.7189 \\\\\n",
      "MLP,FPMD,Scaling,PCA256,mean100,test & 0.8993 & 0.9116 & 0.8744 & 0.9054 & 0.8571 & 0.8781 & 0.7189 \\\\\n",
      "MLP,FPMD,Scaling,PCA256,meanNoLim,test & 0.9111 & 0.8962 & 0.8589 & 0.9036 & 0.8250 & 0.8931 & 0.6408 \\\\\n",
      "MLP,FPMD,Scaling,PCA512,median100,test & 0.9034 & 0.8912 & 0.8655 & 0.8973 & 0.8535 & 0.8769 & 0.7026 \\\\\n",
      "MLP,FPMD,Scaling,PCA512,mean100,test & 0.8944 & 0.8639 & 0.8430 & 0.8789 & 0.8333 & 0.8624 & 0.6569 \\\\\n",
      "MLP,FPMD,Scaling,PCA512,meanNoLim,test & 0.8776 & 0.9399 & 0.8589 & 0.9077 & 0.7853 & 0.8692 & 0.6165 \\\\\n",
      "MLP,FPMD,Scaling,PCA1024,median100,test & 0.8889 & 0.9252 & 0.8744 & 0.9067 & 0.8507 & 0.8717 & 0.7165 \\\\\n",
      "MLP,FPMD,Scaling,PCA1024,mean100,test & 0.8993 & 0.9116 & 0.8744 & 0.9054 & 0.8571 & 0.8781 & 0.7189 \\\\\n",
      "MLP,FPMD,Scaling,PCA1024,meanNoLim,test & 0.9011 & 0.8962 & 0.8508 & 0.8986 & 0.8096 & 0.8842 & 0.6162 \\\\\n",
      "\\end{tabular}\n",
      "\n"
     ]
    }
   ],
   "source": [
    "print(results_test.style.format({\"precision\": '{:.4f}', \"recall\": '{:.4f}', \"accuracy\": '{:.4f}', \"f1\": '{:.4f}', \"rocauc\": '{:.4f}', \"ap\": '{:.4f}', \"mcc\": '{:.4f}'}, precision=4).hide(axis=0).to_latex())"
   ]
  },
  {
   "cell_type": "code",
   "execution_count": 40,
   "id": "81745696",
   "metadata": {},
   "outputs": [
    {
     "name": "stdout",
     "output_type": "stream",
     "text": [
      "\\begin{tabular}{lrrrrrrr}\n",
      "use case & precision & recall & accuracy & f1 & rocauc & ap & mcc \\\\\n",
      "MLP,MD,Scaling,NoPCA,median100,training & 0.8971 & 0.9098 & 0.8633 & 0.9034 & 0.8318 & 0.8795 & 0.6702 \\\\\n",
      "MLP,MD,Scaling,NoPCA,mean100,training & 0.8647 & 0.9439 & 0.8569 & 0.9025 & 0.7977 & 0.8556 & 0.6437 \\\\\n",
      "MLP,MD,Scaling,NoPCA,meanNoLim,training & 0.8606 & 0.9281 & 0.8498 & 0.8931 & 0.8073 & 0.8473 & 0.6472 \\\\\n",
      "MLP,FPMD,Scaling,PCA128,median100,training & 0.9773 & 0.9780 & 0.9686 & 0.9776 & 0.9622 & 0.9712 & 0.9248 \\\\\n",
      "MLP,FPMD,Scaling,PCA128,mean100,training & 0.9664 & 0.9801 & 0.9621 & 0.9732 & 0.9499 & 0.9611 & 0.9087 \\\\\n",
      "MLP,FPMD,Scaling,PCA128,meanNoLim,training & 0.9531 & 0.9601 & 0.9411 & 0.9566 & 0.9308 & 0.9420 & 0.8651 \\\\\n",
      "MLP,FPMD,Scaling,PCA256,median100,training & 0.9305 & 0.9602 & 0.9217 & 0.9451 & 0.8955 & 0.9214 & 0.8098 \\\\\n",
      "MLP,FPMD,Scaling,PCA256,mean100,training & 0.9322 & 0.9673 & 0.9277 & 0.9495 & 0.9008 & 0.9247 & 0.8243 \\\\\n",
      "MLP,FPMD,Scaling,PCA256,meanNoLim,training & 0.9281 & 0.9441 & 0.9128 & 0.9360 & 0.8958 & 0.9140 & 0.7993 \\\\\n",
      "MLP,FPMD,Scaling,PCA512,median100,training & 0.9384 & 0.9411 & 0.9152 & 0.9397 & 0.8977 & 0.9245 & 0.7969 \\\\\n",
      "MLP,FPMD,Scaling,PCA512,mean100,training & 0.9692 & 0.9624 & 0.9521 & 0.9658 & 0.9452 & 0.9592 & 0.8861 \\\\\n",
      "MLP,FPMD,Scaling,PCA512,meanNoLim,training & 0.9487 & 0.9840 & 0.9532 & 0.9660 & 0.9365 & 0.9443 & 0.8926 \\\\\n",
      "MLP,FPMD,Scaling,PCA1024,median100,training & 0.9230 & 0.9702 & 0.9222 & 0.9460 & 0.8896 & 0.9164 & 0.8105 \\\\\n",
      "MLP,FPMD,Scaling,PCA1024,mean100,training & 0.9187 & 0.9545 & 0.9087 & 0.9363 & 0.8776 & 0.9088 & 0.7776 \\\\\n",
      "MLP,FPMD,Scaling,PCA1024,meanNoLim,training & 0.9766 & 0.9734 & 0.9663 & 0.9750 & 0.9624 & 0.9686 & 0.9232 \\\\\n",
      "\\end{tabular}\n",
      "\n"
     ]
    }
   ],
   "source": [
    "print(results_train.style.format({\"precision\": '{:.4f}', \"recall\": '{:.4f}', \"accuracy\": '{:.4f}', \"f1\": '{:.4f}', \"rocauc\": '{:.4f}', \"ap\": '{:.4f}', \"mcc\": '{:.4f}'}, precision=4).hide(axis=0).to_latex())"
   ]
  },
  {
   "cell_type": "code",
   "execution_count": 41,
   "id": "c34d21e0",
   "metadata": {},
   "outputs": [
    {
     "data": {
      "text/html": [
       "<div>\n",
       "<style scoped>\n",
       "    .dataframe tbody tr th:only-of-type {\n",
       "        vertical-align: middle;\n",
       "    }\n",
       "\n",
       "    .dataframe tbody tr th {\n",
       "        vertical-align: top;\n",
       "    }\n",
       "\n",
       "    .dataframe thead th {\n",
       "        text-align: right;\n",
       "    }\n",
       "</style>\n",
       "<table border=\"1\" class=\"dataframe\">\n",
       "  <thead>\n",
       "    <tr style=\"text-align: right;\">\n",
       "      <th></th>\n",
       "      <th>use case</th>\n",
       "      <th>r2</th>\n",
       "      <th>mse</th>\n",
       "      <th>msle</th>\n",
       "      <th>mae</th>\n",
       "      <th>mape</th>\n",
       "    </tr>\n",
       "  </thead>\n",
       "  <tbody>\n",
       "    <tr>\n",
       "      <th>6</th>\n",
       "      <td>RF,FP,NoPCA,median100,test</td>\n",
       "      <td>0.7423</td>\n",
       "      <td>0.3767</td>\n",
       "      <td>0.0075</td>\n",
       "      <td>0.4605</td>\n",
       "      <td>0.0776</td>\n",
       "    </tr>\n",
       "    <tr>\n",
       "      <th>14</th>\n",
       "      <td>SVM,FPMD,Scaling,PCA128,mean100,test</td>\n",
       "      <td>0.7865</td>\n",
       "      <td>0.3093</td>\n",
       "      <td>0.0060</td>\n",
       "      <td>0.4162</td>\n",
       "      <td>0.0680</td>\n",
       "    </tr>\n",
       "    <tr>\n",
       "      <th>8</th>\n",
       "      <td>XGBoost,FP,NoPCA,mean100,test</td>\n",
       "      <td>0.7429</td>\n",
       "      <td>0.3724</td>\n",
       "      <td>0.0072</td>\n",
       "      <td>0.4663</td>\n",
       "      <td>0.0767</td>\n",
       "    </tr>\n",
       "    <tr>\n",
       "      <th>20</th>\n",
       "      <td>Ridge,FPMD,Scaling,PCA256,mean100,test</td>\n",
       "      <td>0.7268</td>\n",
       "      <td>0.3958</td>\n",
       "      <td>0.0079</td>\n",
       "      <td>0.5096</td>\n",
       "      <td>0.0844</td>\n",
       "    </tr>\n",
       "    <tr>\n",
       "      <th>8</th>\n",
       "      <td>MLP,FPMD,Scaling,PCA128,mean100,test</td>\n",
       "      <td>0.7467</td>\n",
       "      <td>0.3669</td>\n",
       "      <td>0.0074</td>\n",
       "      <td>0.4839</td>\n",
       "      <td>0.0811</td>\n",
       "    </tr>\n",
       "  </tbody>\n",
       "</table>\n",
       "</div>"
      ],
      "text/plain": [
       "                                  use case      r2     mse    msle     mae  \\\n",
       "6               RF,FP,NoPCA,median100,test  0.7423  0.3767  0.0075  0.4605   \n",
       "14    SVM,FPMD,Scaling,PCA128,mean100,test  0.7865  0.3093  0.0060  0.4162   \n",
       "8            XGBoost,FP,NoPCA,mean100,test  0.7429  0.3724  0.0072  0.4663   \n",
       "20  Ridge,FPMD,Scaling,PCA256,mean100,test  0.7268  0.3958  0.0079  0.5096   \n",
       "8     MLP,FPMD,Scaling,PCA128,mean100,test  0.7467  0.3669  0.0074  0.4839   \n",
       "\n",
       "      mape  \n",
       "6   0.0776  \n",
       "14  0.0680  \n",
       "8   0.0767  \n",
       "20  0.0844  \n",
       "8   0.0811  "
      ]
     },
     "execution_count": 41,
     "metadata": {},
     "output_type": "execute_result"
    }
   ],
   "source": [
    "results_test, results_train = parse_results_regressor(file_name=\"result_regressor_mlp.csv\", n_rows=30)\n",
    "results_test[\"use case\"] = prepare_methodology_naming(results_test[\"use case\"], methodology_in=\"M_MLP\", methodology_out = \"MLP\")\n",
    "results_train[\"use case\"] = prepare_methodology_naming(results_train[\"use case\"], methodology_in=\"M_MLP\", methodology_out = \"MLP\")\n",
    "best_regressors = pd.concat([best_regressors, results_test.sort_values(\"mse\", ascending=True).iloc[[0],:]])\n",
    "best_regressors"
   ]
  },
  {
   "cell_type": "code",
   "execution_count": 42,
   "id": "ec55ed8e",
   "metadata": {},
   "outputs": [
    {
     "name": "stderr",
     "output_type": "stream",
     "text": [
      "/tmp/ipykernel_31177/34622521.py:1: FutureWarning: Dropping of nuisance columns in DataFrame reductions (with 'numeric_only=None') is deprecated; in a future version this will raise TypeError.  Select only valid columns before calling the reduction.\n",
      "  results_test.mean()\n"
     ]
    },
    {
     "data": {
      "text/plain": [
       "r2      0.654380\n",
       "mse     0.443133\n",
       "msle    0.008373\n",
       "mae     0.515840\n",
       "mape    0.083280\n",
       "dtype: float64"
      ]
     },
     "execution_count": 42,
     "metadata": {},
     "output_type": "execute_result"
    }
   ],
   "source": [
    "results_test.mean()"
   ]
  },
  {
   "cell_type": "code",
   "execution_count": 43,
   "id": "79e2c55f",
   "metadata": {},
   "outputs": [
    {
     "name": "stdout",
     "output_type": "stream",
     "text": [
      "\\begin{tabular}{lrrrrr}\n",
      "use case & r2 & mse & msle & mae & mape \\\\\n",
      "MLP,MD,Scaling,NoPCA,median100,test & 0.6311 & 0.5393 & 0.0107 & 0.5629 & 0.0938 \\\\\n",
      "MLP,MD,Scaling,NoPCA,mean100,test & 0.6473 & 0.5109 & 0.0097 & 0.5497 & 0.0888 \\\\\n",
      "MLP,MD,Scaling,NoPCA,meanNoLim,test & 0.5110 & 0.5207 & 0.0095 & 0.5575 & 0.0875 \\\\\n",
      "MLP,FPMD,Scaling,PCA128,median100,test & 0.7395 & 0.3809 & 0.0074 & 0.4849 & 0.0801 \\\\\n",
      "MLP,FPMD,Scaling,PCA128,mean100,test & 0.7467 & 0.3669 & 0.0074 & 0.4839 & 0.0811 \\\\\n",
      "MLP,FPMD,Scaling,PCA128,meanNoLim,test & 0.5626 & 0.4657 & 0.0084 & 0.5212 & 0.0810 \\\\\n",
      "MLP,FPMD,Scaling,PCA256,median100,test & 0.7031 & 0.4340 & 0.0082 & 0.5216 & 0.0847 \\\\\n",
      "MLP,FPMD,Scaling,PCA256,mean100,test & 0.7259 & 0.3970 & 0.0076 & 0.4881 & 0.0804 \\\\\n",
      "MLP,FPMD,Scaling,PCA256,meanNoLim,test & 0.5637 & 0.4645 & 0.0086 & 0.5201 & 0.0821 \\\\\n",
      "MLP,FPMD,Scaling,PCA512,median100,test & 0.7416 & 0.3777 & 0.0070 & 0.4845 & 0.0773 \\\\\n",
      "MLP,FPMD,Scaling,PCA512,mean100,test & 0.7324 & 0.3877 & 0.0075 & 0.4709 & 0.0781 \\\\\n",
      "MLP,FPMD,Scaling,PCA512,meanNoLim,test & 0.5456 & 0.4838 & 0.0087 & 0.5347 & 0.0824 \\\\\n",
      "MLP,FPMD,Scaling,PCA1024,median100,test & 0.7287 & 0.3966 & 0.0076 & 0.5032 & 0.0831 \\\\\n",
      "MLP,FPMD,Scaling,PCA1024,mean100,test & 0.7175 & 0.4092 & 0.0079 & 0.5025 & 0.0822 \\\\\n",
      "MLP,FPMD,Scaling,PCA1024,meanNoLim,test & 0.5190 & 0.5121 & 0.0094 & 0.5519 & 0.0866 \\\\\n",
      "\\end{tabular}\n",
      "\n"
     ]
    }
   ],
   "source": [
    "print(results_test.style.format({\"r2\": '{:.4f}', \"mse\": '{:.4f}', \"msle\": '{:.4f}', \"mae\": '{:.4f}', \"mape\": '{:.4f}'}, precision=4).hide(axis=0).to_latex())"
   ]
  },
  {
   "cell_type": "code",
   "execution_count": 44,
   "id": "06c32bc6",
   "metadata": {},
   "outputs": [
    {
     "name": "stdout",
     "output_type": "stream",
     "text": [
      "\\begin{tabular}{lrrrrr}\n",
      "use case & r2 & mse & msle & mae & mape \\\\\n",
      "MLP,MD,Scaling,NoPCA,median100,test & 0.6594 & 0.4426 & 0.0087 & 0.5070 & 0.0831 \\\\\n",
      "MLP,MD,Scaling,NoPCA,mean100,test & 0.7715 & 0.2954 & 0.0056 & 0.4174 & 0.0664 \\\\\n",
      "MLP,MD,Scaling,NoPCA,meanNoLim,test & 0.7241 & 0.3526 & 0.0069 & 0.4629 & 0.0747 \\\\\n",
      "MLP,FPMD,Scaling,PCA128,median100,test & 0.8752 & 0.1622 & 0.0031 & 0.2981 & 0.0478 \\\\\n",
      "MLP,FPMD,Scaling,PCA128,mean100,test & 0.8736 & 0.1635 & 0.0033 & 0.3028 & 0.0490 \\\\\n",
      "MLP,FPMD,Scaling,PCA128,meanNoLim,test & 0.8125 & 0.2396 & 0.0045 & 0.3829 & 0.0607 \\\\\n",
      "MLP,FPMD,Scaling,PCA256,median100,test & 0.9027 & 0.1264 & 0.0026 & 0.2624 & 0.0429 \\\\\n",
      "MLP,FPMD,Scaling,PCA256,mean100,test & 0.8899 & 0.1424 & 0.0028 & 0.2772 & 0.0452 \\\\\n",
      "MLP,FPMD,Scaling,PCA256,meanNoLim,test & 0.8302 & 0.2170 & 0.0041 & 0.3553 & 0.0568 \\\\\n",
      "MLP,FPMD,Scaling,PCA512,median100,test & 0.8847 & 0.1499 & 0.0028 & 0.2975 & 0.0463 \\\\\n",
      "MLP,FPMD,Scaling,PCA512,mean100,test & 0.9246 & 0.0975 & 0.0020 & 0.2226 & 0.0367 \\\\\n",
      "MLP,FPMD,Scaling,PCA512,meanNoLim,test & 0.7712 & 0.2923 & 0.0056 & 0.4290 & 0.0689 \\\\\n",
      "MLP,FPMD,Scaling,PCA1024,median100,test & 0.8882 & 0.1452 & 0.0029 & 0.2799 & 0.0459 \\\\\n",
      "MLP,FPMD,Scaling,PCA1024,mean100,test & 0.8991 & 0.1305 & 0.0025 & 0.2646 & 0.0418 \\\\\n",
      "MLP,FPMD,Scaling,PCA1024,meanNoLim,test & 0.8399 & 0.2046 & 0.0040 & 0.3471 & 0.0562 \\\\\n",
      "\\end{tabular}\n",
      "\n"
     ]
    }
   ],
   "source": [
    "print(results_train.style.format({\"r2\": '{:.4f}', \"mse\": '{:.4f}', \"msle\": '{:.4f}', \"mae\": '{:.4f}', \"mape\": '{:.4f}'}, precision=4).hide(axis=0).to_latex())"
   ]
  },
  {
   "cell_type": "code",
   "execution_count": 45,
   "id": "0f6a48b3",
   "metadata": {},
   "outputs": [],
   "source": [
    "#a, b, c, d = get_model_predictions(co.TRAINING_CONF_DIR/\"median_100\"/(METHOD_PREFIX+\"_classification_QED.json\"))"
   ]
  },
  {
   "cell_type": "markdown",
   "id": "7130ce44",
   "metadata": {},
   "source": [
    "# Bagging"
   ]
  },
  {
   "cell_type": "code",
   "execution_count": 46,
   "id": "41d55ae0",
   "metadata": {},
   "outputs": [
    {
     "data": {
      "text/html": [
       "<div>\n",
       "<style scoped>\n",
       "    .dataframe tbody tr th:only-of-type {\n",
       "        vertical-align: middle;\n",
       "    }\n",
       "\n",
       "    .dataframe tbody tr th {\n",
       "        vertical-align: top;\n",
       "    }\n",
       "\n",
       "    .dataframe thead th {\n",
       "        text-align: right;\n",
       "    }\n",
       "</style>\n",
       "<table border=\"1\" class=\"dataframe\">\n",
       "  <thead>\n",
       "    <tr style=\"text-align: right;\">\n",
       "      <th></th>\n",
       "      <th>use case</th>\n",
       "      <th>precision</th>\n",
       "      <th>recall</th>\n",
       "      <th>accuracy</th>\n",
       "      <th>f1</th>\n",
       "      <th>rocauc</th>\n",
       "      <th>ap</th>\n",
       "      <th>mcc</th>\n",
       "    </tr>\n",
       "  </thead>\n",
       "  <tbody>\n",
       "    <tr>\n",
       "      <th>6</th>\n",
       "      <td>RF,FP,NoPCA,median100,test</td>\n",
       "      <td>0.8931</td>\n",
       "      <td>0.9660</td>\n",
       "      <td>0.9013</td>\n",
       "      <td>0.9281</td>\n",
       "      <td>0.8712</td>\n",
       "      <td>0.8851</td>\n",
       "      <td>0.7778</td>\n",
       "    </tr>\n",
       "    <tr>\n",
       "      <th>32</th>\n",
       "      <td>SVM,FPMD,Scaling,PCA1024,mean100,test</td>\n",
       "      <td>0.9211</td>\n",
       "      <td>0.9524</td>\n",
       "      <td>0.9148</td>\n",
       "      <td>0.9365</td>\n",
       "      <td>0.8972</td>\n",
       "      <td>0.9086</td>\n",
       "      <td>0.8084</td>\n",
       "    </tr>\n",
       "    <tr>\n",
       "      <th>6</th>\n",
       "      <td>XGBoost,FP,NoPCA,median100,test</td>\n",
       "      <td>0.9267</td>\n",
       "      <td>0.9456</td>\n",
       "      <td>0.9148</td>\n",
       "      <td>0.9360</td>\n",
       "      <td>0.9004</td>\n",
       "      <td>0.9121</td>\n",
       "      <td>0.8089</td>\n",
       "    </tr>\n",
       "    <tr>\n",
       "      <th>24</th>\n",
       "      <td>Ridge,FPMD,Scaling,PCA512,median100,test</td>\n",
       "      <td>0.8947</td>\n",
       "      <td>0.9252</td>\n",
       "      <td>0.8789</td>\n",
       "      <td>0.9097</td>\n",
       "      <td>0.8573</td>\n",
       "      <td>0.8771</td>\n",
       "      <td>0.7271</td>\n",
       "    </tr>\n",
       "    <tr>\n",
       "      <th>8</th>\n",
       "      <td>MLP,FPMD,Scaling,PCA128,mean100,test</td>\n",
       "      <td>0.9020</td>\n",
       "      <td>0.9388</td>\n",
       "      <td>0.8924</td>\n",
       "      <td>0.9200</td>\n",
       "      <td>0.8707</td>\n",
       "      <td>0.8871</td>\n",
       "      <td>0.7572</td>\n",
       "    </tr>\n",
       "    <tr>\n",
       "      <th>6</th>\n",
       "      <td>Bagging,FP,NoPCA,median100,test</td>\n",
       "      <td>0.9037</td>\n",
       "      <td>0.8299</td>\n",
       "      <td>0.8296</td>\n",
       "      <td>0.8652</td>\n",
       "      <td>0.8294</td>\n",
       "      <td>0.8621</td>\n",
       "      <td>0.6389</td>\n",
       "    </tr>\n",
       "  </tbody>\n",
       "</table>\n",
       "</div>"
      ],
      "text/plain": [
       "                                    use case  precision  recall  accuracy  \\\n",
       "6                 RF,FP,NoPCA,median100,test     0.8931  0.9660    0.9013   \n",
       "32     SVM,FPMD,Scaling,PCA1024,mean100,test     0.9211  0.9524    0.9148   \n",
       "6            XGBoost,FP,NoPCA,median100,test     0.9267  0.9456    0.9148   \n",
       "24  Ridge,FPMD,Scaling,PCA512,median100,test     0.8947  0.9252    0.8789   \n",
       "8       MLP,FPMD,Scaling,PCA128,mean100,test     0.9020  0.9388    0.8924   \n",
       "6            Bagging,FP,NoPCA,median100,test     0.9037  0.8299    0.8296   \n",
       "\n",
       "        f1  rocauc      ap     mcc  \n",
       "6   0.9281  0.8712  0.8851  0.7778  \n",
       "32  0.9365  0.8972  0.9086  0.8084  \n",
       "6   0.9360  0.9004  0.9121  0.8089  \n",
       "24  0.9097  0.8573  0.8771  0.7271  \n",
       "8   0.9200  0.8707  0.8871  0.7572  \n",
       "6   0.8652  0.8294  0.8621  0.6389  "
      ]
     },
     "execution_count": 46,
     "metadata": {},
     "output_type": "execute_result"
    }
   ],
   "source": [
    "results_test, results_train = parse_results_classifier(file_name=\"result_classifier_bagging.csv\", n_rows=30)\n",
    "results_test[\"use case\"] = prepare_methodology_naming(results_test[\"use case\"], methodology_in=\"M_Bagging\", methodology_out = \"Bagging\")\n",
    "results_train[\"use case\"] = prepare_methodology_naming(results_train[\"use case\"], methodology_in=\"M_Bagging\", methodology_out = \"Bagging\")\n",
    "best_classifiers = pd.concat([best_classifiers, results_test.sort_values(\"accuracy\", ascending=False).iloc[[0],:]])\n",
    "best_classifiers"
   ]
  },
  {
   "cell_type": "code",
   "execution_count": 47,
   "id": "4cf34e56",
   "metadata": {},
   "outputs": [
    {
     "name": "stderr",
     "output_type": "stream",
     "text": [
      "/tmp/ipykernel_31177/34622521.py:1: FutureWarning: Dropping of nuisance columns in DataFrame reductions (with 'numeric_only=None') is deprecated; in a future version this will raise TypeError.  Select only valid columns before calling the reduction.\n",
      "  results_test.mean()\n"
     ]
    },
    {
     "data": {
      "text/plain": [
       "precision    0.869100\n",
       "recall       0.777427\n",
       "accuracy     0.766633\n",
       "f1           0.819047\n",
       "rocauc       0.760467\n",
       "ap           0.829133\n",
       "mcc          0.500273\n",
       "dtype: float64"
      ]
     },
     "execution_count": 47,
     "metadata": {},
     "output_type": "execute_result"
    }
   ],
   "source": [
    "results_test.mean()"
   ]
  },
  {
   "cell_type": "code",
   "execution_count": 48,
   "id": "951069cb",
   "metadata": {},
   "outputs": [
    {
     "name": "stdout",
     "output_type": "stream",
     "text": [
      "\\begin{tabular}{lrrrrrrr}\n",
      "use case & precision & recall & accuracy & f1 & rocauc & ap & mcc \\\\\n",
      "Bagging,MD,NoPCA,median100,test & 0.8473 & 0.7551 & 0.7489 & 0.7986 & 0.7460 & 0.8013 & 0.4736 \\\\\n",
      "Bagging,MD,NoPCA,mean100,test & 0.8473 & 0.7551 & 0.7489 & 0.7986 & 0.7460 & 0.8013 & 0.4736 \\\\\n",
      "Bagging,MD,NoPCA,meanNoLim,test & 0.8824 & 0.7377 & 0.7339 & 0.8036 & 0.7304 & 0.8445 & 0.4168 \\\\\n",
      "Bagging,FP,NoPCA,median100,test & 0.9037 & 0.8299 & 0.8296 & 0.8652 & 0.8294 & 0.8621 & 0.6389 \\\\\n",
      "Bagging,FP,NoPCA,mean100,test & 0.9037 & 0.8299 & 0.8296 & 0.8652 & 0.8294 & 0.8621 & 0.6389 \\\\\n",
      "Bagging,FP,NoPCA,meanNoLim,test & 0.9085 & 0.7596 & 0.7661 & 0.8274 & 0.7721 & 0.8675 & 0.4923 \\\\\n",
      "Bagging,FPMD,PCA128,median100,test & 0.8657 & 0.7891 & 0.7803 & 0.8256 & 0.7761 & 0.8221 & 0.5345 \\\\\n",
      "Bagging,FPMD,PCA128,mean100,test & 0.8657 & 0.7891 & 0.7803 & 0.8256 & 0.7761 & 0.8221 & 0.5345 \\\\\n",
      "Bagging,FPMD,PCA128,meanNoLim,test & 0.8741 & 0.6448 & 0.6694 & 0.7421 & 0.6916 & 0.8257 & 0.3384 \\\\\n",
      "Bagging,FPMD,PCA256,median100,test & 0.8346 & 0.7211 & 0.7220 & 0.7737 & 0.7224 & 0.7857 & 0.4258 \\\\\n",
      "Bagging,FPMD,PCA256,mean100,test & 0.8346 & 0.7211 & 0.7220 & 0.7737 & 0.7224 & 0.7857 & 0.4258 \\\\\n",
      "Bagging,FPMD,PCA256,meanNoLim,test & 0.8881 & 0.6940 & 0.7097 & 0.7791 & 0.7239 & 0.8421 & 0.3986 \\\\\n",
      "Bagging,FPMD,PCA512,median100,test & 0.8581 & 0.8639 & 0.8161 & 0.8610 & 0.7938 & 0.8310 & 0.5895 \\\\\n",
      "Bagging,FPMD,PCA512,mean100,test & 0.8581 & 0.8639 & 0.8161 & 0.8610 & 0.7938 & 0.8310 & 0.5895 \\\\\n",
      "Bagging,FPMD,PCA512,meanNoLim,test & 0.8646 & 0.9071 & 0.8266 & 0.8853 & 0.7536 & 0.8528 & 0.5334 \\\\\n",
      "\\end{tabular}\n",
      "\n"
     ]
    }
   ],
   "source": [
    "print(results_test.style.format({\"precision\": '{:.4f}', \"recall\": '{:.4f}', \"accuracy\": '{:.4f}', \"f1\": '{:.4f}', \"rocauc\": '{:.4f}', \"ap\": '{:.4f}', \"mcc\": '{:.4f}'}, precision=4).hide(axis=0).to_latex())"
   ]
  },
  {
   "cell_type": "code",
   "execution_count": 49,
   "id": "7680af56",
   "metadata": {},
   "outputs": [
    {
     "name": "stdout",
     "output_type": "stream",
     "text": [
      "\\begin{tabular}{lrrrrrrr}\n",
      "use case & precision & recall & accuracy & f1 & rocauc & ap & mcc \\\\\n",
      "Bagging,MD,NoPCA,median100,training & 0.9722 & 0.8928 & 0.9067 & 0.9308 & 0.9162 & 0.9432 & 0.7954 \\\\\n",
      "Bagging,MD,NoPCA,mean100,training & 0.9722 & 0.8928 & 0.9067 & 0.9308 & 0.9162 & 0.9432 & 0.7954 \\\\\n",
      "Bagging,MD,NoPCA,meanNoLim,training & 0.9669 & 0.8543 & 0.8817 & 0.9071 & 0.8966 & 0.9245 & 0.7570 \\\\\n",
      "Bagging,FP,NoPCA,median100,training & 0.9806 & 0.8977 & 0.9157 & 0.9373 & 0.9279 & 0.9521 & 0.8168 \\\\\n",
      "Bagging,FP,NoPCA,mean100,training & 0.9806 & 0.8977 & 0.9157 & 0.9373 & 0.9279 & 0.9521 & 0.8168 \\\\\n",
      "Bagging,FP,NoPCA,meanNoLim,training & 0.9677 & 0.8762 & 0.8966 & 0.9197 & 0.9076 & 0.9316 & 0.7830 \\\\\n",
      "Bagging,FPMD,PCA128,median100,training & 0.9744 & 0.8636 & 0.8883 & 0.9157 & 0.9050 & 0.9373 & 0.7641 \\\\\n",
      "Bagging,FPMD,PCA128,mean100,training & 0.9744 & 0.8636 & 0.8883 & 0.9157 & 0.9050 & 0.9373 & 0.7641 \\\\\n",
      "Bagging,FPMD,PCA128,meanNoLim,training & 0.9770 & 0.8463 & 0.8826 & 0.9070 & 0.9023 & 0.9307 & 0.7646 \\\\\n",
      "Bagging,FPMD,PCA256,median100,training & 0.9696 & 0.8622 & 0.8843 & 0.9128 & 0.8993 & 0.9328 & 0.7540 \\\\\n",
      "Bagging,FPMD,PCA256,mean100,training & 0.9696 & 0.8622 & 0.8843 & 0.9128 & 0.8993 & 0.9328 & 0.7540 \\\\\n",
      "Bagging,FPMD,PCA256,meanNoLim,training & 0.9730 & 0.8403 & 0.8763 & 0.9018 & 0.8959 & 0.9256 & 0.7518 \\\\\n",
      "Bagging,FPMD,PCA512,median100,training & 0.9793 & 0.9723 & 0.9661 & 0.9758 & 0.9619 & 0.9716 & 0.9194 \\\\\n",
      "Bagging,FPMD,PCA512,mean100,training & 0.9793 & 0.9723 & 0.9661 & 0.9758 & 0.9619 & 0.9716 & 0.9194 \\\\\n",
      "Bagging,FPMD,PCA512,meanNoLim,training & 0.9901 & 0.9953 & 0.9901 & 0.9927 & 0.9873 & 0.9886 & 0.9774 \\\\\n",
      "\\end{tabular}\n",
      "\n"
     ]
    }
   ],
   "source": [
    "print(results_train.style.format({\"r2\": '{:.4f}', \"mse\": '{:.4f}', \"msle\": '{:.4f}', \"mae\": '{:.4f}', \"mape\": '{:.4f}'}, precision=4).hide(axis=0).to_latex())"
   ]
  },
  {
   "cell_type": "code",
   "execution_count": 50,
   "id": "90a4be7b",
   "metadata": {},
   "outputs": [
    {
     "data": {
      "text/html": [
       "<div>\n",
       "<style scoped>\n",
       "    .dataframe tbody tr th:only-of-type {\n",
       "        vertical-align: middle;\n",
       "    }\n",
       "\n",
       "    .dataframe tbody tr th {\n",
       "        vertical-align: top;\n",
       "    }\n",
       "\n",
       "    .dataframe thead th {\n",
       "        text-align: right;\n",
       "    }\n",
       "</style>\n",
       "<table border=\"1\" class=\"dataframe\">\n",
       "  <thead>\n",
       "    <tr style=\"text-align: right;\">\n",
       "      <th></th>\n",
       "      <th>use case</th>\n",
       "      <th>r2</th>\n",
       "      <th>mse</th>\n",
       "      <th>msle</th>\n",
       "      <th>mae</th>\n",
       "      <th>mape</th>\n",
       "    </tr>\n",
       "  </thead>\n",
       "  <tbody>\n",
       "    <tr>\n",
       "      <th>6</th>\n",
       "      <td>RF,FP,NoPCA,median100,test</td>\n",
       "      <td>0.7423</td>\n",
       "      <td>0.3767</td>\n",
       "      <td>0.0075</td>\n",
       "      <td>0.4605</td>\n",
       "      <td>0.0776</td>\n",
       "    </tr>\n",
       "    <tr>\n",
       "      <th>14</th>\n",
       "      <td>SVM,FPMD,Scaling,PCA128,mean100,test</td>\n",
       "      <td>0.7865</td>\n",
       "      <td>0.3093</td>\n",
       "      <td>0.0060</td>\n",
       "      <td>0.4162</td>\n",
       "      <td>0.0680</td>\n",
       "    </tr>\n",
       "    <tr>\n",
       "      <th>8</th>\n",
       "      <td>XGBoost,FP,NoPCA,mean100,test</td>\n",
       "      <td>0.7429</td>\n",
       "      <td>0.3724</td>\n",
       "      <td>0.0072</td>\n",
       "      <td>0.4663</td>\n",
       "      <td>0.0767</td>\n",
       "    </tr>\n",
       "    <tr>\n",
       "      <th>20</th>\n",
       "      <td>Ridge,FPMD,Scaling,PCA256,mean100,test</td>\n",
       "      <td>0.7268</td>\n",
       "      <td>0.3958</td>\n",
       "      <td>0.0079</td>\n",
       "      <td>0.5096</td>\n",
       "      <td>0.0844</td>\n",
       "    </tr>\n",
       "    <tr>\n",
       "      <th>8</th>\n",
       "      <td>MLP,FPMD,Scaling,PCA128,mean100,test</td>\n",
       "      <td>0.7467</td>\n",
       "      <td>0.3669</td>\n",
       "      <td>0.0074</td>\n",
       "      <td>0.4839</td>\n",
       "      <td>0.0811</td>\n",
       "    </tr>\n",
       "    <tr>\n",
       "      <th>8</th>\n",
       "      <td>Bagging,FP,NoPCA,mean100,test</td>\n",
       "      <td>0.7328</td>\n",
       "      <td>0.3870</td>\n",
       "      <td>0.0076</td>\n",
       "      <td>0.4621</td>\n",
       "      <td>0.0774</td>\n",
       "    </tr>\n",
       "  </tbody>\n",
       "</table>\n",
       "</div>"
      ],
      "text/plain": [
       "                                  use case      r2     mse    msle     mae  \\\n",
       "6               RF,FP,NoPCA,median100,test  0.7423  0.3767  0.0075  0.4605   \n",
       "14    SVM,FPMD,Scaling,PCA128,mean100,test  0.7865  0.3093  0.0060  0.4162   \n",
       "8            XGBoost,FP,NoPCA,mean100,test  0.7429  0.3724  0.0072  0.4663   \n",
       "20  Ridge,FPMD,Scaling,PCA256,mean100,test  0.7268  0.3958  0.0079  0.5096   \n",
       "8     MLP,FPMD,Scaling,PCA128,mean100,test  0.7467  0.3669  0.0074  0.4839   \n",
       "8            Bagging,FP,NoPCA,mean100,test  0.7328  0.3870  0.0076  0.4621   \n",
       "\n",
       "      mape  \n",
       "6   0.0776  \n",
       "14  0.0680  \n",
       "8   0.0767  \n",
       "20  0.0844  \n",
       "8   0.0811  \n",
       "8   0.0774  "
      ]
     },
     "execution_count": 50,
     "metadata": {},
     "output_type": "execute_result"
    }
   ],
   "source": [
    "results_test, results_train = parse_results_regressor(file_name=\"result_regressor_bagging.csv\", n_rows=30)\n",
    "results_test[\"use case\"] = prepare_methodology_naming(results_test[\"use case\"], methodology_in=\"M_Bagging\", methodology_out = \"Bagging\")\n",
    "results_train[\"use case\"] = prepare_methodology_naming(results_train[\"use case\"], methodology_in=\"M_Bagging\", methodology_out = \"Bagging\")\n",
    "best_regressors = pd.concat([best_regressors, results_test.sort_values(\"mse\", ascending=True).iloc[[0],:]])\n",
    "best_regressors"
   ]
  },
  {
   "cell_type": "code",
   "execution_count": 51,
   "id": "c29a3014",
   "metadata": {},
   "outputs": [
    {
     "name": "stderr",
     "output_type": "stream",
     "text": [
      "/tmp/ipykernel_31177/34622521.py:1: FutureWarning: Dropping of nuisance columns in DataFrame reductions (with 'numeric_only=None') is deprecated; in a future version this will raise TypeError.  Select only valid columns before calling the reduction.\n",
      "  results_test.mean()\n"
     ]
    },
    {
     "data": {
      "text/plain": [
       "r2      0.638433\n",
       "mse     0.470920\n",
       "msle    0.009433\n",
       "mae     0.514593\n",
       "mape    0.086307\n",
       "dtype: float64"
      ]
     },
     "execution_count": 51,
     "metadata": {},
     "output_type": "execute_result"
    }
   ],
   "source": [
    "results_test.mean()"
   ]
  },
  {
   "cell_type": "code",
   "execution_count": 52,
   "id": "f92fc290",
   "metadata": {},
   "outputs": [
    {
     "name": "stdout",
     "output_type": "stream",
     "text": [
      "\\begin{tabular}{lrrrrr}\n",
      "use case & r2 & mse & msle & mae & mape \\\\\n",
      "Bagging,MD,Scaling,NoPCA,median100,test & 0.6442 & 0.5202 & 0.0107 & 0.5348 & 0.0909 \\\\\n",
      "Bagging,MD,Scaling,NoPCA,mean100,test & 0.6343 & 0.5298 & 0.0109 & 0.5384 & 0.0918 \\\\\n",
      "Bagging,MD,Scaling,NoPCA,meanNoLim,test & 0.5431 & 0.4865 & 0.0090 & 0.5450 & 0.0867 \\\\\n",
      "Bagging,FP,NoPCA,median100,test & 0.7296 & 0.3953 & 0.0078 & 0.4664 & 0.0783 \\\\\n",
      "Bagging,FP,NoPCA,mean100,test & 0.7328 & 0.3870 & 0.0076 & 0.4621 & 0.0774 \\\\\n",
      "Bagging,FP,NoPCA,meanNoLim,test & 0.6037 & 0.4219 & 0.0078 & 0.4714 & 0.0754 \\\\\n",
      "Bagging,FPMD,PCA128,median100,test & 0.6657 & 0.4887 & 0.0102 & 0.5256 & 0.0905 \\\\\n",
      "Bagging,FPMD,PCA128,mean100,test & 0.6796 & 0.4641 & 0.0098 & 0.5084 & 0.0880 \\\\\n",
      "Bagging,FPMD,PCA128,meanNoLim,test & 0.6015 & 0.4244 & 0.0080 & 0.4952 & 0.0796 \\\\\n",
      "Bagging,FPMD,PCA256,median100,test & 0.6618 & 0.4943 & 0.0103 & 0.5289 & 0.0913 \\\\\n",
      "Bagging,FPMD,PCA256,mean100,test & 0.6555 & 0.4990 & 0.0103 & 0.5232 & 0.0899 \\\\\n",
      "Bagging,FPMD,PCA256,meanNoLim,test & 0.5706 & 0.4572 & 0.0086 & 0.5213 & 0.0840 \\\\\n",
      "Bagging,FPMD,PCA512,median100,test & 0.6431 & 0.5217 & 0.0109 & 0.5344 & 0.0924 \\\\\n",
      "Bagging,FPMD,PCA512,mean100,test & 0.6516 & 0.5046 & 0.0107 & 0.5355 & 0.0930 \\\\\n",
      "Bagging,FPMD,PCA512,meanNoLim,test & 0.5594 & 0.4691 & 0.0089 & 0.5283 & 0.0854 \\\\\n",
      "\\end{tabular}\n",
      "\n"
     ]
    }
   ],
   "source": [
    "print(results_test.style.format({\"r2\": '{:.4f}', \"mse\": '{:.4f}', \"msle\": '{:.4f}', \"mae\": '{:.4f}', \"mape\": '{:.4f}'}, precision=4).hide(axis=0).to_latex())"
   ]
  },
  {
   "cell_type": "code",
   "execution_count": 53,
   "id": "2b988aec",
   "metadata": {},
   "outputs": [
    {
     "name": "stdout",
     "output_type": "stream",
     "text": [
      "\\begin{tabular}{lrrrrr}\n",
      "use case & r2 & mse & msle & mae & mape \\\\\n",
      "Bagging,MD,Scaling,NoPCA,median100,test & 0.9120 & 0.1144 & 0.0023 & 0.2526 & 0.0414 \\\\\n",
      "Bagging,MD,Scaling,NoPCA,mean100,test & 0.9023 & 0.1264 & 0.0026 & 0.2665 & 0.0438 \\\\\n",
      "Bagging,MD,Scaling,NoPCA,meanNoLim,test & 0.9059 & 0.1203 & 0.0024 & 0.2584 & 0.0427 \\\\\n",
      "Bagging,FP,NoPCA,median100,test & 0.9357 & 0.0835 & 0.0017 & 0.2075 & 0.0343 \\\\\n",
      "Bagging,FP,NoPCA,mean100,test & 0.9454 & 0.0706 & 0.0015 & 0.1924 & 0.0320 \\\\\n",
      "Bagging,FP,NoPCA,meanNoLim,test & 0.9301 & 0.0893 & 0.0018 & 0.2217 & 0.0367 \\\\\n",
      "Bagging,FPMD,PCA128,median100,test & 0.9303 & 0.0906 & 0.0019 & 0.2256 & 0.0373 \\\\\n",
      "Bagging,FPMD,PCA128,mean100,test & 0.9350 & 0.0841 & 0.0017 & 0.2166 & 0.0356 \\\\\n",
      "Bagging,FPMD,PCA128,meanNoLim,test & 0.9387 & 0.0783 & 0.0016 & 0.2110 & 0.0350 \\\\\n",
      "Bagging,FPMD,PCA256,median100,test & 0.9327 & 0.0874 & 0.0018 & 0.2220 & 0.0368 \\\\\n",
      "Bagging,FPMD,PCA256,mean100,test & 0.9386 & 0.0795 & 0.0017 & 0.2109 & 0.0349 \\\\\n",
      "Bagging,FPMD,PCA256,meanNoLim,test & 0.9324 & 0.0864 & 0.0018 & 0.2228 & 0.0371 \\\\\n",
      "Bagging,FPMD,PCA512,median100,test & 0.9294 & 0.0917 & 0.0019 & 0.2284 & 0.0379 \\\\\n",
      "Bagging,FPMD,PCA512,mean100,test & 0.9252 & 0.0967 & 0.0021 & 0.2353 & 0.0392 \\\\\n",
      "Bagging,FPMD,PCA512,meanNoLim,test & 0.9315 & 0.0875 & 0.0018 & 0.2232 & 0.0373 \\\\\n",
      "\\end{tabular}\n",
      "\n"
     ]
    }
   ],
   "source": [
    "print(results_train.style.format({\"r2\": '{:.4f}', \"mse\": '{:.4f}', \"msle\": '{:.4f}', \"mae\": '{:.4f}', \"mape\": '{:.4f}'}, precision=4).hide(axis=0).to_latex())"
   ]
  },
  {
   "cell_type": "code",
   "execution_count": 54,
   "id": "9b1006b5",
   "metadata": {},
   "outputs": [
    {
     "name": "stdout",
     "output_type": "stream",
     "text": [
      "\\begin{tabular}{lrrrrrrr}\n",
      "use case & precision & recall & accuracy & f1 & rocauc & ap & mcc \\\\\n",
      "RF,FP,NoPCA,median100,test & 0.8931 & 0.9660 & 0.9013 & 0.9281 & 0.8712 & 0.8851 & 0.7778 \\\\\n",
      "SVM,FPMD,Scaling,PCA1024,mean100,test & 0.9211 & 0.9524 & 0.9148 & 0.9365 & 0.8972 & 0.9086 & 0.8084 \\\\\n",
      "XGBoost,FP,NoPCA,median100,test & 0.9267 & 0.9456 & 0.9148 & 0.9360 & 0.9004 & 0.9121 & 0.8089 \\\\\n",
      "Ridge,FPMD,Scaling,PCA512,median100,test & 0.8947 & 0.9252 & 0.8789 & 0.9097 & 0.8573 & 0.8771 & 0.7271 \\\\\n",
      "MLP,FPMD,Scaling,PCA128,mean100,test & 0.9020 & 0.9388 & 0.8924 & 0.9200 & 0.8707 & 0.8871 & 0.7572 \\\\\n",
      "Bagging,FP,NoPCA,median100,test & 0.9037 & 0.8299 & 0.8296 & 0.8652 & 0.8294 & 0.8621 & 0.6389 \\\\\n",
      "\\end{tabular}\n",
      "\n"
     ]
    }
   ],
   "source": [
    "print(best_classifiers.style.format({\"precision\": '{:.4f}', \"recall\": '{:.4f}', \"accuracy\": '{:.4f}', \"f1\": '{:.4f}', \"rocauc\": '{:.4f}', \"ap\": '{:.4f}', \"mcc\": '{:.4f}'}, precision=4).hide(axis=0).to_latex())"
   ]
  },
  {
   "cell_type": "code",
   "execution_count": 55,
   "id": "5b58f5a7",
   "metadata": {},
   "outputs": [
    {
     "name": "stdout",
     "output_type": "stream",
     "text": [
      "\\begin{tabular}{lrrrrr}\n",
      "use case & r2 & mse & msle & mae & mape \\\\\n",
      "RF,FP,NoPCA,median100,test & 0.7423 & 0.3767 & 0.0075 & 0.4605 & 0.0776 \\\\\n",
      "SVM,FPMD,Scaling,PCA128,mean100,test & 0.7865 & 0.3093 & 0.0060 & 0.4162 & 0.0680 \\\\\n",
      "XGBoost,FP,NoPCA,mean100,test & 0.7429 & 0.3724 & 0.0072 & 0.4663 & 0.0767 \\\\\n",
      "Ridge,FPMD,Scaling,PCA256,mean100,test & 0.7268 & 0.3958 & 0.0079 & 0.5096 & 0.0844 \\\\\n",
      "MLP,FPMD,Scaling,PCA128,mean100,test & 0.7467 & 0.3669 & 0.0074 & 0.4839 & 0.0811 \\\\\n",
      "Bagging,FP,NoPCA,mean100,test & 0.7328 & 0.3870 & 0.0076 & 0.4621 & 0.0774 \\\\\n",
      "\\end{tabular}\n",
      "\n"
     ]
    }
   ],
   "source": [
    "print(best_regressors.style.format({\"r2\": '{:.4f}', \"mse\": '{:.4f}', \"msle\": '{:.4f}', \"mae\": '{:.4f}', \"mape\": '{:.4f}'}, precision=4).hide(axis=0).to_latex())\n"
   ]
  },
  {
   "cell_type": "code",
   "execution_count": 60,
   "id": "747a77d0",
   "metadata": {},
   "outputs": [],
   "source": [
    "import matplotlib.pyplot as plt"
   ]
  },
  {
   "cell_type": "code",
   "execution_count": 99,
   "id": "d4fdcc39",
   "metadata": {},
   "outputs": [
    {
     "data": {
      "image/png": "[encoded data removed]",
      "text/plain": [
       "<Figure size 1080x720 with 1 Axes>"
      ]
     },
     "metadata": {
      "needs_background": "light"
     },
     "output_type": "display_data"
    }
   ],
   "source": [
    "plt.rcParams.update({'font.size': 18})\n",
    "fig, axes = plt.subplots(nrows=1, ncols=1)\n",
    "ax1 = best_classifiers.plot.bar(ax=axes, title=\"Quality measures of the best classifiers\", figsize=(15, 10))\n",
    "labels = [item.split(\",\")[0] for item in  best_classifiers[\"use case\"].to_list()]\n",
    "ax1.set_xticklabels(labels, rotation=0)\n",
    "plt.ylim(0.7, 1.0)\n",
    "plt.grid()"
   ]
  },
  {
   "cell_type": "code",
   "execution_count": 176,
   "id": "738bce9a",
   "metadata": {},
   "outputs": [
    {
     "data": {
      "image/png": "[encoded data removed]",
      "text/plain": [
       "<Figure size 1080x720 with 2 Axes>"
      ]
     },
     "metadata": {
      "needs_background": "light"
     },
     "output_type": "display_data"
    }
   ],
   "source": [
    "plt.rcParams.update({'font.size': 18})\n",
    "fig, axes = plt.subplots(nrows=1, ncols=1)\n",
    "best_regressors[[\"r2\", \"mse\", \"mae\", \"mape\"]].plot.bar(position=0.5, ax=axes, \n",
    "                                               title=\"Quality measures of the best regressors\", figsize=(15, 10), secondary_y=\"mape\")\n",
    "labels = [item.split(\",\")[0] for item in  best_classifiers[\"use case\"].to_list()]\n",
    "axes.set_xticklabels(labels, rotation=0)\n",
    "ax1, ax2 = plt.gcf().get_axes()\n",
    "ax1.set_ylim(0.2, 1.0)\n",
    "ax2.set_ylim(0.04, 0.1)\n",
    "ax1.set_ylabel(\"R2, MSE, MAE\")\n",
    "ax2.set_ylabel(\"MAPE\")\n",
    "plt.grid()"
   ]
  },
  {
   "cell_type": "code",
   "execution_count": 102,
   "id": "cf5fa617",
   "metadata": {},
   "outputs": [
    {
     "data": {
      "text/html": [
       "<div>\n",
       "<style scoped>\n",
       "    .dataframe tbody tr th:only-of-type {\n",
       "        vertical-align: middle;\n",
       "    }\n",
       "\n",
       "    .dataframe tbody tr th {\n",
       "        vertical-align: top;\n",
       "    }\n",
       "\n",
       "    .dataframe thead th {\n",
       "        text-align: right;\n",
       "    }\n",
       "</style>\n",
       "<table border=\"1\" class=\"dataframe\">\n",
       "  <thead>\n",
       "    <tr style=\"text-align: right;\">\n",
       "      <th></th>\n",
       "      <th>use case</th>\n",
       "      <th>r2</th>\n",
       "      <th>mse</th>\n",
       "      <th>msle</th>\n",
       "      <th>mae</th>\n",
       "      <th>mape</th>\n",
       "    </tr>\n",
       "  </thead>\n",
       "  <tbody>\n",
       "    <tr>\n",
       "      <th>6</th>\n",
       "      <td>RF,FP,NoPCA,median100,test</td>\n",
       "      <td>0.7423</td>\n",
       "      <td>0.3767</td>\n",
       "      <td>0.0075</td>\n",
       "      <td>0.4605</td>\n",
       "      <td>0.0776</td>\n",
       "    </tr>\n",
       "    <tr>\n",
       "      <th>14</th>\n",
       "      <td>SVM,FPMD,Scaling,PCA128,mean100,test</td>\n",
       "      <td>0.7865</td>\n",
       "      <td>0.3093</td>\n",
       "      <td>0.0060</td>\n",
       "      <td>0.4162</td>\n",
       "      <td>0.0680</td>\n",
       "    </tr>\n",
       "    <tr>\n",
       "      <th>8</th>\n",
       "      <td>XGBoost,FP,NoPCA,mean100,test</td>\n",
       "      <td>0.7429</td>\n",
       "      <td>0.3724</td>\n",
       "      <td>0.0072</td>\n",
       "      <td>0.4663</td>\n",
       "      <td>0.0767</td>\n",
       "    </tr>\n",
       "    <tr>\n",
       "      <th>20</th>\n",
       "      <td>Ridge,FPMD,Scaling,PCA256,mean100,test</td>\n",
       "      <td>0.7268</td>\n",
       "      <td>0.3958</td>\n",
       "      <td>0.0079</td>\n",
       "      <td>0.5096</td>\n",
       "      <td>0.0844</td>\n",
       "    </tr>\n",
       "    <tr>\n",
       "      <th>8</th>\n",
       "      <td>MLP,FPMD,Scaling,PCA128,mean100,test</td>\n",
       "      <td>0.7467</td>\n",
       "      <td>0.3669</td>\n",
       "      <td>0.0074</td>\n",
       "      <td>0.4839</td>\n",
       "      <td>0.0811</td>\n",
       "    </tr>\n",
       "    <tr>\n",
       "      <th>8</th>\n",
       "      <td>Bagging,FP,NoPCA,mean100,test</td>\n",
       "      <td>0.7328</td>\n",
       "      <td>0.3870</td>\n",
       "      <td>0.0076</td>\n",
       "      <td>0.4621</td>\n",
       "      <td>0.0774</td>\n",
       "    </tr>\n",
       "  </tbody>\n",
       "</table>\n",
       "</div>"
      ],
      "text/plain": [
       "                                  use case      r2     mse    msle     mae  \\\n",
       "6               RF,FP,NoPCA,median100,test  0.7423  0.3767  0.0075  0.4605   \n",
       "14    SVM,FPMD,Scaling,PCA128,mean100,test  0.7865  0.3093  0.0060  0.4162   \n",
       "8            XGBoost,FP,NoPCA,mean100,test  0.7429  0.3724  0.0072  0.4663   \n",
       "20  Ridge,FPMD,Scaling,PCA256,mean100,test  0.7268  0.3958  0.0079  0.5096   \n",
       "8     MLP,FPMD,Scaling,PCA128,mean100,test  0.7467  0.3669  0.0074  0.4839   \n",
       "8            Bagging,FP,NoPCA,mean100,test  0.7328  0.3870  0.0076  0.4621   \n",
       "\n",
       "      mape  \n",
       "6   0.0776  \n",
       "14  0.0680  \n",
       "8   0.0767  \n",
       "20  0.0844  \n",
       "8   0.0811  \n",
       "8   0.0774  "
      ]
     },
     "execution_count": 102,
     "metadata": {},
     "output_type": "execute_result"
    }
   ],
   "source": [
    "best_regressors"
   ]
  },
  {
   "cell_type": "code",
   "execution_count": null,
   "id": "a4af824e",
   "metadata": {},
   "outputs": [],
   "source": []
  }
 ],
 "metadata": {
  "kernelspec": {
   "display_name": "Python 3.8.13 ('rorgammaqsar')",
   "language": "python",
   "name": "python3"
  },
  "language_info": {
   "codemirror_mode": {
    "name": "ipython",
    "version": 3
   },
   "file_extension": ".py",
   "mimetype": "text/x-python",
   "name": "python",
   "nbconvert_exporter": "python",
   "pygments_lexer": "ipython3",
   "version": "3.8.13"
  },
  "vscode": {
   "interpreter": {
    "hash": "acfffd18c244b8f5a510cc01b749d984390c6dc8073ed7353ae0aaf37db191b1"
   }
  }
 },
 "nbformat": 4,
 "nbformat_minor": 5
}
