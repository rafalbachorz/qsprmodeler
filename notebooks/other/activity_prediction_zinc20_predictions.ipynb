{
 "cells": [
  {
   "cell_type": "code",
   "execution_count": 1,
   "id": "2c1e93a8",
   "metadata": {},
   "outputs": [],
   "source": [
    "import constants as co\n",
    "from analyzers import analyze_classifier, analyze_regressor, get_model_predictions\n",
    "from auxiliary import loggers\n",
    "\n",
    "from pathlib import Path\n",
    "import sys\n",
    "\n",
    "import pandas as pd\n",
    "pd.set_option(\"display.max_colwidth\", 200)\n",
    "import numpy as np\n",
    "import os\n",
    "\n",
    "import pickle\n",
    "import json\n",
    "import re\n",
    "\n",
    "import matplotlib.pyplot as plt\n",
    "%matplotlib inline\n",
    "import seaborn as sns\n",
    "\n",
    "pd.set_option('display.max_columns', None)\n",
    "random_seed = 42\n",
    "\n",
    "%config Completer.use_jedi = False\n",
    "\n",
    "l = loggers.get_logger(logger_name=\"logger\")\n",
    "\n",
    "METHOD_PREFIX = \"rf\"\n",
    "RESULT_FILE_REGRESSOR = \"result_regressor_rf.csv\"\n",
    "RESULT_FILE_CLASSIFIER = \"result_classifier_rf.csv\""
   ]
  },
  {
   "cell_type": "code",
   "execution_count": 2,
   "id": "2b7b9429",
   "metadata": {},
   "outputs": [
    {
     "name": "stderr",
     "output_type": "stream",
     "text": [
      "2023-01-29 15:39:08,302 - logger - INFO - rorgammaqsar\n"
     ]
    }
   ],
   "source": [
    "l.info(os.environ['CONDA_DEFAULT_ENV'])"
   ]
  },
  {
   "cell_type": "code",
   "execution_count": 3,
   "id": "3ae3eb96",
   "metadata": {},
   "outputs": [
    {
     "data": {
      "text/plain": [
       "(1673, 6)"
      ]
     },
     "execution_count": 3,
     "metadata": {},
     "output_type": "execute_result"
    }
   ],
   "source": [
    "external_data = pd.read_parquet(co.DATA_DIR_CANDIDATES/\"search_space_ror_gamma_all_active_found_species_filtered_.parquet\")\n",
    "external_smiles = external_data[\"smiles_from_target_id\"]\n",
    "external_data.shape"
   ]
  },
  {
   "cell_type": "code",
   "execution_count": 4,
   "id": "679b829d",
   "metadata": {},
   "outputs": [
    {
     "data": {
      "text/html": [
       "<div>\n",
       "<style scoped>\n",
       "    .dataframe tbody tr th:only-of-type {\n",
       "        vertical-align: middle;\n",
       "    }\n",
       "\n",
       "    .dataframe tbody tr th {\n",
       "        vertical-align: top;\n",
       "    }\n",
       "\n",
       "    .dataframe thead th {\n",
       "        text-align: right;\n",
       "    }\n",
       "</style>\n",
       "<table border=\"1\" class=\"dataframe\">\n",
       "  <thead>\n",
       "    <tr style=\"text-align: right;\">\n",
       "      <th></th>\n",
       "      <th>query_id</th>\n",
       "      <th>target_id</th>\n",
       "      <th>score</th>\n",
       "      <th>file</th>\n",
       "      <th>smiles_from_target_id</th>\n",
       "      <th>query_id_chembl</th>\n",
       "    </tr>\n",
       "  </thead>\n",
       "  <tbody>\n",
       "    <tr>\n",
       "      <th>178</th>\n",
       "      <td>2423</td>\n",
       "      <td>14273019</td>\n",
       "      <td>0.750000</td>\n",
       "      <td>JKBB.fpb</td>\n",
       "      <td>COc1cc(NC(=O)c2cc([N+](=O)[O-])ccc2Cl)ccc1NC(=O)c1ccccc1Cl</td>\n",
       "      <td>CHEMBL4784120</td>\n",
       "    </tr>\n",
       "    <tr>\n",
       "      <th>184</th>\n",
       "      <td>664</td>\n",
       "      <td>410046164</td>\n",
       "      <td>0.733333</td>\n",
       "      <td>JKAD.fpb</td>\n",
       "      <td>CCS(=O)(=O)c1ccc(CC(=O)Nc2ccccc2-c2ccc(-c3ccccc3)cc2)cc1</td>\n",
       "      <td>CHEMBL3609389</td>\n",
       "    </tr>\n",
       "    <tr>\n",
       "      <th>863</th>\n",
       "      <td>357</td>\n",
       "      <td>519399935</td>\n",
       "      <td>0.736842</td>\n",
       "      <td>JKAD.fpb</td>\n",
       "      <td>COCCc1ccc(Oc2ccc(NS(=O)(=O)c3ccc4c5c(cccc35)C(=O)N4)cc2)cc1</td>\n",
       "      <td>CHEMBL3234246</td>\n",
       "    </tr>\n",
       "    <tr>\n",
       "      <th>1132</th>\n",
       "      <td>299</td>\n",
       "      <td>476865727</td>\n",
       "      <td>0.719298</td>\n",
       "      <td>JKAD.fpb</td>\n",
       "      <td>CCS(=O)(=O)c1ccc(CC(=O)Nc2nc(Cc3ccccc3)c(-c3ccccc3)s2)cc1</td>\n",
       "      <td>CHEMBL3105804</td>\n",
       "    </tr>\n",
       "    <tr>\n",
       "      <th>1207</th>\n",
       "      <td>270</td>\n",
       "      <td>626626267</td>\n",
       "      <td>0.750000</td>\n",
       "      <td>JKAD.fpb</td>\n",
       "      <td>CC(=O)Nc1ccc(CC(=O)Nc2nc(-c3ccccc3)c(C(=O)c3ccccc3)s2)cc1</td>\n",
       "      <td>CHEMBL3105674</td>\n",
       "    </tr>\n",
       "  </tbody>\n",
       "</table>\n",
       "</div>"
      ],
      "text/plain": [
       "     query_id  target_id     score      file  \\\n",
       "178      2423   14273019  0.750000  JKBB.fpb   \n",
       "184       664  410046164  0.733333  JKAD.fpb   \n",
       "863       357  519399935  0.736842  JKAD.fpb   \n",
       "1132      299  476865727  0.719298  JKAD.fpb   \n",
       "1207      270  626626267  0.750000  JKAD.fpb   \n",
       "\n",
       "                                            smiles_from_target_id  \\\n",
       "178    COc1cc(NC(=O)c2cc([N+](=O)[O-])ccc2Cl)ccc1NC(=O)c1ccccc1Cl   \n",
       "184      CCS(=O)(=O)c1ccc(CC(=O)Nc2ccccc2-c2ccc(-c3ccccc3)cc2)cc1   \n",
       "863   COCCc1ccc(Oc2ccc(NS(=O)(=O)c3ccc4c5c(cccc35)C(=O)N4)cc2)cc1   \n",
       "1132    CCS(=O)(=O)c1ccc(CC(=O)Nc2nc(Cc3ccccc3)c(-c3ccccc3)s2)cc1   \n",
       "1207    CC(=O)Nc1ccc(CC(=O)Nc2nc(-c3ccccc3)c(C(=O)c3ccccc3)s2)cc1   \n",
       "\n",
       "     query_id_chembl  \n",
       "178    CHEMBL4784120  \n",
       "184    CHEMBL3609389  \n",
       "863    CHEMBL3234246  \n",
       "1132   CHEMBL3105804  \n",
       "1207   CHEMBL3105674  "
      ]
     },
     "execution_count": 4,
     "metadata": {},
     "output_type": "execute_result"
    }
   ],
   "source": [
    "external_data.head()"
   ]
  },
  {
   "cell_type": "code",
   "execution_count": 6,
   "id": "7bedadd7",
   "metadata": {},
   "outputs": [
    {
     "name": "stderr",
     "output_type": "stream",
     "text": [
      "2023-01-29 15:40:18,328 - logger - INFO - Scaler constructor...\n",
      "2023-01-29 15:40:18,328 - logger - INFO - PCA constructor...\n",
      "2023-01-29 15:40:18,334 - logger - INFO - Scaler constructor...\n",
      "2023-01-29 15:40:18,335 - logger - INFO - PCA constructor...\n",
      "2023-01-29 15:40:18,335 - logger - INFO - Optimal hyperparameters:, {'C': 2.4825430099517085, 'cache_size': 200, 'coef0': 0.0, 'degree': 3, 'gamma': 'scale', 'kernel': 'rbf', 'max_iter': -1, 'epsilon': 0.1311194468831029, 'shrinking': False, 'tol': 0.001, 'verbose': False}\n",
      "2023-01-29 15:40:18,336 - logger - INFO - CreateFPS fit...\n",
      "2023-01-29 15:40:18,336 - logger - INFO - CreateFPS transform...\n",
      "100%|██████████| 2005/2005 [00:04<00:00, 419.63it/s]\n",
      "2023-01-29 15:40:26,550 - logger - INFO - Scaler fit...\n",
      "2023-01-29 15:40:26,557 - logger - INFO - Scaler transform...\n",
      "2023-01-29 15:40:26,569 - logger - INFO - Scaler fit...\n",
      "2023-01-29 15:40:26,780 - logger - INFO - CreateFPS fit...\n",
      "2023-01-29 15:40:26,780 - logger - INFO - CreateFPS transform...\n",
      "100%|██████████| 223/223 [00:00<00:00, 371.21it/s]\n",
      "2023-01-29 15:40:27,786 - logger - INFO - Scaler transform...\n",
      "2023-01-29 15:40:27,791 - logger - INFO - PCA transform...\n",
      "2023-01-29 15:40:27,856 - logger - INFO - CreateFPS fit...\n",
      "2023-01-29 15:40:27,857 - logger - INFO - CreateFPS transform...\n",
      "100%|██████████| 2005/2005 [00:04<00:00, 416.04it/s]\n",
      "2023-01-29 15:40:36,143 - logger - INFO - Scaler transform...\n",
      "2023-01-29 15:40:36,159 - logger - INFO - PCA transform...\n",
      "2023-01-29 15:40:36,639 - logger - INFO - CreateFPS fit...\n",
      "2023-01-29 15:40:36,639 - logger - INFO - CreateFPS transform...\n",
      "100%|██████████| 1673/1673 [00:03<00:00, 515.00it/s]\n",
      "2023-01-29 15:40:42,283 - logger - INFO - Scaler transform...\n",
      "2023-01-29 15:40:42,296 - logger - INFO - PCA transform...\n"
     ]
    },
    {
     "data": {
      "text/plain": [
       "178     5.835433\n",
       "184     7.276806\n",
       "863     4.967100\n",
       "1132    6.489349\n",
       "1207    5.612848\n",
       "Name: pred_reg, dtype: float64"
      ]
     },
     "execution_count": 6,
     "metadata": {},
     "output_type": "execute_result"
    }
   ],
   "source": [
    "X_val, y_train_val, y_train_val_pred, X_train, y_train, y_train_pred, X_ext, y_reg = get_model_predictions(co.TRAINING_CONF_DIR/\"median_100\"/\"svm_regression_Morgan_1024_pca_128_QED.json\", smiles_codes_ext=external_smiles)\n",
    "y_reg.name = \"pred_reg\"\n",
    "y_reg.head()"
   ]
  },
  {
   "cell_type": "code",
   "execution_count": null,
   "id": "0f6a48b3",
   "metadata": {},
   "outputs": [],
   "source": [
    "X_val, y_train_val, y_train_val_pred, X_train, y_train, y_train_pred, X_ext, y_reg = get_model_predictions(co.TRAINING_CONF_DIR/\"median_100\"/\"svm_regression_Morgan_1024_pca_128_QED.json\", smiles_codes_ext=external_smiles)\n",
    "y_reg.name = \"pred_reg\"\n",
    "y_reg.head()"
   ]
  },
  {
   "cell_type": "code",
   "execution_count": null,
   "id": "ad43d76f",
   "metadata": {},
   "outputs": [],
   "source": [
    "y_train.hist(bins=30)\n",
    "plt.title(\"Distribution of pIC50 values\")"
   ]
  },
  {
   "cell_type": "code",
   "execution_count": null,
   "id": "820bb191",
   "metadata": {},
   "outputs": [],
   "source": []
  },
  {
   "cell_type": "code",
   "execution_count": 7,
   "id": "7130ce44",
   "metadata": {},
   "outputs": [
    {
     "name": "stderr",
     "output_type": "stream",
     "text": [
      "2023-01-29 15:41:40,204 - logger - INFO - Optimal hyperparameters:, {'n_estimators': 207, 'max_depth': 11, 'min_child_weight': 4.0, 'eta': 0.0981512863074986, 'subsample': 0.8489134735056307, 'colsample_bytree': 0.9991597152608629, 'gamma': 0.09722750628904986, 'reg_alpha': 0.43598619904511926, 'reg_lambda': 0.9494079510404132, 'objective': 'reg:logistic'}\n",
      "2023-01-29 15:41:40,205 - logger - INFO - CreateFPS fit...\n",
      "2023-01-29 15:41:40,206 - logger - INFO - CreateFPS fit...\n",
      "2023-01-29 15:41:40,206 - logger - INFO - CreateFPS transform...\n",
      "2023-01-29 15:41:40,727 - logger - INFO - CreateFPS fit...\n",
      "2023-01-29 15:41:40,728 - logger - INFO - CreateFPS transform...\n",
      "2023-01-29 15:41:41,865 - logger - INFO - CreateFPS fit...\n",
      "2023-01-29 15:41:41,866 - logger - INFO - CreateFPS transform...\n"
     ]
    },
    {
     "data": {
      "text/plain": [
       "178     0.682276\n",
       "184     0.764044\n",
       "863     0.080937\n",
       "1132    0.429891\n",
       "1207    0.284917\n",
       "Name: pred_cla, dtype: float32"
      ]
     },
     "execution_count": 7,
     "metadata": {},
     "output_type": "execute_result"
    }
   ],
   "source": [
    "X_val, y_train_val, y_train_val_pred, X_train, y_train, y_train_pred, X_ext, y_cla = get_model_predictions(co.TRAINING_CONF_DIR/\"median_100\"/\"xgboost_classification_Morgan_1024.json\", smiles_codes_ext=external_smiles)\n",
    "y_cla.name = \"pred_cla\"\n",
    "y_cla.head()"
   ]
  },
  {
   "cell_type": "code",
   "execution_count": 8,
   "id": "ba9afd18",
   "metadata": {},
   "outputs": [
    {
     "data": {
      "text/plain": [
       "Text(0.5, 1.0, 'Distribution of binarized values')"
      ]
     },
     "execution_count": 8,
     "metadata": {},
     "output_type": "execute_result"
    },
    {
     "data": {
      "image/png": "[encoded data removed]",
      "text/plain": [
       "<Figure size 432x288 with 1 Axes>"
      ]
     },
     "metadata": {
      "needs_background": "light"
     },
     "output_type": "display_data"
    }
   ],
   "source": [
    "y_train.astype(int).hist()\n",
    "plt.title(\"Distribution of binarized values\")"
   ]
  },
  {
   "cell_type": "code",
   "execution_count": 9,
   "id": "59051acf",
   "metadata": {},
   "outputs": [],
   "source": [
    "external_data_with_preds = pd.concat([external_data, y_cla, y_reg], axis=1)\n",
    "external_data_with_preds[\"pred_reg_IC50\"] = external_data_with_preds[\"pred_reg\"].apply(lambda x: np.power(10, -x) * 10e9)\n",
    "external_data_with_preds = external_data_with_preds.sort_values(\"pred_cla\", ascending=False)"
   ]
  },
  {
   "cell_type": "code",
   "execution_count": 19,
   "id": "51fc5794",
   "metadata": {},
   "outputs": [
    {
     "data": {
      "image/png": "[encoded data removed]",
      "text/plain": [
       "<Figure size 432x288 with 1 Axes>"
      ]
     },
     "metadata": {
      "needs_background": "light"
     },
     "output_type": "display_data"
    }
   ],
   "source": [
    "external_data_with_preds[\"pred_cla\"].hist(bins=30)\n",
    "plt.title(\"Distribution of classifier probability for ZINC20 candidates\")\n",
    "plt.xlabel(\"Classifier probability\")\n",
    "plt.ylabel(\"Count\")\n",
    "plt.savefig(fname=\"zinc20_classifier_distribution.pdf\", format=\"pdf\", dpi=200, bbox_inches='tight')"
   ]
  },
  {
   "cell_type": "code",
   "execution_count": 20,
   "id": "d57d18c1",
   "metadata": {},
   "outputs": [
    {
     "data": {
      "image/png": "[encoded data removed]",
      "text/plain": [
       "<Figure size 432x288 with 1 Axes>"
      ]
     },
     "metadata": {
      "needs_background": "light"
     },
     "output_type": "display_data"
    }
   ],
   "source": [
    "external_data_with_preds[\"pred_reg\"].hist(bins=30)\n",
    "plt.title(\"Distribution of pIC50 values for ZINC20 candidates\")\n",
    "plt.xlabel(\"pIC50\")\n",
    "plt.ylabel(\"Count\")\n",
    "plt.savefig(fname=\"zinc20_regressor_distribution.pdf\", format=\"pdf\", dpi=200, bbox_inches='tight')\n"
   ]
  },
  {
   "cell_type": "code",
   "execution_count": 28,
   "id": "212b90b2",
   "metadata": {},
   "outputs": [
    {
     "data": {
      "text/html": [
       "<div>\n",
       "<style scoped>\n",
       "    .dataframe tbody tr th:only-of-type {\n",
       "        vertical-align: middle;\n",
       "    }\n",
       "\n",
       "    .dataframe tbody tr th {\n",
       "        vertical-align: top;\n",
       "    }\n",
       "\n",
       "    .dataframe thead th {\n",
       "        text-align: right;\n",
       "    }\n",
       "</style>\n",
       "<table border=\"1\" class=\"dataframe\">\n",
       "  <thead>\n",
       "    <tr style=\"text-align: right;\">\n",
       "      <th></th>\n",
       "      <th>query_id</th>\n",
       "      <th>target_id</th>\n",
       "      <th>score</th>\n",
       "      <th>file</th>\n",
       "      <th>smiles_from_target_id</th>\n",
       "      <th>query_id_chembl</th>\n",
       "      <th>pred_cla</th>\n",
       "      <th>pred_reg</th>\n",
       "      <th>pred_reg_IC50</th>\n",
       "    </tr>\n",
       "  </thead>\n",
       "  <tbody>\n",
       "    <tr>\n",
       "      <th>1080</th>\n",
       "      <td>1975</td>\n",
       "      <td>155262539</td>\n",
       "      <td>0.720000</td>\n",
       "      <td>GEAD.fpb</td>\n",
       "      <td>CCS(=O)(=O)c1ccc(CC(=O)Nc2ccc(C(C)(C)C(N)=O)cc2)cc1</td>\n",
       "      <td>CHEMBL4289622</td>\n",
       "      <td>0.980122</td>\n",
       "      <td>5.781031</td>\n",
       "      <td>1.655652e+04</td>\n",
       "    </tr>\n",
       "    <tr>\n",
       "      <th>1001</th>\n",
       "      <td>1956</td>\n",
       "      <td>155262539</td>\n",
       "      <td>0.734694</td>\n",
       "      <td>GEAD.fpb</td>\n",
       "      <td>CCS(=O)(=O)c1ccc(CC(=O)Nc2ccc(C(C)(C)C(N)=O)cc2)cc1</td>\n",
       "      <td>CHEMBL4285485</td>\n",
       "      <td>0.980122</td>\n",
       "      <td>5.781031</td>\n",
       "      <td>1.655652e+04</td>\n",
       "    </tr>\n",
       "    <tr>\n",
       "      <th>850</th>\n",
       "      <td>1931</td>\n",
       "      <td>155262539</td>\n",
       "      <td>0.734694</td>\n",
       "      <td>GEAD.fpb</td>\n",
       "      <td>CCS(=O)(=O)c1ccc(CC(=O)Nc2ccc(C(C)(C)C(N)=O)cc2)cc1</td>\n",
       "      <td>CHEMBL4279420</td>\n",
       "      <td>0.980122</td>\n",
       "      <td>5.781031</td>\n",
       "      <td>1.655652e+04</td>\n",
       "    </tr>\n",
       "    <tr>\n",
       "      <th>684</th>\n",
       "      <td>1924</td>\n",
       "      <td>155262539</td>\n",
       "      <td>0.750000</td>\n",
       "      <td>GEAD.fpb</td>\n",
       "      <td>CCS(=O)(=O)c1ccc(CC(=O)Nc2ccc(C(C)(C)C(N)=O)cc2)cc1</td>\n",
       "      <td>CHEMBL4277538</td>\n",
       "      <td>0.980122</td>\n",
       "      <td>5.781031</td>\n",
       "      <td>1.655652e+04</td>\n",
       "    </tr>\n",
       "    <tr>\n",
       "      <th>446</th>\n",
       "      <td>2074</td>\n",
       "      <td>155262539</td>\n",
       "      <td>0.708333</td>\n",
       "      <td>GEAD.fpb</td>\n",
       "      <td>CCS(=O)(=O)c1ccc(CC(=O)Nc2ccc(C(C)(C)C(N)=O)cc2)cc1</td>\n",
       "      <td>CHEMBL4463098</td>\n",
       "      <td>0.980122</td>\n",
       "      <td>5.781031</td>\n",
       "      <td>1.655652e+04</td>\n",
       "    </tr>\n",
       "    <tr>\n",
       "      <th>...</th>\n",
       "      <td>...</td>\n",
       "      <td>...</td>\n",
       "      <td>...</td>\n",
       "      <td>...</td>\n",
       "      <td>...</td>\n",
       "      <td>...</td>\n",
       "      <td>...</td>\n",
       "      <td>...</td>\n",
       "      <td>...</td>\n",
       "    </tr>\n",
       "    <tr>\n",
       "      <th>1505</th>\n",
       "      <td>357</td>\n",
       "      <td>1610787336</td>\n",
       "      <td>0.727273</td>\n",
       "      <td>GFAD.fpb</td>\n",
       "      <td>O=C(O)COc1ccc(NS(=O)(=O)c2ccc3c4c(cccc24)C(=O)N3)cc1</td>\n",
       "      <td>CHEMBL3234246</td>\n",
       "      <td>0.009402</td>\n",
       "      <td>4.463428</td>\n",
       "      <td>3.440110e+05</td>\n",
       "    </tr>\n",
       "    <tr>\n",
       "      <th>265</th>\n",
       "      <td>691</td>\n",
       "      <td>5136643</td>\n",
       "      <td>0.754717</td>\n",
       "      <td>GIAB.fpb</td>\n",
       "      <td>O=C(Nc1ccc2c(c1)N(S(=O)(=O)c1ccccc1)CCC2)c1ccccc1</td>\n",
       "      <td>CHEMBL3617293</td>\n",
       "      <td>0.009203</td>\n",
       "      <td>5.840750</td>\n",
       "      <td>1.442947e+04</td>\n",
       "    </tr>\n",
       "    <tr>\n",
       "      <th>438</th>\n",
       "      <td>2462</td>\n",
       "      <td>76246955</td>\n",
       "      <td>0.708333</td>\n",
       "      <td>EGAD.fpb</td>\n",
       "      <td>COCCCn1ccc(NC(=O)Nc2nc3ccsc3s2)n1</td>\n",
       "      <td>CHEMBL4799590</td>\n",
       "      <td>0.008530</td>\n",
       "      <td>3.690582</td>\n",
       "      <td>2.039004e+06</td>\n",
       "    </tr>\n",
       "    <tr>\n",
       "      <th>105</th>\n",
       "      <td>357</td>\n",
       "      <td>828934</td>\n",
       "      <td>0.720000</td>\n",
       "      <td>EFCA.fpb</td>\n",
       "      <td>O=C1Nc2ccc(S(=O)(=O)Nc3ccc(O)cc3)c3cccc1c23</td>\n",
       "      <td>CHEMBL3234246</td>\n",
       "      <td>0.008414</td>\n",
       "      <td>4.916939</td>\n",
       "      <td>1.210770e+05</td>\n",
       "    </tr>\n",
       "    <tr>\n",
       "      <th>235</th>\n",
       "      <td>691</td>\n",
       "      <td>5136642</td>\n",
       "      <td>0.716981</td>\n",
       "      <td>EFAB.fpb</td>\n",
       "      <td>CC(=O)Nc1ccc2c(c1)N(S(=O)(=O)c1ccccc1)CCC2</td>\n",
       "      <td>CHEMBL3617293</td>\n",
       "      <td>0.008153</td>\n",
       "      <td>5.347782</td>\n",
       "      <td>4.489712e+04</td>\n",
       "    </tr>\n",
       "  </tbody>\n",
       "</table>\n",
       "<p>1673 rows × 9 columns</p>\n",
       "</div>"
      ],
      "text/plain": [
       "     query_id   target_id     score      file  \\\n",
       "1080     1975   155262539  0.720000  GEAD.fpb   \n",
       "1001     1956   155262539  0.734694  GEAD.fpb   \n",
       "850      1931   155262539  0.734694  GEAD.fpb   \n",
       "684      1924   155262539  0.750000  GEAD.fpb   \n",
       "446      2074   155262539  0.708333  GEAD.fpb   \n",
       "...       ...         ...       ...       ...   \n",
       "1505      357  1610787336  0.727273  GFAD.fpb   \n",
       "265       691     5136643  0.754717  GIAB.fpb   \n",
       "438      2462    76246955  0.708333  EGAD.fpb   \n",
       "105       357      828934  0.720000  EFCA.fpb   \n",
       "235       691     5136642  0.716981  EFAB.fpb   \n",
       "\n",
       "                                     smiles_from_target_id query_id_chembl  \\\n",
       "1080   CCS(=O)(=O)c1ccc(CC(=O)Nc2ccc(C(C)(C)C(N)=O)cc2)cc1   CHEMBL4289622   \n",
       "1001   CCS(=O)(=O)c1ccc(CC(=O)Nc2ccc(C(C)(C)C(N)=O)cc2)cc1   CHEMBL4285485   \n",
       "850    CCS(=O)(=O)c1ccc(CC(=O)Nc2ccc(C(C)(C)C(N)=O)cc2)cc1   CHEMBL4279420   \n",
       "684    CCS(=O)(=O)c1ccc(CC(=O)Nc2ccc(C(C)(C)C(N)=O)cc2)cc1   CHEMBL4277538   \n",
       "446    CCS(=O)(=O)c1ccc(CC(=O)Nc2ccc(C(C)(C)C(N)=O)cc2)cc1   CHEMBL4463098   \n",
       "...                                                    ...             ...   \n",
       "1505  O=C(O)COc1ccc(NS(=O)(=O)c2ccc3c4c(cccc24)C(=O)N3)cc1   CHEMBL3234246   \n",
       "265      O=C(Nc1ccc2c(c1)N(S(=O)(=O)c1ccccc1)CCC2)c1ccccc1   CHEMBL3617293   \n",
       "438                      COCCCn1ccc(NC(=O)Nc2nc3ccsc3s2)n1   CHEMBL4799590   \n",
       "105            O=C1Nc2ccc(S(=O)(=O)Nc3ccc(O)cc3)c3cccc1c23   CHEMBL3234246   \n",
       "235             CC(=O)Nc1ccc2c(c1)N(S(=O)(=O)c1ccccc1)CCC2   CHEMBL3617293   \n",
       "\n",
       "      pred_cla  pred_reg  pred_reg_IC50  \n",
       "1080  0.980122  5.781031   1.655652e+04  \n",
       "1001  0.980122  5.781031   1.655652e+04  \n",
       "850   0.980122  5.781031   1.655652e+04  \n",
       "684   0.980122  5.781031   1.655652e+04  \n",
       "446   0.980122  5.781031   1.655652e+04  \n",
       "...        ...       ...            ...  \n",
       "1505  0.009402  4.463428   3.440110e+05  \n",
       "265   0.009203  5.840750   1.442947e+04  \n",
       "438   0.008530  3.690582   2.039004e+06  \n",
       "105   0.008414  4.916939   1.210770e+05  \n",
       "235   0.008153  5.347782   4.489712e+04  \n",
       "\n",
       "[1673 rows x 9 columns]"
      ]
     },
     "execution_count": 28,
     "metadata": {},
     "output_type": "execute_result"
    }
   ],
   "source": [
    "external_data_with_preds"
   ]
  },
  {
   "cell_type": "code",
   "execution_count": 32,
   "id": "3e41d02d",
   "metadata": {},
   "outputs": [
    {
     "data": {
      "image/png": "[encoded data removed]",
      "text/plain": [
       "<Figure size 432x288 with 1 Axes>"
      ]
     },
     "metadata": {
      "needs_background": "light"
     },
     "output_type": "display_data"
    }
   ],
   "source": [
    "relevant_subset = external_data_with_preds[external_data_with_preds[\"pred_cla\"] > 0.9]\n",
    "relevant_subset[relevant_subset[\"pred_reg_IC50\"]< 30000][\"pred_reg_IC50\"].hist(bins=30)\n",
    "plt.title(\"Distribution of pIC50 values for ZINC20 subset\")\n",
    "plt.xlabel(\"IC50 [nM]\")\n",
    "plt.ylabel(\"Count\")\n",
    "plt.savefig(fname=\"zinc20_classifier_distribution_subset.pdf\", format=\"pdf\", dpi=200, bbox_inches='tight')"
   ]
  },
  {
   "cell_type": "code",
   "execution_count": 38,
   "id": "3c32c4bc",
   "metadata": {},
   "outputs": [
    {
     "name": "stdout",
     "output_type": "stream",
     "text": [
      "0.8018433179723502\n"
     ]
    }
   ],
   "source": [
    "print(relevant_subset[relevant_subset[\"pred_reg_IC50\"]< 5000][\"pred_reg_IC50\"].shape[0]/relevant_subset[relevant_subset[\"pred_reg_IC50\"]< 30000][\"pred_reg_IC50\"].shape[0])"
   ]
  },
  {
   "cell_type": "code",
   "execution_count": 34,
   "id": "e8edec14",
   "metadata": {},
   "outputs": [
    {
     "name": "stdout",
     "output_type": "stream",
     "text": [
      "36.682449290874565\n",
      "16556.51976260363\n"
     ]
    }
   ],
   "source": [
    "print(relevant_subset[relevant_subset[\"pred_reg_IC50\"]< 30000][\"pred_reg_IC50\"].min())\n",
    "print(relevant_subset[relevant_subset[\"pred_reg_IC50\"]< 30000][\"pred_reg_IC50\"].max())"
   ]
  },
  {
   "cell_type": "code",
   "execution_count": null,
   "id": "2ea5a464",
   "metadata": {},
   "outputs": [],
   "source": [
    "external_data_with_preds.sort_values(\"pred_reg_IC50\")"
   ]
  },
  {
   "cell_type": "code",
   "execution_count": null,
   "id": "b3d5d071",
   "metadata": {},
   "outputs": [],
   "source": [
    "external_data_with_preds.sort_values(\"pred_reg_IC50\")"
   ]
  },
  {
   "cell_type": "code",
   "execution_count": null,
   "id": "cf4c9409",
   "metadata": {},
   "outputs": [],
   "source": [
    "external_data_with_preds.to_csv(co.DATA_DIR_CANDIDATES/\"search_space_ror_gamma_all_active_predictions_with_chembl.csv\", index=False)"
   ]
  },
  {
   "cell_type": "code",
   "execution_count": null,
   "id": "ef864863",
   "metadata": {},
   "outputs": [],
   "source": []
  }
 ],
 "metadata": {
  "kernelspec": {
   "display_name": "Python 3.8.13 ('rorgammaqsar')",
   "language": "python",
   "name": "python3"
  },
  "language_info": {
   "codemirror_mode": {
    "name": "ipython",
    "version": 3
   },
   "file_extension": ".py",
   "mimetype": "text/x-python",
   "name": "python",
   "nbconvert_exporter": "python",
   "pygments_lexer": "ipython3",
   "version": "3.8.13"
  },
  "vscode": {
   "interpreter": {
    "hash": "acfffd18c244b8f5a510cc01b749d984390c6dc8073ed7353ae0aaf37db191b1"
   }
  }
 },
 "nbformat": 4,
 "nbformat_minor": 5
}
