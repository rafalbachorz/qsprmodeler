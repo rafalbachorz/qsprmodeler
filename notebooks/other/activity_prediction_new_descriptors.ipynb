{
 "cells": [
  {
   "cell_type": "code",
   "execution_count": 1,
   "id": "d88cde2a",
   "metadata": {},
   "outputs": [],
   "source": [
    "from pathlib import Path\n",
    "import sys\n",
    "local_module_path = Path(\"../modules/model_wrapper\")\n",
    "sys.path.append(local_module_path.as_posix())\n",
    "local_module_path = Path(\"../modules/data_transformers\")\n",
    "sys.path.append(local_module_path.as_posix())\n",
    "local_module_path = Path(\"../modules/auxiliary\")\n",
    "sys.path.append(local_module_path.as_posix())\n",
    "local_module_path = Path(\"../modules/constants\")\n",
    "sys.path.append(local_module_path.as_posix())"
   ]
  },
  {
   "cell_type": "code",
   "execution_count": 2,
   "id": "2c1e93a8",
   "metadata": {},
   "outputs": [],
   "source": [
    "import data_transformers as dt\n",
    "from model_wrapper import model_wrapper as mw\n",
    "import constants as co\n",
    "from auxiliary import loggers, plotScatterWithIdeal, create_precision_recall_plot\n",
    "\n",
    "import pandas as pd\n",
    "import numpy as np\n",
    "import os\n",
    "from rdkit import Chem\n",
    "from rdkit.Chem import AllChem\n",
    "from rdkit import Chem\n",
    "from rdkit.Chem import Draw\n",
    "from rdkit import DataStructs\n",
    "\n",
    "import mlflow\n",
    "from mlflow.models.signature import infer_signature\n",
    "from mlflow.utils.environment import _mlflow_conda_env\n",
    "\n",
    "from sklearn.model_selection import train_test_split\n",
    "\n",
    "from sklearn.manifold import TSNE\n",
    "\n",
    "from IPython.display import IFrame\n",
    "\n",
    "import matplotlib.pyplot as plt\n",
    "%matplotlib inline\n",
    "import seaborn as sns\n",
    "\n",
    "pd.set_option('display.max_columns', None)\n",
    "random_seed = 42\n",
    "\n",
    "%config Completer.use_jedi = False"
   ]
  },
  {
   "cell_type": "code",
   "execution_count": 3,
   "id": "9ec1cf5e",
   "metadata": {},
   "outputs": [],
   "source": [
    "l = loggers.get_logger(logger_name=\"logger\")"
   ]
  },
  {
   "cell_type": "code",
   "execution_count": 4,
   "id": "1d60a97f",
   "metadata": {},
   "outputs": [],
   "source": [
    "def set_up_mlflow(experiment):\n",
    "    server_ip = \"10.210.200.190\"\n",
    "    os.environ['AWS_ACCESS_KEY_ID'] = 'mlflow'\n",
    "    os.environ['AWS_SECRET_ACCESS_KEY'] = 'uSPmPqTZv4YQh8M7oMqq'\n",
    "    os.environ['MLFLOW_S3_ENDPOINT_URL'] = f\"http://{server_ip}:9000\"\n",
    "    mlflow.set_tracking_uri(f\"http://{server_ip}:9002\")\n",
    "    mlflow.set_experiment(experiment)"
   ]
  },
  {
   "cell_type": "code",
   "execution_count": 5,
   "id": "2b7b9429",
   "metadata": {},
   "outputs": [
    {
     "name": "stderr",
     "output_type": "stream",
     "text": [
      "2022-06-13 07:28:17,217 - logger - INFO - rorgammaqsar\n",
      "2022-06-13 07:28:17,217 - logger - INFO - rorgammaqsar\n"
     ]
    }
   ],
   "source": [
    "l.info(os.environ['CONDA_DEFAULT_ENV'])"
   ]
  },
  {
   "cell_type": "markdown",
   "id": "f3962900",
   "metadata": {},
   "source": [
    "# Data load"
   ]
  },
  {
   "cell_type": "code",
   "execution_count": 6,
   "id": "bcca8b62",
   "metadata": {},
   "outputs": [
    {
     "data": {
      "text/html": [
       "<div>\n",
       "<style scoped>\n",
       "    .dataframe tbody tr th:only-of-type {\n",
       "        vertical-align: middle;\n",
       "    }\n",
       "\n",
       "    .dataframe tbody tr th {\n",
       "        vertical-align: top;\n",
       "    }\n",
       "\n",
       "    .dataframe thead th {\n",
       "        text-align: right;\n",
       "    }\n",
       "</style>\n",
       "<table border=\"1\" class=\"dataframe\">\n",
       "  <thead>\n",
       "    <tr style=\"text-align: right;\">\n",
       "      <th></th>\n",
       "      <th>molregno</th>\n",
       "      <th>standard_value_get_mean</th>\n",
       "      <th>standard_units_get_levels</th>\n",
       "      <th>standard_type_get_levels</th>\n",
       "      <th>chembl_id_compound_get_levels</th>\n",
       "      <th>canonical_smiles_get_levels</th>\n",
       "      <th>act_0</th>\n",
       "      <th>act_1</th>\n",
       "      <th>act_2</th>\n",
       "      <th>act_3</th>\n",
       "      <th>act_4</th>\n",
       "      <th>act_5</th>\n",
       "      <th>act_6</th>\n",
       "      <th>act_7</th>\n",
       "      <th>act_8</th>\n",
       "      <th>act_9</th>\n",
       "      <th>act_10</th>\n",
       "      <th>act_11</th>\n",
       "      <th>act_12</th>\n",
       "      <th>target_std</th>\n",
       "      <th>target_min</th>\n",
       "      <th>target_max</th>\n",
       "      <th>target_mean</th>\n",
       "      <th>target_median</th>\n",
       "      <th>IC50_nM</th>\n",
       "    </tr>\n",
       "  </thead>\n",
       "  <tbody>\n",
       "    <tr>\n",
       "      <th>0</th>\n",
       "      <td>2208</td>\n",
       "      <td>199.53</td>\n",
       "      <td>nM</td>\n",
       "      <td>IC50</td>\n",
       "      <td>CHEMBL38</td>\n",
       "      <td>CC1=C(/C=C/C(C)=C/C=C/C(C)=C/C(=O)O)C(C)(C)CCC1</td>\n",
       "      <td>199.53</td>\n",
       "      <td>NaN</td>\n",
       "      <td>NaN</td>\n",
       "      <td>NaN</td>\n",
       "      <td>NaN</td>\n",
       "      <td>NaN</td>\n",
       "      <td>NaN</td>\n",
       "      <td>NaN</td>\n",
       "      <td>NaN</td>\n",
       "      <td>NaN</td>\n",
       "      <td>NaN</td>\n",
       "      <td>NaN</td>\n",
       "      <td>NaN</td>\n",
       "      <td>0.0</td>\n",
       "      <td>199.53</td>\n",
       "      <td>199.53</td>\n",
       "      <td>199.53</td>\n",
       "      <td>199.53</td>\n",
       "      <td>199.53</td>\n",
       "    </tr>\n",
       "    <tr>\n",
       "      <th>1</th>\n",
       "      <td>40459</td>\n",
       "      <td>31900.00</td>\n",
       "      <td>nM</td>\n",
       "      <td>IC50</td>\n",
       "      <td>CHEMBL28721</td>\n",
       "      <td>O=C(O)C(S)C(S)C(=O)O</td>\n",
       "      <td>31900.00</td>\n",
       "      <td>NaN</td>\n",
       "      <td>NaN</td>\n",
       "      <td>NaN</td>\n",
       "      <td>NaN</td>\n",
       "      <td>NaN</td>\n",
       "      <td>NaN</td>\n",
       "      <td>NaN</td>\n",
       "      <td>NaN</td>\n",
       "      <td>NaN</td>\n",
       "      <td>NaN</td>\n",
       "      <td>NaN</td>\n",
       "      <td>NaN</td>\n",
       "      <td>0.0</td>\n",
       "      <td>31900.00</td>\n",
       "      <td>31900.00</td>\n",
       "      <td>31900.00</td>\n",
       "      <td>31900.00</td>\n",
       "      <td>31900.00</td>\n",
       "    </tr>\n",
       "    <tr>\n",
       "      <th>3</th>\n",
       "      <td>155592</td>\n",
       "      <td>10000.00</td>\n",
       "      <td>nM</td>\n",
       "      <td>IC50</td>\n",
       "      <td>CHEMBL418971</td>\n",
       "      <td>CC(C)(c1ccc(O)cc1)c1ccc(O)cc1</td>\n",
       "      <td>10000.00</td>\n",
       "      <td>NaN</td>\n",
       "      <td>NaN</td>\n",
       "      <td>NaN</td>\n",
       "      <td>NaN</td>\n",
       "      <td>NaN</td>\n",
       "      <td>NaN</td>\n",
       "      <td>NaN</td>\n",
       "      <td>NaN</td>\n",
       "      <td>NaN</td>\n",
       "      <td>NaN</td>\n",
       "      <td>NaN</td>\n",
       "      <td>NaN</td>\n",
       "      <td>0.0</td>\n",
       "      <td>10000.00</td>\n",
       "      <td>10000.00</td>\n",
       "      <td>10000.00</td>\n",
       "      <td>10000.00</td>\n",
       "      <td>10000.00</td>\n",
       "    </tr>\n",
       "    <tr>\n",
       "      <th>5</th>\n",
       "      <td>242555</td>\n",
       "      <td>80000.00</td>\n",
       "      <td>nM</td>\n",
       "      <td>IC50</td>\n",
       "      <td>CHEMBL358290</td>\n",
       "      <td>NS(=O)(=O)c1ccc(N/C(S)=N\\CCc2ccccc2)cc1</td>\n",
       "      <td>80000.00</td>\n",
       "      <td>NaN</td>\n",
       "      <td>NaN</td>\n",
       "      <td>NaN</td>\n",
       "      <td>NaN</td>\n",
       "      <td>NaN</td>\n",
       "      <td>NaN</td>\n",
       "      <td>NaN</td>\n",
       "      <td>NaN</td>\n",
       "      <td>NaN</td>\n",
       "      <td>NaN</td>\n",
       "      <td>NaN</td>\n",
       "      <td>NaN</td>\n",
       "      <td>0.0</td>\n",
       "      <td>80000.00</td>\n",
       "      <td>80000.00</td>\n",
       "      <td>80000.00</td>\n",
       "      <td>80000.00</td>\n",
       "      <td>80000.00</td>\n",
       "    </tr>\n",
       "    <tr>\n",
       "      <th>6</th>\n",
       "      <td>342149</td>\n",
       "      <td>10000.00</td>\n",
       "      <td>nM</td>\n",
       "      <td>IC50</td>\n",
       "      <td>CHEMBL382792</td>\n",
       "      <td>O=S(=O)(Nc1ccc(C(O)(C(F)(F)F)C(F)(F)F)cc1)c1cc...</td>\n",
       "      <td>10000.00</td>\n",
       "      <td>NaN</td>\n",
       "      <td>NaN</td>\n",
       "      <td>NaN</td>\n",
       "      <td>NaN</td>\n",
       "      <td>NaN</td>\n",
       "      <td>NaN</td>\n",
       "      <td>NaN</td>\n",
       "      <td>NaN</td>\n",
       "      <td>NaN</td>\n",
       "      <td>NaN</td>\n",
       "      <td>NaN</td>\n",
       "      <td>NaN</td>\n",
       "      <td>0.0</td>\n",
       "      <td>10000.00</td>\n",
       "      <td>10000.00</td>\n",
       "      <td>10000.00</td>\n",
       "      <td>10000.00</td>\n",
       "      <td>10000.00</td>\n",
       "    </tr>\n",
       "    <tr>\n",
       "      <th>...</th>\n",
       "      <td>...</td>\n",
       "      <td>...</td>\n",
       "      <td>...</td>\n",
       "      <td>...</td>\n",
       "      <td>...</td>\n",
       "      <td>...</td>\n",
       "      <td>...</td>\n",
       "      <td>...</td>\n",
       "      <td>...</td>\n",
       "      <td>...</td>\n",
       "      <td>...</td>\n",
       "      <td>...</td>\n",
       "      <td>...</td>\n",
       "      <td>...</td>\n",
       "      <td>...</td>\n",
       "      <td>...</td>\n",
       "      <td>...</td>\n",
       "      <td>...</td>\n",
       "      <td>...</td>\n",
       "      <td>...</td>\n",
       "      <td>...</td>\n",
       "      <td>...</td>\n",
       "      <td>...</td>\n",
       "      <td>...</td>\n",
       "      <td>...</td>\n",
       "    </tr>\n",
       "    <tr>\n",
       "      <th>2214</th>\n",
       "      <td>2459056</td>\n",
       "      <td>193.60</td>\n",
       "      <td>nM</td>\n",
       "      <td>IC50</td>\n",
       "      <td>CHEMBL4588625</td>\n",
       "      <td>C[C@H]1CN(C2CCc3ccc(NC(=O)c4cccc(C#N)c4)cc32)C...</td>\n",
       "      <td>193.60</td>\n",
       "      <td>NaN</td>\n",
       "      <td>NaN</td>\n",
       "      <td>NaN</td>\n",
       "      <td>NaN</td>\n",
       "      <td>NaN</td>\n",
       "      <td>NaN</td>\n",
       "      <td>NaN</td>\n",
       "      <td>NaN</td>\n",
       "      <td>NaN</td>\n",
       "      <td>NaN</td>\n",
       "      <td>NaN</td>\n",
       "      <td>NaN</td>\n",
       "      <td>0.0</td>\n",
       "      <td>193.60</td>\n",
       "      <td>193.60</td>\n",
       "      <td>193.60</td>\n",
       "      <td>193.60</td>\n",
       "      <td>193.60</td>\n",
       "    </tr>\n",
       "    <tr>\n",
       "      <th>2215</th>\n",
       "      <td>2459160</td>\n",
       "      <td>75.00</td>\n",
       "      <td>nM</td>\n",
       "      <td>IC50</td>\n",
       "      <td>CHEMBL4588729</td>\n",
       "      <td>O=C(O)c1ccc(-n2cc(C(=O)c3c(Cl)cccc3Cl)c3ccccc3...</td>\n",
       "      <td>75.00</td>\n",
       "      <td>NaN</td>\n",
       "      <td>NaN</td>\n",
       "      <td>NaN</td>\n",
       "      <td>NaN</td>\n",
       "      <td>NaN</td>\n",
       "      <td>NaN</td>\n",
       "      <td>NaN</td>\n",
       "      <td>NaN</td>\n",
       "      <td>NaN</td>\n",
       "      <td>NaN</td>\n",
       "      <td>NaN</td>\n",
       "      <td>NaN</td>\n",
       "      <td>0.0</td>\n",
       "      <td>75.00</td>\n",
       "      <td>75.00</td>\n",
       "      <td>75.00</td>\n",
       "      <td>75.00</td>\n",
       "      <td>75.00</td>\n",
       "    </tr>\n",
       "    <tr>\n",
       "      <th>2217</th>\n",
       "      <td>2462878</td>\n",
       "      <td>27.00</td>\n",
       "      <td>nM</td>\n",
       "      <td>IC50</td>\n",
       "      <td>CHEMBL4592447</td>\n",
       "      <td>Cc1cccc(Cl)c1C(=O)c1cn(-c2ccc(C(=O)O)cc2F)c2nc...</td>\n",
       "      <td>27.00</td>\n",
       "      <td>NaN</td>\n",
       "      <td>NaN</td>\n",
       "      <td>NaN</td>\n",
       "      <td>NaN</td>\n",
       "      <td>NaN</td>\n",
       "      <td>NaN</td>\n",
       "      <td>NaN</td>\n",
       "      <td>NaN</td>\n",
       "      <td>NaN</td>\n",
       "      <td>NaN</td>\n",
       "      <td>NaN</td>\n",
       "      <td>NaN</td>\n",
       "      <td>0.0</td>\n",
       "      <td>27.00</td>\n",
       "      <td>27.00</td>\n",
       "      <td>27.00</td>\n",
       "      <td>27.00</td>\n",
       "      <td>27.00</td>\n",
       "    </tr>\n",
       "    <tr>\n",
       "      <th>2218</th>\n",
       "      <td>2463217</td>\n",
       "      <td>357.70</td>\n",
       "      <td>nM</td>\n",
       "      <td>IC50</td>\n",
       "      <td>CHEMBL4592786</td>\n",
       "      <td>N#Cc1cccc(NC(=O)Nc2ccc3c(c2)C(N2CC4CCC(C2)N4C(...</td>\n",
       "      <td>357.70</td>\n",
       "      <td>NaN</td>\n",
       "      <td>NaN</td>\n",
       "      <td>NaN</td>\n",
       "      <td>NaN</td>\n",
       "      <td>NaN</td>\n",
       "      <td>NaN</td>\n",
       "      <td>NaN</td>\n",
       "      <td>NaN</td>\n",
       "      <td>NaN</td>\n",
       "      <td>NaN</td>\n",
       "      <td>NaN</td>\n",
       "      <td>NaN</td>\n",
       "      <td>0.0</td>\n",
       "      <td>357.70</td>\n",
       "      <td>357.70</td>\n",
       "      <td>357.70</td>\n",
       "      <td>357.70</td>\n",
       "      <td>357.70</td>\n",
       "    </tr>\n",
       "    <tr>\n",
       "      <th>2219</th>\n",
       "      <td>2464336</td>\n",
       "      <td>10000.00</td>\n",
       "      <td>nM</td>\n",
       "      <td>IC50</td>\n",
       "      <td>CHEMBL4593905</td>\n",
       "      <td>COc1ccc2c(n1)CCN(C(C)=O)[C@@H]2C(=O)Nc1ccc(OCc...</td>\n",
       "      <td>10000.00</td>\n",
       "      <td>NaN</td>\n",
       "      <td>NaN</td>\n",
       "      <td>NaN</td>\n",
       "      <td>NaN</td>\n",
       "      <td>NaN</td>\n",
       "      <td>NaN</td>\n",
       "      <td>NaN</td>\n",
       "      <td>NaN</td>\n",
       "      <td>NaN</td>\n",
       "      <td>NaN</td>\n",
       "      <td>NaN</td>\n",
       "      <td>NaN</td>\n",
       "      <td>0.0</td>\n",
       "      <td>10000.00</td>\n",
       "      <td>10000.00</td>\n",
       "      <td>10000.00</td>\n",
       "      <td>10000.00</td>\n",
       "      <td>10000.00</td>\n",
       "    </tr>\n",
       "  </tbody>\n",
       "</table>\n",
       "<p>2039 rows × 25 columns</p>\n",
       "</div>"
      ],
      "text/plain": [
       "      molregno  standard_value_get_mean standard_units_get_levels  \\\n",
       "0         2208                   199.53                        nM   \n",
       "1        40459                 31900.00                        nM   \n",
       "3       155592                 10000.00                        nM   \n",
       "5       242555                 80000.00                        nM   \n",
       "6       342149                 10000.00                        nM   \n",
       "...        ...                      ...                       ...   \n",
       "2214   2459056                   193.60                        nM   \n",
       "2215   2459160                    75.00                        nM   \n",
       "2217   2462878                    27.00                        nM   \n",
       "2218   2463217                   357.70                        nM   \n",
       "2219   2464336                 10000.00                        nM   \n",
       "\n",
       "     standard_type_get_levels chembl_id_compound_get_levels  \\\n",
       "0                        IC50                      CHEMBL38   \n",
       "1                        IC50                   CHEMBL28721   \n",
       "3                        IC50                  CHEMBL418971   \n",
       "5                        IC50                  CHEMBL358290   \n",
       "6                        IC50                  CHEMBL382792   \n",
       "...                       ...                           ...   \n",
       "2214                     IC50                 CHEMBL4588625   \n",
       "2215                     IC50                 CHEMBL4588729   \n",
       "2217                     IC50                 CHEMBL4592447   \n",
       "2218                     IC50                 CHEMBL4592786   \n",
       "2219                     IC50                 CHEMBL4593905   \n",
       "\n",
       "                            canonical_smiles_get_levels     act_0  act_1  \\\n",
       "0       CC1=C(/C=C/C(C)=C/C=C/C(C)=C/C(=O)O)C(C)(C)CCC1    199.53    NaN   \n",
       "1                                  O=C(O)C(S)C(S)C(=O)O  31900.00    NaN   \n",
       "3                         CC(C)(c1ccc(O)cc1)c1ccc(O)cc1  10000.00    NaN   \n",
       "5               NS(=O)(=O)c1ccc(N/C(S)=N\\CCc2ccccc2)cc1  80000.00    NaN   \n",
       "6     O=S(=O)(Nc1ccc(C(O)(C(F)(F)F)C(F)(F)F)cc1)c1cc...  10000.00    NaN   \n",
       "...                                                 ...       ...    ...   \n",
       "2214  C[C@H]1CN(C2CCc3ccc(NC(=O)c4cccc(C#N)c4)cc32)C...    193.60    NaN   \n",
       "2215  O=C(O)c1ccc(-n2cc(C(=O)c3c(Cl)cccc3Cl)c3ccccc3...     75.00    NaN   \n",
       "2217  Cc1cccc(Cl)c1C(=O)c1cn(-c2ccc(C(=O)O)cc2F)c2nc...     27.00    NaN   \n",
       "2218  N#Cc1cccc(NC(=O)Nc2ccc3c(c2)C(N2CC4CCC(C2)N4C(...    357.70    NaN   \n",
       "2219  COc1ccc2c(n1)CCN(C(C)=O)[C@@H]2C(=O)Nc1ccc(OCc...  10000.00    NaN   \n",
       "\n",
       "      act_2  act_3  act_4  act_5  act_6  act_7  act_8  act_9  act_10  act_11  \\\n",
       "0       NaN    NaN    NaN    NaN    NaN    NaN    NaN    NaN     NaN     NaN   \n",
       "1       NaN    NaN    NaN    NaN    NaN    NaN    NaN    NaN     NaN     NaN   \n",
       "3       NaN    NaN    NaN    NaN    NaN    NaN    NaN    NaN     NaN     NaN   \n",
       "5       NaN    NaN    NaN    NaN    NaN    NaN    NaN    NaN     NaN     NaN   \n",
       "6       NaN    NaN    NaN    NaN    NaN    NaN    NaN    NaN     NaN     NaN   \n",
       "...     ...    ...    ...    ...    ...    ...    ...    ...     ...     ...   \n",
       "2214    NaN    NaN    NaN    NaN    NaN    NaN    NaN    NaN     NaN     NaN   \n",
       "2215    NaN    NaN    NaN    NaN    NaN    NaN    NaN    NaN     NaN     NaN   \n",
       "2217    NaN    NaN    NaN    NaN    NaN    NaN    NaN    NaN     NaN     NaN   \n",
       "2218    NaN    NaN    NaN    NaN    NaN    NaN    NaN    NaN     NaN     NaN   \n",
       "2219    NaN    NaN    NaN    NaN    NaN    NaN    NaN    NaN     NaN     NaN   \n",
       "\n",
       "      act_12  target_std  target_min  target_max  target_mean  target_median  \\\n",
       "0        NaN         0.0      199.53      199.53       199.53         199.53   \n",
       "1        NaN         0.0    31900.00    31900.00     31900.00       31900.00   \n",
       "3        NaN         0.0    10000.00    10000.00     10000.00       10000.00   \n",
       "5        NaN         0.0    80000.00    80000.00     80000.00       80000.00   \n",
       "6        NaN         0.0    10000.00    10000.00     10000.00       10000.00   \n",
       "...      ...         ...         ...         ...          ...            ...   \n",
       "2214     NaN         0.0      193.60      193.60       193.60         193.60   \n",
       "2215     NaN         0.0       75.00       75.00        75.00          75.00   \n",
       "2217     NaN         0.0       27.00       27.00        27.00          27.00   \n",
       "2218     NaN         0.0      357.70      357.70       357.70         357.70   \n",
       "2219     NaN         0.0    10000.00    10000.00     10000.00       10000.00   \n",
       "\n",
       "       IC50_nM  \n",
       "0       199.53  \n",
       "1     31900.00  \n",
       "3     10000.00  \n",
       "5     80000.00  \n",
       "6     10000.00  \n",
       "...        ...  \n",
       "2214    193.60  \n",
       "2215     75.00  \n",
       "2217     27.00  \n",
       "2218    357.70  \n",
       "2219  10000.00  \n",
       "\n",
       "[2039 rows x 25 columns]"
      ]
     },
     "execution_count": 6,
     "metadata": {},
     "output_type": "execute_result"
    }
   ],
   "source": [
    "smiles_column = \"canonical_smiles_get_levels\"\n",
    "target_column = \"IC50_nM\"\n",
    "\n",
    "max_level_activity = 13\n",
    "train_data = pd.read_csv((co.DATA_DIR/\"ror_gamma_homo_sapiens.csv\").absolute().as_posix())\n",
    "activity_columns = [\"act_\"+str(iii) for iii in range(max_level_activity)]\n",
    "train_data[\"target_std\"] = train_data[activity_columns].apply(lambda x: np.std(x), axis=1)\n",
    "train_data[\"target_min\"] = train_data[activity_columns].apply(lambda x: np.min(x), axis=1)\n",
    "train_data[\"target_max\"] = train_data[activity_columns].apply(lambda x: np.max(x), axis=1)\n",
    "train_data[\"target_mean\"] = train_data[activity_columns].apply(lambda x: np.mean(x), axis=1)\n",
    "train_data[\"target_median\"] = train_data[activity_columns].apply(lambda x: np.median(x[~np.isnan(x)]), axis=1)\n",
    "train_data[target_column] = train_data[\"target_median\"]\n",
    "# here we exclude the molecules for which the std of the available measurements is significant \n",
    "target_std_threshold = 100\n",
    "train_data = train_data[train_data[\"target_std\"] < target_std_threshold]\n",
    "train_data"
   ]
  },
  {
   "cell_type": "markdown",
   "id": "3117c643",
   "metadata": {},
   "source": [
    "# Data"
   ]
  },
  {
   "cell_type": "code",
   "execution_count": 7,
   "id": "059b4289",
   "metadata": {},
   "outputs": [],
   "source": [
    "smiles_codes = train_data[\"canonical_smiles_get_levels\"].copy()\n",
    "target = train_data[\"IC50_nM\"].copy()"
   ]
  },
  {
   "cell_type": "code",
   "execution_count": 8,
   "id": "57fece73",
   "metadata": {},
   "outputs": [],
   "source": [
    "import rdkit"
   ]
  },
  {
   "cell_type": "code",
   "execution_count": 9,
   "id": "0472f14b",
   "metadata": {},
   "outputs": [
    {
     "data": {
      "text/plain": [
       "'2022.03.1'"
      ]
     },
     "execution_count": 9,
     "metadata": {},
     "output_type": "execute_result"
    }
   ],
   "source": [
    "rdkit.__version__\n"
   ]
  },
  {
   "cell_type": "code",
   "execution_count": 11,
   "id": "31752f3e",
   "metadata": {},
   "outputs": [],
   "source": [
    "from rdkit.Chem.AtomPairs import Sheridan\n",
    "from rdkit.Chem.AtomPairs import Pairs\n",
    "from rdkit import Chem"
   ]
  },
  {
   "cell_type": "code",
   "execution_count": 21,
   "id": "9b1b683d",
   "metadata": {},
   "outputs": [
    {
     "data": {
      "text/plain": [
       "8388608"
      ]
     },
     "execution_count": 21,
     "metadata": {},
     "output_type": "execute_result"
    }
   ],
   "source": [
    "item = Sheridan.GetBPFingerprint(Chem.MolFromSmiles('OCCC(=O)O'))\n",
    "len(item.ToList())"
   ]
  },
  {
   "cell_type": "code",
   "execution_count": 24,
   "id": "e4ca0edb",
   "metadata": {},
   "outputs": [
    {
     "data": {
      "text/plain": [
       "8388608"
      ]
     },
     "execution_count": 24,
     "metadata": {},
     "output_type": "execute_result"
    }
   ],
   "source": [
    "item = Pairs.GetAtomPairFingerprintAsBitVect(Chem.MolFromSmiles('OCC(=O)O'))\n",
    "len(item.ToList())"
   ]
  },
  {
   "cell_type": "code",
   "execution_count": 27,
   "id": "c2927c7a",
   "metadata": {},
   "outputs": [
    {
     "data": {
      "text/plain": [
       "8388608"
      ]
     },
     "execution_count": 27,
     "metadata": {},
     "output_type": "execute_result"
    }
   ],
   "source": [
    "item = Pairs.GetAtomPairFingerprintAsIntVect(Chem.MolFromSmiles('OCC(=O)O'))\n",
    "len(item.ToList())\n",
    "#len(item.ToList())"
   ]
  },
  {
   "cell_type": "code",
   "execution_count": null,
   "id": "9b1b683d",
   "metadata": {},
   "outputs": [
    {
     "data": {
      "text/plain": [
       "<rdkit.DataStructs.cDataStructs.IntSparseIntVect at 0x7f9b4b05fdc0>"
      ]
     },
     "metadata": {},
     "output_type": "display_data"
    }
   ],
   "source": [
    "Sheridan. (Chem.MolFromSmiles('OCC(=O)O'))"
   ]
  },
  {
   "cell_type": "code",
   "execution_count": null,
   "id": "9302780c",
   "metadata": {},
   "outputs": [],
   "source": [
    "Sheridan. GetBPFingerprint(Chem.MolFromSmiles('OCC(=O)O'))"
   ]
  },
  {
   "cell_type": "code",
   "execution_count": 11,
   "id": "e49ade7d",
   "metadata": {},
   "outputs": [],
   "source": [
    "mols = [Chem.MolFromSmiles(item) for item in smiles_codes.to_list()]"
   ]
  },
  {
   "cell_type": "code",
   "execution_count": 12,
   "id": "1d5ef959",
   "metadata": {},
   "outputs": [
    {
     "data": {
      "text/plain": [
       "<rdkit.DataStructs.cDataStructs.IntSparseIntVect at 0x7f38306e8fa0>"
      ]
     },
     "execution_count": 12,
     "metadata": {},
     "output_type": "execute_result"
    }
   ],
   "source": [
    "AllChem.GetAtomPairFingerprint(mols[0])"
   ]
  },
  {
   "cell_type": "code",
   "execution_count": null,
   "id": "ac15376d",
   "metadata": {},
   "outputs": [],
   "source": [
    "Chem.ChemUtils.DescriptorUtilities."
   ]
  },
  {
   "cell_type": "code",
   "execution_count": 13,
   "id": "4401312b",
   "metadata": {},
   "outputs": [
    {
     "ename": "AttributeError",
     "evalue": "module 'rdkit.Chem.AllChem' has no attribute 'GetAtomPairFingerprintAsBitVect'",
     "output_type": "error",
     "traceback": [
      "\u001b[0;31m---------------------------------------------------------------------------\u001b[0m",
      "\u001b[0;31mAttributeError\u001b[0m                            Traceback (most recent call last)",
      "\u001b[1;32m/home/rafalb/work/molecules/moleculeGenerator/moleculegenerator/moleculegenerator/notebooks/activity_prediction/activity_prediction_app_devel/notebook/activity_prediction_new_descriptors.ipynb Cell 15'\u001b[0m in \u001b[0;36m<cell line: 1>\u001b[0;34m()\u001b[0m\n\u001b[0;32m----> <a href='vscode-notebook-cell://ssh-remote%2B10.210.200.190/home/rafalb/work/molecules/moleculeGenerator/moleculegenerator/moleculegenerator/notebooks/activity_prediction/activity_prediction_app_devel/notebook/activity_prediction_new_descriptors.ipynb#ch0000032vscode-remote?line=0'>1</a>\u001b[0m AllChem\u001b[39m.\u001b[39;49mGetAtomPairFingerprintAsBitVect(mols[\u001b[39m0\u001b[39m])\n",
      "\u001b[0;31mAttributeError\u001b[0m: module 'rdkit.Chem.AllChem' has no attribute 'GetAtomPairFingerprintAsBitVect'"
     ]
    }
   ],
   "source": [
    "AllChem.GetB GetAtomPairFingerprintAsBitVect(mols[0])"
   ]
  },
  {
   "cell_type": "code",
   "execution_count": null,
   "id": "059b4289",
   "metadata": {},
   "outputs": [
    {
     "name": "stderr",
     "output_type": "stream",
     "text": [
      "2022-06-10 06:01:33,295 - logger - INFO - PCA constructor...\n",
      "2022-06-10 06:01:33,295 - logger - INFO - PCA constructor...\n",
      "2022-06-10 06:01:33,297 - logger - INFO - CreateFPS fit...\n",
      "2022-06-10 06:01:33,297 - logger - INFO - CreateFPS fit...\n",
      "2022-06-10 06:01:33,298 - logger - INFO - CreateFPS transform...\n",
      "2022-06-10 06:01:33,298 - logger - INFO - CreateFPS transform...\n",
      "2022-06-10 06:01:34,414 - logger - INFO - Scaler fit...\n",
      "2022-06-10 06:01:34,414 - logger - INFO - Scaler fit...\n",
      "2022-06-10 06:01:34,510 - logger - INFO - CreateFPS transform...\n",
      "2022-06-10 06:01:34,510 - logger - INFO - CreateFPS transform...\n",
      "2022-06-10 06:01:35,640 - logger - INFO - PCA transform...\n",
      "2022-06-10 06:01:35,640 - logger - INFO - PCA transform...\n"
     ]
    }
   ],
   "source": [
    "smiles_codes = train_data[\"canonical_smiles_get_levels\"].copy()\n",
    "target = train_data[\"IC50_nM\"].copy()\n",
    "\n",
    "non_idx = dt.validate_smiles(smiles_codes=smiles_codes)\n",
    "smiles_codes = smiles_codes.drop(non_idx, axis=0)\n",
    "target = target.drop(non_idx, axis=0)\n",
    "\n",
    "pipeline_file = \"pipeline_configuration_tsne_PCA_20.json\"\n",
    "pipeline_configuration = dt.read_in_pipeline(pipeline_file=pipeline_file, pipeline_directory=co.PIPELINE_DIR)\n",
    "pipeline = dt.create_pipeline(pipeline_configuration=pipeline_configuration[\"feature_transform\"])\n",
    "\n",
    "y_train = dt.process_taget(pipeline_configuration=pipeline_configuration[\"target_transform\"], y=target)\n",
    "smiles_codes = smiles_codes.loc[y_train.index]\n",
    "\n",
    "pipeline.fit(X=smiles_codes, y=None)\n",
    "X_train = dt.create_molecular_features(pipeline=pipeline, smiles_codes=smiles_codes)\n",
    "X_train = dt.process_molecular_features(pipeline=pipeline, X=X_train)"
   ]
  },
  {
   "cell_type": "code",
   "execution_count": 9,
   "id": "709d90dd",
   "metadata": {},
   "outputs": [
    {
     "data": {
      "text/plain": [
       "array([[<AxesSubplot:title={'center':'pca_0'}>,\n",
       "        <AxesSubplot:title={'center':'pca_1'}>],\n",
       "       [<AxesSubplot:title={'center':'pca_2'}>,\n",
       "        <AxesSubplot:title={'center':'pca_3'}>]], dtype=object)"
      ]
     },
     "execution_count": 9,
     "metadata": {},
     "output_type": "execute_result"
    },
    {
     "data": {
      "image/png": "[encoded data removed]",
      "text/plain": [
       "<Figure size 720x720 with 4 Axes>"
      ]
     },
     "metadata": {
      "needs_background": "light"
     },
     "output_type": "display_data"
    }
   ],
   "source": [
    "pca_columns = pipeline[\"PCA\"].PCA_feature_names\n",
    "X_train[pca_columns[:4]].hist(bins=20, grid=True, figsize=(10, 10))"
   ]
  },
  {
   "cell_type": "code",
   "execution_count": 10,
   "id": "3e42a3bc",
   "metadata": {},
   "outputs": [
    {
     "name": "stderr",
     "output_type": "stream",
     "text": [
      "2022-06-10 06:01:43,518 - logger - INFO - Variance explained: 0.5293176252172086\n",
      "2022-06-10 06:01:43,518 - logger - INFO - Variance explained: 0.5293176252172086\n"
     ]
    }
   ],
   "source": [
    "ve_sum = np.sum(pipeline[\"PCA\"].PCA_model.explained_variance_ratio_)\n",
    "l.info(\"Variance explained: \"+str(ve_sum))"
   ]
  },
  {
   "cell_type": "code",
   "execution_count": 11,
   "id": "030e521c",
   "metadata": {},
   "outputs": [
    {
     "name": "stderr",
     "output_type": "stream",
     "text": [
      "/home/rafalb/miniconda3/envs/rorgammaqsar2/lib/python3.8/site-packages/sklearn/manifold/_t_sne.py:795: FutureWarning: The default initialization in TSNE will change from 'random' to 'pca' in 1.2.\n",
      "  warnings.warn(\n",
      "/home/rafalb/miniconda3/envs/rorgammaqsar2/lib/python3.8/site-packages/sklearn/manifold/_t_sne.py:805: FutureWarning: The default learning rate in TSNE will change from 200.0 to 'auto' in 1.2.\n",
      "  warnings.warn(\n"
     ]
    }
   ],
   "source": [
    "tsne = TSNE(n_components=2)\n",
    "tsne_embedding = tsne.fit_transform(X_train)\n",
    "tsne_embedding = pd.DataFrame(tsne_embedding, index=X_train.index)\n",
    "tsne_embedding = pd.concat([tsne_embedding, y_train], axis=1)\n",
    "tsne_embedding.columns = [\"tsne_1\", \"tsne_2\", \"active\"]"
   ]
  },
  {
   "cell_type": "code",
   "execution_count": 12,
   "id": "590a95ed",
   "metadata": {},
   "outputs": [
    {
     "data": {
      "text/html": [
       "<div>\n",
       "<style scoped>\n",
       "    .dataframe tbody tr th:only-of-type {\n",
       "        vertical-align: middle;\n",
       "    }\n",
       "\n",
       "    .dataframe tbody tr th {\n",
       "        vertical-align: top;\n",
       "    }\n",
       "\n",
       "    .dataframe thead th {\n",
       "        text-align: right;\n",
       "    }\n",
       "</style>\n",
       "<table border=\"1\" class=\"dataframe\">\n",
       "  <thead>\n",
       "    <tr style=\"text-align: right;\">\n",
       "      <th></th>\n",
       "      <th>tsne_1</th>\n",
       "      <th>tsne_2</th>\n",
       "      <th>active</th>\n",
       "    </tr>\n",
       "  </thead>\n",
       "  <tbody>\n",
       "    <tr>\n",
       "      <th>0</th>\n",
       "      <td>10.783054</td>\n",
       "      <td>-16.695475</td>\n",
       "      <td>True</td>\n",
       "    </tr>\n",
       "    <tr>\n",
       "      <th>1</th>\n",
       "      <td>11.408150</td>\n",
       "      <td>-15.925192</td>\n",
       "      <td>False</td>\n",
       "    </tr>\n",
       "    <tr>\n",
       "      <th>3</th>\n",
       "      <td>10.964582</td>\n",
       "      <td>-14.648469</td>\n",
       "      <td>False</td>\n",
       "    </tr>\n",
       "    <tr>\n",
       "      <th>5</th>\n",
       "      <td>16.799349</td>\n",
       "      <td>-9.007290</td>\n",
       "      <td>False</td>\n",
       "    </tr>\n",
       "    <tr>\n",
       "      <th>6</th>\n",
       "      <td>-6.707687</td>\n",
       "      <td>-3.344310</td>\n",
       "      <td>False</td>\n",
       "    </tr>\n",
       "    <tr>\n",
       "      <th>...</th>\n",
       "      <td>...</td>\n",
       "      <td>...</td>\n",
       "      <td>...</td>\n",
       "    </tr>\n",
       "    <tr>\n",
       "      <th>2214</th>\n",
       "      <td>7.519083</td>\n",
       "      <td>12.370305</td>\n",
       "      <td>True</td>\n",
       "    </tr>\n",
       "    <tr>\n",
       "      <th>2215</th>\n",
       "      <td>41.920784</td>\n",
       "      <td>-27.200802</td>\n",
       "      <td>True</td>\n",
       "    </tr>\n",
       "    <tr>\n",
       "      <th>2217</th>\n",
       "      <td>40.764622</td>\n",
       "      <td>-30.367527</td>\n",
       "      <td>True</td>\n",
       "    </tr>\n",
       "    <tr>\n",
       "      <th>2218</th>\n",
       "      <td>8.414138</td>\n",
       "      <td>12.544292</td>\n",
       "      <td>True</td>\n",
       "    </tr>\n",
       "    <tr>\n",
       "      <th>2219</th>\n",
       "      <td>27.810305</td>\n",
       "      <td>-49.514145</td>\n",
       "      <td>False</td>\n",
       "    </tr>\n",
       "  </tbody>\n",
       "</table>\n",
       "<p>2039 rows × 3 columns</p>\n",
       "</div>"
      ],
      "text/plain": [
       "         tsne_1     tsne_2  active\n",
       "0     10.783054 -16.695475    True\n",
       "1     11.408150 -15.925192   False\n",
       "3     10.964582 -14.648469   False\n",
       "5     16.799349  -9.007290   False\n",
       "6     -6.707687  -3.344310   False\n",
       "...         ...        ...     ...\n",
       "2214   7.519083  12.370305    True\n",
       "2215  41.920784 -27.200802    True\n",
       "2217  40.764622 -30.367527    True\n",
       "2218   8.414138  12.544292    True\n",
       "2219  27.810305 -49.514145   False\n",
       "\n",
       "[2039 rows x 3 columns]"
      ]
     },
     "execution_count": 12,
     "metadata": {},
     "output_type": "execute_result"
    }
   ],
   "source": [
    "tsne_embedding"
   ]
  },
  {
   "cell_type": "code",
   "execution_count": 13,
   "id": "cc60e735",
   "metadata": {},
   "outputs": [
    {
     "data": {
      "image/png": "[encoded data removed]",
      "text/plain": [
       "<Figure size 432x288 with 1 Axes>"
      ]
     },
     "metadata": {
      "needs_background": "light"
     },
     "output_type": "display_data"
    }
   ],
   "source": [
    "ax = sns.scatterplot(data=tsne_embedding.query(\"active == 0\"), x=\"tsne_1\", y=\"tsne_2\", color='lightblue')\n",
    "ax = sns.scatterplot(data=tsne_embedding.query(\"active == 1\"), x=\"tsne_1\", y=\"tsne_2\", color='red')"
   ]
  },
  {
   "cell_type": "code",
   "execution_count": 14,
   "id": "0fb99e01",
   "metadata": {},
   "outputs": [
    {
     "name": "stderr",
     "output_type": "stream",
     "text": [
      "2022-06-10 06:02:34,704 - logger - INFO - PCA constructor...\n",
      "2022-06-10 06:02:34,704 - logger - INFO - PCA constructor...\n",
      "2022-06-10 06:02:34,707 - logger - INFO - CreateFPS fit...\n",
      "2022-06-10 06:02:34,707 - logger - INFO - CreateFPS fit...\n",
      "2022-06-10 06:02:34,708 - logger - INFO - CreateFPS transform...\n",
      "2022-06-10 06:02:34,708 - logger - INFO - CreateFPS transform...\n",
      "2022-06-10 06:02:35,832 - logger - INFO - Scaler fit...\n",
      "2022-06-10 06:02:35,832 - logger - INFO - Scaler fit...\n",
      "2022-06-10 06:02:35,960 - logger - INFO - CreateFPS transform...\n",
      "2022-06-10 06:02:35,960 - logger - INFO - CreateFPS transform...\n",
      "2022-06-10 06:02:37,094 - logger - INFO - PCA transform...\n",
      "2022-06-10 06:02:37,094 - logger - INFO - PCA transform...\n"
     ]
    }
   ],
   "source": [
    "smiles_codes = train_data[\"canonical_smiles_get_levels\"].copy()\n",
    "target = train_data[\"IC50_nM\"].copy()\n",
    "\n",
    "non_idx = dt.validate_smiles(smiles_codes=smiles_codes)\n",
    "smiles_codes = smiles_codes.drop(non_idx, axis=0)\n",
    "target = target.drop(non_idx, axis=0)\n",
    "\n",
    "pipeline_file = \"pipeline_configuration_tsne_PCA_50.json\"\n",
    "pipeline_configuration = dt.read_in_pipeline(pipeline_file=pipeline_file, pipeline_directory=co.PIPELINE_DIR)\n",
    "pipeline = dt.create_pipeline(pipeline_configuration=pipeline_configuration[\"feature_transform\"])\n",
    "\n",
    "y_train = dt.process_taget(pipeline_configuration=pipeline_configuration[\"target_transform\"], y=target)\n",
    "smiles_codes = smiles_codes.loc[y_train.index]\n",
    "\n",
    "pipeline.fit(X=smiles_codes, y=None)\n",
    "X_train = dt.create_molecular_features(pipeline=pipeline, smiles_codes=smiles_codes)\n",
    "X_train = dt.process_molecular_features(pipeline=pipeline, X=X_train)"
   ]
  },
  {
   "cell_type": "code",
   "execution_count": 15,
   "id": "36cc5e7f",
   "metadata": {},
   "outputs": [
    {
     "name": "stderr",
     "output_type": "stream",
     "text": [
      "2022-06-10 06:02:49,933 - logger - INFO - Variance explained: 0.6871564432339895\n",
      "2022-06-10 06:02:49,933 - logger - INFO - Variance explained: 0.6871564432339895\n"
     ]
    }
   ],
   "source": [
    "ve_sum = np.sum(pipeline[\"PCA\"].PCA_model.explained_variance_ratio_)\n",
    "l.info(\"Variance explained: \"+str(ve_sum))"
   ]
  },
  {
   "cell_type": "code",
   "execution_count": 16,
   "id": "4892d001",
   "metadata": {},
   "outputs": [
    {
     "name": "stderr",
     "output_type": "stream",
     "text": [
      "/home/rafalb/miniconda3/envs/rorgammaqsar2/lib/python3.8/site-packages/sklearn/manifold/_t_sne.py:795: FutureWarning: The default initialization in TSNE will change from 'random' to 'pca' in 1.2.\n",
      "  warnings.warn(\n",
      "/home/rafalb/miniconda3/envs/rorgammaqsar2/lib/python3.8/site-packages/sklearn/manifold/_t_sne.py:805: FutureWarning: The default learning rate in TSNE will change from 200.0 to 'auto' in 1.2.\n",
      "  warnings.warn(\n"
     ]
    }
   ],
   "source": [
    "tsne = TSNE(n_components=2)\n",
    "tsne_embedding = tsne.fit_transform(X_train)\n",
    "tsne_embedding = pd.DataFrame(tsne_embedding, index=X_train.index)\n",
    "tsne_embedding = pd.concat([tsne_embedding, y_train], axis=1)\n",
    "tsne_embedding.columns = [\"tsne_1\", \"tsne_2\", \"active\"]"
   ]
  },
  {
   "cell_type": "code",
   "execution_count": 17,
   "id": "cb5dce7b",
   "metadata": {},
   "outputs": [
    {
     "data": {
      "image/png": "[encoded data removed]",
      "text/plain": [
       "<Figure size 432x288 with 1 Axes>"
      ]
     },
     "metadata": {
      "needs_background": "light"
     },
     "output_type": "display_data"
    }
   ],
   "source": [
    "ax = sns.scatterplot(data=tsne_embedding.query(\"active == 0\"), x=\"tsne_1\", y=\"tsne_2\", color='lightblue')\n",
    "ax = sns.scatterplot(data=tsne_embedding.query(\"active == 1\"), x=\"tsne_1\", y=\"tsne_2\", color='red')"
   ]
  },
  {
   "cell_type": "code",
   "execution_count": 19,
   "id": "7de5c5fc",
   "metadata": {},
   "outputs": [
    {
     "name": "stderr",
     "output_type": "stream",
     "text": [
      "2022-06-10 06:04:02,950 - logger - INFO - PCA constructor...\n",
      "2022-06-10 06:04:02,950 - logger - INFO - PCA constructor...\n",
      "2022-06-10 06:04:02,952 - logger - INFO - CreateFPS fit...\n",
      "2022-06-10 06:04:02,952 - logger - INFO - CreateFPS fit...\n",
      "2022-06-10 06:04:02,953 - logger - INFO - CreateFPS transform...\n",
      "2022-06-10 06:04:02,953 - logger - INFO - CreateFPS transform...\n",
      "2022-06-10 06:04:04,060 - logger - INFO - Scaler fit...\n",
      "2022-06-10 06:04:04,060 - logger - INFO - Scaler fit...\n",
      "2022-06-10 06:04:04,379 - logger - INFO - CreateFPS transform...\n",
      "2022-06-10 06:04:04,379 - logger - INFO - CreateFPS transform...\n",
      "2022-06-10 06:04:05,500 - logger - INFO - PCA transform...\n",
      "2022-06-10 06:04:05,500 - logger - INFO - PCA transform...\n"
     ]
    }
   ],
   "source": [
    "smiles_codes = train_data[\"canonical_smiles_get_levels\"].copy()\n",
    "target = train_data[\"IC50_nM\"].copy()\n",
    "\n",
    "non_idx = dt.validate_smiles(smiles_codes=smiles_codes)\n",
    "smiles_codes = smiles_codes.drop(non_idx, axis=0)\n",
    "target = target.drop(non_idx, axis=0)\n",
    "\n",
    "pipeline_file = \"pipeline_configuration_tsne_PCA_100.json\"\n",
    "pipeline_configuration = dt.read_in_pipeline(pipeline_file=pipeline_file, pipeline_directory=co.PIPELINE_DIR)\n",
    "pipeline = dt.create_pipeline(pipeline_configuration=pipeline_configuration[\"feature_transform\"])\n",
    "\n",
    "y_train = dt.process_taget(pipeline_configuration=pipeline_configuration[\"target_transform\"], y=target)\n",
    "smiles_codes = smiles_codes.loc[y_train.index]\n",
    "\n",
    "pipeline.fit(X=smiles_codes, y=None)\n",
    "X_train = dt.create_molecular_features(pipeline=pipeline, smiles_codes=smiles_codes)\n",
    "X_train = dt.process_molecular_features(pipeline=pipeline, X=X_train)"
   ]
  },
  {
   "cell_type": "code",
   "execution_count": 20,
   "id": "998c5c8a",
   "metadata": {},
   "outputs": [
    {
     "name": "stderr",
     "output_type": "stream",
     "text": [
      "2022-06-10 06:04:13,783 - logger - INFO - Variance explained: 0.7976720907346284\n",
      "2022-06-10 06:04:13,783 - logger - INFO - Variance explained: 0.7976720907346284\n"
     ]
    }
   ],
   "source": [
    "ve_sum = np.sum(pipeline[\"PCA\"].PCA_model.explained_variance_ratio_)\n",
    "l.info(\"Variance explained: \"+str(ve_sum))"
   ]
  },
  {
   "cell_type": "code",
   "execution_count": 21,
   "id": "c359b5be",
   "metadata": {},
   "outputs": [
    {
     "name": "stderr",
     "output_type": "stream",
     "text": [
      "/home/rafalb/miniconda3/envs/rorgammaqsar2/lib/python3.8/site-packages/sklearn/manifold/_t_sne.py:795: FutureWarning: The default initialization in TSNE will change from 'random' to 'pca' in 1.2.\n",
      "  warnings.warn(\n",
      "/home/rafalb/miniconda3/envs/rorgammaqsar2/lib/python3.8/site-packages/sklearn/manifold/_t_sne.py:805: FutureWarning: The default learning rate in TSNE will change from 200.0 to 'auto' in 1.2.\n",
      "  warnings.warn(\n"
     ]
    }
   ],
   "source": [
    "tsne = TSNE(n_components=2)\n",
    "tsne_embedding = tsne.fit_transform(X_train)\n",
    "tsne_embedding = pd.DataFrame(tsne_embedding, index=X_train.index)\n",
    "tsne_embedding = pd.concat([tsne_embedding, y_train], axis=1)\n",
    "tsne_embedding.columns = [\"tsne_1\", \"tsne_2\", \"active\"]"
   ]
  },
  {
   "cell_type": "code",
   "execution_count": 22,
   "id": "1a63771f",
   "metadata": {},
   "outputs": [
    {
     "data": {
      "image/png": "[encoded data removed]",
      "text/plain": [
       "<Figure size 432x288 with 1 Axes>"
      ]
     },
     "metadata": {
      "needs_background": "light"
     },
     "output_type": "display_data"
    }
   ],
   "source": [
    "ax = sns.scatterplot(data=tsne_embedding.query(\"active == 0\"), x=\"tsne_1\", y=\"tsne_2\", color='lightblue')\n",
    "ax = sns.scatterplot(data=tsne_embedding.query(\"active == 1\"), x=\"tsne_1\", y=\"tsne_2\", color='red')"
   ]
  },
  {
   "cell_type": "code",
   "execution_count": 23,
   "id": "d5c334f3",
   "metadata": {},
   "outputs": [
    {
     "name": "stderr",
     "output_type": "stream",
     "text": [
      "2022-06-10 06:05:57,966 - logger - INFO - PCA constructor...\n",
      "2022-06-10 06:05:57,966 - logger - INFO - PCA constructor...\n",
      "2022-06-10 06:05:57,968 - logger - INFO - CreateFPS fit...\n",
      "2022-06-10 06:05:57,968 - logger - INFO - CreateFPS fit...\n",
      "2022-06-10 06:05:57,968 - logger - INFO - CreateFPS transform...\n",
      "2022-06-10 06:05:57,968 - logger - INFO - CreateFPS transform...\n",
      "2022-06-10 06:05:59,066 - logger - INFO - Scaler fit...\n",
      "2022-06-10 06:05:59,066 - logger - INFO - Scaler fit...\n",
      "2022-06-10 06:05:59,477 - logger - INFO - CreateFPS transform...\n",
      "2022-06-10 06:05:59,477 - logger - INFO - CreateFPS transform...\n",
      "2022-06-10 06:06:00,594 - logger - INFO - PCA transform...\n",
      "2022-06-10 06:06:00,594 - logger - INFO - PCA transform...\n"
     ]
    }
   ],
   "source": [
    "smiles_codes = train_data[\"canonical_smiles_get_levels\"].copy()\n",
    "target = train_data[\"IC50_nM\"].copy()\n",
    "\n",
    "non_idx = dt.validate_smiles(smiles_codes=smiles_codes)\n",
    "smiles_codes = smiles_codes.drop(non_idx, axis=0)\n",
    "target = target.drop(non_idx, axis=0)\n",
    "\n",
    "pipeline_file = \"pipeline_configuration_tsne_PCA_250.json\"\n",
    "pipeline_configuration = dt.read_in_pipeline(pipeline_file=pipeline_file, pipeline_directory=co.PIPELINE_DIR)\n",
    "pipeline = dt.create_pipeline(pipeline_configuration=pipeline_configuration[\"feature_transform\"])\n",
    "\n",
    "y_train = dt.process_taget(pipeline_configuration=pipeline_configuration[\"target_transform\"], y=target)\n",
    "smiles_codes = smiles_codes.loc[y_train.index]\n",
    "\n",
    "pipeline.fit(X=smiles_codes, y=None)\n",
    "X_train = dt.create_molecular_features(pipeline=pipeline, smiles_codes=smiles_codes)\n",
    "X_train = dt.process_molecular_features(pipeline=pipeline, X=X_train)"
   ]
  },
  {
   "cell_type": "code",
   "execution_count": 24,
   "id": "1091975b",
   "metadata": {},
   "outputs": [
    {
     "name": "stderr",
     "output_type": "stream",
     "text": [
      "2022-06-10 06:06:04,194 - logger - INFO - Variance explained: 0.9156650312909285\n",
      "2022-06-10 06:06:04,194 - logger - INFO - Variance explained: 0.9156650312909285\n"
     ]
    }
   ],
   "source": [
    "ve_sum = np.sum(pipeline[\"PCA\"].PCA_model.explained_variance_ratio_)\n",
    "l.info(\"Variance explained: \"+str(ve_sum))"
   ]
  },
  {
   "cell_type": "code",
   "execution_count": 25,
   "id": "0a72bd42",
   "metadata": {},
   "outputs": [
    {
     "name": "stderr",
     "output_type": "stream",
     "text": [
      "/home/rafalb/miniconda3/envs/rorgammaqsar2/lib/python3.8/site-packages/sklearn/manifold/_t_sne.py:795: FutureWarning: The default initialization in TSNE will change from 'random' to 'pca' in 1.2.\n",
      "  warnings.warn(\n",
      "/home/rafalb/miniconda3/envs/rorgammaqsar2/lib/python3.8/site-packages/sklearn/manifold/_t_sne.py:805: FutureWarning: The default learning rate in TSNE will change from 200.0 to 'auto' in 1.2.\n",
      "  warnings.warn(\n"
     ]
    }
   ],
   "source": [
    "tsne = TSNE(n_components=2)\n",
    "tsne_embedding = tsne.fit_transform(X_train)\n",
    "tsne_embedding = pd.DataFrame(tsne_embedding, index=X_train.index)\n",
    "tsne_embedding = pd.concat([tsne_embedding, y_train], axis=1)\n",
    "tsne_embedding.columns = [\"tsne_1\", \"tsne_2\", \"active\"]"
   ]
  },
  {
   "cell_type": "code",
   "execution_count": 26,
   "id": "c3153792",
   "metadata": {},
   "outputs": [
    {
     "data": {
      "image/png": "[encoded data removed]",
      "text/plain": [
       "<Figure size 432x288 with 1 Axes>"
      ]
     },
     "metadata": {
      "needs_background": "light"
     },
     "output_type": "display_data"
    }
   ],
   "source": [
    "ax = sns.scatterplot(data=tsne_embedding.query(\"active == 0\"), x=\"tsne_1\", y=\"tsne_2\", color='lightblue')\n",
    "ax = sns.scatterplot(data=tsne_embedding.query(\"active == 1\"), x=\"tsne_1\", y=\"tsne_2\", color='red')"
   ]
  }
 ],
 "metadata": {
  "interpreter": {
   "hash": "acfffd18c244b8f5a510cc01b749d984390c6dc8073ed7353ae0aaf37db191b1"
  },
  "kernelspec": {
   "display_name": "Python 3.8.13 ('rorgammaqsar')",
   "language": "python",
   "name": "python3"
  },
  "language_info": {
   "codemirror_mode": {
    "name": "ipython",
    "version": 3
   },
   "file_extension": ".py",
   "mimetype": "text/x-python",
   "name": "python",
   "nbconvert_exporter": "python",
   "pygments_lexer": "ipython3",
   "version": "3.8.13"
  }
 },
 "nbformat": 4,
 "nbformat_minor": 5
}
