{
 "cells": [
  {
   "cell_type": "code",
   "execution_count": 1,
   "id": "2c1e93a8",
   "metadata": {},
   "outputs": [],
   "source": [
    "import psycopg2\n",
    "import pandas as pd\n",
    "import numpy as np\n",
    "import os\n",
    "from rdkit import Chem\n",
    "from rdkit.Chem import AllChem\n",
    "from rdkit import Chem\n",
    "from rdkit.Chem import Draw\n",
    "from rdkit import DataStructs\n",
    "\n",
    "from mordred import Calculator, descriptors, Lipinski\n",
    "import mordred\n",
    "\n",
    "import constants as co\n",
    "import data_transformers as dt\n",
    "from auxiliary import loggers\n",
    "\n",
    "import mlflow\n",
    "from mlflow.models.signature import infer_signature\n",
    "from mlflow.utils.environment import _mlflow_conda_env\n",
    "\n",
    "from sklearn.model_selection import train_test_split\n",
    "from sklearn.preprocessing import StandardScaler, OneHotEncoder\n",
    "from sklearn.metrics import f1_score, confusion_matrix, average_precision_score, roc_auc_score, recall_score, \\\n",
    "precision_score, accuracy_score, precision_recall_curve\n",
    "from sklearn.feature_selection import VarianceThreshold\n",
    "from sklearn.model_selection import KFold\n",
    "from sklearn.base import BaseEstimator, TransformerMixin\n",
    "from sklearn.pipeline import FeatureUnion, Pipeline, make_pipeline\n",
    "from sklearn.decomposition import PCA\n",
    "\n",
    "from xgboost import XGBClassifier, plot_importance\n",
    "from sklearn.linear_model import BayesianRidge, LinearRegression, LogisticRegression, RidgeClassifier, RidgeClassifierCV\n",
    "\n",
    "from hyperopt import STATUS_OK, Trials, fmin, hp, tpe\n",
    "\n",
    "import pickle\n",
    "import json\n",
    "\n",
    "from IPython.display import IFrame\n",
    "\n",
    "import matplotlib.pyplot as plt\n",
    "%matplotlib inline\n",
    "\n",
    "from auxiliary import loggers\n",
    "import constants as co\n",
    "import data_transformers as dt\n",
    "l = loggers.get_logger(logger_name=\"logger\")\n",
    "\n",
    "pd.set_option('display.max_columns', None)\n",
    "random_seed = 42\n",
    "\n",
    "%config Completer.use_jedi = False\n",
    "l = loggers.get_logger(logger_name=\"logger\")"
   ]
  },
  {
   "cell_type": "code",
   "execution_count": 2,
   "id": "eda2f7e0",
   "metadata": {},
   "outputs": [],
   "source": [
    "from rdkit import Chem\n",
    "from rdkit.Chem import AllChem\n",
    "from rdkit import Chem\n",
    "from rdkit.Chem import Draw\n",
    "from rdkit import DataStructs\n",
    "from rdkit.Chem import rdBase\n",
    "from rdkit.Chem import rdMolAlign\n",
    "from rdkit.Chem import rdMolDescriptors\n",
    "from rdkit.Chem import rdDistGeom\n",
    "\n",
    "def confgen(smiles, numConfs=1, maxAttempts=1000, pruneRmsThresh=0.1, useExpTorsionAnglePrefs=True, \n",
    "            useBasicKnowledge=True, enforceChirality=True, randomSeed=42):\n",
    "    mol = Chem.AddHs(Chem.MolFromSmiles(smiles), addCoords=True)\n",
    "    refmol = Chem.AddHs(Chem.Mol(mol))\n",
    "    param = rdDistGeom.ETKDGv2()\n",
    "    \n",
    "    cids = rdDistGeom.EmbedMultipleConfs(mol, numConfs=numConfs, maxAttempts=maxAttempts, pruneRmsThresh=pruneRmsThresh, \n",
    "                                         useExpTorsionAnglePrefs=useExpTorsionAnglePrefs, useBasicKnowledge=useBasicKnowledge,\n",
    "                                         enforceChirality=enforceChirality, randomSeed=randomSeed)\n",
    "    \n",
    "    mp = AllChem.MMFFGetMoleculeProperties(mol, mmffVariant='MMFF94s')\n",
    "    AllChem.MMFFOptimizeMoleculeConfs(mol, maxIters=512, numThreads=8, mmffVariant='MMFF94s')\n",
    "\n",
    "    res = [] \n",
    "    for cid in cids:\n",
    "        ff = AllChem.MMFFGetMoleculeForceField(mol, mp, confId=cid)\n",
    "        e = ff.CalcEnergy()\n",
    "        res.append((cid, e))\n",
    "        \n",
    "    rdMolAlign.AlignMolConformers(mol)\n",
    "    \n",
    "    energies = [e for i, e in res]\n",
    "    \n",
    "    confs = mol.GetConformers()\n",
    "    for c, e in zip(confs, energies):\n",
    "        c.SetProp('Energy', str(e))\n",
    "    return mol, mp"
   ]
  },
  {
   "cell_type": "code",
   "execution_count": 3,
   "id": "b89321bc",
   "metadata": {},
   "outputs": [
    {
     "name": "stderr",
     "output_type": "stream",
     "text": [
      "2022-07-23 08:34:19,495 - logger - INFO - /home/rafalb/work/molecules/moleculeGenerator/moleculegenerator/moleculegenerator/notebooks/activity_prediction/activity_prediction_app_devel/notebook\n"
     ]
    }
   ],
   "source": [
    "l.info(os.getcwd())"
   ]
  },
  {
   "cell_type": "code",
   "execution_count": 4,
   "id": "2b7b9429",
   "metadata": {},
   "outputs": [
    {
     "name": "stderr",
     "output_type": "stream",
     "text": [
      "2022-07-23 08:34:20,170 - logger - INFO - rorgammaqsar\n"
     ]
    }
   ],
   "source": [
    "l.info(os.environ['CONDA_DEFAULT_ENV'])"
   ]
  },
  {
   "cell_type": "code",
   "execution_count": 5,
   "id": "722c0888",
   "metadata": {},
   "outputs": [],
   "source": [
    "with open(co.TRAINING_CONF_DIR/\"mean_no_limits/xgboost_classification_Morgan_1024_pca_128_QED.json\", \"r\") as f:\n",
    "    training_params = json.load(f)\n",
    "train_data = dt.data_load(training_params[\"data_preparation\"])"
   ]
  },
  {
   "cell_type": "code",
   "execution_count": 6,
   "id": "bd906dbf",
   "metadata": {},
   "outputs": [
    {
     "data": {
      "text/html": [
       "<div>\n",
       "<style scoped>\n",
       "    .dataframe tbody tr th:only-of-type {\n",
       "        vertical-align: middle;\n",
       "    }\n",
       "\n",
       "    .dataframe tbody tr th {\n",
       "        vertical-align: top;\n",
       "    }\n",
       "\n",
       "    .dataframe thead th {\n",
       "        text-align: right;\n",
       "    }\n",
       "</style>\n",
       "<table border=\"1\" class=\"dataframe\">\n",
       "  <thead>\n",
       "    <tr style=\"text-align: right;\">\n",
       "      <th></th>\n",
       "      <th>canonical_smiles_get_levels</th>\n",
       "      <th>IC50_nM</th>\n",
       "    </tr>\n",
       "  </thead>\n",
       "  <tbody>\n",
       "    <tr>\n",
       "      <th>0</th>\n",
       "      <td>CC1=C(/C=C/C(C)=C/C=C/C(C)=C/C(=O)O)C(C)(C)CCC1</td>\n",
       "      <td>199.530000</td>\n",
       "    </tr>\n",
       "    <tr>\n",
       "      <th>1</th>\n",
       "      <td>O=C(O)C(S)C(S)C(=O)O</td>\n",
       "      <td>31900.000000</td>\n",
       "    </tr>\n",
       "    <tr>\n",
       "      <th>2</th>\n",
       "      <td>O=S(=O)(c1ccccc1)N(CC(F)(F)F)c1ccc(C(O)(C(F)(F...</td>\n",
       "      <td>1770.094667</td>\n",
       "    </tr>\n",
       "    <tr>\n",
       "      <th>3</th>\n",
       "      <td>CC(C)(c1ccc(O)cc1)c1ccc(O)cc1</td>\n",
       "      <td>10000.000000</td>\n",
       "    </tr>\n",
       "    <tr>\n",
       "      <th>4</th>\n",
       "      <td>C[C@@H]1[C@H]2C3=CC[C@@H]4[C@@]5(C)CC[C@H](O)C...</td>\n",
       "      <td>2820.000000</td>\n",
       "    </tr>\n",
       "    <tr>\n",
       "      <th>...</th>\n",
       "      <td>...</td>\n",
       "      <td>...</td>\n",
       "    </tr>\n",
       "    <tr>\n",
       "      <th>2467</th>\n",
       "      <td>O=C(O)Cc1ccc(CNC(=O)Nc2cc(Cl)c(-c3ccccc3OC(F)(...</td>\n",
       "      <td>239.000000</td>\n",
       "    </tr>\n",
       "    <tr>\n",
       "      <th>2468</th>\n",
       "      <td>CCS(=O)(=O)c1ccc(CNc2nc3cnc(-c4c(OC)ncnc4C4CC4...</td>\n",
       "      <td>419.000000</td>\n",
       "    </tr>\n",
       "    <tr>\n",
       "      <th>2469</th>\n",
       "      <td>CCCS(=O)(=O)c1ccc(CNc2nc3cnc(-c4c(C)ncnc4C4CC4...</td>\n",
       "      <td>44.500000</td>\n",
       "    </tr>\n",
       "    <tr>\n",
       "      <th>2470</th>\n",
       "      <td>COc1nc2ccc([C@@](O)(c3ccc(Cl)cc3)c3cncn3C)cc2c...</td>\n",
       "      <td>340.000000</td>\n",
       "    </tr>\n",
       "    <tr>\n",
       "      <th>2471</th>\n",
       "      <td>COc1nc2ccc([C@@](O)(c3ccccc3)C3CCN(C(C)=O)CC3)...</td>\n",
       "      <td>181.000000</td>\n",
       "    </tr>\n",
       "  </tbody>\n",
       "</table>\n",
       "<p>2472 rows × 2 columns</p>\n",
       "</div>"
      ],
      "text/plain": [
       "                            canonical_smiles_get_levels       IC50_nM\n",
       "0       CC1=C(/C=C/C(C)=C/C=C/C(C)=C/C(=O)O)C(C)(C)CCC1    199.530000\n",
       "1                                  O=C(O)C(S)C(S)C(=O)O  31900.000000\n",
       "2     O=S(=O)(c1ccccc1)N(CC(F)(F)F)c1ccc(C(O)(C(F)(F...   1770.094667\n",
       "3                         CC(C)(c1ccc(O)cc1)c1ccc(O)cc1  10000.000000\n",
       "4     C[C@@H]1[C@H]2C3=CC[C@@H]4[C@@]5(C)CC[C@H](O)C...   2820.000000\n",
       "...                                                 ...           ...\n",
       "2467  O=C(O)Cc1ccc(CNC(=O)Nc2cc(Cl)c(-c3ccccc3OC(F)(...    239.000000\n",
       "2468  CCS(=O)(=O)c1ccc(CNc2nc3cnc(-c4c(OC)ncnc4C4CC4...    419.000000\n",
       "2469  CCCS(=O)(=O)c1ccc(CNc2nc3cnc(-c4c(C)ncnc4C4CC4...     44.500000\n",
       "2470  COc1nc2ccc([C@@](O)(c3ccc(Cl)cc3)c3cncn3C)cc2c...    340.000000\n",
       "2471  COc1nc2ccc([C@@](O)(c3ccccc3)C3CCN(C(C)=O)CC3)...    181.000000\n",
       "\n",
       "[2472 rows x 2 columns]"
      ]
     },
     "execution_count": 6,
     "metadata": {},
     "output_type": "execute_result"
    }
   ],
   "source": [
    "train_data"
   ]
  },
  {
   "cell_type": "code",
   "execution_count": 7,
   "id": "541ad4c4",
   "metadata": {},
   "outputs": [
    {
     "name": "stderr",
     "output_type": "stream",
     "text": [
      "100%|██████████| 10/10 [00:00<00:00, 274.99it/s]\n"
     ]
    },
    {
     "data": {
      "text/html": [
       "<div>\n",
       "<style scoped>\n",
       "    .dataframe tbody tr th:only-of-type {\n",
       "        vertical-align: middle;\n",
       "    }\n",
       "\n",
       "    .dataframe tbody tr th {\n",
       "        vertical-align: top;\n",
       "    }\n",
       "\n",
       "    .dataframe thead th {\n",
       "        text-align: right;\n",
       "    }\n",
       "</style>\n",
       "<table border=\"1\" class=\"dataframe\">\n",
       "  <thead>\n",
       "    <tr style=\"text-align: right;\">\n",
       "      <th></th>\n",
       "      <th>SLogP</th>\n",
       "      <th>SMR</th>\n",
       "      <th>naRing</th>\n",
       "      <th>nHBAcc</th>\n",
       "      <th>nHBDon</th>\n",
       "      <th>nRot</th>\n",
       "      <th>MW</th>\n",
       "      <th>TopoPSA</th>\n",
       "    </tr>\n",
       "  </thead>\n",
       "  <tbody>\n",
       "    <tr>\n",
       "      <th>0</th>\n",
       "      <td>5.6026</td>\n",
       "      <td>93.7618</td>\n",
       "      <td>0</td>\n",
       "      <td>1</td>\n",
       "      <td>1</td>\n",
       "      <td>5</td>\n",
       "      <td>300.208930</td>\n",
       "      <td>37.30</td>\n",
       "    </tr>\n",
       "    <tr>\n",
       "      <th>1</th>\n",
       "      <td>-0.2476</td>\n",
       "      <td>40.8196</td>\n",
       "      <td>0</td>\n",
       "      <td>4</td>\n",
       "      <td>4</td>\n",
       "      <td>3</td>\n",
       "      <td>181.970751</td>\n",
       "      <td>152.20</td>\n",
       "    </tr>\n",
       "    <tr>\n",
       "      <th>2</th>\n",
       "      <td>4.7564</td>\n",
       "      <td>89.4776</td>\n",
       "      <td>2</td>\n",
       "      <td>3</td>\n",
       "      <td>1</td>\n",
       "      <td>5</td>\n",
       "      <td>481.039418</td>\n",
       "      <td>65.99</td>\n",
       "    </tr>\n",
       "    <tr>\n",
       "      <th>3</th>\n",
       "      <td>3.4237</td>\n",
       "      <td>68.3416</td>\n",
       "      <td>2</td>\n",
       "      <td>2</td>\n",
       "      <td>2</td>\n",
       "      <td>2</td>\n",
       "      <td>228.115030</td>\n",
       "      <td>40.46</td>\n",
       "    </tr>\n",
       "    <tr>\n",
       "      <th>4</th>\n",
       "      <td>7.0895</td>\n",
       "      <td>132.6116</td>\n",
       "      <td>0</td>\n",
       "      <td>2</td>\n",
       "      <td>2</td>\n",
       "      <td>1</td>\n",
       "      <td>456.360345</td>\n",
       "      <td>57.53</td>\n",
       "    </tr>\n",
       "    <tr>\n",
       "      <th>5</th>\n",
       "      <td>2.2744</td>\n",
       "      <td>92.8719</td>\n",
       "      <td>2</td>\n",
       "      <td>3</td>\n",
       "      <td>3</td>\n",
       "      <td>5</td>\n",
       "      <td>335.076219</td>\n",
       "      <td>131.73</td>\n",
       "    </tr>\n",
       "    <tr>\n",
       "      <th>6</th>\n",
       "      <td>3.7996</td>\n",
       "      <td>79.6993</td>\n",
       "      <td>2</td>\n",
       "      <td>3</td>\n",
       "      <td>2</td>\n",
       "      <td>4</td>\n",
       "      <td>399.036384</td>\n",
       "      <td>74.78</td>\n",
       "    </tr>\n",
       "    <tr>\n",
       "      <th>7</th>\n",
       "      <td>3.7502</td>\n",
       "      <td>87.1266</td>\n",
       "      <td>2</td>\n",
       "      <td>3</td>\n",
       "      <td>1</td>\n",
       "      <td>3</td>\n",
       "      <td>425.052034</td>\n",
       "      <td>65.99</td>\n",
       "    </tr>\n",
       "    <tr>\n",
       "      <th>8</th>\n",
       "      <td>1.3743</td>\n",
       "      <td>59.8398</td>\n",
       "      <td>2</td>\n",
       "      <td>4</td>\n",
       "      <td>3</td>\n",
       "      <td>1</td>\n",
       "      <td>239.025229</td>\n",
       "      <td>109.00</td>\n",
       "    </tr>\n",
       "    <tr>\n",
       "      <th>9</th>\n",
       "      <td>1.9306</td>\n",
       "      <td>61.6654</td>\n",
       "      <td>2</td>\n",
       "      <td>4</td>\n",
       "      <td>2</td>\n",
       "      <td>2</td>\n",
       "      <td>250.029980</td>\n",
       "      <td>82.98</td>\n",
       "    </tr>\n",
       "  </tbody>\n",
       "</table>\n",
       "</div>"
      ],
      "text/plain": [
       "    SLogP       SMR  naRing  nHBAcc  nHBDon  nRot          MW  TopoPSA\n",
       "0  5.6026   93.7618       0       1       1     5  300.208930    37.30\n",
       "1 -0.2476   40.8196       0       4       4     3  181.970751   152.20\n",
       "2  4.7564   89.4776       2       3       1     5  481.039418    65.99\n",
       "3  3.4237   68.3416       2       2       2     2  228.115030    40.46\n",
       "4  7.0895  132.6116       0       2       2     1  456.360345    57.53\n",
       "5  2.2744   92.8719       2       3       3     5  335.076219   131.73\n",
       "6  3.7996   79.6993       2       3       2     4  399.036384    74.78\n",
       "7  3.7502   87.1266       2       3       1     3  425.052034    65.99\n",
       "8  1.3743   59.8398       2       4       3     1  239.025229   109.00\n",
       "9  1.9306   61.6654       2       4       2     2  250.029980    82.98"
      ]
     },
     "execution_count": 7,
     "metadata": {},
     "output_type": "execute_result"
    }
   ],
   "source": [
    "mols = [confgen(item)[0] for item in train_data[\"canonical_smiles_get_levels\"].to_list()[:10]]\n",
    "calc = mordred.Calculator()\n",
    "QED_def = dt.get_mordred_descriptors_definition()[0][\"QED\"]\n",
    "#calc.register(QED_def[0])\n",
    "[calc.register(item) for item in QED_def]\n",
    "calc.pandas(mols)"
   ]
  },
  {
   "cell_type": "code",
   "execution_count": 8,
   "id": "feeb0152",
   "metadata": {},
   "outputs": [
    {
     "data": {
      "image/png": "[encoded data removed]",
      "text/plain": [
       "<rdkit.Chem.rdchem.Mol at 0x7fba31108f40>"
      ]
     },
     "execution_count": 8,
     "metadata": {},
     "output_type": "execute_result"
    }
   ],
   "source": [
    "mols[0]"
   ]
  },
  {
   "cell_type": "code",
   "execution_count": 9,
   "id": "2f00c154",
   "metadata": {},
   "outputs": [
    {
     "name": "stderr",
     "output_type": "stream",
     "text": [
      "100%|██████████| 10/10 [00:00<00:00, 406.51it/s]\n"
     ]
    },
    {
     "data": {
      "text/html": [
       "<div>\n",
       "<style scoped>\n",
       "    .dataframe tbody tr th:only-of-type {\n",
       "        vertical-align: middle;\n",
       "    }\n",
       "\n",
       "    .dataframe tbody tr th {\n",
       "        vertical-align: top;\n",
       "    }\n",
       "\n",
       "    .dataframe thead th {\n",
       "        text-align: right;\n",
       "    }\n",
       "</style>\n",
       "<table border=\"1\" class=\"dataframe\">\n",
       "  <thead>\n",
       "    <tr style=\"text-align: right;\">\n",
       "      <th></th>\n",
       "      <th>SLogP</th>\n",
       "      <th>SMR</th>\n",
       "      <th>naRing</th>\n",
       "      <th>nHBAcc</th>\n",
       "      <th>nHBDon</th>\n",
       "      <th>nRot</th>\n",
       "      <th>MW</th>\n",
       "      <th>TopoPSA</th>\n",
       "    </tr>\n",
       "  </thead>\n",
       "  <tbody>\n",
       "    <tr>\n",
       "      <th>0</th>\n",
       "      <td>5.6026</td>\n",
       "      <td>93.7618</td>\n",
       "      <td>0</td>\n",
       "      <td>1</td>\n",
       "      <td>1</td>\n",
       "      <td>5</td>\n",
       "      <td>300.208930</td>\n",
       "      <td>37.30</td>\n",
       "    </tr>\n",
       "    <tr>\n",
       "      <th>1</th>\n",
       "      <td>-0.2476</td>\n",
       "      <td>40.8196</td>\n",
       "      <td>0</td>\n",
       "      <td>4</td>\n",
       "      <td>4</td>\n",
       "      <td>3</td>\n",
       "      <td>181.970751</td>\n",
       "      <td>152.20</td>\n",
       "    </tr>\n",
       "    <tr>\n",
       "      <th>2</th>\n",
       "      <td>4.7564</td>\n",
       "      <td>89.4776</td>\n",
       "      <td>2</td>\n",
       "      <td>3</td>\n",
       "      <td>1</td>\n",
       "      <td>5</td>\n",
       "      <td>481.039418</td>\n",
       "      <td>65.99</td>\n",
       "    </tr>\n",
       "    <tr>\n",
       "      <th>3</th>\n",
       "      <td>3.4237</td>\n",
       "      <td>68.3416</td>\n",
       "      <td>2</td>\n",
       "      <td>2</td>\n",
       "      <td>2</td>\n",
       "      <td>2</td>\n",
       "      <td>228.115030</td>\n",
       "      <td>40.46</td>\n",
       "    </tr>\n",
       "    <tr>\n",
       "      <th>4</th>\n",
       "      <td>7.0895</td>\n",
       "      <td>132.6116</td>\n",
       "      <td>0</td>\n",
       "      <td>2</td>\n",
       "      <td>2</td>\n",
       "      <td>1</td>\n",
       "      <td>456.360345</td>\n",
       "      <td>57.53</td>\n",
       "    </tr>\n",
       "    <tr>\n",
       "      <th>5</th>\n",
       "      <td>2.2744</td>\n",
       "      <td>92.8719</td>\n",
       "      <td>2</td>\n",
       "      <td>3</td>\n",
       "      <td>3</td>\n",
       "      <td>5</td>\n",
       "      <td>335.076219</td>\n",
       "      <td>131.73</td>\n",
       "    </tr>\n",
       "    <tr>\n",
       "      <th>6</th>\n",
       "      <td>3.7996</td>\n",
       "      <td>79.6993</td>\n",
       "      <td>2</td>\n",
       "      <td>3</td>\n",
       "      <td>2</td>\n",
       "      <td>4</td>\n",
       "      <td>399.036384</td>\n",
       "      <td>74.78</td>\n",
       "    </tr>\n",
       "    <tr>\n",
       "      <th>7</th>\n",
       "      <td>3.7502</td>\n",
       "      <td>87.1266</td>\n",
       "      <td>2</td>\n",
       "      <td>3</td>\n",
       "      <td>1</td>\n",
       "      <td>3</td>\n",
       "      <td>425.052034</td>\n",
       "      <td>65.99</td>\n",
       "    </tr>\n",
       "    <tr>\n",
       "      <th>8</th>\n",
       "      <td>1.3743</td>\n",
       "      <td>59.8398</td>\n",
       "      <td>2</td>\n",
       "      <td>4</td>\n",
       "      <td>3</td>\n",
       "      <td>1</td>\n",
       "      <td>239.025229</td>\n",
       "      <td>109.00</td>\n",
       "    </tr>\n",
       "    <tr>\n",
       "      <th>9</th>\n",
       "      <td>1.9306</td>\n",
       "      <td>61.6654</td>\n",
       "      <td>2</td>\n",
       "      <td>4</td>\n",
       "      <td>2</td>\n",
       "      <td>2</td>\n",
       "      <td>250.029980</td>\n",
       "      <td>82.98</td>\n",
       "    </tr>\n",
       "  </tbody>\n",
       "</table>\n",
       "</div>"
      ],
      "text/plain": [
       "    SLogP       SMR  naRing  nHBAcc  nHBDon  nRot          MW  TopoPSA\n",
       "0  5.6026   93.7618       0       1       1     5  300.208930    37.30\n",
       "1 -0.2476   40.8196       0       4       4     3  181.970751   152.20\n",
       "2  4.7564   89.4776       2       3       1     5  481.039418    65.99\n",
       "3  3.4237   68.3416       2       2       2     2  228.115030    40.46\n",
       "4  7.0895  132.6116       0       2       2     1  456.360345    57.53\n",
       "5  2.2744   92.8719       2       3       3     5  335.076219   131.73\n",
       "6  3.7996   79.6993       2       3       2     4  399.036384    74.78\n",
       "7  3.7502   87.1266       2       3       1     3  425.052034    65.99\n",
       "8  1.3743   59.8398       2       4       3     1  239.025229   109.00\n",
       "9  1.9306   61.6654       2       4       2     2  250.029980    82.98"
      ]
     },
     "execution_count": 9,
     "metadata": {},
     "output_type": "execute_result"
    }
   ],
   "source": [
    "mols = [Chem.MolFromSmiles(item) for item in train_data[\"canonical_smiles_get_levels\"].to_list()[:10]]\n",
    "calc = mordred.Calculator()\n",
    "QED_def = dt.get_mordred_descriptors_definition()[0][\"QED\"]\n",
    "#calc.register(QED_def[0])\n",
    "[calc.register(item) for item in QED_def]\n",
    "calc.pandas(mols)"
   ]
  },
  {
   "cell_type": "code",
   "execution_count": 10,
   "id": "101342b5",
   "metadata": {},
   "outputs": [
    {
     "data": {
      "image/png": "[encoded data removed]",
      "text/plain": [
       "<rdkit.Chem.rdchem.Mol at 0x7fba31cf6be0>"
      ]
     },
     "execution_count": 10,
     "metadata": {},
     "output_type": "execute_result"
    }
   ],
   "source": [
    "mols[0]"
   ]
  },
  {
   "cell_type": "code",
   "execution_count": 21,
   "id": "f7564604",
   "metadata": {},
   "outputs": [],
   "source": [
    "mols = [confgen(item)[0] for item in train_data[\"canonical_smiles_get_levels\"].to_list()[:10]]\n",
    "fps1 = [AllChem.GetMorganFingerprintAsBitVect(x, 2, nBits=1024) if x is not None else None for x in mols]\n",
    "fps1 = [DataStructs.BitVectToText(item) for item in fps1]"
   ]
  },
  {
   "cell_type": "code",
   "execution_count": 22,
   "id": "90a1fc4b",
   "metadata": {},
   "outputs": [],
   "source": [
    "mols = [Chem.MolFromSmiles(item) for item in train_data[\"canonical_smiles_get_levels\"].to_list()[:10]]\n",
    "fps2 = [AllChem.GetMorganFingerprintAsBitVect(x, 2, nBits=1024) if x is not None else None for x in mols]\n",
    "fps2 = [DataStructs.BitVectToText(item) for item in fps2]"
   ]
  },
  {
   "cell_type": "code",
   "execution_count": 23,
   "id": "ee139cf4",
   "metadata": {},
   "outputs": [
    {
     "data": {
      "text/plain": [
       "False"
      ]
     },
     "execution_count": 23,
     "metadata": {},
     "output_type": "execute_result"
    }
   ],
   "source": [
    "fps1[0] == fps2[0]"
   ]
  },
  {
   "cell_type": "code",
   "execution_count": 24,
   "id": "243d4955",
   "metadata": {},
   "outputs": [
    {
     "data": {
      "text/plain": [
       "'0000010000000000000000000000000001001000000000000000000000000000000000000000000000000000000100000000000000000000000000001000001000000010000000001000000000000000001000000000000000000000000000000000000000000000000000001000000000000000000000000000000000000000000100000000000000000000000001000000100000000010000000000001000001000000000000100100010000000000000010000000000000000000000100000000000000000000000000000000000000000010001000000000000010000000000000100000000000000000000000000100000000000000000000000000000000000000000000000000000000000000010000001000000000000000000000000000000000000000000000000000000000000000000000100000100000001000000000000010000000000000000010000000000000000000000010100000000000000000000000100000000000000000000000000000000000000000000000000000000100000000000000000000000000000001001001000000000000000000000000000000000000000000000000000000000000000000000000000000010000000000000000000000000000000010000000000000010000000000010000000110000000100000100000000000000000000000000000000000000001000000'"
      ]
     },
     "execution_count": 24,
     "metadata": {},
     "output_type": "execute_result"
    }
   ],
   "source": [
    "fps1[0]"
   ]
  },
  {
   "cell_type": "code",
   "execution_count": 25,
   "id": "ce9fccf3",
   "metadata": {},
   "outputs": [
    {
     "data": {
      "text/plain": [
       "'0000100000000000000000000000000101001000000000000000000100000000000000000000000000000000000000001000000000000000000000000000000000000000001000000000000000000000000000000000010000000000000000000000000000000000000000000000000000000000000000000000000000100000000100001000000000000000000000000000000100000000000000000000000000000100000000000000000000000000000010000000000000000000000000000000010000000000000000000000000000000000000000001000000000001000000000000000000000000000000010000000000010000000000010000000000000000000000000000000000000000000000000001000000000000000000000000000000000000000000000000010000000000000001000000000000000000000001000000010000000000000000000000000000000000000000000100010000000000000001000100000000000000000000000000000000000000000000000000000000000000000000000000000000000010001000000000000000000000000000100000000000000000000000000000000000000000000000000000000010000000000000000000000000000000010000011000000000000000000010000000000000000000000100000000000000000000000000000000000000001000000'"
      ]
     },
     "execution_count": 25,
     "metadata": {},
     "output_type": "execute_result"
    }
   ],
   "source": [
    " fps2[0]"
   ]
  },
  {
   "cell_type": "code",
   "execution_count": null,
   "id": "70453aca",
   "metadata": {},
   "outputs": [],
   "source": []
  }
 ],
 "metadata": {
  "kernelspec": {
   "display_name": "Python 3.8.13 ('rorgammaqsar')",
   "language": "python",
   "name": "python3"
  },
  "language_info": {
   "codemirror_mode": {
    "name": "ipython",
    "version": 3
   },
   "file_extension": ".py",
   "mimetype": "text/x-python",
   "name": "python",
   "nbconvert_exporter": "python",
   "pygments_lexer": "ipython3",
   "version": "3.8.13"
  },
  "vscode": {
   "interpreter": {
    "hash": "acfffd18c244b8f5a510cc01b749d984390c6dc8073ed7353ae0aaf37db191b1"
   }
  }
 },
 "nbformat": 4,
 "nbformat_minor": 5
}
