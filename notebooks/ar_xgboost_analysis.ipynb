{
 "cells": [
  {
   "cell_type": "code",
   "execution_count": 14,
   "id": "2c1e93a8",
   "metadata": {},
   "outputs": [
    {
     "name": "stderr",
     "output_type": "stream",
     "text": [
      "DEBUG:Loaded backend module://matplotlib_inline.backend_inline version unknown.\n"
     ]
    }
   ],
   "source": [
    "import pandas as pd\n",
    "import numpy as np\n",
    "import json\n",
    "import logging\n",
    "logging.basicConfig(format='%(levelname)s:%(message)s', level=logging.DEBUG)\n",
    "\n",
    "import matplotlib.pyplot as plt\n",
    "%matplotlib inline\n",
    "import molplotly\n",
    "import plotly.express as px\n",
    "\n",
    "from rdkit import Chem\n",
    "from rdkit.Chem import Draw\n",
    "\n",
    "from sklearn.metrics import make_scorer, mean_absolute_error, mean_squared_error, precision_score, r2_score, precision_recall_curve, roc_auc_score, average_precision_score, precision_score, recall_score, \\\n",
    "ConfusionMatrixDisplay, PrecisionRecallDisplay, RocCurveDisplay, f1_score, accuracy_score, matthews_corrcoef, mean_squared_log_error, mean_absolute_percentage_error, roc_curve\n",
    "\n",
    "pd.set_option('display.max_columns', None)\n",
    "random_seed = 42\n",
    "\n",
    "%config Completer.use_jedi = False\n",
    "\n",
    "import constants as co\n",
    "\n",
    "METHOD_PREFIX = \"xgboost\"\n",
    "RESULT_FILE_REGRESSOR = \"result_regressor_xgboost.csv\"\n",
    "RESULT_FILE_CLASSIFIER = \"result_classifier_xgboost.csv\""
   ]
  },
  {
   "attachments": {},
   "cell_type": "markdown",
   "id": "09a565e9",
   "metadata": {},
   "source": [
    "# Raw approach, all data"
   ]
  },
  {
   "cell_type": "code",
   "execution_count": 27,
   "id": "44fa7329",
   "metadata": {},
   "outputs": [
    {
     "data": {
      "text/html": [
       "<div>\n",
       "<style scoped>\n",
       "    .dataframe tbody tr th:only-of-type {\n",
       "        vertical-align: middle;\n",
       "    }\n",
       "\n",
       "    .dataframe tbody tr th {\n",
       "        vertical-align: top;\n",
       "    }\n",
       "\n",
       "    .dataframe thead th {\n",
       "        text-align: right;\n",
       "    }\n",
       "</style>\n",
       "<table border=\"1\" class=\"dataframe\">\n",
       "  <thead>\n",
       "    <tr style=\"text-align: right;\">\n",
       "      <th></th>\n",
       "      <th>coms_canonical_smiles</th>\n",
       "      <th>experimental_value</th>\n",
       "      <th>predicted_value</th>\n",
       "    </tr>\n",
       "  </thead>\n",
       "  <tbody>\n",
       "    <tr>\n",
       "      <th>894</th>\n",
       "      <td>[C-]#[N+]c1ccc(N2C(=O)C3(CCC3)N(c3ccc(CCCC(=O)...</td>\n",
       "      <td>7.036212</td>\n",
       "      <td>5.865554</td>\n",
       "    </tr>\n",
       "    <tr>\n",
       "      <th>1140</th>\n",
       "      <td>CC1(C)NC(=O)N(c2ccnc3ccccc23)C1=O</td>\n",
       "      <td>5.886057</td>\n",
       "      <td>5.859020</td>\n",
       "    </tr>\n",
       "    <tr>\n",
       "      <th>339</th>\n",
       "      <td>C[C@]12CCC(=O)C=C1C[C@@H](CCCc1ccc(OCCC(=O)O)c...</td>\n",
       "      <td>6.522879</td>\n",
       "      <td>5.833606</td>\n",
       "    </tr>\n",
       "    <tr>\n",
       "      <th>691</th>\n",
       "      <td>CC(c1nc(-c2ccccn2)no1)n1c(=O)n(-c2ccc(C#N)c(Cl...</td>\n",
       "      <td>6.736364</td>\n",
       "      <td>5.692888</td>\n",
       "    </tr>\n",
       "    <tr>\n",
       "      <th>277</th>\n",
       "      <td>CCC[C@]12CC[C@H](O)CC1=CCC1C2CC[C@@]2(C)C1CC[C...</td>\n",
       "      <td>5.752272</td>\n",
       "      <td>6.069440</td>\n",
       "    </tr>\n",
       "    <tr>\n",
       "      <th>...</th>\n",
       "      <td>...</td>\n",
       "      <td>...</td>\n",
       "      <td>...</td>\n",
       "    </tr>\n",
       "    <tr>\n",
       "      <th>651</th>\n",
       "      <td>CC(c1nnc(-c2cccc(F)c2)o1)N1CC(C)(C)C(Oc2ccc(C#...</td>\n",
       "      <td>7.113509</td>\n",
       "      <td>6.297620</td>\n",
       "    </tr>\n",
       "    <tr>\n",
       "      <th>585</th>\n",
       "      <td>CCC(C)N1CC(C)(C)C(Oc2ccc(C#N)c(C(F)(F)F)c2)C1=O</td>\n",
       "      <td>5.009217</td>\n",
       "      <td>6.241900</td>\n",
       "    </tr>\n",
       "    <tr>\n",
       "      <th>842</th>\n",
       "      <td>CN1CCN(OC(=O)N[C@@H]2C[C@]3(C)O[C@]2(C)[C@@H]2...</td>\n",
       "      <td>8.221849</td>\n",
       "      <td>6.076987</td>\n",
       "    </tr>\n",
       "    <tr>\n",
       "      <th>461</th>\n",
       "      <td>Cc1ccc(Oc2ccc(C#N)c(C(F)(F)F)c2)cc1</td>\n",
       "      <td>5.273273</td>\n",
       "      <td>5.894049</td>\n",
       "    </tr>\n",
       "    <tr>\n",
       "      <th>493</th>\n",
       "      <td>CCOc1cc(C2Nc3cccc4cccc(c34)N2)ccc1O</td>\n",
       "      <td>4.501689</td>\n",
       "      <td>5.733141</td>\n",
       "    </tr>\n",
       "  </tbody>\n",
       "</table>\n",
       "<p>135 rows × 3 columns</p>\n",
       "</div>"
      ],
      "text/plain": [
       "                                  coms_canonical_smiles  experimental_value  \\\n",
       "894   [C-]#[N+]c1ccc(N2C(=O)C3(CCC3)N(c3ccc(CCCC(=O)...            7.036212   \n",
       "1140                  CC1(C)NC(=O)N(c2ccnc3ccccc23)C1=O            5.886057   \n",
       "339   C[C@]12CCC(=O)C=C1C[C@@H](CCCc1ccc(OCCC(=O)O)c...            6.522879   \n",
       "691   CC(c1nc(-c2ccccn2)no1)n1c(=O)n(-c2ccc(C#N)c(Cl...            6.736364   \n",
       "277   CCC[C@]12CC[C@H](O)CC1=CCC1C2CC[C@@]2(C)C1CC[C...            5.752272   \n",
       "...                                                 ...                 ...   \n",
       "651   CC(c1nnc(-c2cccc(F)c2)o1)N1CC(C)(C)C(Oc2ccc(C#...            7.113509   \n",
       "585     CCC(C)N1CC(C)(C)C(Oc2ccc(C#N)c(C(F)(F)F)c2)C1=O            5.009217   \n",
       "842   CN1CCN(OC(=O)N[C@@H]2C[C@]3(C)O[C@]2(C)[C@@H]2...            8.221849   \n",
       "461                 Cc1ccc(Oc2ccc(C#N)c(C(F)(F)F)c2)cc1            5.273273   \n",
       "493                 CCOc1cc(C2Nc3cccc4cccc(c34)N2)ccc1O            4.501689   \n",
       "\n",
       "      predicted_value  \n",
       "894          5.865554  \n",
       "1140         5.859020  \n",
       "339          5.833606  \n",
       "691          5.692888  \n",
       "277          6.069440  \n",
       "...               ...  \n",
       "651          6.297620  \n",
       "585          6.241900  \n",
       "842          6.076987  \n",
       "461          5.894049  \n",
       "493          5.733141  \n",
       "\n",
       "[135 rows x 3 columns]"
      ]
     },
     "execution_count": 27,
     "metadata": {},
     "output_type": "execute_result"
    }
   ],
   "source": [
    "df_actual_pred = pd.read_csv(\"C:/Users/rbachorz/Projects/qsarmodeler/qsarmodeler/data/processed/ar/regressor_validation_actual_predicted.csv\", index_col=\"Unnamed: 0\")\n",
    "df_actual_pred"
   ]
  },
  {
   "cell_type": "code",
   "execution_count": 3,
   "id": "b5bd361d",
   "metadata": {},
   "outputs": [],
   "source": [
    "df_actual_pred[\"prediction_residue\"] = np.abs(df_actual_pred[\"experimental_value\"] - df_actual_pred[\"predicted_value\"])"
   ]
  },
  {
   "cell_type": "code",
   "execution_count": 18,
   "id": "efc0a412",
   "metadata": {},
   "outputs": [],
   "source": [
    "def plotScatterWithIdeal(x, y, title, confidence=None, xtext=\"Actual\", ytext=\"Predicted\", ideal=True):\n",
    "    fig, ax = plt.subplots(figsize=(10, 8), facecolor=\"white\")\n",
    "    plt.scatter(x, y, c=confidence, cmap=\"gray\")\n",
    "    p1 = max(max(y), max(x)) + 1.0\n",
    "    p2 = min(min(y), min(x)) - 1.0\n",
    "    if ideal:\n",
    "        plt.plot([p1, p2], [p1, p2], 'k-')\n",
    "    plt.grid()\n",
    "    ax.set_title(title, fontsize=18)\n",
    "    ax = plt.gca()\n",
    "    ax.set_xlabel(xtext, fontsize=16)\n",
    "    ax.set_ylabel(ytext, fontsize=16)\n",
    "    return ax, fig"
   ]
  },
  {
   "cell_type": "code",
   "execution_count": 23,
   "id": "b7e8a0eb",
   "metadata": {},
   "outputs": [
    {
     "name": "stderr",
     "output_type": "stream",
     "text": [
      "C:\\Users\\rbachorz\\AppData\\Local\\Temp\\ipykernel_40464\\2034677524.py:3: UserWarning:\n",
      "\n",
      "No data for colormapping provided via 'c'. Parameters 'cmap' will be ignored\n",
      "\n"
     ]
    },
    {
     "data": {
      "image/png": "[encoded data removed]",
      "text/plain": [
       "<Figure size 1000x800 with 1 Axes>"
      ]
     },
     "metadata": {},
     "output_type": "display_data"
    }
   ],
   "source": [
    "_, fig = plotScatterWithIdeal(df_actual_pred[\"experimental_value\"].values, df_actual_pred[\"predicted_value\"].values, title=\"Predicted and experimental pIC50 values\", xtext=\"Experimental pIC50 [log units]\", ytext=\"Predicted pIC50 [log units]\")\n",
    "fig.savefig(\"predictedvsexperimental.pdf\", dpi=300)"
   ]
  },
  {
   "cell_type": "code",
   "execution_count": null,
   "id": "a08b3af4",
   "metadata": {},
   "outputs": [],
   "source": [
    "from sklearn.metrics import mean_squared_error, r2_score"
   ]
  },
  {
   "cell_type": "code",
   "execution_count": 4,
   "id": "d7a8117c",
   "metadata": {},
   "outputs": [
    {
     "data": {
      "application/vnd.plotly.v1+json": {
       "config": {
        "plotlyServerURL": "https://plot.ly"
       },
       "data": [
        {
         "hovertemplate": "experimental_value=%{x}<br>predicted_value=%{y}<br>prediction_residue=%{marker.color}<extra></extra>",
         "legendgroup": "",
         "marker": {
          "color": [
           1.170658172654444,
           0.02703664769316294,
           0.6892725452803372,
           1.0434759314118924,
           0.31716783290972295,
           0.011212415507088735,
           1.1357884948966923,
           0.33997154903832616,
           0.3439473212788373,
           0.8899428505464186,
           0.5711709701146201,
           0.02217377129645115,
           0.9566176148377652,
           0.4085391364455253,
           0.7635757139381179,
           0.15248872148103843,
           0.6728824103874622,
           0.023194578518961784,
           0.5239247032735976,
           0.07592599335508687,
           1.0173260303521312,
           1.139490304336019,
           0.030779107338281264,
           0.46433787482751754,
           0.4251128325741016,
           0.4026276520291816,
           0.8727590984313416,
           0.9828444052660803,
           0.3794906089820467,
           0.037635047279506395,
           0.8536397105017466,
           0.8725779999999999,
           0.7332516442155628,
           0.956061353952375,
           2.0303026433571443,
           0.6001480742857073,
           1.0117799411070934,
           0.47144513835558755,
           0.39473311212980544,
           0.1695500000000001,
           1.273275426016112,
           0.19315926573375464,
           0.3805384409443189,
           1.0371110000000003,
           0.9310149661514711,
           0.42321703633064445,
           0.0247015487564326,
           0.7024484130080566,
           0.7922184786217255,
           1.2231509599857429,
           0.3678523354571057,
           0.23303178026902405,
           1.1064576729937992,
           0.9658395135987634,
           0.6326082040819241,
           1.1092146191777932,
           0.6455307452803378,
           0.5489250644581318,
           0.7342191639824067,
           0.7274634098124357,
           0.11402017785443874,
           1.6200246599857433,
           0.5830572517174009,
           0.7748315935629373,
           0.4113104303992108,
           0.9151204992327129,
           0.4744408965353202,
           1.8464153556497243,
           0.3003785601221125,
           0.3335549999999996,
           0.39047708439731377,
           0.4606931775426686,
           0.5981691944163661,
           0.9123085079047506,
           0.2084837640812518,
           1.3467607452803376,
           0.46394769346350184,
           0.044201138253838756,
           1.2791945276673138,
           0.5480755035687324,
           0.009923970758825007,
           0.09626612764896603,
           1.067397959985743,
           0.010533887590568725,
           1.134849339298781,
           0.4003713148417747,
           0.07148457462474234,
           0.7367857086720369,
           1.2776172686577807,
           0.46706899297350013,
           0.9758913660821804,
           0.2296844913279621,
           0.5192359643217621,
           0.14485635395237484,
           2.097401304336019,
           0.3695242727482926,
           1.256537856642856,
           0.7670050514460653,
           0.33922130616572677,
           0.27099780540245,
           0.778323004336019,
           0.9222247096020988,
           0.3326205079047506,
           1.070381291327963,
           0.717434207623926,
           0.38392700433601856,
           0.8139670035687319,
           0.159987880269024,
           0.23914455651657995,
           0.2857380601221129,
           0.5833996676409354,
           0.8580158948966936,
           0.5447194596463882,
           1.1653482759330052,
           0.043120777668897325,
           0.27308708622465616,
           1.1137016686577805,
           0.9176670130080566,
           0.5973983620867873,
           0.06953865905568168,
           0.6181742401770318,
           1.177639731138247,
           0.31405035899667677,
           0.4839049836359255,
           0.36287580519679086,
           0.2663787399062816,
           0.5350844140744879,
           0.5958592358410133,
           0.030828546047625416,
           0.3455999956639815,
           0.8158889748275175,
           1.2326830918031373,
           2.1448614496163563,
           0.6207759090265723,
           1.231451053789601
          ],
          "coloraxis": "coloraxis",
          "size": 10,
          "symbol": "circle"
         },
         "mode": "markers",
         "name": "",
         "orientation": "v",
         "showlegend": false,
         "type": "scatter",
         "x": [
          7.036212172654444,
          5.886056647693163,
          6.522878745280337,
          6.736363931411892,
          5.752272167090277,
          5.048031415507089,
          7.744727494896693,
          6.374687549038327,
          6.195179321278838,
          7.200659450546419,
          5.35261702988538,
          5.716698771296451,
          6.906578314837765,
          6.297569463554475,
          6.075720713938118,
          6.600326278518962,
          4.667359589612538,
          6.600326278518962,
          5.554395796726403,
          7.050609993355087,
          6.892790030352131,
          7.698970004336019,
          6.583359492661719,
          6.113509274827518,
          6.690369832574102,
          5.585026652029182,
          5.007004901568658,
          6.6777807052660805,
          6.334419008982047,
          5.3223930472795065,
          6.2076083105017466,
          6,
          6.835647144215563,
          7.920818753952375,
          7.187086643357144,
          7.070581074285707,
          7.246416941107094,
          6.315154638355588,
          6.153662887870195,
          8,
          7.1938200260161125,
          5.013228265733755,
          5.823908740944319,
          8,
          6.663540266151471,
          7.596022036330645,
          6.0655015487564325,
          6.096910013008056,
          6.769551078621726,
          7.154901959985743,
          5.700573335457106,
          6.130768280269024,
          7.251811972993799,
          6.860120913598763,
          6.555955204081924,
          7.657577319177793,
          6.522878745280337,
          7.180456064458132,
          6.638272163982407,
          5.038816290187564,
          7.213248577854439,
          8.154901959985743,
          6.7594507517174005,
          5.236572006437063,
          7.275724130399211,
          7.443697499232713,
          6.17134010346468,
          7.455931955649724,
          6.481486060122113,
          6,
          5.002613615602686,
          6.6219656775426685,
          5.532391894416366,
          6.841637507904751,
          6.586700235918748,
          6.522878745280337,
          6.728158393463501,
          5.931814138253839,
          4.891096872332686,
          7.142667503568732,
          6.090443970758825,
          5.463694127648966,
          8.154901959985743,
          5.6728454875905685,
          4.982966660701219,
          5.958607314841775,
          6.074172425375258,
          7.397940008672037,
          7.552841968657781,
          7.4089353929735005,
          5.23284413391782,
          5.3979400086720375,
          6.853871964321762,
          5.920818753952375,
          8.698970004336019,
          5.127843727251707,
          5.187086643357144,
          7.031517051446065,
          6.508638306165727,
          7.00436480540245,
          6.301029995663981,
          7.376750709602099,
          4.841637507904751,
          5.3979400086720375,
          7.080921907623926,
          6.698970004336019,
          5.142667503568732,
          6.130768280269024,
          6.94692155651658,
          5.481486060122113,
          7.104025267640935,
          6.7447274948966935,
          6.939302159646388,
          7.431798275933005,
          5.490797477668897,
          6.346787486224656,
          6.552841968657781,
          7.096910013008056,
          6.692503962086787,
          5.823908740944319,
          7.267606240177032,
          6.480743131138247,
          6.347753658996677,
          5.838033383635925,
          5.2186036948032095,
          5.842845560093719,
          5.402304814074488,
          7.568636235841013,
          5.920818753952375,
          5.301029995663981,
          7.113509274827518,
          5.009217308196862,
          8.221848749616356,
          5.273272790973428,
          4.501689446210399
         ],
         "xaxis": "x",
         "y": [
          5.865554,
          5.85902,
          5.8336062,
          5.692888,
          6.06944,
          5.036819,
          6.608939,
          6.034716,
          5.851232,
          6.3107166,
          5.923788,
          5.694525,
          5.9499607,
          6.7061086,
          5.312145,
          6.752815,
          5.340242,
          6.5771317,
          6.0783205,
          6.974684,
          5.875464,
          6.5594797,
          6.6141386,
          5.6491714,
          6.265257,
          5.182399,
          5.879764,
          5.6949363,
          5.9549284,
          5.284758,
          5.3539686,
          6.872578,
          6.1023955,
          6.9647574,
          5.156784,
          6.470433,
          6.234637,
          5.8437095,
          6.548396,
          7.83045,
          5.9205446,
          4.820069,
          5.4433703,
          6.962889,
          5.7325253,
          7.172805,
          6.0408,
          5.3944616,
          5.9773326,
          5.931751,
          5.332721,
          5.8977365,
          6.1453543,
          5.8942814,
          5.923347,
          6.5483627,
          5.877348,
          6.631531,
          5.904053,
          5.7662797,
          7.0992284,
          6.5348773,
          6.1763935,
          6.0114036,
          6.8644137,
          6.528577,
          6.645781,
          5.6095166,
          6.1811075,
          5.666445,
          5.3930907,
          6.1612725,
          4.9342227,
          5.929329,
          6.795184,
          5.176118,
          6.2642107,
          5.887613,
          6.1702914,
          6.594592,
          6.08052,
          5.367428,
          7.087504,
          5.6623116,
          6.117816,
          5.558236,
          6.145657,
          6.6611543,
          6.2752247,
          6.9418664,
          6.2087355,
          5.6276245,
          6.334636,
          5.7759624,
          6.6015687,
          5.497368,
          6.4436245,
          6.264512,
          6.169417,
          6.733367,
          7.079353,
          6.454526,
          4.509017,
          6.4683213,
          6.3634877,
          6.315043,
          4.3287005,
          5.9707804,
          6.707777,
          5.195748,
          6.5206256,
          5.8867116,
          6.3945827,
          6.26645,
          5.4476767,
          6.0737004,
          5.4391403,
          6.179243,
          6.0951056,
          5.8934474,
          6.649432,
          5.3031034,
          6.0337033,
          5.3541284,
          5.5814795,
          6.1092243,
          4.8672204,
          6.972777,
          5.9516473,
          4.95543,
          6.2976203,
          6.2419004,
          6.0769873,
          5.8940487,
          5.7331405
         ],
         "yaxis": "y"
        }
       ],
       "layout": {
        "coloraxis": {
         "colorbar": {
          "title": {
           "text": "prediction_residue"
          }
         },
         "colorscale": [
          [
           0,
           "#0d0887"
          ],
          [
           0.1111111111111111,
           "#46039f"
          ],
          [
           0.2222222222222222,
           "#7201a8"
          ],
          [
           0.3333333333333333,
           "#9c179e"
          ],
          [
           0.4444444444444444,
           "#bd3786"
          ],
          [
           0.5555555555555556,
           "#d8576b"
          ],
          [
           0.6666666666666666,
           "#ed7953"
          ],
          [
           0.7777777777777778,
           "#fb9f3a"
          ],
          [
           0.8888888888888888,
           "#fdca26"
          ],
          [
           1,
           "#f0f921"
          ]
         ]
        },
        "height": 800,
        "legend": {
         "orientation": "h",
         "tracegroupgap": 0
        },
        "template": {
         "data": {
          "bar": [
           {
            "error_x": {
             "color": "#2a3f5f"
            },
            "error_y": {
             "color": "#2a3f5f"
            },
            "marker": {
             "line": {
              "color": "#E5ECF6",
              "width": 0.5
             },
             "pattern": {
              "fillmode": "overlay",
              "size": 10,
              "solidity": 0.2
             }
            },
            "type": "bar"
           }
          ],
          "barpolar": [
           {
            "marker": {
             "line": {
              "color": "#E5ECF6",
              "width": 0.5
             },
             "pattern": {
              "fillmode": "overlay",
              "size": 10,
              "solidity": 0.2
             }
            },
            "type": "barpolar"
           }
          ],
          "carpet": [
           {
            "aaxis": {
             "endlinecolor": "#2a3f5f",
             "gridcolor": "white",
             "linecolor": "white",
             "minorgridcolor": "white",
             "startlinecolor": "#2a3f5f"
            },
            "baxis": {
             "endlinecolor": "#2a3f5f",
             "gridcolor": "white",
             "linecolor": "white",
             "minorgridcolor": "white",
             "startlinecolor": "#2a3f5f"
            },
            "type": "carpet"
           }
          ],
          "choropleth": [
           {
            "colorbar": {
             "outlinewidth": 0,
             "ticks": ""
            },
            "type": "choropleth"
           }
          ],
          "contour": [
           {
            "colorbar": {
             "outlinewidth": 0,
             "ticks": ""
            },
            "colorscale": [
             [
              0,
              "#0d0887"
             ],
             [
              0.1111111111111111,
              "#46039f"
             ],
             [
              0.2222222222222222,
              "#7201a8"
             ],
             [
              0.3333333333333333,
              "#9c179e"
             ],
             [
              0.4444444444444444,
              "#bd3786"
             ],
             [
              0.5555555555555556,
              "#d8576b"
             ],
             [
              0.6666666666666666,
              "#ed7953"
             ],
             [
              0.7777777777777778,
              "#fb9f3a"
             ],
             [
              0.8888888888888888,
              "#fdca26"
             ],
             [
              1,
              "#f0f921"
             ]
            ],
            "type": "contour"
           }
          ],
          "contourcarpet": [
           {
            "colorbar": {
             "outlinewidth": 0,
             "ticks": ""
            },
            "type": "contourcarpet"
           }
          ],
          "heatmap": [
           {
            "colorbar": {
             "outlinewidth": 0,
             "ticks": ""
            },
            "colorscale": [
             [
              0,
              "#0d0887"
             ],
             [
              0.1111111111111111,
              "#46039f"
             ],
             [
              0.2222222222222222,
              "#7201a8"
             ],
             [
              0.3333333333333333,
              "#9c179e"
             ],
             [
              0.4444444444444444,
              "#bd3786"
             ],
             [
              0.5555555555555556,
              "#d8576b"
             ],
             [
              0.6666666666666666,
              "#ed7953"
             ],
             [
              0.7777777777777778,
              "#fb9f3a"
             ],
             [
              0.8888888888888888,
              "#fdca26"
             ],
             [
              1,
              "#f0f921"
             ]
            ],
            "type": "heatmap"
           }
          ],
          "heatmapgl": [
           {
            "colorbar": {
             "outlinewidth": 0,
             "ticks": ""
            },
            "colorscale": [
             [
              0,
              "#0d0887"
             ],
             [
              0.1111111111111111,
              "#46039f"
             ],
             [
              0.2222222222222222,
              "#7201a8"
             ],
             [
              0.3333333333333333,
              "#9c179e"
             ],
             [
              0.4444444444444444,
              "#bd3786"
             ],
             [
              0.5555555555555556,
              "#d8576b"
             ],
             [
              0.6666666666666666,
              "#ed7953"
             ],
             [
              0.7777777777777778,
              "#fb9f3a"
             ],
             [
              0.8888888888888888,
              "#fdca26"
             ],
             [
              1,
              "#f0f921"
             ]
            ],
            "type": "heatmapgl"
           }
          ],
          "histogram": [
           {
            "marker": {
             "pattern": {
              "fillmode": "overlay",
              "size": 10,
              "solidity": 0.2
             }
            },
            "type": "histogram"
           }
          ],
          "histogram2d": [
           {
            "colorbar": {
             "outlinewidth": 0,
             "ticks": ""
            },
            "colorscale": [
             [
              0,
              "#0d0887"
             ],
             [
              0.1111111111111111,
              "#46039f"
             ],
             [
              0.2222222222222222,
              "#7201a8"
             ],
             [
              0.3333333333333333,
              "#9c179e"
             ],
             [
              0.4444444444444444,
              "#bd3786"
             ],
             [
              0.5555555555555556,
              "#d8576b"
             ],
             [
              0.6666666666666666,
              "#ed7953"
             ],
             [
              0.7777777777777778,
              "#fb9f3a"
             ],
             [
              0.8888888888888888,
              "#fdca26"
             ],
             [
              1,
              "#f0f921"
             ]
            ],
            "type": "histogram2d"
           }
          ],
          "histogram2dcontour": [
           {
            "colorbar": {
             "outlinewidth": 0,
             "ticks": ""
            },
            "colorscale": [
             [
              0,
              "#0d0887"
             ],
             [
              0.1111111111111111,
              "#46039f"
             ],
             [
              0.2222222222222222,
              "#7201a8"
             ],
             [
              0.3333333333333333,
              "#9c179e"
             ],
             [
              0.4444444444444444,
              "#bd3786"
             ],
             [
              0.5555555555555556,
              "#d8576b"
             ],
             [
              0.6666666666666666,
              "#ed7953"
             ],
             [
              0.7777777777777778,
              "#fb9f3a"
             ],
             [
              0.8888888888888888,
              "#fdca26"
             ],
             [
              1,
              "#f0f921"
             ]
            ],
            "type": "histogram2dcontour"
           }
          ],
          "mesh3d": [
           {
            "colorbar": {
             "outlinewidth": 0,
             "ticks": ""
            },
            "type": "mesh3d"
           }
          ],
          "parcoords": [
           {
            "line": {
             "colorbar": {
              "outlinewidth": 0,
              "ticks": ""
             }
            },
            "type": "parcoords"
           }
          ],
          "pie": [
           {
            "automargin": true,
            "type": "pie"
           }
          ],
          "scatter": [
           {
            "fillpattern": {
             "fillmode": "overlay",
             "size": 10,
             "solidity": 0.2
            },
            "type": "scatter"
           }
          ],
          "scatter3d": [
           {
            "line": {
             "colorbar": {
              "outlinewidth": 0,
              "ticks": ""
             }
            },
            "marker": {
             "colorbar": {
              "outlinewidth": 0,
              "ticks": ""
             }
            },
            "type": "scatter3d"
           }
          ],
          "scattercarpet": [
           {
            "marker": {
             "colorbar": {
              "outlinewidth": 0,
              "ticks": ""
             }
            },
            "type": "scattercarpet"
           }
          ],
          "scattergeo": [
           {
            "marker": {
             "colorbar": {
              "outlinewidth": 0,
              "ticks": ""
             }
            },
            "type": "scattergeo"
           }
          ],
          "scattergl": [
           {
            "marker": {
             "colorbar": {
              "outlinewidth": 0,
              "ticks": ""
             }
            },
            "type": "scattergl"
           }
          ],
          "scattermapbox": [
           {
            "marker": {
             "colorbar": {
              "outlinewidth": 0,
              "ticks": ""
             }
            },
            "type": "scattermapbox"
           }
          ],
          "scatterpolar": [
           {
            "marker": {
             "colorbar": {
              "outlinewidth": 0,
              "ticks": ""
             }
            },
            "type": "scatterpolar"
           }
          ],
          "scatterpolargl": [
           {
            "marker": {
             "colorbar": {
              "outlinewidth": 0,
              "ticks": ""
             }
            },
            "type": "scatterpolargl"
           }
          ],
          "scatterternary": [
           {
            "marker": {
             "colorbar": {
              "outlinewidth": 0,
              "ticks": ""
             }
            },
            "type": "scatterternary"
           }
          ],
          "surface": [
           {
            "colorbar": {
             "outlinewidth": 0,
             "ticks": ""
            },
            "colorscale": [
             [
              0,
              "#0d0887"
             ],
             [
              0.1111111111111111,
              "#46039f"
             ],
             [
              0.2222222222222222,
              "#7201a8"
             ],
             [
              0.3333333333333333,
              "#9c179e"
             ],
             [
              0.4444444444444444,
              "#bd3786"
             ],
             [
              0.5555555555555556,
              "#d8576b"
             ],
             [
              0.6666666666666666,
              "#ed7953"
             ],
             [
              0.7777777777777778,
              "#fb9f3a"
             ],
             [
              0.8888888888888888,
              "#fdca26"
             ],
             [
              1,
              "#f0f921"
             ]
            ],
            "type": "surface"
           }
          ],
          "table": [
           {
            "cells": {
             "fill": {
              "color": "#EBF0F8"
             },
             "line": {
              "color": "white"
             }
            },
            "header": {
             "fill": {
              "color": "#C8D4E3"
             },
             "line": {
              "color": "white"
             }
            },
            "type": "table"
           }
          ]
         },
         "layout": {
          "annotationdefaults": {
           "arrowcolor": "#2a3f5f",
           "arrowhead": 0,
           "arrowwidth": 1
          },
          "autotypenumbers": "strict",
          "coloraxis": {
           "colorbar": {
            "outlinewidth": 0,
            "ticks": ""
           }
          },
          "colorscale": {
           "diverging": [
            [
             0,
             "#8e0152"
            ],
            [
             0.1,
             "#c51b7d"
            ],
            [
             0.2,
             "#de77ae"
            ],
            [
             0.3,
             "#f1b6da"
            ],
            [
             0.4,
             "#fde0ef"
            ],
            [
             0.5,
             "#f7f7f7"
            ],
            [
             0.6,
             "#e6f5d0"
            ],
            [
             0.7,
             "#b8e186"
            ],
            [
             0.8,
             "#7fbc41"
            ],
            [
             0.9,
             "#4d9221"
            ],
            [
             1,
             "#276419"
            ]
           ],
           "sequential": [
            [
             0,
             "#0d0887"
            ],
            [
             0.1111111111111111,
             "#46039f"
            ],
            [
             0.2222222222222222,
             "#7201a8"
            ],
            [
             0.3333333333333333,
             "#9c179e"
            ],
            [
             0.4444444444444444,
             "#bd3786"
            ],
            [
             0.5555555555555556,
             "#d8576b"
            ],
            [
             0.6666666666666666,
             "#ed7953"
            ],
            [
             0.7777777777777778,
             "#fb9f3a"
            ],
            [
             0.8888888888888888,
             "#fdca26"
            ],
            [
             1,
             "#f0f921"
            ]
           ],
           "sequentialminus": [
            [
             0,
             "#0d0887"
            ],
            [
             0.1111111111111111,
             "#46039f"
            ],
            [
             0.2222222222222222,
             "#7201a8"
            ],
            [
             0.3333333333333333,
             "#9c179e"
            ],
            [
             0.4444444444444444,
             "#bd3786"
            ],
            [
             0.5555555555555556,
             "#d8576b"
            ],
            [
             0.6666666666666666,
             "#ed7953"
            ],
            [
             0.7777777777777778,
             "#fb9f3a"
            ],
            [
             0.8888888888888888,
             "#fdca26"
            ],
            [
             1,
             "#f0f921"
            ]
           ]
          },
          "colorway": [
           "#636efa",
           "#EF553B",
           "#00cc96",
           "#ab63fa",
           "#FFA15A",
           "#19d3f3",
           "#FF6692",
           "#B6E880",
           "#FF97FF",
           "#FECB52"
          ],
          "font": {
           "color": "#2a3f5f"
          },
          "geo": {
           "bgcolor": "white",
           "lakecolor": "white",
           "landcolor": "#E5ECF6",
           "showlakes": true,
           "showland": true,
           "subunitcolor": "white"
          },
          "hoverlabel": {
           "align": "left"
          },
          "hovermode": "closest",
          "mapbox": {
           "style": "light"
          },
          "paper_bgcolor": "white",
          "plot_bgcolor": "#E5ECF6",
          "polar": {
           "angularaxis": {
            "gridcolor": "white",
            "linecolor": "white",
            "ticks": ""
           },
           "bgcolor": "#E5ECF6",
           "radialaxis": {
            "gridcolor": "white",
            "linecolor": "white",
            "ticks": ""
           }
          },
          "scene": {
           "xaxis": {
            "backgroundcolor": "#E5ECF6",
            "gridcolor": "white",
            "gridwidth": 2,
            "linecolor": "white",
            "showbackground": true,
            "ticks": "",
            "zerolinecolor": "white"
           },
           "yaxis": {
            "backgroundcolor": "#E5ECF6",
            "gridcolor": "white",
            "gridwidth": 2,
            "linecolor": "white",
            "showbackground": true,
            "ticks": "",
            "zerolinecolor": "white"
           },
           "zaxis": {
            "backgroundcolor": "#E5ECF6",
            "gridcolor": "white",
            "gridwidth": 2,
            "linecolor": "white",
            "showbackground": true,
            "ticks": "",
            "zerolinecolor": "white"
           }
          },
          "shapedefaults": {
           "line": {
            "color": "#2a3f5f"
           }
          },
          "ternary": {
           "aaxis": {
            "gridcolor": "white",
            "linecolor": "white",
            "ticks": ""
           },
           "baxis": {
            "gridcolor": "white",
            "linecolor": "white",
            "ticks": ""
           },
           "bgcolor": "#E5ECF6",
           "caxis": {
            "gridcolor": "white",
            "linecolor": "white",
            "ticks": ""
           }
          },
          "title": {
           "x": 0.05
          },
          "xaxis": {
           "automargin": true,
           "gridcolor": "white",
           "linecolor": "white",
           "ticks": "",
           "title": {
            "standoff": 15
           },
           "zerolinecolor": "white",
           "zerolinewidth": 2
          },
          "yaxis": {
           "automargin": true,
           "gridcolor": "white",
           "linecolor": "white",
           "ticks": "",
           "title": {
            "standoff": 15
           },
           "zerolinecolor": "white",
           "zerolinewidth": 2
          }
         }
        },
        "title": {
         "automargin": true,
         "font": {
          "size": 28
         },
         "text": "Androgen receptor, predicted vs. actual scatter plot",
         "yref": "paper"
        },
        "width": 1200,
        "xaxis": {
         "anchor": "y",
         "domain": [
          0,
          1
         ],
         "range": [
          4,
          9
         ],
         "tickfont": {
          "size": 20
         },
         "title": {
          "font": {
           "size": 20
          },
          "text": "Experimental pIC50 value (log units)"
         }
        },
        "yaxis": {
         "anchor": "x",
         "domain": [
          0,
          1
         ],
         "range": [
          4,
          9
         ],
         "tickfont": {
          "size": 20
         },
         "title": {
          "font": {
           "size": 20
          },
          "text": "Predicted pIC50 value (log units)"
         }
        }
       }
      }
     },
     "metadata": {},
     "output_type": "display_data"
    }
   ],
   "source": [
    "fig_scatter = px.scatter(df_actual_pred,\n",
    "                     x='experimental_value',\n",
    "                     y='predicted_value',\n",
    "                     color='prediction_residue',\n",
    "                     title='Androgen receptor, predicted vs. actual scatter plot',\n",
    "                    #  labels={'y_true': 'Measured Solubility'},\n",
    "                     width=1200,\n",
    "                     height=800, \n",
    "                     range_x=(4, 9),\n",
    "                     range_y=(4, 9)\n",
    "                    #  size_max=50\n",
    "                    #  marker=dict(size=12)\n",
    "                     )\n",
    "fig_scatter.update_traces(marker_size=10)\n",
    "fig_scatter.update_layout(\n",
    "    title=dict(text=\"Androgen receptor, predicted vs. actual scatter plot\", font=dict(size=28), automargin=True, yref='paper'),\n",
    "    xaxis_title=dict(text=\"Experimental pIC50 value (log units)\", font=dict(size=20)),\n",
    "    xaxis=dict(tickfont=dict(size=20)), \n",
    "    yaxis_title=dict(text=\"Predicted pIC50 value (log units)\", font=dict(size=20)),\n",
    "    yaxis=dict(tickfont=dict(size=20)),\n",
    "    legend=dict(orientation='h')\n",
    ")"
   ]
  },
  {
   "cell_type": "code",
   "execution_count": 6,
   "id": "499d18f8",
   "metadata": {},
   "outputs": [],
   "source": [
    "fig_scatter.write_image(\"test_set_scatter.png\")"
   ]
  },
  {
   "cell_type": "code",
   "execution_count": 14,
   "id": "b556c383",
   "metadata": {},
   "outputs": [
    {
     "data": {
      "text/plain": [
       "<Axes: >"
      ]
     },
     "execution_count": 14,
     "metadata": {},
     "output_type": "execute_result"
    },
    {
     "data": {
      "image/png": "[encoded data removed]",
      "text/plain": [
       "<Figure size 640x480 with 1 Axes>"
      ]
     },
     "metadata": {},
     "output_type": "display_data"
    }
   ],
   "source": [
    "df_actual_pred[\"prediction_residue\"].hist(bins=100, density=True, cumulative=True, histtype='step')"
   ]
  },
  {
   "cell_type": "code",
   "execution_count": 28,
   "id": "bc47d83b",
   "metadata": {},
   "outputs": [
    {
     "data": {
      "text/plain": [
       "0.6411167429490976"
      ]
     },
     "execution_count": 28,
     "metadata": {},
     "output_type": "execute_result"
    }
   ],
   "source": [
    "df_actual_pred[\"prediction_residue\"].mean()"
   ]
  },
  {
   "cell_type": "code",
   "execution_count": 10,
   "id": "1277ec2e",
   "metadata": {},
   "outputs": [
    {
     "data": {
      "text/plain": [
       "0.6296296296296297"
      ]
     },
     "execution_count": 10,
     "metadata": {},
     "output_type": "execute_result"
    }
   ],
   "source": [
    "t = 0.75\n",
    "df_actual_pred[df_actual_pred[\"prediction_residue\"] < t].shape[0] / df_actual_pred.shape[0] "
   ]
  },
  {
   "cell_type": "code",
   "execution_count": 16,
   "id": "cde8785c",
   "metadata": {},
   "outputs": [
    {
     "data": {
      "application/vnd.plotly.v1+json": {
       "config": {
        "plotlyServerURL": "https://plot.ly"
       },
       "data": [
        {
         "hovertemplate": "experimental_value=%{x}<br>predicted_value=%{y}<br>prediction_residue=%{marker.color}<extra></extra>",
         "legendgroup": "",
         "marker": {
          "color": [
           1.170658172654444,
           0.02703664769316294,
           0.6892725452803372,
           1.0434759314118924,
           0.31716783290972295,
           0.011212415507088735,
           1.1357884948966923,
           0.33997154903832616,
           0.3439473212788373,
           0.8899428505464186,
           0.5711709701146201,
           0.02217377129645115,
           0.9566176148377652,
           0.4085391364455253,
           0.7635757139381179,
           0.15248872148103843,
           0.6728824103874622,
           0.023194578518961784,
           0.5239247032735976,
           0.07592599335508687,
           1.0173260303521312,
           1.139490304336019,
           0.030779107338281264,
           0.46433787482751754,
           0.4251128325741016,
           0.4026276520291816,
           0.8727590984313416,
           0.9828444052660803,
           0.3794906089820467,
           0.037635047279506395,
           0.8536397105017466,
           0.8725779999999999,
           0.7332516442155628,
           0.956061353952375,
           2.0303026433571443,
           0.6001480742857073,
           1.0117799411070934,
           0.47144513835558755,
           0.39473311212980544,
           0.1695500000000001,
           1.273275426016112,
           0.19315926573375464,
           0.3805384409443189,
           1.0371110000000003,
           0.9310149661514711,
           0.42321703633064445,
           0.0247015487564326,
           0.7024484130080566,
           0.7922184786217255,
           1.2231509599857429,
           0.3678523354571057,
           0.23303178026902405,
           1.1064576729937992,
           0.9658395135987634,
           0.6326082040819241,
           1.1092146191777932,
           0.6455307452803378,
           0.5489250644581318,
           0.7342191639824067,
           0.7274634098124357,
           0.11402017785443874,
           1.6200246599857433,
           0.5830572517174009,
           0.7748315935629373,
           0.4113104303992108,
           0.9151204992327129,
           0.4744408965353202,
           1.8464153556497243,
           0.3003785601221125,
           0.3335549999999996,
           0.39047708439731377,
           0.4606931775426686,
           0.5981691944163661,
           0.9123085079047506,
           0.2084837640812518,
           1.3467607452803376,
           0.46394769346350184,
           0.044201138253838756,
           1.2791945276673138,
           0.5480755035687324,
           0.009923970758825007,
           0.09626612764896603,
           1.067397959985743,
           0.010533887590568725,
           1.134849339298781,
           0.4003713148417747,
           0.07148457462474234,
           0.7367857086720369,
           1.2776172686577807,
           0.46706899297350013,
           0.9758913660821804,
           0.2296844913279621,
           0.5192359643217621,
           0.14485635395237484,
           2.097401304336019,
           0.3695242727482926,
           1.256537856642856,
           0.7670050514460653,
           0.33922130616572677,
           0.27099780540245,
           0.778323004336019,
           0.9222247096020988,
           0.3326205079047506,
           1.070381291327963,
           0.717434207623926,
           0.38392700433601856,
           0.8139670035687319,
           0.159987880269024,
           0.23914455651657995,
           0.2857380601221129,
           0.5833996676409354,
           0.8580158948966936,
           0.5447194596463882,
           1.1653482759330052,
           0.043120777668897325,
           0.27308708622465616,
           1.1137016686577805,
           0.9176670130080566,
           0.5973983620867873,
           0.06953865905568168,
           0.6181742401770318,
           1.177639731138247,
           0.31405035899667677,
           0.4839049836359255,
           0.36287580519679086,
           0.2663787399062816,
           0.5350844140744879,
           0.5958592358410133,
           0.030828546047625416,
           0.3455999956639815,
           0.8158889748275175,
           1.2326830918031373,
           2.1448614496163563,
           0.6207759090265723,
           1.231451053789601
          ],
          "coloraxis": "coloraxis",
          "size": 10,
          "symbol": "circle"
         },
         "mode": "markers",
         "name": "",
         "orientation": "v",
         "showlegend": false,
         "type": "scatter",
         "x": [
          7.036212172654444,
          5.886056647693163,
          6.522878745280337,
          6.736363931411892,
          5.752272167090277,
          5.048031415507089,
          7.744727494896693,
          6.374687549038327,
          6.195179321278838,
          7.200659450546419,
          5.35261702988538,
          5.716698771296451,
          6.906578314837765,
          6.297569463554475,
          6.075720713938118,
          6.600326278518962,
          4.667359589612538,
          6.600326278518962,
          5.554395796726403,
          7.050609993355087,
          6.892790030352131,
          7.698970004336019,
          6.583359492661719,
          6.113509274827518,
          6.690369832574102,
          5.585026652029182,
          5.007004901568658,
          6.6777807052660805,
          6.334419008982047,
          5.3223930472795065,
          6.2076083105017466,
          6,
          6.835647144215563,
          7.920818753952375,
          7.187086643357144,
          7.070581074285707,
          7.246416941107094,
          6.315154638355588,
          6.153662887870195,
          8,
          7.1938200260161125,
          5.013228265733755,
          5.823908740944319,
          8,
          6.663540266151471,
          7.596022036330645,
          6.0655015487564325,
          6.096910013008056,
          6.769551078621726,
          7.154901959985743,
          5.700573335457106,
          6.130768280269024,
          7.251811972993799,
          6.860120913598763,
          6.555955204081924,
          7.657577319177793,
          6.522878745280337,
          7.180456064458132,
          6.638272163982407,
          5.038816290187564,
          7.213248577854439,
          8.154901959985743,
          6.7594507517174005,
          5.236572006437063,
          7.275724130399211,
          7.443697499232713,
          6.17134010346468,
          7.455931955649724,
          6.481486060122113,
          6,
          5.002613615602686,
          6.6219656775426685,
          5.532391894416366,
          6.841637507904751,
          6.586700235918748,
          6.522878745280337,
          6.728158393463501,
          5.931814138253839,
          4.891096872332686,
          7.142667503568732,
          6.090443970758825,
          5.463694127648966,
          8.154901959985743,
          5.6728454875905685,
          4.982966660701219,
          5.958607314841775,
          6.074172425375258,
          7.397940008672037,
          7.552841968657781,
          7.4089353929735005,
          5.23284413391782,
          5.3979400086720375,
          6.853871964321762,
          5.920818753952375,
          8.698970004336019,
          5.127843727251707,
          5.187086643357144,
          7.031517051446065,
          6.508638306165727,
          7.00436480540245,
          6.301029995663981,
          7.376750709602099,
          4.841637507904751,
          5.3979400086720375,
          7.080921907623926,
          6.698970004336019,
          5.142667503568732,
          6.130768280269024,
          6.94692155651658,
          5.481486060122113,
          7.104025267640935,
          6.7447274948966935,
          6.939302159646388,
          7.431798275933005,
          5.490797477668897,
          6.346787486224656,
          6.552841968657781,
          7.096910013008056,
          6.692503962086787,
          5.823908740944319,
          7.267606240177032,
          6.480743131138247,
          6.347753658996677,
          5.838033383635925,
          5.2186036948032095,
          5.842845560093719,
          5.402304814074488,
          7.568636235841013,
          5.920818753952375,
          5.301029995663981,
          7.113509274827518,
          5.009217308196862,
          8.221848749616356,
          5.273272790973428,
          4.501689446210399
         ],
         "xaxis": "x",
         "y": [
          5.865554,
          5.85902,
          5.8336062,
          5.692888,
          6.06944,
          5.036819,
          6.608939,
          6.034716,
          5.851232,
          6.3107166,
          5.923788,
          5.694525,
          5.9499607,
          6.7061086,
          5.312145,
          6.752815,
          5.340242,
          6.5771317,
          6.0783205,
          6.974684,
          5.875464,
          6.5594797,
          6.6141386,
          5.6491714,
          6.265257,
          5.182399,
          5.879764,
          5.6949363,
          5.9549284,
          5.284758,
          5.3539686,
          6.872578,
          6.1023955,
          6.9647574,
          5.156784,
          6.470433,
          6.234637,
          5.8437095,
          6.548396,
          7.83045,
          5.9205446,
          4.820069,
          5.4433703,
          6.962889,
          5.7325253,
          7.172805,
          6.0408,
          5.3944616,
          5.9773326,
          5.931751,
          5.332721,
          5.8977365,
          6.1453543,
          5.8942814,
          5.923347,
          6.5483627,
          5.877348,
          6.631531,
          5.904053,
          5.7662797,
          7.0992284,
          6.5348773,
          6.1763935,
          6.0114036,
          6.8644137,
          6.528577,
          6.645781,
          5.6095166,
          6.1811075,
          5.666445,
          5.3930907,
          6.1612725,
          4.9342227,
          5.929329,
          6.795184,
          5.176118,
          6.2642107,
          5.887613,
          6.1702914,
          6.594592,
          6.08052,
          5.367428,
          7.087504,
          5.6623116,
          6.117816,
          5.558236,
          6.145657,
          6.6611543,
          6.2752247,
          6.9418664,
          6.2087355,
          5.6276245,
          6.334636,
          5.7759624,
          6.6015687,
          5.497368,
          6.4436245,
          6.264512,
          6.169417,
          6.733367,
          7.079353,
          6.454526,
          4.509017,
          6.4683213,
          6.3634877,
          6.315043,
          4.3287005,
          5.9707804,
          6.707777,
          5.195748,
          6.5206256,
          5.8867116,
          6.3945827,
          6.26645,
          5.4476767,
          6.0737004,
          5.4391403,
          6.179243,
          6.0951056,
          5.8934474,
          6.649432,
          5.3031034,
          6.0337033,
          5.3541284,
          5.5814795,
          6.1092243,
          4.8672204,
          6.972777,
          5.9516473,
          4.95543,
          6.2976203,
          6.2419004,
          6.0769873,
          5.8940487,
          5.7331405
         ],
         "yaxis": "y"
        }
       ],
       "layout": {
        "coloraxis": {
         "colorbar": {
          "title": {
           "text": "prediction_residue"
          }
         },
         "colorscale": [
          [
           0,
           "#0d0887"
          ],
          [
           0.1111111111111111,
           "#46039f"
          ],
          [
           0.2222222222222222,
           "#7201a8"
          ],
          [
           0.3333333333333333,
           "#9c179e"
          ],
          [
           0.4444444444444444,
           "#bd3786"
          ],
          [
           0.5555555555555556,
           "#d8576b"
          ],
          [
           0.6666666666666666,
           "#ed7953"
          ],
          [
           0.7777777777777778,
           "#fb9f3a"
          ],
          [
           0.8888888888888888,
           "#fdca26"
          ],
          [
           1,
           "#f0f921"
          ]
         ]
        },
        "height": 800,
        "legend": {
         "tracegroupgap": 0
        },
        "template": {
         "data": {
          "bar": [
           {
            "error_x": {
             "color": "#2a3f5f"
            },
            "error_y": {
             "color": "#2a3f5f"
            },
            "marker": {
             "line": {
              "color": "#E5ECF6",
              "width": 0.5
             },
             "pattern": {
              "fillmode": "overlay",
              "size": 10,
              "solidity": 0.2
             }
            },
            "type": "bar"
           }
          ],
          "barpolar": [
           {
            "marker": {
             "line": {
              "color": "#E5ECF6",
              "width": 0.5
             },
             "pattern": {
              "fillmode": "overlay",
              "size": 10,
              "solidity": 0.2
             }
            },
            "type": "barpolar"
           }
          ],
          "carpet": [
           {
            "aaxis": {
             "endlinecolor": "#2a3f5f",
             "gridcolor": "white",
             "linecolor": "white",
             "minorgridcolor": "white",
             "startlinecolor": "#2a3f5f"
            },
            "baxis": {
             "endlinecolor": "#2a3f5f",
             "gridcolor": "white",
             "linecolor": "white",
             "minorgridcolor": "white",
             "startlinecolor": "#2a3f5f"
            },
            "type": "carpet"
           }
          ],
          "choropleth": [
           {
            "colorbar": {
             "outlinewidth": 0,
             "ticks": ""
            },
            "type": "choropleth"
           }
          ],
          "contour": [
           {
            "colorbar": {
             "outlinewidth": 0,
             "ticks": ""
            },
            "colorscale": [
             [
              0,
              "#0d0887"
             ],
             [
              0.1111111111111111,
              "#46039f"
             ],
             [
              0.2222222222222222,
              "#7201a8"
             ],
             [
              0.3333333333333333,
              "#9c179e"
             ],
             [
              0.4444444444444444,
              "#bd3786"
             ],
             [
              0.5555555555555556,
              "#d8576b"
             ],
             [
              0.6666666666666666,
              "#ed7953"
             ],
             [
              0.7777777777777778,
              "#fb9f3a"
             ],
             [
              0.8888888888888888,
              "#fdca26"
             ],
             [
              1,
              "#f0f921"
             ]
            ],
            "type": "contour"
           }
          ],
          "contourcarpet": [
           {
            "colorbar": {
             "outlinewidth": 0,
             "ticks": ""
            },
            "type": "contourcarpet"
           }
          ],
          "heatmap": [
           {
            "colorbar": {
             "outlinewidth": 0,
             "ticks": ""
            },
            "colorscale": [
             [
              0,
              "#0d0887"
             ],
             [
              0.1111111111111111,
              "#46039f"
             ],
             [
              0.2222222222222222,
              "#7201a8"
             ],
             [
              0.3333333333333333,
              "#9c179e"
             ],
             [
              0.4444444444444444,
              "#bd3786"
             ],
             [
              0.5555555555555556,
              "#d8576b"
             ],
             [
              0.6666666666666666,
              "#ed7953"
             ],
             [
              0.7777777777777778,
              "#fb9f3a"
             ],
             [
              0.8888888888888888,
              "#fdca26"
             ],
             [
              1,
              "#f0f921"
             ]
            ],
            "type": "heatmap"
           }
          ],
          "heatmapgl": [
           {
            "colorbar": {
             "outlinewidth": 0,
             "ticks": ""
            },
            "colorscale": [
             [
              0,
              "#0d0887"
             ],
             [
              0.1111111111111111,
              "#46039f"
             ],
             [
              0.2222222222222222,
              "#7201a8"
             ],
             [
              0.3333333333333333,
              "#9c179e"
             ],
             [
              0.4444444444444444,
              "#bd3786"
             ],
             [
              0.5555555555555556,
              "#d8576b"
             ],
             [
              0.6666666666666666,
              "#ed7953"
             ],
             [
              0.7777777777777778,
              "#fb9f3a"
             ],
             [
              0.8888888888888888,
              "#fdca26"
             ],
             [
              1,
              "#f0f921"
             ]
            ],
            "type": "heatmapgl"
           }
          ],
          "histogram": [
           {
            "marker": {
             "pattern": {
              "fillmode": "overlay",
              "size": 10,
              "solidity": 0.2
             }
            },
            "type": "histogram"
           }
          ],
          "histogram2d": [
           {
            "colorbar": {
             "outlinewidth": 0,
             "ticks": ""
            },
            "colorscale": [
             [
              0,
              "#0d0887"
             ],
             [
              0.1111111111111111,
              "#46039f"
             ],
             [
              0.2222222222222222,
              "#7201a8"
             ],
             [
              0.3333333333333333,
              "#9c179e"
             ],
             [
              0.4444444444444444,
              "#bd3786"
             ],
             [
              0.5555555555555556,
              "#d8576b"
             ],
             [
              0.6666666666666666,
              "#ed7953"
             ],
             [
              0.7777777777777778,
              "#fb9f3a"
             ],
             [
              0.8888888888888888,
              "#fdca26"
             ],
             [
              1,
              "#f0f921"
             ]
            ],
            "type": "histogram2d"
           }
          ],
          "histogram2dcontour": [
           {
            "colorbar": {
             "outlinewidth": 0,
             "ticks": ""
            },
            "colorscale": [
             [
              0,
              "#0d0887"
             ],
             [
              0.1111111111111111,
              "#46039f"
             ],
             [
              0.2222222222222222,
              "#7201a8"
             ],
             [
              0.3333333333333333,
              "#9c179e"
             ],
             [
              0.4444444444444444,
              "#bd3786"
             ],
             [
              0.5555555555555556,
              "#d8576b"
             ],
             [
              0.6666666666666666,
              "#ed7953"
             ],
             [
              0.7777777777777778,
              "#fb9f3a"
             ],
             [
              0.8888888888888888,
              "#fdca26"
             ],
             [
              1,
              "#f0f921"
             ]
            ],
            "type": "histogram2dcontour"
           }
          ],
          "mesh3d": [
           {
            "colorbar": {
             "outlinewidth": 0,
             "ticks": ""
            },
            "type": "mesh3d"
           }
          ],
          "parcoords": [
           {
            "line": {
             "colorbar": {
              "outlinewidth": 0,
              "ticks": ""
             }
            },
            "type": "parcoords"
           }
          ],
          "pie": [
           {
            "automargin": true,
            "type": "pie"
           }
          ],
          "scatter": [
           {
            "fillpattern": {
             "fillmode": "overlay",
             "size": 10,
             "solidity": 0.2
            },
            "type": "scatter"
           }
          ],
          "scatter3d": [
           {
            "line": {
             "colorbar": {
              "outlinewidth": 0,
              "ticks": ""
             }
            },
            "marker": {
             "colorbar": {
              "outlinewidth": 0,
              "ticks": ""
             }
            },
            "type": "scatter3d"
           }
          ],
          "scattercarpet": [
           {
            "marker": {
             "colorbar": {
              "outlinewidth": 0,
              "ticks": ""
             }
            },
            "type": "scattercarpet"
           }
          ],
          "scattergeo": [
           {
            "marker": {
             "colorbar": {
              "outlinewidth": 0,
              "ticks": ""
             }
            },
            "type": "scattergeo"
           }
          ],
          "scattergl": [
           {
            "marker": {
             "colorbar": {
              "outlinewidth": 0,
              "ticks": ""
             }
            },
            "type": "scattergl"
           }
          ],
          "scattermapbox": [
           {
            "marker": {
             "colorbar": {
              "outlinewidth": 0,
              "ticks": ""
             }
            },
            "type": "scattermapbox"
           }
          ],
          "scatterpolar": [
           {
            "marker": {
             "colorbar": {
              "outlinewidth": 0,
              "ticks": ""
             }
            },
            "type": "scatterpolar"
           }
          ],
          "scatterpolargl": [
           {
            "marker": {
             "colorbar": {
              "outlinewidth": 0,
              "ticks": ""
             }
            },
            "type": "scatterpolargl"
           }
          ],
          "scatterternary": [
           {
            "marker": {
             "colorbar": {
              "outlinewidth": 0,
              "ticks": ""
             }
            },
            "type": "scatterternary"
           }
          ],
          "surface": [
           {
            "colorbar": {
             "outlinewidth": 0,
             "ticks": ""
            },
            "colorscale": [
             [
              0,
              "#0d0887"
             ],
             [
              0.1111111111111111,
              "#46039f"
             ],
             [
              0.2222222222222222,
              "#7201a8"
             ],
             [
              0.3333333333333333,
              "#9c179e"
             ],
             [
              0.4444444444444444,
              "#bd3786"
             ],
             [
              0.5555555555555556,
              "#d8576b"
             ],
             [
              0.6666666666666666,
              "#ed7953"
             ],
             [
              0.7777777777777778,
              "#fb9f3a"
             ],
             [
              0.8888888888888888,
              "#fdca26"
             ],
             [
              1,
              "#f0f921"
             ]
            ],
            "type": "surface"
           }
          ],
          "table": [
           {
            "cells": {
             "fill": {
              "color": "#EBF0F8"
             },
             "line": {
              "color": "white"
             }
            },
            "header": {
             "fill": {
              "color": "#C8D4E3"
             },
             "line": {
              "color": "white"
             }
            },
            "type": "table"
           }
          ]
         },
         "layout": {
          "annotationdefaults": {
           "arrowcolor": "#2a3f5f",
           "arrowhead": 0,
           "arrowwidth": 1
          },
          "autotypenumbers": "strict",
          "coloraxis": {
           "colorbar": {
            "outlinewidth": 0,
            "ticks": ""
           }
          },
          "colorscale": {
           "diverging": [
            [
             0,
             "#8e0152"
            ],
            [
             0.1,
             "#c51b7d"
            ],
            [
             0.2,
             "#de77ae"
            ],
            [
             0.3,
             "#f1b6da"
            ],
            [
             0.4,
             "#fde0ef"
            ],
            [
             0.5,
             "#f7f7f7"
            ],
            [
             0.6,
             "#e6f5d0"
            ],
            [
             0.7,
             "#b8e186"
            ],
            [
             0.8,
             "#7fbc41"
            ],
            [
             0.9,
             "#4d9221"
            ],
            [
             1,
             "#276419"
            ]
           ],
           "sequential": [
            [
             0,
             "#0d0887"
            ],
            [
             0.1111111111111111,
             "#46039f"
            ],
            [
             0.2222222222222222,
             "#7201a8"
            ],
            [
             0.3333333333333333,
             "#9c179e"
            ],
            [
             0.4444444444444444,
             "#bd3786"
            ],
            [
             0.5555555555555556,
             "#d8576b"
            ],
            [
             0.6666666666666666,
             "#ed7953"
            ],
            [
             0.7777777777777778,
             "#fb9f3a"
            ],
            [
             0.8888888888888888,
             "#fdca26"
            ],
            [
             1,
             "#f0f921"
            ]
           ],
           "sequentialminus": [
            [
             0,
             "#0d0887"
            ],
            [
             0.1111111111111111,
             "#46039f"
            ],
            [
             0.2222222222222222,
             "#7201a8"
            ],
            [
             0.3333333333333333,
             "#9c179e"
            ],
            [
             0.4444444444444444,
             "#bd3786"
            ],
            [
             0.5555555555555556,
             "#d8576b"
            ],
            [
             0.6666666666666666,
             "#ed7953"
            ],
            [
             0.7777777777777778,
             "#fb9f3a"
            ],
            [
             0.8888888888888888,
             "#fdca26"
            ],
            [
             1,
             "#f0f921"
            ]
           ]
          },
          "colorway": [
           "#636efa",
           "#EF553B",
           "#00cc96",
           "#ab63fa",
           "#FFA15A",
           "#19d3f3",
           "#FF6692",
           "#B6E880",
           "#FF97FF",
           "#FECB52"
          ],
          "font": {
           "color": "#2a3f5f"
          },
          "geo": {
           "bgcolor": "white",
           "lakecolor": "white",
           "landcolor": "#E5ECF6",
           "showlakes": true,
           "showland": true,
           "subunitcolor": "white"
          },
          "hoverlabel": {
           "align": "left"
          },
          "hovermode": "closest",
          "mapbox": {
           "style": "light"
          },
          "paper_bgcolor": "white",
          "plot_bgcolor": "#E5ECF6",
          "polar": {
           "angularaxis": {
            "gridcolor": "white",
            "linecolor": "white",
            "ticks": ""
           },
           "bgcolor": "#E5ECF6",
           "radialaxis": {
            "gridcolor": "white",
            "linecolor": "white",
            "ticks": ""
           }
          },
          "scene": {
           "xaxis": {
            "backgroundcolor": "#E5ECF6",
            "gridcolor": "white",
            "gridwidth": 2,
            "linecolor": "white",
            "showbackground": true,
            "ticks": "",
            "zerolinecolor": "white"
           },
           "yaxis": {
            "backgroundcolor": "#E5ECF6",
            "gridcolor": "white",
            "gridwidth": 2,
            "linecolor": "white",
            "showbackground": true,
            "ticks": "",
            "zerolinecolor": "white"
           },
           "zaxis": {
            "backgroundcolor": "#E5ECF6",
            "gridcolor": "white",
            "gridwidth": 2,
            "linecolor": "white",
            "showbackground": true,
            "ticks": "",
            "zerolinecolor": "white"
           }
          },
          "shapedefaults": {
           "line": {
            "color": "#2a3f5f"
           }
          },
          "ternary": {
           "aaxis": {
            "gridcolor": "white",
            "linecolor": "white",
            "ticks": ""
           },
           "baxis": {
            "gridcolor": "white",
            "linecolor": "white",
            "ticks": ""
           },
           "bgcolor": "#E5ECF6",
           "caxis": {
            "gridcolor": "white",
            "linecolor": "white",
            "ticks": ""
           }
          },
          "title": {
           "x": 0.05
          },
          "xaxis": {
           "automargin": true,
           "gridcolor": "white",
           "linecolor": "white",
           "ticks": "",
           "title": {
            "standoff": 15
           },
           "zerolinecolor": "white",
           "zerolinewidth": 2
          },
          "yaxis": {
           "automargin": true,
           "gridcolor": "white",
           "linecolor": "white",
           "ticks": "",
           "title": {
            "standoff": 15
           },
           "zerolinecolor": "white",
           "zerolinewidth": 2
          }
         }
        },
        "title": {
         "text": "Androgen receptor, predicted vs. actual scatter plot"
        },
        "width": 1200,
        "xaxis": {
         "anchor": "y",
         "domain": [
          0,
          1
         ],
         "range": [
          4,
          9
         ],
         "title": {
          "text": "experimental_value"
         }
        },
        "yaxis": {
         "anchor": "x",
         "domain": [
          0,
          1
         ],
         "range": [
          4,
          9
         ],
         "title": {
          "text": "predicted_value"
         }
        }
       }
      }
     },
     "metadata": {},
     "output_type": "display_data"
    }
   ],
   "source": [
    "fig_scatter"
   ]
  },
  {
   "cell_type": "code",
   "execution_count": null,
   "id": "25a4d56e",
   "metadata": {},
   "outputs": [],
   "source": []
  },
  {
   "cell_type": "code",
   "execution_count": 6,
   "id": "b78fb737",
   "metadata": {},
   "outputs": [
    {
     "data": {
      "text/html": [
       "\n",
       "        <iframe\n",
       "            width=\"100%\"\n",
       "            height=\"650\"\n",
       "            src=\"http://127.0.0.1:8707/\"\n",
       "            frameborder=\"0\"\n",
       "            allowfullscreen\n",
       "            \n",
       "        ></iframe>\n",
       "        "
      ],
      "text/plain": [
       "<IPython.lib.display.IFrame at 0x19a5c7e2b50>"
      ]
     },
     "metadata": {},
     "output_type": "display_data"
    },
    {
     "data": {
      "text/html": [
       "\n",
       "        <iframe\n",
       "            width=\"100%\"\n",
       "            height=\"850\"\n",
       "            src=\"http://127.0.0.1:8707/\"\n",
       "            frameborder=\"0\"\n",
       "            allowfullscreen\n",
       "            \n",
       "        ></iframe>\n",
       "        "
      ],
      "text/plain": [
       "<IPython.lib.display.IFrame at 0x19a5c7bfc10>"
      ]
     },
     "metadata": {},
     "output_type": "display_data"
    }
   ],
   "source": [
    "app_pca = molplotly.add_molecules(fig=fig_scatter,\n",
    "                                  df=df_actual_pred.reset_index(),\n",
    "                                  smiles_col='coms_canonical_smiles',\n",
    "                                  title_col='index',\n",
    "                                  caption_cols=['prediction_residue'],\n",
    "                                #   caption_transform={'Measured Solubility': lambda x: f\"{x:.2f}\"},\n",
    "                                  color_col='prediction_residue',\n",
    "                                  show_coords=False)\n",
    "app_pca.run_server(mode='inline', port=8707, height=850)"
   ]
  },
  {
   "cell_type": "code",
   "execution_count": 13,
   "id": "59021007",
   "metadata": {},
   "outputs": [
    {
     "data": {
      "text/plain": [
       "['CC(C)c1cc(=O)[nH]c2ccc(N(CC(F)(F)F)CC(F)(F)F)cc12',\n",
       " 'CN1CCN(OC(=O)N[C@@H]2C[C@]3(C)O[C@]2(C)[C@@H]2C(=O)N(c4ccc(C#N)c(C(F)(F)F)c4)C(=O)[C@@H]23)CC1',\n",
       " 'C[C@](O)(Cn1cc(Br)c(F)n1)C(=O)Nc1cnc(C#N)c(C(F)(F)F)c1',\n",
       " 'CCN[C@H]1C[C@H](C)S(=O)(=O)c2sc(S(N)(=O)=O)cc21']"
      ]
     },
     "execution_count": 13,
     "metadata": {},
     "output_type": "execute_result"
    }
   ],
   "source": [
    "sms = df_actual_pred.loc[[331, 842, 1172, 298], \"coms_canonical_smiles\"].to_list()\n",
    "sms"
   ]
  },
  {
   "cell_type": "code",
   "execution_count": 18,
   "id": "9c0f60aa",
   "metadata": {},
   "outputs": [
    {
     "data": {
      "image/png": "[encoded data removed]",
      "text/plain": [
       "<IPython.core.display.Image object>"
      ]
     },
     "execution_count": 18,
     "metadata": {},
     "output_type": "execute_result"
    }
   ],
   "source": [
    "Draw.MolsToGridImage([Chem.MolFromSmiles(item) for item in sms], subImgSize=(300, 300))"
   ]
  },
  {
   "attachments": {},
   "cell_type": "markdown",
   "id": "f39897fc",
   "metadata": {},
   "source": [
    "# Classifier"
   ]
  },
  {
   "cell_type": "code",
   "execution_count": 2,
   "id": "bd2a1ab1",
   "metadata": {},
   "outputs": [],
   "source": [
    "with open(co.TRAINING_CONF_DIR/\"ar_xgboost_classifier_pca50.json\", \"r\") as f:\n",
    "    training_params = json.load(f)"
   ]
  },
  {
   "cell_type": "code",
   "execution_count": 3,
   "id": "eb9b53d2",
   "metadata": {},
   "outputs": [
    {
     "data": {
      "text/html": [
       "<div>\n",
       "<style scoped>\n",
       "    .dataframe tbody tr th:only-of-type {\n",
       "        vertical-align: middle;\n",
       "    }\n",
       "\n",
       "    .dataframe tbody tr th {\n",
       "        vertical-align: top;\n",
       "    }\n",
       "\n",
       "    .dataframe thead th {\n",
       "        text-align: right;\n",
       "    }\n",
       "</style>\n",
       "<table border=\"1\" class=\"dataframe\">\n",
       "  <thead>\n",
       "    <tr style=\"text-align: right;\">\n",
       "      <th></th>\n",
       "      <th>coms_canonical_smiles</th>\n",
       "      <th>experimental_value</th>\n",
       "      <th>predicted_value</th>\n",
       "    </tr>\n",
       "  </thead>\n",
       "  <tbody>\n",
       "    <tr>\n",
       "      <th>1637</th>\n",
       "      <td>CCc1cc2c(C(F)(F)F)cc(=O)[nH]c2cc1N</td>\n",
       "      <td>1</td>\n",
       "      <td>0.922289</td>\n",
       "    </tr>\n",
       "    <tr>\n",
       "      <th>649</th>\n",
       "      <td>N#Cc1ccc(SCC2CC2)cc1C(F)(F)F</td>\n",
       "      <td>1</td>\n",
       "      <td>0.988288</td>\n",
       "    </tr>\n",
       "    <tr>\n",
       "      <th>1658</th>\n",
       "      <td>CCOC(=O)C(CC)Oc1ccc2c(C)cc(=O)oc2c1</td>\n",
       "      <td>0</td>\n",
       "      <td>0.011701</td>\n",
       "    </tr>\n",
       "    <tr>\n",
       "      <th>544</th>\n",
       "      <td>C[C@@H](Nc1cc(C(F)(F)F)c(C#N)cn1)c1ccccc1</td>\n",
       "      <td>0</td>\n",
       "      <td>0.183066</td>\n",
       "    </tr>\n",
       "    <tr>\n",
       "      <th>1592</th>\n",
       "      <td>CC[C@@H]1CC2=CC(=O)CC[C@@H]2[C@H]2CC[C@@]3(CC)...</td>\n",
       "      <td>1</td>\n",
       "      <td>0.874896</td>\n",
       "    </tr>\n",
       "    <tr>\n",
       "      <th>...</th>\n",
       "      <td>...</td>\n",
       "      <td>...</td>\n",
       "      <td>...</td>\n",
       "    </tr>\n",
       "    <tr>\n",
       "      <th>1626</th>\n",
       "      <td>O=c1cc(C(F)(F)F)c2ccc(NC3CCC3)cc2[nH]1</td>\n",
       "      <td>1</td>\n",
       "      <td>0.944067</td>\n",
       "    </tr>\n",
       "    <tr>\n",
       "      <th>282</th>\n",
       "      <td>O=C1[C@@H]2C3C=CC(CCC3)[C@@H]2C(=O)N1c1ccc([N+...</td>\n",
       "      <td>1</td>\n",
       "      <td>0.847121</td>\n",
       "    </tr>\n",
       "    <tr>\n",
       "      <th>1194</th>\n",
       "      <td>Fc1ccc(C2=NOC3CCCCCC23)c(C(F)(F)F)c1</td>\n",
       "      <td>1</td>\n",
       "      <td>0.186525</td>\n",
       "    </tr>\n",
       "    <tr>\n",
       "      <th>1229</th>\n",
       "      <td>c1ccc(OCCCSc2nc3ccccc3[nH]2)cc1</td>\n",
       "      <td>0</td>\n",
       "      <td>0.002781</td>\n",
       "    </tr>\n",
       "    <tr>\n",
       "      <th>2155</th>\n",
       "      <td>Clc1cccc2c(-c3ccc4ccccc4n3)c[nH]c12</td>\n",
       "      <td>1</td>\n",
       "      <td>0.111685</td>\n",
       "    </tr>\n",
       "  </tbody>\n",
       "</table>\n",
       "<p>233 rows × 3 columns</p>\n",
       "</div>"
      ],
      "text/plain": [
       "                                  coms_canonical_smiles  experimental_value  \\\n",
       "1637                 CCc1cc2c(C(F)(F)F)cc(=O)[nH]c2cc1N                   1   \n",
       "649                        N#Cc1ccc(SCC2CC2)cc1C(F)(F)F                   1   \n",
       "1658                CCOC(=O)C(CC)Oc1ccc2c(C)cc(=O)oc2c1                   0   \n",
       "544           C[C@@H](Nc1cc(C(F)(F)F)c(C#N)cn1)c1ccccc1                   0   \n",
       "1592  CC[C@@H]1CC2=CC(=O)CC[C@@H]2[C@H]2CC[C@@]3(CC)...                   1   \n",
       "...                                                 ...                 ...   \n",
       "1626             O=c1cc(C(F)(F)F)c2ccc(NC3CCC3)cc2[nH]1                   1   \n",
       "282   O=C1[C@@H]2C3C=CC(CCC3)[C@@H]2C(=O)N1c1ccc([N+...                   1   \n",
       "1194               Fc1ccc(C2=NOC3CCCCCC23)c(C(F)(F)F)c1                   1   \n",
       "1229                    c1ccc(OCCCSc2nc3ccccc3[nH]2)cc1                   0   \n",
       "2155                Clc1cccc2c(-c3ccc4ccccc4n3)c[nH]c12                   1   \n",
       "\n",
       "      predicted_value  \n",
       "1637         0.922289  \n",
       "649          0.988288  \n",
       "1658         0.011701  \n",
       "544          0.183066  \n",
       "1592         0.874896  \n",
       "...               ...  \n",
       "1626         0.944067  \n",
       "282          0.847121  \n",
       "1194         0.186525  \n",
       "1229         0.002781  \n",
       "2155         0.111685  \n",
       "\n",
       "[233 rows x 3 columns]"
      ]
     },
     "execution_count": 3,
     "metadata": {},
     "output_type": "execute_result"
    }
   ],
   "source": [
    "df_actual_pred_classifier = pd.read_csv(\"C:/Users/rbachorz/Projects/qsarmodeler/qsarmodeler/data/processed/ar/classifier_validation_actual_predicted.csv\", index_col=\"Unnamed: 0\")\n",
    "df_actual_pred_classifier[\"experimental_value\"] = df_actual_pred_classifier[\"experimental_value\"].astype(int)\n",
    "df_actual_pred_classifier"
   ]
  },
  {
   "cell_type": "code",
   "execution_count": 12,
   "id": "458e32db",
   "metadata": {},
   "outputs": [],
   "source": [
    "y_train = df_actual_pred_classifier[\"experimental_value\"]\n",
    "y_train_pred = df_actual_pred_classifier[\"predicted_value\"]\n",
    "\n",
    "pr = precision_score(y_train, y_train_pred > training_params[\"training_aux_data\"][\"threshold\"])\n",
    "re = recall_score(y_train, y_train_pred > training_params[\"training_aux_data\"][\"threshold\"])\n",
    "spe = recall_score(y_train, y_train_pred > training_params[\"training_aux_data\"][\"threshold\"], pos_label=False)\n",
    "acc = accuracy_score(y_train, y_train_pred > training_params[\"training_aux_data\"][\"threshold\"])\n",
    "f1 = f1_score(y_train, y_train_pred > training_params[\"training_aux_data\"][\"threshold\"])\n",
    "rocauc = roc_auc_score(y_train, y_train_pred > training_params[\"training_aux_data\"][\"threshold\"])\n",
    "ap = average_precision_score(y_train, y_train_pred > training_params[\"training_aux_data\"][\"threshold\"])\n",
    "mcc = matthews_corrcoef(y_train, y_train_pred > training_params[\"training_aux_data\"][\"threshold\"])"
   ]
  },
  {
   "cell_type": "code",
   "execution_count": 13,
   "id": "262e31c0",
   "metadata": {},
   "outputs": [
    {
     "name": "stderr",
     "output_type": "stream",
     "text": [
      "INFO:Accuracy on hold-out: 82.000000\n",
      "INFO:Precision on hold-out: 85.400000\n",
      "INFO:Recall/Sensitivity on hold-out: 85.400000\n",
      "INFO:Specificity on hold-out: 76.400000\n",
      "INFO:F1-score on hold-out: 85.400000\n",
      "INFO:ROC-AUC on hold-out: 80.900000\n",
      "INFO:Average precision on hold-out: 82.000000\n",
      "INFO:MCC on hold-out: 61.800000\n"
     ]
    }
   ],
   "source": [
    "logging.info(\"Accuracy on hold-out: %f\", np.round(acc*100, 1))\n",
    "logging.info(\"Precision on hold-out: %f\", np.round(pr*100, 1))\n",
    "logging.info(\"Recall/Sensitivity on hold-out: %f\", np.round(re*100, 1))\n",
    "logging.info(\"Specificity on hold-out: %f\", np.round(spe*100, 1))\n",
    "logging.info(\"F1-score on hold-out: %f\", np.round(f1*100, 1))\n",
    "logging.info(\"ROC-AUC on hold-out: %f\", np.round(rocauc*100, 1))\n",
    "logging.info(\"Average precision on hold-out: %f\", np.round(ap*100, 1))\n",
    "logging.info(\"MCC on hold-out: %f\", np.round(mcc*100, 1))"
   ]
  },
  {
   "cell_type": "code",
   "execution_count": 16,
   "id": "e5dd6eb6",
   "metadata": {},
   "outputs": [],
   "source": [
    "fpr, tpr, _ = roc_curve(y_train, y_train_pred)"
   ]
  },
  {
   "cell_type": "code",
   "execution_count": 28,
   "id": "68a95ffa",
   "metadata": {},
   "outputs": [
    {
     "name": "stderr",
     "output_type": "stream",
     "text": [
      "DEBUG:Assigning font /F1 = 'C:\\\\Users\\\\rbachorz\\\\AppData\\\\Local\\\\miniconda3\\\\envs\\\\chemspace\\\\Lib\\\\site-packages\\\\matplotlib\\\\mpl-data\\\\fonts\\\\ttf\\\\DejaVuSans.ttf'\n"
     ]
    },
    {
     "name": "stderr",
     "output_type": "stream",
     "text": [
      "DEBUG:Embedding font C:\\Users\\rbachorz\\AppData\\Local\\miniconda3\\envs\\chemspace\\Lib\\site-packages\\matplotlib\\mpl-data\\fonts\\ttf\\DejaVuSans.ttf.\n",
      "DEBUG:Writing TrueType font.\n"
     ]
    },
    {
     "data": {
      "image/png": "[encoded data removed]",
      "text/plain": [
       "<Figure size 1000x800 with 1 Axes>"
      ]
     },
     "metadata": {},
     "output_type": "display_data"
    }
   ],
   "source": [
    "def roc_plot(x, y, title, confidence=None, xtext=\"Actual\", ytext=\"Predicted\", ideal=True):\n",
    "    fig, ax = plt.subplots(figsize=(10, 8), facecolor=\"white\")\n",
    "    plt.plot(x, y)\n",
    "    p1 = max(max(y), max(x)) + 1.0\n",
    "    p2 = min(min(y), min(x)) - 1.0\n",
    "    if ideal:\n",
    "        plt.plot([p1, p2], [p1, p2], 'k-')\n",
    "    plt.grid()\n",
    "    ax.set_title(title, fontsize=18)\n",
    "    ax = plt.gca()\n",
    "    ax.set_xlabel(xtext, fontsize=16)\n",
    "    ax.set_ylabel(ytext, fontsize=16)\n",
    "    return ax, fig\n",
    "_, fig = roc_plot(fpr, tpr, title=\"ROC curve\", xtext=\"False positive rate\", ytext=\"True positive rate\", ideal=False)\n",
    "fig.savefig(\"roccurve.pdf\", dpi=300)"
   ]
  },
  {
   "cell_type": "code",
   "execution_count": null,
   "id": "894bbb4d",
   "metadata": {},
   "outputs": [],
   "source": []
  }
 ],
 "metadata": {
  "kernelspec": {
   "display_name": "Python 3.8.13 ('rorgammaqsar')",
   "language": "python",
   "name": "python3"
  },
  "language_info": {
   "codemirror_mode": {
    "name": "ipython",
    "version": 3
   },
   "file_extension": ".py",
   "mimetype": "text/x-python",
   "name": "python",
   "nbconvert_exporter": "python",
   "pygments_lexer": "ipython3",
   "version": "3.8.17"
  },
  "vscode": {
   "interpreter": {
    "hash": "acfffd18c244b8f5a510cc01b749d984390c6dc8073ed7353ae0aaf37db191b1"
   }
  }
 },
 "nbformat": 4,
 "nbformat_minor": 5
}
