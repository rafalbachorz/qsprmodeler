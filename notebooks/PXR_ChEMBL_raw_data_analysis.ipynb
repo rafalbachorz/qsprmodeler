{
 "cells": [
  {
   "cell_type": "code",
   "execution_count": 1,
   "id": "11ab27d4",
   "metadata": {},
   "outputs": [],
   "source": [
    "import pandas as pd\n",
    "import matplotlib.pyplot as plt\n",
    "import numpy as np"
   ]
  },
  {
   "cell_type": "code",
   "execution_count": 2,
   "id": "084a5dce",
   "metadata": {},
   "outputs": [],
   "source": [
    "data = pd.read_csv('../data/PXR_ChEMBL_data.csv', sep=';')"
   ]
  },
  {
   "cell_type": "code",
   "execution_count": 3,
   "id": "b8c550f4",
   "metadata": {},
   "outputs": [
    {
     "data": {
      "text/html": [
       "<div>\n",
       "<style scoped>\n",
       "    .dataframe tbody tr th:only-of-type {\n",
       "        vertical-align: middle;\n",
       "    }\n",
       "\n",
       "    .dataframe tbody tr th {\n",
       "        vertical-align: top;\n",
       "    }\n",
       "\n",
       "    .dataframe thead th {\n",
       "        text-align: right;\n",
       "    }\n",
       "</style>\n",
       "<table border=\"1\" class=\"dataframe\">\n",
       "  <thead>\n",
       "    <tr style=\"text-align: right;\">\n",
       "      <th></th>\n",
       "      <th>Molecule ChEMBL ID</th>\n",
       "      <th>Molecule Name</th>\n",
       "      <th>Molecule Max Phase</th>\n",
       "      <th>Molecular Weight</th>\n",
       "      <th>#RO5 Violations</th>\n",
       "      <th>AlogP</th>\n",
       "      <th>Compound Key</th>\n",
       "      <th>Smiles</th>\n",
       "      <th>Standard Type</th>\n",
       "      <th>Standard Relation</th>\n",
       "      <th>...</th>\n",
       "      <th>Target Organism</th>\n",
       "      <th>Target Type</th>\n",
       "      <th>Document ChEMBL ID</th>\n",
       "      <th>Source ID</th>\n",
       "      <th>Source Description</th>\n",
       "      <th>Document Journal</th>\n",
       "      <th>Document Year</th>\n",
       "      <th>Cell ChEMBL ID</th>\n",
       "      <th>Properties</th>\n",
       "      <th>Action Type</th>\n",
       "    </tr>\n",
       "  </thead>\n",
       "  <tbody>\n",
       "    <tr>\n",
       "      <th>0</th>\n",
       "      <td>CHEMBL2037345</td>\n",
       "      <td>NaN</td>\n",
       "      <td>NaN</td>\n",
       "      <td>296.33</td>\n",
       "      <td>0.0</td>\n",
       "      <td>3.03</td>\n",
       "      <td>SID17507927</td>\n",
       "      <td>COc1ccc(/C=N/Nc2nc3ccccc3[nH]2)cc1OC</td>\n",
       "      <td>EC50</td>\n",
       "      <td>'='</td>\n",
       "      <td>...</td>\n",
       "      <td>Homo sapiens</td>\n",
       "      <td>SINGLE PROTEIN</td>\n",
       "      <td>CHEMBL1201862</td>\n",
       "      <td>7</td>\n",
       "      <td>PubChem BioAssays</td>\n",
       "      <td>NaN</td>\n",
       "      <td>NaN</td>\n",
       "      <td>NaN</td>\n",
       "      <td>NaN</td>\n",
       "      <td>NaN</td>\n",
       "    </tr>\n",
       "    <tr>\n",
       "      <th>1</th>\n",
       "      <td>CHEMBL1576542</td>\n",
       "      <td>NaN</td>\n",
       "      <td>NaN</td>\n",
       "      <td>279.30</td>\n",
       "      <td>0.0</td>\n",
       "      <td>1.39</td>\n",
       "      <td>SID17409056</td>\n",
       "      <td>N#C/C(=C/c1ccccc1)c1nn(CCO)c(N)c1C#N</td>\n",
       "      <td>EC50</td>\n",
       "      <td>'='</td>\n",
       "      <td>...</td>\n",
       "      <td>Homo sapiens</td>\n",
       "      <td>SINGLE PROTEIN</td>\n",
       "      <td>CHEMBL1201862</td>\n",
       "      <td>7</td>\n",
       "      <td>PubChem BioAssays</td>\n",
       "      <td>NaN</td>\n",
       "      <td>NaN</td>\n",
       "      <td>NaN</td>\n",
       "      <td>NaN</td>\n",
       "      <td>NaN</td>\n",
       "    </tr>\n",
       "    <tr>\n",
       "      <th>2</th>\n",
       "      <td>CHEMBL1481360</td>\n",
       "      <td>NaN</td>\n",
       "      <td>NaN</td>\n",
       "      <td>310.35</td>\n",
       "      <td>0.0</td>\n",
       "      <td>3.64</td>\n",
       "      <td>SID7967615</td>\n",
       "      <td>CCCCc1cc2c(c(NC(C)=O)n1)c(=O)oc1ccccc12</td>\n",
       "      <td>EC50</td>\n",
       "      <td>'='</td>\n",
       "      <td>...</td>\n",
       "      <td>Homo sapiens</td>\n",
       "      <td>SINGLE PROTEIN</td>\n",
       "      <td>CHEMBL1201862</td>\n",
       "      <td>7</td>\n",
       "      <td>PubChem BioAssays</td>\n",
       "      <td>NaN</td>\n",
       "      <td>NaN</td>\n",
       "      <td>NaN</td>\n",
       "      <td>NaN</td>\n",
       "      <td>NaN</td>\n",
       "    </tr>\n",
       "    <tr>\n",
       "      <th>3</th>\n",
       "      <td>CHEMBL1567449</td>\n",
       "      <td>NaN</td>\n",
       "      <td>NaN</td>\n",
       "      <td>243.27</td>\n",
       "      <td>0.0</td>\n",
       "      <td>2.73</td>\n",
       "      <td>SID24804627</td>\n",
       "      <td>COc1ccccc1NC(=O)Nc1cccnc1</td>\n",
       "      <td>EC50</td>\n",
       "      <td>'&gt;'</td>\n",
       "      <td>...</td>\n",
       "      <td>Homo sapiens</td>\n",
       "      <td>SINGLE PROTEIN</td>\n",
       "      <td>CHEMBL1201862</td>\n",
       "      <td>7</td>\n",
       "      <td>PubChem BioAssays</td>\n",
       "      <td>NaN</td>\n",
       "      <td>NaN</td>\n",
       "      <td>NaN</td>\n",
       "      <td>NaN</td>\n",
       "      <td>NaN</td>\n",
       "    </tr>\n",
       "    <tr>\n",
       "      <th>4</th>\n",
       "      <td>CHEMBL1327628</td>\n",
       "      <td>NaN</td>\n",
       "      <td>NaN</td>\n",
       "      <td>282.13</td>\n",
       "      <td>0.0</td>\n",
       "      <td>4.03</td>\n",
       "      <td>SID24796875</td>\n",
       "      <td>O=C(Nc1cccnc1)Nc1cc(Cl)cc(Cl)c1</td>\n",
       "      <td>EC50</td>\n",
       "      <td>'&gt;'</td>\n",
       "      <td>...</td>\n",
       "      <td>Homo sapiens</td>\n",
       "      <td>SINGLE PROTEIN</td>\n",
       "      <td>CHEMBL1201862</td>\n",
       "      <td>7</td>\n",
       "      <td>PubChem BioAssays</td>\n",
       "      <td>NaN</td>\n",
       "      <td>NaN</td>\n",
       "      <td>NaN</td>\n",
       "      <td>NaN</td>\n",
       "      <td>NaN</td>\n",
       "    </tr>\n",
       "  </tbody>\n",
       "</table>\n",
       "<p>5 rows × 46 columns</p>\n",
       "</div>"
      ],
      "text/plain": [
       "  Molecule ChEMBL ID Molecule Name  Molecule Max Phase  Molecular Weight   \n",
       "0      CHEMBL2037345           NaN                 NaN            296.33  \\\n",
       "1      CHEMBL1576542           NaN                 NaN            279.30   \n",
       "2      CHEMBL1481360           NaN                 NaN            310.35   \n",
       "3      CHEMBL1567449           NaN                 NaN            243.27   \n",
       "4      CHEMBL1327628           NaN                 NaN            282.13   \n",
       "\n",
       "   #RO5 Violations  AlogP Compound Key   \n",
       "0              0.0   3.03  SID17507927  \\\n",
       "1              0.0   1.39  SID17409056   \n",
       "2              0.0   3.64   SID7967615   \n",
       "3              0.0   2.73  SID24804627   \n",
       "4              0.0   4.03  SID24796875   \n",
       "\n",
       "                                    Smiles Standard Type Standard Relation   \n",
       "0     COc1ccc(/C=N/Nc2nc3ccccc3[nH]2)cc1OC          EC50               '='  \\\n",
       "1     N#C/C(=C/c1ccccc1)c1nn(CCO)c(N)c1C#N          EC50               '='   \n",
       "2  CCCCc1cc2c(c(NC(C)=O)n1)c(=O)oc1ccccc12          EC50               '='   \n",
       "3                COc1ccccc1NC(=O)Nc1cccnc1          EC50               '>'   \n",
       "4          O=C(Nc1cccnc1)Nc1cc(Cl)cc(Cl)c1          EC50               '>'   \n",
       "\n",
       "   ...  Target Organism     Target Type  Document ChEMBL ID Source ID   \n",
       "0  ...     Homo sapiens  SINGLE PROTEIN       CHEMBL1201862         7  \\\n",
       "1  ...     Homo sapiens  SINGLE PROTEIN       CHEMBL1201862         7   \n",
       "2  ...     Homo sapiens  SINGLE PROTEIN       CHEMBL1201862         7   \n",
       "3  ...     Homo sapiens  SINGLE PROTEIN       CHEMBL1201862         7   \n",
       "4  ...     Homo sapiens  SINGLE PROTEIN       CHEMBL1201862         7   \n",
       "\n",
       "  Source Description Document Journal  Document Year  Cell ChEMBL ID   \n",
       "0  PubChem BioAssays              NaN            NaN             NaN  \\\n",
       "1  PubChem BioAssays              NaN            NaN             NaN   \n",
       "2  PubChem BioAssays              NaN            NaN             NaN   \n",
       "3  PubChem BioAssays              NaN            NaN             NaN   \n",
       "4  PubChem BioAssays              NaN            NaN             NaN   \n",
       "\n",
       "   Properties  Action Type  \n",
       "0         NaN          NaN  \n",
       "1         NaN          NaN  \n",
       "2         NaN          NaN  \n",
       "3         NaN          NaN  \n",
       "4         NaN          NaN  \n",
       "\n",
       "[5 rows x 46 columns]"
      ]
     },
     "execution_count": 3,
     "metadata": {},
     "output_type": "execute_result"
    }
   ],
   "source": [
    "data.head()"
   ]
  },
  {
   "cell_type": "code",
   "execution_count": 4,
   "id": "a4e1c0bc",
   "metadata": {},
   "outputs": [
    {
     "data": {
      "text/plain": [
       "Index(['Molecule ChEMBL ID', 'Molecule Name', 'Molecule Max Phase',\n",
       "       'Molecular Weight', '#RO5 Violations', 'AlogP', 'Compound Key',\n",
       "       'Smiles', 'Standard Type', 'Standard Relation', 'Standard Value',\n",
       "       'Standard Units', 'pChEMBL Value', 'Data Validity Comment', 'Comment',\n",
       "       'Uo Units', 'Ligand Efficiency BEI', 'Ligand Efficiency LE',\n",
       "       'Ligand Efficiency LLE', 'Ligand Efficiency SEI', 'Potential Duplicate',\n",
       "       'Assay ChEMBL ID', 'Assay Description', 'Assay Type', 'BAO Format ID',\n",
       "       'BAO Label', 'Assay Organism', 'Assay Tissue ChEMBL ID',\n",
       "       'Assay Tissue Name', 'Assay Cell Type', 'Assay Subcellular Fraction',\n",
       "       'Assay Parameters', 'Assay Variant Accession', 'Assay Variant Mutation',\n",
       "       'Target ChEMBL ID', 'Target Name', 'Target Organism', 'Target Type',\n",
       "       'Document ChEMBL ID', 'Source ID', 'Source Description',\n",
       "       'Document Journal', 'Document Year', 'Cell ChEMBL ID', 'Properties',\n",
       "       'Action Type'],\n",
       "      dtype='object')"
      ]
     },
     "execution_count": 4,
     "metadata": {},
     "output_type": "execute_result"
    }
   ],
   "source": [
    "data.columns"
   ]
  },
  {
   "cell_type": "code",
   "execution_count": 5,
   "id": "f88f1f32",
   "metadata": {},
   "outputs": [
    {
     "data": {
      "text/plain": [
       "0     67346.0\n",
       "1     82975.0\n",
       "2     88714.0\n",
       "3    116108.0\n",
       "4    116099.0\n",
       "Name: Standard Value, dtype: float64"
      ]
     },
     "execution_count": 5,
     "metadata": {},
     "output_type": "execute_result"
    }
   ],
   "source": [
    "data['Standard Value'].head()"
   ]
  },
  {
   "cell_type": "code",
   "execution_count": 6,
   "id": "26d174a1",
   "metadata": {},
   "outputs": [
    {
     "data": {
      "text/plain": [
       "0    nM\n",
       "1    nM\n",
       "2    nM\n",
       "3    nM\n",
       "4    nM\n",
       "Name: Standard Units, dtype: object"
      ]
     },
     "execution_count": 6,
     "metadata": {},
     "output_type": "execute_result"
    }
   ],
   "source": [
    "data['Standard Units'].head()"
   ]
  },
  {
   "cell_type": "code",
   "execution_count": 7,
   "id": "9f29ec9c",
   "metadata": {},
   "outputs": [
    {
     "data": {
      "text/plain": [
       "<Axes: >"
      ]
     },
     "execution_count": 7,
     "metadata": {},
     "output_type": "execute_result"
    },
    {
     "data": {
      "image/png": "[encoded data removed]",
      "text/plain": [
       "<Figure size 640x480 with 1 Axes>"
      ]
     },
     "metadata": {},
     "output_type": "display_data"
    }
   ],
   "source": [
    "data['Standard Value'].hist(bins=10)"
   ]
  },
  {
   "cell_type": "code",
   "execution_count": 8,
   "id": "3406ab87",
   "metadata": {},
   "outputs": [
    {
     "data": {
      "text/plain": [
       "count    1.114000e+03\n",
       "mean     3.142795e+04\n",
       "std      1.305093e+05\n",
       "min      7.000000e-01\n",
       "25%      1.600000e+03\n",
       "50%      1.000000e+04\n",
       "75%      3.160000e+04\n",
       "max      3.871000e+06\n",
       "Name: Standard Value, dtype: float64"
      ]
     },
     "execution_count": 8,
     "metadata": {},
     "output_type": "execute_result"
    }
   ],
   "source": [
    "data['Standard Value'].describe()"
   ]
  },
  {
   "cell_type": "code",
   "execution_count": 9,
   "id": "02d1ca59",
   "metadata": {},
   "outputs": [
    {
     "data": {
      "text/plain": [
       "<Axes: >"
      ]
     },
     "execution_count": 9,
     "metadata": {},
     "output_type": "execute_result"
    },
    {
     "data": {
      "image/png": "[encoded data removed]",
      "text/plain": [
       "<Figure size 640x480 with 1 Axes>"
      ]
     },
     "metadata": {},
     "output_type": "display_data"
    }
   ],
   "source": [
    "data['Standard Units'].hist()"
   ]
  },
  {
   "cell_type": "code",
   "execution_count": 10,
   "id": "193f9062",
   "metadata": {},
   "outputs": [],
   "source": [
    "x = data[data['Standard Value'] > 0]"
   ]
  },
  {
   "cell_type": "code",
   "execution_count": 11,
   "id": "fa9b07b9",
   "metadata": {},
   "outputs": [
    {
     "data": {
      "text/plain": [
       "(1114, 46)"
      ]
     },
     "execution_count": 11,
     "metadata": {},
     "output_type": "execute_result"
    }
   ],
   "source": [
    "x.shape"
   ]
  },
  {
   "cell_type": "code",
   "execution_count": 12,
   "id": "179aa15d",
   "metadata": {},
   "outputs": [
    {
     "data": {
      "text/html": [
       "<div>\n",
       "<style scoped>\n",
       "    .dataframe tbody tr th:only-of-type {\n",
       "        vertical-align: middle;\n",
       "    }\n",
       "\n",
       "    .dataframe tbody tr th {\n",
       "        vertical-align: top;\n",
       "    }\n",
       "\n",
       "    .dataframe thead th {\n",
       "        text-align: right;\n",
       "    }\n",
       "</style>\n",
       "<table border=\"1\" class=\"dataframe\">\n",
       "  <thead>\n",
       "    <tr style=\"text-align: right;\">\n",
       "      <th></th>\n",
       "      <th>Molecule ChEMBL ID</th>\n",
       "      <th>Molecule Name</th>\n",
       "      <th>Molecule Max Phase</th>\n",
       "      <th>Molecular Weight</th>\n",
       "      <th>#RO5 Violations</th>\n",
       "      <th>AlogP</th>\n",
       "      <th>Compound Key</th>\n",
       "      <th>Smiles</th>\n",
       "      <th>Standard Type</th>\n",
       "      <th>Standard Relation</th>\n",
       "      <th>...</th>\n",
       "      <th>Target Organism</th>\n",
       "      <th>Target Type</th>\n",
       "      <th>Document ChEMBL ID</th>\n",
       "      <th>Source ID</th>\n",
       "      <th>Source Description</th>\n",
       "      <th>Document Journal</th>\n",
       "      <th>Document Year</th>\n",
       "      <th>Cell ChEMBL ID</th>\n",
       "      <th>Properties</th>\n",
       "      <th>Action Type</th>\n",
       "    </tr>\n",
       "  </thead>\n",
       "  <tbody>\n",
       "  </tbody>\n",
       "</table>\n",
       "<p>0 rows × 46 columns</p>\n",
       "</div>"
      ],
      "text/plain": [
       "Empty DataFrame\n",
       "Columns: [Molecule ChEMBL ID, Molecule Name, Molecule Max Phase, Molecular Weight, #RO5 Violations, AlogP, Compound Key, Smiles, Standard Type, Standard Relation, Standard Value, Standard Units, pChEMBL Value, Data Validity Comment, Comment, Uo Units, Ligand Efficiency BEI, Ligand Efficiency LE, Ligand Efficiency LLE, Ligand Efficiency SEI, Potential Duplicate, Assay ChEMBL ID, Assay Description, Assay Type, BAO Format ID, BAO Label, Assay Organism, Assay Tissue ChEMBL ID, Assay Tissue Name, Assay Cell Type, Assay Subcellular Fraction, Assay Parameters, Assay Variant Accession, Assay Variant Mutation, Target ChEMBL ID, Target Name, Target Organism, Target Type, Document ChEMBL ID, Source ID, Source Description, Document Journal, Document Year, Cell ChEMBL ID, Properties, Action Type]\n",
       "Index: []\n",
       "\n",
       "[0 rows x 46 columns]"
      ]
     },
     "execution_count": 12,
     "metadata": {},
     "output_type": "execute_result"
    }
   ],
   "source": [
    "y = data[data['Standard Value'] == 0]\n",
    "y"
   ]
  },
  {
   "cell_type": "code",
   "execution_count": 13,
   "id": "06960b45",
   "metadata": {},
   "outputs": [],
   "source": [
    "z = pd.isna(data['Standard Value'])\n",
    "number = []\n",
    "for i, element in enumerate(z):\n",
    "    if element == True:\n",
    "        number.append([i,element])\n",
    "    else:\n",
    "        pass"
   ]
  },
  {
   "cell_type": "code",
   "execution_count": 14,
   "id": "1a8a3981",
   "metadata": {},
   "outputs": [
    {
     "data": {
      "text/plain": [
       "[33, True]"
      ]
     },
     "execution_count": 14,
     "metadata": {},
     "output_type": "execute_result"
    }
   ],
   "source": [
    "number[0]"
   ]
  },
  {
   "cell_type": "code",
   "execution_count": 15,
   "id": "8f2271fc",
   "metadata": {},
   "outputs": [
    {
     "data": {
      "text/plain": [
       "73"
      ]
     },
     "execution_count": 15,
     "metadata": {},
     "output_type": "execute_result"
    }
   ],
   "source": [
    "len(number)"
   ]
  },
  {
   "cell_type": "code",
   "execution_count": 16,
   "id": "9c74433f",
   "metadata": {},
   "outputs": [
    {
     "data": {
      "text/plain": [
       "(1187, 46)"
      ]
     },
     "execution_count": 16,
     "metadata": {},
     "output_type": "execute_result"
    }
   ],
   "source": [
    "data.shape"
   ]
  },
  {
   "cell_type": "code",
   "execution_count": 17,
   "id": "7a0953ff",
   "metadata": {},
   "outputs": [
    {
     "data": {
      "text/plain": [
       "(1114, 46)"
      ]
     },
     "execution_count": 17,
     "metadata": {},
     "output_type": "execute_result"
    }
   ],
   "source": [
    "x.shape"
   ]
  },
  {
   "cell_type": "code",
   "execution_count": 18,
   "id": "2c36cc1a",
   "metadata": {},
   "outputs": [
    {
     "data": {
      "text/plain": [
       "73"
      ]
     },
     "execution_count": 18,
     "metadata": {},
     "output_type": "execute_result"
    }
   ],
   "source": [
    "data.shape[0] - x.shape[0]"
   ]
  },
  {
   "cell_type": "markdown",
   "id": "8385f568",
   "metadata": {},
   "source": [
    "## data traformation"
   ]
  },
  {
   "cell_type": "code",
   "execution_count": 19,
   "id": "f45c1889",
   "metadata": {},
   "outputs": [],
   "source": [
    "def transform(target_val):\n",
    "    transformed = []\n",
    "    for element in target_val:\n",
    "        transformed.append(-1.0 * np.log10(element/1000000000))\n",
    "    return transformed\n",
    "\n",
    "def inverse_transform(transformed_values):\n",
    "    inversed = []\n",
    "    for element in transformed_values:\n",
    "        inversed.append(np.power(10,-element)*1000000000)\n",
    "    return inversed"
   ]
  },
  {
   "cell_type": "code",
   "execution_count": 20,
   "id": "66d6d396",
   "metadata": {},
   "outputs": [
    {
     "data": {
      "text/html": [
       "<div>\n",
       "<style scoped>\n",
       "    .dataframe tbody tr th:only-of-type {\n",
       "        vertical-align: middle;\n",
       "    }\n",
       "\n",
       "    .dataframe tbody tr th {\n",
       "        vertical-align: top;\n",
       "    }\n",
       "\n",
       "    .dataframe thead th {\n",
       "        text-align: right;\n",
       "    }\n",
       "</style>\n",
       "<table border=\"1\" class=\"dataframe\">\n",
       "  <thead>\n",
       "    <tr style=\"text-align: right;\">\n",
       "      <th></th>\n",
       "      <th>Molecule ChEMBL ID</th>\n",
       "      <th>Molecule Name</th>\n",
       "      <th>Molecule Max Phase</th>\n",
       "      <th>Molecular Weight</th>\n",
       "      <th>#RO5 Violations</th>\n",
       "      <th>AlogP</th>\n",
       "      <th>Compound Key</th>\n",
       "      <th>Smiles</th>\n",
       "      <th>Standard Type</th>\n",
       "      <th>Standard Relation</th>\n",
       "      <th>...</th>\n",
       "      <th>Target Organism</th>\n",
       "      <th>Target Type</th>\n",
       "      <th>Document ChEMBL ID</th>\n",
       "      <th>Source ID</th>\n",
       "      <th>Source Description</th>\n",
       "      <th>Document Journal</th>\n",
       "      <th>Document Year</th>\n",
       "      <th>Cell ChEMBL ID</th>\n",
       "      <th>Properties</th>\n",
       "      <th>Action Type</th>\n",
       "    </tr>\n",
       "  </thead>\n",
       "  <tbody>\n",
       "    <tr>\n",
       "      <th>0</th>\n",
       "      <td>CHEMBL2037345</td>\n",
       "      <td>NaN</td>\n",
       "      <td>NaN</td>\n",
       "      <td>296.33</td>\n",
       "      <td>0.0</td>\n",
       "      <td>3.03</td>\n",
       "      <td>SID17507927</td>\n",
       "      <td>COc1ccc(/C=N/Nc2nc3ccccc3[nH]2)cc1OC</td>\n",
       "      <td>EC50</td>\n",
       "      <td>'='</td>\n",
       "      <td>...</td>\n",
       "      <td>Homo sapiens</td>\n",
       "      <td>SINGLE PROTEIN</td>\n",
       "      <td>CHEMBL1201862</td>\n",
       "      <td>7</td>\n",
       "      <td>PubChem BioAssays</td>\n",
       "      <td>NaN</td>\n",
       "      <td>NaN</td>\n",
       "      <td>NaN</td>\n",
       "      <td>NaN</td>\n",
       "      <td>NaN</td>\n",
       "    </tr>\n",
       "    <tr>\n",
       "      <th>1</th>\n",
       "      <td>CHEMBL1576542</td>\n",
       "      <td>NaN</td>\n",
       "      <td>NaN</td>\n",
       "      <td>279.30</td>\n",
       "      <td>0.0</td>\n",
       "      <td>1.39</td>\n",
       "      <td>SID17409056</td>\n",
       "      <td>N#C/C(=C/c1ccccc1)c1nn(CCO)c(N)c1C#N</td>\n",
       "      <td>EC50</td>\n",
       "      <td>'='</td>\n",
       "      <td>...</td>\n",
       "      <td>Homo sapiens</td>\n",
       "      <td>SINGLE PROTEIN</td>\n",
       "      <td>CHEMBL1201862</td>\n",
       "      <td>7</td>\n",
       "      <td>PubChem BioAssays</td>\n",
       "      <td>NaN</td>\n",
       "      <td>NaN</td>\n",
       "      <td>NaN</td>\n",
       "      <td>NaN</td>\n",
       "      <td>NaN</td>\n",
       "    </tr>\n",
       "    <tr>\n",
       "      <th>2</th>\n",
       "      <td>CHEMBL1481360</td>\n",
       "      <td>NaN</td>\n",
       "      <td>NaN</td>\n",
       "      <td>310.35</td>\n",
       "      <td>0.0</td>\n",
       "      <td>3.64</td>\n",
       "      <td>SID7967615</td>\n",
       "      <td>CCCCc1cc2c(c(NC(C)=O)n1)c(=O)oc1ccccc12</td>\n",
       "      <td>EC50</td>\n",
       "      <td>'='</td>\n",
       "      <td>...</td>\n",
       "      <td>Homo sapiens</td>\n",
       "      <td>SINGLE PROTEIN</td>\n",
       "      <td>CHEMBL1201862</td>\n",
       "      <td>7</td>\n",
       "      <td>PubChem BioAssays</td>\n",
       "      <td>NaN</td>\n",
       "      <td>NaN</td>\n",
       "      <td>NaN</td>\n",
       "      <td>NaN</td>\n",
       "      <td>NaN</td>\n",
       "    </tr>\n",
       "    <tr>\n",
       "      <th>3</th>\n",
       "      <td>CHEMBL1567449</td>\n",
       "      <td>NaN</td>\n",
       "      <td>NaN</td>\n",
       "      <td>243.27</td>\n",
       "      <td>0.0</td>\n",
       "      <td>2.73</td>\n",
       "      <td>SID24804627</td>\n",
       "      <td>COc1ccccc1NC(=O)Nc1cccnc1</td>\n",
       "      <td>EC50</td>\n",
       "      <td>'&gt;'</td>\n",
       "      <td>...</td>\n",
       "      <td>Homo sapiens</td>\n",
       "      <td>SINGLE PROTEIN</td>\n",
       "      <td>CHEMBL1201862</td>\n",
       "      <td>7</td>\n",
       "      <td>PubChem BioAssays</td>\n",
       "      <td>NaN</td>\n",
       "      <td>NaN</td>\n",
       "      <td>NaN</td>\n",
       "      <td>NaN</td>\n",
       "      <td>NaN</td>\n",
       "    </tr>\n",
       "    <tr>\n",
       "      <th>4</th>\n",
       "      <td>CHEMBL1327628</td>\n",
       "      <td>NaN</td>\n",
       "      <td>NaN</td>\n",
       "      <td>282.13</td>\n",
       "      <td>0.0</td>\n",
       "      <td>4.03</td>\n",
       "      <td>SID24796875</td>\n",
       "      <td>O=C(Nc1cccnc1)Nc1cc(Cl)cc(Cl)c1</td>\n",
       "      <td>EC50</td>\n",
       "      <td>'&gt;'</td>\n",
       "      <td>...</td>\n",
       "      <td>Homo sapiens</td>\n",
       "      <td>SINGLE PROTEIN</td>\n",
       "      <td>CHEMBL1201862</td>\n",
       "      <td>7</td>\n",
       "      <td>PubChem BioAssays</td>\n",
       "      <td>NaN</td>\n",
       "      <td>NaN</td>\n",
       "      <td>NaN</td>\n",
       "      <td>NaN</td>\n",
       "      <td>NaN</td>\n",
       "    </tr>\n",
       "  </tbody>\n",
       "</table>\n",
       "<p>5 rows × 46 columns</p>\n",
       "</div>"
      ],
      "text/plain": [
       "  Molecule ChEMBL ID Molecule Name  Molecule Max Phase  Molecular Weight   \n",
       "0      CHEMBL2037345           NaN                 NaN            296.33  \\\n",
       "1      CHEMBL1576542           NaN                 NaN            279.30   \n",
       "2      CHEMBL1481360           NaN                 NaN            310.35   \n",
       "3      CHEMBL1567449           NaN                 NaN            243.27   \n",
       "4      CHEMBL1327628           NaN                 NaN            282.13   \n",
       "\n",
       "   #RO5 Violations  AlogP Compound Key   \n",
       "0              0.0   3.03  SID17507927  \\\n",
       "1              0.0   1.39  SID17409056   \n",
       "2              0.0   3.64   SID7967615   \n",
       "3              0.0   2.73  SID24804627   \n",
       "4              0.0   4.03  SID24796875   \n",
       "\n",
       "                                    Smiles Standard Type Standard Relation   \n",
       "0     COc1ccc(/C=N/Nc2nc3ccccc3[nH]2)cc1OC          EC50               '='  \\\n",
       "1     N#C/C(=C/c1ccccc1)c1nn(CCO)c(N)c1C#N          EC50               '='   \n",
       "2  CCCCc1cc2c(c(NC(C)=O)n1)c(=O)oc1ccccc12          EC50               '='   \n",
       "3                COc1ccccc1NC(=O)Nc1cccnc1          EC50               '>'   \n",
       "4          O=C(Nc1cccnc1)Nc1cc(Cl)cc(Cl)c1          EC50               '>'   \n",
       "\n",
       "   ...  Target Organism     Target Type  Document ChEMBL ID Source ID   \n",
       "0  ...     Homo sapiens  SINGLE PROTEIN       CHEMBL1201862         7  \\\n",
       "1  ...     Homo sapiens  SINGLE PROTEIN       CHEMBL1201862         7   \n",
       "2  ...     Homo sapiens  SINGLE PROTEIN       CHEMBL1201862         7   \n",
       "3  ...     Homo sapiens  SINGLE PROTEIN       CHEMBL1201862         7   \n",
       "4  ...     Homo sapiens  SINGLE PROTEIN       CHEMBL1201862         7   \n",
       "\n",
       "  Source Description Document Journal  Document Year  Cell ChEMBL ID   \n",
       "0  PubChem BioAssays              NaN            NaN             NaN  \\\n",
       "1  PubChem BioAssays              NaN            NaN             NaN   \n",
       "2  PubChem BioAssays              NaN            NaN             NaN   \n",
       "3  PubChem BioAssays              NaN            NaN             NaN   \n",
       "4  PubChem BioAssays              NaN            NaN             NaN   \n",
       "\n",
       "   Properties  Action Type  \n",
       "0         NaN          NaN  \n",
       "1         NaN          NaN  \n",
       "2         NaN          NaN  \n",
       "3         NaN          NaN  \n",
       "4         NaN          NaN  \n",
       "\n",
       "[5 rows x 46 columns]"
      ]
     },
     "execution_count": 20,
     "metadata": {},
     "output_type": "execute_result"
    }
   ],
   "source": [
    "x.head()"
   ]
  },
  {
   "cell_type": "code",
   "execution_count": 21,
   "id": "a49d3c22",
   "metadata": {},
   "outputs": [
    {
     "data": {
      "text/html": [
       "<div>\n",
       "<style scoped>\n",
       "    .dataframe tbody tr th:only-of-type {\n",
       "        vertical-align: middle;\n",
       "    }\n",
       "\n",
       "    .dataframe tbody tr th {\n",
       "        vertical-align: top;\n",
       "    }\n",
       "\n",
       "    .dataframe thead th {\n",
       "        text-align: right;\n",
       "    }\n",
       "</style>\n",
       "<table border=\"1\" class=\"dataframe\">\n",
       "  <thead>\n",
       "    <tr style=\"text-align: right;\">\n",
       "      <th></th>\n",
       "      <th>Smiles</th>\n",
       "      <th>Standard Value</th>\n",
       "      <th>Standard Units</th>\n",
       "      <th>Comment</th>\n",
       "    </tr>\n",
       "  </thead>\n",
       "  <tbody>\n",
       "    <tr>\n",
       "      <th>0</th>\n",
       "      <td>COc1ccc(/C=N/Nc2nc3ccccc3[nH]2)cc1OC</td>\n",
       "      <td>67346.0</td>\n",
       "      <td>nM</td>\n",
       "      <td>Not Active</td>\n",
       "    </tr>\n",
       "    <tr>\n",
       "      <th>1</th>\n",
       "      <td>N#C/C(=C/c1ccccc1)c1nn(CCO)c(N)c1C#N</td>\n",
       "      <td>82975.0</td>\n",
       "      <td>nM</td>\n",
       "      <td>Not Active</td>\n",
       "    </tr>\n",
       "    <tr>\n",
       "      <th>2</th>\n",
       "      <td>CCCCc1cc2c(c(NC(C)=O)n1)c(=O)oc1ccccc12</td>\n",
       "      <td>88714.0</td>\n",
       "      <td>nM</td>\n",
       "      <td>Not Active</td>\n",
       "    </tr>\n",
       "    <tr>\n",
       "      <th>3</th>\n",
       "      <td>COc1ccccc1NC(=O)Nc1cccnc1</td>\n",
       "      <td>116108.0</td>\n",
       "      <td>nM</td>\n",
       "      <td>Not Active</td>\n",
       "    </tr>\n",
       "    <tr>\n",
       "      <th>4</th>\n",
       "      <td>O=C(Nc1cccnc1)Nc1cc(Cl)cc(Cl)c1</td>\n",
       "      <td>116099.0</td>\n",
       "      <td>nM</td>\n",
       "      <td>Not Active</td>\n",
       "    </tr>\n",
       "  </tbody>\n",
       "</table>\n",
       "</div>"
      ],
      "text/plain": [
       "                                    Smiles  Standard Value Standard Units   \n",
       "0     COc1ccc(/C=N/Nc2nc3ccccc3[nH]2)cc1OC         67346.0             nM  \\\n",
       "1     N#C/C(=C/c1ccccc1)c1nn(CCO)c(N)c1C#N         82975.0             nM   \n",
       "2  CCCCc1cc2c(c(NC(C)=O)n1)c(=O)oc1ccccc12         88714.0             nM   \n",
       "3                COc1ccccc1NC(=O)Nc1cccnc1        116108.0             nM   \n",
       "4          O=C(Nc1cccnc1)Nc1cc(Cl)cc(Cl)c1        116099.0             nM   \n",
       "\n",
       "      Comment  \n",
       "0  Not Active  \n",
       "1  Not Active  \n",
       "2  Not Active  \n",
       "3  Not Active  \n",
       "4  Not Active  "
      ]
     },
     "execution_count": 21,
     "metadata": {},
     "output_type": "execute_result"
    }
   ],
   "source": [
    "data_training = x[['Smiles', 'Standard Value', 'Standard Units', 'Comment']]\n",
    "data_training.head()"
   ]
  },
  {
   "cell_type": "code",
   "execution_count": 22,
   "id": "83e3a3bf",
   "metadata": {},
   "outputs": [
    {
     "data": {
      "text/plain": [
       "array(['Not Active', nan], dtype=object)"
      ]
     },
     "execution_count": 22,
     "metadata": {},
     "output_type": "execute_result"
    }
   ],
   "source": [
    "data_training['Comment'].unique()"
   ]
  },
  {
   "cell_type": "code",
   "execution_count": 23,
   "id": "de16ca46",
   "metadata": {},
   "outputs": [
    {
     "name": "stderr",
     "output_type": "stream",
     "text": [
      "C:\\Users\\aleks\\AppData\\Local\\Temp\\ipykernel_14192\\809673039.py:7: SettingWithCopyWarning: \n",
      "A value is trying to be set on a copy of a slice from a DataFrame.\n",
      "Try using .loc[row_indexer,col_indexer] = value instead\n",
      "\n",
      "See the caveats in the documentation: https://pandas.pydata.org/pandas-docs/stable/user_guide/indexing.html#returning-a-view-versus-a-copy\n",
      "  data_training['Comment_bin'] = tmp\n"
     ]
    },
    {
     "data": {
      "text/plain": [
       "<Axes: >"
      ]
     },
     "execution_count": 23,
     "metadata": {},
     "output_type": "execute_result"
    },
    {
     "data": {
      "image/png": "[encoded data removed]",
      "text/plain": [
       "<Figure size 640x480 with 1 Axes>"
      ]
     },
     "metadata": {},
     "output_type": "display_data"
    }
   ],
   "source": [
    "tmp = []\n",
    "for element in data_training['Comment']:\n",
    "    if element == 'Not Active':\n",
    "        tmp.append(0)\n",
    "    else: # cases without comment\n",
    "        tmp.append(1)\n",
    "data_training['Comment_bin'] = tmp\n",
    "data_training['Comment_bin'].hist()"
   ]
  },
  {
   "cell_type": "code",
   "execution_count": 24,
   "id": "27131ca1",
   "metadata": {},
   "outputs": [
    {
     "data": {
      "image/png": "[encoded data removed]",
      "text/plain": [
       "<Figure size 800x600 with 1 Axes>"
      ]
     },
     "metadata": {},
     "output_type": "display_data"
    }
   ],
   "source": [
    "plt.figure(figsize=(8, 6))\n",
    "\n",
    "# Scatter plot\n",
    "plt.scatter(data_training['Standard Value'], data_training['Comment_bin'], color='blue', label='Binarized Comment')\n",
    "\n",
    "plt.xlabel('Standard Value')\n",
    "plt.ylabel('Binarized Comment')\n",
    "plt.title('Scatter Plot of Standard Value vs Binarized Comment')\n",
    "\n",
    "plt.yticks([0, 1], ['Not Active', 'Active'])  # Set y-axis ticks as 0 and 1 for binary values\n",
    "plt.legend()\n",
    "plt.grid(True)\n",
    "plt.show()"
   ]
  },
  {
   "cell_type": "code",
   "execution_count": 25,
   "id": "a39c9263",
   "metadata": {},
   "outputs": [
    {
     "data": {
      "image/png": "[encoded data removed]",
      "text/plain": [
       "<Figure size 800x600 with 1 Axes>"
      ]
     },
     "metadata": {},
     "output_type": "display_data"
    }
   ],
   "source": [
    "plt.figure(figsize=(8, 6))\n",
    "\n",
    "# Scatter plot\n",
    "plt.scatter(data_training['Standard Value'], data_training['Comment_bin'], color='blue', label='Binarized Comment')\n",
    "plt.xlim([0,500000])\n",
    "plt.xlabel('Standard Value')\n",
    "plt.ylabel('Binarized Comment')\n",
    "plt.title('Scatter Plot of Standard Value vs Binarized Comment')\n",
    "\n",
    "plt.yticks([0, 1], ['Not Active', 'Active'])  # Set y-axis ticks as 0 and 1 for binary values\n",
    "plt.legend()\n",
    "plt.grid(True)\n",
    "plt.show()"
   ]
  },
  {
   "cell_type": "markdown",
   "id": "b638800b",
   "metadata": {},
   "source": [
    "## Activity threshold based on literature: https://doi.org/10.1371/journal.pcbi.1000594"
   ]
  },
  {
   "cell_type": "code",
   "execution_count": 26,
   "id": "fc7df810",
   "metadata": {},
   "outputs": [
    {
     "name": "stderr",
     "output_type": "stream",
     "text": [
      "C:\\Users\\aleks\\AppData\\Local\\Temp\\ipykernel_14192\\3269438423.py:8: SettingWithCopyWarning: \n",
      "A value is trying to be set on a copy of a slice from a DataFrame.\n",
      "Try using .loc[row_indexer,col_indexer] = value instead\n",
      "\n",
      "See the caveats in the documentation: https://pandas.pydata.org/pandas-docs/stable/user_guide/indexing.html#returning-a-view-versus-a-copy\n",
      "  data_training['Binarized_activity'] = tmp\n"
     ]
    },
    {
     "data": {
      "text/plain": [
       "<Axes: >"
      ]
     },
     "execution_count": 26,
     "metadata": {},
     "output_type": "execute_result"
    },
    {
     "data": {
      "image/png": "[encoded data removed]",
      "text/plain": [
       "<Figure size 640x480 with 1 Axes>"
      ]
     },
     "metadata": {},
     "output_type": "display_data"
    }
   ],
   "source": [
    "tmp = []\n",
    "for element in data_training['Standard Value']:\n",
    "    if element < 100000: #nM (100 uM)\n",
    "        tmp.append('Active')\n",
    "    else:\n",
    "        tmp.append('Inactive')\n",
    "\n",
    "data_training['Binarized_activity'] = tmp\n",
    "data_training['Binarized_activity'].hist() # it is not the best solution, as we have overrepresentated active compounds..."
   ]
  },
  {
   "cell_type": "code",
   "execution_count": 27,
   "id": "d107117c",
   "metadata": {},
   "outputs": [
    {
     "name": "stderr",
     "output_type": "stream",
     "text": [
      "C:\\Users\\aleks\\AppData\\Local\\Temp\\ipykernel_14192\\3426172298.py:8: SettingWithCopyWarning: \n",
      "A value is trying to be set on a copy of a slice from a DataFrame.\n",
      "Try using .loc[row_indexer,col_indexer] = value instead\n",
      "\n",
      "See the caveats in the documentation: https://pandas.pydata.org/pandas-docs/stable/user_guide/indexing.html#returning-a-view-versus-a-copy\n",
      "  data_training['Binarized_activity'] = tmp\n"
     ]
    },
    {
     "data": {
      "text/plain": [
       "<Axes: >"
      ]
     },
     "execution_count": 27,
     "metadata": {},
     "output_type": "execute_result"
    },
    {
     "data": {
      "image/png": "[encoded data removed]",
      "text/plain": [
       "<Figure size 640x480 with 1 Axes>"
      ]
     },
     "metadata": {},
     "output_type": "display_data"
    }
   ],
   "source": [
    "tmp = []\n",
    "for element in data_training['Standard Value']:\n",
    "    if element < 12000: #nM (100 uM)\n",
    "        tmp.append('Active')\n",
    "    else:\n",
    "        tmp.append('Inactive')\n",
    "\n",
    "data_training['Binarized_activity'] = tmp\n",
    "data_training['Binarized_activity'].hist()"
   ]
  },
  {
   "cell_type": "markdown",
   "id": "0b3b292c",
   "metadata": {},
   "source": [
    "## Other activity threshold sources: \n",
    "\n",
    "-> https://doi.org/10.3390%2Fmd17100554, highest -> active 21 uM -> 21000 nM\n",
    "\n",
    "-> https://doi.org/10.1124/mol.106.033415, highest active -> 2856 nM -> 2.856 uM\n",
    "\n",
    "-> https://doi.org/10.1124/mol.107.038398, highest active -> agonist mode 4.4 uM -> 4400 nM, antagonist mode 23.9 uM -> 23900 nM"
   ]
  },
  {
   "cell_type": "code",
   "execution_count": null,
   "id": "3df68ba2",
   "metadata": {},
   "outputs": [],
   "source": []
  },
  {
   "cell_type": "code",
   "execution_count": null,
   "id": "73e49259",
   "metadata": {},
   "outputs": [],
   "source": []
  },
  {
   "cell_type": "markdown",
   "id": "a64c52df",
   "metadata": {},
   "source": [
    "## Regression plot"
   ]
  },
  {
   "cell_type": "code",
   "execution_count": 28,
   "id": "142a31e2",
   "metadata": {},
   "outputs": [
    {
     "data": {
      "image/png": "[encoded data removed]",
      "text/plain": [
       "<Figure size 640x480 with 1 Axes>"
      ]
     },
     "metadata": {},
     "output_type": "display_data"
    }
   ],
   "source": [
    "plt.scatter(list(range(0,len(data_training['Standard Value']),1)),data_training['Standard Value'].sort_values())\n",
    "plt.ylabel('EC50 nM')\n",
    "plt.show()"
   ]
  },
  {
   "cell_type": "code",
   "execution_count": 29,
   "id": "1d58ab00",
   "metadata": {},
   "outputs": [
    {
     "data": {
      "text/plain": [
       "42      250000.0\n",
       "567     390000.0\n",
       "635    1100000.0\n",
       "6      1282000.0\n",
       "385    3871000.0\n",
       "Name: Standard Value, dtype: float64"
      ]
     },
     "execution_count": 29,
     "metadata": {},
     "output_type": "execute_result"
    }
   ],
   "source": [
    "data_training['Standard Value'].sort_values().tail()"
   ]
  },
  {
   "cell_type": "code",
   "execution_count": 30,
   "id": "59270602",
   "metadata": {},
   "outputs": [
    {
     "data": {
      "image/png": "[encoded data removed]",
      "text/plain": [
       "<Figure size 640x480 with 1 Axes>"
      ]
     },
     "metadata": {},
     "output_type": "display_data"
    }
   ],
   "source": [
    "plt.scatter(list(range(0,len(data_training['Standard Value'][0:-5]),1)),data_training['Standard Value'].sort_values()[0:-5])\n",
    "plt.ylabel('EC50 nM')\n",
    "plt.show()"
   ]
  },
  {
   "cell_type": "code",
   "execution_count": 31,
   "id": "423d0c84",
   "metadata": {},
   "outputs": [],
   "source": [
    "q = data_training[data_training['Standard Value'] < 60000]"
   ]
  },
  {
   "cell_type": "code",
   "execution_count": 32,
   "id": "32601ee5",
   "metadata": {},
   "outputs": [
    {
     "data": {
      "image/png": "[encoded data removed]",
      "text/plain": [
       "<Figure size 640x480 with 1 Axes>"
      ]
     },
     "metadata": {},
     "output_type": "display_data"
    }
   ],
   "source": [
    "plt.scatter(list(range(0,len(q['Standard Value']),1)),q['Standard Value'].sort_values())\n",
    "plt.ylabel('EC50 nM')\n",
    "plt.show()"
   ]
  },
  {
   "cell_type": "code",
   "execution_count": 33,
   "id": "6bca2b8c",
   "metadata": {},
   "outputs": [
    {
     "data": {
      "text/plain": [
       "985"
      ]
     },
     "execution_count": 33,
     "metadata": {},
     "output_type": "execute_result"
    }
   ],
   "source": [
    "len(q['Standard Value'])"
   ]
  },
  {
   "cell_type": "code",
   "execution_count": 34,
   "id": "bda139dc",
   "metadata": {},
   "outputs": [],
   "source": [
    "cut = q[q['Standard Value'] < 12000]"
   ]
  },
  {
   "cell_type": "code",
   "execution_count": 35,
   "id": "9d61e222",
   "metadata": {},
   "outputs": [
    {
     "data": {
      "text/plain": [
       "616"
      ]
     },
     "execution_count": 35,
     "metadata": {},
     "output_type": "execute_result"
    }
   ],
   "source": [
    "len(cut) # active"
   ]
  },
  {
   "cell_type": "code",
   "execution_count": 36,
   "id": "a16b33f4",
   "metadata": {},
   "outputs": [
    {
     "data": {
      "text/plain": [
       "369"
      ]
     },
     "execution_count": 36,
     "metadata": {},
     "output_type": "execute_result"
    }
   ],
   "source": [
    "len(q['Standard Value']) - len(cut) #inactive"
   ]
  },
  {
   "cell_type": "code",
   "execution_count": null,
   "id": "d55cf6c1",
   "metadata": {},
   "outputs": [],
   "source": []
  },
  {
   "cell_type": "code",
   "execution_count": 37,
   "id": "f38ed36e",
   "metadata": {},
   "outputs": [
    {
     "data": {
      "image/png": "[encoded data removed]",
      "text/plain": [
       "<Figure size 640x480 with 1 Axes>"
      ]
     },
     "metadata": {},
     "output_type": "display_data"
    }
   ],
   "source": [
    "plt.scatter(list(range(0,len(data_training['Standard Value'][0:-5]),1)),data_training['Standard Value'].sort_values()[0:-5])\n",
    "plt.ylabel('EC50 nM')\n",
    "plt.show()"
   ]
  },
  {
   "cell_type": "code",
   "execution_count": 38,
   "id": "edf25755",
   "metadata": {},
   "outputs": [],
   "source": [
    "w = data_training[data_training['Standard Value'] < 250000]"
   ]
  },
  {
   "cell_type": "code",
   "execution_count": 39,
   "id": "8d346579",
   "metadata": {},
   "outputs": [
    {
     "data": {
      "image/png": "[encoded data removed]",
      "text/plain": [
       "<Figure size 640x480 with 1 Axes>"
      ]
     },
     "metadata": {},
     "output_type": "display_data"
    }
   ],
   "source": [
    "plt.scatter(list(range(0,len(w['Standard Value']),1)),w['Standard Value'].sort_values())\n",
    "plt.ylabel('EC50 nM')\n",
    "plt.show()"
   ]
  },
  {
   "cell_type": "code",
   "execution_count": 40,
   "id": "23ef3ae4",
   "metadata": {},
   "outputs": [
    {
     "data": {
      "text/plain": [
       "1109"
      ]
     },
     "execution_count": 40,
     "metadata": {},
     "output_type": "execute_result"
    }
   ],
   "source": [
    "len(w['Standard Value'])"
   ]
  },
  {
   "cell_type": "code",
   "execution_count": 41,
   "id": "5ebe9271",
   "metadata": {},
   "outputs": [],
   "source": [
    "cut = w[w['Standard Value'] < 12000]"
   ]
  },
  {
   "cell_type": "code",
   "execution_count": 42,
   "id": "de2a9ebe",
   "metadata": {},
   "outputs": [
    {
     "data": {
      "text/plain": [
       "616"
      ]
     },
     "execution_count": 42,
     "metadata": {},
     "output_type": "execute_result"
    }
   ],
   "source": [
    "len(cut) # active"
   ]
  },
  {
   "cell_type": "code",
   "execution_count": 43,
   "id": "bfe8347f",
   "metadata": {},
   "outputs": [
    {
     "data": {
      "text/plain": [
       "493"
      ]
     },
     "execution_count": 43,
     "metadata": {},
     "output_type": "execute_result"
    }
   ],
   "source": [
    "len(w['Standard Value']) - len(cut) #inactive"
   ]
  },
  {
   "cell_type": "code",
   "execution_count": null,
   "id": "a13f35cf",
   "metadata": {},
   "outputs": [],
   "source": []
  },
  {
   "cell_type": "code",
   "execution_count": 44,
   "id": "5827b773",
   "metadata": {},
   "outputs": [
    {
     "name": "stderr",
     "output_type": "stream",
     "text": [
      "C:\\Users\\aleks\\AppData\\Local\\Temp\\ipykernel_14192\\3661737943.py:8: SettingWithCopyWarning: \n",
      "A value is trying to be set on a copy of a slice from a DataFrame.\n",
      "Try using .loc[row_indexer,col_indexer] = value instead\n",
      "\n",
      "See the caveats in the documentation: https://pandas.pydata.org/pandas-docs/stable/user_guide/indexing.html#returning-a-view-versus-a-copy\n",
      "  w['Binarized_activity'] = tmp\n"
     ]
    },
    {
     "data": {
      "text/plain": [
       "<Axes: >"
      ]
     },
     "execution_count": 44,
     "metadata": {},
     "output_type": "execute_result"
    },
    {
     "data": {
      "image/png": "[encoded data removed]",
      "text/plain": [
       "<Figure size 640x480 with 1 Axes>"
      ]
     },
     "metadata": {},
     "output_type": "display_data"
    }
   ],
   "source": [
    "tmp = []\n",
    "for element in w['Standard Value']:\n",
    "    if element < 12000: #nM (100 uM)\n",
    "        tmp.append('Active')\n",
    "    else:\n",
    "        tmp.append('Inactive')\n",
    "\n",
    "w['Binarized_activity'] = tmp\n",
    "w['Binarized_activity'].hist()"
   ]
  },
  {
   "cell_type": "code",
   "execution_count": null,
   "id": "1e3cfd4e",
   "metadata": {},
   "outputs": [],
   "source": []
  },
  {
   "cell_type": "code",
   "execution_count": null,
   "id": "ddbfefb5",
   "metadata": {},
   "outputs": [],
   "source": []
  },
  {
   "cell_type": "markdown",
   "id": "967e91b1",
   "metadata": {},
   "source": [
    "## See if there are duplicates..."
   ]
  },
  {
   "cell_type": "code",
   "execution_count": 45,
   "id": "5bacd4c3",
   "metadata": {},
   "outputs": [
    {
     "data": {
      "text/plain": [
       "(1114, 6)"
      ]
     },
     "execution_count": 45,
     "metadata": {},
     "output_type": "execute_result"
    }
   ],
   "source": [
    "data_training.shape"
   ]
  },
  {
   "cell_type": "code",
   "execution_count": 46,
   "id": "ec1f4da9",
   "metadata": {},
   "outputs": [],
   "source": [
    "data_training.to_excel('see_duplicates.xlsx')"
   ]
  },
  {
   "cell_type": "code",
   "execution_count": 47,
   "id": "88169f75",
   "metadata": {},
   "outputs": [],
   "source": [
    "duplicates = data_training.drop_duplicates(subset='Smiles', keep='first')"
   ]
  },
  {
   "cell_type": "code",
   "execution_count": 48,
   "id": "d2cb3754",
   "metadata": {},
   "outputs": [
    {
     "data": {
      "text/plain": [
       "(972, 6)"
      ]
     },
     "execution_count": 48,
     "metadata": {},
     "output_type": "execute_result"
    }
   ],
   "source": [
    "duplicates.shape"
   ]
  },
  {
   "cell_type": "code",
   "execution_count": 49,
   "id": "60802f46",
   "metadata": {},
   "outputs": [],
   "source": [
    "## aggregation approach -> median values??"
   ]
  },
  {
   "cell_type": "code",
   "execution_count": 50,
   "id": "940d6d9d",
   "metadata": {},
   "outputs": [
    {
     "data": {
      "text/html": [
       "<div>\n",
       "<style scoped>\n",
       "    .dataframe tbody tr th:only-of-type {\n",
       "        vertical-align: middle;\n",
       "    }\n",
       "\n",
       "    .dataframe tbody tr th {\n",
       "        vertical-align: top;\n",
       "    }\n",
       "\n",
       "    .dataframe thead th {\n",
       "        text-align: right;\n",
       "    }\n",
       "</style>\n",
       "<table border=\"1\" class=\"dataframe\">\n",
       "  <thead>\n",
       "    <tr style=\"text-align: right;\">\n",
       "      <th></th>\n",
       "      <th>Smiles</th>\n",
       "      <th>Standard Value</th>\n",
       "    </tr>\n",
       "  </thead>\n",
       "  <tbody>\n",
       "    <tr>\n",
       "      <th>0</th>\n",
       "      <td>Br.CN1CCc2cc(Cl)c(O)cc2[C@H]2c3ccccc3CC[C@@H]21</td>\n",
       "      <td>[12600.0, 6300.0, 4000.0]</td>\n",
       "    </tr>\n",
       "    <tr>\n",
       "      <th>1</th>\n",
       "      <td>Brc1ccc2ncnc(Nc3ccc(N4CCOCC4)cc3)c2c1</td>\n",
       "      <td>[116132.0]</td>\n",
       "    </tr>\n",
       "    <tr>\n",
       "      <th>2</th>\n",
       "      <td>C#CCn1cc(/C=N/NC(=O)COc2cccc3cccnc23)c2ccccc21</td>\n",
       "      <td>[16271.0]</td>\n",
       "    </tr>\n",
       "    <tr>\n",
       "      <th>3</th>\n",
       "      <td>C#CCn1cc(/C=N/NC(=O)c2cc3ccccc3o2)c2ccccc21</td>\n",
       "      <td>[116147.0]</td>\n",
       "    </tr>\n",
       "    <tr>\n",
       "      <th>4</th>\n",
       "      <td>C#C[C@]1(O)CC[C@H]2[C@@H]3CCC4=C/C(=N/O)CC[C@@...</td>\n",
       "      <td>[25100.0]</td>\n",
       "    </tr>\n",
       "  </tbody>\n",
       "</table>\n",
       "</div>"
      ],
      "text/plain": [
       "                                              Smiles   \n",
       "0    Br.CN1CCc2cc(Cl)c(O)cc2[C@H]2c3ccccc3CC[C@@H]21  \\\n",
       "1              Brc1ccc2ncnc(Nc3ccc(N4CCOCC4)cc3)c2c1   \n",
       "2     C#CCn1cc(/C=N/NC(=O)COc2cccc3cccnc23)c2ccccc21   \n",
       "3        C#CCn1cc(/C=N/NC(=O)c2cc3ccccc3o2)c2ccccc21   \n",
       "4  C#C[C@]1(O)CC[C@H]2[C@@H]3CCC4=C/C(=N/O)CC[C@@...   \n",
       "\n",
       "              Standard Value  \n",
       "0  [12600.0, 6300.0, 4000.0]  \n",
       "1                 [116132.0]  \n",
       "2                  [16271.0]  \n",
       "3                 [116147.0]  \n",
       "4                  [25100.0]  "
      ]
     },
     "execution_count": 50,
     "metadata": {},
     "output_type": "execute_result"
    }
   ],
   "source": [
    "# Grouping by 'Smiles' and aggregating 'Value' column into lists\n",
    "result = data_training.groupby('Smiles')['Standard Value'].apply(list).reset_index()\n",
    "\n",
    "result.head()"
   ]
  },
  {
   "cell_type": "code",
   "execution_count": 51,
   "id": "8d7b62e0",
   "metadata": {},
   "outputs": [],
   "source": [
    "## keep only entries for which std is lower than 100 nM?"
   ]
  },
  {
   "cell_type": "code",
   "execution_count": 52,
   "id": "e5573468",
   "metadata": {},
   "outputs": [
    {
     "data": {
      "text/plain": [
       "3635.3205574688395"
      ]
     },
     "execution_count": 52,
     "metadata": {},
     "output_type": "execute_result"
    }
   ],
   "source": [
    "np.std(result['Standard Value'][0])"
   ]
  },
  {
   "cell_type": "code",
   "execution_count": 53,
   "id": "210660f9",
   "metadata": {},
   "outputs": [
    {
     "data": {
      "text/plain": [
       "0.0"
      ]
     },
     "execution_count": 53,
     "metadata": {},
     "output_type": "execute_result"
    }
   ],
   "source": [
    "np.std(result['Standard Value'][1])"
   ]
  },
  {
   "cell_type": "code",
   "execution_count": 54,
   "id": "7e2e8d50",
   "metadata": {},
   "outputs": [
    {
     "data": {
      "text/plain": [
       "972"
      ]
     },
     "execution_count": 54,
     "metadata": {},
     "output_type": "execute_result"
    }
   ],
   "source": [
    "len(result)"
   ]
  },
  {
   "cell_type": "code",
   "execution_count": 55,
   "id": "453a3462",
   "metadata": {},
   "outputs": [
    {
     "data": {
      "text/html": [
       "<div>\n",
       "<style scoped>\n",
       "    .dataframe tbody tr th:only-of-type {\n",
       "        vertical-align: middle;\n",
       "    }\n",
       "\n",
       "    .dataframe tbody tr th {\n",
       "        vertical-align: top;\n",
       "    }\n",
       "\n",
       "    .dataframe thead th {\n",
       "        text-align: right;\n",
       "    }\n",
       "</style>\n",
       "<table border=\"1\" class=\"dataframe\">\n",
       "  <thead>\n",
       "    <tr style=\"text-align: right;\">\n",
       "      <th></th>\n",
       "      <th>Smiles</th>\n",
       "      <th>Standard Value</th>\n",
       "      <th>STD_value</th>\n",
       "    </tr>\n",
       "  </thead>\n",
       "  <tbody>\n",
       "    <tr>\n",
       "      <th>0</th>\n",
       "      <td>Br.CN1CCc2cc(Cl)c(O)cc2[C@H]2c3ccccc3CC[C@@H]21</td>\n",
       "      <td>[12600.0, 6300.0, 4000.0]</td>\n",
       "      <td>3635.320557</td>\n",
       "    </tr>\n",
       "    <tr>\n",
       "      <th>1</th>\n",
       "      <td>Brc1ccc2ncnc(Nc3ccc(N4CCOCC4)cc3)c2c1</td>\n",
       "      <td>[116132.0]</td>\n",
       "      <td>0.000000</td>\n",
       "    </tr>\n",
       "    <tr>\n",
       "      <th>2</th>\n",
       "      <td>C#CCn1cc(/C=N/NC(=O)COc2cccc3cccnc23)c2ccccc21</td>\n",
       "      <td>[16271.0]</td>\n",
       "      <td>0.000000</td>\n",
       "    </tr>\n",
       "    <tr>\n",
       "      <th>3</th>\n",
       "      <td>C#CCn1cc(/C=N/NC(=O)c2cc3ccccc3o2)c2ccccc21</td>\n",
       "      <td>[116147.0]</td>\n",
       "      <td>0.000000</td>\n",
       "    </tr>\n",
       "    <tr>\n",
       "      <th>4</th>\n",
       "      <td>C#C[C@]1(O)CC[C@H]2[C@@H]3CCC4=C/C(=N/O)CC[C@@...</td>\n",
       "      <td>[25100.0]</td>\n",
       "      <td>0.000000</td>\n",
       "    </tr>\n",
       "  </tbody>\n",
       "</table>\n",
       "</div>"
      ],
      "text/plain": [
       "                                              Smiles   \n",
       "0    Br.CN1CCc2cc(Cl)c(O)cc2[C@H]2c3ccccc3CC[C@@H]21  \\\n",
       "1              Brc1ccc2ncnc(Nc3ccc(N4CCOCC4)cc3)c2c1   \n",
       "2     C#CCn1cc(/C=N/NC(=O)COc2cccc3cccnc23)c2ccccc21   \n",
       "3        C#CCn1cc(/C=N/NC(=O)c2cc3ccccc3o2)c2ccccc21   \n",
       "4  C#C[C@]1(O)CC[C@H]2[C@@H]3CCC4=C/C(=N/O)CC[C@@...   \n",
       "\n",
       "              Standard Value    STD_value  \n",
       "0  [12600.0, 6300.0, 4000.0]  3635.320557  \n",
       "1                 [116132.0]     0.000000  \n",
       "2                  [16271.0]     0.000000  \n",
       "3                 [116147.0]     0.000000  \n",
       "4                  [25100.0]     0.000000  "
      ]
     },
     "execution_count": 55,
     "metadata": {},
     "output_type": "execute_result"
    }
   ],
   "source": [
    "result['STD_value'] = [np.std(element) for element in result['Standard Value']]\n",
    "result.head()"
   ]
  },
  {
   "cell_type": "code",
   "execution_count": 56,
   "id": "b8fefd7f",
   "metadata": {},
   "outputs": [
    {
     "data": {
      "text/plain": [
       "<Axes: >"
      ]
     },
     "execution_count": 56,
     "metadata": {},
     "output_type": "execute_result"
    },
    {
     "data": {
      "image/png": "[encoded data removed]",
      "text/plain": [
       "<Figure size 640x480 with 1 Axes>"
      ]
     },
     "metadata": {},
     "output_type": "display_data"
    }
   ],
   "source": [
    "result['STD_value'].hist(bins=100)"
   ]
  },
  {
   "cell_type": "code",
   "execution_count": 57,
   "id": "3ece5772",
   "metadata": {},
   "outputs": [
    {
     "data": {
      "text/plain": [
       "(910, 3)"
      ]
     },
     "execution_count": 57,
     "metadata": {},
     "output_type": "execute_result"
    }
   ],
   "source": [
    "training = result[result['STD_value'] < 100]\n",
    "training.shape"
   ]
  },
  {
   "cell_type": "code",
   "execution_count": 58,
   "id": "66fda327",
   "metadata": {},
   "outputs": [
    {
     "data": {
      "text/plain": [
       "(62, 3)"
      ]
     },
     "execution_count": 58,
     "metadata": {},
     "output_type": "execute_result"
    }
   ],
   "source": [
    "training_ = result[result['STD_value'] > 100]\n",
    "training_.shape"
   ]
  },
  {
   "cell_type": "code",
   "execution_count": 59,
   "id": "0ca16033",
   "metadata": {},
   "outputs": [
    {
     "name": "stderr",
     "output_type": "stream",
     "text": [
      "C:\\Users\\aleks\\AppData\\Local\\Temp\\ipykernel_14192\\2685711714.py:1: SettingWithCopyWarning: \n",
      "A value is trying to be set on a copy of a slice from a DataFrame.\n",
      "Try using .loc[row_indexer,col_indexer] = value instead\n",
      "\n",
      "See the caveats in the documentation: https://pandas.pydata.org/pandas-docs/stable/user_guide/indexing.html#returning-a-view-versus-a-copy\n",
      "  training['target_'] = [np.median(element) for element in training['Standard Value']]\n"
     ]
    },
    {
     "data": {
      "text/html": [
       "<div>\n",
       "<style scoped>\n",
       "    .dataframe tbody tr th:only-of-type {\n",
       "        vertical-align: middle;\n",
       "    }\n",
       "\n",
       "    .dataframe tbody tr th {\n",
       "        vertical-align: top;\n",
       "    }\n",
       "\n",
       "    .dataframe thead th {\n",
       "        text-align: right;\n",
       "    }\n",
       "</style>\n",
       "<table border=\"1\" class=\"dataframe\">\n",
       "  <thead>\n",
       "    <tr style=\"text-align: right;\">\n",
       "      <th></th>\n",
       "      <th>Smiles</th>\n",
       "      <th>Standard Value</th>\n",
       "      <th>STD_value</th>\n",
       "      <th>target_</th>\n",
       "    </tr>\n",
       "  </thead>\n",
       "  <tbody>\n",
       "    <tr>\n",
       "      <th>1</th>\n",
       "      <td>Brc1ccc2ncnc(Nc3ccc(N4CCOCC4)cc3)c2c1</td>\n",
       "      <td>[116132.0]</td>\n",
       "      <td>0.0</td>\n",
       "      <td>116132.0</td>\n",
       "    </tr>\n",
       "    <tr>\n",
       "      <th>2</th>\n",
       "      <td>C#CCn1cc(/C=N/NC(=O)COc2cccc3cccnc23)c2ccccc21</td>\n",
       "      <td>[16271.0]</td>\n",
       "      <td>0.0</td>\n",
       "      <td>16271.0</td>\n",
       "    </tr>\n",
       "    <tr>\n",
       "      <th>3</th>\n",
       "      <td>C#CCn1cc(/C=N/NC(=O)c2cc3ccccc3o2)c2ccccc21</td>\n",
       "      <td>[116147.0]</td>\n",
       "      <td>0.0</td>\n",
       "      <td>116147.0</td>\n",
       "    </tr>\n",
       "    <tr>\n",
       "      <th>4</th>\n",
       "      <td>C#C[C@]1(O)CC[C@H]2[C@@H]3CCC4=C/C(=N/O)CC[C@@...</td>\n",
       "      <td>[25100.0]</td>\n",
       "      <td>0.0</td>\n",
       "      <td>25100.0</td>\n",
       "    </tr>\n",
       "    <tr>\n",
       "      <th>5</th>\n",
       "      <td>C(=N/OCc1ccc(Oc2ccccc2)cc1)\\c1c(-c2ccc3ccccc3c...</td>\n",
       "      <td>[1100.0]</td>\n",
       "      <td>0.0</td>\n",
       "      <td>1100.0</td>\n",
       "    </tr>\n",
       "  </tbody>\n",
       "</table>\n",
       "</div>"
      ],
      "text/plain": [
       "                                              Smiles Standard Value   \n",
       "1              Brc1ccc2ncnc(Nc3ccc(N4CCOCC4)cc3)c2c1     [116132.0]  \\\n",
       "2     C#CCn1cc(/C=N/NC(=O)COc2cccc3cccnc23)c2ccccc21      [16271.0]   \n",
       "3        C#CCn1cc(/C=N/NC(=O)c2cc3ccccc3o2)c2ccccc21     [116147.0]   \n",
       "4  C#C[C@]1(O)CC[C@H]2[C@@H]3CCC4=C/C(=N/O)CC[C@@...      [25100.0]   \n",
       "5  C(=N/OCc1ccc(Oc2ccccc2)cc1)\\c1c(-c2ccc3ccccc3c...       [1100.0]   \n",
       "\n",
       "   STD_value   target_  \n",
       "1        0.0  116132.0  \n",
       "2        0.0   16271.0  \n",
       "3        0.0  116147.0  \n",
       "4        0.0   25100.0  \n",
       "5        0.0    1100.0  "
      ]
     },
     "execution_count": 59,
     "metadata": {},
     "output_type": "execute_result"
    }
   ],
   "source": [
    "training['target_'] = [np.median(element) for element in training['Standard Value']]\n",
    "training.head()"
   ]
  },
  {
   "cell_type": "code",
   "execution_count": 60,
   "id": "2a3f0ea2",
   "metadata": {},
   "outputs": [],
   "source": [
    "training = training.reset_index()\n",
    "training = training.drop(['index'], axis=1)"
   ]
  },
  {
   "cell_type": "code",
   "execution_count": 61,
   "id": "dde58e5a",
   "metadata": {},
   "outputs": [
    {
     "data": {
      "text/html": [
       "<div>\n",
       "<style scoped>\n",
       "    .dataframe tbody tr th:only-of-type {\n",
       "        vertical-align: middle;\n",
       "    }\n",
       "\n",
       "    .dataframe tbody tr th {\n",
       "        vertical-align: top;\n",
       "    }\n",
       "\n",
       "    .dataframe thead th {\n",
       "        text-align: right;\n",
       "    }\n",
       "</style>\n",
       "<table border=\"1\" class=\"dataframe\">\n",
       "  <thead>\n",
       "    <tr style=\"text-align: right;\">\n",
       "      <th></th>\n",
       "      <th>Smiles</th>\n",
       "      <th>Standard Value</th>\n",
       "      <th>STD_value</th>\n",
       "      <th>target_</th>\n",
       "    </tr>\n",
       "  </thead>\n",
       "  <tbody>\n",
       "    <tr>\n",
       "      <th>0</th>\n",
       "      <td>Brc1ccc2ncnc(Nc3ccc(N4CCOCC4)cc3)c2c1</td>\n",
       "      <td>[116132.0]</td>\n",
       "      <td>0.0</td>\n",
       "      <td>116132.0</td>\n",
       "    </tr>\n",
       "    <tr>\n",
       "      <th>1</th>\n",
       "      <td>C#CCn1cc(/C=N/NC(=O)COc2cccc3cccnc23)c2ccccc21</td>\n",
       "      <td>[16271.0]</td>\n",
       "      <td>0.0</td>\n",
       "      <td>16271.0</td>\n",
       "    </tr>\n",
       "    <tr>\n",
       "      <th>2</th>\n",
       "      <td>C#CCn1cc(/C=N/NC(=O)c2cc3ccccc3o2)c2ccccc21</td>\n",
       "      <td>[116147.0]</td>\n",
       "      <td>0.0</td>\n",
       "      <td>116147.0</td>\n",
       "    </tr>\n",
       "    <tr>\n",
       "      <th>3</th>\n",
       "      <td>C#C[C@]1(O)CC[C@H]2[C@@H]3CCC4=C/C(=N/O)CC[C@@...</td>\n",
       "      <td>[25100.0]</td>\n",
       "      <td>0.0</td>\n",
       "      <td>25100.0</td>\n",
       "    </tr>\n",
       "    <tr>\n",
       "      <th>4</th>\n",
       "      <td>C(=N/OCc1ccc(Oc2ccccc2)cc1)\\c1c(-c2ccc3ccccc3c...</td>\n",
       "      <td>[1100.0]</td>\n",
       "      <td>0.0</td>\n",
       "      <td>1100.0</td>\n",
       "    </tr>\n",
       "  </tbody>\n",
       "</table>\n",
       "</div>"
      ],
      "text/plain": [
       "                                              Smiles Standard Value   \n",
       "0              Brc1ccc2ncnc(Nc3ccc(N4CCOCC4)cc3)c2c1     [116132.0]  \\\n",
       "1     C#CCn1cc(/C=N/NC(=O)COc2cccc3cccnc23)c2ccccc21      [16271.0]   \n",
       "2        C#CCn1cc(/C=N/NC(=O)c2cc3ccccc3o2)c2ccccc21     [116147.0]   \n",
       "3  C#C[C@]1(O)CC[C@H]2[C@@H]3CCC4=C/C(=N/O)CC[C@@...      [25100.0]   \n",
       "4  C(=N/OCc1ccc(Oc2ccccc2)cc1)\\c1c(-c2ccc3ccccc3c...       [1100.0]   \n",
       "\n",
       "   STD_value   target_  \n",
       "0        0.0  116132.0  \n",
       "1        0.0   16271.0  \n",
       "2        0.0  116147.0  \n",
       "3        0.0   25100.0  \n",
       "4        0.0    1100.0  "
      ]
     },
     "execution_count": 61,
     "metadata": {},
     "output_type": "execute_result"
    }
   ],
   "source": [
    "training.head()"
   ]
  },
  {
   "cell_type": "code",
   "execution_count": 62,
   "id": "cde5c9c1",
   "metadata": {},
   "outputs": [],
   "source": [
    "training.to_csv('PXR_training_data.csv')"
   ]
  },
  {
   "cell_type": "code",
   "execution_count": 63,
   "id": "a17d2a68",
   "metadata": {},
   "outputs": [
    {
     "data": {
      "text/plain": [
       "<Axes: >"
      ]
     },
     "execution_count": 63,
     "metadata": {},
     "output_type": "execute_result"
    },
    {
     "data": {
      "image/png": "[encoded data removed]",
      "text/plain": [
       "<Figure size 640x480 with 1 Axes>"
      ]
     },
     "metadata": {},
     "output_type": "display_data"
    }
   ],
   "source": [
    "tmp = []\n",
    "for element in training['target_']:\n",
    "    if element < 12000: #nM (100 uM)\n",
    "        tmp.append('Active')\n",
    "    else:\n",
    "        tmp.append('Inactive')\n",
    "\n",
    "training['Binarized_activity'] = tmp\n",
    "training['Binarized_activity'].hist()"
   ]
  },
  {
   "cell_type": "code",
   "execution_count": 65,
   "id": "d75e45e2",
   "metadata": {},
   "outputs": [
    {
     "data": {
      "image/png": "[encoded data removed]",
      "text/plain": [
       "<Figure size 640x480 with 1 Axes>"
      ]
     },
     "metadata": {},
     "output_type": "display_data"
    }
   ],
   "source": [
    "plt.scatter(list(range(0,len(training['target_']),1)),training['target_'].sort_values())\n",
    "plt.ylabel('EC50 nM')\n",
    "plt.show()"
   ]
  },
  {
   "cell_type": "code",
   "execution_count": 67,
   "id": "2ac398c0",
   "metadata": {},
   "outputs": [
    {
     "data": {
      "text/plain": [
       "<Axes: >"
      ]
     },
     "execution_count": 67,
     "metadata": {},
     "output_type": "execute_result"
    },
    {
     "data": {
      "image/png": "[encoded data removed]",
      "text/plain": [
       "<Figure size 640x480 with 1 Axes>"
      ]
     },
     "metadata": {},
     "output_type": "display_data"
    }
   ],
   "source": [
    "training['target_'].hist()"
   ]
  },
  {
   "cell_type": "code",
   "execution_count": 68,
   "id": "1eb0f4f1",
   "metadata": {},
   "outputs": [],
   "source": [
    "training['target_transformed'] = transform(training['target_'])"
   ]
  },
  {
   "cell_type": "code",
   "execution_count": 69,
   "id": "2feb9491",
   "metadata": {},
   "outputs": [
    {
     "data": {
      "image/png": "[encoded data removed]",
      "text/plain": [
       "<Figure size 640x480 with 1 Axes>"
      ]
     },
     "metadata": {},
     "output_type": "display_data"
    }
   ],
   "source": [
    "plt.scatter(list(range(0,len(training['target_transformed']),1)),training['target_transformed'].sort_values())\n",
    "plt.ylabel('EC50 nM Transformed')\n",
    "plt.show()"
   ]
  },
  {
   "cell_type": "code",
   "execution_count": 70,
   "id": "0b49b8be",
   "metadata": {},
   "outputs": [
    {
     "data": {
      "text/plain": [
       "<Axes: >"
      ]
     },
     "execution_count": 70,
     "metadata": {},
     "output_type": "execute_result"
    },
    {
     "data": {
      "image/png": "[encoded data removed]",
      "text/plain": [
       "<Figure size 640x480 with 1 Axes>"
      ]
     },
     "metadata": {},
     "output_type": "display_data"
    }
   ],
   "source": [
    "training['target_transformed'].hist()"
   ]
  },
  {
   "cell_type": "code",
   "execution_count": null,
   "id": "8494754d",
   "metadata": {},
   "outputs": [],
   "source": []
  },
  {
   "cell_type": "code",
   "execution_count": null,
   "id": "1187acf4",
   "metadata": {},
   "outputs": [],
   "source": []
  },
  {
   "cell_type": "code",
   "execution_count": null,
   "id": "daa057f9",
   "metadata": {},
   "outputs": [],
   "source": []
  },
  {
   "cell_type": "code",
   "execution_count": 86,
   "id": "e993b809",
   "metadata": {},
   "outputs": [
    {
     "data": {
      "text/plain": [
       "'1.23.5'"
      ]
     },
     "execution_count": 86,
     "metadata": {},
     "output_type": "execute_result"
    }
   ],
   "source": [
    "import numpy\n",
    "numpy.version.version"
   ]
  }
 ],
 "metadata": {
  "kernelspec": {
   "display_name": "Python 3 (ipykernel)",
   "language": "python",
   "name": "python3"
  },
  "language_info": {
   "codemirror_mode": {
    "name": "ipython",
    "version": 3
   },
   "file_extension": ".py",
   "mimetype": "text/x-python",
   "name": "python",
   "nbconvert_exporter": "python",
   "pygments_lexer": "ipython3",
   "version": "3.8.16"
  }
 },
 "nbformat": 4,
 "nbformat_minor": 5
}
