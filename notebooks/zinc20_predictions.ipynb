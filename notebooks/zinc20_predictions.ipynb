{
 "cells": [
  {
   "cell_type": "code",
   "execution_count": 39,
   "metadata": {},
   "outputs": [],
   "source": [
    "from model_wrapper import model_wrapper as mw\n",
    "import constants as co\n",
    "from data_transformers import read_in_pipeline, create_molecular_features, process_molecular_features\n",
    "import json\n",
    "import pandas as pd\n",
    "from rdkit import Chem\n",
    "from rdkit.Chem import Draw\n",
    "pd.set_option(\"display.max_rows\", 1000)"
   ]
  },
  {
   "cell_type": "code",
   "execution_count": 22,
   "metadata": {},
   "outputs": [
    {
     "data": {
      "text/plain": [
       "{'prediction_methodology': 'M_SVM',\n",
       " 'prediction_type': 'classification',\n",
       " 'GPU_support': False,\n",
       " 'training_aux_data': {'run_name': 'test',\n",
       "  'n_outer': 1,\n",
       "  'n_cv': 4,\n",
       "  'development': False,\n",
       "  'goal_function': 'precision',\n",
       "  'goal_function_multiplier': -1.0,\n",
       "  'threshold': 0.5,\n",
       "  'track_model': False,\n",
       "  'experiment': None,\n",
       "  'comment': None,\n",
       "  'max_evals': 200,\n",
       "  'pipeline_file': 'svm/pipeline_configuration_svm_classification_Morgan_1024_pca_512_QED.json'},\n",
       " 'data_preparation': {'data_file': 'ror_gamma_homo_sapiens_chembl_3.0_IC50.csv',\n",
       "  'max_level_activity': 15,\n",
       "  'std_threshold': 100,\n",
       "  'strategy': 'mean'},\n",
       " 'model_storage': {'resulting_model': 'model_svm_classifier_Morgan_1024_pca_512_QED_mean_100.model'}}"
      ]
     },
     "execution_count": 22,
     "metadata": {},
     "output_type": "execute_result"
    }
   ],
   "source": [
    "t_conf_file = co.TRAINING_CONF_DIR/\"mean_100/svm_classification_Morgan_1024_pca_512_QED.json\"\n",
    "with open(t_conf_file.as_posix(), \"r\") as f:\n",
    "    training_params = json.load(f)\n",
    "training_params"
   ]
  },
  {
   "cell_type": "code",
   "execution_count": 23,
   "metadata": {},
   "outputs": [
    {
     "name": "stderr",
     "output_type": "stream",
     "text": [
      "2022-07-29 17:11:57,993 - logger - INFO - Scaler constructor...\n",
      "2022-07-29 17:11:57,994 - logger - INFO - PCA constructor...\n",
      "2022-07-29 17:11:58,003 - logger - INFO - Scaler constructor...\n",
      "2022-07-29 17:11:58,004 - logger - INFO - PCA constructor...\n",
      "2022-07-29 17:11:58,004 - logger - INFO - CreateFPS fit...\n",
      "2022-07-29 17:11:58,005 - logger - INFO - CreateFPS transform...\n",
      "100%|██████████| 2005/2005 [00:03<00:00, 541.56it/s]\n",
      "2022-07-29 17:12:05,210 - logger - INFO - Scaler fit...\n",
      "2022-07-29 17:12:05,218 - logger - INFO - Scaler transform...\n",
      "2022-07-29 17:12:05,228 - logger - INFO - Scaler fit...\n"
     ]
    },
    {
     "data": {
      "text/html": [
       "<style>#sk-container-id-2 {color: black;background-color: white;}#sk-container-id-2 pre{padding: 0;}#sk-container-id-2 div.sk-toggleable {background-color: white;}#sk-container-id-2 label.sk-toggleable__label {cursor: pointer;display: block;width: 100%;margin-bottom: 0;padding: 0.3em;box-sizing: border-box;text-align: center;}#sk-container-id-2 label.sk-toggleable__label-arrow:before {content: \"▸\";float: left;margin-right: 0.25em;color: #696969;}#sk-container-id-2 label.sk-toggleable__label-arrow:hover:before {color: black;}#sk-container-id-2 div.sk-estimator:hover label.sk-toggleable__label-arrow:before {color: black;}#sk-container-id-2 div.sk-toggleable__content {max-height: 0;max-width: 0;overflow: hidden;text-align: left;background-color: #f0f8ff;}#sk-container-id-2 div.sk-toggleable__content pre {margin: 0.2em;color: black;border-radius: 0.25em;background-color: #f0f8ff;}#sk-container-id-2 input.sk-toggleable__control:checked~div.sk-toggleable__content {max-height: 200px;max-width: 100%;overflow: auto;}#sk-container-id-2 input.sk-toggleable__control:checked~label.sk-toggleable__label-arrow:before {content: \"▾\";}#sk-container-id-2 div.sk-estimator input.sk-toggleable__control:checked~label.sk-toggleable__label {background-color: #d4ebff;}#sk-container-id-2 div.sk-label input.sk-toggleable__control:checked~label.sk-toggleable__label {background-color: #d4ebff;}#sk-container-id-2 input.sk-hidden--visually {border: 0;clip: rect(1px 1px 1px 1px);clip: rect(1px, 1px, 1px, 1px);height: 1px;margin: -1px;overflow: hidden;padding: 0;position: absolute;width: 1px;}#sk-container-id-2 div.sk-estimator {font-family: monospace;background-color: #f0f8ff;border: 1px dotted black;border-radius: 0.25em;box-sizing: border-box;margin-bottom: 0.5em;}#sk-container-id-2 div.sk-estimator:hover {background-color: #d4ebff;}#sk-container-id-2 div.sk-parallel-item::after {content: \"\";width: 100%;border-bottom: 1px solid gray;flex-grow: 1;}#sk-container-id-2 div.sk-label:hover label.sk-toggleable__label {background-color: #d4ebff;}#sk-container-id-2 div.sk-serial::before {content: \"\";position: absolute;border-left: 1px solid gray;box-sizing: border-box;top: 0;bottom: 0;left: 50%;z-index: 0;}#sk-container-id-2 div.sk-serial {display: flex;flex-direction: column;align-items: center;background-color: white;padding-right: 0.2em;padding-left: 0.2em;position: relative;}#sk-container-id-2 div.sk-item {position: relative;z-index: 1;}#sk-container-id-2 div.sk-parallel {display: flex;align-items: stretch;justify-content: center;background-color: white;position: relative;}#sk-container-id-2 div.sk-item::before, #sk-container-id-2 div.sk-parallel-item::before {content: \"\";position: absolute;border-left: 1px solid gray;box-sizing: border-box;top: 0;bottom: 0;left: 50%;z-index: -1;}#sk-container-id-2 div.sk-parallel-item {display: flex;flex-direction: column;z-index: 1;position: relative;background-color: white;}#sk-container-id-2 div.sk-parallel-item:first-child::after {align-self: flex-end;width: 50%;}#sk-container-id-2 div.sk-parallel-item:last-child::after {align-self: flex-start;width: 50%;}#sk-container-id-2 div.sk-parallel-item:only-child::after {width: 0;}#sk-container-id-2 div.sk-dashed-wrapped {border: 1px dashed gray;margin: 0 0.4em 0.5em 0.4em;box-sizing: border-box;padding-bottom: 0.4em;background-color: white;}#sk-container-id-2 div.sk-label label {font-family: monospace;font-weight: bold;display: inline-block;line-height: 1.2em;}#sk-container-id-2 div.sk-label-container {text-align: center;}#sk-container-id-2 div.sk-container {/* jupyter's `normalize.less` sets `[hidden] { display: none; }` but bootstrap.min.css set `[hidden] { display: none !important; }` so we also need the `!important` here to be able to override the default hidden behavior on the sphinx rendered scikit-learn.org. See: https://github.com/scikit-learn/scikit-learn/issues/21755 */display: inline-block !important;position: relative;}#sk-container-id-2 div.sk-text-repr-fallback {display: none;}</style><div id=\"sk-container-id-2\" class=\"sk-top-container\"><div class=\"sk-text-repr-fallback\"><pre>Pipeline(steps=[(&#x27;Molecular features&#x27;,\n",
       "                 TurnSmilesIntoFeatures(chosen_descriptors=[&lt;module &#x27;mordred.SLogP&#x27; from &#x27;/home/rafalb/miniconda3/envs/rorgammaqsar/lib/python3.8/site-packages/mordred/SLogP.py&#x27;&gt;,\n",
       "                                                            mordred.RingCount.RingCount(None, False, False, True, None),\n",
       "                                                            &lt;class &#x27;mordred.HydrogenBond.HBondAcceptor&#x27;&gt;,\n",
       "                                                            &lt;class &#x27;mordred.HydrogenBond.HBondDonor&#x27;&gt;,\n",
       "                                                            &lt;class &#x27;mordre...\n",
       "                             scaling_features=[&#x27;SLogP&#x27;, &#x27;SMR&#x27;, &#x27;naRing&#x27;,\n",
       "                                               &#x27;nHBAcc&#x27;, &#x27;nHBDon&#x27;, &#x27;nRot&#x27;, &#x27;MW&#x27;,\n",
       "                                               &#x27;TopoPSA&#x27;, &#x27;QED&#x27;])),\n",
       "                (&#x27;PCA&#x27;,\n",
       "                 DataPCA(n_components=512,\n",
       "                         pca_features_names=[&#x27;fp_0&#x27;, &#x27;fp_1&#x27;, &#x27;fp_2&#x27;, &#x27;fp_3&#x27;,\n",
       "                                             &#x27;fp_4&#x27;, &#x27;fp_5&#x27;, &#x27;fp_6&#x27;, &#x27;fp_7&#x27;,\n",
       "                                             &#x27;fp_8&#x27;, &#x27;fp_9&#x27;, &#x27;fp_10&#x27;, &#x27;fp_11&#x27;,\n",
       "                                             &#x27;fp_12&#x27;, &#x27;fp_13&#x27;, &#x27;fp_14&#x27;, &#x27;fp_15&#x27;,\n",
       "                                             &#x27;fp_16&#x27;, &#x27;fp_17&#x27;, &#x27;fp_18&#x27;, &#x27;fp_19&#x27;,\n",
       "                                             &#x27;fp_20&#x27;, &#x27;fp_21&#x27;, &#x27;fp_22&#x27;, &#x27;fp_23&#x27;,\n",
       "                                             &#x27;fp_24&#x27;, &#x27;fp_25&#x27;, &#x27;fp_26&#x27;, &#x27;fp_27&#x27;,\n",
       "                                             &#x27;fp_28&#x27;, &#x27;fp_29&#x27;, ...]))])</pre><b>In a Jupyter environment, please rerun this cell to show the HTML representation or trust the notebook. <br />On GitHub, the HTML representation is unable to render, please try loading this page with nbviewer.org.</b></div><div class=\"sk-container\" hidden><div class=\"sk-item sk-dashed-wrapped\"><div class=\"sk-label-container\"><div class=\"sk-label sk-toggleable\"><input class=\"sk-toggleable__control sk-hidden--visually\" id=\"sk-estimator-id-7\" type=\"checkbox\" ><label for=\"sk-estimator-id-7\" class=\"sk-toggleable__label sk-toggleable__label-arrow\">Pipeline</label><div class=\"sk-toggleable__content\"><pre>Pipeline(steps=[(&#x27;Molecular features&#x27;,\n",
       "                 TurnSmilesIntoFeatures(chosen_descriptors=[&lt;module &#x27;mordred.SLogP&#x27; from &#x27;/home/rafalb/miniconda3/envs/rorgammaqsar/lib/python3.8/site-packages/mordred/SLogP.py&#x27;&gt;,\n",
       "                                                            mordred.RingCount.RingCount(None, False, False, True, None),\n",
       "                                                            &lt;class &#x27;mordred.HydrogenBond.HBondAcceptor&#x27;&gt;,\n",
       "                                                            &lt;class &#x27;mordred.HydrogenBond.HBondDonor&#x27;&gt;,\n",
       "                                                            &lt;class &#x27;mordre...\n",
       "                             scaling_features=[&#x27;SLogP&#x27;, &#x27;SMR&#x27;, &#x27;naRing&#x27;,\n",
       "                                               &#x27;nHBAcc&#x27;, &#x27;nHBDon&#x27;, &#x27;nRot&#x27;, &#x27;MW&#x27;,\n",
       "                                               &#x27;TopoPSA&#x27;, &#x27;QED&#x27;])),\n",
       "                (&#x27;PCA&#x27;,\n",
       "                 DataPCA(n_components=512,\n",
       "                         pca_features_names=[&#x27;fp_0&#x27;, &#x27;fp_1&#x27;, &#x27;fp_2&#x27;, &#x27;fp_3&#x27;,\n",
       "                                             &#x27;fp_4&#x27;, &#x27;fp_5&#x27;, &#x27;fp_6&#x27;, &#x27;fp_7&#x27;,\n",
       "                                             &#x27;fp_8&#x27;, &#x27;fp_9&#x27;, &#x27;fp_10&#x27;, &#x27;fp_11&#x27;,\n",
       "                                             &#x27;fp_12&#x27;, &#x27;fp_13&#x27;, &#x27;fp_14&#x27;, &#x27;fp_15&#x27;,\n",
       "                                             &#x27;fp_16&#x27;, &#x27;fp_17&#x27;, &#x27;fp_18&#x27;, &#x27;fp_19&#x27;,\n",
       "                                             &#x27;fp_20&#x27;, &#x27;fp_21&#x27;, &#x27;fp_22&#x27;, &#x27;fp_23&#x27;,\n",
       "                                             &#x27;fp_24&#x27;, &#x27;fp_25&#x27;, &#x27;fp_26&#x27;, &#x27;fp_27&#x27;,\n",
       "                                             &#x27;fp_28&#x27;, &#x27;fp_29&#x27;, ...]))])</pre></div></div></div><div class=\"sk-serial\"><div class=\"sk-item\"><div class=\"sk-estimator sk-toggleable\"><input class=\"sk-toggleable__control sk-hidden--visually\" id=\"sk-estimator-id-8\" type=\"checkbox\" ><label for=\"sk-estimator-id-8\" class=\"sk-toggleable__label sk-toggleable__label-arrow\">TurnSmilesIntoFeatures</label><div class=\"sk-toggleable__content\"><pre>TurnSmilesIntoFeatures(chosen_descriptors=[&lt;module &#x27;mordred.SLogP&#x27; from &#x27;/home/rafalb/miniconda3/envs/rorgammaqsar/lib/python3.8/site-packages/mordred/SLogP.py&#x27;&gt;,\n",
       "                                           mordred.RingCount.RingCount(None, False, False, True, None),\n",
       "                                           &lt;class &#x27;mordred.HydrogenBond.HBondAcceptor&#x27;&gt;,\n",
       "                                           &lt;class &#x27;mordred.HydrogenBond.HBondDonor&#x27;&gt;,\n",
       "                                           &lt;class &#x27;mordred.RotatableBond.RotatableBondsCount&#x27;&gt;,\n",
       "                                           mordred.Weight.Weight(True, False),\n",
       "                                           mordred.TopoPSA.TopoPSA(False),\n",
       "                                           &lt;module &#x27;mordred.Lipinski&#x27; from &#x27;/home/rafalb/miniconda3/envs/rorgammaqsar/lib/python3.8/site-packages/mordred/Lipinski.py&#x27;&gt;],\n",
       "                       meta_descriptors=[&#x27;QED&#x27;], opt_3d=None)</pre></div></div></div><div class=\"sk-item sk-dashed-wrapped\"><div class=\"sk-label-container\"><div class=\"sk-label sk-toggleable\"><input class=\"sk-toggleable__control sk-hidden--visually\" id=\"sk-estimator-id-9\" type=\"checkbox\" ><label for=\"sk-estimator-id-9\" class=\"sk-toggleable__label sk-toggleable__label-arrow\">Scaling: DataScaling</label><div class=\"sk-toggleable__content\"><pre>DataScaling(scaler=StandardScaler(),\n",
       "            scaling_features=[&#x27;SLogP&#x27;, &#x27;SMR&#x27;, &#x27;naRing&#x27;, &#x27;nHBAcc&#x27;, &#x27;nHBDon&#x27;,\n",
       "                              &#x27;nRot&#x27;, &#x27;MW&#x27;, &#x27;TopoPSA&#x27;, &#x27;QED&#x27;])</pre></div></div></div><div class=\"sk-parallel\"><div class=\"sk-parallel-item\"><div class=\"sk-item\"><div class=\"sk-label-container\"><div class=\"sk-label sk-toggleable\"><input class=\"sk-toggleable__control sk-hidden--visually\" id=\"sk-estimator-id-10\" type=\"checkbox\" ><label for=\"sk-estimator-id-10\" class=\"sk-toggleable__label sk-toggleable__label-arrow\">scaler: StandardScaler</label><div class=\"sk-toggleable__content\"><pre>StandardScaler()</pre></div></div></div><div class=\"sk-serial\"><div class=\"sk-item\"><div class=\"sk-estimator sk-toggleable\"><input class=\"sk-toggleable__control sk-hidden--visually\" id=\"sk-estimator-id-11\" type=\"checkbox\" ><label for=\"sk-estimator-id-11\" class=\"sk-toggleable__label sk-toggleable__label-arrow\">StandardScaler</label><div class=\"sk-toggleable__content\"><pre>StandardScaler()</pre></div></div></div></div></div></div></div></div><div class=\"sk-item\"><div class=\"sk-estimator sk-toggleable\"><input class=\"sk-toggleable__control sk-hidden--visually\" id=\"sk-estimator-id-12\" type=\"checkbox\" ><label for=\"sk-estimator-id-12\" class=\"sk-toggleable__label sk-toggleable__label-arrow\">DataPCA</label><div class=\"sk-toggleable__content\"><pre>DataPCA(n_components=512,\n",
       "        pca_features_names=[&#x27;fp_0&#x27;, &#x27;fp_1&#x27;, &#x27;fp_2&#x27;, &#x27;fp_3&#x27;, &#x27;fp_4&#x27;, &#x27;fp_5&#x27;,\n",
       "                            &#x27;fp_6&#x27;, &#x27;fp_7&#x27;, &#x27;fp_8&#x27;, &#x27;fp_9&#x27;, &#x27;fp_10&#x27;, &#x27;fp_11&#x27;,\n",
       "                            &#x27;fp_12&#x27;, &#x27;fp_13&#x27;, &#x27;fp_14&#x27;, &#x27;fp_15&#x27;, &#x27;fp_16&#x27;,\n",
       "                            &#x27;fp_17&#x27;, &#x27;fp_18&#x27;, &#x27;fp_19&#x27;, &#x27;fp_20&#x27;, &#x27;fp_21&#x27;,\n",
       "                            &#x27;fp_22&#x27;, &#x27;fp_23&#x27;, &#x27;fp_24&#x27;, &#x27;fp_25&#x27;, &#x27;fp_26&#x27;,\n",
       "                            &#x27;fp_27&#x27;, &#x27;fp_28&#x27;, &#x27;fp_29&#x27;, ...])</pre></div></div></div></div></div></div></div>"
      ],
      "text/plain": [
       "Pipeline(steps=[('Molecular features',\n",
       "                 TurnSmilesIntoFeatures(chosen_descriptors=[<module 'mordred.SLogP' from '/home/rafalb/miniconda3/envs/rorgammaqsar/lib/python3.8/site-packages/mordred/SLogP.py'>,\n",
       "                                                            mordred.RingCount.RingCount(None, False, False, True, None),\n",
       "                                                            <class 'mordred.HydrogenBond.HBondAcceptor'>,\n",
       "                                                            <class 'mordred.HydrogenBond.HBondDonor'>,\n",
       "                                                            <class 'mordre...\n",
       "                             scaling_features=['SLogP', 'SMR', 'naRing',\n",
       "                                               'nHBAcc', 'nHBDon', 'nRot', 'MW',\n",
       "                                               'TopoPSA', 'QED'])),\n",
       "                ('PCA',\n",
       "                 DataPCA(n_components=512,\n",
       "                         pca_features_names=['fp_0', 'fp_1', 'fp_2', 'fp_3',\n",
       "                                             'fp_4', 'fp_5', 'fp_6', 'fp_7',\n",
       "                                             'fp_8', 'fp_9', 'fp_10', 'fp_11',\n",
       "                                             'fp_12', 'fp_13', 'fp_14', 'fp_15',\n",
       "                                             'fp_16', 'fp_17', 'fp_18', 'fp_19',\n",
       "                                             'fp_20', 'fp_21', 'fp_22', 'fp_23',\n",
       "                                             'fp_24', 'fp_25', 'fp_26', 'fp_27',\n",
       "                                             'fp_28', 'fp_29', ...]))])"
      ]
     },
     "execution_count": 23,
     "metadata": {},
     "output_type": "execute_result"
    }
   ],
   "source": [
    "pipeline_configuration = read_in_pipeline(pipeline_file=training_params[\"training_aux_data\"][\"pipeline_file\"], pipeline_directory=co.PIPELINE_DIR)\n",
    "m_c = mw.M_SVM(prediction_type=training_params[\"prediction_type\"], pipeline_configuration=pipeline_configuration)\n",
    "model_file = (co.MODEL_DIR/training_params[\"model_storage\"][\"resulting_model\"]).as_posix()\n",
    "m_c.Load(model_file)\n",
    "\n",
    "smiles_codes_train = m_c.Data[\"smiles_codes_train\"]\n",
    "m_c.Pipeline.fit(X=smiles_codes_train, y=None)"
   ]
  },
  {
   "cell_type": "code",
   "execution_count": 34,
   "metadata": {},
   "outputs": [],
   "source": [
    "# digoxin-similar\n",
    "# sm = [\"C[C@H]1O[C@@H](O[C@@H]2[C@H](O)C[C@@H](O[C@@H]3[C@H](O)C[C@@H](O[C@H]4CC[C@@]5(C)[C@@H](CC[C@H]6[C@H]5CC[C@]5(C)[C@H](C7=CC(=O)OC7)CC[C@]65O)C4)O[C@@H]3C)O[C@@H]2C)C[C@H](O)[C@@H]1O\",\n",
    "#       \"C[C@@H]1O[C@H](O[C@@H]2[C@H](O)C[C@H](O[C@@H]3[C@H](O)C[C@H](O[C@@H]4CC[C@]5(C)[C@H]6CC[C@]7(C)[C@H](C8=CC(=O)OC8)[C@H](O)C[C@@]7(O)[C@@H]6CC[C@@H]5C4)O[C@@H]3C)O[C@@H]2C)C[C@@H](O)[C@@H]1O\",\n",
    "#       \"C[C@@H]1O[C@H](O[C@@H]2CC[C@]3(C)[C@H]4C[C@H](O)[C@]5(C)[C@H](C6=CC(=O)OC6)CC[C@@]5(O)[C@@H]4CC[C@@H]3C2)C[C@H](O)[C@H]1O[C@@H]1C[C@H](O)[C@@H](O[C@@H]2C[C@H](O)[C@@H](O[C@H]3O[C@H](CO)[C@H](O)[C@@H](O)[C@@H]3O)[C@H](C)O2)[C@H](C)O1\",\n",
    "#       \"CC(=O)O[C@@H]1C[C@H](O[C@@H]2[C@H](O)C[C@@H](O[C@@H]3[C@H](O)C[C@@H](O[C@@H]4CC[C@]5(C)[C@H]6C[C@H](O)[C@]7(C)[C@H](C8=CC(=O)OC8)CC[C@@]7(O)[C@@H]6CC[C@@H]5C4)O[C@@H]3C)O[C@@H]2C)O[C@H](C)[C@H]1O[C@H]1O[C@H](CO)[C@H](O)[C@@H](O)[C@@H]1O\",\n",
    "#       \"C[C@@H]1O[C@H](O[C@@H]2CC[C@]3(C)[C@H]4C[C@H](O)[C@]5(C)[C@H](C6=CC(=O)OC6)CC[C@]5(O)[C@@H]4CC[C@@H]3C2)C[C@H](O)[C@H]1O[C@@H]1C[C@H](O)[C@@H](O[C@@H]2C[C@H](O)[C@@H](O[C@H]3O[C@H](CO)[C@H](O)[C@@H](O)[C@@H]3O)[C@H](C)O2)[C@H](C)O1\",\n",
    "#       \"C[C@H]1O[C@@H](O[C@H]2CC[C@]3(C)[C@H]4C[C@@H](O)[C@]5(C)[C@@H](C6=CC(=O)OC6)CC[C@]5(O)[C@@H]4CC[C@@H]3C2)C[C@H](O)[C@@H]1O\",\n",
    "#       \"CC(=O)O[C@H]1C[C@H](O[C@@H]2[C@@H](O)C[C@H](O[C@@H]3[C@@H](O)C[C@H](O[C@@H]4CC[C@]5(C)[C@H]6C[C@@H](O)[C@]7(C)[C@H](C8=CC(=O)OC8)CC[C@]7(O)[C@@H]6CC[C@@H]5C4)O[C@@H]3C)O[C@@H]2C)O[C@H](C)[C@H]1O\",\n",
    "#       \"C[C@H]1O[C@@H](O[C@H]2CC[C@]3(C)[C@@H](CC[C@H]4[C@H]3C[C@H](O)[C@@]3(C)[C@H](C5=CC(=O)OC5)CC[C@]43O)C2)C[C@H](O)[C@@H]1O[C@@H]1C[C@H](O)[C@@H](O[C@@H]2C[C@H](O)[C@@H](O[C@H]3O[C@@H](CO)[C@H](O)[C@@H](O)[C@@H]3O)[C@@H](C)O2)[C@@H](C)O1\"]\n",
    "# ursolic-similar\n",
    "# ZINC257511791, ZINC14980299, ZINC49708319, ZINC257400456, ZINC257808147, ZINC8952030\n",
    "sm  = [\"CC(=O)O[C@@H]1CC[C@]2(C)[C@H](CC[C@]3(C)[C@@H]2CC=C2[C@@H]4[C@H](C)[C@H](C)CC[C@@]4(C(=O)O)CC[C@@]23C)C1(C)C\",\n",
    "       \"C[C@@H]1[C@H]2C3=CC[C@@H]4[C@@]5(C)CCC(=O)C(C)(C)[C@H]5CC[C@@]4(C)[C@]3(C)CC[C@@]2(C(=O)O)CC[C@H]1C\",\n",
    "       \"C[C@@H]1[C@H]2C3=CC[C@@H]4[C@@]5(C)C[C@H](O)[C@@H](O)C(C)(C)[C@@H]5CC[C@@]4(C)[C@]3(C)CC[C@@]2(C(=O)O)CC[C@H]1C\",\n",
    "       \"C[C@@H]1[C@H](O)C[C@]2(C(=O)O)CC[C@]3(C)C(=CC[C@@H]4[C@]5(C)CC[C@H](O)C(C)(C)[C@@H]5CC[C@@]43C)[C@H]2[C@H]1C\",\n",
    "       \"C[C@@H]1CC[C@]2(C(=O)O)CC[C@]3(C)C(=CC[C@@H]4[C@]5(C)CC[C@H](O)C(C)(C)[C@@H]5CC[C@@]43C)[C@H]2[C@]1(C)O\",\n",
    "       \"COC(=O)[C@]12CC[C@@H](C)[C@H](C)[C@H]1C1=CC[C@H]3[C@@]4(C)CC[C@@H](O)C(C)(C)[C@H]4CC[C@@]3(C)[C@]1(C)CC2\"]\n",
    "sm = pd.Series(sm)"
   ]
  },
  {
   "cell_type": "code",
   "execution_count": 35,
   "metadata": {},
   "outputs": [
    {
     "name": "stderr",
     "output_type": "stream",
     "text": [
      "2022-07-29 17:20:22,149 - logger - INFO - CreateFPS fit...\n",
      "2022-07-29 17:20:22,150 - logger - INFO - CreateFPS transform...\n",
      "100%|██████████| 6/6 [00:00<00:00, 464.06it/s]\n",
      "2022-07-29 17:20:22,203 - logger - INFO - Scaler transform...\n",
      "2022-07-29 17:20:22,207 - logger - INFO - PCA transform...\n"
     ]
    }
   ],
   "source": [
    "X = create_molecular_features(pipeline=m_c.Pipeline, smiles_codes=sm)\n",
    "X = process_molecular_features(pipeline=m_c.Pipeline, X=X)"
   ]
  },
  {
   "cell_type": "code",
   "execution_count": 36,
   "metadata": {},
   "outputs": [
    {
     "data": {
      "text/html": [
       "<div>\n",
       "<style scoped>\n",
       "    .dataframe tbody tr th:only-of-type {\n",
       "        vertical-align: middle;\n",
       "    }\n",
       "\n",
       "    .dataframe tbody tr th {\n",
       "        vertical-align: top;\n",
       "    }\n",
       "\n",
       "    .dataframe thead th {\n",
       "        text-align: right;\n",
       "    }\n",
       "</style>\n",
       "<table border=\"1\" class=\"dataframe\">\n",
       "  <thead>\n",
       "    <tr style=\"text-align: right;\">\n",
       "      <th></th>\n",
       "      <th>GhoseFilter</th>\n",
       "      <th>Lipinski</th>\n",
       "      <th>MW</th>\n",
       "      <th>QED</th>\n",
       "      <th>SLogP</th>\n",
       "      <th>SMR</th>\n",
       "      <th>TopoPSA</th>\n",
       "      <th>nHBAcc</th>\n",
       "      <th>nHBDon</th>\n",
       "      <th>nRot</th>\n",
       "      <th>...</th>\n",
       "      <th>pca_502</th>\n",
       "      <th>pca_503</th>\n",
       "      <th>pca_504</th>\n",
       "      <th>pca_505</th>\n",
       "      <th>pca_506</th>\n",
       "      <th>pca_507</th>\n",
       "      <th>pca_508</th>\n",
       "      <th>pca_509</th>\n",
       "      <th>pca_510</th>\n",
       "      <th>pca_511</th>\n",
       "    </tr>\n",
       "  </thead>\n",
       "  <tbody>\n",
       "    <tr>\n",
       "      <th>0</th>\n",
       "      <td>0</td>\n",
       "      <td>0</td>\n",
       "      <td>-0.250741</td>\n",
       "      <td>-0.714298</td>\n",
       "      <td>1.899711</td>\n",
       "      <td>0.617320</td>\n",
       "      <td>-1.051812</td>\n",
       "      <td>-1.240651</td>\n",
       "      <td>-0.087054</td>\n",
       "      <td>-2.189223</td>\n",
       "      <td>...</td>\n",
       "      <td>-0.026315</td>\n",
       "      <td>0.029017</td>\n",
       "      <td>-0.015146</td>\n",
       "      <td>-0.226609</td>\n",
       "      <td>0.021421</td>\n",
       "      <td>0.054592</td>\n",
       "      <td>-0.037953</td>\n",
       "      <td>-0.130439</td>\n",
       "      <td>0.189126</td>\n",
       "      <td>-0.115401</td>\n",
       "    </tr>\n",
       "    <tr>\n",
       "      <th>1</th>\n",
       "      <td>0</td>\n",
       "      <td>0</td>\n",
       "      <td>-0.618454</td>\n",
       "      <td>-0.069627</td>\n",
       "      <td>1.637043</td>\n",
       "      <td>0.126154</td>\n",
       "      <td>-1.359163</td>\n",
       "      <td>-1.895948</td>\n",
       "      <td>-0.087054</td>\n",
       "      <td>-2.672423</td>\n",
       "      <td>...</td>\n",
       "      <td>0.003620</td>\n",
       "      <td>0.035504</td>\n",
       "      <td>-0.094740</td>\n",
       "      <td>-0.077572</td>\n",
       "      <td>0.151244</td>\n",
       "      <td>0.047257</td>\n",
       "      <td>-0.251575</td>\n",
       "      <td>-0.273802</td>\n",
       "      <td>0.013793</td>\n",
       "      <td>-0.137975</td>\n",
       "    </tr>\n",
       "    <tr>\n",
       "      <th>2</th>\n",
       "      <td>0</td>\n",
       "      <td>0</td>\n",
       "      <td>-0.468027</td>\n",
       "      <td>-0.173032</td>\n",
       "      <td>0.740669</td>\n",
       "      <td>0.237436</td>\n",
       "      <td>-0.580297</td>\n",
       "      <td>-1.240651</td>\n",
       "      <td>2.240191</td>\n",
       "      <td>-2.672423</td>\n",
       "      <td>...</td>\n",
       "      <td>-0.202800</td>\n",
       "      <td>0.011031</td>\n",
       "      <td>-0.067693</td>\n",
       "      <td>-0.120149</td>\n",
       "      <td>-0.082968</td>\n",
       "      <td>-0.098024</td>\n",
       "      <td>-0.342810</td>\n",
       "      <td>-0.222099</td>\n",
       "      <td>0.000562</td>\n",
       "      <td>-0.006262</td>\n",
       "    </tr>\n",
       "    <tr>\n",
       "      <th>3</th>\n",
       "      <td>0</td>\n",
       "      <td>0</td>\n",
       "      <td>-0.468027</td>\n",
       "      <td>-0.173032</td>\n",
       "      <td>0.740669</td>\n",
       "      <td>0.237436</td>\n",
       "      <td>-0.580297</td>\n",
       "      <td>-1.240651</td>\n",
       "      <td>2.240191</td>\n",
       "      <td>-2.672423</td>\n",
       "      <td>...</td>\n",
       "      <td>-0.115126</td>\n",
       "      <td>0.130997</td>\n",
       "      <td>-0.139013</td>\n",
       "      <td>-0.086997</td>\n",
       "      <td>-0.079872</td>\n",
       "      <td>0.119205</td>\n",
       "      <td>-0.361885</td>\n",
       "      <td>-0.176681</td>\n",
       "      <td>0.286181</td>\n",
       "      <td>-0.122722</td>\n",
       "    </tr>\n",
       "    <tr>\n",
       "      <th>4</th>\n",
       "      <td>0</td>\n",
       "      <td>0</td>\n",
       "      <td>-0.468027</td>\n",
       "      <td>-0.223378</td>\n",
       "      <td>0.845055</td>\n",
       "      <td>0.240695</td>\n",
       "      <td>-0.580297</td>\n",
       "      <td>-1.240651</td>\n",
       "      <td>2.240191</td>\n",
       "      <td>-2.672423</td>\n",
       "      <td>...</td>\n",
       "      <td>-0.061505</td>\n",
       "      <td>0.095759</td>\n",
       "      <td>-0.357511</td>\n",
       "      <td>-0.034610</td>\n",
       "      <td>-0.011616</td>\n",
       "      <td>-0.036810</td>\n",
       "      <td>-0.251372</td>\n",
       "      <td>-0.307528</td>\n",
       "      <td>0.384764</td>\n",
       "      <td>-0.052328</td>\n",
       "    </tr>\n",
       "    <tr>\n",
       "      <th>5</th>\n",
       "      <td>0</td>\n",
       "      <td>0</td>\n",
       "      <td>-0.484558</td>\n",
       "      <td>-0.639999</td>\n",
       "      <td>1.550260</td>\n",
       "      <td>0.376697</td>\n",
       "      <td>-1.620229</td>\n",
       "      <td>-1.240651</td>\n",
       "      <td>-0.087054</td>\n",
       "      <td>-2.672423</td>\n",
       "      <td>...</td>\n",
       "      <td>-0.032765</td>\n",
       "      <td>-0.022792</td>\n",
       "      <td>-0.007355</td>\n",
       "      <td>0.037830</td>\n",
       "      <td>-0.015788</td>\n",
       "      <td>0.054650</td>\n",
       "      <td>-0.306067</td>\n",
       "      <td>-0.021589</td>\n",
       "      <td>0.284578</td>\n",
       "      <td>-0.054979</td>\n",
       "    </tr>\n",
       "  </tbody>\n",
       "</table>\n",
       "<p>6 rows × 523 columns</p>\n",
       "</div>"
      ],
      "text/plain": [
       "   GhoseFilter  Lipinski        MW       QED     SLogP       SMR   TopoPSA  \\\n",
       "0            0         0 -0.250741 -0.714298  1.899711  0.617320 -1.051812   \n",
       "1            0         0 -0.618454 -0.069627  1.637043  0.126154 -1.359163   \n",
       "2            0         0 -0.468027 -0.173032  0.740669  0.237436 -0.580297   \n",
       "3            0         0 -0.468027 -0.173032  0.740669  0.237436 -0.580297   \n",
       "4            0         0 -0.468027 -0.223378  0.845055  0.240695 -0.580297   \n",
       "5            0         0 -0.484558 -0.639999  1.550260  0.376697 -1.620229   \n",
       "\n",
       "     nHBAcc    nHBDon      nRot  ...   pca_502   pca_503   pca_504   pca_505  \\\n",
       "0 -1.240651 -0.087054 -2.189223  ... -0.026315  0.029017 -0.015146 -0.226609   \n",
       "1 -1.895948 -0.087054 -2.672423  ...  0.003620  0.035504 -0.094740 -0.077572   \n",
       "2 -1.240651  2.240191 -2.672423  ... -0.202800  0.011031 -0.067693 -0.120149   \n",
       "3 -1.240651  2.240191 -2.672423  ... -0.115126  0.130997 -0.139013 -0.086997   \n",
       "4 -1.240651  2.240191 -2.672423  ... -0.061505  0.095759 -0.357511 -0.034610   \n",
       "5 -1.240651 -0.087054 -2.672423  ... -0.032765 -0.022792 -0.007355  0.037830   \n",
       "\n",
       "    pca_506   pca_507   pca_508   pca_509   pca_510   pca_511  \n",
       "0  0.021421  0.054592 -0.037953 -0.130439  0.189126 -0.115401  \n",
       "1  0.151244  0.047257 -0.251575 -0.273802  0.013793 -0.137975  \n",
       "2 -0.082968 -0.098024 -0.342810 -0.222099  0.000562 -0.006262  \n",
       "3 -0.079872  0.119205 -0.361885 -0.176681  0.286181 -0.122722  \n",
       "4 -0.011616 -0.036810 -0.251372 -0.307528  0.384764 -0.052328  \n",
       "5 -0.015788  0.054650 -0.306067 -0.021589  0.284578 -0.054979  \n",
       "\n",
       "[6 rows x 523 columns]"
      ]
     },
     "execution_count": 36,
     "metadata": {},
     "output_type": "execute_result"
    }
   ],
   "source": [
    "X"
   ]
  },
  {
   "cell_type": "code",
   "execution_count": 37,
   "metadata": {},
   "outputs": [
    {
     "data": {
      "text/plain": [
       "0    0.595644\n",
       "1    0.522866\n",
       "2    0.440981\n",
       "3    0.407386\n",
       "4    0.425260\n",
       "5    0.550593\n",
       "dtype: float64"
      ]
     },
     "execution_count": 37,
     "metadata": {},
     "output_type": "execute_result"
    }
   ],
   "source": [
    "m_c.Predict(X)"
   ]
  },
  {
   "cell_type": "code",
   "execution_count": 25,
   "metadata": {},
   "outputs": [
    {
     "data": {
      "text/html": [
       "<div>\n",
       "<style scoped>\n",
       "    .dataframe tbody tr th:only-of-type {\n",
       "        vertical-align: middle;\n",
       "    }\n",
       "\n",
       "    .dataframe tbody tr th {\n",
       "        vertical-align: top;\n",
       "    }\n",
       "\n",
       "    .dataframe thead th {\n",
       "        text-align: right;\n",
       "    }\n",
       "</style>\n",
       "<table border=\"1\" class=\"dataframe\">\n",
       "  <thead>\n",
       "    <tr style=\"text-align: right;\">\n",
       "      <th></th>\n",
       "      <th>query_id</th>\n",
       "      <th>target_id</th>\n",
       "      <th>score</th>\n",
       "      <th>file</th>\n",
       "      <th>smiles</th>\n",
       "    </tr>\n",
       "  </thead>\n",
       "  <tbody>\n",
       "    <tr>\n",
       "      <th>0</th>\n",
       "      <td>digoxin</td>\n",
       "      <td>254855762</td>\n",
       "      <td>0.813333</td>\n",
       "      <td>KGAA.fpb</td>\n",
       "      <td>C[C@H]1O[C@@H](O[C@@H]2[C@H](O)C[C@@H](O[C@@H]...</td>\n",
       "    </tr>\n",
       "    <tr>\n",
       "      <th>1</th>\n",
       "      <td>digoxin</td>\n",
       "      <td>254855755</td>\n",
       "      <td>0.813333</td>\n",
       "      <td>KGAA.fpb</td>\n",
       "      <td>C[C@H]1O[C@@H](O[C@@H]2[C@H](O)C[C@@H](O[C@@H]...</td>\n",
       "    </tr>\n",
       "    <tr>\n",
       "      <th>2</th>\n",
       "      <td>digoxin</td>\n",
       "      <td>1775964726</td>\n",
       "      <td>0.813333</td>\n",
       "      <td>KGAA.fpb</td>\n",
       "      <td>C[C@@H]1O[C@@H](O[C@@H]2[C@H](O)C[C@H](O[C@@H]...</td>\n",
       "    </tr>\n",
       "    <tr>\n",
       "      <th>3</th>\n",
       "      <td>digoxin</td>\n",
       "      <td>254855752</td>\n",
       "      <td>0.813333</td>\n",
       "      <td>KGAA.fpb</td>\n",
       "      <td>C[C@H]1O[C@@H](O[C@@H]2[C@H](O)C[C@@H](O[C@@H]...</td>\n",
       "    </tr>\n",
       "    <tr>\n",
       "      <th>4</th>\n",
       "      <td>digoxin</td>\n",
       "      <td>1775964723</td>\n",
       "      <td>0.813333</td>\n",
       "      <td>KGAA.fpb</td>\n",
       "      <td>C[C@@H]1O[C@@H](O[C@@H]2[C@H](O)C[C@H](O[C@@H]...</td>\n",
       "    </tr>\n",
       "  </tbody>\n",
       "</table>\n",
       "</div>"
      ],
      "text/plain": [
       "  query_id   target_id     score      file  \\\n",
       "0  digoxin   254855762  0.813333  KGAA.fpb   \n",
       "1  digoxin   254855755  0.813333  KGAA.fpb   \n",
       "2  digoxin  1775964726  0.813333  KGAA.fpb   \n",
       "3  digoxin   254855752  0.813333  KGAA.fpb   \n",
       "4  digoxin  1775964723  0.813333  KGAA.fpb   \n",
       "\n",
       "                                              smiles  \n",
       "0  C[C@H]1O[C@@H](O[C@@H]2[C@H](O)C[C@@H](O[C@@H]...  \n",
       "1  C[C@H]1O[C@@H](O[C@@H]2[C@H](O)C[C@@H](O[C@@H]...  \n",
       "2  C[C@@H]1O[C@@H](O[C@@H]2[C@H](O)C[C@H](O[C@@H]...  \n",
       "3  C[C@H]1O[C@@H](O[C@@H]2[C@H](O)C[C@@H](O[C@@H]...  \n",
       "4  C[C@@H]1O[C@@H](O[C@@H]2[C@H](O)C[C@H](O[C@@H]...  "
      ]
     },
     "execution_count": 25,
     "metadata": {},
     "output_type": "execute_result"
    }
   ],
   "source": [
    "candidates = pd.read_csv(co.DATA_DIR_CANDIDATES/\"chosen_ligands_with_smiles_digo_urso_hydroxychole_0.70.csv\")\n",
    "candidates.head()"
   ]
  },
  {
   "cell_type": "code",
   "execution_count": 26,
   "metadata": {},
   "outputs": [
    {
     "name": "stderr",
     "output_type": "stream",
     "text": [
      "2022-07-29 17:12:31,332 - logger - INFO - CreateFPS fit...\n",
      "2022-07-29 17:12:31,333 - logger - INFO - CreateFPS transform...\n",
      "100%|██████████| 432/432 [00:00<00:00, 464.99it/s]\n",
      "2022-07-29 17:12:33,120 - logger - INFO - Scaler transform...\n",
      "2022-07-29 17:12:33,127 - logger - INFO - PCA transform...\n"
     ]
    }
   ],
   "source": [
    "X = create_molecular_features(pipeline=m_c.Pipeline, smiles_codes=candidates[\"smiles\"])\n",
    "X = process_molecular_features(pipeline=m_c.Pipeline, X=X)"
   ]
  },
  {
   "cell_type": "code",
   "execution_count": 27,
   "metadata": {},
   "outputs": [],
   "source": [
    "candidates[\"activity_proba\"] = m_c.Predict(X)"
   ]
  },
  {
   "cell_type": "code",
   "execution_count": 31,
   "metadata": {},
   "outputs": [
    {
     "data": {
      "text/html": [
       "<div>\n",
       "<style scoped>\n",
       "    .dataframe tbody tr th:only-of-type {\n",
       "        vertical-align: middle;\n",
       "    }\n",
       "\n",
       "    .dataframe tbody tr th {\n",
       "        vertical-align: top;\n",
       "    }\n",
       "\n",
       "    .dataframe thead th {\n",
       "        text-align: right;\n",
       "    }\n",
       "</style>\n",
       "<table border=\"1\" class=\"dataframe\">\n",
       "  <thead>\n",
       "    <tr style=\"text-align: right;\">\n",
       "      <th></th>\n",
       "      <th>query_id</th>\n",
       "      <th>target_id</th>\n",
       "      <th>score</th>\n",
       "      <th>file</th>\n",
       "      <th>smiles</th>\n",
       "      <th>activity_proba</th>\n",
       "    </tr>\n",
       "  </thead>\n",
       "  <tbody>\n",
       "    <tr>\n",
       "      <th>259</th>\n",
       "      <td>ursolic acid</td>\n",
       "      <td>118081009</td>\n",
       "      <td>0.727273</td>\n",
       "      <td>KKAC.fpb</td>\n",
       "      <td>C[C@@H]1[C@H]2C3=CC[C@@H]4[C@@]5(C)CC[C@H](O)C...</td>\n",
       "      <td>0.616338</td>\n",
       "    </tr>\n",
       "    <tr>\n",
       "      <th>394</th>\n",
       "      <td>ursolic acid</td>\n",
       "      <td>17434116</td>\n",
       "      <td>0.754098</td>\n",
       "      <td>JKAA.fpb</td>\n",
       "      <td>CC(=O)O[C@H]1CC[C@@]2(C)[C@@H](CC[C@]3(C)[C@@H...</td>\n",
       "      <td>0.595644</td>\n",
       "    </tr>\n",
       "    <tr>\n",
       "      <th>393</th>\n",
       "      <td>ursolic acid</td>\n",
       "      <td>59337582</td>\n",
       "      <td>0.754098</td>\n",
       "      <td>JKAA.fpb</td>\n",
       "      <td>CC(=O)O[C@H]1CC[C@@]2(C)[C@H](CC[C@]3(C)[C@@H]...</td>\n",
       "      <td>0.595644</td>\n",
       "    </tr>\n",
       "    <tr>\n",
       "      <th>15</th>\n",
       "      <td>ursolic acid</td>\n",
       "      <td>257511789</td>\n",
       "      <td>0.754098</td>\n",
       "      <td>JKAC.fpb</td>\n",
       "      <td>CC(=O)O[C@@H]1CC[C@]2(C)[C@H](CC[C@]3(C)[C@@H]...</td>\n",
       "      <td>0.595644</td>\n",
       "    </tr>\n",
       "    <tr>\n",
       "      <th>14</th>\n",
       "      <td>ursolic acid</td>\n",
       "      <td>257511790</td>\n",
       "      <td>0.754098</td>\n",
       "      <td>JKAC.fpb</td>\n",
       "      <td>CC(=O)O[C@@H]1CC[C@]2(C)[C@H](CC[C@]3(C)[C@@H]...</td>\n",
       "      <td>0.595644</td>\n",
       "    </tr>\n",
       "  </tbody>\n",
       "</table>\n",
       "</div>"
      ],
      "text/plain": [
       "         query_id  target_id     score      file  \\\n",
       "259  ursolic acid  118081009  0.727273  KKAC.fpb   \n",
       "394  ursolic acid   17434116  0.754098  JKAA.fpb   \n",
       "393  ursolic acid   59337582  0.754098  JKAA.fpb   \n",
       "15   ursolic acid  257511789  0.754098  JKAC.fpb   \n",
       "14   ursolic acid  257511790  0.754098  JKAC.fpb   \n",
       "\n",
       "                                                smiles  activity_proba  \n",
       "259  C[C@@H]1[C@H]2C3=CC[C@@H]4[C@@]5(C)CC[C@H](O)C...        0.616338  \n",
       "394  CC(=O)O[C@H]1CC[C@@]2(C)[C@@H](CC[C@]3(C)[C@@H...        0.595644  \n",
       "393  CC(=O)O[C@H]1CC[C@@]2(C)[C@H](CC[C@]3(C)[C@@H]...        0.595644  \n",
       "15   CC(=O)O[C@@H]1CC[C@]2(C)[C@H](CC[C@]3(C)[C@@H]...        0.595644  \n",
       "14   CC(=O)O[C@@H]1CC[C@]2(C)[C@H](CC[C@]3(C)[C@@H]...        0.595644  "
      ]
     },
     "execution_count": 31,
     "metadata": {},
     "output_type": "execute_result"
    }
   ],
   "source": [
    "candidates.sort_values(\"activity_proba\", ascending=False).head()"
   ]
  },
  {
   "cell_type": "code",
   "execution_count": 30,
   "metadata": {},
   "outputs": [],
   "source": [
    "candidates.sort_values(\"activity_proba\", ascending=False).to_csv(co.DATA_DIR_CANDIDATES/\"chosen_ligands_with_smiles_digo_urso_hydroxychole_0.70_with_proba.csv\", index=False)"
   ]
  },
  {
   "cell_type": "code",
   "execution_count": 40,
   "metadata": {},
   "outputs": [],
   "source": [
    "smi = [\"C[C@@H]1[C@H]2C3=CC[C@@H]4[C@@]5(C)CC[C@H](O)C(C)(C)[C@@H]5CC[C@@]4(C)[C@]3(C)CC[C@@]2(C(=O)OCc2ccccc2)CC[C@H]1C\", \"C[C@@H]1CC[C@@]2(CC[C@@]3(C(=CC[C@H]4[C@]3(CC[C@@H]5[C@@]4(CC[C@@H](C5(C)C)O)C)C)[C@@H]2[C@H]1C)C)C(=O)O\"]\n",
    "mols = [Chem.MolFromSmiles(item) for item in smi]"
   ]
  },
  {
   "cell_type": "code",
   "execution_count": 41,
   "metadata": {},
   "outputs": [
    {
     "data": {
      "image/png": "[encoded data removed]",
      "text/plain": [
       "<IPython.core.display.Image object>"
      ]
     },
     "execution_count": 41,
     "metadata": {},
     "output_type": "execute_result"
    }
   ],
   "source": [
    "Draw.MolsToGridImage(mols)"
   ]
  },
  {
   "cell_type": "code",
   "execution_count": 42,
   "metadata": {},
   "outputs": [
    {
     "data": {
      "image/png": "[encoded data removed]",
      "text/plain": [
       "<rdkit.Chem.rdchem.Mol at 0x7f9246c9b2e0>"
      ]
     },
     "execution_count": 42,
     "metadata": {},
     "output_type": "execute_result"
    }
   ],
   "source": [
    "mols[0]"
   ]
  },
  {
   "cell_type": "code",
   "execution_count": 43,
   "metadata": {},
   "outputs": [
    {
     "data": {
      "image/png": "[encoded data removed]",
      "text/plain": [
       "<rdkit.Chem.rdchem.Mol at 0x7f9246c9b400>"
      ]
     },
     "execution_count": 43,
     "metadata": {},
     "output_type": "execute_result"
    }
   ],
   "source": [
    "mols[1]"
   ]
  },
  {
   "cell_type": "code",
   "execution_count": null,
   "metadata": {},
   "outputs": [],
   "source": []
  }
 ],
 "metadata": {
  "kernelspec": {
   "display_name": "Python 3.8.13 ('rorgammaqsar')",
   "language": "python",
   "name": "python3"
  },
  "language_info": {
   "codemirror_mode": {
    "name": "ipython",
    "version": 3
   },
   "file_extension": ".py",
   "mimetype": "text/x-python",
   "name": "python",
   "nbconvert_exporter": "python",
   "pygments_lexer": "ipython3",
   "version": "3.8.13"
  },
  "orig_nbformat": 4,
  "vscode": {
   "interpreter": {
    "hash": "acfffd18c244b8f5a510cc01b749d984390c6dc8073ed7353ae0aaf37db191b1"
   }
  }
 },
 "nbformat": 4,
 "nbformat_minor": 2
}
