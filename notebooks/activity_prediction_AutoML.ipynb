{
 "cells": [
  {
   "cell_type": "code",
   "execution_count": 1,
   "id": "d88cde2a",
   "metadata": {},
   "outputs": [],
   "source": [
    "from pathlib import Path\n",
    "import sys\n",
    "local_module_path = Path(\"../modules/model_wrapper\")\n",
    "sys.path.append(local_module_path.as_posix())\n",
    "local_module_path = Path(\"../modules/data_transformers\")\n",
    "sys.path.append(local_module_path.as_posix())\n",
    "local_module_path = Path(\"../modules/auxiliary\")\n",
    "sys.path.append(local_module_path.as_posix())\n",
    "local_module_path = Path(\"../modules/constants\")\n",
    "sys.path.append(local_module_path.as_posix())"
   ]
  },
  {
   "cell_type": "code",
   "execution_count": 2,
   "id": "2c1e93a8",
   "metadata": {},
   "outputs": [],
   "source": [
    "import data_transformers as dt\n",
    "from model_wrapper import model_wrapper as mw\n",
    "import constants as co\n",
    "from auxiliary import loggers, plotScatterWithIdeal, create_precision_recall_plot\n",
    "\n",
    "from sklearn.model_selection import train_test_split, cross_validate\n",
    "from sklearn.metrics import mean_absolute_error, mean_squared_error, r2_score, make_scorer, accuracy_score, precision_score, recall_score, plot_confusion_matrix\n",
    "from sklearn.model_selection import RandomizedSearchCV\n",
    "\n",
    "import pandas as pd\n",
    "import numpy as np\n",
    "import os\n",
    "from rdkit import Chem\n",
    "from rdkit.Chem import AllChem\n",
    "from rdkit import Chem\n",
    "from rdkit.Chem import Draw\n",
    "from rdkit import DataStructs\n",
    "\n",
    "import mlflow\n",
    "from mlflow.models.signature import infer_signature\n",
    "from mlflow.utils.environment import _mlflow_conda_env\n",
    "\n",
    "from sklearn.model_selection import train_test_split\n",
    "from sklearn.preprocessing import StandardScaler, OneHotEncoder\n",
    "from sklearn.metrics import f1_score, confusion_matrix, average_precision_score, roc_auc_score, recall_score, \\\n",
    "precision_score, accuracy_score, precision_recall_curve\n",
    "from sklearn.feature_selection import VarianceThreshold\n",
    "\n",
    "from sklearn.base import BaseEstimator, TransformerMixin\n",
    "from sklearn.pipeline import FeatureUnion, Pipeline, make_pipeline\n",
    "from sklearn.decomposition import PCA\n",
    "\n",
    "from xgboost import XGBClassifier, plot_importance\n",
    "from sklearn.linear_model import BayesianRidge, LinearRegression, LogisticRegression, RidgeClassifier, RidgeClassifierCV\n",
    "\n",
    "from hyperopt import STATUS_OK, Trials, fmin, hp, tpe\n",
    "from functools import partial\n",
    "\n",
    "import pickle\n",
    "import json\n",
    "\n",
    "from IPython.display import IFrame\n",
    "\n",
    "import matplotlib.pyplot as plt\n",
    "%matplotlib inline\n",
    "\n",
    "pd.set_option('display.max_columns', None)\n",
    "random_seed = 42\n",
    "\n",
    "%config Completer.use_jedi = False"
   ]
  },
  {
   "cell_type": "code",
   "execution_count": 3,
   "id": "9ec1cf5e",
   "metadata": {},
   "outputs": [],
   "source": [
    "l = loggers.get_logger(logger_name=\"logger\")"
   ]
  },
  {
   "cell_type": "code",
   "execution_count": 4,
   "id": "1d60a97f",
   "metadata": {},
   "outputs": [],
   "source": [
    "def set_up_mlflow(experiment):\n",
    "    server_ip = \"10.210.200.190\"\n",
    "    os.environ['AWS_ACCESS_KEY_ID'] = 'mlflow'\n",
    "    os.environ['AWS_SECRET_ACCESS_KEY'] = 'uSPmPqTZv4YQh8M7oMqq'\n",
    "    os.environ['MLFLOW_S3_ENDPOINT_URL'] = f\"http://{server_ip}:9000\"\n",
    "    mlflow.set_tracking_uri(f\"http://{server_ip}:9002\")\n",
    "    mlflow.set_experiment(experiment)"
   ]
  },
  {
   "cell_type": "code",
   "execution_count": 5,
   "id": "2b7b9429",
   "metadata": {},
   "outputs": [
    {
     "name": "stderr",
     "output_type": "stream",
     "text": [
      "2022-06-09 08:41:32,996 - logger - INFO - rorgammaqsar2\n",
      "2022-06-09 08:41:32,996 - logger - INFO - rorgammaqsar2\n"
     ]
    }
   ],
   "source": [
    "l.info(os.environ['CONDA_DEFAULT_ENV'])"
   ]
  },
  {
   "cell_type": "markdown",
   "id": "f3962900",
   "metadata": {},
   "source": [
    "# Data load"
   ]
  },
  {
   "cell_type": "code",
   "execution_count": 6,
   "id": "bcca8b62",
   "metadata": {},
   "outputs": [
    {
     "data": {
      "text/html": [
       "<div>\n",
       "<style scoped>\n",
       "    .dataframe tbody tr th:only-of-type {\n",
       "        vertical-align: middle;\n",
       "    }\n",
       "\n",
       "    .dataframe tbody tr th {\n",
       "        vertical-align: top;\n",
       "    }\n",
       "\n",
       "    .dataframe thead th {\n",
       "        text-align: right;\n",
       "    }\n",
       "</style>\n",
       "<table border=\"1\" class=\"dataframe\">\n",
       "  <thead>\n",
       "    <tr style=\"text-align: right;\">\n",
       "      <th></th>\n",
       "      <th>molregno</th>\n",
       "      <th>standard_value_get_mean</th>\n",
       "      <th>standard_units_get_levels</th>\n",
       "      <th>standard_type_get_levels</th>\n",
       "      <th>chembl_id_compound_get_levels</th>\n",
       "      <th>canonical_smiles_get_levels</th>\n",
       "      <th>act_0</th>\n",
       "      <th>act_1</th>\n",
       "      <th>act_2</th>\n",
       "      <th>act_3</th>\n",
       "      <th>act_4</th>\n",
       "      <th>act_5</th>\n",
       "      <th>act_6</th>\n",
       "      <th>act_7</th>\n",
       "      <th>act_8</th>\n",
       "      <th>act_9</th>\n",
       "      <th>act_10</th>\n",
       "      <th>act_11</th>\n",
       "      <th>act_12</th>\n",
       "      <th>target_std</th>\n",
       "      <th>target_min</th>\n",
       "      <th>target_max</th>\n",
       "      <th>target_mean</th>\n",
       "      <th>target_median</th>\n",
       "      <th>IC50_nM</th>\n",
       "    </tr>\n",
       "  </thead>\n",
       "  <tbody>\n",
       "    <tr>\n",
       "      <th>0</th>\n",
       "      <td>2208</td>\n",
       "      <td>199.53</td>\n",
       "      <td>nM</td>\n",
       "      <td>IC50</td>\n",
       "      <td>CHEMBL38</td>\n",
       "      <td>CC1=C(/C=C/C(C)=C/C=C/C(C)=C/C(=O)O)C(C)(C)CCC1</td>\n",
       "      <td>199.53</td>\n",
       "      <td>NaN</td>\n",
       "      <td>NaN</td>\n",
       "      <td>NaN</td>\n",
       "      <td>NaN</td>\n",
       "      <td>NaN</td>\n",
       "      <td>NaN</td>\n",
       "      <td>NaN</td>\n",
       "      <td>NaN</td>\n",
       "      <td>NaN</td>\n",
       "      <td>NaN</td>\n",
       "      <td>NaN</td>\n",
       "      <td>NaN</td>\n",
       "      <td>0.0</td>\n",
       "      <td>199.53</td>\n",
       "      <td>199.53</td>\n",
       "      <td>199.53</td>\n",
       "      <td>199.53</td>\n",
       "      <td>199.53</td>\n",
       "    </tr>\n",
       "    <tr>\n",
       "      <th>1</th>\n",
       "      <td>40459</td>\n",
       "      <td>31900.00</td>\n",
       "      <td>nM</td>\n",
       "      <td>IC50</td>\n",
       "      <td>CHEMBL28721</td>\n",
       "      <td>O=C(O)C(S)C(S)C(=O)O</td>\n",
       "      <td>31900.00</td>\n",
       "      <td>NaN</td>\n",
       "      <td>NaN</td>\n",
       "      <td>NaN</td>\n",
       "      <td>NaN</td>\n",
       "      <td>NaN</td>\n",
       "      <td>NaN</td>\n",
       "      <td>NaN</td>\n",
       "      <td>NaN</td>\n",
       "      <td>NaN</td>\n",
       "      <td>NaN</td>\n",
       "      <td>NaN</td>\n",
       "      <td>NaN</td>\n",
       "      <td>0.0</td>\n",
       "      <td>31900.00</td>\n",
       "      <td>31900.00</td>\n",
       "      <td>31900.00</td>\n",
       "      <td>31900.00</td>\n",
       "      <td>31900.00</td>\n",
       "    </tr>\n",
       "    <tr>\n",
       "      <th>3</th>\n",
       "      <td>155592</td>\n",
       "      <td>10000.00</td>\n",
       "      <td>nM</td>\n",
       "      <td>IC50</td>\n",
       "      <td>CHEMBL418971</td>\n",
       "      <td>CC(C)(c1ccc(O)cc1)c1ccc(O)cc1</td>\n",
       "      <td>10000.00</td>\n",
       "      <td>NaN</td>\n",
       "      <td>NaN</td>\n",
       "      <td>NaN</td>\n",
       "      <td>NaN</td>\n",
       "      <td>NaN</td>\n",
       "      <td>NaN</td>\n",
       "      <td>NaN</td>\n",
       "      <td>NaN</td>\n",
       "      <td>NaN</td>\n",
       "      <td>NaN</td>\n",
       "      <td>NaN</td>\n",
       "      <td>NaN</td>\n",
       "      <td>0.0</td>\n",
       "      <td>10000.00</td>\n",
       "      <td>10000.00</td>\n",
       "      <td>10000.00</td>\n",
       "      <td>10000.00</td>\n",
       "      <td>10000.00</td>\n",
       "    </tr>\n",
       "    <tr>\n",
       "      <th>5</th>\n",
       "      <td>242555</td>\n",
       "      <td>80000.00</td>\n",
       "      <td>nM</td>\n",
       "      <td>IC50</td>\n",
       "      <td>CHEMBL358290</td>\n",
       "      <td>NS(=O)(=O)c1ccc(N/C(S)=N\\CCc2ccccc2)cc1</td>\n",
       "      <td>80000.00</td>\n",
       "      <td>NaN</td>\n",
       "      <td>NaN</td>\n",
       "      <td>NaN</td>\n",
       "      <td>NaN</td>\n",
       "      <td>NaN</td>\n",
       "      <td>NaN</td>\n",
       "      <td>NaN</td>\n",
       "      <td>NaN</td>\n",
       "      <td>NaN</td>\n",
       "      <td>NaN</td>\n",
       "      <td>NaN</td>\n",
       "      <td>NaN</td>\n",
       "      <td>0.0</td>\n",
       "      <td>80000.00</td>\n",
       "      <td>80000.00</td>\n",
       "      <td>80000.00</td>\n",
       "      <td>80000.00</td>\n",
       "      <td>80000.00</td>\n",
       "    </tr>\n",
       "    <tr>\n",
       "      <th>6</th>\n",
       "      <td>342149</td>\n",
       "      <td>10000.00</td>\n",
       "      <td>nM</td>\n",
       "      <td>IC50</td>\n",
       "      <td>CHEMBL382792</td>\n",
       "      <td>O=S(=O)(Nc1ccc(C(O)(C(F)(F)F)C(F)(F)F)cc1)c1cc...</td>\n",
       "      <td>10000.00</td>\n",
       "      <td>NaN</td>\n",
       "      <td>NaN</td>\n",
       "      <td>NaN</td>\n",
       "      <td>NaN</td>\n",
       "      <td>NaN</td>\n",
       "      <td>NaN</td>\n",
       "      <td>NaN</td>\n",
       "      <td>NaN</td>\n",
       "      <td>NaN</td>\n",
       "      <td>NaN</td>\n",
       "      <td>NaN</td>\n",
       "      <td>NaN</td>\n",
       "      <td>0.0</td>\n",
       "      <td>10000.00</td>\n",
       "      <td>10000.00</td>\n",
       "      <td>10000.00</td>\n",
       "      <td>10000.00</td>\n",
       "      <td>10000.00</td>\n",
       "    </tr>\n",
       "    <tr>\n",
       "      <th>...</th>\n",
       "      <td>...</td>\n",
       "      <td>...</td>\n",
       "      <td>...</td>\n",
       "      <td>...</td>\n",
       "      <td>...</td>\n",
       "      <td>...</td>\n",
       "      <td>...</td>\n",
       "      <td>...</td>\n",
       "      <td>...</td>\n",
       "      <td>...</td>\n",
       "      <td>...</td>\n",
       "      <td>...</td>\n",
       "      <td>...</td>\n",
       "      <td>...</td>\n",
       "      <td>...</td>\n",
       "      <td>...</td>\n",
       "      <td>...</td>\n",
       "      <td>...</td>\n",
       "      <td>...</td>\n",
       "      <td>...</td>\n",
       "      <td>...</td>\n",
       "      <td>...</td>\n",
       "      <td>...</td>\n",
       "      <td>...</td>\n",
       "      <td>...</td>\n",
       "    </tr>\n",
       "    <tr>\n",
       "      <th>2214</th>\n",
       "      <td>2459056</td>\n",
       "      <td>193.60</td>\n",
       "      <td>nM</td>\n",
       "      <td>IC50</td>\n",
       "      <td>CHEMBL4588625</td>\n",
       "      <td>C[C@H]1CN(C2CCc3ccc(NC(=O)c4cccc(C#N)c4)cc32)C...</td>\n",
       "      <td>193.60</td>\n",
       "      <td>NaN</td>\n",
       "      <td>NaN</td>\n",
       "      <td>NaN</td>\n",
       "      <td>NaN</td>\n",
       "      <td>NaN</td>\n",
       "      <td>NaN</td>\n",
       "      <td>NaN</td>\n",
       "      <td>NaN</td>\n",
       "      <td>NaN</td>\n",
       "      <td>NaN</td>\n",
       "      <td>NaN</td>\n",
       "      <td>NaN</td>\n",
       "      <td>0.0</td>\n",
       "      <td>193.60</td>\n",
       "      <td>193.60</td>\n",
       "      <td>193.60</td>\n",
       "      <td>193.60</td>\n",
       "      <td>193.60</td>\n",
       "    </tr>\n",
       "    <tr>\n",
       "      <th>2215</th>\n",
       "      <td>2459160</td>\n",
       "      <td>75.00</td>\n",
       "      <td>nM</td>\n",
       "      <td>IC50</td>\n",
       "      <td>CHEMBL4588729</td>\n",
       "      <td>O=C(O)c1ccc(-n2cc(C(=O)c3c(Cl)cccc3Cl)c3ccccc3...</td>\n",
       "      <td>75.00</td>\n",
       "      <td>NaN</td>\n",
       "      <td>NaN</td>\n",
       "      <td>NaN</td>\n",
       "      <td>NaN</td>\n",
       "      <td>NaN</td>\n",
       "      <td>NaN</td>\n",
       "      <td>NaN</td>\n",
       "      <td>NaN</td>\n",
       "      <td>NaN</td>\n",
       "      <td>NaN</td>\n",
       "      <td>NaN</td>\n",
       "      <td>NaN</td>\n",
       "      <td>0.0</td>\n",
       "      <td>75.00</td>\n",
       "      <td>75.00</td>\n",
       "      <td>75.00</td>\n",
       "      <td>75.00</td>\n",
       "      <td>75.00</td>\n",
       "    </tr>\n",
       "    <tr>\n",
       "      <th>2217</th>\n",
       "      <td>2462878</td>\n",
       "      <td>27.00</td>\n",
       "      <td>nM</td>\n",
       "      <td>IC50</td>\n",
       "      <td>CHEMBL4592447</td>\n",
       "      <td>Cc1cccc(Cl)c1C(=O)c1cn(-c2ccc(C(=O)O)cc2F)c2nc...</td>\n",
       "      <td>27.00</td>\n",
       "      <td>NaN</td>\n",
       "      <td>NaN</td>\n",
       "      <td>NaN</td>\n",
       "      <td>NaN</td>\n",
       "      <td>NaN</td>\n",
       "      <td>NaN</td>\n",
       "      <td>NaN</td>\n",
       "      <td>NaN</td>\n",
       "      <td>NaN</td>\n",
       "      <td>NaN</td>\n",
       "      <td>NaN</td>\n",
       "      <td>NaN</td>\n",
       "      <td>0.0</td>\n",
       "      <td>27.00</td>\n",
       "      <td>27.00</td>\n",
       "      <td>27.00</td>\n",
       "      <td>27.00</td>\n",
       "      <td>27.00</td>\n",
       "    </tr>\n",
       "    <tr>\n",
       "      <th>2218</th>\n",
       "      <td>2463217</td>\n",
       "      <td>357.70</td>\n",
       "      <td>nM</td>\n",
       "      <td>IC50</td>\n",
       "      <td>CHEMBL4592786</td>\n",
       "      <td>N#Cc1cccc(NC(=O)Nc2ccc3c(c2)C(N2CC4CCC(C2)N4C(...</td>\n",
       "      <td>357.70</td>\n",
       "      <td>NaN</td>\n",
       "      <td>NaN</td>\n",
       "      <td>NaN</td>\n",
       "      <td>NaN</td>\n",
       "      <td>NaN</td>\n",
       "      <td>NaN</td>\n",
       "      <td>NaN</td>\n",
       "      <td>NaN</td>\n",
       "      <td>NaN</td>\n",
       "      <td>NaN</td>\n",
       "      <td>NaN</td>\n",
       "      <td>NaN</td>\n",
       "      <td>0.0</td>\n",
       "      <td>357.70</td>\n",
       "      <td>357.70</td>\n",
       "      <td>357.70</td>\n",
       "      <td>357.70</td>\n",
       "      <td>357.70</td>\n",
       "    </tr>\n",
       "    <tr>\n",
       "      <th>2219</th>\n",
       "      <td>2464336</td>\n",
       "      <td>10000.00</td>\n",
       "      <td>nM</td>\n",
       "      <td>IC50</td>\n",
       "      <td>CHEMBL4593905</td>\n",
       "      <td>COc1ccc2c(n1)CCN(C(C)=O)[C@@H]2C(=O)Nc1ccc(OCc...</td>\n",
       "      <td>10000.00</td>\n",
       "      <td>NaN</td>\n",
       "      <td>NaN</td>\n",
       "      <td>NaN</td>\n",
       "      <td>NaN</td>\n",
       "      <td>NaN</td>\n",
       "      <td>NaN</td>\n",
       "      <td>NaN</td>\n",
       "      <td>NaN</td>\n",
       "      <td>NaN</td>\n",
       "      <td>NaN</td>\n",
       "      <td>NaN</td>\n",
       "      <td>NaN</td>\n",
       "      <td>0.0</td>\n",
       "      <td>10000.00</td>\n",
       "      <td>10000.00</td>\n",
       "      <td>10000.00</td>\n",
       "      <td>10000.00</td>\n",
       "      <td>10000.00</td>\n",
       "    </tr>\n",
       "  </tbody>\n",
       "</table>\n",
       "<p>2039 rows × 25 columns</p>\n",
       "</div>"
      ],
      "text/plain": [
       "      molregno  standard_value_get_mean standard_units_get_levels  \\\n",
       "0         2208                   199.53                        nM   \n",
       "1        40459                 31900.00                        nM   \n",
       "3       155592                 10000.00                        nM   \n",
       "5       242555                 80000.00                        nM   \n",
       "6       342149                 10000.00                        nM   \n",
       "...        ...                      ...                       ...   \n",
       "2214   2459056                   193.60                        nM   \n",
       "2215   2459160                    75.00                        nM   \n",
       "2217   2462878                    27.00                        nM   \n",
       "2218   2463217                   357.70                        nM   \n",
       "2219   2464336                 10000.00                        nM   \n",
       "\n",
       "     standard_type_get_levels chembl_id_compound_get_levels  \\\n",
       "0                        IC50                      CHEMBL38   \n",
       "1                        IC50                   CHEMBL28721   \n",
       "3                        IC50                  CHEMBL418971   \n",
       "5                        IC50                  CHEMBL358290   \n",
       "6                        IC50                  CHEMBL382792   \n",
       "...                       ...                           ...   \n",
       "2214                     IC50                 CHEMBL4588625   \n",
       "2215                     IC50                 CHEMBL4588729   \n",
       "2217                     IC50                 CHEMBL4592447   \n",
       "2218                     IC50                 CHEMBL4592786   \n",
       "2219                     IC50                 CHEMBL4593905   \n",
       "\n",
       "                            canonical_smiles_get_levels     act_0  act_1  \\\n",
       "0       CC1=C(/C=C/C(C)=C/C=C/C(C)=C/C(=O)O)C(C)(C)CCC1    199.53    NaN   \n",
       "1                                  O=C(O)C(S)C(S)C(=O)O  31900.00    NaN   \n",
       "3                         CC(C)(c1ccc(O)cc1)c1ccc(O)cc1  10000.00    NaN   \n",
       "5               NS(=O)(=O)c1ccc(N/C(S)=N\\CCc2ccccc2)cc1  80000.00    NaN   \n",
       "6     O=S(=O)(Nc1ccc(C(O)(C(F)(F)F)C(F)(F)F)cc1)c1cc...  10000.00    NaN   \n",
       "...                                                 ...       ...    ...   \n",
       "2214  C[C@H]1CN(C2CCc3ccc(NC(=O)c4cccc(C#N)c4)cc32)C...    193.60    NaN   \n",
       "2215  O=C(O)c1ccc(-n2cc(C(=O)c3c(Cl)cccc3Cl)c3ccccc3...     75.00    NaN   \n",
       "2217  Cc1cccc(Cl)c1C(=O)c1cn(-c2ccc(C(=O)O)cc2F)c2nc...     27.00    NaN   \n",
       "2218  N#Cc1cccc(NC(=O)Nc2ccc3c(c2)C(N2CC4CCC(C2)N4C(...    357.70    NaN   \n",
       "2219  COc1ccc2c(n1)CCN(C(C)=O)[C@@H]2C(=O)Nc1ccc(OCc...  10000.00    NaN   \n",
       "\n",
       "      act_2  act_3  act_4  act_5  act_6  act_7  act_8  act_9  act_10  act_11  \\\n",
       "0       NaN    NaN    NaN    NaN    NaN    NaN    NaN    NaN     NaN     NaN   \n",
       "1       NaN    NaN    NaN    NaN    NaN    NaN    NaN    NaN     NaN     NaN   \n",
       "3       NaN    NaN    NaN    NaN    NaN    NaN    NaN    NaN     NaN     NaN   \n",
       "5       NaN    NaN    NaN    NaN    NaN    NaN    NaN    NaN     NaN     NaN   \n",
       "6       NaN    NaN    NaN    NaN    NaN    NaN    NaN    NaN     NaN     NaN   \n",
       "...     ...    ...    ...    ...    ...    ...    ...    ...     ...     ...   \n",
       "2214    NaN    NaN    NaN    NaN    NaN    NaN    NaN    NaN     NaN     NaN   \n",
       "2215    NaN    NaN    NaN    NaN    NaN    NaN    NaN    NaN     NaN     NaN   \n",
       "2217    NaN    NaN    NaN    NaN    NaN    NaN    NaN    NaN     NaN     NaN   \n",
       "2218    NaN    NaN    NaN    NaN    NaN    NaN    NaN    NaN     NaN     NaN   \n",
       "2219    NaN    NaN    NaN    NaN    NaN    NaN    NaN    NaN     NaN     NaN   \n",
       "\n",
       "      act_12  target_std  target_min  target_max  target_mean  target_median  \\\n",
       "0        NaN         0.0      199.53      199.53       199.53         199.53   \n",
       "1        NaN         0.0    31900.00    31900.00     31900.00       31900.00   \n",
       "3        NaN         0.0    10000.00    10000.00     10000.00       10000.00   \n",
       "5        NaN         0.0    80000.00    80000.00     80000.00       80000.00   \n",
       "6        NaN         0.0    10000.00    10000.00     10000.00       10000.00   \n",
       "...      ...         ...         ...         ...          ...            ...   \n",
       "2214     NaN         0.0      193.60      193.60       193.60         193.60   \n",
       "2215     NaN         0.0       75.00       75.00        75.00          75.00   \n",
       "2217     NaN         0.0       27.00       27.00        27.00          27.00   \n",
       "2218     NaN         0.0      357.70      357.70       357.70         357.70   \n",
       "2219     NaN         0.0    10000.00    10000.00     10000.00       10000.00   \n",
       "\n",
       "       IC50_nM  \n",
       "0       199.53  \n",
       "1     31900.00  \n",
       "3     10000.00  \n",
       "5     80000.00  \n",
       "6     10000.00  \n",
       "...        ...  \n",
       "2214    193.60  \n",
       "2215     75.00  \n",
       "2217     27.00  \n",
       "2218    357.70  \n",
       "2219  10000.00  \n",
       "\n",
       "[2039 rows x 25 columns]"
      ]
     },
     "execution_count": 6,
     "metadata": {},
     "output_type": "execute_result"
    }
   ],
   "source": [
    "smiles_column = \"canonical_smiles_get_levels\"\n",
    "target_column = \"IC50_nM\"\n",
    "\n",
    "max_level_activity = 13\n",
    "train_data = pd.read_csv((co.DATA_DIR/\"ror_gamma_homo_sapiens.csv\").absolute().as_posix())\n",
    "activity_columns = [\"act_\"+str(iii) for iii in range(max_level_activity)]\n",
    "train_data[\"target_std\"] = train_data[activity_columns].apply(lambda x: np.std(x), axis=1)\n",
    "train_data[\"target_min\"] = train_data[activity_columns].apply(lambda x: np.min(x), axis=1)\n",
    "train_data[\"target_max\"] = train_data[activity_columns].apply(lambda x: np.max(x), axis=1)\n",
    "train_data[\"target_mean\"] = train_data[activity_columns].apply(lambda x: np.mean(x), axis=1)\n",
    "train_data[\"target_median\"] = train_data[activity_columns].apply(lambda x: np.median(x[~np.isnan(x)]), axis=1)\n",
    "train_data[target_column] = train_data[\"target_median\"]\n",
    "# here we exclude the molecules for which the std of the available measurements is significant \n",
    "target_std_threshold = 100\n",
    "train_data = train_data[train_data[\"target_std\"] < target_std_threshold]\n",
    "train_data"
   ]
  },
  {
   "cell_type": "code",
   "execution_count": 7,
   "id": "2b425690",
   "metadata": {},
   "outputs": [],
   "source": [
    "#tmp = train_data[[\"molregno\", smiles_column, target_column]].set_index(\"molregno\")\n",
    "#tmp.columns = [\"smiles\", \"target\"]\n",
    "#tmp.sample(n=1000).to_csv(\"test_data_large.csv\", index=True)"
   ]
  },
  {
   "cell_type": "markdown",
   "id": "3117c643",
   "metadata": {},
   "source": [
    "# Data"
   ]
  },
  {
   "cell_type": "code",
   "execution_count": 8,
   "id": "059b4289",
   "metadata": {},
   "outputs": [
    {
     "name": "stderr",
     "output_type": "stream",
     "text": [
      "2022-06-09 08:41:38,378 - logger - INFO - CreateFPS fit...\n",
      "2022-06-09 08:41:38,378 - logger - INFO - CreateFPS fit...\n",
      "2022-06-09 08:41:38,379 - logger - INFO - CreateFPS transform...\n",
      "2022-06-09 08:41:38,379 - logger - INFO - CreateFPS transform...\n",
      "100%|██████████| 2039/2039 [00:02<00:00, 804.86it/s]\n"
     ]
    }
   ],
   "source": [
    "smiles_codes = train_data[\"canonical_smiles_get_levels\"].copy()\n",
    "target = train_data[\"IC50_nM\"].copy()\n",
    "\n",
    "non_idx = dt.validate_smiles(smiles_codes=smiles_codes)\n",
    "smiles_codes = smiles_codes.drop(non_idx, axis=0)\n",
    "target = target.drop(non_idx, axis=0)\n",
    "\n",
    "pipeline_file = \"pipeline_configuration_XGBoost_regression.json\"\n",
    "pipeline_configuration = dt.read_in_pipeline(pipeline_file=pipeline_file, pipeline_directory=co.PIPELINE_DIR)\n",
    "pipeline = dt.create_pipeline(pipeline_configuration=pipeline_configuration[\"feature_transform\"])\n",
    "\n",
    "y_train = dt.process_taget(pipeline_configuration=pipeline_configuration[\"target_transform\"], y=target)\n",
    "smiles_codes = smiles_codes.loc[y_train.index]\n",
    "\n",
    "pipeline.fit(X=smiles_codes, y=None)\n",
    "X_train = dt.create_molecular_features(pipeline=pipeline, smiles_codes=smiles_codes)\n",
    "X_train = dt.process_molecular_features(pipeline=pipeline, X=X_train)"
   ]
  },
  {
   "cell_type": "code",
   "execution_count": 9,
   "id": "709d90dd",
   "metadata": {},
   "outputs": [
    {
     "data": {
      "text/plain": [
       "array([[<AxesSubplot:title={'center':'SLogP'}>,\n",
       "        <AxesSubplot:title={'center':'SMR'}>],\n",
       "       [<AxesSubplot:title={'center':'naRing'}>,\n",
       "        <AxesSubplot:title={'center':'nHBAcc'}>]], dtype=object)"
      ]
     },
     "execution_count": 9,
     "metadata": {},
     "output_type": "execute_result"
    },
    {
     "data": {
      "image/png": "[encoded data removed]",
      "text/plain": [
       "<Figure size 720x720 with 4 Axes>"
      ]
     },
     "metadata": {
      "needs_background": "light"
     },
     "output_type": "display_data"
    }
   ],
   "source": [
    "MDs = [\"SLogP\", \"SMR\", \"naRing\", \"nHBAcc\", \"nHBDon\", \"nRot\", \"MW\", \"TopoPSA\", \"QED\"]\n",
    "X_train[MDs[:4]].hist(bins=20, grid=True, figsize=(10, 10))"
   ]
  },
  {
   "cell_type": "code",
   "execution_count": 10,
   "id": "4fd29f0d",
   "metadata": {},
   "outputs": [
    {
     "data": {
      "text/plain": [
       "array([[<AxesSubplot:title={'center':'nHBDon'}>,\n",
       "        <AxesSubplot:title={'center':'nRot'}>],\n",
       "       [<AxesSubplot:title={'center':'MW'}>,\n",
       "        <AxesSubplot:title={'center':'TopoPSA'}>]], dtype=object)"
      ]
     },
     "execution_count": 10,
     "metadata": {},
     "output_type": "execute_result"
    },
    {
     "data": {
      "image/png": "[encoded data removed]",
      "text/plain": [
       "<Figure size 720x720 with 4 Axes>"
      ]
     },
     "metadata": {
      "needs_background": "light"
     },
     "output_type": "display_data"
    }
   ],
   "source": [
    "X_train[MDs[4:8]].hist(bins=20, grid=True, figsize=(10, 10))"
   ]
  },
  {
   "cell_type": "code",
   "execution_count": 11,
   "id": "948482b4",
   "metadata": {},
   "outputs": [
    {
     "data": {
      "text/plain": [
       "array([[<AxesSubplot:title={'center':'QED'}>]], dtype=object)"
      ]
     },
     "execution_count": 11,
     "metadata": {},
     "output_type": "execute_result"
    },
    {
     "data": {
      "image/png": "[encoded data removed]",
      "text/plain": [
       "<Figure size 720x720 with 1 Axes>"
      ]
     },
     "metadata": {
      "needs_background": "light"
     },
     "output_type": "display_data"
    }
   ],
   "source": [
    "X_train[[MDs[-1]]].hist(bins=20, grid=True, figsize=(10, 10))"
   ]
  },
  {
   "cell_type": "code",
   "execution_count": 12,
   "id": "a5d63797",
   "metadata": {},
   "outputs": [
    {
     "name": "stderr",
     "output_type": "stream",
     "text": [
      "2022-06-09 08:41:50,806 - logger - INFO - The number of positive cases: 1390\n",
      "2022-06-09 08:41:50,806 - logger - INFO - The number of positive cases: 1390\n",
      "2022-06-09 08:41:50,807 - logger - INFO - The number of negative cases: 649\n",
      "2022-06-09 08:41:50,807 - logger - INFO - The number of negative cases: 649\n",
      "2022-06-09 08:41:50,808 - logger - INFO - The positive cases fraction: 0.6817067189798921\n",
      "2022-06-09 08:41:50,808 - logger - INFO - The positive cases fraction: 0.6817067189798921\n"
     ]
    }
   ],
   "source": [
    "smiles_codes = train_data[\"canonical_smiles_get_levels\"].copy()\n",
    "target = train_data[\"IC50_nM\"].copy()\n",
    "\n",
    "non_idx = dt.validate_smiles(smiles_codes=smiles_codes)\n",
    "smiles_codes = smiles_codes.drop(non_idx, axis=0)\n",
    "target = target.drop(non_idx, axis=0)\n",
    "\n",
    "pipeline_file = \"pipeline_configuration_XGBoost_classification.json\"\n",
    "pipeline_configuration = dt.read_in_pipeline(pipeline_file=pipeline_file, pipeline_directory=co.PIPELINE_DIR)\n",
    "pipeline = dt.create_pipeline(pipeline_configuration=pipeline_configuration[\"feature_transform\"])\n",
    "\n",
    "y_train = dt.process_taget(pipeline_configuration=pipeline_configuration[\"target_transform\"], y=target)\n",
    "smiles_codes = smiles_codes.loc[y_train.index]\n",
    "\n",
    "l.info(\"The number of positive cases: \"+str(y_train.sum()))\n",
    "l.info(\"The number of negative cases: \"+str(y_train.shape[0]-y_train.sum()))\n",
    "l.info(\"The positive cases fraction: \"+str(y_train.sum()/y_train.shape[0]))"
   ]
  },
  {
   "cell_type": "markdown",
   "id": "4841c7d9",
   "metadata": {},
   "source": [
    "# XGBoost"
   ]
  },
  {
   "cell_type": "markdown",
   "id": "bdfbdb92",
   "metadata": {},
   "source": [
    "## Basic regression"
   ]
  },
  {
   "cell_type": "code",
   "execution_count": 13,
   "id": "e0e09811",
   "metadata": {},
   "outputs": [],
   "source": [
    "PIPELINE_FILE = \"pipeline_configuration_XGBoost_regression.json\""
   ]
  },
  {
   "cell_type": "code",
   "execution_count": 15,
   "id": "dd3064fd",
   "metadata": {},
   "outputs": [
    {
     "name": "stderr",
     "output_type": "stream",
     "text": [
      "2022-06-09 08:42:35,562 - logger - INFO - CreateFPS transform...\n",
      "2022-06-09 08:42:35,562 - logger - INFO - CreateFPS transform...\n",
      "100%|██████████| 1835/1835 [00:02<00:00, 807.96it/s]\n"
     ]
    },
    {
     "name": "stdout",
     "output_type": "stream",
     "text": [
      "100%|██████████| 150/150 [13:21<00:00,  5.34s/it, best loss: 0.4865313191486897]\n"
     ]
    },
    {
     "name": "stderr",
     "output_type": "stream",
     "text": [
      "2022-06-09 08:56:08,250 - logger - INFO - Regressor quality after hyperparameter optimization: 0.4865313191486897\n",
      "2022-06-09 08:56:08,250 - logger - INFO - Regressor quality after hyperparameter optimization: 0.4865313191486897\n"
     ]
    }
   ],
   "source": [
    "smiles_codes = train_data[\"canonical_smiles_get_levels\"].copy()\n",
    "target = train_data[\"IC50_nM\"].copy()\n",
    "\n",
    "non_idx = dt.validate_smiles(smiles_codes=smiles_codes)\n",
    "smiles_codes = smiles_codes.drop(non_idx, axis=0)\n",
    "target = target.drop(non_idx, axis=0)\n",
    "\n",
    "pipeline_file = PIPELINE_FILE\n",
    "pipeline_configuration = dt.read_in_pipeline(pipeline_file=pipeline_file, pipeline_directory=co.PIPELINE_DIR)\n",
    "pipeline = dt.create_pipeline(pipeline_configuration=pipeline_configuration[\"feature_transform\"])\n",
    "\n",
    "y_train = dt.process_taget(pipeline_configuration=pipeline_configuration[\"target_transform\"], y=target)\n",
    "smiles_codes = smiles_codes.loc[y_train.index]\n",
    "\n",
    "smiles_codes_train, smiles_codes_train_val, y_train, y_train_val = train_test_split(smiles_codes, y_train, test_size=0.1, random_state=co.RANDOM_STATE)\n",
    "\n",
    "m_r = mw.M_XGBoost(prediction_type=mw.Prediction_Type.REGRESSION, pipeline_configuration=pipeline_configuration)\n",
    "data = {\"smiles_codes_train\": smiles_codes_train, \"targets_train\": y_train, \n",
    "        \"smiles_codes_val\": smiles_codes_train_val, \"targets_val\": y_train_val}\n",
    "m_r.Data = data\n",
    "m_r.Create_Features()\n",
    "\n",
    "aux_data = {\"run_name\": \"test\",\n",
    "        \"n_outer\": 1, \"n_cv\": 4, \"development\": False,\n",
    "        \"goal_function\": \"mse\", \"goal_function_multiplier\": 1.0, \"threshold\": None,\n",
    "        \"track_model\": False, \"experiment\": None, \"comment\": None, \"max_evals\": None}\n",
    "\n",
    "fmin_objective = partial(m_r.F_Opt, aux_data=aux_data)\n",
    "trials = Trials()\n",
    "rstate = np.random.RandomState(co.RANDOM_STATE+1)\n",
    "max_evals = 150\n",
    "best_hyperparams = fmin(fn=fmin_objective, space=m_r.Space, algo=tpe.suggest, max_evals=max_evals, \n",
    "                        trials=trials, return_argmin=True, rstate=rstate, show_progressbar=True)\n",
    "\n",
    "measure = m_r.Get_Measure(smiles_codes, y_train, hyperparameters=best_hyperparams, n_outer=aux_data[\"n_outer\"], n_cv=aux_data[\"n_cv\"],\n",
    "                          threshold=None, goal=aux_data[\"goal_function\"]) \n",
    "   \n",
    "l.info(\"Regressor quality after hyperparameter optimization: \"+str(measure))"
   ]
  },
  {
   "cell_type": "markdown",
   "id": "5f95d680",
   "metadata": {},
   "source": [
    "### Model storage"
   ]
  },
  {
   "cell_type": "code",
   "execution_count": 19,
   "id": "f294c385",
   "metadata": {},
   "outputs": [],
   "source": [
    "m_r_file = \"regressor_xgboost_20220531.model\"\n",
    "m_r.Save((co.MODEL_DIR/m_r_file).absolute().as_posix())"
   ]
  },
  {
   "cell_type": "markdown",
   "id": "948e2e3d",
   "metadata": {},
   "source": [
    "### Final training and validation"
   ]
  },
  {
   "cell_type": "code",
   "execution_count": 16,
   "id": "ed762713",
   "metadata": {},
   "outputs": [
    {
     "name": "stderr",
     "output_type": "stream",
     "text": [
      "2022-06-09 08:56:14,532 - logger - INFO - CreateFPS fit...\n",
      "2022-06-09 08:56:14,532 - logger - INFO - CreateFPS fit...\n",
      "2022-06-09 08:56:14,534 - logger - INFO - CreateFPS transform...\n",
      "2022-06-09 08:56:14,534 - logger - INFO - CreateFPS transform...\n",
      "100%|██████████| 1835/1835 [00:02<00:00, 851.82it/s]\n",
      "2022-06-09 08:56:21,778 - logger - INFO - CreateFPS transform...\n",
      "2022-06-09 08:56:21,778 - logger - INFO - CreateFPS transform...\n",
      "100%|██████████| 204/204 [00:00<00:00, 727.04it/s]\n"
     ]
    },
    {
     "data": {
      "text/plain": [
       "<AxesSubplot:title={'center':'Actual vs. Predicted plot'}, xlabel='Predicted', ylabel='Actual'>"
      ]
     },
     "execution_count": 16,
     "metadata": {},
     "output_type": "execute_result"
    },
    {
     "data": {
      "image/png": "[encoded data removed]",
      "text/plain": [
       "<Figure size 720x576 with 1 Axes>"
      ]
     },
     "metadata": {},
     "output_type": "display_data"
    }
   ],
   "source": [
    "pipeline.fit(X=smiles_codes_train, y=None)\n",
    "X_train = dt.create_molecular_features(pipeline=pipeline, smiles_codes=smiles_codes_train)\n",
    "X_train = dt.process_molecular_features(pipeline=pipeline, X=X_train)\n",
    "\n",
    "m_r.Train(X_train, y_train, hyperparameters=best_hyperparams)\n",
    "\n",
    "X_train_val = dt.create_molecular_features(pipeline=pipeline, smiles_codes=smiles_codes_train_val)\n",
    "X_train_val = dt.process_molecular_features(pipeline=pipeline, X=X_train_val)\n",
    "y_train_val_pred = m_r.Predict(X_train_val)\n",
    "plotScatterWithIdeal(y_train_val.values, y_train_val_pred.values, \"Actual vs. Predicted plot\")"
   ]
  },
  {
   "cell_type": "code",
   "execution_count": 17,
   "id": "99f36bed",
   "metadata": {},
   "outputs": [
    {
     "name": "stderr",
     "output_type": "stream",
     "text": [
      "2022-06-09 08:56:26,779 - logger - INFO - R2 coefficient: 0.6973417240275794\n",
      "2022-06-09 08:56:26,779 - logger - INFO - R2 coefficient: 0.6973417240275794\n"
     ]
    }
   ],
   "source": [
    "l.info(\"R2 coefficient: \"+str(r2_score(y_train_val, y_train_val_pred)))"
   ]
  },
  {
   "cell_type": "code",
   "execution_count": 18,
   "id": "4b70d228",
   "metadata": {},
   "outputs": [
    {
     "data": {
      "text/plain": [
       "{'fp_804': 18.97726821899414,\n",
       " 'GhoseFilter': 15.791670799255371,\n",
       " 'fp_725': 12.20308780670166,\n",
       " 'fp_1004': 12.0628662109375,\n",
       " 'fp_152': 11.885690689086914,\n",
       " 'fp_115': 11.524139404296875,\n",
       " 'fp_823': 10.652856826782227,\n",
       " 'fp_580': 10.342880249023438,\n",
       " 'MW': 10.308886528015137,\n",
       " 'fp_177': 9.714940071105957,\n",
       " 'fp_597': 8.90768051147461,\n",
       " 'fp_314': 8.68078899383545,\n",
       " 'fp_350': 8.482366561889648,\n",
       " 'fp_404': 6.7076334953308105,\n",
       " 'fp_591': 6.414976119995117,\n",
       " 'fp_106': 6.403954029083252,\n",
       " 'fp_93': 5.954243183135986,\n",
       " 'fp_564': 5.894175052642822,\n",
       " 'fp_146': 5.834840297698975,\n",
       " 'fp_588': 5.706806182861328,\n",
       " 'fp_285': 5.543318271636963,\n",
       " 'fp_989': 5.208711624145508,\n",
       " 'fp_863': 5.169906139373779,\n",
       " 'fp_401': 5.104822158813477,\n",
       " 'fp_236': 4.91397762298584,\n",
       " 'fp_229': 4.831779956817627,\n",
       " 'fp_162': 4.791646480560303,\n",
       " 'fp_910': 4.7824201583862305,\n",
       " 'fp_9': 4.762113571166992,\n",
       " 'fp_484': 4.728356838226318,\n",
       " 'fp_283': 4.6705803871154785,\n",
       " 'SMR': 4.529778480529785,\n",
       " 'fp_34': 4.218594551086426,\n",
       " 'fp_927': 4.206279277801514,\n",
       " 'fp_729': 4.164951324462891,\n",
       " 'fp_441': 4.152964115142822,\n",
       " 'fp_131': 4.0757832527160645,\n",
       " 'fp_661': 4.052192211151123,\n",
       " 'fp_402': 4.04445743560791,\n",
       " 'fp_326': 3.9101972579956055,\n",
       " 'fp_640': 3.8275909423828125,\n",
       " 'fp_292': 3.7979369163513184,\n",
       " 'fp_233': 3.633866310119629,\n",
       " 'fp_23': 3.5594913959503174,\n",
       " 'fp_103': 3.554774522781372,\n",
       " 'fp_349': 3.519721031188965,\n",
       " 'fp_116': 3.5042431354522705,\n",
       " 'fp_691': 3.486435651779175,\n",
       " 'fp_61': 3.4482955932617188,\n",
       " 'fp_374': 3.396697998046875,\n",
       " 'fp_384': 3.3948476314544678,\n",
       " 'fp_423': 3.388427734375,\n",
       " 'fp_999': 3.2752933502197266,\n",
       " 'fp_59': 3.2343544960021973,\n",
       " 'fp_958': 3.205841302871704,\n",
       " 'fp_288': 3.182457447052002,\n",
       " 'fp_407': 3.1734724044799805,\n",
       " 'nHBDon': 3.15665602684021,\n",
       " 'fp_732': 3.1335606575012207,\n",
       " 'fp_417': 3.08978271484375,\n",
       " 'fp_416': 3.077014923095703,\n",
       " 'fp_908': 3.0702338218688965,\n",
       " 'fp_699': 3.0642776489257812,\n",
       " 'fp_90': 2.9686694145202637,\n",
       " 'fp_831': 2.929375648498535,\n",
       " 'fp_277': 2.8811545372009277,\n",
       " 'fp_799': 2.8413987159729004,\n",
       " 'fp_926': 2.8328332901000977,\n",
       " 'fp_945': 2.8035693168640137,\n",
       " 'fp_322': 2.791813850402832,\n",
       " 'fp_887': 2.7846834659576416,\n",
       " 'fp_94': 2.775871753692627,\n",
       " 'fp_81': 2.766080856323242,\n",
       " 'fp_214': 2.6678972244262695,\n",
       " 'fp_757': 2.6671500205993652,\n",
       " 'fp_452': 2.6270720958709717,\n",
       " 'fp_166': 2.6158440113067627,\n",
       " 'fp_954': 2.6044254302978516,\n",
       " 'fp_482': 2.575470209121704,\n",
       " 'fp_454': 2.5480356216430664,\n",
       " 'fp_133': 2.5217466354370117,\n",
       " 'fp_980': 2.5091371536254883,\n",
       " 'fp_246': 2.496791362762451,\n",
       " 'fp_694': 2.471426010131836,\n",
       " 'fp_656': 2.469350576400757,\n",
       " 'fp_673': 2.379526376724243,\n",
       " 'fp_641': 2.3333723545074463,\n",
       " 'fp_681': 2.3268306255340576,\n",
       " 'fp_667': 2.3254284858703613,\n",
       " 'fp_318': 2.3140859603881836,\n",
       " 'fp_289': 2.309291124343872,\n",
       " 'fp_240': 2.2989325523376465,\n",
       " 'fp_946': 2.296830415725708,\n",
       " 'fp_736': 2.2605855464935303,\n",
       " 'fp_1': 2.258579730987549,\n",
       " 'fp_589': 2.2584238052368164,\n",
       " 'fp_486': 2.2573869228363037,\n",
       " 'fp_891': 2.2421343326568604,\n",
       " 'fp_328': 2.226494073867798,\n",
       " 'fp_498': 2.2227957248687744,\n",
       " 'fp_904': 2.2127792835235596,\n",
       " 'fp_820': 2.2082152366638184,\n",
       " 'fp_642': 2.2073843479156494,\n",
       " 'SLogP': 2.194573402404785,\n",
       " 'fp_347': 2.192363977432251,\n",
       " 'fp_504': 2.1922667026519775,\n",
       " 'fp_807': 2.186941623687744,\n",
       " 'fp_1006': 2.1828713417053223,\n",
       " 'fp_419': 2.1719024181365967,\n",
       " 'fp_197': 2.1167380809783936,\n",
       " 'fp_675': 2.1059141159057617,\n",
       " 'fp_464': 2.10237193107605,\n",
       " 'fp_771': 2.0906856060028076,\n",
       " 'fp_392': 2.0798544883728027,\n",
       " 'fp_237': 2.064401149749756,\n",
       " 'fp_36': 2.0560662746429443,\n",
       " 'fp_984': 2.048272132873535,\n",
       " 'fp_511': 1.9957871437072754,\n",
       " 'fp_491': 1.9890871047973633,\n",
       " 'fp_297': 1.980978012084961,\n",
       " 'fp_828': 1.9647951126098633,\n",
       " 'fp_974': 1.9478874206542969,\n",
       " 'fp_1011': 1.9428406953811646,\n",
       " 'fp_32': 1.927952766418457,\n",
       " 'fp_294': 1.911547303199768,\n",
       " 'fp_532': 1.9053363800048828,\n",
       " 'fp_571': 1.8973702192306519,\n",
       " 'fp_11': 1.896179437637329,\n",
       " 'fp_228': 1.8884620666503906,\n",
       " 'TopoPSA': 1.8787765502929688,\n",
       " 'fp_526': 1.86669921875,\n",
       " 'fp_46': 1.8666185140609741,\n",
       " 'fp_136': 1.8617836236953735,\n",
       " 'fp_519': 1.8535836935043335,\n",
       " 'nHBAcc': 1.818878412246704,\n",
       " 'naRing': 1.8133612871170044,\n",
       " 'fp_565': 1.789244294166565,\n",
       " 'fp_838': 1.7863526344299316,\n",
       " 'fp_881': 1.7787953615188599,\n",
       " 'fp_323': 1.7784526348114014,\n",
       " 'fp_164': 1.7729215621948242,\n",
       " 'fp_738': 1.7666378021240234,\n",
       " 'fp_549': 1.763903021812439,\n",
       " 'fp_913': 1.7621891498565674,\n",
       " 'fp_806': 1.7592006921768188,\n",
       " 'fp_386': 1.7543981075286865,\n",
       " 'fp_1019': 1.7395943403244019,\n",
       " 'fp_308': 1.7310128211975098,\n",
       " 'fp_335': 1.7254211902618408,\n",
       " 'fp_896': 1.7200924158096313,\n",
       " 'fp_310': 1.7126282453536987,\n",
       " 'fp_839': 1.688474178314209,\n",
       " 'fp_97': 1.684624195098877,\n",
       " 'fp_41': 1.6778196096420288,\n",
       " 'fp_893': 1.6678550243377686,\n",
       " 'fp_219': 1.6467628479003906,\n",
       " 'fp_843': 1.6443182229995728,\n",
       " 'fp_901': 1.641061544418335,\n",
       " 'Lipinski': 1.6365939378738403,\n",
       " 'fp_523': 1.6198549270629883,\n",
       " 'fp_123': 1.6098846197128296,\n",
       " 'fp_271': 1.609230637550354,\n",
       " 'fp_33': 1.597975254058838,\n",
       " 'fp_124': 1.5912237167358398,\n",
       " 'fp_117': 1.5837408304214478,\n",
       " 'fp_92': 1.5803890228271484,\n",
       " 'fp_643': 1.5547764301300049,\n",
       " 'fp_625': 1.5528045892715454,\n",
       " 'fp_744': 1.5369313955307007,\n",
       " 'fp_248': 1.4935089349746704,\n",
       " 'fp_961': 1.4930824041366577,\n",
       " 'fp_435': 1.483682632446289,\n",
       " 'fp_851': 1.4766335487365723,\n",
       " 'fp_473': 1.4669673442840576,\n",
       " 'fp_858': 1.4582021236419678,\n",
       " 'fp_775': 1.4540109634399414,\n",
       " 'fp_632': 1.4497557878494263,\n",
       " 'fp_705': 1.4478049278259277,\n",
       " 'fp_573': 1.4469609260559082,\n",
       " 'fp_737': 1.4468357563018799,\n",
       " 'fp_739': 1.4292240142822266,\n",
       " 'fp_83': 1.4088149070739746,\n",
       " 'fp_813': 1.398431420326233,\n",
       " 'fp_265': 1.3954452276229858,\n",
       " 'fp_245': 1.3939595222473145,\n",
       " 'fp_73': 1.3924349546432495,\n",
       " 'fp_864': 1.3917111158370972,\n",
       " 'fp_561': 1.3889989852905273,\n",
       " 'fp_629': 1.3807153701782227,\n",
       " 'fp_150': 1.3741708993911743,\n",
       " 'fp_666': 1.3689056634902954,\n",
       " 'fp_389': 1.366744875907898,\n",
       " 'fp_501': 1.3632129430770874,\n",
       " 'fp_753': 1.3576021194458008,\n",
       " 'fp_366': 1.3415807485580444,\n",
       " 'fp_935': 1.3345911502838135,\n",
       " 'fp_140': 1.3338943719863892,\n",
       " 'fp_503': 1.33146333694458,\n",
       " 'fp_785': 1.3298262357711792,\n",
       " 'fp_660': 1.3294140100479126,\n",
       " 'fp_613': 1.329332709312439,\n",
       " 'fp_830': 1.3288557529449463,\n",
       " 'fp_1013': 1.3111484050750732,\n",
       " 'fp_191': 1.3083378076553345,\n",
       " 'fp_698': 1.3016908168792725,\n",
       " 'fp_429': 1.298337459564209,\n",
       " 'fp_184': 1.286198616027832,\n",
       " 'fp_261': 1.2755966186523438,\n",
       " 'fp_82': 1.2755558490753174,\n",
       " 'fp_578': 1.2679862976074219,\n",
       " 'fp_406': 1.2644133567810059,\n",
       " 'fp_204': 1.259986400604248,\n",
       " 'fp_557': 1.249062418937683,\n",
       " 'fp_110': 1.2293120622634888,\n",
       " 'fp_960': 1.2265526056289673,\n",
       " 'fp_319': 1.224990725517273,\n",
       " 'fp_352': 1.2196855545043945,\n",
       " 'fp_781': 1.219523549079895,\n",
       " 'fp_456': 1.2035956382751465,\n",
       " 'fp_75': 1.1949489116668701,\n",
       " 'fp_623': 1.19037663936615,\n",
       " 'fp_45': 1.187888503074646,\n",
       " 'fp_596': 1.1841591596603394,\n",
       " 'fp_875': 1.172875165939331,\n",
       " 'fp_947': 1.1598145961761475,\n",
       " 'fp_268': 1.1589775085449219,\n",
       " 'fp_735': 1.1505770683288574,\n",
       " 'fp_114': 1.141029953956604,\n",
       " 'nRot': 1.13681161403656,\n",
       " 'fp_113': 1.1365742683410645,\n",
       " 'fp_190': 1.1353216171264648,\n",
       " 'fp_301': 1.1255292892456055,\n",
       " 'fp_940': 1.112216591835022,\n",
       " 'fp_217': 1.1108229160308838,\n",
       " 'fp_950': 1.1081961393356323,\n",
       " 'fp_728': 1.0918750762939453,\n",
       " 'fp_175': 1.0812159776687622,\n",
       " 'fp_809': 1.0805518627166748,\n",
       " 'fp_911': 1.0759446620941162,\n",
       " 'fp_556': 1.06796133518219,\n",
       " 'fp_15': 1.0648761987686157,\n",
       " 'fp_361': 1.0612373352050781,\n",
       " 'fp_602': 1.0514642000198364,\n",
       " 'fp_1017': 1.0452160835266113,\n",
       " 'fp_967': 1.0448124408721924,\n",
       " 'fp_414': 1.0421667098999023,\n",
       " 'fp_540': 1.038238763809204,\n",
       " 'fp_841': 1.03546142578125,\n",
       " 'fp_638': 1.0272631645202637,\n",
       " 'fp_80': 1.0271190404891968,\n",
       " 'fp_216': 1.0214741230010986,\n",
       " 'fp_593': 1.0114997625350952,\n",
       " 'fp_215': 0.999833345413208,\n",
       " 'fp_543': 0.9966731071472168,\n",
       " 'fp_72': 0.9947357177734375,\n",
       " 'fp_471': 0.9941638112068176,\n",
       " 'QED': 0.9903055429458618,\n",
       " 'fp_325': 0.9891456961631775,\n",
       " 'fp_745': 0.985792875289917,\n",
       " 'fp_586': 0.982286274433136,\n",
       " 'fp_62': 0.9695184230804443,\n",
       " 'fp_194': 0.9635159969329834,\n",
       " 'fp_741': 0.9628445506095886,\n",
       " 'fp_769': 0.960649311542511,\n",
       " 'fp_552': 0.9587077498435974,\n",
       " 'fp_290': 0.9518709778785706,\n",
       " 'fp_368': 0.9461915493011475,\n",
       " 'fp_774': 0.9450515508651733,\n",
       " 'fp_393': 0.9447055459022522,\n",
       " 'fp_266': 0.9422653317451477,\n",
       " 'fp_802': 0.9421113729476929,\n",
       " 'fp_819': 0.9406973719596863,\n",
       " 'fp_369': 0.9403709173202515,\n",
       " 'fp_270': 0.9367392659187317,\n",
       " 'fp_502': 0.9360525608062744,\n",
       " 'fp_776': 0.9305931329727173,\n",
       " 'fp_309': 0.9278338551521301,\n",
       " 'fp_14': 0.927143931388855,\n",
       " 'fp_367': 0.9263725280761719,\n",
       " 'fp_701': 0.9227390885353088,\n",
       " 'fp_8': 0.9126189351081848,\n",
       " 'fp_847': 0.9103325009346008,\n",
       " 'fp_792': 0.9082616567611694,\n",
       " 'fp_286': 0.9078312516212463,\n",
       " 'fp_714': 0.9030698537826538,\n",
       " 'fp_222': 0.902509868144989,\n",
       " 'fp_816': 0.9008612632751465,\n",
       " 'fp_64': 0.8998482823371887,\n",
       " 'fp_575': 0.898099958896637,\n",
       " 'fp_355': 0.8953378796577454,\n",
       " 'fp_363': 0.8910865783691406,\n",
       " 'fp_317': 0.8909199237823486,\n",
       " 'fp_650': 0.8907878398895264,\n",
       " 'fp_730': 0.8883262276649475,\n",
       " 'fp_751': 0.8859460949897766,\n",
       " 'fp_550': 0.8845788836479187,\n",
       " 'fp_293': 0.8777003288269043,\n",
       " 'fp_147': 0.877000093460083,\n",
       " 'fp_342': 0.8753418922424316,\n",
       " 'fp_145': 0.8744567036628723,\n",
       " 'fp_371': 0.8711066246032715,\n",
       " 'fp_857': 0.8622207641601562,\n",
       " 'fp_395': 0.8612893223762512,\n",
       " 'fp_924': 0.8589270114898682,\n",
       " 'fp_801': 0.8551537990570068,\n",
       " 'fp_98': 0.8463001251220703,\n",
       " 'fp_249': 0.8425715565681458,\n",
       " 'fp_943': 0.8338384628295898,\n",
       " 'fp_794': 0.8323239088058472,\n",
       " 'fp_4': 0.8276938199996948,\n",
       " 'fp_209': 0.8225064277648926,\n",
       " 'fp_385': 0.8109895586967468,\n",
       " 'fp_381': 0.8036934733390808,\n",
       " 'fp_919': 0.803519606590271,\n",
       " 'fp_965': 0.8009488582611084,\n",
       " 'fp_128': 0.7881456613540649,\n",
       " 'fp_703': 0.7844809889793396,\n",
       " 'fp_0': 0.783666729927063,\n",
       " 'fp_25': 0.7802864909172058,\n",
       " 'fp_21': 0.7771224975585938,\n",
       " 'fp_854': 0.7755612730979919,\n",
       " 'fp_235': 0.7691876292228699,\n",
       " 'fp_137': 0.7606013417243958,\n",
       " 'fp_100': 0.7494699954986572,\n",
       " 'fp_54': 0.7466872334480286,\n",
       " 'fp_213': 0.7442035675048828,\n",
       " 'fp_39': 0.7422277927398682,\n",
       " 'fp_125': 0.7393319606781006,\n",
       " 'fp_790': 0.7386282682418823,\n",
       " 'fp_303': 0.7381959557533264,\n",
       " 'fp_139': 0.7381539940834045,\n",
       " 'fp_121': 0.7360773086547852,\n",
       " 'fp_160': 0.7357578277587891,\n",
       " 'fp_659': 0.7357231378555298,\n",
       " 'fp_252': 0.7311407923698425,\n",
       " 'fp_674': 0.7284106016159058,\n",
       " 'fp_879': 0.7280499339103699,\n",
       " 'fp_173': 0.7206252217292786,\n",
       " 'fp_231': 0.7121743559837341,\n",
       " 'fp_53': 0.711504340171814,\n",
       " 'fp_646': 0.7065874934196472,\n",
       " 'fp_985': 0.7052268981933594,\n",
       " 'fp_787': 0.7040433883666992,\n",
       " 'fp_932': 0.70287024974823,\n",
       " 'fp_242': 0.7022079825401306,\n",
       " 'fp_458': 0.7019253969192505,\n",
       " 'fp_507': 0.7017954587936401,\n",
       " 'fp_997': 0.700133740901947,\n",
       " 'fp_687': 0.6990389823913574,\n",
       " 'fp_672': 0.6938177943229675,\n",
       " 'fp_718': 0.6902471780776978,\n",
       " 'fp_956': 0.6830606460571289,\n",
       " 'fp_548': 0.6821671724319458,\n",
       " 'fp_815': 0.6688440442085266,\n",
       " 'fp_378': 0.6687234044075012,\n",
       " 'fp_592': 0.6681939959526062,\n",
       " 'fp_206': 0.6653516292572021,\n",
       " 'fp_282': 0.664008378982544,\n",
       " 'fp_496': 0.6634649038314819,\n",
       " 'fp_608': 0.6633107662200928,\n",
       " 'fp_680': 0.6625421643257141,\n",
       " 'fp_708': 0.658155083656311,\n",
       " 'fp_609': 0.6555691361427307,\n",
       " 'fp_595': 0.6525269746780396,\n",
       " 'fp_77': 0.6447002291679382,\n",
       " 'fp_305': 0.642922580242157,\n",
       " 'fp_138': 0.6414101719856262,\n",
       " 'fp_256': 0.6413593292236328,\n",
       " 'fp_413': 0.6383578777313232,\n",
       " 'fp_47': 0.6379492282867432,\n",
       " 'fp_551': 0.6377126574516296,\n",
       " 'fp_772': 0.6367368102073669,\n",
       " 'fp_716': 0.636724054813385,\n",
       " 'fp_579': 0.6366831660270691,\n",
       " 'fp_695': 0.635396420955658,\n",
       " 'fp_558': 0.6343746185302734,\n",
       " 'fp_250': 0.634039044380188,\n",
       " 'fp_360': 0.630267322063446,\n",
       " 'fp_333': 0.6300894021987915,\n",
       " 'fp_409': 0.6292040348052979,\n",
       " 'fp_800': 0.6232518553733826,\n",
       " 'fp_3': 0.6220335364341736,\n",
       " 'fp_42': 0.6209667325019836,\n",
       " 'fp_938': 0.6164321899414062,\n",
       " 'fp_497': 0.6116692423820496,\n",
       " 'fp_295': 0.6114301681518555,\n",
       " 'fp_459': 0.6032400727272034,\n",
       " 'fp_871': 0.5967954397201538,\n",
       " 'fp_877': 0.5947887897491455,\n",
       " 'fp_193': 0.586313009262085,\n",
       " 'fp_1009': 0.5841615796089172,\n",
       " 'fp_922': 0.5810643434524536,\n",
       " 'fp_37': 0.5781800746917725,\n",
       " 'fp_79': 0.5749345421791077,\n",
       " 'fp_66': 0.5741969347000122,\n",
       " 'fp_518': 0.5740389823913574,\n",
       " 'fp_255': 0.5733999013900757,\n",
       " 'fp_563': 0.5718799829483032,\n",
       " 'fp_796': 0.5678616762161255,\n",
       " 'fp_692': 0.5659086108207703,\n",
       " 'fp_428': 0.5632752776145935,\n",
       " 'fp_898': 0.5623816847801208,\n",
       " 'fp_512': 0.560501754283905,\n",
       " 'fp_713': 0.557890772819519,\n",
       " 'fp_791': 0.5577545166015625,\n",
       " 'fp_734': 0.5422077178955078,\n",
       " 'fp_798': 0.541375994682312,\n",
       " 'fp_284': 0.5401909947395325,\n",
       " 'fp_829': 0.5388065576553345,\n",
       " 'fp_487': 0.5383856892585754,\n",
       " 'fp_276': 0.5382682085037231,\n",
       " 'fp_102': 0.5312900543212891,\n",
       " 'fp_976': 0.5296765565872192,\n",
       " 'fp_890': 0.5271313190460205,\n",
       " 'fp_299': 0.5192369222640991,\n",
       " 'fp_465': 0.5115517973899841,\n",
       " 'fp_842': 0.5093439221382141,\n",
       " 'fp_583': 0.5090858340263367,\n",
       " 'fp_833': 0.508637011051178,\n",
       " 'fp_970': 0.5071773529052734,\n",
       " 'fp_670': 0.5071027278900146,\n",
       " 'fp_338': 0.5042848587036133,\n",
       " 'fp_180': 0.501288115978241,\n",
       " 'fp_747': 0.5001795887947083,\n",
       " 'fp_101': 0.49951642751693726,\n",
       " 'fp_951': 0.4985916018486023,\n",
       " 'fp_836': 0.49777287244796753,\n",
       " 'fp_296': 0.4956855773925781,\n",
       " 'fp_225': 0.4921616017818451,\n",
       " 'fp_154': 0.4918094873428345,\n",
       " 'fp_884': 0.49116188287734985,\n",
       " 'fp_992': 0.4878493845462799,\n",
       " 'fp_955': 0.48726874589920044,\n",
       " 'fp_201': 0.48569971323013306,\n",
       " 'fp_383': 0.484494686126709,\n",
       " 'fp_720': 0.4839286804199219,\n",
       " 'fp_524': 0.48292073607444763,\n",
       " 'fp_375': 0.47712504863739014,\n",
       " 'fp_165': 0.4766275882720947,\n",
       " 'fp_715': 0.4753659963607788,\n",
       " 'fp_58': 0.47504258155822754,\n",
       " 'fp_135': 0.4725435674190521,\n",
       " 'fp_702': 0.468229740858078,\n",
       " 'fp_65': 0.46201038360595703,\n",
       " 'fp_944': 0.4587553143501282,\n",
       " 'fp_448': 0.45804697275161743,\n",
       " 'fp_112': 0.45492303371429443,\n",
       " 'fp_142': 0.45369020104408264,\n",
       " 'fp_119': 0.4518320560455322,\n",
       " 'fp_964': 0.45084065198898315,\n",
       " 'fp_212': 0.44936108589172363,\n",
       " 'fp_844': 0.4489307403564453,\n",
       " 'fp_719': 0.4485929310321808,\n",
       " 'fp_220': 0.4462740421295166,\n",
       " 'fp_780': 0.4447200298309326,\n",
       " 'fp_336': 0.44390201568603516,\n",
       " 'fp_251': 0.44192999601364136,\n",
       " 'fp_872': 0.44131845235824585,\n",
       " 'fp_500': 0.4387749433517456,\n",
       " 'fp_818': 0.4382496774196625,\n",
       " 'fp_74': 0.4316999912261963,\n",
       " 'fp_200': 0.42966607213020325,\n",
       " 'fp_767': 0.4251357614994049,\n",
       " 'fp_440': 0.4250701665878296,\n",
       " 'fp_320': 0.424604594707489,\n",
       " 'fp_915': 0.41845083236694336,\n",
       " 'fp_5': 0.415890097618103,\n",
       " 'fp_259': 0.4156501889228821,\n",
       " 'fp_993': 0.41261541843414307,\n",
       " 'fp_304': 0.41144323348999023,\n",
       " 'fp_463': 0.40664389729499817,\n",
       " 'fp_43': 0.401752233505249,\n",
       " 'fp_886': 0.3996267318725586,\n",
       " 'fp_19': 0.3996032476425171,\n",
       " 'fp_562': 0.3935343623161316,\n",
       " 'fp_649': 0.39017629623413086,\n",
       " 'fp_70': 0.3897818922996521,\n",
       " 'fp_520': 0.3883786201477051,\n",
       " 'fp_619': 0.38610100746154785,\n",
       " 'fp_754': 0.38330960273742676,\n",
       " 'fp_262': 0.38009339570999146,\n",
       " 'fp_410': 0.36671191453933716,\n",
       " 'fp_723': 0.3628901541233063,\n",
       " 'fp_749': 0.3625664710998535,\n",
       " 'fp_624': 0.3576434850692749,\n",
       " 'fp_560': 0.35743021965026855,\n",
       " 'fp_1010': 0.35221225023269653,\n",
       " 'fp_1015': 0.34831345081329346,\n",
       " 'fp_29': 0.3418412208557129,\n",
       " 'fp_826': 0.3406871557235718,\n",
       " 'fp_354': 0.33656930923461914,\n",
       " 'fp_942': 0.33333277702331543,\n",
       " 'fp_382': 0.32482337951660156,\n",
       " 'fp_130': 0.3161192238330841,\n",
       " 'fp_380': 0.31219005584716797,\n",
       " 'fp_134': 0.31121495366096497,\n",
       " 'fp_555': 0.3106943368911743,\n",
       " 'fp_707': 0.31057846546173096,\n",
       " 'fp_50': 0.3100125789642334,\n",
       " 'fp_332': 0.3079652786254883,\n",
       " 'fp_149': 0.3058803081512451,\n",
       " 'fp_84': 0.30555492639541626,\n",
       " 'fp_196': 0.3032984733581543,\n",
       " 'fp_132': 0.300548255443573,\n",
       " 'fp_916': 0.29955625534057617,\n",
       " 'fp_635': 0.2981311082839966,\n",
       " 'fp_480': 0.2892031669616699,\n",
       " 'fp_969': 0.2868276834487915,\n",
       " 'fp_431': 0.28566789627075195,\n",
       " 'fp_585': 0.2793051600456238,\n",
       " 'fp_825': 0.27427148818969727,\n",
       " 'fp_604': 0.2553163468837738,\n",
       " 'fp_192': 0.2526456117630005,\n",
       " 'fp_610': 0.23002880811691284,\n",
       " 'fp_433': 0.22924041748046875,\n",
       " 'fp_731': 0.22349226474761963,\n",
       " 'fp_606': 0.21693319082260132,\n",
       " 'fp_784': 0.21218229830265045,\n",
       " 'fp_883': 0.2072390913963318,\n",
       " 'fp_1014': 0.2006535828113556,\n",
       " 'fp_531': 0.19760370254516602,\n",
       " 'fp_207': 0.18425369262695312,\n",
       " 'fp_761': 0.18381714820861816,\n",
       " 'fp_654': 0.14089804887771606}"
      ]
     },
     "execution_count": 18,
     "metadata": {},
     "output_type": "execute_result"
    }
   ],
   "source": [
    "m_r.Feature_Importance()"
   ]
  },
  {
   "cell_type": "code",
   "execution_count": 22,
   "id": "bd91783e",
   "metadata": {},
   "outputs": [
    {
     "data": {
      "text/plain": [
       "[0.5869434575490596,\n",
       " 0.5706827195329496,\n",
       " 0.5882682746166127,\n",
       " 6.23839396318006,\n",
       " 0.594747477605953,\n",
       " 0.6110562028061135,\n",
       " 0.6351758884498495,\n",
       " 1.4877736198947213,\n",
       " 0.580340848960852,\n",
       " 0.5845552257824572,\n",
       " 0.818554464872774,\n",
       " 0.7356347558668653,\n",
       " 0.7291682265360122,\n",
       " 0.8177752631924597,\n",
       " 0.6192623690223324,\n",
       " 0.6764440935944557,\n",
       " 0.601393833302815,\n",
       " 0.5698723649230915,\n",
       " 0.8572733141515793,\n",
       " 7.726745873632522,\n",
       " 0.6402174093280927,\n",
       " 0.6723994829351332,\n",
       " 0.5747805095322511,\n",
       " 0.6868707797323095,\n",
       " 0.5209775592491647,\n",
       " 0.5281871636918893,\n",
       " 0.5340090829963601,\n",
       " 0.5571499575673846,\n",
       " 0.51764985507437,\n",
       " 0.5167987355047176,\n",
       " 0.6191971250178,\n",
       " 0.5396146090748479,\n",
       " 0.5415686345256276,\n",
       " 0.6012128007954798,\n",
       " 0.616826282428982,\n",
       " 0.5621198891358304,\n",
       " 0.5217127496355425,\n",
       " 0.5977697069183284,\n",
       " 0.5430503536761285,\n",
       " 0.9159519550304013,\n",
       " 0.5601288255478133,\n",
       " 0.9033073385934586,\n",
       " 0.5426983886431977,\n",
       " 1.4296189773439087,\n",
       " 0.5671432339339662,\n",
       " 0.6559775313180053,\n",
       " 0.537441721922719,\n",
       " 0.6096482281342038,\n",
       " 0.6084178166697106,\n",
       " 0.7120934238428135,\n",
       " 0.5312499728258185,\n",
       " 0.5930755512161967,\n",
       " 0.5135289147469425,\n",
       " 0.7105941229150124,\n",
       " 0.530073817079242,\n",
       " 0.7686001664968076,\n",
       " 0.7765753449732419,\n",
       " 0.6206447648102166,\n",
       " 30.726426596719367,\n",
       " 0.5559691177220117,\n",
       " 0.7788677204533528,\n",
       " 0.5904896049258338,\n",
       " 1.5205764654508875,\n",
       " 3.5295456942083363,\n",
       " 0.6029220835720795,\n",
       " 0.5398786019121694,\n",
       " 0.5114011248993128,\n",
       " 0.533138703225637,\n",
       " 0.5171975221359016,\n",
       " 0.5253221923707669,\n",
       " 0.6471401949833687,\n",
       " 0.556231767875095,\n",
       " 0.551242122334838,\n",
       " 0.5643915474981792,\n",
       " 0.5866476156067152,\n",
       " 0.5450302640381394,\n",
       " 0.5665687721447797,\n",
       " 0.5788426975778881,\n",
       " 0.5604023651417066,\n",
       " 0.6850226366591396,\n",
       " 1.0066268816076396,\n",
       " 0.6279061880685591,\n",
       " 0.5350493237532885,\n",
       " 0.5417505776135799,\n",
       " 0.6888348676164686,\n",
       " 0.5265088337867947,\n",
       " 0.906413190194047,\n",
       " 0.6084928599572514,\n",
       " 0.5396854653510883,\n",
       " 0.5205059986695234,\n",
       " 0.5498517217990221,\n",
       " 0.5519887059609869,\n",
       " 0.5110129776555652,\n",
       " 0.6978950373051606,\n",
       " 0.5684939262986313,\n",
       " 0.5743717826325132,\n",
       " 0.6683247176039815,\n",
       " 1.3475867304214064,\n",
       " 0.5998753217040587,\n",
       " 0.7773007446044492,\n",
       " 0.615015070694201,\n",
       " 0.5733294775810694,\n",
       " 0.724552910665146,\n",
       " 0.5807331905431898,\n",
       " 0.6629149095107298,\n",
       " 0.5761528162672538,\n",
       " 0.6900585164125099,\n",
       " 0.6292928450023514,\n",
       " 24.36658288542761,\n",
       " 0.5447517688283662,\n",
       " 0.6056377154708903,\n",
       " 0.5693097840023008,\n",
       " 0.5568279508379985,\n",
       " 0.6296344154937729,\n",
       " 0.5449431015926101,\n",
       " 0.6042303665313045,\n",
       " 0.740791692400746,\n",
       " 0.6156320363314546,\n",
       " 0.4865313191486897,\n",
       " 1.083091240147681,\n",
       " 0.5069750358888633,\n",
       " 0.7563748898214364,\n",
       " 0.591883732679474,\n",
       " 0.5775609367150262,\n",
       " 0.5508402881161593,\n",
       " 1.1851699499014452,\n",
       " 0.56691023148647,\n",
       " 0.5242823348998555,\n",
       " 0.7854603383738031,\n",
       " 0.5495469709531041,\n",
       " 0.5633839291355146,\n",
       " 0.659373350394306,\n",
       " 0.5186731367324205,\n",
       " 0.5542340519514737,\n",
       " 0.5743564120402268,\n",
       " 0.601231436443042,\n",
       " 2.853268220348996,\n",
       " 0.6105906794140479,\n",
       " 1.402208806917577,\n",
       " 0.699739139523577,\n",
       " 0.6347625254296919,\n",
       " 7.017267675810189,\n",
       " 0.5282800615899881,\n",
       " 0.5794112845699239,\n",
       " 0.8081806944848073,\n",
       " 0.5151520106812448,\n",
       " 0.5136101190050625,\n",
       " 0.5227053901866938,\n",
       " 0.5105183350108301,\n",
       " 0.5214466162743261]"
      ]
     },
     "execution_count": 22,
     "metadata": {},
     "output_type": "execute_result"
    }
   ],
   "source": [
    "trials.losses()"
   ]
  },
  {
   "cell_type": "markdown",
   "id": "473ceefa",
   "metadata": {},
   "source": [
    "## Regression with polarizibility"
   ]
  },
  {
   "cell_type": "code",
   "execution_count": 14,
   "id": "b0d26a09",
   "metadata": {},
   "outputs": [],
   "source": [
    "PIPELINE_FILE = \"pipeline_configuration_XGBoost_regression_polarizability.json\""
   ]
  },
  {
   "cell_type": "code",
   "execution_count": 15,
   "id": "44fb87ec",
   "metadata": {},
   "outputs": [
    {
     "name": "stderr",
     "output_type": "stream",
     "text": [
      "2022-06-09 08:19:55,571 - logger - INFO - CreateFPS fit...\n",
      "2022-06-09 08:19:55,571 - logger - INFO - CreateFPS fit...\n",
      "2022-06-09 08:19:55,572 - logger - INFO - CreateFPS transform...\n",
      "2022-06-09 08:19:55,572 - logger - INFO - CreateFPS transform...\n",
      "100%|██████████| 2039/2039 [00:02<00:00, 811.12it/s]\n"
     ]
    }
   ],
   "source": [
    "smiles_codes = train_data[\"canonical_smiles_get_levels\"].copy()\n",
    "target = train_data[\"IC50_nM\"].copy()\n",
    "\n",
    "non_idx = dt.validate_smiles(smiles_codes=smiles_codes)\n",
    "smiles_codes = smiles_codes.drop(non_idx, axis=0)\n",
    "target = target.drop(non_idx, axis=0)\n",
    "\n",
    "pipeline_file = PIPELINE_FILE\n",
    "pipeline_configuration = dt.read_in_pipeline(pipeline_file=pipeline_file, pipeline_directory=co.PIPELINE_DIR)\n",
    "pipeline = dt.create_pipeline(pipeline_configuration=pipeline_configuration[\"feature_transform\"])\n",
    "\n",
    "y_train = dt.process_taget(pipeline_configuration=pipeline_configuration[\"target_transform\"], y=target)\n",
    "smiles_codes = smiles_codes.loc[y_train.index]\n",
    "\n",
    "pipeline.fit(X=smiles_codes, y=None)\n",
    "X_train = dt.create_molecular_features(pipeline=pipeline, smiles_codes=smiles_codes)\n",
    "X_train = dt.process_molecular_features(pipeline=pipeline, X=X_train)"
   ]
  },
  {
   "cell_type": "code",
   "execution_count": 19,
   "id": "ac5cc07f",
   "metadata": {},
   "outputs": [
    {
     "data": {
      "text/plain": [
       "array([[<AxesSubplot:title={'center':'apol'}>,\n",
       "        <AxesSubplot:title={'center':'bpol'}>]], dtype=object)"
      ]
     },
     "execution_count": 19,
     "metadata": {},
     "output_type": "execute_result"
    },
    {
     "data": {
      "image/png": "[encoded data removed]",
      "text/plain": [
       "<Figure size 432x288 with 2 Axes>"
      ]
     },
     "metadata": {
      "needs_background": "light"
     },
     "output_type": "display_data"
    }
   ],
   "source": [
    "X_train[[\"apol\", \"bpol\"]].hist(bins=25)"
   ]
  },
  {
   "cell_type": "code",
   "execution_count": 21,
   "id": "40284f8f",
   "metadata": {},
   "outputs": [
    {
     "name": "stderr",
     "output_type": "stream",
     "text": [
      "2022-06-09 08:21:23,766 - logger - INFO - CreateFPS transform...\n",
      "2022-06-09 08:21:23,766 - logger - INFO - CreateFPS transform...\n",
      "100%|██████████| 1835/1835 [00:02<00:00, 798.65it/s]\n"
     ]
    },
    {
     "name": "stdout",
     "output_type": "stream",
     "text": [
      "  0%|          | 0/150 [00:00<?, ?it/s, best loss: ?]"
     ]
    },
    {
     "name": "stderr",
     "output_type": "stream",
     "text": [
      "/home/rafalb/miniconda3/envs/rorgammaqsar2/lib/python3.8/site-packages/xgboost/sklearn.py:793: UserWarning: `eval_metric` in `fit` method is deprecated for better compatibility with scikit-learn, use `eval_metric` in constructor or`set_params` instead.\n",
      "  warnings.warn(\n",
      "\n"
     ]
    },
    {
     "name": "stdout",
     "output_type": "stream",
     "text": [
      "  1%|          | 1/150 [00:06<15:06,  6.09s/it, best loss: 0.600288358588522]"
     ]
    },
    {
     "name": "stderr",
     "output_type": "stream",
     "text": [
      "/home/rafalb/miniconda3/envs/rorgammaqsar2/lib/python3.8/site-packages/xgboost/sklearn.py:793: UserWarning: `eval_metric` in `fit` method is deprecated for better compatibility with scikit-learn, use `eval_metric` in constructor or`set_params` instead.\n",
      "  warnings.warn(\n",
      "\n"
     ]
    },
    {
     "name": "stdout",
     "output_type": "stream",
     "text": [
      "  1%|▏         | 2/150 [00:11<14:07,  5.73s/it, best loss: 0.5743661278493984]"
     ]
    },
    {
     "name": "stderr",
     "output_type": "stream",
     "text": [
      "/home/rafalb/miniconda3/envs/rorgammaqsar2/lib/python3.8/site-packages/xgboost/sklearn.py:793: UserWarning: `eval_metric` in `fit` method is deprecated for better compatibility with scikit-learn, use `eval_metric` in constructor or`set_params` instead.\n",
      "  warnings.warn(\n",
      "\n"
     ]
    },
    {
     "name": "stdout",
     "output_type": "stream",
     "text": [
      "  2%|▏         | 3/150 [00:14<10:48,  4.41s/it, best loss: 0.5743661278493984]"
     ]
    },
    {
     "name": "stderr",
     "output_type": "stream",
     "text": [
      "/home/rafalb/miniconda3/envs/rorgammaqsar2/lib/python3.8/site-packages/xgboost/sklearn.py:793: UserWarning: `eval_metric` in `fit` method is deprecated for better compatibility with scikit-learn, use `eval_metric` in constructor or`set_params` instead.\n",
      "  warnings.warn(\n",
      "\n"
     ]
    },
    {
     "name": "stdout",
     "output_type": "stream",
     "text": [
      "  3%|▎         | 4/150 [00:16<08:54,  3.66s/it, best loss: 0.5743661278493984]"
     ]
    },
    {
     "name": "stderr",
     "output_type": "stream",
     "text": [
      "/home/rafalb/miniconda3/envs/rorgammaqsar2/lib/python3.8/site-packages/xgboost/sklearn.py:793: UserWarning: `eval_metric` in `fit` method is deprecated for better compatibility with scikit-learn, use `eval_metric` in constructor or`set_params` instead.\n",
      "  warnings.warn(\n",
      "\n"
     ]
    },
    {
     "name": "stdout",
     "output_type": "stream",
     "text": [
      "  3%|▎         | 5/150 [00:22<10:08,  4.19s/it, best loss: 0.5743661278493984]"
     ]
    },
    {
     "name": "stderr",
     "output_type": "stream",
     "text": [
      "/home/rafalb/miniconda3/envs/rorgammaqsar2/lib/python3.8/site-packages/xgboost/sklearn.py:793: UserWarning: `eval_metric` in `fit` method is deprecated for better compatibility with scikit-learn, use `eval_metric` in constructor or`set_params` instead.\n",
      "  warnings.warn(\n",
      "\n"
     ]
    },
    {
     "name": "stdout",
     "output_type": "stream",
     "text": [
      "  4%|▍         | 6/150 [00:26<10:02,  4.19s/it, best loss: 0.5743661278493984]"
     ]
    },
    {
     "name": "stderr",
     "output_type": "stream",
     "text": [
      "/home/rafalb/miniconda3/envs/rorgammaqsar2/lib/python3.8/site-packages/xgboost/sklearn.py:793: UserWarning: `eval_metric` in `fit` method is deprecated for better compatibility with scikit-learn, use `eval_metric` in constructor or`set_params` instead.\n",
      "  warnings.warn(\n",
      "\n"
     ]
    },
    {
     "name": "stdout",
     "output_type": "stream",
     "text": [
      "  5%|▍         | 7/150 [00:29<09:37,  4.04s/it, best loss: 0.5743661278493984]"
     ]
    },
    {
     "name": "stderr",
     "output_type": "stream",
     "text": [
      "/home/rafalb/miniconda3/envs/rorgammaqsar2/lib/python3.8/site-packages/xgboost/sklearn.py:793: UserWarning: `eval_metric` in `fit` method is deprecated for better compatibility with scikit-learn, use `eval_metric` in constructor or`set_params` instead.\n",
      "  warnings.warn(\n",
      "\n"
     ]
    },
    {
     "name": "stdout",
     "output_type": "stream",
     "text": [
      "  5%|▌         | 8/150 [00:32<08:03,  3.40s/it, best loss: 0.5743661278493984]"
     ]
    },
    {
     "name": "stderr",
     "output_type": "stream",
     "text": [
      "/home/rafalb/miniconda3/envs/rorgammaqsar2/lib/python3.8/site-packages/xgboost/sklearn.py:793: UserWarning: `eval_metric` in `fit` method is deprecated for better compatibility with scikit-learn, use `eval_metric` in constructor or`set_params` instead.\n",
      "  warnings.warn(\n",
      "\n"
     ]
    },
    {
     "name": "stdout",
     "output_type": "stream",
     "text": [
      "  6%|▌         | 9/150 [00:35<08:02,  3.43s/it, best loss: 0.5743661278493984]"
     ]
    },
    {
     "name": "stderr",
     "output_type": "stream",
     "text": [
      "/home/rafalb/miniconda3/envs/rorgammaqsar2/lib/python3.8/site-packages/xgboost/sklearn.py:793: UserWarning: `eval_metric` in `fit` method is deprecated for better compatibility with scikit-learn, use `eval_metric` in constructor or`set_params` instead.\n",
      "  warnings.warn(\n",
      "\n"
     ]
    },
    {
     "name": "stdout",
     "output_type": "stream",
     "text": [
      "  7%|▋         | 10/150 [00:38<07:31,  3.22s/it, best loss: 0.5743661278493984]"
     ]
    },
    {
     "name": "stderr",
     "output_type": "stream",
     "text": [
      "/home/rafalb/miniconda3/envs/rorgammaqsar2/lib/python3.8/site-packages/xgboost/sklearn.py:793: UserWarning: `eval_metric` in `fit` method is deprecated for better compatibility with scikit-learn, use `eval_metric` in constructor or`set_params` instead.\n",
      "  warnings.warn(\n",
      "\n"
     ]
    },
    {
     "name": "stdout",
     "output_type": "stream",
     "text": [
      "  7%|▋         | 11/150 [00:44<09:57,  4.30s/it, best loss: 0.5743661278493984]"
     ]
    },
    {
     "name": "stderr",
     "output_type": "stream",
     "text": [
      "/home/rafalb/miniconda3/envs/rorgammaqsar2/lib/python3.8/site-packages/xgboost/sklearn.py:793: UserWarning: `eval_metric` in `fit` method is deprecated for better compatibility with scikit-learn, use `eval_metric` in constructor or`set_params` instead.\n",
      "  warnings.warn(\n",
      "\n"
     ]
    },
    {
     "name": "stdout",
     "output_type": "stream",
     "text": [
      "  8%|▊         | 12/150 [00:47<08:22,  3.64s/it, best loss: 0.5743661278493984]"
     ]
    },
    {
     "name": "stderr",
     "output_type": "stream",
     "text": [
      "/home/rafalb/miniconda3/envs/rorgammaqsar2/lib/python3.8/site-packages/xgboost/sklearn.py:793: UserWarning: `eval_metric` in `fit` method is deprecated for better compatibility with scikit-learn, use `eval_metric` in constructor or`set_params` instead.\n",
      "  warnings.warn(\n",
      "\n"
     ]
    },
    {
     "name": "stdout",
     "output_type": "stream",
     "text": [
      "  9%|▊         | 13/150 [00:50<07:51,  3.44s/it, best loss: 0.5743661278493984]"
     ]
    },
    {
     "name": "stderr",
     "output_type": "stream",
     "text": [
      "/home/rafalb/miniconda3/envs/rorgammaqsar2/lib/python3.8/site-packages/xgboost/sklearn.py:793: UserWarning: `eval_metric` in `fit` method is deprecated for better compatibility with scikit-learn, use `eval_metric` in constructor or`set_params` instead.\n",
      "  warnings.warn(\n",
      "\n"
     ]
    },
    {
     "name": "stdout",
     "output_type": "stream",
     "text": [
      "  9%|▉         | 14/150 [00:55<09:19,  4.11s/it, best loss: 0.5743661278493984]"
     ]
    },
    {
     "name": "stderr",
     "output_type": "stream",
     "text": [
      "/home/rafalb/miniconda3/envs/rorgammaqsar2/lib/python3.8/site-packages/xgboost/sklearn.py:793: UserWarning: `eval_metric` in `fit` method is deprecated for better compatibility with scikit-learn, use `eval_metric` in constructor or`set_params` instead.\n",
      "  warnings.warn(\n",
      "\n"
     ]
    },
    {
     "name": "stdout",
     "output_type": "stream",
     "text": [
      " 10%|█         | 15/150 [00:58<08:04,  3.59s/it, best loss: 0.5743661278493984]"
     ]
    },
    {
     "name": "stderr",
     "output_type": "stream",
     "text": [
      "/home/rafalb/miniconda3/envs/rorgammaqsar2/lib/python3.8/site-packages/xgboost/sklearn.py:793: UserWarning: `eval_metric` in `fit` method is deprecated for better compatibility with scikit-learn, use `eval_metric` in constructor or`set_params` instead.\n",
      "  warnings.warn(\n",
      "\n"
     ]
    },
    {
     "name": "stdout",
     "output_type": "stream",
     "text": [
      " 11%|█         | 16/150 [01:02<08:33,  3.83s/it, best loss: 0.5743661278493984]"
     ]
    },
    {
     "name": "stderr",
     "output_type": "stream",
     "text": [
      "/home/rafalb/miniconda3/envs/rorgammaqsar2/lib/python3.8/site-packages/xgboost/sklearn.py:793: UserWarning: `eval_metric` in `fit` method is deprecated for better compatibility with scikit-learn, use `eval_metric` in constructor or`set_params` instead.\n",
      "  warnings.warn(\n",
      "\n"
     ]
    },
    {
     "name": "stdout",
     "output_type": "stream",
     "text": [
      " 11%|█▏        | 17/150 [01:06<08:21,  3.77s/it, best loss: 0.5743661278493984]"
     ]
    },
    {
     "name": "stderr",
     "output_type": "stream",
     "text": [
      "/home/rafalb/miniconda3/envs/rorgammaqsar2/lib/python3.8/site-packages/xgboost/sklearn.py:793: UserWarning: `eval_metric` in `fit` method is deprecated for better compatibility with scikit-learn, use `eval_metric` in constructor or`set_params` instead.\n",
      "  warnings.warn(\n",
      "\n"
     ]
    },
    {
     "name": "stdout",
     "output_type": "stream",
     "text": [
      " 12%|█▏        | 18/150 [01:12<09:41,  4.40s/it, best loss: 0.5601903336552523]"
     ]
    },
    {
     "name": "stderr",
     "output_type": "stream",
     "text": [
      "/home/rafalb/miniconda3/envs/rorgammaqsar2/lib/python3.8/site-packages/xgboost/sklearn.py:793: UserWarning: `eval_metric` in `fit` method is deprecated for better compatibility with scikit-learn, use `eval_metric` in constructor or`set_params` instead.\n",
      "  warnings.warn(\n",
      "\n"
     ]
    },
    {
     "name": "stdout",
     "output_type": "stream",
     "text": [
      " 13%|█▎        | 19/150 [01:15<08:49,  4.04s/it, best loss: 0.5601903336552523]"
     ]
    },
    {
     "name": "stderr",
     "output_type": "stream",
     "text": [
      "/home/rafalb/miniconda3/envs/rorgammaqsar2/lib/python3.8/site-packages/xgboost/sklearn.py:793: UserWarning: `eval_metric` in `fit` method is deprecated for better compatibility with scikit-learn, use `eval_metric` in constructor or`set_params` instead.\n",
      "  warnings.warn(\n",
      "\n"
     ]
    },
    {
     "name": "stdout",
     "output_type": "stream",
     "text": [
      " 13%|█▎        | 20/150 [01:18<08:32,  3.94s/it, best loss: 0.5601903336552523]"
     ]
    },
    {
     "name": "stderr",
     "output_type": "stream",
     "text": [
      "/home/rafalb/miniconda3/envs/rorgammaqsar2/lib/python3.8/site-packages/xgboost/sklearn.py:793: UserWarning: `eval_metric` in `fit` method is deprecated for better compatibility with scikit-learn, use `eval_metric` in constructor or`set_params` instead.\n",
      "  warnings.warn(\n",
      "\n"
     ]
    },
    {
     "name": "stdout",
     "output_type": "stream",
     "text": [
      " 14%|█▍        | 21/150 [01:27<11:40,  5.43s/it, best loss: 0.5601903336552523]"
     ]
    },
    {
     "name": "stderr",
     "output_type": "stream",
     "text": [
      "/home/rafalb/miniconda3/envs/rorgammaqsar2/lib/python3.8/site-packages/xgboost/sklearn.py:793: UserWarning: `eval_metric` in `fit` method is deprecated for better compatibility with scikit-learn, use `eval_metric` in constructor or`set_params` instead.\n",
      "  warnings.warn(\n",
      "\n"
     ]
    },
    {
     "name": "stdout",
     "output_type": "stream",
     "text": [
      " 15%|█▍        | 22/150 [01:33<11:56,  5.60s/it, best loss: 0.5601903336552523]"
     ]
    },
    {
     "name": "stderr",
     "output_type": "stream",
     "text": [
      "/home/rafalb/miniconda3/envs/rorgammaqsar2/lib/python3.8/site-packages/xgboost/sklearn.py:793: UserWarning: `eval_metric` in `fit` method is deprecated for better compatibility with scikit-learn, use `eval_metric` in constructor or`set_params` instead.\n",
      "  warnings.warn(\n",
      "\n"
     ]
    },
    {
     "name": "stdout",
     "output_type": "stream",
     "text": [
      " 15%|█▌        | 23/150 [01:39<11:42,  5.53s/it, best loss: 0.5601903336552523]"
     ]
    },
    {
     "name": "stderr",
     "output_type": "stream",
     "text": [
      "/home/rafalb/miniconda3/envs/rorgammaqsar2/lib/python3.8/site-packages/xgboost/sklearn.py:793: UserWarning: `eval_metric` in `fit` method is deprecated for better compatibility with scikit-learn, use `eval_metric` in constructor or`set_params` instead.\n",
      "  warnings.warn(\n",
      "\n"
     ]
    },
    {
     "name": "stdout",
     "output_type": "stream",
     "text": [
      " 16%|█▌        | 24/150 [01:46<12:34,  5.99s/it, best loss: 0.5601903336552523]"
     ]
    },
    {
     "name": "stderr",
     "output_type": "stream",
     "text": [
      "/home/rafalb/miniconda3/envs/rorgammaqsar2/lib/python3.8/site-packages/xgboost/sklearn.py:793: UserWarning: `eval_metric` in `fit` method is deprecated for better compatibility with scikit-learn, use `eval_metric` in constructor or`set_params` instead.\n",
      "  warnings.warn(\n",
      "\n"
     ]
    },
    {
     "name": "stdout",
     "output_type": "stream",
     "text": [
      " 17%|█▋        | 25/150 [01:55<14:17,  6.86s/it, best loss: 0.5263682550435721]"
     ]
    },
    {
     "name": "stderr",
     "output_type": "stream",
     "text": [
      "/home/rafalb/miniconda3/envs/rorgammaqsar2/lib/python3.8/site-packages/xgboost/sklearn.py:793: UserWarning: `eval_metric` in `fit` method is deprecated for better compatibility with scikit-learn, use `eval_metric` in constructor or`set_params` instead.\n",
      "  warnings.warn(\n",
      "\n"
     ]
    },
    {
     "name": "stdout",
     "output_type": "stream",
     "text": [
      " 17%|█▋        | 26/150 [02:04<16:00,  7.74s/it, best loss: 0.5263682550435721]"
     ]
    },
    {
     "name": "stderr",
     "output_type": "stream",
     "text": [
      "/home/rafalb/miniconda3/envs/rorgammaqsar2/lib/python3.8/site-packages/xgboost/sklearn.py:793: UserWarning: `eval_metric` in `fit` method is deprecated for better compatibility with scikit-learn, use `eval_metric` in constructor or`set_params` instead.\n",
      "  warnings.warn(\n",
      "\n"
     ]
    },
    {
     "name": "stdout",
     "output_type": "stream",
     "text": [
      " 18%|█▊        | 27/150 [02:14<16:59,  8.29s/it, best loss: 0.5263682550435721]"
     ]
    },
    {
     "name": "stderr",
     "output_type": "stream",
     "text": [
      "/home/rafalb/miniconda3/envs/rorgammaqsar2/lib/python3.8/site-packages/xgboost/sklearn.py:793: UserWarning: `eval_metric` in `fit` method is deprecated for better compatibility with scikit-learn, use `eval_metric` in constructor or`set_params` instead.\n",
      "  warnings.warn(\n",
      "\n"
     ]
    },
    {
     "name": "stdout",
     "output_type": "stream",
     "text": [
      " 19%|█▊        | 28/150 [02:23<17:06,  8.41s/it, best loss: 0.5263682550435721]"
     ]
    },
    {
     "name": "stderr",
     "output_type": "stream",
     "text": [
      "/home/rafalb/miniconda3/envs/rorgammaqsar2/lib/python3.8/site-packages/xgboost/sklearn.py:793: UserWarning: `eval_metric` in `fit` method is deprecated for better compatibility with scikit-learn, use `eval_metric` in constructor or`set_params` instead.\n",
      "  warnings.warn(\n",
      "\n"
     ]
    },
    {
     "name": "stdout",
     "output_type": "stream",
     "text": [
      " 19%|█▉        | 29/150 [02:30<16:33,  8.21s/it, best loss: 0.5097608486947769]"
     ]
    },
    {
     "name": "stderr",
     "output_type": "stream",
     "text": [
      "/home/rafalb/miniconda3/envs/rorgammaqsar2/lib/python3.8/site-packages/xgboost/sklearn.py:793: UserWarning: `eval_metric` in `fit` method is deprecated for better compatibility with scikit-learn, use `eval_metric` in constructor or`set_params` instead.\n",
      "  warnings.warn(\n",
      "\n"
     ]
    },
    {
     "name": "stdout",
     "output_type": "stream",
     "text": [
      " 20%|██        | 30/150 [02:38<16:10,  8.09s/it, best loss: 0.5097608486947769]"
     ]
    },
    {
     "name": "stderr",
     "output_type": "stream",
     "text": [
      "/home/rafalb/miniconda3/envs/rorgammaqsar2/lib/python3.8/site-packages/xgboost/sklearn.py:793: UserWarning: `eval_metric` in `fit` method is deprecated for better compatibility with scikit-learn, use `eval_metric` in constructor or`set_params` instead.\n",
      "  warnings.warn(\n",
      "\n"
     ]
    },
    {
     "name": "stdout",
     "output_type": "stream",
     "text": [
      " 21%|██        | 31/150 [02:46<15:51,  8.00s/it, best loss: 0.5097608486947769]"
     ]
    },
    {
     "name": "stderr",
     "output_type": "stream",
     "text": [
      "/home/rafalb/miniconda3/envs/rorgammaqsar2/lib/python3.8/site-packages/xgboost/sklearn.py:793: UserWarning: `eval_metric` in `fit` method is deprecated for better compatibility with scikit-learn, use `eval_metric` in constructor or`set_params` instead.\n",
      "  warnings.warn(\n",
      "\n"
     ]
    },
    {
     "name": "stdout",
     "output_type": "stream",
     "text": [
      " 21%|██▏       | 32/150 [02:51<13:58,  7.10s/it, best loss: 0.5097608486947769]"
     ]
    },
    {
     "name": "stderr",
     "output_type": "stream",
     "text": [
      "/home/rafalb/miniconda3/envs/rorgammaqsar2/lib/python3.8/site-packages/xgboost/sklearn.py:793: UserWarning: `eval_metric` in `fit` method is deprecated for better compatibility with scikit-learn, use `eval_metric` in constructor or`set_params` instead.\n",
      "  warnings.warn(\n",
      "\n"
     ]
    },
    {
     "name": "stdout",
     "output_type": "stream",
     "text": [
      " 22%|██▏       | 33/150 [02:57<13:17,  6.82s/it, best loss: 0.5097608486947769]"
     ]
    },
    {
     "name": "stderr",
     "output_type": "stream",
     "text": [
      "/home/rafalb/miniconda3/envs/rorgammaqsar2/lib/python3.8/site-packages/xgboost/sklearn.py:793: UserWarning: `eval_metric` in `fit` method is deprecated for better compatibility with scikit-learn, use `eval_metric` in constructor or`set_params` instead.\n",
      "  warnings.warn(\n",
      "\n"
     ]
    },
    {
     "name": "stdout",
     "output_type": "stream",
     "text": [
      " 23%|██▎       | 34/150 [03:05<13:55,  7.20s/it, best loss: 0.5097608486947769]"
     ]
    },
    {
     "name": "stderr",
     "output_type": "stream",
     "text": [
      "/home/rafalb/miniconda3/envs/rorgammaqsar2/lib/python3.8/site-packages/xgboost/sklearn.py:793: UserWarning: `eval_metric` in `fit` method is deprecated for better compatibility with scikit-learn, use `eval_metric` in constructor or`set_params` instead.\n",
      "  warnings.warn(\n",
      "\n"
     ]
    },
    {
     "name": "stdout",
     "output_type": "stream",
     "text": [
      " 23%|██▎       | 35/150 [03:11<12:45,  6.65s/it, best loss: 0.5097608486947769]"
     ]
    },
    {
     "name": "stderr",
     "output_type": "stream",
     "text": [
      "/home/rafalb/miniconda3/envs/rorgammaqsar2/lib/python3.8/site-packages/xgboost/sklearn.py:793: UserWarning: `eval_metric` in `fit` method is deprecated for better compatibility with scikit-learn, use `eval_metric` in constructor or`set_params` instead.\n",
      "  warnings.warn(\n",
      "\n"
     ]
    },
    {
     "name": "stdout",
     "output_type": "stream",
     "text": [
      " 24%|██▍       | 36/150 [03:18<13:03,  6.87s/it, best loss: 0.5097608486947769]"
     ]
    },
    {
     "name": "stderr",
     "output_type": "stream",
     "text": [
      "/home/rafalb/miniconda3/envs/rorgammaqsar2/lib/python3.8/site-packages/xgboost/sklearn.py:793: UserWarning: `eval_metric` in `fit` method is deprecated for better compatibility with scikit-learn, use `eval_metric` in constructor or`set_params` instead.\n",
      "  warnings.warn(\n",
      "\n"
     ]
    },
    {
     "name": "stdout",
     "output_type": "stream",
     "text": [
      " 25%|██▍       | 37/150 [03:25<12:56,  6.87s/it, best loss: 0.5097608486947769]"
     ]
    },
    {
     "name": "stderr",
     "output_type": "stream",
     "text": [
      "/home/rafalb/miniconda3/envs/rorgammaqsar2/lib/python3.8/site-packages/xgboost/sklearn.py:793: UserWarning: `eval_metric` in `fit` method is deprecated for better compatibility with scikit-learn, use `eval_metric` in constructor or`set_params` instead.\n",
      "  warnings.warn(\n",
      "\n"
     ]
    },
    {
     "name": "stdout",
     "output_type": "stream",
     "text": [
      " 25%|██▌       | 38/150 [03:31<12:31,  6.71s/it, best loss: 0.5097608486947769]"
     ]
    },
    {
     "name": "stderr",
     "output_type": "stream",
     "text": [
      "/home/rafalb/miniconda3/envs/rorgammaqsar2/lib/python3.8/site-packages/xgboost/sklearn.py:793: UserWarning: `eval_metric` in `fit` method is deprecated for better compatibility with scikit-learn, use `eval_metric` in constructor or`set_params` instead.\n",
      "  warnings.warn(\n",
      "\n"
     ]
    },
    {
     "name": "stdout",
     "output_type": "stream",
     "text": [
      " 26%|██▌       | 39/150 [03:37<11:43,  6.34s/it, best loss: 0.5097608486947769]"
     ]
    },
    {
     "name": "stderr",
     "output_type": "stream",
     "text": [
      "/home/rafalb/miniconda3/envs/rorgammaqsar2/lib/python3.8/site-packages/xgboost/sklearn.py:793: UserWarning: `eval_metric` in `fit` method is deprecated for better compatibility with scikit-learn, use `eval_metric` in constructor or`set_params` instead.\n",
      "  warnings.warn(\n",
      "\n"
     ]
    },
    {
     "name": "stdout",
     "output_type": "stream",
     "text": [
      " 27%|██▋       | 40/150 [03:45<12:35,  6.87s/it, best loss: 0.5097608486947769]"
     ]
    },
    {
     "name": "stderr",
     "output_type": "stream",
     "text": [
      "/home/rafalb/miniconda3/envs/rorgammaqsar2/lib/python3.8/site-packages/xgboost/sklearn.py:793: UserWarning: `eval_metric` in `fit` method is deprecated for better compatibility with scikit-learn, use `eval_metric` in constructor or`set_params` instead.\n",
      "  warnings.warn(\n",
      "\n"
     ]
    },
    {
     "name": "stdout",
     "output_type": "stream",
     "text": [
      " 27%|██▋       | 41/150 [03:50<11:27,  6.30s/it, best loss: 0.5097608486947769]"
     ]
    },
    {
     "name": "stderr",
     "output_type": "stream",
     "text": [
      "/home/rafalb/miniconda3/envs/rorgammaqsar2/lib/python3.8/site-packages/xgboost/sklearn.py:793: UserWarning: `eval_metric` in `fit` method is deprecated for better compatibility with scikit-learn, use `eval_metric` in constructor or`set_params` instead.\n",
      "  warnings.warn(\n",
      "\n"
     ]
    },
    {
     "name": "stdout",
     "output_type": "stream",
     "text": [
      " 28%|██▊       | 42/150 [03:59<12:53,  7.16s/it, best loss: 0.5097608486947769]"
     ]
    },
    {
     "name": "stderr",
     "output_type": "stream",
     "text": [
      "/home/rafalb/miniconda3/envs/rorgammaqsar2/lib/python3.8/site-packages/xgboost/sklearn.py:793: UserWarning: `eval_metric` in `fit` method is deprecated for better compatibility with scikit-learn, use `eval_metric` in constructor or`set_params` instead.\n",
      "  warnings.warn(\n",
      "\n"
     ]
    },
    {
     "name": "stdout",
     "output_type": "stream",
     "text": [
      " 29%|██▊       | 43/150 [04:03<10:59,  6.16s/it, best loss: 0.5097608486947769]"
     ]
    },
    {
     "name": "stderr",
     "output_type": "stream",
     "text": [
      "/home/rafalb/miniconda3/envs/rorgammaqsar2/lib/python3.8/site-packages/xgboost/sklearn.py:793: UserWarning: `eval_metric` in `fit` method is deprecated for better compatibility with scikit-learn, use `eval_metric` in constructor or`set_params` instead.\n",
      "  warnings.warn(\n",
      "\n"
     ]
    },
    {
     "name": "stdout",
     "output_type": "stream",
     "text": [
      " 29%|██▉       | 44/150 [04:06<09:29,  5.37s/it, best loss: 0.5097608486947769]"
     ]
    },
    {
     "name": "stderr",
     "output_type": "stream",
     "text": [
      "/home/rafalb/miniconda3/envs/rorgammaqsar2/lib/python3.8/site-packages/xgboost/sklearn.py:793: UserWarning: `eval_metric` in `fit` method is deprecated for better compatibility with scikit-learn, use `eval_metric` in constructor or`set_params` instead.\n",
      "  warnings.warn(\n",
      "\n"
     ]
    },
    {
     "name": "stdout",
     "output_type": "stream",
     "text": [
      " 30%|███       | 45/150 [04:12<09:35,  5.48s/it, best loss: 0.5097608486947769]"
     ]
    },
    {
     "name": "stderr",
     "output_type": "stream",
     "text": [
      "/home/rafalb/miniconda3/envs/rorgammaqsar2/lib/python3.8/site-packages/xgboost/sklearn.py:793: UserWarning: `eval_metric` in `fit` method is deprecated for better compatibility with scikit-learn, use `eval_metric` in constructor or`set_params` instead.\n",
      "  warnings.warn(\n",
      "\n"
     ]
    },
    {
     "name": "stdout",
     "output_type": "stream",
     "text": [
      " 31%|███       | 46/150 [04:16<08:50,  5.10s/it, best loss: 0.5097608486947769]"
     ]
    },
    {
     "name": "stderr",
     "output_type": "stream",
     "text": [
      "/home/rafalb/miniconda3/envs/rorgammaqsar2/lib/python3.8/site-packages/xgboost/sklearn.py:793: UserWarning: `eval_metric` in `fit` method is deprecated for better compatibility with scikit-learn, use `eval_metric` in constructor or`set_params` instead.\n",
      "  warnings.warn(\n",
      "\n"
     ]
    },
    {
     "name": "stdout",
     "output_type": "stream",
     "text": [
      " 31%|███▏      | 47/150 [04:23<09:49,  5.72s/it, best loss: 0.5097608486947769]"
     ]
    },
    {
     "name": "stderr",
     "output_type": "stream",
     "text": [
      "/home/rafalb/miniconda3/envs/rorgammaqsar2/lib/python3.8/site-packages/xgboost/sklearn.py:793: UserWarning: `eval_metric` in `fit` method is deprecated for better compatibility with scikit-learn, use `eval_metric` in constructor or`set_params` instead.\n",
      "  warnings.warn(\n",
      "\n"
     ]
    },
    {
     "name": "stdout",
     "output_type": "stream",
     "text": [
      " 32%|███▏      | 48/150 [04:28<09:02,  5.32s/it, best loss: 0.5097608486947769]"
     ]
    },
    {
     "name": "stderr",
     "output_type": "stream",
     "text": [
      "/home/rafalb/miniconda3/envs/rorgammaqsar2/lib/python3.8/site-packages/xgboost/sklearn.py:793: UserWarning: `eval_metric` in `fit` method is deprecated for better compatibility with scikit-learn, use `eval_metric` in constructor or`set_params` instead.\n",
      "  warnings.warn(\n",
      "\n"
     ]
    },
    {
     "name": "stdout",
     "output_type": "stream",
     "text": [
      " 33%|███▎      | 49/150 [04:34<09:27,  5.62s/it, best loss: 0.5097608486947769]"
     ]
    },
    {
     "name": "stderr",
     "output_type": "stream",
     "text": [
      "/home/rafalb/miniconda3/envs/rorgammaqsar2/lib/python3.8/site-packages/xgboost/sklearn.py:793: UserWarning: `eval_metric` in `fit` method is deprecated for better compatibility with scikit-learn, use `eval_metric` in constructor or`set_params` instead.\n",
      "  warnings.warn(\n",
      "\n"
     ]
    },
    {
     "name": "stdout",
     "output_type": "stream",
     "text": [
      " 33%|███▎      | 50/150 [04:40<09:41,  5.81s/it, best loss: 0.5052418648042784]"
     ]
    },
    {
     "name": "stderr",
     "output_type": "stream",
     "text": [
      "/home/rafalb/miniconda3/envs/rorgammaqsar2/lib/python3.8/site-packages/xgboost/sklearn.py:793: UserWarning: `eval_metric` in `fit` method is deprecated for better compatibility with scikit-learn, use `eval_metric` in constructor or`set_params` instead.\n",
      "  warnings.warn(\n",
      "\n"
     ]
    },
    {
     "name": "stdout",
     "output_type": "stream",
     "text": [
      " 34%|███▍      | 51/150 [04:46<09:40,  5.87s/it, best loss: 0.49877420498588]  "
     ]
    },
    {
     "name": "stderr",
     "output_type": "stream",
     "text": [
      "/home/rafalb/miniconda3/envs/rorgammaqsar2/lib/python3.8/site-packages/xgboost/sklearn.py:793: UserWarning: `eval_metric` in `fit` method is deprecated for better compatibility with scikit-learn, use `eval_metric` in constructor or`set_params` instead.\n",
      "  warnings.warn(\n",
      "\n"
     ]
    },
    {
     "name": "stdout",
     "output_type": "stream",
     "text": [
      " 35%|███▍      | 52/150 [04:52<09:15,  5.67s/it, best loss: 0.49877420498588]"
     ]
    },
    {
     "name": "stderr",
     "output_type": "stream",
     "text": [
      "/home/rafalb/miniconda3/envs/rorgammaqsar2/lib/python3.8/site-packages/xgboost/sklearn.py:793: UserWarning: `eval_metric` in `fit` method is deprecated for better compatibility with scikit-learn, use `eval_metric` in constructor or`set_params` instead.\n",
      "  warnings.warn(\n",
      "\n"
     ]
    },
    {
     "name": "stdout",
     "output_type": "stream",
     "text": [
      " 35%|███▌      | 53/150 [04:56<08:23,  5.19s/it, best loss: 0.49877420498588]"
     ]
    },
    {
     "name": "stderr",
     "output_type": "stream",
     "text": [
      "/home/rafalb/miniconda3/envs/rorgammaqsar2/lib/python3.8/site-packages/xgboost/sklearn.py:793: UserWarning: `eval_metric` in `fit` method is deprecated for better compatibility with scikit-learn, use `eval_metric` in constructor or`set_params` instead.\n",
      "  warnings.warn(\n",
      "\n"
     ]
    },
    {
     "name": "stdout",
     "output_type": "stream",
     "text": [
      " 36%|███▌      | 54/150 [05:02<08:36,  5.38s/it, best loss: 0.49877420498588]"
     ]
    },
    {
     "name": "stderr",
     "output_type": "stream",
     "text": [
      "/home/rafalb/miniconda3/envs/rorgammaqsar2/lib/python3.8/site-packages/xgboost/sklearn.py:793: UserWarning: `eval_metric` in `fit` method is deprecated for better compatibility with scikit-learn, use `eval_metric` in constructor or`set_params` instead.\n",
      "  warnings.warn(\n",
      "\n"
     ]
    },
    {
     "name": "stdout",
     "output_type": "stream",
     "text": [
      " 37%|███▋      | 55/150 [05:06<07:55,  5.01s/it, best loss: 0.49877420498588]"
     ]
    },
    {
     "name": "stderr",
     "output_type": "stream",
     "text": [
      "/home/rafalb/miniconda3/envs/rorgammaqsar2/lib/python3.8/site-packages/xgboost/sklearn.py:793: UserWarning: `eval_metric` in `fit` method is deprecated for better compatibility with scikit-learn, use `eval_metric` in constructor or`set_params` instead.\n",
      "  warnings.warn(\n",
      "\n"
     ]
    },
    {
     "name": "stdout",
     "output_type": "stream",
     "text": [
      " 37%|███▋      | 56/150 [05:08<06:36,  4.22s/it, best loss: 0.49877420498588]"
     ]
    },
    {
     "name": "stderr",
     "output_type": "stream",
     "text": [
      "/home/rafalb/miniconda3/envs/rorgammaqsar2/lib/python3.8/site-packages/xgboost/sklearn.py:793: UserWarning: `eval_metric` in `fit` method is deprecated for better compatibility with scikit-learn, use `eval_metric` in constructor or`set_params` instead.\n",
      "  warnings.warn(\n",
      "\n"
     ]
    },
    {
     "name": "stdout",
     "output_type": "stream",
     "text": [
      " 38%|███▊      | 57/150 [05:16<08:19,  5.37s/it, best loss: 0.49877420498588]"
     ]
    },
    {
     "name": "stderr",
     "output_type": "stream",
     "text": [
      "/home/rafalb/miniconda3/envs/rorgammaqsar2/lib/python3.8/site-packages/xgboost/sklearn.py:793: UserWarning: `eval_metric` in `fit` method is deprecated for better compatibility with scikit-learn, use `eval_metric` in constructor or`set_params` instead.\n",
      "  warnings.warn(\n",
      "\n"
     ]
    },
    {
     "name": "stdout",
     "output_type": "stream",
     "text": [
      " 39%|███▊      | 58/150 [05:22<08:16,  5.39s/it, best loss: 0.49877420498588]"
     ]
    },
    {
     "name": "stderr",
     "output_type": "stream",
     "text": [
      "/home/rafalb/miniconda3/envs/rorgammaqsar2/lib/python3.8/site-packages/xgboost/sklearn.py:793: UserWarning: `eval_metric` in `fit` method is deprecated for better compatibility with scikit-learn, use `eval_metric` in constructor or`set_params` instead.\n",
      "  warnings.warn(\n",
      "\n"
     ]
    },
    {
     "name": "stdout",
     "output_type": "stream",
     "text": [
      " 39%|███▉      | 59/150 [05:27<07:59,  5.27s/it, best loss: 0.49877420498588]"
     ]
    },
    {
     "name": "stderr",
     "output_type": "stream",
     "text": [
      "/home/rafalb/miniconda3/envs/rorgammaqsar2/lib/python3.8/site-packages/xgboost/sklearn.py:793: UserWarning: `eval_metric` in `fit` method is deprecated for better compatibility with scikit-learn, use `eval_metric` in constructor or`set_params` instead.\n",
      "  warnings.warn(\n",
      "\n"
     ]
    },
    {
     "name": "stdout",
     "output_type": "stream",
     "text": [
      " 40%|████      | 60/150 [05:32<07:50,  5.23s/it, best loss: 0.49877420498588]"
     ]
    },
    {
     "name": "stderr",
     "output_type": "stream",
     "text": [
      "/home/rafalb/miniconda3/envs/rorgammaqsar2/lib/python3.8/site-packages/xgboost/sklearn.py:793: UserWarning: `eval_metric` in `fit` method is deprecated for better compatibility with scikit-learn, use `eval_metric` in constructor or`set_params` instead.\n",
      "  warnings.warn(\n",
      "\n"
     ]
    },
    {
     "name": "stdout",
     "output_type": "stream",
     "text": [
      " 41%|████      | 61/150 [05:35<07:04,  4.77s/it, best loss: 0.49877420498588]"
     ]
    },
    {
     "name": "stderr",
     "output_type": "stream",
     "text": [
      "/home/rafalb/miniconda3/envs/rorgammaqsar2/lib/python3.8/site-packages/xgboost/sklearn.py:793: UserWarning: `eval_metric` in `fit` method is deprecated for better compatibility with scikit-learn, use `eval_metric` in constructor or`set_params` instead.\n",
      "  warnings.warn(\n",
      "\n"
     ]
    },
    {
     "name": "stdout",
     "output_type": "stream",
     "text": [
      " 41%|████▏     | 62/150 [05:42<07:49,  5.34s/it, best loss: 0.49877420498588]"
     ]
    },
    {
     "name": "stderr",
     "output_type": "stream",
     "text": [
      "/home/rafalb/miniconda3/envs/rorgammaqsar2/lib/python3.8/site-packages/xgboost/sklearn.py:793: UserWarning: `eval_metric` in `fit` method is deprecated for better compatibility with scikit-learn, use `eval_metric` in constructor or`set_params` instead.\n",
      "  warnings.warn(\n",
      "\n"
     ]
    },
    {
     "name": "stdout",
     "output_type": "stream",
     "text": [
      " 42%|████▏     | 63/150 [05:44<06:13,  4.29s/it, best loss: 0.49877420498588]"
     ]
    },
    {
     "name": "stderr",
     "output_type": "stream",
     "text": [
      "/home/rafalb/miniconda3/envs/rorgammaqsar2/lib/python3.8/site-packages/xgboost/sklearn.py:793: UserWarning: `eval_metric` in `fit` method is deprecated for better compatibility with scikit-learn, use `eval_metric` in constructor or`set_params` instead.\n",
      "  warnings.warn(\n",
      "\n"
     ]
    },
    {
     "name": "stdout",
     "output_type": "stream",
     "text": [
      " 43%|████▎     | 64/150 [05:48<06:08,  4.28s/it, best loss: 0.49877420498588]"
     ]
    },
    {
     "name": "stderr",
     "output_type": "stream",
     "text": [
      "/home/rafalb/miniconda3/envs/rorgammaqsar2/lib/python3.8/site-packages/xgboost/sklearn.py:793: UserWarning: `eval_metric` in `fit` method is deprecated for better compatibility with scikit-learn, use `eval_metric` in constructor or`set_params` instead.\n",
      "  warnings.warn(\n",
      "\n"
     ]
    },
    {
     "name": "stdout",
     "output_type": "stream",
     "text": [
      " 43%|████▎     | 65/150 [05:52<06:04,  4.29s/it, best loss: 0.49877420498588]"
     ]
    },
    {
     "name": "stderr",
     "output_type": "stream",
     "text": [
      "/home/rafalb/miniconda3/envs/rorgammaqsar2/lib/python3.8/site-packages/xgboost/sklearn.py:793: UserWarning: `eval_metric` in `fit` method is deprecated for better compatibility with scikit-learn, use `eval_metric` in constructor or`set_params` instead.\n",
      "  warnings.warn(\n",
      "\n"
     ]
    },
    {
     "name": "stdout",
     "output_type": "stream",
     "text": [
      " 44%|████▍     | 66/150 [05:59<07:03,  5.04s/it, best loss: 0.49877420498588]"
     ]
    },
    {
     "name": "stderr",
     "output_type": "stream",
     "text": [
      "/home/rafalb/miniconda3/envs/rorgammaqsar2/lib/python3.8/site-packages/xgboost/sklearn.py:793: UserWarning: `eval_metric` in `fit` method is deprecated for better compatibility with scikit-learn, use `eval_metric` in constructor or`set_params` instead.\n",
      "  warnings.warn(\n",
      "\n"
     ]
    },
    {
     "name": "stdout",
     "output_type": "stream",
     "text": [
      " 45%|████▍     | 67/150 [06:06<07:34,  5.48s/it, best loss: 0.48587555005526456]"
     ]
    },
    {
     "name": "stderr",
     "output_type": "stream",
     "text": [
      "/home/rafalb/miniconda3/envs/rorgammaqsar2/lib/python3.8/site-packages/xgboost/sklearn.py:793: UserWarning: `eval_metric` in `fit` method is deprecated for better compatibility with scikit-learn, use `eval_metric` in constructor or`set_params` instead.\n",
      "  warnings.warn(\n",
      "\n"
     ]
    },
    {
     "name": "stdout",
     "output_type": "stream",
     "text": [
      " 45%|████▌     | 68/150 [06:12<07:42,  5.64s/it, best loss: 0.48587555005526456]"
     ]
    },
    {
     "name": "stderr",
     "output_type": "stream",
     "text": [
      "/home/rafalb/miniconda3/envs/rorgammaqsar2/lib/python3.8/site-packages/xgboost/sklearn.py:793: UserWarning: `eval_metric` in `fit` method is deprecated for better compatibility with scikit-learn, use `eval_metric` in constructor or`set_params` instead.\n",
      "  warnings.warn(\n",
      "\n"
     ]
    },
    {
     "name": "stdout",
     "output_type": "stream",
     "text": [
      " 46%|████▌     | 69/150 [06:18<07:48,  5.79s/it, best loss: 0.48587555005526456]"
     ]
    },
    {
     "name": "stderr",
     "output_type": "stream",
     "text": [
      "/home/rafalb/miniconda3/envs/rorgammaqsar2/lib/python3.8/site-packages/xgboost/sklearn.py:793: UserWarning: `eval_metric` in `fit` method is deprecated for better compatibility with scikit-learn, use `eval_metric` in constructor or`set_params` instead.\n",
      "  warnings.warn(\n",
      "\n"
     ]
    },
    {
     "name": "stdout",
     "output_type": "stream",
     "text": [
      " 47%|████▋     | 70/150 [06:25<08:09,  6.12s/it, best loss: 0.48587555005526456]"
     ]
    },
    {
     "name": "stderr",
     "output_type": "stream",
     "text": [
      "/home/rafalb/miniconda3/envs/rorgammaqsar2/lib/python3.8/site-packages/xgboost/sklearn.py:793: UserWarning: `eval_metric` in `fit` method is deprecated for better compatibility with scikit-learn, use `eval_metric` in constructor or`set_params` instead.\n",
      "  warnings.warn(\n",
      "\n"
     ]
    },
    {
     "name": "stdout",
     "output_type": "stream",
     "text": [
      " 47%|████▋     | 71/150 [06:32<08:21,  6.35s/it, best loss: 0.48587555005526456]"
     ]
    },
    {
     "name": "stderr",
     "output_type": "stream",
     "text": [
      "/home/rafalb/miniconda3/envs/rorgammaqsar2/lib/python3.8/site-packages/xgboost/sklearn.py:793: UserWarning: `eval_metric` in `fit` method is deprecated for better compatibility with scikit-learn, use `eval_metric` in constructor or`set_params` instead.\n",
      "  warnings.warn(\n",
      "\n"
     ]
    },
    {
     "name": "stdout",
     "output_type": "stream",
     "text": [
      " 48%|████▊     | 72/150 [06:38<08:20,  6.41s/it, best loss: 0.48587555005526456]"
     ]
    },
    {
     "name": "stderr",
     "output_type": "stream",
     "text": [
      "/home/rafalb/miniconda3/envs/rorgammaqsar2/lib/python3.8/site-packages/xgboost/sklearn.py:793: UserWarning: `eval_metric` in `fit` method is deprecated for better compatibility with scikit-learn, use `eval_metric` in constructor or`set_params` instead.\n",
      "  warnings.warn(\n",
      "\n"
     ]
    },
    {
     "name": "stdout",
     "output_type": "stream",
     "text": [
      " 49%|████▊     | 73/150 [06:44<07:57,  6.20s/it, best loss: 0.48587555005526456]"
     ]
    },
    {
     "name": "stderr",
     "output_type": "stream",
     "text": [
      "/home/rafalb/miniconda3/envs/rorgammaqsar2/lib/python3.8/site-packages/xgboost/sklearn.py:793: UserWarning: `eval_metric` in `fit` method is deprecated for better compatibility with scikit-learn, use `eval_metric` in constructor or`set_params` instead.\n",
      "  warnings.warn(\n",
      "\n"
     ]
    },
    {
     "name": "stdout",
     "output_type": "stream",
     "text": [
      " 49%|████▉     | 74/150 [06:51<08:07,  6.42s/it, best loss: 0.48587555005526456]"
     ]
    },
    {
     "name": "stderr",
     "output_type": "stream",
     "text": [
      "/home/rafalb/miniconda3/envs/rorgammaqsar2/lib/python3.8/site-packages/xgboost/sklearn.py:793: UserWarning: `eval_metric` in `fit` method is deprecated for better compatibility with scikit-learn, use `eval_metric` in constructor or`set_params` instead.\n",
      "  warnings.warn(\n",
      "\n"
     ]
    },
    {
     "name": "stdout",
     "output_type": "stream",
     "text": [
      " 50%|█████     | 75/150 [06:56<07:40,  6.14s/it, best loss: 0.48587555005526456]"
     ]
    },
    {
     "name": "stderr",
     "output_type": "stream",
     "text": [
      "/home/rafalb/miniconda3/envs/rorgammaqsar2/lib/python3.8/site-packages/xgboost/sklearn.py:793: UserWarning: `eval_metric` in `fit` method is deprecated for better compatibility with scikit-learn, use `eval_metric` in constructor or`set_params` instead.\n",
      "  warnings.warn(\n",
      "\n"
     ]
    },
    {
     "name": "stdout",
     "output_type": "stream",
     "text": [
      " 51%|█████     | 76/150 [07:04<07:59,  6.49s/it, best loss: 0.48587555005526456]"
     ]
    },
    {
     "name": "stderr",
     "output_type": "stream",
     "text": [
      "/home/rafalb/miniconda3/envs/rorgammaqsar2/lib/python3.8/site-packages/xgboost/sklearn.py:793: UserWarning: `eval_metric` in `fit` method is deprecated for better compatibility with scikit-learn, use `eval_metric` in constructor or`set_params` instead.\n",
      "  warnings.warn(\n",
      "\n"
     ]
    },
    {
     "name": "stdout",
     "output_type": "stream",
     "text": [
      " 51%|█████▏    | 77/150 [07:10<07:58,  6.56s/it, best loss: 0.48587555005526456]"
     ]
    },
    {
     "name": "stderr",
     "output_type": "stream",
     "text": [
      "/home/rafalb/miniconda3/envs/rorgammaqsar2/lib/python3.8/site-packages/xgboost/sklearn.py:793: UserWarning: `eval_metric` in `fit` method is deprecated for better compatibility with scikit-learn, use `eval_metric` in constructor or`set_params` instead.\n",
      "  warnings.warn(\n",
      "\n"
     ]
    },
    {
     "name": "stdout",
     "output_type": "stream",
     "text": [
      " 52%|█████▏    | 78/150 [07:16<07:41,  6.41s/it, best loss: 0.48587555005526456]"
     ]
    },
    {
     "name": "stderr",
     "output_type": "stream",
     "text": [
      "/home/rafalb/miniconda3/envs/rorgammaqsar2/lib/python3.8/site-packages/xgboost/sklearn.py:793: UserWarning: `eval_metric` in `fit` method is deprecated for better compatibility with scikit-learn, use `eval_metric` in constructor or`set_params` instead.\n",
      "  warnings.warn(\n",
      "\n"
     ]
    },
    {
     "name": "stdout",
     "output_type": "stream",
     "text": [
      " 53%|█████▎    | 79/150 [07:21<06:51,  5.80s/it, best loss: 0.48587555005526456]"
     ]
    },
    {
     "name": "stderr",
     "output_type": "stream",
     "text": [
      "/home/rafalb/miniconda3/envs/rorgammaqsar2/lib/python3.8/site-packages/xgboost/sklearn.py:793: UserWarning: `eval_metric` in `fit` method is deprecated for better compatibility with scikit-learn, use `eval_metric` in constructor or`set_params` instead.\n",
      "  warnings.warn(\n",
      "\n"
     ]
    },
    {
     "name": "stdout",
     "output_type": "stream",
     "text": [
      " 53%|█████▎    | 80/150 [07:29<07:25,  6.37s/it, best loss: 0.48587555005526456]"
     ]
    },
    {
     "name": "stderr",
     "output_type": "stream",
     "text": [
      "/home/rafalb/miniconda3/envs/rorgammaqsar2/lib/python3.8/site-packages/xgboost/sklearn.py:793: UserWarning: `eval_metric` in `fit` method is deprecated for better compatibility with scikit-learn, use `eval_metric` in constructor or`set_params` instead.\n",
      "  warnings.warn(\n",
      "\n"
     ]
    },
    {
     "name": "stdout",
     "output_type": "stream",
     "text": [
      " 54%|█████▍    | 81/150 [07:36<07:49,  6.80s/it, best loss: 0.48587555005526456]"
     ]
    },
    {
     "name": "stderr",
     "output_type": "stream",
     "text": [
      "/home/rafalb/miniconda3/envs/rorgammaqsar2/lib/python3.8/site-packages/xgboost/sklearn.py:793: UserWarning: `eval_metric` in `fit` method is deprecated for better compatibility with scikit-learn, use `eval_metric` in constructor or`set_params` instead.\n",
      "  warnings.warn(\n",
      "\n"
     ]
    },
    {
     "name": "stdout",
     "output_type": "stream",
     "text": [
      " 55%|█████▍    | 82/150 [07:44<07:58,  7.04s/it, best loss: 0.48587555005526456]"
     ]
    },
    {
     "name": "stderr",
     "output_type": "stream",
     "text": [
      "/home/rafalb/miniconda3/envs/rorgammaqsar2/lib/python3.8/site-packages/xgboost/sklearn.py:793: UserWarning: `eval_metric` in `fit` method is deprecated for better compatibility with scikit-learn, use `eval_metric` in constructor or`set_params` instead.\n",
      "  warnings.warn(\n",
      "\n"
     ]
    },
    {
     "name": "stdout",
     "output_type": "stream",
     "text": [
      " 55%|█████▌    | 83/150 [07:49<07:16,  6.52s/it, best loss: 0.48587555005526456]"
     ]
    },
    {
     "name": "stderr",
     "output_type": "stream",
     "text": [
      "/home/rafalb/miniconda3/envs/rorgammaqsar2/lib/python3.8/site-packages/xgboost/sklearn.py:793: UserWarning: `eval_metric` in `fit` method is deprecated for better compatibility with scikit-learn, use `eval_metric` in constructor or`set_params` instead.\n",
      "  warnings.warn(\n",
      "\n"
     ]
    },
    {
     "name": "stdout",
     "output_type": "stream",
     "text": [
      " 56%|█████▌    | 84/150 [07:54<06:36,  6.00s/it, best loss: 0.48587555005526456]"
     ]
    },
    {
     "name": "stderr",
     "output_type": "stream",
     "text": [
      "/home/rafalb/miniconda3/envs/rorgammaqsar2/lib/python3.8/site-packages/xgboost/sklearn.py:793: UserWarning: `eval_metric` in `fit` method is deprecated for better compatibility with scikit-learn, use `eval_metric` in constructor or`set_params` instead.\n",
      "  warnings.warn(\n",
      "\n"
     ]
    },
    {
     "name": "stdout",
     "output_type": "stream",
     "text": [
      " 57%|█████▋    | 85/150 [08:00<06:22,  5.88s/it, best loss: 0.48587555005526456]"
     ]
    },
    {
     "name": "stderr",
     "output_type": "stream",
     "text": [
      "/home/rafalb/miniconda3/envs/rorgammaqsar2/lib/python3.8/site-packages/xgboost/sklearn.py:793: UserWarning: `eval_metric` in `fit` method is deprecated for better compatibility with scikit-learn, use `eval_metric` in constructor or`set_params` instead.\n",
      "  warnings.warn(\n",
      "\n"
     ]
    },
    {
     "name": "stdout",
     "output_type": "stream",
     "text": [
      " 57%|█████▋    | 86/150 [08:05<06:14,  5.86s/it, best loss: 0.48587555005526456]"
     ]
    },
    {
     "name": "stderr",
     "output_type": "stream",
     "text": [
      "/home/rafalb/miniconda3/envs/rorgammaqsar2/lib/python3.8/site-packages/xgboost/sklearn.py:793: UserWarning: `eval_metric` in `fit` method is deprecated for better compatibility with scikit-learn, use `eval_metric` in constructor or`set_params` instead.\n",
      "  warnings.warn(\n",
      "\n"
     ]
    },
    {
     "name": "stdout",
     "output_type": "stream",
     "text": [
      " 58%|█████▊    | 87/150 [08:12<06:26,  6.13s/it, best loss: 0.48587555005526456]"
     ]
    },
    {
     "name": "stderr",
     "output_type": "stream",
     "text": [
      "/home/rafalb/miniconda3/envs/rorgammaqsar2/lib/python3.8/site-packages/xgboost/sklearn.py:793: UserWarning: `eval_metric` in `fit` method is deprecated for better compatibility with scikit-learn, use `eval_metric` in constructor or`set_params` instead.\n",
      "  warnings.warn(\n",
      "\n"
     ]
    },
    {
     "name": "stdout",
     "output_type": "stream",
     "text": [
      " 59%|█████▊    | 88/150 [08:20<06:51,  6.64s/it, best loss: 0.48587555005526456]"
     ]
    },
    {
     "name": "stderr",
     "output_type": "stream",
     "text": [
      "/home/rafalb/miniconda3/envs/rorgammaqsar2/lib/python3.8/site-packages/xgboost/sklearn.py:793: UserWarning: `eval_metric` in `fit` method is deprecated for better compatibility with scikit-learn, use `eval_metric` in constructor or`set_params` instead.\n",
      "  warnings.warn(\n",
      "\n"
     ]
    },
    {
     "name": "stdout",
     "output_type": "stream",
     "text": [
      " 59%|█████▉    | 89/150 [08:28<07:07,  7.00s/it, best loss: 0.48587555005526456]"
     ]
    },
    {
     "name": "stderr",
     "output_type": "stream",
     "text": [
      "/home/rafalb/miniconda3/envs/rorgammaqsar2/lib/python3.8/site-packages/xgboost/sklearn.py:793: UserWarning: `eval_metric` in `fit` method is deprecated for better compatibility with scikit-learn, use `eval_metric` in constructor or`set_params` instead.\n",
      "  warnings.warn(\n",
      "\n"
     ]
    },
    {
     "name": "stdout",
     "output_type": "stream",
     "text": [
      " 60%|██████    | 90/150 [08:35<06:56,  6.95s/it, best loss: 0.48587555005526456]"
     ]
    },
    {
     "name": "stderr",
     "output_type": "stream",
     "text": [
      "/home/rafalb/miniconda3/envs/rorgammaqsar2/lib/python3.8/site-packages/xgboost/sklearn.py:793: UserWarning: `eval_metric` in `fit` method is deprecated for better compatibility with scikit-learn, use `eval_metric` in constructor or`set_params` instead.\n",
      "  warnings.warn(\n",
      "\n"
     ]
    },
    {
     "name": "stdout",
     "output_type": "stream",
     "text": [
      " 61%|██████    | 91/150 [08:38<05:52,  5.98s/it, best loss: 0.48587555005526456]"
     ]
    },
    {
     "name": "stderr",
     "output_type": "stream",
     "text": [
      "/home/rafalb/miniconda3/envs/rorgammaqsar2/lib/python3.8/site-packages/xgboost/sklearn.py:793: UserWarning: `eval_metric` in `fit` method is deprecated for better compatibility with scikit-learn, use `eval_metric` in constructor or`set_params` instead.\n",
      "  warnings.warn(\n",
      "\n"
     ]
    },
    {
     "name": "stdout",
     "output_type": "stream",
     "text": [
      " 61%|██████▏   | 92/150 [08:46<06:13,  6.43s/it, best loss: 0.48587555005526456]"
     ]
    },
    {
     "name": "stderr",
     "output_type": "stream",
     "text": [
      "/home/rafalb/miniconda3/envs/rorgammaqsar2/lib/python3.8/site-packages/xgboost/sklearn.py:793: UserWarning: `eval_metric` in `fit` method is deprecated for better compatibility with scikit-learn, use `eval_metric` in constructor or`set_params` instead.\n",
      "  warnings.warn(\n",
      "\n"
     ]
    },
    {
     "name": "stdout",
     "output_type": "stream",
     "text": [
      " 62%|██████▏   | 93/150 [08:50<05:19,  5.61s/it, best loss: 0.48587555005526456]"
     ]
    },
    {
     "name": "stderr",
     "output_type": "stream",
     "text": [
      "/home/rafalb/miniconda3/envs/rorgammaqsar2/lib/python3.8/site-packages/xgboost/sklearn.py:793: UserWarning: `eval_metric` in `fit` method is deprecated for better compatibility with scikit-learn, use `eval_metric` in constructor or`set_params` instead.\n",
      "  warnings.warn(\n",
      "\n"
     ]
    },
    {
     "name": "stdout",
     "output_type": "stream",
     "text": [
      " 63%|██████▎   | 94/150 [08:56<05:30,  5.91s/it, best loss: 0.48587555005526456]"
     ]
    },
    {
     "name": "stderr",
     "output_type": "stream",
     "text": [
      "/home/rafalb/miniconda3/envs/rorgammaqsar2/lib/python3.8/site-packages/xgboost/sklearn.py:793: UserWarning: `eval_metric` in `fit` method is deprecated for better compatibility with scikit-learn, use `eval_metric` in constructor or`set_params` instead.\n",
      "  warnings.warn(\n",
      "\n"
     ]
    },
    {
     "name": "stdout",
     "output_type": "stream",
     "text": [
      " 63%|██████▎   | 95/150 [09:00<04:57,  5.40s/it, best loss: 0.48587555005526456]"
     ]
    },
    {
     "name": "stderr",
     "output_type": "stream",
     "text": [
      "/home/rafalb/miniconda3/envs/rorgammaqsar2/lib/python3.8/site-packages/xgboost/sklearn.py:793: UserWarning: `eval_metric` in `fit` method is deprecated for better compatibility with scikit-learn, use `eval_metric` in constructor or`set_params` instead.\n",
      "  warnings.warn(\n",
      "\n"
     ]
    },
    {
     "name": "stdout",
     "output_type": "stream",
     "text": [
      " 64%|██████▍   | 96/150 [09:04<04:25,  4.91s/it, best loss: 0.48587555005526456]"
     ]
    },
    {
     "name": "stderr",
     "output_type": "stream",
     "text": [
      "/home/rafalb/miniconda3/envs/rorgammaqsar2/lib/python3.8/site-packages/xgboost/sklearn.py:793: UserWarning: `eval_metric` in `fit` method is deprecated for better compatibility with scikit-learn, use `eval_metric` in constructor or`set_params` instead.\n",
      "  warnings.warn(\n",
      "\n"
     ]
    },
    {
     "name": "stdout",
     "output_type": "stream",
     "text": [
      " 65%|██████▍   | 97/150 [09:10<04:31,  5.12s/it, best loss: 0.48587555005526456]"
     ]
    },
    {
     "name": "stderr",
     "output_type": "stream",
     "text": [
      "/home/rafalb/miniconda3/envs/rorgammaqsar2/lib/python3.8/site-packages/xgboost/sklearn.py:793: UserWarning: `eval_metric` in `fit` method is deprecated for better compatibility with scikit-learn, use `eval_metric` in constructor or`set_params` instead.\n",
      "  warnings.warn(\n",
      "\n"
     ]
    },
    {
     "name": "stdout",
     "output_type": "stream",
     "text": [
      " 65%|██████▌   | 98/150 [09:16<04:43,  5.44s/it, best loss: 0.48587555005526456]"
     ]
    },
    {
     "name": "stderr",
     "output_type": "stream",
     "text": [
      "/home/rafalb/miniconda3/envs/rorgammaqsar2/lib/python3.8/site-packages/xgboost/sklearn.py:793: UserWarning: `eval_metric` in `fit` method is deprecated for better compatibility with scikit-learn, use `eval_metric` in constructor or`set_params` instead.\n",
      "  warnings.warn(\n",
      "\n"
     ]
    },
    {
     "name": "stdout",
     "output_type": "stream",
     "text": [
      " 66%|██████▌   | 99/150 [09:20<04:08,  4.87s/it, best loss: 0.48587555005526456]"
     ]
    },
    {
     "name": "stderr",
     "output_type": "stream",
     "text": [
      "/home/rafalb/miniconda3/envs/rorgammaqsar2/lib/python3.8/site-packages/xgboost/sklearn.py:793: UserWarning: `eval_metric` in `fit` method is deprecated for better compatibility with scikit-learn, use `eval_metric` in constructor or`set_params` instead.\n",
      "  warnings.warn(\n",
      "\n"
     ]
    },
    {
     "name": "stdout",
     "output_type": "stream",
     "text": [
      " 67%|██████▋   | 100/150 [09:24<04:00,  4.81s/it, best loss: 0.48587555005526456]"
     ]
    },
    {
     "name": "stderr",
     "output_type": "stream",
     "text": [
      "/home/rafalb/miniconda3/envs/rorgammaqsar2/lib/python3.8/site-packages/xgboost/sklearn.py:793: UserWarning: `eval_metric` in `fit` method is deprecated for better compatibility with scikit-learn, use `eval_metric` in constructor or`set_params` instead.\n",
      "  warnings.warn(\n",
      "\n"
     ]
    },
    {
     "name": "stdout",
     "output_type": "stream",
     "text": [
      " 67%|██████▋   | 101/150 [09:30<04:15,  5.21s/it, best loss: 0.48587555005526456]"
     ]
    },
    {
     "name": "stderr",
     "output_type": "stream",
     "text": [
      "/home/rafalb/miniconda3/envs/rorgammaqsar2/lib/python3.8/site-packages/xgboost/sklearn.py:793: UserWarning: `eval_metric` in `fit` method is deprecated for better compatibility with scikit-learn, use `eval_metric` in constructor or`set_params` instead.\n",
      "  warnings.warn(\n",
      "\n"
     ]
    },
    {
     "name": "stdout",
     "output_type": "stream",
     "text": [
      " 68%|██████▊   | 102/150 [09:38<04:45,  5.95s/it, best loss: 0.48587555005526456]"
     ]
    },
    {
     "name": "stderr",
     "output_type": "stream",
     "text": [
      "/home/rafalb/miniconda3/envs/rorgammaqsar2/lib/python3.8/site-packages/xgboost/sklearn.py:793: UserWarning: `eval_metric` in `fit` method is deprecated for better compatibility with scikit-learn, use `eval_metric` in constructor or`set_params` instead.\n",
      "  warnings.warn(\n",
      "\n"
     ]
    },
    {
     "name": "stdout",
     "output_type": "stream",
     "text": [
      " 69%|██████▊   | 103/150 [09:47<05:18,  6.78s/it, best loss: 0.48587555005526456]"
     ]
    },
    {
     "name": "stderr",
     "output_type": "stream",
     "text": [
      "/home/rafalb/miniconda3/envs/rorgammaqsar2/lib/python3.8/site-packages/xgboost/sklearn.py:793: UserWarning: `eval_metric` in `fit` method is deprecated for better compatibility with scikit-learn, use `eval_metric` in constructor or`set_params` instead.\n",
      "  warnings.warn(\n",
      "\n"
     ]
    },
    {
     "name": "stdout",
     "output_type": "stream",
     "text": [
      " 69%|██████▉   | 104/150 [09:54<05:14,  6.83s/it, best loss: 0.48587555005526456]"
     ]
    },
    {
     "name": "stderr",
     "output_type": "stream",
     "text": [
      "/home/rafalb/miniconda3/envs/rorgammaqsar2/lib/python3.8/site-packages/xgboost/sklearn.py:793: UserWarning: `eval_metric` in `fit` method is deprecated for better compatibility with scikit-learn, use `eval_metric` in constructor or`set_params` instead.\n",
      "  warnings.warn(\n",
      "\n"
     ]
    },
    {
     "name": "stdout",
     "output_type": "stream",
     "text": [
      " 70%|███████   | 105/150 [09:58<04:37,  6.17s/it, best loss: 0.48587555005526456]"
     ]
    },
    {
     "name": "stderr",
     "output_type": "stream",
     "text": [
      "/home/rafalb/miniconda3/envs/rorgammaqsar2/lib/python3.8/site-packages/xgboost/sklearn.py:793: UserWarning: `eval_metric` in `fit` method is deprecated for better compatibility with scikit-learn, use `eval_metric` in constructor or`set_params` instead.\n",
      "  warnings.warn(\n",
      "\n"
     ]
    },
    {
     "name": "stdout",
     "output_type": "stream",
     "text": [
      " 71%|███████   | 106/150 [10:05<04:41,  6.40s/it, best loss: 0.48587555005526456]"
     ]
    },
    {
     "name": "stderr",
     "output_type": "stream",
     "text": [
      "/home/rafalb/miniconda3/envs/rorgammaqsar2/lib/python3.8/site-packages/xgboost/sklearn.py:793: UserWarning: `eval_metric` in `fit` method is deprecated for better compatibility with scikit-learn, use `eval_metric` in constructor or`set_params` instead.\n",
      "  warnings.warn(\n",
      "\n"
     ]
    },
    {
     "name": "stdout",
     "output_type": "stream",
     "text": [
      " 71%|███████▏  | 107/150 [10:09<04:04,  5.68s/it, best loss: 0.48587555005526456]"
     ]
    },
    {
     "name": "stderr",
     "output_type": "stream",
     "text": [
      "/home/rafalb/miniconda3/envs/rorgammaqsar2/lib/python3.8/site-packages/xgboost/sklearn.py:793: UserWarning: `eval_metric` in `fit` method is deprecated for better compatibility with scikit-learn, use `eval_metric` in constructor or`set_params` instead.\n",
      "  warnings.warn(\n",
      "\n"
     ]
    },
    {
     "name": "stdout",
     "output_type": "stream",
     "text": [
      " 72%|███████▏  | 108/150 [10:14<03:44,  5.34s/it, best loss: 0.48587555005526456]"
     ]
    },
    {
     "name": "stderr",
     "output_type": "stream",
     "text": [
      "/home/rafalb/miniconda3/envs/rorgammaqsar2/lib/python3.8/site-packages/xgboost/sklearn.py:793: UserWarning: `eval_metric` in `fit` method is deprecated for better compatibility with scikit-learn, use `eval_metric` in constructor or`set_params` instead.\n",
      "  warnings.warn(\n",
      "\n"
     ]
    },
    {
     "name": "stdout",
     "output_type": "stream",
     "text": [
      " 73%|███████▎  | 109/150 [10:20<03:51,  5.65s/it, best loss: 0.48587555005526456]"
     ]
    },
    {
     "name": "stderr",
     "output_type": "stream",
     "text": [
      "/home/rafalb/miniconda3/envs/rorgammaqsar2/lib/python3.8/site-packages/xgboost/sklearn.py:793: UserWarning: `eval_metric` in `fit` method is deprecated for better compatibility with scikit-learn, use `eval_metric` in constructor or`set_params` instead.\n",
      "  warnings.warn(\n",
      "\n"
     ]
    },
    {
     "name": "stdout",
     "output_type": "stream",
     "text": [
      " 73%|███████▎  | 110/150 [10:26<03:50,  5.75s/it, best loss: 0.48587555005526456]"
     ]
    },
    {
     "name": "stderr",
     "output_type": "stream",
     "text": [
      "/home/rafalb/miniconda3/envs/rorgammaqsar2/lib/python3.8/site-packages/xgboost/sklearn.py:793: UserWarning: `eval_metric` in `fit` method is deprecated for better compatibility with scikit-learn, use `eval_metric` in constructor or`set_params` instead.\n",
      "  warnings.warn(\n",
      "\n"
     ]
    },
    {
     "name": "stdout",
     "output_type": "stream",
     "text": [
      " 74%|███████▍  | 111/150 [10:35<04:20,  6.67s/it, best loss: 0.48587555005526456]"
     ]
    },
    {
     "name": "stderr",
     "output_type": "stream",
     "text": [
      "/home/rafalb/miniconda3/envs/rorgammaqsar2/lib/python3.8/site-packages/xgboost/sklearn.py:793: UserWarning: `eval_metric` in `fit` method is deprecated for better compatibility with scikit-learn, use `eval_metric` in constructor or`set_params` instead.\n",
      "  warnings.warn(\n",
      "\n"
     ]
    },
    {
     "name": "stdout",
     "output_type": "stream",
     "text": [
      " 75%|███████▍  | 112/150 [10:40<03:51,  6.10s/it, best loss: 0.48587555005526456]"
     ]
    },
    {
     "name": "stderr",
     "output_type": "stream",
     "text": [
      "/home/rafalb/miniconda3/envs/rorgammaqsar2/lib/python3.8/site-packages/xgboost/sklearn.py:793: UserWarning: `eval_metric` in `fit` method is deprecated for better compatibility with scikit-learn, use `eval_metric` in constructor or`set_params` instead.\n",
      "  warnings.warn(\n",
      "\n"
     ]
    },
    {
     "name": "stdout",
     "output_type": "stream",
     "text": [
      " 75%|███████▌  | 113/150 [10:44<03:25,  5.55s/it, best loss: 0.48587555005526456]"
     ]
    },
    {
     "name": "stderr",
     "output_type": "stream",
     "text": [
      "/home/rafalb/miniconda3/envs/rorgammaqsar2/lib/python3.8/site-packages/xgboost/sklearn.py:793: UserWarning: `eval_metric` in `fit` method is deprecated for better compatibility with scikit-learn, use `eval_metric` in constructor or`set_params` instead.\n",
      "  warnings.warn(\n",
      "\n"
     ]
    },
    {
     "name": "stdout",
     "output_type": "stream",
     "text": [
      " 76%|███████▌  | 114/150 [10:51<03:40,  6.13s/it, best loss: 0.48587555005526456]"
     ]
    },
    {
     "name": "stderr",
     "output_type": "stream",
     "text": [
      "/home/rafalb/miniconda3/envs/rorgammaqsar2/lib/python3.8/site-packages/xgboost/sklearn.py:793: UserWarning: `eval_metric` in `fit` method is deprecated for better compatibility with scikit-learn, use `eval_metric` in constructor or`set_params` instead.\n",
      "  warnings.warn(\n",
      "\n"
     ]
    },
    {
     "name": "stdout",
     "output_type": "stream",
     "text": [
      " 77%|███████▋  | 115/150 [10:56<03:21,  5.75s/it, best loss: 0.48587555005526456]"
     ]
    },
    {
     "name": "stderr",
     "output_type": "stream",
     "text": [
      "/home/rafalb/miniconda3/envs/rorgammaqsar2/lib/python3.8/site-packages/xgboost/sklearn.py:793: UserWarning: `eval_metric` in `fit` method is deprecated for better compatibility with scikit-learn, use `eval_metric` in constructor or`set_params` instead.\n",
      "  warnings.warn(\n",
      "\n"
     ]
    },
    {
     "name": "stdout",
     "output_type": "stream",
     "text": [
      " 77%|███████▋  | 116/150 [11:04<03:33,  6.27s/it, best loss: 0.48587555005526456]"
     ]
    },
    {
     "name": "stderr",
     "output_type": "stream",
     "text": [
      "/home/rafalb/miniconda3/envs/rorgammaqsar2/lib/python3.8/site-packages/xgboost/sklearn.py:793: UserWarning: `eval_metric` in `fit` method is deprecated for better compatibility with scikit-learn, use `eval_metric` in constructor or`set_params` instead.\n",
      "  warnings.warn(\n",
      "\n"
     ]
    },
    {
     "name": "stdout",
     "output_type": "stream",
     "text": [
      " 78%|███████▊  | 117/150 [11:11<03:32,  6.45s/it, best loss: 0.48587555005526456]"
     ]
    },
    {
     "name": "stderr",
     "output_type": "stream",
     "text": [
      "/home/rafalb/miniconda3/envs/rorgammaqsar2/lib/python3.8/site-packages/xgboost/sklearn.py:793: UserWarning: `eval_metric` in `fit` method is deprecated for better compatibility with scikit-learn, use `eval_metric` in constructor or`set_params` instead.\n",
      "  warnings.warn(\n",
      "\n"
     ]
    },
    {
     "name": "stdout",
     "output_type": "stream",
     "text": [
      " 79%|███████▊  | 118/150 [11:16<03:18,  6.21s/it, best loss: 0.48587555005526456]"
     ]
    },
    {
     "name": "stderr",
     "output_type": "stream",
     "text": [
      "/home/rafalb/miniconda3/envs/rorgammaqsar2/lib/python3.8/site-packages/xgboost/sklearn.py:793: UserWarning: `eval_metric` in `fit` method is deprecated for better compatibility with scikit-learn, use `eval_metric` in constructor or`set_params` instead.\n",
      "  warnings.warn(\n",
      "\n"
     ]
    },
    {
     "name": "stdout",
     "output_type": "stream",
     "text": [
      " 79%|███████▉  | 119/150 [11:24<03:27,  6.69s/it, best loss: 0.48587555005526456]"
     ]
    },
    {
     "name": "stderr",
     "output_type": "stream",
     "text": [
      "/home/rafalb/miniconda3/envs/rorgammaqsar2/lib/python3.8/site-packages/xgboost/sklearn.py:793: UserWarning: `eval_metric` in `fit` method is deprecated for better compatibility with scikit-learn, use `eval_metric` in constructor or`set_params` instead.\n",
      "  warnings.warn(\n",
      "\n"
     ]
    },
    {
     "name": "stdout",
     "output_type": "stream",
     "text": [
      " 80%|████████  | 120/150 [11:27<02:43,  5.46s/it, best loss: 0.48587555005526456]"
     ]
    },
    {
     "name": "stderr",
     "output_type": "stream",
     "text": [
      "/home/rafalb/miniconda3/envs/rorgammaqsar2/lib/python3.8/site-packages/xgboost/sklearn.py:793: UserWarning: `eval_metric` in `fit` method is deprecated for better compatibility with scikit-learn, use `eval_metric` in constructor or`set_params` instead.\n",
      "  warnings.warn(\n",
      "\n"
     ]
    },
    {
     "name": "stdout",
     "output_type": "stream",
     "text": [
      " 81%|████████  | 121/150 [11:30<02:19,  4.80s/it, best loss: 0.48587555005526456]"
     ]
    },
    {
     "name": "stderr",
     "output_type": "stream",
     "text": [
      "/home/rafalb/miniconda3/envs/rorgammaqsar2/lib/python3.8/site-packages/xgboost/sklearn.py:793: UserWarning: `eval_metric` in `fit` method is deprecated for better compatibility with scikit-learn, use `eval_metric` in constructor or`set_params` instead.\n",
      "  warnings.warn(\n",
      "\n"
     ]
    },
    {
     "name": "stdout",
     "output_type": "stream",
     "text": [
      " 81%|████████▏ | 122/150 [11:35<02:16,  4.86s/it, best loss: 0.48587555005526456]"
     ]
    },
    {
     "name": "stderr",
     "output_type": "stream",
     "text": [
      "/home/rafalb/miniconda3/envs/rorgammaqsar2/lib/python3.8/site-packages/xgboost/sklearn.py:793: UserWarning: `eval_metric` in `fit` method is deprecated for better compatibility with scikit-learn, use `eval_metric` in constructor or`set_params` instead.\n",
      "  warnings.warn(\n",
      "\n"
     ]
    },
    {
     "name": "stdout",
     "output_type": "stream",
     "text": [
      " 82%|████████▏ | 123/150 [11:41<02:19,  5.18s/it, best loss: 0.48587555005526456]"
     ]
    },
    {
     "name": "stderr",
     "output_type": "stream",
     "text": [
      "/home/rafalb/miniconda3/envs/rorgammaqsar2/lib/python3.8/site-packages/xgboost/sklearn.py:793: UserWarning: `eval_metric` in `fit` method is deprecated for better compatibility with scikit-learn, use `eval_metric` in constructor or`set_params` instead.\n",
      "  warnings.warn(\n",
      "\n"
     ]
    },
    {
     "name": "stdout",
     "output_type": "stream",
     "text": [
      " 83%|████████▎ | 124/150 [11:47<02:20,  5.42s/it, best loss: 0.48587555005526456]"
     ]
    },
    {
     "name": "stderr",
     "output_type": "stream",
     "text": [
      "/home/rafalb/miniconda3/envs/rorgammaqsar2/lib/python3.8/site-packages/xgboost/sklearn.py:793: UserWarning: `eval_metric` in `fit` method is deprecated for better compatibility with scikit-learn, use `eval_metric` in constructor or`set_params` instead.\n",
      "  warnings.warn(\n",
      "\n"
     ]
    },
    {
     "name": "stdout",
     "output_type": "stream",
     "text": [
      " 83%|████████▎ | 125/150 [11:54<02:25,  5.81s/it, best loss: 0.48587555005526456]"
     ]
    },
    {
     "name": "stderr",
     "output_type": "stream",
     "text": [
      "/home/rafalb/miniconda3/envs/rorgammaqsar2/lib/python3.8/site-packages/xgboost/sklearn.py:793: UserWarning: `eval_metric` in `fit` method is deprecated for better compatibility with scikit-learn, use `eval_metric` in constructor or`set_params` instead.\n",
      "  warnings.warn(\n",
      "\n"
     ]
    },
    {
     "name": "stdout",
     "output_type": "stream",
     "text": [
      " 84%|████████▍ | 126/150 [12:02<02:41,  6.72s/it, best loss: 0.48587555005526456]"
     ]
    },
    {
     "name": "stderr",
     "output_type": "stream",
     "text": [
      "/home/rafalb/miniconda3/envs/rorgammaqsar2/lib/python3.8/site-packages/xgboost/sklearn.py:793: UserWarning: `eval_metric` in `fit` method is deprecated for better compatibility with scikit-learn, use `eval_metric` in constructor or`set_params` instead.\n",
      "  warnings.warn(\n",
      "\n"
     ]
    },
    {
     "name": "stdout",
     "output_type": "stream",
     "text": [
      " 85%|████████▍ | 127/150 [12:12<02:51,  7.48s/it, best loss: 0.48587555005526456]"
     ]
    },
    {
     "name": "stderr",
     "output_type": "stream",
     "text": [
      "/home/rafalb/miniconda3/envs/rorgammaqsar2/lib/python3.8/site-packages/xgboost/sklearn.py:793: UserWarning: `eval_metric` in `fit` method is deprecated for better compatibility with scikit-learn, use `eval_metric` in constructor or`set_params` instead.\n",
      "  warnings.warn(\n",
      "\n"
     ]
    },
    {
     "name": "stdout",
     "output_type": "stream",
     "text": [
      " 85%|████████▌ | 128/150 [12:17<02:27,  6.71s/it, best loss: 0.48587555005526456]"
     ]
    },
    {
     "name": "stderr",
     "output_type": "stream",
     "text": [
      "/home/rafalb/miniconda3/envs/rorgammaqsar2/lib/python3.8/site-packages/xgboost/sklearn.py:793: UserWarning: `eval_metric` in `fit` method is deprecated for better compatibility with scikit-learn, use `eval_metric` in constructor or`set_params` instead.\n",
      "  warnings.warn(\n",
      "\n"
     ]
    },
    {
     "name": "stdout",
     "output_type": "stream",
     "text": [
      " 86%|████████▌ | 129/150 [12:22<02:15,  6.45s/it, best loss: 0.48587555005526456]"
     ]
    },
    {
     "name": "stderr",
     "output_type": "stream",
     "text": [
      "/home/rafalb/miniconda3/envs/rorgammaqsar2/lib/python3.8/site-packages/xgboost/sklearn.py:793: UserWarning: `eval_metric` in `fit` method is deprecated for better compatibility with scikit-learn, use `eval_metric` in constructor or`set_params` instead.\n",
      "  warnings.warn(\n",
      "\n"
     ]
    },
    {
     "name": "stdout",
     "output_type": "stream",
     "text": [
      " 87%|████████▋ | 130/150 [12:27<01:58,  5.93s/it, best loss: 0.48587555005526456]"
     ]
    },
    {
     "name": "stderr",
     "output_type": "stream",
     "text": [
      "/home/rafalb/miniconda3/envs/rorgammaqsar2/lib/python3.8/site-packages/xgboost/sklearn.py:793: UserWarning: `eval_metric` in `fit` method is deprecated for better compatibility with scikit-learn, use `eval_metric` in constructor or`set_params` instead.\n",
      "  warnings.warn(\n",
      "\n"
     ]
    },
    {
     "name": "stdout",
     "output_type": "stream",
     "text": [
      " 87%|████████▋ | 131/150 [12:29<01:30,  4.78s/it, best loss: 0.48587555005526456]"
     ]
    },
    {
     "name": "stderr",
     "output_type": "stream",
     "text": [
      "/home/rafalb/miniconda3/envs/rorgammaqsar2/lib/python3.8/site-packages/xgboost/sklearn.py:793: UserWarning: `eval_metric` in `fit` method is deprecated for better compatibility with scikit-learn, use `eval_metric` in constructor or`set_params` instead.\n",
      "  warnings.warn(\n",
      "\n"
     ]
    },
    {
     "name": "stdout",
     "output_type": "stream",
     "text": [
      " 88%|████████▊ | 132/150 [12:34<01:28,  4.90s/it, best loss: 0.48587555005526456]"
     ]
    },
    {
     "name": "stderr",
     "output_type": "stream",
     "text": [
      "/home/rafalb/miniconda3/envs/rorgammaqsar2/lib/python3.8/site-packages/xgboost/sklearn.py:793: UserWarning: `eval_metric` in `fit` method is deprecated for better compatibility with scikit-learn, use `eval_metric` in constructor or`set_params` instead.\n",
      "  warnings.warn(\n",
      "\n"
     ]
    },
    {
     "name": "stdout",
     "output_type": "stream",
     "text": [
      " 89%|████████▊ | 133/150 [12:37<01:12,  4.29s/it, best loss: 0.48587555005526456]"
     ]
    },
    {
     "name": "stderr",
     "output_type": "stream",
     "text": [
      "/home/rafalb/miniconda3/envs/rorgammaqsar2/lib/python3.8/site-packages/xgboost/sklearn.py:793: UserWarning: `eval_metric` in `fit` method is deprecated for better compatibility with scikit-learn, use `eval_metric` in constructor or`set_params` instead.\n",
      "  warnings.warn(\n",
      "\n"
     ]
    },
    {
     "name": "stdout",
     "output_type": "stream",
     "text": [
      " 89%|████████▉ | 134/150 [12:45<01:26,  5.39s/it, best loss: 0.48587555005526456]"
     ]
    },
    {
     "name": "stderr",
     "output_type": "stream",
     "text": [
      "/home/rafalb/miniconda3/envs/rorgammaqsar2/lib/python3.8/site-packages/xgboost/sklearn.py:793: UserWarning: `eval_metric` in `fit` method is deprecated for better compatibility with scikit-learn, use `eval_metric` in constructor or`set_params` instead.\n",
      "  warnings.warn(\n",
      "\n"
     ]
    },
    {
     "name": "stdout",
     "output_type": "stream",
     "text": [
      " 90%|█████████ | 135/150 [12:55<01:39,  6.66s/it, best loss: 0.48587555005526456]"
     ]
    },
    {
     "name": "stderr",
     "output_type": "stream",
     "text": [
      "/home/rafalb/miniconda3/envs/rorgammaqsar2/lib/python3.8/site-packages/xgboost/sklearn.py:793: UserWarning: `eval_metric` in `fit` method is deprecated for better compatibility with scikit-learn, use `eval_metric` in constructor or`set_params` instead.\n",
      "  warnings.warn(\n",
      "\n"
     ]
    },
    {
     "name": "stdout",
     "output_type": "stream",
     "text": [
      " 91%|█████████ | 136/150 [13:02<01:33,  6.71s/it, best loss: 0.48587555005526456]"
     ]
    },
    {
     "name": "stderr",
     "output_type": "stream",
     "text": [
      "/home/rafalb/miniconda3/envs/rorgammaqsar2/lib/python3.8/site-packages/xgboost/sklearn.py:793: UserWarning: `eval_metric` in `fit` method is deprecated for better compatibility with scikit-learn, use `eval_metric` in constructor or`set_params` instead.\n",
      "  warnings.warn(\n",
      "\n"
     ]
    },
    {
     "name": "stdout",
     "output_type": "stream",
     "text": [
      " 91%|█████████▏| 137/150 [13:08<01:26,  6.69s/it, best loss: 0.48587555005526456]"
     ]
    },
    {
     "name": "stderr",
     "output_type": "stream",
     "text": [
      "/home/rafalb/miniconda3/envs/rorgammaqsar2/lib/python3.8/site-packages/xgboost/sklearn.py:793: UserWarning: `eval_metric` in `fit` method is deprecated for better compatibility with scikit-learn, use `eval_metric` in constructor or`set_params` instead.\n",
      "  warnings.warn(\n",
      "\n"
     ]
    },
    {
     "name": "stdout",
     "output_type": "stream",
     "text": [
      " 92%|█████████▏| 138/150 [13:16<01:24,  7.04s/it, best loss: 0.48587555005526456]"
     ]
    },
    {
     "name": "stderr",
     "output_type": "stream",
     "text": [
      "/home/rafalb/miniconda3/envs/rorgammaqsar2/lib/python3.8/site-packages/xgboost/sklearn.py:793: UserWarning: `eval_metric` in `fit` method is deprecated for better compatibility with scikit-learn, use `eval_metric` in constructor or`set_params` instead.\n",
      "  warnings.warn(\n",
      "\n"
     ]
    },
    {
     "name": "stdout",
     "output_type": "stream",
     "text": [
      " 93%|█████████▎| 139/150 [13:21<01:10,  6.42s/it, best loss: 0.48587555005526456]"
     ]
    },
    {
     "name": "stderr",
     "output_type": "stream",
     "text": [
      "/home/rafalb/miniconda3/envs/rorgammaqsar2/lib/python3.8/site-packages/xgboost/sklearn.py:793: UserWarning: `eval_metric` in `fit` method is deprecated for better compatibility with scikit-learn, use `eval_metric` in constructor or`set_params` instead.\n",
      "  warnings.warn(\n",
      "\n"
     ]
    },
    {
     "name": "stdout",
     "output_type": "stream",
     "text": [
      " 93%|█████████▎| 140/150 [13:29<01:08,  6.84s/it, best loss: 0.48587555005526456]"
     ]
    },
    {
     "name": "stderr",
     "output_type": "stream",
     "text": [
      "/home/rafalb/miniconda3/envs/rorgammaqsar2/lib/python3.8/site-packages/xgboost/sklearn.py:793: UserWarning: `eval_metric` in `fit` method is deprecated for better compatibility with scikit-learn, use `eval_metric` in constructor or`set_params` instead.\n",
      "  warnings.warn(\n",
      "\n"
     ]
    },
    {
     "name": "stdout",
     "output_type": "stream",
     "text": [
      " 94%|█████████▍| 141/150 [13:36<01:00,  6.76s/it, best loss: 0.48587555005526456]"
     ]
    },
    {
     "name": "stderr",
     "output_type": "stream",
     "text": [
      "/home/rafalb/miniconda3/envs/rorgammaqsar2/lib/python3.8/site-packages/xgboost/sklearn.py:793: UserWarning: `eval_metric` in `fit` method is deprecated for better compatibility with scikit-learn, use `eval_metric` in constructor or`set_params` instead.\n",
      "  warnings.warn(\n",
      "\n"
     ]
    },
    {
     "name": "stdout",
     "output_type": "stream",
     "text": [
      " 95%|█████████▍| 142/150 [13:45<01:00,  7.60s/it, best loss: 0.48587555005526456]"
     ]
    },
    {
     "name": "stderr",
     "output_type": "stream",
     "text": [
      "/home/rafalb/miniconda3/envs/rorgammaqsar2/lib/python3.8/site-packages/xgboost/sklearn.py:793: UserWarning: `eval_metric` in `fit` method is deprecated for better compatibility with scikit-learn, use `eval_metric` in constructor or`set_params` instead.\n",
      "  warnings.warn(\n",
      "\n"
     ]
    },
    {
     "name": "stdout",
     "output_type": "stream",
     "text": [
      " 95%|█████████▌| 143/150 [13:56<01:00,  8.59s/it, best loss: 0.48587555005526456]"
     ]
    },
    {
     "name": "stderr",
     "output_type": "stream",
     "text": [
      "/home/rafalb/miniconda3/envs/rorgammaqsar2/lib/python3.8/site-packages/xgboost/sklearn.py:793: UserWarning: `eval_metric` in `fit` method is deprecated for better compatibility with scikit-learn, use `eval_metric` in constructor or`set_params` instead.\n",
      "  warnings.warn(\n",
      "\n"
     ]
    },
    {
     "name": "stdout",
     "output_type": "stream",
     "text": [
      " 96%|█████████▌| 144/150 [14:01<00:45,  7.57s/it, best loss: 0.48587555005526456]"
     ]
    },
    {
     "name": "stderr",
     "output_type": "stream",
     "text": [
      "/home/rafalb/miniconda3/envs/rorgammaqsar2/lib/python3.8/site-packages/xgboost/sklearn.py:793: UserWarning: `eval_metric` in `fit` method is deprecated for better compatibility with scikit-learn, use `eval_metric` in constructor or`set_params` instead.\n",
      "  warnings.warn(\n",
      "\n"
     ]
    },
    {
     "name": "stdout",
     "output_type": "stream",
     "text": [
      " 97%|█████████▋| 145/150 [14:08<00:35,  7.18s/it, best loss: 0.48587555005526456]"
     ]
    },
    {
     "name": "stderr",
     "output_type": "stream",
     "text": [
      "/home/rafalb/miniconda3/envs/rorgammaqsar2/lib/python3.8/site-packages/xgboost/sklearn.py:793: UserWarning: `eval_metric` in `fit` method is deprecated for better compatibility with scikit-learn, use `eval_metric` in constructor or`set_params` instead.\n",
      "  warnings.warn(\n",
      "\n"
     ]
    },
    {
     "name": "stdout",
     "output_type": "stream",
     "text": [
      " 97%|█████████▋| 146/150 [14:14<00:28,  7.06s/it, best loss: 0.48587555005526456]"
     ]
    },
    {
     "name": "stderr",
     "output_type": "stream",
     "text": [
      "/home/rafalb/miniconda3/envs/rorgammaqsar2/lib/python3.8/site-packages/xgboost/sklearn.py:793: UserWarning: `eval_metric` in `fit` method is deprecated for better compatibility with scikit-learn, use `eval_metric` in constructor or`set_params` instead.\n",
      "  warnings.warn(\n",
      "\n"
     ]
    },
    {
     "name": "stdout",
     "output_type": "stream",
     "text": [
      " 98%|█████████▊| 147/150 [14:22<00:21,  7.13s/it, best loss: 0.48587555005526456]"
     ]
    },
    {
     "name": "stderr",
     "output_type": "stream",
     "text": [
      "/home/rafalb/miniconda3/envs/rorgammaqsar2/lib/python3.8/site-packages/xgboost/sklearn.py:793: UserWarning: `eval_metric` in `fit` method is deprecated for better compatibility with scikit-learn, use `eval_metric` in constructor or`set_params` instead.\n",
      "  warnings.warn(\n",
      "\n"
     ]
    },
    {
     "name": "stdout",
     "output_type": "stream",
     "text": [
      " 99%|█████████▊| 148/150 [14:28<00:13,  6.90s/it, best loss: 0.48587555005526456]"
     ]
    },
    {
     "name": "stderr",
     "output_type": "stream",
     "text": [
      "/home/rafalb/miniconda3/envs/rorgammaqsar2/lib/python3.8/site-packages/xgboost/sklearn.py:793: UserWarning: `eval_metric` in `fit` method is deprecated for better compatibility with scikit-learn, use `eval_metric` in constructor or`set_params` instead.\n",
      "  warnings.warn(\n",
      "\n"
     ]
    },
    {
     "name": "stdout",
     "output_type": "stream",
     "text": [
      " 99%|█████████▉| 149/150 [14:36<00:07,  7.17s/it, best loss: 0.48587555005526456]"
     ]
    },
    {
     "name": "stderr",
     "output_type": "stream",
     "text": [
      "/home/rafalb/miniconda3/envs/rorgammaqsar2/lib/python3.8/site-packages/xgboost/sklearn.py:793: UserWarning: `eval_metric` in `fit` method is deprecated for better compatibility with scikit-learn, use `eval_metric` in constructor or`set_params` instead.\n",
      "  warnings.warn(\n",
      "\n"
     ]
    },
    {
     "name": "stdout",
     "output_type": "stream",
     "text": [
      "100%|██████████| 150/150 [14:41<00:00,  5.87s/it, best loss: 0.48587555005526456]\n"
     ]
    },
    {
     "name": "stderr",
     "output_type": "stream",
     "text": [
      "/home/rafalb/miniconda3/envs/rorgammaqsar2/lib/python3.8/site-packages/xgboost/sklearn.py:793: UserWarning: `eval_metric` in `fit` method is deprecated for better compatibility with scikit-learn, use `eval_metric` in constructor or`set_params` instead.\n",
      "  warnings.warn(\n",
      "2022-06-09 08:36:17,193 - logger - INFO - Regressor quality after hyperparameter optimization: 0.48587555005526456\n",
      "2022-06-09 08:36:17,193 - logger - INFO - Regressor quality after hyperparameter optimization: 0.48587555005526456\n"
     ]
    }
   ],
   "source": [
    "smiles_codes = train_data[\"canonical_smiles_get_levels\"].copy()\n",
    "target = train_data[\"IC50_nM\"].copy()\n",
    "\n",
    "non_idx = dt.validate_smiles(smiles_codes=smiles_codes)\n",
    "smiles_codes = smiles_codes.drop(non_idx, axis=0)\n",
    "target = target.drop(non_idx, axis=0)\n",
    "\n",
    "pipeline_file = PIPELINE_FILE\n",
    "pipeline_configuration = dt.read_in_pipeline(pipeline_file=pipeline_file, pipeline_directory=co.PIPELINE_DIR)\n",
    "pipeline = dt.create_pipeline(pipeline_configuration=pipeline_configuration[\"feature_transform\"])\n",
    "\n",
    "y_train = dt.process_taget(pipeline_configuration=pipeline_configuration[\"target_transform\"], y=target)\n",
    "smiles_codes = smiles_codes.loc[y_train.index]\n",
    "\n",
    "smiles_codes_train, smiles_codes_train_val, y_train, y_train_val = train_test_split(smiles_codes, y_train, test_size=0.1, random_state=co.RANDOM_STATE)\n",
    "\n",
    "m_r = mw.M_XGBoost(prediction_type=mw.Prediction_Type.REGRESSION, pipeline_configuration=pipeline_configuration)\n",
    "data = {\"smiles_codes_train\": smiles_codes_train, \"targets_train\": y_train, \n",
    "        \"smiles_codes_val\": smiles_codes_train_val, \"targets_val\": y_train_val}\n",
    "m_r.Data = data\n",
    "m_r.Create_Features()\n",
    "\n",
    "aux_data = {\"run_name\": \"test\",\n",
    "        \"n_outer\": 1, \"n_cv\": 4, \"development\": False,\n",
    "        \"goal_function\": \"mse\", \"goal_function_multiplier\": 1.0, \"threshold\": None,\n",
    "        \"track_model\": False, \"experiment\": None, \"comment\": None, \"max_evals\": None}\n",
    "\n",
    "fmin_objective = partial(m_r.F_Opt, aux_data=aux_data)\n",
    "trials = Trials()\n",
    "rstate = np.random.RandomState(co.RANDOM_STATE+1)\n",
    "max_evals = 150\n",
    "best_hyperparams = fmin(fn=fmin_objective, space=m_r.Space, algo=tpe.suggest, max_evals=max_evals, \n",
    "                        trials=trials, return_argmin=True, rstate=rstate, show_progressbar=True)\n",
    "\n",
    "measure = m_r.Get_Measure(smiles_codes, y_train, hyperparameters=best_hyperparams, n_outer=aux_data[\"n_outer\"], n_cv=aux_data[\"n_cv\"],\n",
    "                          threshold=None, goal=aux_data[\"goal_function\"]) \n",
    "   \n",
    "l.info(\"Regressor quality after hyperparameter optimization: \"+str(measure))"
   ]
  },
  {
   "cell_type": "code",
   "execution_count": 22,
   "id": "48512022",
   "metadata": {},
   "outputs": [
    {
     "name": "stderr",
     "output_type": "stream",
     "text": [
      "2022-06-09 08:36:18,973 - logger - INFO - CreateFPS fit...\n",
      "2022-06-09 08:36:18,973 - logger - INFO - CreateFPS fit...\n",
      "2022-06-09 08:36:18,975 - logger - INFO - CreateFPS transform...\n",
      "2022-06-09 08:36:18,975 - logger - INFO - CreateFPS transform...\n",
      "100%|██████████| 1835/1835 [00:02<00:00, 847.94it/s]\n",
      "/home/rafalb/miniconda3/envs/rorgammaqsar2/lib/python3.8/site-packages/xgboost/sklearn.py:793: UserWarning: `eval_metric` in `fit` method is deprecated for better compatibility with scikit-learn, use `eval_metric` in constructor or`set_params` instead.\n",
      "  warnings.warn(\n",
      "2022-06-09 08:36:26,599 - logger - INFO - CreateFPS transform...\n",
      "2022-06-09 08:36:26,599 - logger - INFO - CreateFPS transform...\n",
      "100%|██████████| 204/204 [00:00<00:00, 750.89it/s]\n"
     ]
    },
    {
     "data": {
      "text/plain": [
       "<AxesSubplot:title={'center':'Actual vs. Predicted plot'}, xlabel='Predicted', ylabel='Actual'>"
      ]
     },
     "execution_count": 22,
     "metadata": {},
     "output_type": "execute_result"
    },
    {
     "data": {
      "image/png": "[encoded data removed]",
      "text/plain": [
       "<Figure size 720x576 with 1 Axes>"
      ]
     },
     "metadata": {},
     "output_type": "display_data"
    }
   ],
   "source": [
    "pipeline.fit(X=smiles_codes_train, y=None)\n",
    "X_train = dt.create_molecular_features(pipeline=pipeline, smiles_codes=smiles_codes_train)\n",
    "X_train = dt.process_molecular_features(pipeline=pipeline, X=X_train)\n",
    "\n",
    "m_r.Train(X_train, y_train, hyperparameters=best_hyperparams)\n",
    "\n",
    "X_train_val = dt.create_molecular_features(pipeline=pipeline, smiles_codes=smiles_codes_train_val)\n",
    "X_train_val = dt.process_molecular_features(pipeline=pipeline, X=X_train_val)\n",
    "y_train_val_pred = m_r.Predict(X_train_val)\n",
    "plotScatterWithIdeal(y_train_val.values, y_train_val_pred.values, \"Actual vs. Predicted plot\")"
   ]
  },
  {
   "cell_type": "code",
   "execution_count": 24,
   "id": "4fe26d71",
   "metadata": {},
   "outputs": [
    {
     "name": "stderr",
     "output_type": "stream",
     "text": [
      "2022-06-09 08:38:01,705 - logger - INFO - R2 coefficient: 0.6751555005941816\n",
      "2022-06-09 08:38:01,705 - logger - INFO - R2 coefficient: 0.6751555005941816\n"
     ]
    }
   ],
   "source": [
    "l.info(\"R2 coefficient: \"+str(r2_score(y_train_val, y_train_val_pred)))"
   ]
  },
  {
   "cell_type": "code",
   "execution_count": 25,
   "id": "6133adf1",
   "metadata": {},
   "outputs": [
    {
     "data": {
      "text/plain": [
       "{'fp_798': 53.11470031738281,\n",
       " 'fp_521': 9.65142822265625,\n",
       " 'fp_1004': 9.307426452636719,\n",
       " 'fp_973': 8.858156204223633,\n",
       " 'fp_314': 6.970853805541992,\n",
       " 'fp_725': 6.534375190734863,\n",
       " 'fp_404': 5.675065517425537,\n",
       " 'Lipinski': 5.660096168518066,\n",
       " 'fp_349': 5.46228551864624,\n",
       " 'fp_38': 5.200401782989502,\n",
       " 'MW': 5.042518138885498,\n",
       " 'fp_151': 4.9995832443237305,\n",
       " 'fp_927': 4.700810432434082,\n",
       " 'fp_836': 4.348144054412842,\n",
       " 'fp_152': 4.250135898590088,\n",
       " 'fp_887': 4.184691905975342,\n",
       " 'fp_681': 3.8671391010284424,\n",
       " 'fp_531': 3.787841796875,\n",
       " 'fp_303': 3.727410078048706,\n",
       " 'fp_664': 3.341935634613037,\n",
       " 'fp_179': 3.3111979961395264,\n",
       " 'fp_484': 3.1991758346557617,\n",
       " 'fp_401': 3.152003526687622,\n",
       " 'apol': 3.0789403915405273,\n",
       " 'fp_233': 3.0135555267333984,\n",
       " 'fp_824': 2.927577495574951,\n",
       " 'fp_828': 2.866658926010132,\n",
       " 'fp_408': 2.8528575897216797,\n",
       " 'fp_804': 2.784808397293091,\n",
       " 'fp_766': 2.7091290950775146,\n",
       " 'fp_299': 2.694688558578491,\n",
       " 'fp_441': 2.5183651447296143,\n",
       " 'fp_737': 2.4914581775665283,\n",
       " 'fp_283': 2.4735541343688965,\n",
       " 'fp_452': 2.422008991241455,\n",
       " 'fp_146': 2.3748257160186768,\n",
       " 'fp_209': 2.286123037338257,\n",
       " 'fp_661': 2.1823508739471436,\n",
       " 'fp_606': 2.176548957824707,\n",
       " 'fp_597': 2.0779802799224854,\n",
       " 'fp_416': 2.057797431945801,\n",
       " 'fp_424': 2.0461456775665283,\n",
       " 'fp_350': 2.0420827865600586,\n",
       " 'fp_821': 1.9417295455932617,\n",
       " 'fp_519': 1.923643708229065,\n",
       " 'fp_820': 1.9059183597564697,\n",
       " 'fp_561': 1.8968273401260376,\n",
       " 'fp_85': 1.8822994232177734,\n",
       " 'fp_474': 1.862396240234375,\n",
       " 'fp_672': 1.8454476594924927,\n",
       " 'fp_747': 1.8183997869491577,\n",
       " 'fp_423': 1.7998030185699463,\n",
       " 'fp_345': 1.795404314994812,\n",
       " 'fp_673': 1.7873996496200562,\n",
       " 'fp_485': 1.769002914428711,\n",
       " 'fp_5': 1.7635126113891602,\n",
       " 'fp_498': 1.7493871450424194,\n",
       " 'fp_248': 1.7458807229995728,\n",
       " 'fp_851': 1.7330454587936401,\n",
       " 'fp_318': 1.726466417312622,\n",
       " 'fp_738': 1.6964483261108398,\n",
       " 'fp_564': 1.6657919883728027,\n",
       " 'fp_823': 1.6450430154800415,\n",
       " 'fp_348': 1.6141561269760132,\n",
       " 'fp_732': 1.6137077808380127,\n",
       " 'fp_999': 1.6032623052597046,\n",
       " 'fp_162': 1.600986123085022,\n",
       " 'fp_185': 1.5925774574279785,\n",
       " 'fp_578': 1.5816190242767334,\n",
       " 'fp_885': 1.51984441280365,\n",
       " 'fp_160': 1.5183864831924438,\n",
       " 'fp_535': 1.5024367570877075,\n",
       " 'fp_131': 1.4741287231445312,\n",
       " 'fp_288': 1.4722250699996948,\n",
       " 'fp_856': 1.4690074920654297,\n",
       " 'fp_486': 1.458004117012024,\n",
       " 'fp_10': 1.4461536407470703,\n",
       " 'fp_23': 1.4287761449813843,\n",
       " 'fp_699': 1.4193018674850464,\n",
       " 'fp_749': 1.4180324077606201,\n",
       " 'fp_116': 1.4168521165847778,\n",
       " 'fp_1019': 1.414282202720642,\n",
       " 'fp_641': 1.3949592113494873,\n",
       " 'fp_257': 1.389908790588379,\n",
       " 'fp_11': 1.38334059715271,\n",
       " 'fp_79': 1.3783466815948486,\n",
       " 'fp_125': 1.3781659603118896,\n",
       " 'fp_464': 1.3625630140304565,\n",
       " 'fp_9': 1.348309874534607,\n",
       " 'fp_166': 1.3449496030807495,\n",
       " 'fp_93': 1.334863305091858,\n",
       " 'fp_904': 1.3045881986618042,\n",
       " 'fp_219': 1.2805112600326538,\n",
       " 'GhoseFilter': 1.2730611562728882,\n",
       " 'fp_148': 1.2683168649673462,\n",
       " 'fp_213': 1.2664225101470947,\n",
       " 'fp_667': 1.2433041334152222,\n",
       " 'fp_393': 1.241959810256958,\n",
       " 'fp_217': 1.2364627122879028,\n",
       " 'fp_660': 1.2257697582244873,\n",
       " 'fp_220': 1.221537470817566,\n",
       " 'fp_891': 1.2194430828094482,\n",
       " 'fp_969': 1.2117598056793213,\n",
       " 'SLogP': 1.206423282623291,\n",
       " 'fp_674': 1.2044748067855835,\n",
       " 'fp_588': 1.199843406677246,\n",
       " 'fp_261': 1.1984684467315674,\n",
       " 'fp_497': 1.19196617603302,\n",
       " 'fp_491': 1.1834404468536377,\n",
       " 'fp_355': 1.180284023284912,\n",
       " 'fp_45': 1.1739953756332397,\n",
       " 'bpol': 1.1620155572891235,\n",
       " 'fp_62': 1.1543065309524536,\n",
       " 'fp_117': 1.1523680686950684,\n",
       " 'fp_784': 1.148560643196106,\n",
       " 'fp_98': 1.1407804489135742,\n",
       " 'fp_122': 1.1326279640197754,\n",
       " 'fp_197': 1.130871057510376,\n",
       " 'fp_145': 1.1272684335708618,\n",
       " 'fp_858': 1.1261433362960815,\n",
       " 'fp_124': 1.1254814863204956,\n",
       " 'fp_589': 1.1246721744537354,\n",
       " 'fp_877': 1.1154311895370483,\n",
       " 'fp_351': 1.1119232177734375,\n",
       " 'fp_847': 1.102267861366272,\n",
       " 'fp_897': 1.1008186340332031,\n",
       " 'fp_773': 1.094124436378479,\n",
       " 'fp_287': 1.087132215499878,\n",
       " 'fp_150': 1.0816242694854736,\n",
       " 'fp_319': 1.0716911554336548,\n",
       " 'fp_109': 1.0594414472579956,\n",
       " 'fp_133': 1.0239356756210327,\n",
       " 'fp_81': 1.0185245275497437,\n",
       " 'fp_1006': 1.011912226676941,\n",
       " 'fp_265': 0.9984451532363892,\n",
       " 'fp_1020': 0.9979338049888611,\n",
       " 'fp_114': 0.9924744963645935,\n",
       " 'fp_136': 0.9891184568405151,\n",
       " 'fp_625': 0.9878299832344055,\n",
       " 'fp_968': 0.9841758608818054,\n",
       " 'fp_622': 0.9801323413848877,\n",
       " 'fp_955': 0.9757240414619446,\n",
       " 'fp_65': 0.9679208993911743,\n",
       " 'fp_668': 0.9678733348846436,\n",
       " 'fp_384': 0.960951566696167,\n",
       " 'fp_902': 0.9590552449226379,\n",
       " 'fp_875': 0.9549779295921326,\n",
       " 'fp_617': 0.9467405676841736,\n",
       " 'SMR': 0.9435001015663147,\n",
       " 'fp_609': 0.9434795379638672,\n",
       " 'fp_735': 0.9427657723426819,\n",
       " 'fp_926': 0.9374487996101379,\n",
       " 'fp_414': 0.9359828233718872,\n",
       " 'fp_328': 0.9337406158447266,\n",
       " 'fp_456': 0.9299183487892151,\n",
       " 'fp_627': 0.9254834651947021,\n",
       " 'fp_515': 0.9198144674301147,\n",
       " 'fp_691': 0.9149444103240967,\n",
       " 'fp_591': 0.9130232930183411,\n",
       " 'fp_974': 0.8928182125091553,\n",
       " 'fp_779': 0.8913612365722656,\n",
       " 'fp_366': 0.8885213136672974,\n",
       " 'fp_915': 0.881602942943573,\n",
       " 'fp_980': 0.8788397312164307,\n",
       " 'fp_676': 0.8695517182350159,\n",
       " 'fp_978': 0.866737961769104,\n",
       " 'fp_206': 0.8638219833374023,\n",
       " 'fp_571': 0.8586750030517578,\n",
       " 'fp_896': 0.8564293384552002,\n",
       " 'fp_526': 0.8562027812004089,\n",
       " 'fp_320': 0.8559807538986206,\n",
       " 'fp_958': 0.8529312610626221,\n",
       " 'fp_285': 0.8518845438957214,\n",
       " 'fp_14': 0.8473330140113831,\n",
       " 'fp_1': 0.8390846848487854,\n",
       " 'fp_69': 0.8366864323616028,\n",
       " 'fp_739': 0.8363397121429443,\n",
       " 'fp_61': 0.8358335494995117,\n",
       " 'fp_785': 0.8290358781814575,\n",
       " 'fp_769': 0.8264386057853699,\n",
       " 'fp_826': 0.8215233087539673,\n",
       " 'fp_989': 0.8196482062339783,\n",
       " 'fp_754': 0.814416766166687,\n",
       " 'fp_829': 0.8105689883232117,\n",
       " 'fp_884': 0.8084290027618408,\n",
       " 'fp_656': 0.8052306771278381,\n",
       " 'fp_301': 0.804334819316864,\n",
       " 'fp_736': 0.8037799596786499,\n",
       " 'fp_47': 0.8025707006454468,\n",
       " 'fp_513': 0.8008738160133362,\n",
       " 'fp_767': 0.8001981973648071,\n",
       " 'fp_728': 0.7977662086486816,\n",
       " 'fp_97': 0.7957897782325745,\n",
       " 'fp_83': 0.7933059930801392,\n",
       " 'TopoPSA': 0.7883552312850952,\n",
       " 'fp_214': 0.7856242656707764,\n",
       " 'fp_28': 0.7854881286621094,\n",
       " 'fp_675': 0.7775002121925354,\n",
       " 'fp_890': 0.7755700349807739,\n",
       " 'fp_694': 0.7755183577537537,\n",
       " 'fp_469': 0.7709875106811523,\n",
       " 'nHBDon': 0.7675401568412781,\n",
       " 'fp_374': 0.7673659324645996,\n",
       " 'fp_757': 0.7662338018417358,\n",
       " 'fp_799': 0.7599722146987915,\n",
       " 'fp_678': 0.7588316798210144,\n",
       " 'fp_8': 0.7581251263618469,\n",
       " 'fp_608': 0.7558882832527161,\n",
       " 'fp_572': 0.7508836388587952,\n",
       " 'fp_813': 0.7440394759178162,\n",
       " 'fp_698': 0.7383062243461609,\n",
       " 'fp_297': 0.7337023019790649,\n",
       " 'fp_266': 0.7327537536621094,\n",
       " 'fp_87': 0.7278061509132385,\n",
       " 'fp_687': 0.7164591550827026,\n",
       " 'fp_347': 0.7153670787811279,\n",
       " 'fp_984': 0.7080978155136108,\n",
       " 'fp_72': 0.702012300491333,\n",
       " 'fp_115': 0.701287567615509,\n",
       " 'fp_229': 0.7006486058235168,\n",
       " 'fp_640': 0.6980330348014832,\n",
       " 'fp_90': 0.696786105632782,\n",
       " 'fp_859': 0.6933302879333496,\n",
       " 'fp_711': 0.6897053718566895,\n",
       " 'fp_643': 0.6847819685935974,\n",
       " 'fp_323': 0.6785233616828918,\n",
       " 'fp_378': 0.6648362874984741,\n",
       " 'fp_352': 0.6642165780067444,\n",
       " 'fp_80': 0.6605560779571533,\n",
       " 'fp_367': 0.6604356169700623,\n",
       " 'fp_63': 0.6594938635826111,\n",
       " 'fp_901': 0.6553581953048706,\n",
       " 'fp_638': 0.6530140042304993,\n",
       " 'fp_112': 0.6512670516967773,\n",
       " 'fp_470': 0.6468836665153503,\n",
       " 'fp_386': 0.6462827920913696,\n",
       " 'fp_471': 0.6461995840072632,\n",
       " 'fp_342': 0.640511691570282,\n",
       " 'fp_212': 0.6335330009460449,\n",
       " 'fp_863': 0.6332870125770569,\n",
       " 'fp_171': 0.628928005695343,\n",
       " 'fp_167': 0.6236268877983093,\n",
       " 'fp_422': 0.6211138367652893,\n",
       " 'fp_429': 0.6207624673843384,\n",
       " 'fp_237': 0.6184542179107666,\n",
       " 'fp_796': 0.6171238422393799,\n",
       " 'fp_191': 0.6093812584877014,\n",
       " 'fp_1010': 0.6089532375335693,\n",
       " 'fp_249': 0.6072543859481812,\n",
       " 'fp_84': 0.6057126522064209,\n",
       " 'fp_195': 0.6048768758773804,\n",
       " 'fp_293': 0.6033644676208496,\n",
       " 'fp_59': 0.6027219295501709,\n",
       " 'fp_1013': 0.601434051990509,\n",
       " 'fp_940': 0.5976550579071045,\n",
       " 'fp_886': 0.5971274375915527,\n",
       " 'fp_32': 0.5954310894012451,\n",
       " 'fp_819': 0.5944752097129822,\n",
       " 'fp_425': 0.5829796195030212,\n",
       " 'fp_402': 0.5801942944526672,\n",
       " 'fp_36': 0.5744101405143738,\n",
       " 'fp_607': 0.5736616253852844,\n",
       " 'fp_289': 0.5734795928001404,\n",
       " 'fp_270': 0.5673574209213257,\n",
       " 'fp_954': 0.5667798519134521,\n",
       " 'fp_910': 0.5663877725601196,\n",
       " 'fp_730': 0.5615866184234619,\n",
       " 'fp_586': 0.5594580173492432,\n",
       " 'fp_781': 0.5552448034286499,\n",
       " 'fp_642': 0.5547221302986145,\n",
       " 'fp_523': 0.5541921854019165,\n",
       " 'fp_310': 0.5530898571014404,\n",
       " 'fp_898': 0.5511806011199951,\n",
       " 'fp_883': 0.5471805930137634,\n",
       " 'fp_94': 0.5471267104148865,\n",
       " 'fp_329': 0.5465165972709656,\n",
       " 'fp_502': 0.5461341142654419,\n",
       " 'fp_816': 0.5353883504867554,\n",
       " 'fp_881': 0.5347915887832642,\n",
       " 'naRing': 0.5302817821502686,\n",
       " 'fp_26': 0.5299035906791687,\n",
       " 'fp_235': 0.5296752452850342,\n",
       " 'fp_281': 0.529370903968811,\n",
       " 'fp_173': 0.5293692350387573,\n",
       " 'fp_132': 0.528293788433075,\n",
       " 'fp_573': 0.5236679315567017,\n",
       " 'fp_503': 0.5234104990959167,\n",
       " 'fp_961': 0.5231308341026306,\n",
       " 'fp_19': 0.522841215133667,\n",
       " 'fp_512': 0.5190666913986206,\n",
       " 'fp_518': 0.518076479434967,\n",
       " 'fp_960': 0.5113844871520996,\n",
       " 'fp_743': 0.5105563998222351,\n",
       " 'fp_25': 0.5100131630897522,\n",
       " 'fp_184': 0.5097576975822449,\n",
       " 'fp_240': 0.5066916346549988,\n",
       " 'fp_762': 0.505760133266449,\n",
       " 'fp_34': 0.5032810568809509,\n",
       " 'fp_406': 0.4990391135215759,\n",
       " 'fp_913': 0.4987403452396393,\n",
       " 'fp_522': 0.49801671504974365,\n",
       " 'fp_731': 0.4969351291656494,\n",
       " 'nHBAcc': 0.487284392118454,\n",
       " 'fp_714': 0.4867626130580902,\n",
       " 'fp_292': 0.48504093289375305,\n",
       " 'fp_15': 0.47976770997047424,\n",
       " 'fp_18': 0.4794267416000366,\n",
       " 'fp_295': 0.4783145487308502,\n",
       " 'fp_815': 0.47578850388526917,\n",
       " 'fp_256': 0.4720739722251892,\n",
       " 'fp_540': 0.464315265417099,\n",
       " 'fp_198': 0.46376684308052063,\n",
       " 'fp_613': 0.4616936147212982,\n",
       " 'fp_290': 0.46142125129699707,\n",
       " 'fp_192': 0.4604540467262268,\n",
       " 'fp_701': 0.45869874954223633,\n",
       " 'fp_997': 0.4568476974964142,\n",
       " 'fp_317': 0.4564170241355896,\n",
       " 'fp_435': 0.4496169686317444,\n",
       " 'fp_325': 0.44912201166152954,\n",
       " 'fp_899': 0.4480562210083008,\n",
       " 'fp_934': 0.4471410810947418,\n",
       " 'fp_108': 0.4465453028678894,\n",
       " 'fp_123': 0.44533029198646545,\n",
       " 'fp_389': 0.4437921345233917,\n",
       " 'fp_440': 0.4415226876735687,\n",
       " 'fp_935': 0.4382617175579071,\n",
       " 'fp_914': 0.43798959255218506,\n",
       " 'fp_871': 0.43790024518966675,\n",
       " 'fp_567': 0.43596506118774414,\n",
       " 'fp_259': 0.4343265891075134,\n",
       " 'fp_164': 0.43338000774383545,\n",
       " 'fp_135': 0.4314638674259186,\n",
       " 'fp_577': 0.4307522773742676,\n",
       " 'fp_335': 0.43049538135528564,\n",
       " 'fp_231': 0.4268515706062317,\n",
       " 'fp_729': 0.42601466178894043,\n",
       " 'fp_652': 0.4249250292778015,\n",
       " 'fp_786': 0.42385804653167725,\n",
       " 'fp_247': 0.423475444316864,\n",
       " 'fp_993': 0.4230000376701355,\n",
       " 'fp_245': 0.41753876209259033,\n",
       " 'fp_216': 0.4171466827392578,\n",
       " 'fp_1017': 0.4162290692329407,\n",
       " 'fp_137': 0.41565752029418945,\n",
       " 'fp_753': 0.4138847291469574,\n",
       " 'fp_41': 0.40936651825904846,\n",
       " 'fp_315': 0.40724435448646545,\n",
       " 'fp_53': 0.4070456027984619,\n",
       " 'fp_911': 0.40659061074256897,\n",
       " 'fp_548': 0.4055749177932739,\n",
       " 'fp_482': 0.40466469526290894,\n",
       " 'fp_308': 0.404388427734375,\n",
       " 'fp_165': 0.40326786041259766,\n",
       " 'fp_800': 0.40108832716941833,\n",
       " 'fp_893': 0.4003136456012726,\n",
       " 'fp_419': 0.3983973562717438,\n",
       " 'fp_760': 0.3983098864555359,\n",
       " 'fp_845': 0.3979065418243408,\n",
       " 'fp_255': 0.3969753384590149,\n",
       " 'fp_236': 0.3965624272823334,\n",
       " 'fp_624': 0.39586693048477173,\n",
       " 'fp_614': 0.39571118354797363,\n",
       " 'fp_790': 0.39459970593452454,\n",
       " 'fp_693': 0.39383411407470703,\n",
       " 'fp_294': 0.3925991654396057,\n",
       " 'fp_964': 0.39025241136550903,\n",
       " 'fp_602': 0.39016595482826233,\n",
       " 'fp_360': 0.38769325613975525,\n",
       " 'fp_222': 0.38704437017440796,\n",
       " 'fp_919': 0.38141247630119324,\n",
       " 'fp_333': 0.3813668191432953,\n",
       " 'fp_275': 0.3799743056297302,\n",
       " 'fp_385': 0.3797059655189514,\n",
       " 'fp_650': 0.37852081656455994,\n",
       " 'fp_956': 0.37772709131240845,\n",
       " 'fp_196': 0.37655049562454224,\n",
       " 'fp_39': 0.376468300819397,\n",
       " 'fp_806': 0.376455694437027,\n",
       " 'fp_86': 0.37496721744537354,\n",
       " 'nRot': 0.37333494424819946,\n",
       " 'fp_175': 0.3713354170322418,\n",
       " 'fp_792': 0.37005800008773804,\n",
       " 'fp_880': 0.3698132038116455,\n",
       " 'fp_695': 0.36952877044677734,\n",
       " 'QED': 0.3694193363189697,\n",
       " 'fp_1011': 0.3691379427909851,\n",
       " 'fp_448': 0.3673360049724579,\n",
       " 'fp_659': 0.366082102060318,\n",
       " 'fp_504': 0.36387962102890015,\n",
       " 'fp_843': 0.3633977174758911,\n",
       " 'fp_447': 0.3606107234954834,\n",
       " 'fp_837': 0.35812264680862427,\n",
       " 'fp_623': 0.3578154444694519,\n",
       " 'fp_543': 0.35711678862571716,\n",
       " 'fp_144': 0.35548052191734314,\n",
       " 'fp_583': 0.3541901409626007,\n",
       " 'fp_771': 0.35411641001701355,\n",
       " 'fp_57': 0.3536032438278198,\n",
       " 'fp_252': 0.3534160852432251,\n",
       " 'fp_434': 0.35311269760131836,\n",
       " 'fp_282': 0.3527095913887024,\n",
       " 'fp_250': 0.3490023910999298,\n",
       " 'fp_805': 0.3485754728317261,\n",
       " 'fp_550': 0.34839582443237305,\n",
       " 'fp_719': 0.34538719058036804,\n",
       " 'fp_42': 0.34347012639045715,\n",
       " 'fp_368': 0.34320101141929626,\n",
       " 'fp_343': 0.34235939383506775,\n",
       " 'fp_433': 0.34104645252227783,\n",
       " 'fp_446': 0.3401551842689514,\n",
       " 'fp_465': 0.34006306529045105,\n",
       " 'fp_932': 0.32794424891471863,\n",
       " 'fp_703': 0.327823668718338,\n",
       " 'fp_375': 0.32763177156448364,\n",
       " 'fp_200': 0.3250429630279541,\n",
       " 'fp_549': 0.32187768816947937,\n",
       " 'fp_838': 0.3214944005012512,\n",
       " 'fp_21': 0.32124945521354675,\n",
       " 'fp_864': 0.31986892223358154,\n",
       " 'fp_487': 0.31702354550361633,\n",
       " 'fp_139': 0.31692439317703247,\n",
       " 'fp_831': 0.3154137134552002,\n",
       " 'fp_595': 0.3136827051639557,\n",
       " 'fp_556': 0.3132479786872864,\n",
       " 'fp_666': 0.31149959564208984,\n",
       " 'fp_596': 0.31127673387527466,\n",
       " 'fp_1009': 0.31095582246780396,\n",
       " 'fp_850': 0.3097560405731201,\n",
       " 'fp_741': 0.3071388006210327,\n",
       " 'fp_542': 0.30644506216049194,\n",
       " 'fp_493': 0.30576539039611816,\n",
       " 'fp_3': 0.3057381808757782,\n",
       " 'fp_478': 0.30482417345046997,\n",
       " 'fp_242': 0.302157998085022,\n",
       " 'fp_692': 0.301575630903244,\n",
       " 'fp_936': 0.3009650707244873,\n",
       " 'fp_524': 0.299330472946167,\n",
       " 'fp_149': 0.298583984375,\n",
       " 'fp_723': 0.29854005575180054,\n",
       " 'fp_37': 0.29802238941192627,\n",
       " 'fp_64': 0.2971325218677521,\n",
       " 'fp_33': 0.2969013750553131,\n",
       " 'fp_284': 0.29493045806884766,\n",
       " 'fp_684': 0.29288145899772644,\n",
       " 'fp_967': 0.29167407751083374,\n",
       " 'fp_189': 0.2897668480873108,\n",
       " 'fp_807': 0.28925204277038574,\n",
       " 'fp_102': 0.2889211177825928,\n",
       " 'fp_56': 0.2883591055870056,\n",
       " 'fp_680': 0.28547874093055725,\n",
       " 'fp_912': 0.2838955223560333,\n",
       " 'fp_304': 0.2832661271095276,\n",
       " 'fp_801': 0.28249481320381165,\n",
       " 'fp_4': 0.28211984038352966,\n",
       " 'fp_178': 0.2813084125518799,\n",
       " 'fp_268': 0.2768745720386505,\n",
       " 'fp_833': 0.27675142884254456,\n",
       " 'fp_924': 0.2753016948699951,\n",
       " 'fp_286': 0.2740447223186493,\n",
       " 'fp_369': 0.27181553840637207,\n",
       " 'fp_119': 0.27039310336112976,\n",
       " 'fp_338': 0.2697315812110901,\n",
       " 'fp_959': 0.26927757263183594,\n",
       " 'fp_128': 0.26880955696105957,\n",
       " 'fp_1012': 0.2683882713317871,\n",
       " 'fp_121': 0.26700636744499207,\n",
       " 'fp_322': 0.26482129096984863,\n",
       " 'fp_311': 0.26412057876586914,\n",
       " 'fp_944': 0.2636265456676483,\n",
       " 'fp_744': 0.2636262774467468,\n",
       " 'fp_949': 0.26361405849456787,\n",
       " 'fp_745': 0.26316580176353455,\n",
       " 'fp_143': 0.26215028762817383,\n",
       " 'fp_77': 0.26177290081977844,\n",
       " 'fp_428': 0.26142942905426025,\n",
       " 'fp_872': 0.25955766439437866,\n",
       " 'fp_552': 0.25832921266555786,\n",
       " 'fp_772': 0.2564341425895691,\n",
       " 'fp_593': 0.25578755140304565,\n",
       " 'fp_775': 0.255581796169281,\n",
       " 'fp_952': 0.2539656162261963,\n",
       " 'fp_592': 0.2539040148258209,\n",
       " 'fp_558': 0.2485729157924652,\n",
       " 'fp_563': 0.24651217460632324,\n",
       " 'fp_677': 0.24473576247692108,\n",
       " 'fp_777': 0.24418187141418457,\n",
       " 'fp_194': 0.24376636743545532,\n",
       " 'fp_413': 0.24217961728572845,\n",
       " 'fp_46': 0.2419770509004593,\n",
       " 'fp_407': 0.24124358594417572,\n",
       " 'fp_51': 0.2406672239303589,\n",
       " 'fp_947': 0.24046847224235535,\n",
       " 'fp_279': 0.24042250216007233,\n",
       " 'fp_307': 0.23855829238891602,\n",
       " 'fp_140': 0.23694726824760437,\n",
       " 'fp_716': 0.2367929220199585,\n",
       " 'fp_994': 0.23677049577236176,\n",
       " 'fp_187': 0.23674289882183075,\n",
       " 'fp_965': 0.23642930388450623,\n",
       " 'fp_842': 0.2364167869091034,\n",
       " 'fp_615': 0.2345162183046341,\n",
       " 'fp_449': 0.23308587074279785,\n",
       " 'fp_575': 0.2326587289571762,\n",
       " 'fp_193': 0.23191019892692566,\n",
       " 'fp_510': 0.23124122619628906,\n",
       " 'fp_134': 0.2308938056230545,\n",
       " 'fp_376': 0.2292286902666092,\n",
       " 'fp_787': 0.22885096073150635,\n",
       " 'fp_905': 0.22778619825839996,\n",
       " 'fp_457': 0.22703756392002106,\n",
       " 'fp_715': 0.22251352667808533,\n",
       " 'fp_514': 0.2223515510559082,\n",
       " 'fp_2': 0.22166715562343597,\n",
       " 'fp_946': 0.22146497666835785,\n",
       " 'fp_500': 0.2211514711380005,\n",
       " 'fp_202': 0.2210952639579773,\n",
       " 'fp_579': 0.2208009660243988,\n",
       " 'fp_476': 0.2198958396911621,\n",
       " 'fp_180': 0.219120591878891,\n",
       " 'fp_31': 0.21873781085014343,\n",
       " 'fp_507': 0.2182120829820633,\n",
       " 'fp_205': 0.2181195616722107,\n",
       " 'fp_437': 0.21775370836257935,\n",
       " 'fp_177': 0.21658045053482056,\n",
       " 'fp_943': 0.2138969451189041,\n",
       " 'fp_215': 0.21361160278320312,\n",
       " 'fp_1018': 0.21257643401622772,\n",
       " 'fp_157': 0.2106466293334961,\n",
       " 'fp_654': 0.210152730345726,\n",
       " 'fp_363': 0.2099621444940567,\n",
       " 'fp_618': 0.20988132059574127,\n",
       " 'fp_985': 0.20963677763938904,\n",
       " 'fp_671': 0.2095666527748108,\n",
       " 'fp_66': 0.20923367142677307,\n",
       " 'fp_169': 0.20874404907226562,\n",
       " 'fp_459': 0.20870284736156464,\n",
       " 'fp_361': 0.20808818936347961,\n",
       " 'fp_336': 0.20782265067100525,\n",
       " 'fp_975': 0.20656178891658783,\n",
       " 'fp_458': 0.20621901750564575,\n",
       " 'fp_511': 0.20614203810691833,\n",
       " 'fp_473': 0.20611560344696045,\n",
       " 'fp_508': 0.2058008313179016,\n",
       " 'fp_854': 0.20551131665706635,\n",
       " 'fp_718': 0.20443738996982574,\n",
       " 'fp_309': 0.20399078726768494,\n",
       " 'fp_970': 0.20097346603870392,\n",
       " 'fp_657': 0.1959383487701416,\n",
       " 'fp_791': 0.19518455862998962,\n",
       " 'fp_130': 0.19515155255794525,\n",
       " 'fp_383': 0.19434991478919983,\n",
       " 'fp_809': 0.19060440361499786,\n",
       " 'fp_246': 0.18981128931045532,\n",
       " 'fp_702': 0.1890704333782196,\n",
       " 'fp_679': 0.18906652927398682,\n",
       " 'fp_0': 0.18732571601867676,\n",
       " 'fp_922': 0.18606528639793396,\n",
       " 'fp_381': 0.18513861298561096,\n",
       " 'fp_105': 0.18434372544288635,\n",
       " 'fp_565': 0.18419088423252106,\n",
       " 'fp_432': 0.18328757584095,\n",
       " 'fp_724': 0.18321998417377472,\n",
       " 'fp_305': 0.18079052865505219,\n",
       " 'fp_312': 0.18054890632629395,\n",
       " 'fp_387': 0.18044599890708923,\n",
       " 'fp_453': 0.18023185431957245,\n",
       " 'fp_22': 0.17971253395080566,\n",
       " 'fp_190': 0.17932207882404327,\n",
       " 'fp_52': 0.17821145057678223,\n",
       " 'fp_930': 0.17788441479206085,\n",
       " 'fp_1008': 0.17781227827072144,\n",
       " 'fp_976': 0.1768401712179184,\n",
       " 'fp_332': 0.1759713590145111,\n",
       " 'fp_475': 0.17570915818214417,\n",
       " 'fp_241': 0.17551873624324799,\n",
       " 'fp_708': 0.1750948429107666,\n",
       " 'fp_942': 0.1741436868906021,\n",
       " 'fp_646': 0.17389322817325592,\n",
       " 'fp_755': 0.17274272441864014,\n",
       " 'fp_841': 0.1706356704235077,\n",
       " 'fp_334': 0.17057988047599792,\n",
       " 'fp_789': 0.1701185703277588,\n",
       " 'fp_635': 0.1693369597196579,\n",
       " 'fp_274': 0.16787415742874146,\n",
       " 'fp_75': 0.16755500435829163,\n",
       " 'fp_400': 0.16671434044837952,\n",
       " 'fp_147': 0.16657526791095734,\n",
       " 'fp_981': 0.16612938046455383,\n",
       " 'fp_466': 0.16442084312438965,\n",
       " 'fp_626': 0.16442029178142548,\n",
       " 'fp_392': 0.1636047065258026,\n",
       " 'fp_461': 0.16350220143795013,\n",
       " 'fp_430': 0.16337116062641144,\n",
       " 'fp_276': 0.16174332797527313,\n",
       " 'fp_451': 0.16096335649490356,\n",
       " 'fp_751': 0.160416841506958,\n",
       " 'fp_903': 0.15977251529693604,\n",
       " 'fp_598': 0.1593896746635437,\n",
       " 'fp_925': 0.15891163051128387,\n",
       " 'fp_226': 0.15849518775939941,\n",
       " 'fp_501': 0.1584540158510208,\n",
       " 'fp_928': 0.15807324647903442,\n",
       " 'fp_557': 0.15792162716388702,\n",
       " 'fp_555': 0.15779557824134827,\n",
       " 'fp_1014': 0.15758180618286133,\n",
       " 'fp_354': 0.15726135671138763,\n",
       " 'fp_888': 0.1571434736251831,\n",
       " 'fp_632': 0.15637320280075073,\n",
       " 'fp_54': 0.15514174103736877,\n",
       " 'fp_138': 0.1545599102973938,\n",
       " 'fp_950': 0.15347504615783691,\n",
       " 'fp_480': 0.15334925055503845,\n",
       " 'fp_713': 0.15304525196552277,\n",
       " 'fp_916': 0.15302801132202148,\n",
       " 'fp_780': 0.15268945693969727,\n",
       " 'fp_908': 0.15263354778289795,\n",
       " 'fp_1015': 0.15259207785129547,\n",
       " 'fp_225': 0.15221624076366425,\n",
       " 'fp_410': 0.15172573924064636,\n",
       " 'fp_492': 0.15159685909748077,\n",
       " 'fp_818': 0.1510208547115326,\n",
       " 'fp_855': 0.15015506744384766,\n",
       " 'fp_271': 0.14993245899677277,\n",
       " 'fp_463': 0.14834298193454742,\n",
       " 'fp_58': 0.14828844368457794,\n",
       " 'fp_380': 0.1479893922805786,\n",
       " 'fp_794': 0.14746670424938202,\n",
       " 'fp_520': 0.14734160900115967,\n",
       " 'fp_251': 0.14682753384113312,\n",
       " 'fp_92': 0.14616990089416504,\n",
       " 'fp_339': 0.14563721418380737,\n",
       " 'fp_330': 0.14481258392333984,\n",
       " 'fp_110': 0.1444382667541504,\n",
       " 'fp_832': 0.14436626434326172,\n",
       " 'fp_262': 0.14347802102565765,\n",
       " 'fp_630': 0.1417873650789261,\n",
       " 'fp_455': 0.14161650836467743,\n",
       " 'fp_277': 0.14160093665122986,\n",
       " 'fp_280': 0.14149299263954163,\n",
       " 'fp_562': 0.1407546103000641,\n",
       " 'fp_76': 0.14006665349006653,\n",
       " 'fp_670': 0.1389653980731964,\n",
       " 'fp_154': 0.13798758387565613,\n",
       " 'fp_991': 0.13798341155052185,\n",
       " 'fp_113': 0.13777491450309753,\n",
       " 'fp_647': 0.13760054111480713,\n",
       " 'fp_176': 0.13680708408355713,\n",
       " 'fp_931': 0.1360687017440796,\n",
       " 'fp_326': 0.13578307628631592,\n",
       " 'fp_13': 0.1357586681842804,\n",
       " 'fp_74': 0.13532765209674835,\n",
       " 'fp_267': 0.13502757251262665,\n",
       " 'fp_16': 0.1346007138490677,\n",
       " 'fp_707': 0.13397154211997986,\n",
       " 'fp_637': 0.13320079445838928,\n",
       " 'fp_377': 0.13270124793052673,\n",
       " 'fp_341': 0.13214972615242004,\n",
       " 'fp_582': 0.13168299198150635,\n",
       " 'fp_1005': 0.13125184178352356,\n",
       " 'fp_50': 0.12985990941524506,\n",
       " 'fp_619': 0.1293908804655075,\n",
       " 'fp_106': 0.12899096310138702,\n",
       " 'fp_782': 0.12771114706993103,\n",
       " 'fp_395': 0.12766578793525696,\n",
       " 'fp_581': 0.12634269893169403,\n",
       " 'fp_201': 0.12625563144683838,\n",
       " 'fp_547': 0.12599360942840576,\n",
       " 'fp_594': 0.12482571601867676,\n",
       " 'fp_207': 0.12473563104867935,\n",
       " 'fp_709': 0.12448907643556595,\n",
       " 'fp_291': 0.12438464164733887,\n",
       " 'fp_170': 0.1242615208029747,\n",
       " 'fp_438': 0.12327219545841217,\n",
       " 'fp_852': 0.12171784788370132,\n",
       " 'fp_587': 0.12130022048950195,\n",
       " 'fp_599': 0.12105762958526611,\n",
       " 'fp_951': 0.12100031226873398,\n",
       " 'fp_528': 0.12098390609025955,\n",
       " 'fp_142': 0.12084776163101196,\n",
       " 'fp_67': 0.1199679970741272,\n",
       " 'fp_104': 0.11930961906909943,\n",
       " 'fp_879': 0.1187368631362915,\n",
       " 'fp_783': 0.11861705780029297,\n",
       " 'fp_532': 0.11843015253543854,\n",
       " 'fp_764': 0.11702163517475128,\n",
       " 'fp_761': 0.11692054569721222,\n",
       " 'fp_629': 0.11636530607938766,\n",
       " 'fp_580': 0.11603067070245743,\n",
       " 'fp_825': 0.11490129679441452,\n",
       " 'fp_272': 0.11483679711818695,\n",
       " 'fp_906': 0.11421633511781693,\n",
       " 'fp_868': 0.11415338516235352,\n",
       " 'fp_776': 0.11405391991138458,\n",
       " 'fp_620': 0.11385893821716309,\n",
       " 'fp_682': 0.11343050003051758,\n",
       " 'fp_78': 0.11251530796289444,\n",
       " 'fp_382': 0.1112581118941307,\n",
       " 'fp_636': 0.11095331609249115,\n",
       " 'fp_103': 0.10903272032737732,\n",
       " 'fp_263': 0.10833016037940979,\n",
       " 'fp_873': 0.10719156265258789,\n",
       " 'fp_734': 0.10702919960021973,\n",
       " 'fp_700': 0.1062539666891098,\n",
       " 'fp_358': 0.10546549409627914,\n",
       " 'fp_73': 0.10484881699085236,\n",
       " 'fp_444': 0.10455527901649475,\n",
       " 'fp_29': 0.10440973937511444,\n",
       " 'fp_585': 0.10419783741235733,\n",
       " 'fp_1021': 0.10321159660816193,\n",
       " 'fp_71': 0.10286154597997665,\n",
       " 'fp_874': 0.10187387466430664,\n",
       " 'fp_163': 0.10138827562332153,\n",
       " 'fp_704': 0.10074469447135925,\n",
       " 'fp_390': 0.10062599182128906,\n",
       " 'fp_983': 0.0998833179473877,\n",
       " 'fp_412': 0.09975340962409973,\n",
       " 'fp_803': 0.09975051879882812,\n",
       " 'fp_490': 0.09855630993843079,\n",
       " 'fp_300': 0.09834069013595581,\n",
       " 'fp_560': 0.09781002253293991,\n",
       " 'fp_712': 0.09751563519239426,\n",
       " 'fp_467': 0.09683456271886826,\n",
       " 'fp_998': 0.09662443399429321,\n",
       " 'fp_327': 0.09161770343780518,\n",
       " 'fp_365': 0.09142269939184189,\n",
       " 'fp_634': 0.08974871039390564,\n",
       " 'fp_391': 0.08970608562231064,\n",
       " 'fp_802': 0.08916494250297546,\n",
       " 'fp_721': 0.0873575210571289,\n",
       " 'fp_107': 0.08554816991090775,\n",
       " 'fp_726': 0.08479950577020645,\n",
       " 'fp_544': 0.08416376262903214,\n",
       " 'fp_551': 0.0840645506978035,\n",
       " 'fp_228': 0.08368895947933197,\n",
       " 'fp_917': 0.08263159543275833,\n",
       " 'fp_966': 0.08257076889276505,\n",
       " 'fp_865': 0.08063352108001709,\n",
       " 'fp_20': 0.08042287081480026,\n",
       " 'fp_44': 0.0803304985165596,\n",
       " 'fp_527': 0.07935567200183868,\n",
       " 'fp_530': 0.07926148176193237,\n",
       " 'fp_227': 0.07897946983575821,\n",
       " 'fp_857': 0.0785408616065979,\n",
       " 'fp_748': 0.07814863324165344,\n",
       " 'fp_889': 0.0778726190328598,\n",
       " 'fp_658': 0.07779347896575928,\n",
       " 'fp_70': 0.0773434117436409,\n",
       " 'fp_793': 0.07647531479597092,\n",
       " 'fp_909': 0.07621431350708008,\n",
       " 'fp_948': 0.07560625672340393,\n",
       " 'fp_655': 0.07512179017066956,\n",
       " 'fp_590': 0.07435943186283112,\n",
       " 'fp_649': 0.07393360137939453,\n",
       " 'fp_454': 0.07310908287763596,\n",
       " 'fp_988': 0.07301032543182373,\n",
       " 'fp_610': 0.07279790937900543,\n",
       " 'fp_876': 0.07262971997261047,\n",
       " 'fp_371': 0.07010827958583832,\n",
       " 'fp_296': 0.0697721540927887,\n",
       " 'fp_111': 0.0696030855178833,\n",
       " 'fp_496': 0.06922469288110733,\n",
       " 'fp_835': 0.06849002838134766,\n",
       " 'fp_118': 0.06788241863250732,\n",
       " 'fp_653': 0.06764885783195496,\n",
       " 'fp_861': 0.0667145848274231,\n",
       " 'fp_100': 0.06641514599323273,\n",
       " 'fp_499': 0.06628501415252686,\n",
       " 'fp_420': 0.06599821150302887,\n",
       " 'fp_758': 0.06439036130905151,\n",
       " 'fp_529': 0.06410479545593262,\n",
       " 'fp_68': 0.06357530504465103,\n",
       " 'fp_689': 0.06316882371902466,\n",
       " 'fp_302': 0.06264737993478775,\n",
       " 'fp_60': 0.06263191998004913,\n",
       " 'fp_421': 0.06238874793052673,\n",
       " 'fp_398': 0.060068100690841675,\n",
       " 'fp_706': 0.05946040153503418,\n",
       " 'fp_1023': 0.058876991271972656,\n",
       " 'fp_651': 0.0577850267291069,\n",
       " 'fp_399': 0.05730384588241577,\n",
       " 'fp_417': 0.05596171319484711,\n",
       " 'fp_344': 0.05562421679496765,\n",
       " 'fp_895': 0.05536442995071411,\n",
       " 'fp_740': 0.054648637771606445,\n",
       " 'fp_604': 0.05437466502189636,\n",
       " 'fp_445': 0.05437278747558594,\n",
       " 'fp_494': 0.053897976875305176,\n",
       " 'fp_82': 0.05387106165289879,\n",
       " 'fp_774': 0.05283153057098389,\n",
       " 'fp_337': 0.05151677131652832,\n",
       " 'fp_232': 0.05010785162448883,\n",
       " 'fp_977': 0.04959496483206749,\n",
       " 'fp_120': 0.04946430027484894,\n",
       " 'fp_462': 0.04856759309768677,\n",
       " 'fp_710': 0.04754374176263809,\n",
       " 'fp_697': 0.043055370450019836,\n",
       " 'fp_321': 0.03961780667304993,\n",
       " 'fp_817': 0.03951927646994591,\n",
       " 'fp_203': 0.022438373416662216}"
      ]
     },
     "execution_count": 25,
     "metadata": {},
     "output_type": "execute_result"
    }
   ],
   "source": [
    "m_r.Feature_Importance()"
   ]
  },
  {
   "cell_type": "markdown",
   "id": "721575b1",
   "metadata": {},
   "source": [
    "## Classification"
   ]
  },
  {
   "cell_type": "code",
   "execution_count": 26,
   "id": "66d5f23a",
   "metadata": {},
   "outputs": [
    {
     "name": "stderr",
     "output_type": "stream",
     "text": [
      "2022-06-03 00:57:33,736 - logger - INFO - CreateFPS transform...\n",
      "2022-06-03 00:57:33,736 - logger - INFO - CreateFPS transform...\n",
      "100%|██████████| 1835/1835 [00:02<00:00, 882.73it/s]\n"
     ]
    },
    {
     "name": "stdout",
     "output_type": "stream",
     "text": [
      "100%|██████████| 150/150 [09:12<00:00,  3.68s/trial, best loss: -0.8895705521472392]\n"
     ]
    },
    {
     "name": "stderr",
     "output_type": "stream",
     "text": [
      "2022-06-03 01:06:59,518 - logger - INFO - Regressor quality after hyperparameter optimization: 0.8895705521472392\n",
      "2022-06-03 01:06:59,518 - logger - INFO - Regressor quality after hyperparameter optimization: 0.8895705521472392\n"
     ]
    }
   ],
   "source": [
    "smiles_codes = train_data[\"canonical_smiles_get_levels\"].copy()\n",
    "target = train_data[\"IC50_nM\"].copy()\n",
    "\n",
    "non_idx = dt.validate_smiles(smiles_codes=smiles_codes)\n",
    "smiles_codes = smiles_codes.drop(non_idx, axis=0)\n",
    "target = target.drop(non_idx, axis=0)\n",
    "\n",
    "pipeline_file = \"pipeline_configuration_XGBoost_classification.json\"\n",
    "pipeline_configuration = dt.read_in_pipeline(pipeline_file=pipeline_file, pipeline_directory=co.PIPELINE_DIR)\n",
    "pipeline = dt.create_pipeline(pipeline_configuration=pipeline_configuration[\"feature_transform\"])\n",
    "\n",
    "y_train = dt.process_taget(pipeline_configuration=pipeline_configuration[\"target_transform\"], y=target)\n",
    "smiles_codes = smiles_codes.loc[y_train.index]\n",
    "\n",
    "smiles_codes_train, smiles_codes_train_val, y_train, y_train_val = train_test_split(smiles_codes, y_train, test_size=0.1, random_state=co.RANDOM_STATE)\n",
    "\n",
    "m_c = mw.M_XGBoost(prediction_methodology=mw.Prediction_Methodology.XGBOOST, \n",
    "                   prediction_type=mw.Prediction_Type.CLASSIFICATION, pipeline_configuration=pipeline_configuration)\n",
    "data = {\"smiles_codes_train\": smiles_codes_train, \"targets_train\": y_train, \n",
    "        \"smiles_codes_val\": smiles_codes_train_val, \"targets_val\": y_train_val}\n",
    "m_c.Data = data\n",
    "m_c.Create_Features()\n",
    "\n",
    "aux_data = {\"run_name\": \"test\",\n",
    "           \"n_outer\": 1, \"n_cv\": 4, \"development\": False,\n",
    "           \"goal_function\": \"precision\", \"goal_function_multiplier\": -1.0, \"threshold\": 0.5,\n",
    "           \"track_model\": False, \"experiment\": None, \"comment\": None, \"max_evals\": None}\n",
    "\n",
    "fmin_objective = partial(m_c.F_Opt, aux_data=aux_data)\n",
    "trials = Trials()\n",
    "rstate = np.random.RandomState(co.RANDOM_STATE+1)\n",
    "max_evals = 150\n",
    "best_hyperparams = fmin(fn=fmin_objective, space=m_c.Space, algo=tpe.suggest, max_evals=max_evals, \n",
    "                        trials=trials, return_argmin=True, rstate=rstate, show_progressbar=True)\n",
    "\n",
    "measure = m_c.Get_Measure(smiles_codes, y_train, hyperparameters=best_hyperparams, n_outer=aux_data[\"n_outer\"], n_cv=aux_data[\"n_cv\"],\n",
    "                        threshold=aux_data[\"threshold\"], goal=aux_data[\"goal_function\"])\n",
    "\n",
    "l.info(\"Regressor quality after hyperparameter optimization: \"+str(measure))"
   ]
  },
  {
   "cell_type": "markdown",
   "id": "0ec1a6b1",
   "metadata": {},
   "source": [
    "### Model storage"
   ]
  },
  {
   "cell_type": "code",
   "execution_count": 27,
   "id": "5b8687ec",
   "metadata": {},
   "outputs": [],
   "source": [
    "m_c_file = \"classifier_xgboost_20220531.model\"\n",
    "m_c.Save((co.MODEL_DIR/m_c_file).absolute().as_posix())"
   ]
  },
  {
   "cell_type": "markdown",
   "id": "ae4d9e04",
   "metadata": {},
   "source": [
    "### Final training and validation"
   ]
  },
  {
   "cell_type": "code",
   "execution_count": 28,
   "id": "00042d7f",
   "metadata": {},
   "outputs": [
    {
     "name": "stderr",
     "output_type": "stream",
     "text": [
      "2022-06-03 01:07:15,924 - logger - INFO - CreateFPS fit...\n",
      "2022-06-03 01:07:15,924 - logger - INFO - CreateFPS fit...\n",
      "2022-06-03 01:07:15,926 - logger - INFO - CreateFPS transform...\n",
      "2022-06-03 01:07:15,926 - logger - INFO - CreateFPS transform...\n",
      "100%|██████████| 1835/1835 [00:02<00:00, 903.40it/s]\n",
      "2022-06-03 01:07:23,906 - logger - INFO - CreateFPS transform...\n",
      "2022-06-03 01:07:23,906 - logger - INFO - CreateFPS transform...\n",
      "100%|██████████| 204/204 [00:00<00:00, 779.99it/s]\n"
     ]
    },
    {
     "data": {
      "text/plain": [
       "<sklearn.metrics._plot.confusion_matrix.ConfusionMatrixDisplay at 0x7f194d73c3a0>"
      ]
     },
     "execution_count": 28,
     "metadata": {},
     "output_type": "execute_result"
    },
    {
     "data": {
      "image/png": "[encoded data removed]",
      "text/plain": [
       "<Figure size 432x288 with 2 Axes>"
      ]
     },
     "metadata": {
      "needs_background": "light"
     },
     "output_type": "display_data"
    }
   ],
   "source": [
    "pipeline.fit(X=smiles_codes_train, y=None)\n",
    "X_train = dt.create_molecular_features(pipeline=pipeline, smiles_codes=smiles_codes_train)\n",
    "X_train = dt.process_molecular_features(pipeline=pipeline, X=X_train)\n",
    "\n",
    "m_c.Train(X_train, y_train, hyperparameters=best_hyperparams)\n",
    "\n",
    "X_train_val = dt.create_molecular_features(pipeline=pipeline, smiles_codes=smiles_codes_train_val)\n",
    "X_train_val = dt.process_molecular_features(pipeline=pipeline, X=X_train_val)\n",
    "y_train_val_pred = m_c.Predict(X_train_val)\n",
    "\n",
    "plot_confusion_matrix(m_c.Model, X_train_val, y_train_val)"
   ]
  },
  {
   "cell_type": "code",
   "execution_count": 24,
   "id": "963f665b",
   "metadata": {},
   "outputs": [
    {
     "name": "stderr",
     "output_type": "stream",
     "text": [
      "2022-06-03 00:56:48,056 - logger - INFO - Recall score: 0.9389312977099237\n",
      "2022-06-03 00:56:48,056 - logger - INFO - Recall score: 0.9389312977099237\n",
      "2022-06-03 00:56:48,059 - logger - INFO - Precision score: 0.8482758620689655\n",
      "2022-06-03 00:56:48,059 - logger - INFO - Precision score: 0.8482758620689655\n"
     ]
    }
   ],
   "source": [
    "l.info(\"Recall score: \"+str(recall_score(y_train_val, y_train_val_pred > aux_data[\"threshold\"])))\n",
    "l.info(\"Precision score: \"+str(precision_score(y_train_val, y_train_val_pred > aux_data[\"threshold\"])))"
   ]
  },
  {
   "cell_type": "code",
   "execution_count": 25,
   "id": "9167e2ad",
   "metadata": {},
   "outputs": [
    {
     "data": {
      "text/plain": [
       "<function matplotlib.pyplot.figure(num=None, figsize=None, dpi=None, facecolor=None, edgecolor=None, frameon=True, FigureClass=<class 'matplotlib.figure.Figure'>, clear=False, **kwargs)>"
      ]
     },
     "execution_count": 25,
     "metadata": {},
     "output_type": "execute_result"
    },
    {
     "data": {
      "image/png": "[encoded data removed]",
      "text/plain": [
       "<Figure size 432x288 with 1 Axes>"
      ]
     },
     "metadata": {
      "needs_background": "light"
     },
     "output_type": "display_data"
    }
   ],
   "source": [
    "create_precision_recall_plot(y_train_val, y_train_val_pred)"
   ]
  },
  {
   "cell_type": "markdown",
   "id": "a0bc1fe1",
   "metadata": {},
   "source": [
    "### Confidence level"
   ]
  },
  {
   "cell_type": "code",
   "execution_count": 29,
   "id": "28d93465",
   "metadata": {},
   "outputs": [],
   "source": [
    "m_r = mw.M_XGBoost(prediction_methodology=mw.Prediction_Methodology.XGBOOST, prediction_type=mw.Prediction_Type.CLASSIFICATION, pipeline_configuration=None)\n",
    "m_r.Load((co.MODEL_DIR/m_r_file).absolute().as_posix())"
   ]
  },
  {
   "cell_type": "code",
   "execution_count": 22,
   "id": "4d5509a2",
   "metadata": {},
   "outputs": [
    {
     "name": "stderr",
     "output_type": "stream",
     "text": [
      "2022-06-03 00:15:44,550 - logger - INFO - CreateFPS transform...\n",
      "2022-06-03 00:15:44,550 - logger - INFO - CreateFPS transform...\n",
      "100%|██████████| 204/204 [00:00<00:00, 775.68it/s]\n"
     ]
    }
   ],
   "source": [
    "smiles_codes_train_val = m_r.Data[\"smiles_codes_val\"]\n",
    "X_train_val = dt.create_molecular_features(pipeline=m_r.Pipeline, smiles_codes=smiles_codes_train_val)\n",
    "X_train_val = dt.process_molecular_features(pipeline=m_r.Pipeline, X=X_train_val)\n",
    "\n",
    "y_pred = m_r.Predict(X_train_val)\n",
    "confidence_level = 2.0 * m_c.Predict(X_train_val).apply(lambda x: 0.5-x if x < 0.5 else x-0.5)"
   ]
  },
  {
   "cell_type": "code",
   "execution_count": 23,
   "id": "7308b654",
   "metadata": {},
   "outputs": [
    {
     "data": {
      "text/plain": [
       "Text(0.5, 1.0, 'Confidence level histogram')"
      ]
     },
     "execution_count": 23,
     "metadata": {},
     "output_type": "execute_result"
    },
    {
     "data": {
      "image/png": "[encoded data removed]",
      "text/plain": [
       "<Figure size 432x288 with 1 Axes>"
      ]
     },
     "metadata": {
      "needs_background": "light"
     },
     "output_type": "display_data"
    }
   ],
   "source": [
    "confidence_level.hist(bins=25)\n",
    "plt.title(\"Confidence level histogram\")"
   ]
  },
  {
   "cell_type": "code",
   "execution_count": 24,
   "id": "2daebca0",
   "metadata": {},
   "outputs": [
    {
     "data": {
      "text/plain": [
       "<AxesSubplot:title={'center':'Actual vs. Predicted plot'}, xlabel='Predicted', ylabel='Actual'>"
      ]
     },
     "execution_count": 24,
     "metadata": {},
     "output_type": "execute_result"
    },
    {
     "data": {
      "image/png": "[encoded data removed]",
      "text/plain": [
       "<Figure size 720x576 with 1 Axes>"
      ]
     },
     "metadata": {},
     "output_type": "display_data"
    }
   ],
   "source": [
    "y_train_val_pred = m_r.Predict(X_train_val)\n",
    "y_train_val_pred.columns = [\"ln(IC50)_pred\"]\n",
    "plotScatterWithIdeal(m_r.Data[\"targets_val\"].values, y_pred.values, \"Actual vs. Predicted plot\", confidence=confidence_level)"
   ]
  },
  {
   "cell_type": "markdown",
   "id": "9f69ca6a",
   "metadata": {},
   "source": [
    "## Classifier reload"
   ]
  },
  {
   "cell_type": "code",
   "execution_count": 25,
   "id": "16674e15",
   "metadata": {},
   "outputs": [],
   "source": [
    "m_c_reload = mw.M_XGBoost(prediction_methodology=mw.Prediction_Methodology.XGBOOST, prediction_type=mw.Prediction_Type.CLASSIFICATION, \n",
    "                                     pipeline_configuration=None)\n",
    "m_c_reload.Load((co.MODEL_DIR/m_c_file).absolute().as_posix())\n",
    "y_pred_2 = m_c_reload.Predict(X_train_val)"
   ]
  },
  {
   "cell_type": "code",
   "execution_count": 26,
   "id": "a0f441d7",
   "metadata": {},
   "outputs": [
    {
     "data": {
      "text/plain": [
       "<sklearn.metrics._plot.confusion_matrix.ConfusionMatrixDisplay at 0x7f384c7a5850>"
      ]
     },
     "execution_count": 26,
     "metadata": {},
     "output_type": "execute_result"
    },
    {
     "data": {
      "image/png": "[encoded data removed]",
      "text/plain": [
       "<Figure size 432x288 with 2 Axes>"
      ]
     },
     "metadata": {
      "needs_background": "light"
     },
     "output_type": "display_data"
    }
   ],
   "source": [
    "plot_confusion_matrix(m_c_reload.Model, X_train_val, y_train_val)"
   ]
  },
  {
   "cell_type": "code",
   "execution_count": 27,
   "id": "82527a15",
   "metadata": {},
   "outputs": [
    {
     "name": "stderr",
     "output_type": "stream",
     "text": [
      "2022-06-03 00:16:21,621 - logger - INFO - Recall score: 0.9465648854961832\n",
      "2022-06-03 00:16:21,621 - logger - INFO - Recall score: 0.9465648854961832\n",
      "2022-06-03 00:16:21,624 - logger - INFO - Precision score: 0.8378378378378378\n",
      "2022-06-03 00:16:21,624 - logger - INFO - Precision score: 0.8378378378378378\n"
     ]
    }
   ],
   "source": [
    "l.info(\"Recall score: \"+str(recall_score(y_train_val, y_pred_2 > aux_data[\"threshold\"])))\n",
    "l.info(\"Precision score: \"+str(precision_score(y_train_val, y_pred_2 > aux_data[\"threshold\"])))"
   ]
  },
  {
   "cell_type": "markdown",
   "id": "4f0f3df2",
   "metadata": {},
   "source": [
    "# MLP"
   ]
  },
  {
   "cell_type": "markdown",
   "id": "9ea6acef",
   "metadata": {},
   "source": [
    "## Regressor"
   ]
  },
  {
   "cell_type": "code",
   "execution_count": null,
   "id": "1394a2f2",
   "metadata": {},
   "outputs": [],
   "source": [
    "pipeline_file = \"pipeline_configuration_XGBoost_regression.json\"\n",
    "pipeline_configuration = dt.read_in_pipeline(pipeline_file=pipeline_file, pipeline_directory=PIPELINE_DIR)\n",
    "\n",
    "X_train = pd.DataFrame(train_data[smiles_column])\n",
    "# just to get the validataion smiles for model wrapper (vide infra)\n",
    "X_train_cpy = X_train.copy(deep=True)\n",
    "y_train = pd.DataFrame(train_data[target_column])\n",
    "\n",
    "include_O_removal = False\n",
    "include_Target_Transform = True\n",
    "include_Target_Binarization = False\n",
    "\n",
    "pipeline_train = dt.create_pipeline(pipeline_configuration, smiles_column=smiles_column, target_column=target_column)\n",
    "\n",
    "X_train, y_train = dt.create_molecular_features(pipeline=pipeline_train, X=X_train, include_O_removal=include_O_removal, \n",
    "                                                include_Target_Transform=include_Target_Transform, include_Target_Binarization=include_Target_Binarization,\n",
    "                                                y=y_train, smiles_column=smiles_column, target_column=target_column)\n",
    "\n",
    "# An internal split for objective checking\n",
    "X_train, X_train_val, y_train, y_train_val = train_test_split(X_train, y_train, test_size=0.1, random_state=RANDOM_STATE)\n",
    "# For later use witin the wrapper\n",
    "X_train_val_smiles = X_train_cpy.loc[X_train_val.index, :].copy(deep=True)\n",
    "del X_train_cpy"
   ]
  },
  {
   "cell_type": "code",
   "execution_count": null,
   "id": "ed3fb19e",
   "metadata": {},
   "outputs": [],
   "source": [
    "m_r = model_wrapper.M_MLP(prediction_methodology=model_wrapper.Prediction_Methodology.MLP, prediction_type=model_wrapper.Prediction_Type.REGRESSION)\n",
    "data = {\"X_train\": X_train, \"X_train_val\": X_train_val, \"y_train\": y_train, \"y_train_val\": y_train_val}\n",
    "m_r.Data = data"
   ]
  },
  {
   "cell_type": "code",
   "execution_count": null,
   "id": "aa5ceed4",
   "metadata": {},
   "outputs": [],
   "source": [
    "m_r = model_wrapper.M_XGBoost(methodology=\"XGBoost_regression\", prediction_type=model_wrapper.Prediction_Type.REGRESSION)\n",
    "data = {\"X_train\": X_train, \"X_train_val\": X_train_val, \"y_train\": y_train, \"y_train_val\": y_train_val}\n",
    "m_r.Data = data\n",
    "\n",
    "l.info(\"Training set size: \"+str(X_train.shape[0]))\n",
    "aux_data = {\"run_name\": \"test\",\n",
    "           \"n_outer\": 1, \"n_cv\": 4, \"development\": False,\n",
    "           \"goal_function\": \"mse\", \"goal_function_multiplier\": 1.0, \"threshold\": None,\n",
    "           \"track_model\": False, \"experiment\": None, \"comment\": None, \"max_evals\": None}\n",
    "\n",
    "fmin_objective = partial(m_r.F_Opt, aux_data=aux_data)\n",
    "trials = Trials()\n",
    "rstate = np.random.RandomState(random_seed+1)\n",
    "max_evals = 50\n",
    "best_hyperparams = fmin(fn=fmin_objective, space=m_r.Space, algo=tpe.suggest, max_evals=max_evals, \n",
    "                        trials=trials, return_argmin=True, rstate=rstate)"
   ]
  },
  {
   "cell_type": "code",
   "execution_count": null,
   "id": "e9b2005c",
   "metadata": {},
   "outputs": [],
   "source": []
  },
  {
   "cell_type": "code",
   "execution_count": null,
   "id": "130a2a47",
   "metadata": {},
   "outputs": [],
   "source": [
    "if not simple_preprocessing:\n",
    "    from sklearn.impute import KNNImputer\n",
    "    imputer = KNNImputer(n_neighbors=5, weights=\"uniform\")\n",
    "    imputed_data = imputer.fit_transform(molecular_descriptors_cleaned.drop('activity_get_all_levels', axis=1))\n",
    "    imputed_data = pd.DataFrame(imputed_data, index=molecular_descriptors_cleaned.index, \n",
    "                                columns=molecular_descriptors_cleaned.columns[:-1])\n",
    "    molecular_descriptors_imputed = pd.concat([imputed_data, molecular_descriptors_cleaned['activity_get_all_levels']], axis=1)\n",
    "    print(molecular_descriptors_imputed.isna().sum().sum())"
   ]
  },
  {
   "cell_type": "code",
   "execution_count": null,
   "id": "50894d61",
   "metadata": {},
   "outputs": [],
   "source": [
    "if simple_preprocessing:\n",
    "    molecular_descriptors_imputed = molecular_descriptors_cleaned"
   ]
  },
  {
   "cell_type": "markdown",
   "id": "882e0ad8",
   "metadata": {},
   "source": [
    "## Molecular fingerprint"
   ]
  },
  {
   "cell_type": "code",
   "execution_count": null,
   "id": "06501c07",
   "metadata": {},
   "outputs": [],
   "source": [
    "finger_print_size = 1024\n",
    "fps = [Chem.RDKFingerprint(x, fpSize=finger_print_size) for x in mol_objs]\n",
    "\n",
    "fps_bin = []\n",
    "for item in fps: fps_bin.append(DataStructs.BitVectToText(item))\n",
    "    \n",
    "tmp = []\n",
    "for idx in range(len(fps_bin)):\n",
    "    tmp.append([item for item in fps_bin[idx]])\n",
    "    \n",
    "tmp = pd.DataFrame(tmp)\n",
    "tmp = tmp.astype(int)\n",
    "\n",
    "tmp.columns = ['fp_'+str(idx) for idx in range(tmp.shape[1])]\n",
    "tmp = tmp.set_index(molecular_descriptors.index)\n",
    "\n",
    "molecular_descriptors_imputed = pd.concat([molecular_descriptors_imputed, tmp], axis=1)\n",
    "\n",
    "del tmp"
   ]
  },
  {
   "cell_type": "code",
   "execution_count": null,
   "id": "1faad9b5",
   "metadata": {},
   "outputs": [],
   "source": [
    "molecular_descriptors_imputed"
   ]
  },
  {
   "cell_type": "code",
   "execution_count": null,
   "id": "79ec4c07",
   "metadata": {},
   "outputs": [],
   "source": [
    "molecular_descriptors_imputed.shape"
   ]
  },
  {
   "cell_type": "code",
   "execution_count": null,
   "id": "5f872395",
   "metadata": {},
   "outputs": [],
   "source": [
    "fp_col = []\n",
    "for item in molecular_descriptors_imputed.columns:\n",
    "    if item.startswith('fp_'): fp_col.append(item)"
   ]
  },
  {
   "cell_type": "code",
   "execution_count": null,
   "id": "1678f04e",
   "metadata": {},
   "outputs": [],
   "source": [
    "molecular_descriptors_imputed[fp_col].sum(axis=1)"
   ]
  },
  {
   "cell_type": "code",
   "execution_count": null,
   "id": "0ef30e2b",
   "metadata": {},
   "outputs": [],
   "source": [
    "molecular_descriptors_imputed['fpsum'] = molecular_descriptors_imputed[fp_col].sum(axis=1)"
   ]
  },
  {
   "cell_type": "code",
   "execution_count": null,
   "id": "54aa993b",
   "metadata": {},
   "outputs": [],
   "source": [
    "molecular_descriptors_imputed['fpsum'].hist()"
   ]
  },
  {
   "cell_type": "code",
   "execution_count": null,
   "id": "8c2cfc0b",
   "metadata": {},
   "outputs": [],
   "source": [
    "def create_histograms(df, label):\n",
    "    feature_list = df.columns\n",
    "    n_columns = 5\n",
    "    n_rows = int(np.ceil(len(feature_list) / n_columns))\n",
    "    \n",
    "    n_rows_to_size = int(2.2 * n_rows)\n",
    "    fig = plt.figure(figsize=(15, n_rows_to_size))\n",
    "    \n",
    "    for idx, feature in enumerate(feature_list):\n",
    "        plt.subplot(n_rows, n_columns, idx+1)\n",
    "        f = plt.gca()\n",
    "        f.axes.get_yaxis().set_visible(False)\n",
    "        f.set_title(feature)\n",
    "\n",
    "        plt.hist(df[feature], color='#3F5D7D')\n",
    "        plt.grid(True)\n",
    "    fig.suptitle('Set of molecular descriptors, batch: '+str(label), fontsize=16, y=1.00)\n",
    "    plt.tight_layout()\n",
    "    fig.patch.set_facecolor('white')\n",
    "    plt.savefig('molecular_descriptors_histogram_'+str(label)+'.png')\n",
    "    plt.close(fig)"
   ]
  },
  {
   "cell_type": "code",
   "execution_count": null,
   "id": "a7e0eb13",
   "metadata": {},
   "outputs": [],
   "source": [
    "features_all = molecular_descriptors_cleaned.drop([activity_label], axis=1).columns.to_list()\n",
    "features_ohe = ['GhoseFilter', 'Lipinski']\n",
    "features_fp = [item for item in features_all if item.startswith('fp_')]\n",
    "features_scaling = list(set(features_all) - set(features_ohe) - set(features_fp))"
   ]
  },
  {
   "cell_type": "code",
   "execution_count": null,
   "id": "2192d873",
   "metadata": {},
   "outputs": [],
   "source": [
    "not_to_be_plotted"
   ]
  },
  {
   "cell_type": "code",
   "execution_count": null,
   "id": "286b6722",
   "metadata": {},
   "outputs": [],
   "source": [
    "molecular_descriptors_cleaned.drop(not_to_be_plotted, axis=1)"
   ]
  },
  {
   "cell_type": "code",
   "execution_count": null,
   "id": "879a147c",
   "metadata": {},
   "outputs": [],
   "source": [
    "do_plots = True\n",
    "if do_plots:\n",
    "    not_to_be_plotted = features_ohe+features_fp+[activity_label]\n",
    "    to_be_plotted = molecular_descriptors_cleaned.drop(not_to_be_plotted, axis=1)\n",
    "    n_plots_per_batch = 50\n",
    "    n_batches = int(np.ceil(to_be_plotted.shape[1] / n_plots_per_batch))    \n",
    "    for idx in range(n_batches):\n",
    "        n_beg = idx * n_plots_per_batch\n",
    "        n_end = (idx+1) * n_plots_per_batch\n",
    "        create_histograms(to_be_plotted.iloc[:, n_beg:n_end], idx)"
   ]
  },
  {
   "cell_type": "code",
   "execution_count": null,
   "id": "38135e30",
   "metadata": {},
   "outputs": [],
   "source": [
    "molecular_descriptors_cleaned"
   ]
  },
  {
   "cell_type": "code",
   "execution_count": null,
   "id": "9ca64a80",
   "metadata": {},
   "outputs": [],
   "source": [
    "final_data_frame = 'molecular_descriptors_cleaned.parquet'\n",
    "molecular_descriptors_cleaned.to_parquet(final_data_frame, index=True)"
   ]
  },
  {
   "cell_type": "markdown",
   "id": "51022183",
   "metadata": {},
   "source": [
    "## QSAR model"
   ]
  },
  {
   "cell_type": "code",
   "execution_count": null,
   "id": "fb69414f",
   "metadata": {},
   "outputs": [],
   "source": [
    "class DataScaling(BaseEstimator, TransformerMixin):\n",
    "    def __init__(self, scaler, features_all, features_scaling):\n",
    "        logging.info('Scaler constructor...')\n",
    "        self.scaler = scaler\n",
    "        self.features_all = features_all\n",
    "        self.features_scaling = features_scaling\n",
    "        self.features_remaining = list(set(features_all) - set(features_scaling))\n",
    "    \n",
    "    def fit(self, X, y = None):\n",
    "        logging.info('Scaler fit...')\n",
    "        logging.info('I do fit a scaler')\n",
    "\n",
    "        self.scaler.fit(X[self.features_scaling])\n",
    "        return self\n",
    "    \n",
    "    def transform(self, X, y = None):\n",
    "        logging.info('Scaler transform...')\n",
    "\n",
    "        scaled_data = self.scaler.transform(X[self.features_scaling])\n",
    "        scaled_data = pd.DataFrame(scaled_data, columns=self.features_scaling, index=X.index)\n",
    "        entire_data = pd.concat([scaled_data, X[self.features_remaining]], axis=1)\n",
    "        all_features = sorted(entire_data.columns.tolist())\n",
    "        return entire_data[all_features]\n",
    "    \n",
    "    @property\n",
    "    def get_scaler(self):\n",
    "        return self.scaler"
   ]
  },
  {
   "cell_type": "code",
   "execution_count": null,
   "id": "373acbad",
   "metadata": {},
   "outputs": [],
   "source": [
    "class DataOHE(BaseEstimator, TransformerMixin):\n",
    "    def __init__(self, features_all, features_ohe):\n",
    "        self.features_ohe = features_ohe\n",
    "        self.features_remaining = list(set(features_all) - set(features_ohe))\n",
    "        self.ohe = OneHotEncoder()\n",
    "    \n",
    "    def fit(self, X, y=None):\n",
    "        OHE_to_be_fit = X[self.features_ohe]\n",
    "        self.ohe.fit(OHE_to_be_fit)\n",
    "        return self\n",
    "    \n",
    "    def transform(self, X, y=None):\n",
    "        logging.info('Entering transform')\n",
    "        oheFeatures = self.ohe.transform(X[self.features_ohe]).toarray()\n",
    "        entire_data = pd.concat([X[self.features_remaining], \n",
    "                                pd.DataFrame(oheFeatures, index=X.index, columns=self.ohe.get_feature_names())], \n",
    "                                axis=1)\n",
    "        all_features = sorted(entire_data.columns.tolist())\n",
    "        return entire_data[all_features]\n",
    "\n",
    "    @property\n",
    "    def get_ohe(self):\n",
    "        return self.ohe\n",
    "    \n",
    "    @property\n",
    "    def feature_names(self):\n",
    "        return self.ohe.get_feature_names()"
   ]
  },
  {
   "cell_type": "code",
   "execution_count": null,
   "id": "bf8ae6dd",
   "metadata": {},
   "outputs": [],
   "source": [
    "class DataPCA(BaseEstimator, TransformerMixin):\n",
    "    def __init__(self, n_percent, n_components, random_seed, retain_native, features, label):\n",
    "        self.n_percent = n_percent\n",
    "        self.n_components = n_components\n",
    "        self.random_seed = random_seed\n",
    "        self.retain_native = retain_native\n",
    "        self.features = features\n",
    "        self.label = label\n",
    "        \n",
    "    def fit(self, X, y=None):\n",
    "        logging.info('Fitting PCA')        \n",
    "        self._pca = self._fit_PCA(X)\n",
    "        return self\n",
    "        \n",
    "    def _fit_PCA(self, X):\n",
    "        pca = PCA(n_components=self.n_components, random_seed=self.random_seed)\n",
    "        return pca.fit(X[self.features])\n",
    "        \n",
    "    def transform(self, X, y=None):\n",
    "        logging.info('Transforming PCA')\n",
    "        pca_transformed = self._transform_PCA(X[self.features])\n",
    "        \n",
    "        if self.retain_native:\n",
    "            return pd.concat([pca_transformed, X], axis=1)\n",
    "        else:\n",
    "            return pca_transformed\n",
    "        \n",
    "    def _transform_PCA(self, X):\n",
    "        if self.n_percent is not None:\n",
    "            pca_cum = self._pca.explained_variance_ratio_.cumsum()\n",
    "            pca_n = (pca_cum < self.n_percent).sum()\n",
    "            print('!!! ', pca_n, pca_cum)\n",
    "        else:\n",
    "            pca_n = self.n_components\n",
    "                \n",
    "        pca_transformed = self._pca.transform(X[self.features])\n",
    "        pca_transformed = pd.DataFrame(data=pca_transformed[:, :pca_n], index = X.index, \n",
    "                                       columns=[self.label+'-pca_'+str(iii) for iii in range(pca_n)])\n",
    "        return pca_transformed\n",
    "    \n",
    "    @property\n",
    "    def pca(self):\n",
    "        return self._pca"
   ]
  },
  {
   "cell_type": "code",
   "execution_count": null,
   "id": "76146adc",
   "metadata": {},
   "outputs": [],
   "source": [
    "steps = []\n",
    "scaler = StandardScaler()\n",
    "\n",
    "steps.append(('Scaling', DataScaling(scaler, features_all, features_scaling)))\n",
    "steps.append(('One-hot encoding', DataOHE(features_all, features_ohe)))\n",
    "\n",
    "pipeline = Pipeline(steps=steps)"
   ]
  },
  {
   "cell_type": "code",
   "execution_count": null,
   "id": "176af4dd",
   "metadata": {},
   "outputs": [],
   "source": [
    "pipeline.fit(molecular_descriptors_cleaned)\n",
    "molecular_descriptors_transformed = pipeline.transform(molecular_descriptors_cleaned)"
   ]
  },
  {
   "cell_type": "code",
   "execution_count": null,
   "id": "2ac14430",
   "metadata": {},
   "outputs": [],
   "source": [
    "molecular_descriptors_transformed"
   ]
  },
  {
   "cell_type": "code",
   "execution_count": null,
   "id": "156870fd",
   "metadata": {},
   "outputs": [],
   "source": [
    "molecular_descriptors_cleaned.shape"
   ]
  },
  {
   "cell_type": "code",
   "execution_count": null,
   "id": "ce4c7b53",
   "metadata": {},
   "outputs": [],
   "source": [
    "set(molecular_descriptors_transformed.columns.tolist()) - set(molecular_descriptors_cleaned.columns.tolist())"
   ]
  },
  {
   "cell_type": "code",
   "execution_count": null,
   "id": "dc5f7ef5",
   "metadata": {},
   "outputs": [],
   "source": [
    "set(molecular_descriptors_cleaned.columns.tolist()) - set(molecular_descriptors_transformed.columns.tolist())"
   ]
  },
  {
   "cell_type": "markdown",
   "id": "f5f17587",
   "metadata": {},
   "source": [
    "## TBD - include PCA in pipeline"
   ]
  },
  {
   "cell_type": "code",
   "execution_count": null,
   "id": "fced0bff",
   "metadata": {},
   "outputs": [],
   "source": [
    "pca = DataPCA(None, 100, 42, False, features_no_categorical, 'transformed')"
   ]
  },
  {
   "cell_type": "code",
   "execution_count": null,
   "id": "a6ed5d16",
   "metadata": {},
   "outputs": [],
   "source": [
    "pca.fit(molecular_descriptors_cleaned)"
   ]
  },
  {
   "cell_type": "code",
   "execution_count": null,
   "id": "3727c185",
   "metadata": {},
   "outputs": [],
   "source": [
    "pca.transform(molecular_descriptors_cleaned, 'pca')"
   ]
  },
  {
   "cell_type": "code",
   "execution_count": null,
   "id": "3e10dd7f",
   "metadata": {},
   "outputs": [],
   "source": [
    "pca.pca.explained_variance_ratio_"
   ]
  },
  {
   "cell_type": "markdown",
   "id": "0ba42aaf",
   "metadata": {},
   "source": [
    "## TBD - include PCA in pipeline"
   ]
  },
  {
   "cell_type": "code",
   "execution_count": null,
   "id": "15de3b1a",
   "metadata": {},
   "outputs": [],
   "source": [
    "X = molecular_descriptors_transformed\n",
    "y = data_aggregated.loc[molecular_descriptors_cleaned.index, 'activity']"
   ]
  },
  {
   "cell_type": "code",
   "execution_count": null,
   "id": "ad1c129f",
   "metadata": {},
   "outputs": [],
   "source": [
    "X_train, X_test, y_train, y_test = train_test_split(X, y, test_size=0.2, shuffle=True, random_state=random_seed)"
   ]
  },
  {
   "cell_type": "markdown",
   "id": "93ec6a5f",
   "metadata": {},
   "source": [
    "* Feature selection - remove features (columns) with low variance"
   ]
  },
  {
   "cell_type": "code",
   "execution_count": null,
   "id": "9ba0f676",
   "metadata": {},
   "outputs": [],
   "source": [
    "labels_to_bool = {'active': True, 'inactive':False}\n",
    "labels_to_numbers = {'active': 1, 'inactive':0}"
   ]
  },
  {
   "cell_type": "code",
   "execution_count": null,
   "id": "91bf685b",
   "metadata": {},
   "outputs": [],
   "source": [
    "experiment = 'RORgamma_homo_sapiens_xgboost'\n",
    "set_up_mlflow(experiment)"
   ]
  },
  {
   "cell_type": "code",
   "execution_count": null,
   "id": "06243dbd",
   "metadata": {},
   "outputs": [],
   "source": [
    "def do_xgboost(X_train, X_test, y_train, y_test, run_name, register_model, goal_function, **kwargs):\n",
    "    with mlflow.start_run(run_name=run_name):\n",
    "        \n",
    "        #take stuff from kwargs\n",
    "        if 'n_estimators' in kwargs.keys():\n",
    "            n_estimators = kwargs['n_estimators']\n",
    "        else:\n",
    "            n_estimators = 20\n",
    "\n",
    "        if 'max_depth' in kwargs.keys():\n",
    "            max_depth = kwargs['max_depth']\n",
    "        else:\n",
    "            max_depth = 20\n",
    "            \n",
    "        if 'min_child_weight' in kwargs.keys():\n",
    "            min_child_weight = kwargs['min_child_weight']\n",
    "        else:\n",
    "            min_child_weight = 1\n",
    "            \n",
    "        if 'eta' in kwargs.keys():\n",
    "            eta = kwargs['eta']\n",
    "        else:\n",
    "            eta = 0.3\n",
    "\n",
    "        if 'subsample' in kwargs.keys():\n",
    "            subsample = kwargs['subsample']\n",
    "        else:\n",
    "            subsample = 0.3\n",
    "            \n",
    "        if 'colsample_bytree' in kwargs.keys():\n",
    "            colsample_bytree = kwargs['colsample_bytree']\n",
    "        else:\n",
    "            colsample_bytree = 1\n",
    "            \n",
    "        if 'gamma' in kwargs.keys():\n",
    "            gamma = kwargs['gamma']\n",
    "        else:\n",
    "            gamma = 0.0\n",
    "\n",
    "        if 'vt_threshold' in kwargs.keys():\n",
    "            vt_threshold = kwargs['vt_threshold']\n",
    "        else:\n",
    "            vt_threshold = 0.5\n",
    "        \n",
    "        if 'reg_alpha' in kwargs.keys():\n",
    "            reg_alpha = kwargs['reg_alpha']\n",
    "        else:\n",
    "            reg_alpha = 0\n",
    "            \n",
    "        if 'reg_lambda' in kwargs.keys():\n",
    "            reg_lambda = kwargs['reg_lambda']\n",
    "        else:\n",
    "            reg_lambda = 1\n",
    "            \n",
    "        if 'objective' in kwargs.keys():\n",
    "            objective = kwargs['objective']\n",
    "        else:\n",
    "            objective = 'reg:logistic'\n",
    "\n",
    "\n",
    "\n",
    "        mlflow.log_param('n_estimators', n_estimators)\n",
    "        mlflow.log_param('max_depth', max_depth)\n",
    "        mlflow.log_param('min_child_weight', min_child_weight)\n",
    "        mlflow.log_param('eta', eta)\n",
    "        mlflow.log_param('subsample', subsample)\n",
    "        mlflow.log_param('colsample_bytree', colsample_bytree)\n",
    "        mlflow.log_param('gamma', gamma)\n",
    "        mlflow.log_param('reg_alpha', reg_alpha)\n",
    "        mlflow.log_param('reg_lambda', reg_lambda)\n",
    "        mlflow.log_param('vt_threshold', vt_threshold)\n",
    "        \n",
    "        mlflow.log_param('objective', objective)\n",
    "        \n",
    "        \n",
    "        \n",
    "        vt = VarianceThreshold(threshold=vt_threshold)\n",
    "        _ = vt.fit_transform(X_train)\n",
    "        feature_subset = X_train.columns[vt.get_support()]\n",
    "\n",
    "        X_train_sub = X_train[feature_subset]\n",
    "        X_test_sub = X_test[feature_subset]\n",
    "\n",
    "        # train\n",
    "        classifier = XGBClassifier(max_depth=max_depth, n_estimators=n_estimators, min_child_weight=min_child_weight,\n",
    "                                   subsample=subsample, colsample_bytree=colsample_bytree, eta=eta,\n",
    "                                   gamma=gamma, reg_alpha=reg_alpha, reg_lambda=reg_lambda,\n",
    "                                   objective=objective)\n",
    "        \n",
    "        classifier.fit(X_train_sub, y_train)\n",
    "        \n",
    "        y_pred = classifier.predict(X_test_sub)        \n",
    "        \n",
    "        precision = precision_score(y_test, y_pred, pos_label=\"active\")\n",
    "        recall = recall_score(y_test, y_pred, pos_label=\"active\")\n",
    "        \n",
    "        mlflow.log_metric('precision', precision)\n",
    "        mlflow.log_metric('recall', recall)\n",
    "        \n",
    "        y_pred_proba = classifier.predict_proba(X_test_sub)\n",
    "        average_precision = average_precision_score(y_test, y_pred_proba[:, 0], pos_label=\"active\")\n",
    "        mlflow.log_metric('average_precision', average_precision)\n",
    "\n",
    "        #signature = infer_signature(X_train, classifier.predict(X_train))\n",
    "        if register_model:\n",
    "            mlflow.xgboost.log_model(classifier.get_booster(), 'model')\n",
    "\n",
    "        mlflow.log_param('n_features', len(feature_subset))\n",
    "\n",
    "        auxiliary_information = {}\n",
    "        auxiliary_information['features'] = feature_subset.tolist()\n",
    "        auxiliary_information['goal_function'] = goal_function\n",
    "        #auxiliary_information['X_test'] = X_test_sub.to_json()\n",
    "        #auxiliary_information['y_test'] = y_test.to_json()\n",
    "\n",
    "        mlflow.log_dict(auxiliary_information, 'auxiliary_information')\n",
    "        \n",
    "        \n",
    "        if goal_function == 'precision':\n",
    "            goal = precision\n",
    "        elif goal_function == 'recall':\n",
    "            goal = recall\n",
    "        elif goal_function == 'average_precision':\n",
    "            goal = average_precision\n",
    "        \n",
    "        return classifier, feature_subset, goal"
   ]
  },
  {
   "cell_type": "code",
   "execution_count": null,
   "id": "6e352b33",
   "metadata": {},
   "outputs": [],
   "source": [
    "def do_logistic_regression(X_train, X_test, y_train, y_test, run_name):\n",
    "    with mlflow.start_run(run_name=run_name):\n",
    "        lr = LogisticRegression()\n",
    "        lr.fit(X_train, y_train.replace(labels_to_numbers))\n",
    "        y_pred = lr.predict(X_test)\n",
    "\n",
    "        cm = confusion_matrix(y_test.replace(labels_to_numbers), y_pred)\n",
    "        precision = precision_score(y_test.replace(labels_to_numbers), y_pred)\n",
    "        recall = recall_score(y_test.replace(labels_to_numbers), y_pred)\n",
    "        mlflow.log_metric('precision', precision)\n",
    "        mlflow.log_metric('recall', recall)\n",
    "        "
   ]
  },
  {
   "cell_type": "code",
   "execution_count": null,
   "id": "72e1ef25",
   "metadata": {},
   "outputs": [],
   "source": [
    "do_logistic_regression(X_train, X_test, y_train, y_test, 'logistic regression')"
   ]
  },
  {
   "cell_type": "code",
   "execution_count": null,
   "id": "46607aae",
   "metadata": {},
   "outputs": [],
   "source": [
    "X_train, X_test, y_train, y_test = train_test_split(X, y, test_size=0.2, shuffle=True, random_state=random_seed)\n",
    "\n",
    "br = BayesianRidge()\n",
    "br.fit(X_train, y_train.replace(labels_to_numbers))\n",
    "y_pred = br.predict(X_test)\n",
    "threshold = 0.5\n",
    "y_bool = y_pred > threshold \n",
    "cm = confusion_matrix(y_test.replace(labels_to_bool), y_bool)\n",
    "print(cm)\n",
    "print('precision: '+str(precision_score(y_test.replace(labels_to_bool), y_bool)))\n",
    "print('recall: '+str(recall_score(y_test.replace(labels_to_bool), y_bool)))\n",
    "print('average precision: '+str(average_precision_score(y_test.replace(labels_to_bool), y_bool)))"
   ]
  },
  {
   "cell_type": "code",
   "execution_count": null,
   "id": "575f860f",
   "metadata": {},
   "outputs": [],
   "source": [
    "X_train, X_test, y_train, y_test = train_test_split(X, y, test_size=0.2, shuffle=True, random_state=random_seed)\n",
    "\n",
    "rc = RidgeClassifier(alpha=2.0)\n",
    "rc.fit(X_train, y_train.replace(labels_to_numbers))\n",
    "y_pred = rc.predict(X_test)\n",
    "threshold = 0.5\n",
    "y_bool = y_pred > threshold \n",
    "cm = confusion_matrix(y_test.replace(labels_to_bool), y_bool)\n",
    "print(cm)\n",
    "print('precision: '+str(precision_score(y_test.replace(labels_to_bool), y_bool)))\n",
    "print('recall: '+str(recall_score(y_test.replace(labels_to_bool), y_bool)))\n",
    "print('average precision: '+str(average_precision_score(y_test.replace(labels_to_bool), y_bool)))"
   ]
  },
  {
   "cell_type": "code",
   "execution_count": null,
   "id": "84236dbe",
   "metadata": {},
   "outputs": [],
   "source": [
    "X_train, X_test, y_train, y_test = train_test_split(X, y, test_size=0.2, shuffle=True, random_state=random_seed)\n",
    "\n",
    "rccv = RidgeClassifierCV()\n",
    "rccv.fit(X_train, y_train.replace(labels_to_numbers))\n",
    "y_pred = rccv.predict(X_test)\n",
    "threshold = 0.5\n",
    "y_bool = y_pred > threshold \n",
    "cm = confusion_matrix(y_test.replace(labels_to_bool), y_bool)\n",
    "print(cm)\n",
    "print('precision: '+str(precision_score(y_test.replace(labels_to_bool), y_bool)))\n",
    "print('recall: '+str(recall_score(y_test.replace(labels_to_bool), y_bool)))\n",
    "print('average precision: '+str(average_precision_score(y_test.replace(labels_to_bool), y_bool)))"
   ]
  },
  {
   "cell_type": "markdown",
   "id": "8049d891",
   "metadata": {},
   "source": [
    "## Hyperparameters tuning"
   ]
  },
  {
   "cell_type": "code",
   "execution_count": null,
   "id": "9d58062e",
   "metadata": {},
   "outputs": [],
   "source": [
    "space={'max_depth': hp.quniform('max_depth', 3, 18, 1),\n",
    "       'gamma': hp.uniform('gamma', 0, 9),\n",
    "       'reg_alpha' : hp.uniform('reg_alpha', 0, 2),\n",
    "       'reg_lambda' : hp.uniform('reg_lambda', 0, 2),\n",
    "       'colsample_bytree' : hp.uniform('colsample_bytree', 0.6, 1.0),\n",
    "       'min_child_weight' : hp.uniform('min_child_weight', 0, 10),\n",
    "       'vt_threshold': hp.uniform('vt_threshold', 0, 1),\n",
    "       'n_estimators': hp.quniform('n_estimators', 100, 180, 1),\n",
    "       'eta': hp.uniform('eta', 0.05, 1.0),\n",
    "       'subsample': hp.uniform('subsample', 0.0, 1.0),\n",
    "       'seed': 0\n",
    "       }"
   ]
  },
  {
   "cell_type": "code",
   "execution_count": null,
   "id": "3c221434",
   "metadata": {},
   "outputs": [],
   "source": [
    "def objective(space):\n",
    "    register_model = False\n",
    "    goal_function = 'precision'\n",
    "    \n",
    "    max_depth = int(space['max_depth'])\n",
    "    gamma = space['gamma']\n",
    "    min_child_weight=int(space['min_child_weight'])\n",
    "    colsample_bytree=space['colsample_bytree']\n",
    "    vt_threshold=space['vt_threshold']\n",
    "    n_estimators=int(space['n_estimators'])\n",
    "    eta=space['eta']\n",
    "    \n",
    "    reg_alpha = space['reg_alpha']\n",
    "    reg_lambda = space['reg_lambda']\n",
    "    subsample = space['subsample']\n",
    "    \n",
    "    _, _, goal_function = do_xgboost(X_train, X_test, y_train, y_test, 'xgboost', register_model=register_model, \n",
    "                                     goal_function=goal_function,\n",
    "                                     gamma=gamma, min_child_weight=min_child_weight, colsample_bytree=colsample_bytree, \n",
    "                                     vt_threshold=vt_threshold, n_estimators=n_estimators, eta=eta, \n",
    "                                     max_depth=max_depth, reg_alpha=reg_alpha, reg_lambda=reg_lambda,\n",
    "                                     subsample=subsample)\n",
    "    return {'loss': -goal_function, 'status': STATUS_OK }"
   ]
  },
  {
   "cell_type": "code",
   "execution_count": null,
   "id": "487b0887",
   "metadata": {},
   "outputs": [],
   "source": [
    "trials = Trials()\n",
    "best_hyperparams = fmin(fn=objective, space=space, algo=tpe.suggest, max_evals=50, \n",
    "                        trials=trials, return_argmin=True)"
   ]
  },
  {
   "cell_type": "code",
   "execution_count": null,
   "id": "80edd384",
   "metadata": {},
   "outputs": [],
   "source": [
    "best_hyperparams['max_depth'] = int(best_hyperparams['max_depth'])\n",
    "best_hyperparams['min_child_weight'] = int(best_hyperparams['min_child_weight'])\n",
    "best_hyperparams['n_estimators'] = int(best_hyperparams['n_estimators'])"
   ]
  },
  {
   "cell_type": "code",
   "execution_count": null,
   "id": "e179d230",
   "metadata": {},
   "outputs": [],
   "source": [
    "best_hyperparams"
   ]
  },
  {
   "cell_type": "code",
   "execution_count": null,
   "id": "763d7c30",
   "metadata": {},
   "outputs": [],
   "source": [
    "goal_function = 'precision'\n",
    "model_classifier, feature_subset, goal = do_xgboost(X_train, X_test, y_train, y_test, \n",
    "                                                    'optimized towards precision', True,  goal_function, **best_hyperparams)"
   ]
  },
  {
   "cell_type": "code",
   "execution_count": null,
   "id": "6cd0ca47",
   "metadata": {},
   "outputs": [],
   "source": [
    "y_pred = model_classifier.predict_proba(X_test[feature_subset])\n",
    "print('average precision: '+str(average_precision_score(y_test, y_pred[:, 0], pos_label=\"active\")))"
   ]
  },
  {
   "cell_type": "code",
   "execution_count": null,
   "id": "e53fa072",
   "metadata": {},
   "outputs": [],
   "source": [
    "y_pred = model_classifier.predict(X_test[feature_subset])\n",
    "print('recall: '+str(recall_score(y_test, y_pred, pos_label=\"active\")))\n",
    "print('precision: '+str(precision_score(y_test, y_pred, pos_label=\"active\")))\n",
    "print('accuracy: '+str(accuracy_score(y_test, y_pred)))"
   ]
  },
  {
   "cell_type": "code",
   "execution_count": null,
   "id": "57052478",
   "metadata": {},
   "outputs": [],
   "source": [
    "confusion_matrix(y_test, y_pred)"
   ]
  },
  {
   "cell_type": "markdown",
   "id": "fb9b6b22",
   "metadata": {},
   "source": [
    "## Store the model on file"
   ]
  },
  {
   "cell_type": "code",
   "execution_count": null,
   "id": "b0343738",
   "metadata": {},
   "outputs": [],
   "source": [
    "predictive_model = {}\n",
    "predictive_model['model'] = model_classifier\n",
    "predictive_model['feature_subset'] = feature_subset\n",
    "predictive_model['description'] = 'The model optimized towards the best recall (20210726).'"
   ]
  },
  {
   "cell_type": "code",
   "execution_count": null,
   "id": "b5077fcf",
   "metadata": {},
   "outputs": [],
   "source": [
    "with open('activity_prediction_20210726_r.pickle', 'wb') as f:\n",
    "    pickle.dump(predictive_model, f)"
   ]
  },
  {
   "cell_type": "code",
   "execution_count": null,
   "id": "28254c9d",
   "metadata": {},
   "outputs": [],
   "source": [
    "with open('activity_prediction_20210718.pickle', 'rb') as f:\n",
    "    model_reloaded = pickle.load(f)"
   ]
  },
  {
   "cell_type": "code",
   "execution_count": null,
   "id": "1a746878",
   "metadata": {},
   "outputs": [],
   "source": [
    "#average_precision_score(y_test, y_pred, pos_label=\"active\")"
   ]
  },
  {
   "cell_type": "code",
   "execution_count": null,
   "id": "ac292dea",
   "metadata": {},
   "outputs": [],
   "source": [
    "def predict_activity(classifier, smiles):\n",
    "    features = classifier.get_booster().feature_names\n",
    "    mols = [Chem.MolFromSmiles(item) for item in smiles]\n",
    "    calc = Calculator(descriptors, ignore_3D=True)\n",
    "    molecular_descriptors = calc.pandas(mols)\n",
    "    molecular_descriptors = molecular_descriptors[features]\n",
    "    proba_prediction = classifier.predict_proba(molecular_descriptors)\n",
    "    binary_prediction = classifier.predict(molecular_descriptors)\n",
    "    return binary_prediction, proba_prediction"
   ]
  },
  {
   "cell_type": "code",
   "execution_count": null,
   "id": "9c12f417",
   "metadata": {},
   "outputs": [],
   "source": [
    "smiles = ['C[C@@H]1[C@H]2C3=CC[C@@H]4[C@@]5(C)C[C@@H](O)[C@H](O)[C@@](C)(CO)[C@@H]5CC[C@@]4(C)[C@]3(C)CC[C@@]2(C(=O)O)CC[C@H]1C',\n",
    "         'C[C@@H]1[C@H]2C3=CC[C@@H]4[C@@]5(C)CC[C@H](O)C(C)(C)[C@@H]5CC[C@@]4(C)[C@]3(C)CC[C@@]2(C(=O)O)CC[C@H]1C',\n",
    "         'CC1CCC2(CCC3(C(=CCC4C3(CCC5C4(CC(C(C5(C)C)O)O)C)C)C2C1C)C)C(=O)O',\n",
    "         'CC1(CCC2(CCC3(C(=CCC4C3(CCC5C4(CC(C(C5(C)C)O)O)C)C)C2C1)C)C(=O)O)C']\n",
    "#smiles = 'COc1cc(C2NC(=O)NC(C)=C2C(=O)OCCSC)ccc1OCc1ccccc1'\n",
    "binary_prediction, proba_prediction = predict_activity(classifier, smiles)"
   ]
  },
  {
   "cell_type": "code",
   "execution_count": null,
   "id": "a610ad67",
   "metadata": {},
   "outputs": [],
   "source": [
    "smiles = ['CCCCC']\n",
    "#smiles = 'COc1cc(C2NC(=O)NC(C)=C2C(=O)OCCSC)ccc1OCc1ccccc1'\n",
    "binary_prediction, proba_prediction = predict_activity(classifier, smiles)"
   ]
  },
  {
   "cell_type": "markdown",
   "id": "3838f637",
   "metadata": {},
   "source": [
    "### Kwestie do przegadania\n",
    "* Dane z komórek mysich - jak połączyć dane IC50 i Potency?\n",
    "* Czy ma sens wypracowanie modelu łączącego dane z komórek ludzkich i mysich?\n",
    "* Czy wartość progowa na poziomie 1000 nM jest sensowną propozycją rozgraniczającą układy aktywne i nieaktywne biologicznie?\n"
   ]
  },
  {
   "cell_type": "code",
   "execution_count": null,
   "id": "ebf17c78",
   "metadata": {},
   "outputs": [],
   "source": [
    "from tensorflow.keras.models import Sequential\n",
    "from tensorflow.keras.layers import Dense, Activation, InputLayer\n",
    "from tensorflow.keras.callbacks import ReduceLROnPlateau, EarlyStopping, ModelCheckpoint\n",
    "from tensorflow.keras.regularizers import l1, l2, l1_l2\n",
    "from tensorflow.keras.utils import plot_model\n",
    "from tensorflow import keras\n",
    "import tensorflow.keras.metrics as metrics\n",
    "import tensorflow as tf\n",
    "import random as rn"
   ]
  },
  {
   "cell_type": "code",
   "execution_count": null,
   "id": "e0c3575f",
   "metadata": {},
   "outputs": [],
   "source": [
    "def create_precision_recall_plot(y_test, y_pred):\n",
    "    a, b, _ = precision_recall_curve(y_test, y_pred)\n",
    "    plt.plot(b, a)\n",
    "    plt.grid()\n",
    "    plt.fill_between(b, 0, a, alpha=0.5)\n",
    "    props = dict(boxstyle='round', facecolor='wheat', alpha=0.5)\n",
    "    rocauc = roc_auc_score(y_test, y_pred)\n",
    "    apauc = average_precision_score(y_test, y_pred)\n",
    "    plt.text(0.15, 0.7, \"ROCAUC = \" + \"{0:.3f}\".format(roc_auc_score(y_test, y_pred)), fontsize=14,\n",
    "             verticalalignment='top', bbox=props)\n",
    "    plt.text(0.15, 0.55, \"AP = \" + \"{0:.3f}\".format(average_precision_score(y_test, y_pred)), fontsize=14,\n",
    "             verticalalignment='top', bbox=props)\n",
    "    plt.title(\"PT prediction\")\n",
    "    plt.xlabel('Recall')\n",
    "    plt.ylabel('Precision')\n",
    "    #plt.savefig(file_name.absolute().as_posix())\n",
    "    return plt.figure#, file_name.absolute().as_posix()"
   ]
  },
  {
   "cell_type": "code",
   "execution_count": null,
   "id": "312947ac",
   "metadata": {},
   "outputs": [],
   "source": [
    "def create_mlp_model(mlp_architecture, n_features, activation, regularization_weight, optimizer='Adam'):\n",
    "    model = Sequential(name='mlp_model')\n",
    "    model.add(InputLayer(input_shape=(n_features,), name='input_layer'))\n",
    "    for idx, dim in enumerate(mlp_architecture):\n",
    "        model.add(Dense(dim, activation=activation, activity_regularizer=l1_l2(l1=regularization_weight,\n",
    "                                                                               l2=regularization_weight), \n",
    "                        name='dense_'+str(idx)))\n",
    "    model.add(Dense(1, activation='sigmoid', name='output_layer'))\n",
    "    \n",
    "    #bc = metrics.BinaryCrossentropy(name='binary_crossentropy', dtype=None, from_logits=False, label_smoothing=0)\n",
    "    \n",
    "    mtrcs = ['accuracy']#, bc]\n",
    "    if optimizer == 'Adam':\n",
    "        o = keras.optimizers.Adam()\n",
    "    elif optimizer == 'SGD':\n",
    "        o = keras.optimizers.SGD()\n",
    "    elif optimizer == 'RMSprop':\n",
    "        o = keras.optimizers.RMSprop()\n",
    "    elif optimizer == 'Adagrad':\n",
    "        o = keras.optimizers.Adagrad()\n",
    "    elif optimizer == 'Adadelta':\n",
    "        o = keras.optimizers.Adadelta()\n",
    "    elif optimizer == 'Adamax':\n",
    "        o = keras.optimizers.Adamax()\n",
    "    elif optimizer == 'Nadam':\n",
    "        o = keras.optimizers.Nadam()\n",
    "    \n",
    "    model.compile(optimizer=o, loss='binary_crossentropy', metrics=mtrcs)\n",
    "    return model"
   ]
  },
  {
   "cell_type": "code",
   "execution_count": null,
   "id": "0c06c58c",
   "metadata": {},
   "outputs": [],
   "source": [
    "mlp_architecture = [16, 8]\n",
    "n_features = X_train.shape[1]\n",
    "activation = 'relu'\n",
    "model = create_mlp_model(mlp_architecture, n_features, activation)"
   ]
  },
  {
   "cell_type": "code",
   "execution_count": null,
   "id": "1a0f0c8f",
   "metadata": {},
   "outputs": [],
   "source": [
    "model.summary()"
   ]
  },
  {
   "cell_type": "code",
   "execution_count": null,
   "id": "e1138cee",
   "metadata": {},
   "outputs": [],
   "source": [
    "plot_model(model)"
   ]
  },
  {
   "cell_type": "code",
   "execution_count": null,
   "id": "5209b745",
   "metadata": {},
   "outputs": [],
   "source": [
    "def calculate_model_quality_measues(y, y_pred_proba, threshold, pos_label='active'):\n",
    "    y_pred = pd.DataFrame(y_pred_proba > threshold).replace({True: 'active', False: 'inactive'})\n",
    "    precision = precision_score(y, y_pred, pos_label=\"active\")\n",
    "    recall = recall_score(y, y_pred, pos_label=\"active\")\n",
    "    average_precision = average_precision_score(y, y_pred_proba, pos_label=\"active\")\n",
    "    accuracy = accuracy_score(y, y_pred)\n",
    "    f1 = f1_score(y, y_pred, pos_label=\"active\")\n",
    "    cm = confusion_matrix(y, y_pred)\n",
    "    return precision, recall, average_precision, accuracy, f1, cm"
   ]
  },
  {
   "cell_type": "code",
   "execution_count": null,
   "id": "31c59319",
   "metadata": {},
   "outputs": [],
   "source": [
    "def do_cv_mlp(X, y, run_name, checkpoint_path, n_outer, n_cv, register_model, \n",
    "              development, goal_function, **kwargs):\n",
    "    \n",
    "    if 'mlp_architecture' in kwargs.keys():\n",
    "        mlp_architecture = kwargs['mlp_architecture']\n",
    "    else:\n",
    "        mlp_architecture = [128, 64, 32]\n",
    "        \n",
    "    if 'activation' in kwargs.keys():\n",
    "        activation = kwargs['activation']\n",
    "    else:\n",
    "        activation = 'relu' \n",
    "        \n",
    "    if 'batch_size' in kwargs.keys():\n",
    "        batch_size = kwargs['batch_size']\n",
    "    else:\n",
    "        batch_size = 32  \n",
    "\n",
    "    if 'optimizer' in kwargs.keys():\n",
    "        optimizer = kwargs['optimizer']\n",
    "    else:\n",
    "        optimizer = 'Adam'\n",
    "\n",
    "    initialize_seeds(random_seed)\n",
    "\n",
    "    n_features = X.shape[1]\n",
    "    regularization_weight = 0.075\n",
    "    \n",
    "    y_pred_final = np.zeros_like(y)\n",
    "    for i_outer in range(n_outer):\n",
    "        \n",
    "        kf = KFold(n_splits=n_cv, random_state=random_seed+i_outer, shuffle=True)\n",
    "        y_pred_proba = np.zeros_like(y)\n",
    "        for n, (train_idx, test_idx) in enumerate(kf.split(molecular_descriptors_transformed)):\n",
    "            print(i_outer, n, train_idx.sum())\n",
    "\n",
    "            X_train = X.iloc[train_idx, :]\n",
    "            X_test = X.iloc[test_idx,:]\n",
    "            y_train = y.iloc[train_idx]\n",
    "            y_test = y.iloc[test_idx]\n",
    "\n",
    "            \n",
    "            #vt = VarianceThreshold(threshold=vt_threshold)\n",
    "            #_ = vt.fit_transform(X_train)\n",
    "            #feature_subset = X_train.columns[vt.get_support()]\n",
    "\n",
    "            #X_train_sub = X_train[feature_subset]\n",
    "            #X_test_sub = X_test[feature_subset]\n",
    "            \n",
    "            model = create_mlp_model(mlp_architecture, n_features, activation, regularization_weight)\n",
    "\n",
    "            val_fraction = 0.1\n",
    "            val_dim = np.round(val_fraction * X_train.shape[0], 0).astype(np.int16)\n",
    "            X_val = X_train.iloc[:val_dim, :]\n",
    "            y_val = y_train[:val_dim]\n",
    "            X_train_ = X_train.iloc[val_dim:, :]\n",
    "            y_train_ = y_train[val_dim:]\n",
    "\n",
    "            reduce_lr = ReduceLROnPlateau(monitor='val_loss', factor=0.1, patience=5, min_lr=0.0001)\n",
    "            early_stopping = EarlyStopping(monitor='val_loss', mode='auto', patience=10, verbose=10, min_delta=0.0)\n",
    "            model_checkpoint = ModelCheckpoint(checkpoint_path, monitor='val_loss', verbose=10, \n",
    "                                               save_best_only=True, save_weights_only=True, mode ='min')\n",
    "\n",
    "            callbacks = [reduce_lr, early_stopping, model_checkpoint]\n",
    "\n",
    "            history = model.fit(X_train_, y_train_.replace(labels_to_numbers), epochs=1024, batch_size=batch_size,\n",
    "                      validation_data=(X_val, y_val.replace(labels_to_numbers)), callbacks=callbacks, verbose=0)\n",
    "\n",
    "            model.load_weights(checkpoint_path)\n",
    "            y_pred_proba[test_idx] = model.predict(X_test).flatten()\n",
    "            \n",
    "        y_pred_final += y_pred_proba\n",
    "            \n",
    "    y_pred_final /= n_outer\n",
    "        \n",
    "    threshold = 0.50\n",
    "    precision, recall, average_precision, accuracy, f1, cm = calculate_model_quality_measues(y, y_pred_final, threshold)\n",
    "    \n",
    "    if goal_function == 'precision':\n",
    "        goal = precision\n",
    "    elif goal_function == 'recall':\n",
    "        goal = recall\n",
    "    elif goal_function == 'average_precision':\n",
    "        goal = average_precision\n",
    "    elif goal_function == 'accuracy':\n",
    "        goal = accuracy\n",
    "\n",
    "    if development:\n",
    "        return y_pred_final\n",
    "    else:\n",
    "        return goal"
   ]
  },
  {
   "cell_type": "code",
   "execution_count": null,
   "id": "01dfb362",
   "metadata": {},
   "outputs": [],
   "source": [
    "def do_mlp(X_train, X_test, y_train, y_test, run_name, checkpoint_path, register_model, \n",
    "           development, goal_function, **kwargs):\n",
    "    \n",
    "    if 'mlp_architecture' in kwargs.keys():\n",
    "        mlp_architecture = kwargs['mlp_architecture']\n",
    "    else:\n",
    "        mlp_architecture = [128, 64, 32]\n",
    "        \n",
    "    if 'activation' in kwargs.keys():\n",
    "        activation = kwargs['activation']\n",
    "    else:\n",
    "        activation = 'relu'\n",
    "        \n",
    "    if 'batch_size' in kwargs.keys():\n",
    "        batch_size = kwargs['batch_size']\n",
    "    else:\n",
    "        batch_size = 32\n",
    "\n",
    "    if 'optimizer' in kwargs.keys():\n",
    "        optimizer = kwargs['optimizer']\n",
    "    else:\n",
    "        optimizer = 'Adam' \n",
    "\n",
    "    initialize_seeds(random_seed)\n",
    "\n",
    "    n_features = X_train.shape[1]\n",
    "    regularization_weight = 0.075\n",
    "    \n",
    "    model = create_mlp_model(mlp_architecture, n_features, activation, regularization_weight)\n",
    "\n",
    "    val_fraction = 0.1\n",
    "    val_dim = np.round(val_fraction * X_train.shape[0], 0).astype(np.int16)\n",
    "    X_val = X_train.iloc[:val_dim, :]\n",
    "    y_val = y_train[:val_dim]\n",
    "    X_train_ = X_train.iloc[val_dim:, :]\n",
    "    y_train_ = y_train[val_dim:]\n",
    "\n",
    "    reduce_lr = ReduceLROnPlateau(monitor='val_loss', factor=0.1, patience=5, min_lr=0.0001)\n",
    "    early_stopping = EarlyStopping(monitor='val_loss', mode='auto', patience=10, verbose=10, min_delta=0.0)\n",
    "    model_checkpoint = ModelCheckpoint(checkpoint_path, monitor='val_loss', verbose=10, \n",
    "                                       save_best_only=True, save_weights_only=True, mode ='min')\n",
    "\n",
    "    callbacks = [reduce_lr, early_stopping, model_checkpoint]\n",
    "\n",
    "    history = model.fit(X_train_, y_train_.replace(labels_to_numbers), epochs=1024, batch_size=batch_size,\n",
    "              validation_data=(X_val, y_val.replace(labels_to_numbers)), callbacks=callbacks, )\n",
    "\n",
    "    model.load_weights(checkpoint_path)\n",
    "\n",
    "    y_pred_proba = model.predict(X_test)\n",
    "    threshold = 0.50\n",
    "    y_pred = pd.DataFrame(y_pred_proba > threshold).replace({True: 'active', False: 'inactive'})\n",
    "\n",
    "    precision = precision_score(y_test, y_pred, pos_label=\"active\")\n",
    "    recall = recall_score(y_test, y_pred, pos_label=\"active\")\n",
    "    average_precision = average_precision_score(y_test, y_pred_proba, pos_label=\"active\")\n",
    "    accuracy = accuracy_score(y_test, y_pred)\n",
    "    f1 = f1_score(y_test, y_pred, pos_label=\"active\")\n",
    "\n",
    "    cm = confusion_matrix(y_test, y_pred)\n",
    "\n",
    "    if goal_function == 'precision':\n",
    "        goal = precision\n",
    "    elif goal_function == 'recall':\n",
    "        goal = recall\n",
    "    elif goal_function == 'average_precision':\n",
    "        goal = average_precision\n",
    "    elif goal_function == 'accuracy':\n",
    "        goal = accuracy\n",
    "\n",
    "    if development:\n",
    "        return precision, recall, average_precision, accuracy, f1, cm, y_test, y_pred_proba, history\n",
    "    else:\n",
    "        return goal"
   ]
  },
  {
   "cell_type": "markdown",
   "id": "9b5f8665",
   "metadata": {},
   "source": [
    "## Single run, no cross-validataion"
   ]
  },
  {
   "cell_type": "code",
   "execution_count": null,
   "id": "851deda8",
   "metadata": {},
   "outputs": [],
   "source": [
    "X_train, X_test, y_train, y_test = train_test_split(X, y, test_size=0.2, shuffle=True, random_state=random_seed)\n",
    "mlp_hyperparameters = {\n",
    "    'mlp_architecture': [64, 32],\n",
    "    'activation': 'selu',\n",
    "    'batch_size': 64\n",
    "}\n",
    "run_name = 'mlp'\n",
    "checkpoint_path = 'mlp_best_model.h5'\n",
    "register_model = False\n",
    "goal_function = 'precision'\n",
    "y_pred_proba = do_mlp(X_train, X_test, y_train, y_test, run_name, checkpoint_path, register_model, goal_function, \n",
    "                      **mlp_hyperparameters)"
   ]
  },
  {
   "cell_type": "code",
   "execution_count": null,
   "id": "6492dd91",
   "metadata": {},
   "outputs": [],
   "source": [
    "create_precision_recall_plot(y_test.replace(labels_to_numbers), y_pred_proba)"
   ]
  },
  {
   "cell_type": "markdown",
   "id": "a47b837e",
   "metadata": {},
   "source": [
    "## Cross-validataion"
   ]
  },
  {
   "cell_type": "code",
   "execution_count": null,
   "id": "f2801f5c",
   "metadata": {},
   "outputs": [],
   "source": [
    "mlp_hyperparameters = {\n",
    "    'mlp_architecture': [64, 32, 32],\n",
    "    'activation': 'selu',\n",
    "    'optimizer': 'Adam',\n",
    "    'batch_size': 128\n",
    "}\n",
    "run_name = 'mlp'\n",
    "checkpoint_path = 'mlp_best_model.h5'\n",
    "register_model = False\n",
    "goal_function = 'precision'\n",
    "n_outer = 1\n",
    "n_cv = 5\n",
    "development = True\n",
    "y_pred_proba = do_cv_mlp(X, y, run_name, checkpoint_path, n_outer, n_cv, register_model, development, goal_function, \n",
    "                         **mlp_hyperparameters)"
   ]
  },
  {
   "cell_type": "code",
   "execution_count": null,
   "id": "f3b95fd1",
   "metadata": {},
   "outputs": [],
   "source": [
    "precision, recall, average_precision, accuracy, f1, cm = calculate_model_quality_measues(y, y_pred_proba, 0.5)\n",
    "precision, recall, average_precision, accuracy, f1, cm"
   ]
  },
  {
   "cell_type": "code",
   "execution_count": null,
   "id": "d2775bfe",
   "metadata": {},
   "outputs": [],
   "source": [
    "thresholds = [0.05, 0.1, 0.2, 0.3, 0.4, 0.5, 0.6, 0.7, 0.8, 0.9, 0.95]\n",
    "measures = {}\n",
    "for threshold in thresholds:\n",
    "    measures[threshold] = calculate_model_quality_measues(y, y_pred_proba, threshold)\n",
    "measures = pd.DataFrame(measures).T\n",
    "measures.columns = ['precision', 'recall', 'average_precision', 'accuracy', 'f1', 'cm']\n",
    "measures"
   ]
  },
  {
   "cell_type": "code",
   "execution_count": null,
   "id": "7eae8a6b",
   "metadata": {},
   "outputs": [],
   "source": [
    "create_precision_recall_plot(y.replace(labels_to_numbers), y_pred_proba)"
   ]
  },
  {
   "cell_type": "code",
   "execution_count": null,
   "id": "2a0e9b23",
   "metadata": {},
   "outputs": [],
   "source": [
    "from sklearn.preprocessing import Binarizer"
   ]
  },
  {
   "cell_type": "code",
   "execution_count": null,
   "id": "b3b99413",
   "metadata": {},
   "outputs": [],
   "source": [
    "def get_measures_for_given_threshold(y_pred, y_true, threshold=0.5):\n",
    "    br = Binarizer(threshold=threshold)\n",
    "    y_pred_bin = br.transform(y_pred)\n",
    "    p = precision_score(y_true, y_pred_bin)\n",
    "    r = recall_score(y_true, y_pred_bin)\n",
    "    return p, r"
   ]
  },
  {
   "cell_type": "code",
   "execution_count": null,
   "id": "69369a42",
   "metadata": {},
   "outputs": [],
   "source": [
    "d = {'y_true': y.replace(labels_to_numbers).values,\n",
    "     'y_pred': y_pred_proba\n",
    "    }\n",
    "d = pd.DataFrame(d).sort_values(['y_pred'])"
   ]
  },
  {
   "cell_type": "code",
   "execution_count": null,
   "id": "75576256",
   "metadata": {},
   "outputs": [],
   "source": [
    "p, r , t = [], [], []\n",
    "for tt in d['y_pred'].tolist():\n",
    "    pp, rr = get_measures_for_given_threshold(d['y_pred'].values.reshape(-1, 1), \n",
    "                                              d['y_true'].values.reshape(-1, 1), tt)\n",
    "    p.append(pp)\n",
    "    r.append(rr)\n",
    "    t.append(tt)\n",
    "p_r = pd.DataFrame({'threshold': t, 'precision': p, 'recall': r})"
   ]
  },
  {
   "cell_type": "code",
   "execution_count": null,
   "id": "a652a582",
   "metadata": {},
   "outputs": [],
   "source": [
    "fig, ax = plt.subplots()\n",
    "ax.plot(p_r['recall'], p_r['precision'])\n",
    "ax.set(xlabel='recall', ylabel='precision', title='Precision/Recall plot')\n",
    "ax.grid()\n",
    "plt.show()"
   ]
  },
  {
   "cell_type": "code",
   "execution_count": null,
   "id": "a4d49f98",
   "metadata": {},
   "outputs": [],
   "source": [
    "space={'mlp_architecture': hp.choice('mlp_architecture', [[16, 8], [32, 16], [48, 16], [64, 16], [64, 32], [32, 16, 16], [64, 32, 32],\n",
    "                                      [128, 64, 32]]),\n",
    "       'activation': hp.choice('activation', ['relu', 'selu', 'elu', 'tanh']),\n",
    "       'optimizer': hp.choice('optimizer', ['SGD', 'RMSprop', 'Adagrad', 'Adadelta', 'Adam', 'Adamax', 'Nadam']),\n",
    "       'batch_size': hp.choice('batch_size', [16, 32, 48, 64, 96, 128, 256])\n",
    "       }"
   ]
  },
  {
   "cell_type": "code",
   "execution_count": null,
   "id": "1449b4c8",
   "metadata": {},
   "outputs": [],
   "source": [
    "49*4*7"
   ]
  },
  {
   "cell_type": "code",
   "execution_count": null,
   "id": "70f8873a",
   "metadata": {},
   "outputs": [],
   "source": [
    "def objective(space):\n",
    "    register_model = False\n",
    "    goal_function = 'precision'\n",
    "    \n",
    "    mlp_architecture = space['mlp_architecture']\n",
    "    activation = space['activation']\n",
    "    optimizer = space['optimizer']\n",
    "    batch_size = space['batch_size']\n",
    "    \n",
    "    run_name = 'mlp'\n",
    "    checkpoint_path = 'mlp_best_model.h5'\n",
    "    register_model = False\n",
    "    goal_function = 'accuracy'\n",
    "    n_outer = 1\n",
    "    n_cv = 4\n",
    "    development = False\n",
    "    goal_function = do_cv_mlp(X, y, run_name, checkpoint_path, n_outer, n_cv, register_model, development, \n",
    "                              goal_function, \n",
    "                              mlp_architecture=mlp_architecture, activation=activation,\n",
    "                              optimizer=optimizer, batch_size=batch_size)\n",
    "    \n",
    "    return {'loss': -goal_function, 'status': STATUS_OK }"
   ]
  },
  {
   "cell_type": "code",
   "execution_count": null,
   "id": "9d61c37e",
   "metadata": {},
   "outputs": [],
   "source": [
    "trials = Trials()\n",
    "best_hyperparams = fmin(fn=objective, space=space, algo=tpe.suggest, max_evals=50, \n",
    "                        trials=trials, return_argmin=True)"
   ]
  },
  {
   "cell_type": "code",
   "execution_count": null,
   "id": "c8683a45",
   "metadata": {},
   "outputs": [],
   "source": [
    "best_hyperparams"
   ]
  },
  {
   "cell_type": "code",
   "execution_count": null,
   "id": "030e521c",
   "metadata": {},
   "outputs": [],
   "source": []
  }
 ],
 "metadata": {
  "interpreter": {
   "hash": "5e87c21493a1d9d81db9102dd43dec1e70dd68d10ce47ce5722b9446cdc7acf7"
  },
  "kernelspec": {
   "display_name": "Python 3.8.13 ('rorgammaqsar2')",
   "language": "python",
   "name": "python3"
  },
  "language_info": {
   "codemirror_mode": {
    "name": "ipython",
    "version": 3
   },
   "file_extension": ".py",
   "mimetype": "text/x-python",
   "name": "python",
   "nbconvert_exporter": "python",
   "pygments_lexer": "ipython3",
   "version": "3.8.13"
  }
 },
 "nbformat": 4,
 "nbformat_minor": 5
}
